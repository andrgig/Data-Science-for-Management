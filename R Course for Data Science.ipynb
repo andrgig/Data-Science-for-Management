{
 "cells": [
  {
   "cell_type": "markdown",
   "metadata": {},
   "source": [
    "# What this Notebook is about?\n",
    "\n",
    "This Notebook is part of the Data Science for Management course I'm teaching at the University of Firenze (Italy) during 2016/2017 academic year. A companion tutorial for the same course is [Python Course for Data Science](https://github.com/andrgig/Data-Science-for-Management/blob/master/Python%20Course%20for%20Data%20Science.ipynb).\n",
    "\n",
    "For suggestions you can contact me on [Linkedin](https://it.linkedin.com/in/agigli) or [Twitter](https://twitter.com/andrgig).\n",
    "\n",
    "*Andrea Gigli, PhD in Applied Statistics, MSc in Big Data Analytics and Social Mining*\n",
    "\n",
    "---"
   ]
  },
  {
   "cell_type": "markdown",
   "metadata": {},
   "source": [
    "# What is R"
   ]
  },
  {
   "cell_type": "markdown",
   "metadata": {},
   "source": [
    "R is a powerful language and environment for doing Data Science (ie machine learning, information retrieval, statistical analysis, optimization and visualization). It is a public domain project (“GNU”) which is similar to the commercial S language, an environment which was developed at Bell Laboratories (formerly AT&T, now Lucent Technologies). \n",
    "\n",
    "The main advantages of R are the fact that R is freeware and that there is a lot of help available online thanks to a very active community. It is quite similar to other programming packages such as MatLab (not freeware), but more user-friendly than programming languages such as C++ or Java. \n",
    "\n",
    "Along with Python, it is one of the most important tools to know for people working with Data at all levels. \n",
    "\n",
    "R can be downloaded for free at http://www.r-project.org/\n",
    "\n",
    "We'll use extensively RStudio interface, available at http://www.rstudio.org/\n"
   ]
  },
  {
   "cell_type": "markdown",
   "metadata": {},
   "source": [
    "R can do many statistical and data analyses thanks to the so-called packages or libraries build by R users community. With the standard installation, most common packages are installed. To get a list of all installed packages, go to the RStudio packages window or type library() in the console window."
   ]
  },
  {
   "cell_type": "code",
   "execution_count": null,
   "metadata": {
    "collapsed": false
   },
   "outputs": [],
   "source": [
    "library()"
   ]
  },
  {
   "cell_type": "markdown",
   "metadata": {},
   "source": [
    "There are many more packages available on the R website than those you can see. If you want to install and use a package (for example, the package called “geometry”) you should:\n",
    "\n",
    "1) first click \"install packages\" in the packages window and then type geometry, or type install.packages(\"geometry\") in the command window,\n",
    "\n",
    "2) then check the box in front of geometry in the package window or type library(\"geometry\") in the command window."
   ]
  },
  {
   "cell_type": "code",
   "execution_count": null,
   "metadata": {
    "collapsed": false
   },
   "outputs": [],
   "source": [
    "install.packages(\"geometry\",repos = \"http://cran.us.r-project.org\")"
   ]
  },
  {
   "cell_type": "code",
   "execution_count": null,
   "metadata": {
    "collapsed": false
   },
   "outputs": [],
   "source": [
    "library(\"geometry\")"
   ]
  },
  {
   "cell_type": "code",
   "execution_count": null,
   "metadata": {
    "collapsed": false
   },
   "outputs": [],
   "source": [
    "R.Version()"
   ]
  },
  {
   "cell_type": "markdown",
   "metadata": {},
   "source": [
    "It's possible to ask help to R on commands using \"help()\" or \"?\""
   ]
  },
  {
   "cell_type": "code",
   "execution_count": null,
   "metadata": {
    "collapsed": false
   },
   "outputs": [],
   "source": [
    "help(round)\n",
    "?round\n",
    "help.search(\"round\")"
   ]
  },
  {
   "cell_type": "markdown",
   "metadata": {},
   "source": [
    "## Working Directory\n",
    "Your working directory is the folder on your computer in which you are currently working. A working directory is always assumed by R\n",
    "• New files are created by default in this directory\n",
    "• Files to be read are expected by default in this directory\n",
    "• getwd() and setwd() are used to manage the it.\n",
    "When you ask R to open a certain file, it will look in the working directory for this file, and when you tell R to save a data file or figure, it will save it in the working directory.\n",
    "Before you start working, please set your working directory to where all your data and script files are or should be stored. Type in the command window:"
   ]
  },
  {
   "cell_type": "code",
   "execution_count": null,
   "metadata": {
    "collapsed": false
   },
   "outputs": [],
   "source": [
    "setwd(\"directoryname\") #error if the directory doesn't exist"
   ]
  },
  {
   "cell_type": "markdown",
   "metadata": {},
   "source": [
    "If you want to know your working directory type"
   ]
  },
  {
   "cell_type": "code",
   "execution_count": null,
   "metadata": {
    "collapsed": false
   },
   "outputs": [],
   "source": [
    "getwd()"
   ]
  },
  {
   "cell_type": "code",
   "execution_count": null,
   "metadata": {
    "collapsed": false
   },
   "outputs": [],
   "source": [
    "setwd(\"../../data/\")# up to level, then enter data folder, error expected\n"
   ]
  },
  {
   "cell_type": "code",
   "execution_count": null,
   "metadata": {
    "collapsed": true
   },
   "outputs": [],
   "source": [
    "setwd(\"data/\") #enter data folder"
   ]
  },
  {
   "cell_type": "code",
   "execution_count": null,
   "metadata": {
    "collapsed": false
   },
   "outputs": [],
   "source": [
    "dir() # elenca files/cartelle"
   ]
  },
  {
   "cell_type": "code",
   "execution_count": null,
   "metadata": {
    "collapsed": false
   },
   "outputs": [],
   "source": [
    "dir.create(\"my_scripts\")# create folder\n",
    "setwd(\"my_scripts\") # enter folder"
   ]
  },
  {
   "cell_type": "code",
   "execution_count": null,
   "metadata": {
    "collapsed": false
   },
   "outputs": [],
   "source": [
    "source(\"script.R\")\n"
   ]
  },
  {
   "cell_type": "markdown",
   "metadata": {},
   "source": [
    "source(\"script.R\") run the R code in \"script.R\" \n",
    "\n",
    "Questo vi consente di:\n",
    "\n",
    "- spezzare un programma in moduli (script) separati, da eseguire richiamandoli sequenzialmente;\n",
    "\n",
    "- collocare una funzione che usate ripetutamente in uno script-libreria personale, da caricare all’occorrenza.\n",
    "\n",
    "Esempio: inizio di un mio “main script”:\n",
    "\n",
    "source(\"00_Load_Parameters.R\")\n",
    "\n",
    "source(\"00_Read_Data.R\")\n",
    "\n",
    "source(\"libUtils.R\")"
   ]
  },
  {
   "cell_type": "markdown",
   "metadata": {},
   "source": [
    "## Managing the Workspace\n"
   ]
  },
  {
   "cell_type": "code",
   "execution_count": null,
   "metadata": {
    "collapsed": false
   },
   "outputs": [],
   "source": [
    "ls() #To list what variables you have created in the current session"
   ]
  },
  {
   "cell_type": "code",
   "execution_count": null,
   "metadata": {
    "collapsed": false
   },
   "outputs": [],
   "source": [
    "search() #To see what libraries and dataframes are loade"
   ]
  },
  {
   "cell_type": "code",
   "execution_count": null,
   "metadata": {
    "collapsed": false
   },
   "outputs": [],
   "source": [
    "library() #To see what libraries have been installed"
   ]
  },
  {
   "cell_type": "markdown",
   "metadata": {},
   "source": [
    "To remove all variables from R’s memory, click “clear all” in the workspace window or type"
   ]
  },
  {
   "cell_type": "code",
   "execution_count": null,
   "metadata": {
    "collapsed": false
   },
   "outputs": [],
   "source": [
    "rm(list=ls()) # To remove all objects\n",
    "ls()"
   ]
  },
  {
   "cell_type": "markdown",
   "metadata": {},
   "source": [
    " If you only want to remove the variable a, you can type\n",
    " \n",
    " `rm(variable_name)`"
   ]
  },
  {
   "cell_type": "code",
   "execution_count": null,
   "metadata": {
    "collapsed": false
   },
   "outputs": [],
   "source": [
    "a <- 5\n",
    "b <- a\n",
    "ls()"
   ]
  },
  {
   "cell_type": "code",
   "execution_count": null,
   "metadata": {
    "collapsed": false
   },
   "outputs": [],
   "source": [
    "rm(a)\n",
    "ls()"
   ]
  },
  {
   "cell_type": "markdown",
   "metadata": {},
   "source": [
    "## R as a calculator\n",
    "You can use R as a calculator and do both basic mathematical operations..."
   ]
  },
  {
   "cell_type": "code",
   "execution_count": null,
   "metadata": {
    "collapsed": false
   },
   "outputs": [],
   "source": [
    "2+2"
   ]
  },
  {
   "cell_type": "code",
   "execution_count": null,
   "metadata": {
    "collapsed": false
   },
   "outputs": [],
   "source": [
    "4-5"
   ]
  },
  {
   "cell_type": "code",
   "execution_count": null,
   "metadata": {
    "collapsed": false
   },
   "outputs": [],
   "source": [
    "4/5"
   ]
  },
  {
   "cell_type": "code",
   "execution_count": null,
   "metadata": {
    "collapsed": false
   },
   "outputs": [],
   "source": [
    "8*9"
   ]
  },
  {
   "cell_type": "code",
   "execution_count": null,
   "metadata": {
    "collapsed": false
   },
   "outputs": [],
   "source": [
    "8^2"
   ]
  },
  {
   "cell_type": "code",
   "execution_count": null,
   "metadata": {
    "collapsed": false
   },
   "outputs": [],
   "source": [
    "exp(2)"
   ]
  },
  {
   "cell_type": "code",
   "execution_count": null,
   "metadata": {
    "collapsed": false
   },
   "outputs": [],
   "source": [
    "log(exp(2))"
   ]
  },
  {
   "cell_type": "code",
   "execution_count": null,
   "metadata": {
    "collapsed": false
   },
   "outputs": [],
   "source": [
    "5%%2"
   ]
  },
  {
   "cell_type": "code",
   "execution_count": null,
   "metadata": {
    "collapsed": false,
    "scrolled": true
   },
   "outputs": [],
   "source": [
    "5%/%2"
   ]
  },
  {
   "cell_type": "markdown",
   "metadata": {},
   "source": [
    "... or more complex ones"
   ]
  },
  {
   "cell_type": "code",
   "execution_count": null,
   "metadata": {
    "collapsed": false
   },
   "outputs": [],
   "source": [
    "log((54*3+2)^2)/4"
   ]
  },
  {
   "cell_type": "markdown",
   "metadata": {},
   "source": [
    "# Variables \n",
    "You can create also variables in R and use them later in your scripts. The sign \"<-\" is used to assign a value to a variable. Variable types are\n",
    "\n",
    "- Numeric\n",
    "- Logical\n",
    "- Character\n",
    "- Missing Data\n",
    "- Factor\n",
    "- Dates\n",
    "\n",
    "\n",
    "## Numeric, Boolean, Character"
   ]
  },
  {
   "cell_type": "code",
   "execution_count": null,
   "metadata": {
    "collapsed": true
   },
   "outputs": [],
   "source": [
    "#numeric variable\n",
    "x <- 10"
   ]
  },
  {
   "cell_type": "markdown",
   "metadata": {},
   "source": [
    "Afterwards, no result is displayed. To view the content of the variable just call the variable"
   ]
  },
  {
   "cell_type": "code",
   "execution_count": null,
   "metadata": {
    "collapsed": false,
    "scrolled": false
   },
   "outputs": [],
   "source": [
    "x"
   ]
  },
  {
   "cell_type": "markdown",
   "metadata": {},
   "source": [
    "You can also write the assignement operation in brackets"
   ]
  },
  {
   "cell_type": "code",
   "execution_count": null,
   "metadata": {
    "collapsed": false,
    "scrolled": true
   },
   "outputs": [],
   "source": [
    "(x <- 20)"
   ]
  },
  {
   "cell_type": "code",
   "execution_count": null,
   "metadata": {
    "collapsed": false
   },
   "outputs": [],
   "source": [
    "y <- x + 10\n",
    "z <- x^(3/4) -pi*y\n",
    "z"
   ]
  },
  {
   "cell_type": "code",
   "execution_count": null,
   "metadata": {
    "collapsed": false
   },
   "outputs": [],
   "source": [
    "# boolean variable\n",
    "z > 0"
   ]
  },
  {
   "cell_type": "code",
   "execution_count": null,
   "metadata": {
    "collapsed": false
   },
   "outputs": [],
   "source": [
    "!(z > 0)"
   ]
  },
  {
   "cell_type": "code",
   "execution_count": null,
   "metadata": {
    "collapsed": false
   },
   "outputs": [],
   "source": [
    "#string variable\n",
    "string <- \"pippo\"\n",
    "string"
   ]
  },
  {
   "cell_type": "code",
   "execution_count": null,
   "metadata": {
    "collapsed": false
   },
   "outputs": [],
   "source": [
    "boolean <- TRUE\n",
    "boolean"
   ]
  },
  {
   "cell_type": "markdown",
   "metadata": {},
   "source": [
    "## Missing Variable (and Inf)"
   ]
  },
  {
   "cell_type": "markdown",
   "metadata": {},
   "source": [
    "**\"Inf\" and \"NaN\"** stand for Infinite Number and Missing data: "
   ]
  },
  {
   "cell_type": "code",
   "execution_count": null,
   "metadata": {
    "collapsed": false
   },
   "outputs": [],
   "source": [
    "1/0"
   ]
  },
  {
   "cell_type": "code",
   "execution_count": null,
   "metadata": {
    "collapsed": false
   },
   "outputs": [],
   "source": [
    "0/0"
   ]
  },
  {
   "cell_type": "code",
   "execution_count": null,
   "metadata": {
    "collapsed": false
   },
   "outputs": [],
   "source": [
    "10*1/0"
   ]
  },
  {
   "cell_type": "code",
   "execution_count": null,
   "metadata": {
    "collapsed": false
   },
   "outputs": [],
   "source": [
    "10*0/0"
   ]
  },
  {
   "cell_type": "markdown",
   "metadata": {},
   "source": [
    "is.na() can be used to test if a variable has missing value"
   ]
  },
  {
   "cell_type": "code",
   "execution_count": null,
   "metadata": {
    "collapsed": false
   },
   "outputs": [],
   "source": [
    "is.na(0/0)"
   ]
  },
  {
   "cell_type": "markdown",
   "metadata": {},
   "source": [
    "## Factor Variables\n",
    "A factor is a vector that can contain only predefined values, and is used to store categorical data. A factor variable can have ordered or unordered levels. Use the function factor to create a factor variable\n",
    "\n",
    "Factors are built on top of integer vectors using two attributes: the class(), “factor”, which makes them behave differently from regular integer vectors, and the levels(), which defines the set of allowed values."
   ]
  },
  {
   "cell_type": "code",
   "execution_count": null,
   "metadata": {
    "collapsed": false,
    "scrolled": false
   },
   "outputs": [],
   "source": [
    "x <- c(\"female\",\"male\",\"male\",\"female\", \"female\")\n",
    "x"
   ]
  },
  {
   "cell_type": "code",
   "execution_count": null,
   "metadata": {
    "collapsed": false
   },
   "outputs": [],
   "source": [
    "class(x)"
   ]
  },
  {
   "cell_type": "code",
   "execution_count": null,
   "metadata": {
    "collapsed": false,
    "scrolled": true
   },
   "outputs": [],
   "source": [
    "f <- factor(x)\n",
    "f\n",
    "class(f)"
   ]
  },
  {
   "cell_type": "code",
   "execution_count": null,
   "metadata": {
    "collapsed": false,
    "scrolled": true
   },
   "outputs": [],
   "source": [
    "levels(f)\n",
    "as.numeric(f)"
   ]
  },
  {
   "cell_type": "code",
   "execution_count": null,
   "metadata": {
    "collapsed": false
   },
   "outputs": [],
   "source": [
    "table(f)"
   ]
  },
  {
   "cell_type": "code",
   "execution_count": null,
   "metadata": {
    "collapsed": false
   },
   "outputs": [],
   "source": [
    "levels(f) #Retrieve or set the levels of x\n",
    "nlevels(f) #Return the number of levels of x"
   ]
  },
  {
   "cell_type": "markdown",
   "metadata": {},
   "source": [
    "`relevel(f, ref)` #Levels of x are reordered so that the level specified by ref is first\n",
    "\n",
    "`reorder()` #Reorders levels based on the values of a second variable\n",
    "\n",
    "`gl()` #Generate factors by specifying the pattern of their levels"
   ]
  },
  {
   "cell_type": "code",
   "execution_count": null,
   "metadata": {
    "collapsed": false
   },
   "outputs": [],
   "source": [
    "# Generate factor levels for 3 treatments and 2 cases per treatment\n",
    "f2 <- gl(3, 2, labels=paste(\"trt\",1:3, sep=\".\"))\n",
    "f2\n",
    "levels(f2)\n",
    "nlevels(f2)"
   ]
  },
  {
   "cell_type": "markdown",
   "metadata": {},
   "source": [
    "`cut(x, breaks)` #Divides the range of x into intervals (factors) determined by breaks"
   ]
  },
  {
   "cell_type": "code",
   "execution_count": null,
   "metadata": {
    "collapsed": false
   },
   "outputs": [],
   "source": [
    "set.seed(123)\n",
    "x <- runif(10)\n",
    "x\n",
    "x <- cut(x, 3) # Cut x into three intervals\n",
    "x"
   ]
  },
  {
   "cell_type": "code",
   "execution_count": null,
   "metadata": {
    "collapsed": false
   },
   "outputs": [],
   "source": [
    "set.seed(123)\n",
    "x <- runif(10)\n",
    "x\n",
    "x <- cut(x, c(0,.25,.5,.75,1)) # Cut x at the given cut points\n",
    "x"
   ]
  },
  {
   "cell_type": "markdown",
   "metadata": {},
   "source": [
    "## Dates and Time\n",
    "\n",
    "The as.Date function is a built-in function able to handle dates (without time, without control zone). The chron library handles dates and times (without control zones). POSIXct and POSIXlt classes allow for dates and times with control for time zones.\n",
    "\n",
    "### as.Date\n",
    "\n",
    "The as.Date function allows a variety of input formats through the format = argument. The default format is a four digit year, followed by a month, then a day, separated by either dashes or slashes\n"
   ]
  },
  {
   "cell_type": "code",
   "execution_count": null,
   "metadata": {
    "collapsed": false
   },
   "outputs": [],
   "source": [
    "as.Date('1915-6-16')"
   ]
  },
  {
   "cell_type": "markdown",
   "metadata": {},
   "source": [
    "| Code | Value         \n",
    "| :- |:-------------\n",
    "| %d | Day of the month (decimal) \n",
    "| %m | Month (decimal)\n",
    "| %b | Month (abbreviated name)\n",
    "| %B | Month (full name)\n",
    "| %y | Year (2 digits)\n",
    "| %Y | Year (4 digits)\n",
    "\n"
   ]
  },
  {
   "cell_type": "code",
   "execution_count": null,
   "metadata": {
    "collapsed": false
   },
   "outputs": [],
   "source": [
    "as.Date('01/15/2001',format='%m/%d/%Y')"
   ]
  },
  {
   "cell_type": "code",
   "execution_count": null,
   "metadata": {
    "collapsed": false
   },
   "outputs": [],
   "source": [
    " as.Date('April 26, 2001',format='%B %d, %Y')"
   ]
  },
  {
   "cell_type": "markdown",
   "metadata": {},
   "source": [
    "**Internally, Date objects are stored as the number of days since January 1, 1970**, using negative numbers for earlier dates. The as.numeric function can be used to convert a Date object to its internal form.\n",
    "\n",
    "To extract the components of the dates, the weekdays, months, days or quarters functions can be used."
   ]
  },
  {
   "cell_type": "code",
   "execution_count": null,
   "metadata": {
    "collapsed": false
   },
   "outputs": [],
   "source": [
    "bdays = c(tukey=as.Date('1915-06-16'),fisher=as.Date('1890-02-17'),\n",
    "          cramer=as.Date('1893-09-25'), kendall=as.Date('1907-09-06'))\n",
    "weekdays(bdays)\n",
    "months(bdays)"
   ]
  },
  {
   "cell_type": "markdown",
   "metadata": {},
   "source": [
    "### chron\n",
    "This class is a good option when you don’t need to deal with timezones. It requires the package chron."
   ]
  },
  {
   "cell_type": "code",
   "execution_count": null,
   "metadata": {
    "collapsed": false
   },
   "outputs": [],
   "source": [
    "require(chron)"
   ]
  },
  {
   "cell_type": "code",
   "execution_count": null,
   "metadata": {
    "collapsed": false
   },
   "outputs": [],
   "source": [
    "#create some times:\n",
    "\n",
    "tm1.c <- as.chron(\"2013-07-24 23:55:26\")\n",
    "tm1.c"
   ]
  },
  {
   "cell_type": "code",
   "execution_count": null,
   "metadata": {
    "collapsed": false
   },
   "outputs": [],
   "source": [
    "attributes(tm1.c)"
   ]
  },
  {
   "cell_type": "code",
   "execution_count": null,
   "metadata": {
    "collapsed": false
   },
   "outputs": [],
   "source": [
    "tm2.c <- as.chron(\"07/25/13 08:32:07\", \"%m/%d/%y %H:%M:%S\")\n",
    "tm2.c"
   ]
  },
  {
   "cell_type": "code",
   "execution_count": null,
   "metadata": {
    "collapsed": false
   },
   "outputs": [],
   "source": [
    "#extract just the date:\n",
    "\n",
    "dates(tm1.c)"
   ]
  },
  {
   "cell_type": "code",
   "execution_count": null,
   "metadata": {
    "collapsed": false
   },
   "outputs": [],
   "source": [
    "#compare times:\n",
    "\n",
    "tm2.c > tm1.c"
   ]
  },
  {
   "cell_type": "code",
   "execution_count": null,
   "metadata": {
    "collapsed": false
   },
   "outputs": [],
   "source": [
    "#add days:\n",
    "\n",
    "tm1.c + 10\n"
   ]
  },
  {
   "cell_type": "code",
   "execution_count": null,
   "metadata": {
    "collapsed": false
   },
   "outputs": [],
   "source": [
    "#calculate the differene between times:\n",
    "tm2.c - tm1.c"
   ]
  },
  {
   "cell_type": "code",
   "execution_count": null,
   "metadata": {
    "collapsed": false
   },
   "outputs": [],
   "source": [
    "difftime(tm2.c, tm1.c, units = \"hours\")\n",
    "## Time difference of 8.611 hours"
   ]
  },
  {
   "cell_type": "code",
   "execution_count": null,
   "metadata": {
    "collapsed": false
   },
   "outputs": [],
   "source": [
    "#does not adjust for daylight savings time:\n",
    "\n",
    "as.chron(\"2013-03-10 08:32:07\") - as.chron(\"2013-03-09 23:55:26\")\n"
   ]
  },
  {
   "cell_type": "markdown",
   "metadata": {},
   "source": [
    "### POSIXct\n",
    "This class enables easy extraction of specific componants of a time. (“ct” stand for calender time and “lt” stands for local time. “lt” also helps one remember that POXIXlt objects are lists.)"
   ]
  },
  {
   "cell_type": "code",
   "execution_count": null,
   "metadata": {
    "collapsed": false
   },
   "outputs": [],
   "source": [
    "#Get the current time (in POSIXct by default):\n",
    "\n",
    "Sys.time()"
   ]
  },
  {
   "cell_type": "code",
   "execution_count": null,
   "metadata": {
    "collapsed": false
   },
   "outputs": [],
   "source": [
    "#create some POSIXct objects:\n",
    "\n",
    "tm1 <- as.POSIXct(\"2013-07-24 23:55:26\")\n",
    "tm1"
   ]
  },
  {
   "cell_type": "code",
   "execution_count": null,
   "metadata": {
    "collapsed": false
   },
   "outputs": [],
   "source": [
    "attributes(tm1)"
   ]
  },
  {
   "cell_type": "code",
   "execution_count": null,
   "metadata": {
    "collapsed": false
   },
   "outputs": [],
   "source": [
    "tm2 <- as.POSIXct(\"25072013 08:32:07\", format = \"%d%m%Y %H:%M:%S\")\n",
    "tm2"
   ]
  },
  {
   "cell_type": "code",
   "execution_count": null,
   "metadata": {
    "collapsed": false
   },
   "outputs": [],
   "source": [
    "#specify the time zone:\n",
    "\n",
    "tm3 <- as.POSIXct(\"2010-12-01 11:42:03\", tz = \"GMT\")\n",
    "tm3"
   ]
  },
  {
   "cell_type": "code",
   "execution_count": null,
   "metadata": {
    "collapsed": false
   },
   "outputs": [],
   "source": [
    "tm2 > tm1"
   ]
  },
  {
   "cell_type": "code",
   "execution_count": null,
   "metadata": {
    "collapsed": false
   },
   "outputs": [],
   "source": [
    "tm2 - tm1"
   ]
  },
  {
   "cell_type": "code",
   "execution_count": null,
   "metadata": {
    "collapsed": false
   },
   "outputs": [],
   "source": [
    "tm1\n",
    "tm1 + 30"
   ]
  },
  {
   "cell_type": "code",
   "execution_count": null,
   "metadata": {
    "collapsed": false
   },
   "outputs": [],
   "source": [
    "#automatically adjusts for daylight savings time:\n",
    "\n",
    "as.POSIXct(\"2013-03-10 08:32:07\") - as.POSIXct(\"2013-03-09 23:55:26\")"
   ]
  },
  {
   "cell_type": "markdown",
   "metadata": {},
   "source": [
    "### POSIXlt\n",
    "This class enables easy extraction of specific componants of a time. (“ct” stand for calender time and “lt” stands for local time. “lt” also helps one remember that POXIXlt objects are lists.)"
   ]
  },
  {
   "cell_type": "code",
   "execution_count": null,
   "metadata": {
    "collapsed": false
   },
   "outputs": [],
   "source": [
    "#create a time:\n",
    "\n",
    "tm1.lt <- as.POSIXlt(\"2013-07-24 23:55:26\")\n",
    "tm1.lt\n"
   ]
  },
  {
   "cell_type": "code",
   "execution_count": null,
   "metadata": {
    "collapsed": false
   },
   "outputs": [],
   "source": [
    "attributes(tm1.lt)"
   ]
  },
  {
   "cell_type": "code",
   "execution_count": null,
   "metadata": {
    "collapsed": false
   },
   "outputs": [],
   "source": [
    "unclass(tm1.lt)"
   ]
  },
  {
   "cell_type": "code",
   "execution_count": null,
   "metadata": {
    "collapsed": false
   },
   "outputs": [],
   "source": [
    "unlist(tm1.lt)"
   ]
  },
  {
   "cell_type": "code",
   "execution_count": null,
   "metadata": {
    "collapsed": false
   },
   "outputs": [],
   "source": [
    "#extract componants of a time object:\n",
    "\n",
    "tm1.lt$se"
   ]
  },
  {
   "cell_type": "code",
   "execution_count": null,
   "metadata": {
    "collapsed": false
   },
   "outputs": [],
   "source": [
    "#truncate or round off the time:\n",
    "\n",
    "trunc(tm1.lt, \"days\")\n"
   ]
  },
  {
   "cell_type": "code",
   "execution_count": null,
   "metadata": {
    "collapsed": false
   },
   "outputs": [],
   "source": [
    "trunc(tm1.lt, \"mins\")"
   ]
  },
  {
   "cell_type": "markdown",
   "metadata": {},
   "source": [
    "## Testing and Coercing Objects\n",
    "\n",
    "All objects in R have a type. We can test the type of an object using a `is.`*type*`()` function.\n",
    "\n",
    "We can also attempt to coerce objects of one type to another using a `as.`*type*`()` function.\n",
    "\n",
    "**Automatic conversions**:\n",
    "\n",
    "- Logical values are converted to numbers by setting FALSE as 0 and TRUE as 1\n",
    "\n",
    "- Logical, numeric, factor and date types are converted to characters by converting each element/level individually\n",
    "\n",
    "**Some general rules for coercion**:\n",
    "\n",
    "- Numeric values are coerced to logical by treating all non-zero values as TRUE\n",
    "\n",
    "- Numeric characters can be coerced to numbers, but non-numeric characters cannot\n",
    "\n",
    "- Factor levels can be coerced to numeric and numbers can be coerced to factors with a level for each unique number\n",
    "\n",
    "- Vectors, matrices and arrays are coerced to lists by making each element a vector of length 1\n",
    "\n",
    "- Vectors, matrices, arrays can also be coerced from one form to another 43 of \n",
    "\n",
    "| Type | Testing | Coercing\n",
    "| :- | :- | | :----\n",
    "| Array |  is.array() | as.array()\n",
    "| Character | is.character() | as.character()\n",
    "| Dataframe | is.data.frame() | as.data.frame()\n",
    "| Factor | is.factor() | as.factor()\n",
    "| List | is.list() | as.list()\n",
    "| Logical | is.logical() | as.logical()\n",
    "| Matrix | is.matrix() | as.matrix()\n",
    "| Numeric | is.numeric() | as.numeric()\n",
    "| Vector | is.vector() | as.vector()"
   ]
  },
  {
   "cell_type": "code",
   "execution_count": null,
   "metadata": {
    "collapsed": true
   },
   "outputs": [],
   "source": [
    " x <- 1:10"
   ]
  },
  {
   "cell_type": "code",
   "execution_count": null,
   "metadata": {
    "collapsed": false
   },
   "outputs": [],
   "source": [
    "typeof(x)"
   ]
  },
  {
   "cell_type": "code",
   "execution_count": null,
   "metadata": {
    "collapsed": false
   },
   "outputs": [],
   "source": [
    "x>5"
   ]
  },
  {
   "cell_type": "code",
   "execution_count": null,
   "metadata": {
    "collapsed": false
   },
   "outputs": [],
   "source": [
    "sum(x>5) # Automatic conversion to numeric vector"
   ]
  },
  {
   "cell_type": "code",
   "execution_count": null,
   "metadata": {
    "collapsed": false
   },
   "outputs": [],
   "source": [
    "is.vector(x)"
   ]
  },
  {
   "cell_type": "code",
   "execution_count": null,
   "metadata": {
    "collapsed": false
   },
   "outputs": [],
   "source": [
    "is.numeric(x)"
   ]
  },
  {
   "cell_type": "code",
   "execution_count": null,
   "metadata": {
    "collapsed": false
   },
   "outputs": [],
   "source": [
    "as.list(x)"
   ]
  },
  {
   "cell_type": "code",
   "execution_count": null,
   "metadata": {
    "collapsed": false,
    "scrolled": true
   },
   "outputs": [],
   "source": [
    "mystring <- \"123\"\n",
    "typeof(mystring)"
   ]
  },
  {
   "cell_type": "code",
   "execution_count": null,
   "metadata": {
    "collapsed": false
   },
   "outputs": [],
   "source": [
    "as.numeric(mystring)"
   ]
  },
  {
   "cell_type": "code",
   "execution_count": null,
   "metadata": {
    "collapsed": false
   },
   "outputs": [],
   "source": [
    "mybool <- TRUE"
   ]
  },
  {
   "cell_type": "code",
   "execution_count": null,
   "metadata": {
    "collapsed": false
   },
   "outputs": [],
   "source": [
    "typeof(mybool)"
   ]
  },
  {
   "cell_type": "code",
   "execution_count": null,
   "metadata": {
    "collapsed": false
   },
   "outputs": [],
   "source": [
    "mybool <- as.numeric(mybool)\n",
    "typeof(mybool)"
   ]
  },
  {
   "cell_type": "markdown",
   "metadata": {},
   "source": [
    "# Data Structures\n",
    "\n",
    "- Vectors\n",
    "- Lists\n",
    "- Arrays\n",
    "- Matrices\n",
    "- Dataframes\n",
    "\n",
    "## Vectors\n",
    "Vector is the basic data structure in R and it is an **ordered collection of objects of the same type**. It can be atomic vector (all elements are the same type) or list (element can have different type).\n"
   ]
  },
  {
   "cell_type": "code",
   "execution_count": null,
   "metadata": {
    "collapsed": true
   },
   "outputs": [],
   "source": [
    "#combine objects into an atomic vector\n",
    "y <- c(1,2,3)"
   ]
  },
  {
   "cell_type": "code",
   "execution_count": null,
   "metadata": {
    "collapsed": false,
    "scrolled": true
   },
   "outputs": [],
   "source": [
    "y"
   ]
  },
  {
   "cell_type": "code",
   "execution_count": null,
   "metadata": {
    "collapsed": true
   },
   "outputs": [],
   "source": [
    "string <- \"pippo\"\n",
    "strings <- c(string, \"pluto\")"
   ]
  },
  {
   "cell_type": "code",
   "execution_count": null,
   "metadata": {
    "collapsed": false
   },
   "outputs": [],
   "source": [
    "strings"
   ]
  },
  {
   "cell_type": "markdown",
   "metadata": {},
   "source": [
    "Atomic vectors are always flat"
   ]
  },
  {
   "cell_type": "code",
   "execution_count": null,
   "metadata": {
    "collapsed": false,
    "scrolled": true
   },
   "outputs": [],
   "source": [
    "c(1,c(2, c(3,4)))"
   ]
  },
  {
   "cell_type": "code",
   "execution_count": null,
   "metadata": {
    "collapsed": false
   },
   "outputs": [],
   "source": [
    "v <- vector(10, mode=\"numeric\"); v #initializa a vector of numerics"
   ]
  },
  {
   "cell_type": "markdown",
   "metadata": {},
   "source": [
    "Vectors can be created via ad'hoc buil-in functions. A very useful function is seq()"
   ]
  },
  {
   "cell_type": "code",
   "execution_count": null,
   "metadata": {
    "collapsed": false
   },
   "outputs": [],
   "source": [
    "seq(from = 1, to = 10, by = 3)"
   ]
  },
  {
   "cell_type": "code",
   "execution_count": null,
   "metadata": {
    "collapsed": false
   },
   "outputs": [],
   "source": [
    "v <- seq(-1,1,0.20)\n",
    "v"
   ]
  },
  {
   "cell_type": "markdown",
   "metadata": {},
   "source": [
    "Vector elements can be accessed (or referenced) in several ways"
   ]
  },
  {
   "cell_type": "code",
   "execution_count": null,
   "metadata": {
    "collapsed": false
   },
   "outputs": [],
   "source": [
    "v[1]"
   ]
  },
  {
   "cell_type": "code",
   "execution_count": null,
   "metadata": {
    "collapsed": false
   },
   "outputs": [],
   "source": [
    "v[1:3]"
   ]
  },
  {
   "cell_type": "code",
   "execution_count": null,
   "metadata": {
    "collapsed": false
   },
   "outputs": [],
   "source": [
    "v[c(1:2,6:8,11)]"
   ]
  },
  {
   "cell_type": "markdown",
   "metadata": {},
   "source": [
    "**Be aware R doesn't work like Python**... If you type v[-1] you get the vector without the first elemnt and not the last element of the vector"
   ]
  },
  {
   "cell_type": "code",
   "execution_count": null,
   "metadata": {
    "collapsed": false
   },
   "outputs": [],
   "source": [
    "v[-1]"
   ]
  },
  {
   "cell_type": "markdown",
   "metadata": {},
   "source": [
    "Here are some useful built-in functions you can apply to a vector"
   ]
  },
  {
   "cell_type": "code",
   "execution_count": null,
   "metadata": {
    "collapsed": false
   },
   "outputs": [],
   "source": [
    "length(v) #lunghezza (numero elementi) del vettore v\n",
    "min(v) #minimo degli elementi in v\n",
    "max(v) #massimo degli elementi in v\n",
    "sum(v) #sommatoria degli elementi in v\n",
    "prod(v) #produttoria degli elementi in v\n",
    "sort(v) #ritorna vettore con elementi di v riordinati\n",
    "head(v,5)  #n valori di testa del vettore v\n",
    "tail(v,5) #n valori di coda del vettore v"
   ]
  },
  {
   "cell_type": "markdown",
   "metadata": {},
   "source": [
    "Additional functions that will return the indices of a vector\n",
    "\n",
    "`which()` Indices of a logical vector where the condition is TRUE\n",
    "\n",
    "`which.max()` Location of the (first) maximum element of a numeric vector\n",
    "\n",
    "`which.min()` Location of the (first) minimum element of a numeric vector\n",
    "\n",
    "`match()` First position of an element in a vector"
   ]
  },
  {
   "cell_type": "code",
   "execution_count": null,
   "metadata": {
    "collapsed": false
   },
   "outputs": [],
   "source": [
    "tbd"
   ]
  },
  {
   "cell_type": "markdown",
   "metadata": {},
   "source": [
    "## Lists\n",
    "\n",
    "Lists are another very useful data structure in R. They are different wrt Vectors because **a list can hold different data types and elements having different dimensions**."
   ]
  },
  {
   "cell_type": "code",
   "execution_count": null,
   "metadata": {
    "collapsed": false,
    "scrolled": true
   },
   "outputs": [],
   "source": [
    "#list\n",
    "x <- list(1:3, \"a\", c(TRUE, FALSE, TRUE), c(2.3, 5.9))\n",
    "x"
   ]
  },
  {
   "cell_type": "code",
   "execution_count": null,
   "metadata": {
    "collapsed": false,
    "scrolled": true
   },
   "outputs": [],
   "source": [
    "x[[4]]\n",
    "typeof(x[[4]])"
   ]
  },
  {
   "cell_type": "code",
   "execution_count": null,
   "metadata": {
    "collapsed": false
   },
   "outputs": [],
   "source": [
    "x[4]\n",
    "typeof(x[4])"
   ]
  },
  {
   "cell_type": "code",
   "execution_count": null,
   "metadata": {
    "collapsed": false,
    "scrolled": true
   },
   "outputs": [],
   "source": [
    "x[[4]][2]\n",
    "typeof(x[[4]][2])"
   ]
  },
  {
   "cell_type": "code",
   "execution_count": null,
   "metadata": {
    "collapsed": false,
    "scrolled": true
   },
   "outputs": [],
   "source": [
    "x[2:4]"
   ]
  },
  {
   "cell_type": "code",
   "execution_count": null,
   "metadata": {
    "collapsed": false
   },
   "outputs": [],
   "source": [
    "L <- list(name = \"Andrea\", height = 190.0, married = TRUE, number.children = 0, email = \"andrgig@me.com\")\n",
    "names(L)"
   ]
  },
  {
   "cell_type": "code",
   "execution_count": null,
   "metadata": {
    "collapsed": false
   },
   "outputs": [],
   "source": [
    "L[[1]] ; L[[5]]\n",
    "L$married\n",
    "L$number.children "
   ]
  },
  {
   "cell_type": "code",
   "execution_count": null,
   "metadata": {
    "collapsed": false
   },
   "outputs": [],
   "source": [
    "L$number.children <- 1\n",
    "L\n"
   ]
  },
  {
   "cell_type": "code",
   "execution_count": null,
   "metadata": {
    "collapsed": false
   },
   "outputs": [],
   "source": [
    "L<-append(L,list(children.name=c(\"Arianna\")))\n",
    "L"
   ]
  },
  {
   "cell_type": "code",
   "execution_count": null,
   "metadata": {
    "collapsed": false
   },
   "outputs": [],
   "source": [
    "#lists\n",
    "l <- list()\n",
    "l[10] <- \"pippo\"\n",
    "l[1] <- 1\n",
    "l <- append(l, \"pluto\")\n",
    "l <- c(l, c(1, 2, 3))\n",
    "l"
   ]
  },
  {
   "cell_type": "markdown",
   "metadata": {},
   "source": [
    "Here are some useful functions"
   ]
  },
  {
   "cell_type": "markdown",
   "metadata": {},
   "source": [
    "`lapply()` # Apply a function to each element of a list, returns a list\n",
    "\n",
    "`sapply()` # Same as lapply(), but returns a vector or matrix by default\n",
    "\n",
    "`vapply()` # Similiar to sapply(), but has a pre-specified type of return value\n",
    "\n",
    "`replicate()` # Repeated evaluation of an expression, useful for replicating lists\n",
    "\n",
    "`unlist(x)` # Produce a vector of all the components that occur in x\n",
    "\n",
    "`length(x)` # Number of objects in x\n",
    "\n",
    "`names(x)` # Names of the objects in x"
   ]
  },
  {
   "cell_type": "code",
   "execution_count": null,
   "metadata": {
    "collapsed": false
   },
   "outputs": [],
   "source": [
    "#List of seven different vectors\n",
    "L <- lapply(3:9, seq)\n",
    "L"
   ]
  },
  {
   "cell_type": "code",
   "execution_count": null,
   "metadata": {
    "collapsed": false
   },
   "outputs": [],
   "source": [
    "lapply(L, fivenum) # fivenum returns minimum, lower-hinge, median, upper-hinge, maximum for input data"
   ]
  },
  {
   "cell_type": "code",
   "execution_count": null,
   "metadata": {
    "collapsed": false
   },
   "outputs": [],
   "source": [
    "sapply(L, fivenum) #return a matrix"
   ]
  },
  {
   "cell_type": "code",
   "execution_count": null,
   "metadata": {
    "collapsed": false
   },
   "outputs": [],
   "source": [
    "vapply(L, fivenum, c(Min.=0, \"1st Quart\"=0, Median=0, \"3rd Qu\"=0, Max.=0))"
   ]
  },
  {
   "cell_type": "markdown",
   "metadata": {},
   "source": [
    "## Matrices \n",
    "\n",
    "A matrix is just a **two-dimensional generalization of a vector**\n",
    "\n",
    "To create a matrix,\n",
    "\n",
    "`matrix(data=NA, nrow=1, ncol=1, byrow = FALSE, dimnames = NULL)`\n",
    "\n",
    "`data` -> a vector that gives data to fill the matrix; if data does not have enough elements to fill the matrix, then the elements are recycled.\n",
    "\n",
    "`nrow` -> desired number of rows\n",
    "\n",
    "`ncol` -> desired number of columns\n",
    "\n",
    "`byrow` -> if FALSE (default) matrix is filled by columns, otherwise by rows\n",
    "\n",
    "`dimnames` (optional) -> list of length 2 giving the row and column names respectively, list names will be used as names for the dimensions"
   ]
  },
  {
   "cell_type": "code",
   "execution_count": null,
   "metadata": {
    "collapsed": false
   },
   "outputs": [],
   "source": [
    "# Matrix definition requires 2 scalar arguments to specify rows and columns\n",
    "a <- matrix(1:6, ncol = 3, nrow = 2)\n",
    "a"
   ]
  },
  {
   "cell_type": "code",
   "execution_count": null,
   "metadata": {
    "collapsed": false,
    "scrolled": true
   },
   "outputs": [],
   "source": [
    "#or just one of them\n",
    "m <- matrix(c(1,2,3,4,5,6,7,8,9,10), ncol = 2) # a matrix is a 2D array\n",
    "m"
   ]
  },
  {
   "cell_type": "code",
   "execution_count": null,
   "metadata": {
    "collapsed": false,
    "scrolled": true
   },
   "outputs": [],
   "source": [
    "dim(m)"
   ]
  },
  {
   "cell_type": "code",
   "execution_count": null,
   "metadata": {
    "collapsed": false
   },
   "outputs": [],
   "source": [
    "x <- 1:15\n",
    "x\n",
    "dim(x) <- c(3,5) #converte x in matrice 3x5\n",
    "x\n",
    "dim(x) <- c(5,3)\n",
    "x"
   ]
  },
  {
   "cell_type": "code",
   "execution_count": null,
   "metadata": {
    "collapsed": false,
    "scrolled": true
   },
   "outputs": [],
   "source": [
    "#get dimensions\n",
    "ncol(m); nrow(m)"
   ]
  },
  {
   "cell_type": "markdown",
   "metadata": {},
   "source": [
    "We can also reference parts of a matrix by using the row or column names"
   ]
  },
  {
   "cell_type": "code",
   "execution_count": null,
   "metadata": {
    "collapsed": false
   },
   "outputs": [],
   "source": [
    "N <- matrix(c(5,8,3,0,4,1), nrow=2, ncol=3, byrow=TRUE)\n",
    "colnames(N) <- c(\"c.1\", \"c.2\", \"c.3\")\n",
    "N"
   ]
  },
  {
   "cell_type": "markdown",
   "metadata": {},
   "source": [
    "Here are some matrix operations you can try"
   ]
  },
  {
   "cell_type": "code",
   "execution_count": null,
   "metadata": {
    "collapsed": false,
    "scrolled": true
   },
   "outputs": [],
   "source": [
    "t(m) #transpose of m matrix\n",
    "n <- m*2/5\n",
    "m + n # sum element by element \n",
    "m * n # product element by element!!!!!!!"
   ]
  },
  {
   "cell_type": "code",
   "execution_count": null,
   "metadata": {
    "collapsed": false
   },
   "outputs": [],
   "source": [
    "A <- m %*% t(n); A #matrix product"
   ]
  },
  {
   "cell_type": "code",
   "execution_count": null,
   "metadata": {
    "collapsed": false
   },
   "outputs": [],
   "source": [
    "diag(5:7) #create a 3x3 matrix with zeros outside the diagonal\n"
   ]
  },
  {
   "cell_type": "code",
   "execution_count": null,
   "metadata": {
    "collapsed": false
   },
   "outputs": [],
   "source": [
    "eigen(A) #eigenvalues and eigenvectors of matrix A (A is a nxn matrix)"
   ]
  },
  {
   "cell_type": "code",
   "execution_count": null,
   "metadata": {
    "collapsed": false
   },
   "outputs": [],
   "source": [
    "qr(A) # QR decomposition"
   ]
  },
  {
   "cell_type": "code",
   "execution_count": null,
   "metadata": {
    "collapsed": false
   },
   "outputs": [],
   "source": [
    "svd(A) #Singular Value Decomposition"
   ]
  },
  {
   "cell_type": "markdown",
   "metadata": {},
   "source": [
    "Matrix elements can be accessed in different ways"
   ]
  },
  {
   "cell_type": "code",
   "execution_count": null,
   "metadata": {
    "collapsed": false
   },
   "outputs": [],
   "source": [
    "#indexing\n",
    "A\n",
    "A[1]\n",
    "A[c(1,3)]\n",
    "A[1, 2]\n",
    "A[1,]"
   ]
  },
  {
   "cell_type": "markdown",
   "metadata": {},
   "source": [
    "**The apply() function is used for applying functions to the margins of a matrix, array, or dataframes**.\n",
    "\n",
    "`apply(X, MARGIN, FUN, ...)`\n",
    "\n",
    "`X` -> A matrix, array or dataframe\n",
    "\n",
    "`MARGIN` -> Vector of subscripts indicating which margins to apply the function to 1=rows, 2=columns, c(1,2)=rows and columns\n",
    "\n",
    "`FUN` -> Function to be applied\n",
    "\n",
    "`...` -> Optional arguments for FUN"
   ]
  },
  {
   "cell_type": "code",
   "execution_count": null,
   "metadata": {
    "collapsed": false
   },
   "outputs": [],
   "source": [
    "(x <- matrix(1:12, nrow=3, ncol=4))"
   ]
  },
  {
   "cell_type": "code",
   "execution_count": null,
   "metadata": {
    "collapsed": false
   },
   "outputs": [],
   "source": [
    "apply(x, 1, sum) # Row totals"
   ]
  },
  {
   "cell_type": "code",
   "execution_count": null,
   "metadata": {
    "collapsed": false
   },
   "outputs": [],
   "source": [
    "apply(x, 2, mean) # Column means"
   ]
  },
  {
   "cell_type": "markdown",
   "metadata": {},
   "source": [
    "## Arrays\n",
    "An array is a multi-dimensional generalization of a vector. A special case of array structures are matrices, which are bi-dimensional arrays.\n",
    "\n",
    "To create an array,\n",
    "\n",
    "`array(data = NA, dim = length(data), dimnames = NULL)`\n",
    "\n",
    "`data` -> A vector that gives data to fill the array; if data does not have enough elements to fill the matrix, then the elements are recycled.\n",
    "\n",
    "`dim` -> Dimension of the array, a vector of length one or more giving the maximum indices in each dimension\n",
    "\n",
    "`dimnames` -> Name of the dimensions, list with one component for each dimension, either NULL or a character vector of the length given by dim for that dimension. The list can be named, and the list names will be used as names for the dimensions.\n",
    "\n",
    "The list can be named, and the list names will be used as names for the dimensions.\n",
    "- Values are entered by columns\n",
    "- Like with vectors and matrices, when arrays are used in math expressions the operations are performed element by element.\n",
    "- Also like vectors and matrices, the elements of an array must all be of the same type (numeric, character, logical, etc.)"
   ]
  },
  {
   "cell_type": "code",
   "execution_count": null,
   "metadata": {
    "collapsed": true
   },
   "outputs": [],
   "source": [
    "#arrays\n",
    "a <- array(data = c(1,2,3,4,5,6,7,8,9,10), dim = c(2,5))"
   ]
  },
  {
   "cell_type": "code",
   "execution_count": null,
   "metadata": {
    "collapsed": false,
    "scrolled": false
   },
   "outputs": [],
   "source": [
    "a"
   ]
  },
  {
   "cell_type": "code",
   "execution_count": null,
   "metadata": {
    "collapsed": false,
    "scrolled": true
   },
   "outputs": [],
   "source": [
    "nrow(a)\n",
    "ncol(a)"
   ]
  },
  {
   "cell_type": "code",
   "execution_count": null,
   "metadata": {
    "collapsed": false
   },
   "outputs": [],
   "source": [
    "rownames(a) <- c(\"A\", \"B\")\n",
    "colnames(a) <- c(\"a\", \"b\", \"c\",\"d\",\"e\")\n",
    "a"
   ]
  },
  {
   "cell_type": "markdown",
   "metadata": {},
   "source": [
    "You can access to array's elements using `[]`:"
   ]
  },
  {
   "cell_type": "code",
   "execution_count": null,
   "metadata": {
    "collapsed": false
   },
   "outputs": [],
   "source": [
    "a[1]\n",
    "a[1,1]\n",
    "a[3]\n",
    "a[1,2]\n",
    "a[-1]\n",
    "a[-c(2,4)]"
   ]
  },
  {
   "cell_type": "code",
   "execution_count": null,
   "metadata": {
    "collapsed": false,
    "scrolled": true
   },
   "outputs": [],
   "source": [
    "a1 <- array(seq_len(24), c(2,4,3))\n",
    "a1\n",
    "a1[1,1,1]\n",
    "a1[1,1,3]\n",
    "a1[2,4,3]"
   ]
  },
  {
   "cell_type": "code",
   "execution_count": null,
   "metadata": {
    "collapsed": false
   },
   "outputs": [],
   "source": [
    "length(a1)"
   ]
  },
  {
   "cell_type": "code",
   "execution_count": null,
   "metadata": {
    "collapsed": false,
    "scrolled": true
   },
   "outputs": [],
   "source": [
    "attributes(a1)"
   ]
  },
  {
   "cell_type": "code",
   "execution_count": null,
   "metadata": {
    "collapsed": false
   },
   "outputs": [],
   "source": [
    "#transform array into vectors\n",
    "dim(a1) <- NULL\n",
    "a1"
   ]
  },
  {
   "cell_type": "code",
   "execution_count": null,
   "metadata": {
    "collapsed": false,
    "scrolled": true
   },
   "outputs": [],
   "source": [
    "attributes(a1)"
   ]
  },
  {
   "cell_type": "code",
   "execution_count": null,
   "metadata": {
    "collapsed": false
   },
   "outputs": [],
   "source": [
    "length(a1)"
   ]
  },
  {
   "cell_type": "code",
   "execution_count": null,
   "metadata": {
    "collapsed": false
   },
   "outputs": [],
   "source": [
    "w <- array(1:12, dim=c(2,3,2),\n",
    "           dimnames=list(c(\"A\",\"B\"), c(\"X\",\"Y\",\"Z\"), c(\"N\",\"M\")))\n",
    "w[2,3,1] # Row 2, Column 3, Matrix 1\n",
    "w[,\"Y\",] # Column named \"Y\"\n",
    "w[1,,] # Row 1\n",
    "w[1:2,,\"M\"] # Rows 1 and 2, Matrix \"M\""
   ]
  },
  {
   "cell_type": "markdown",
   "metadata": {},
   "source": [
    "**We can use the apply() function for more then one dimension**. \n",
    "\n",
    "For a 3-dimensional array there are now three margins to apply the function to: 1=rows, 2=columns, and 3=matrices."
   ]
  },
  {
   "cell_type": "code",
   "execution_count": null,
   "metadata": {
    "collapsed": false
   },
   "outputs": [],
   "source": [
    "apply(w, 2, sum) # Column sums"
   ]
  },
  {
   "cell_type": "code",
   "execution_count": null,
   "metadata": {
    "collapsed": false
   },
   "outputs": [],
   "source": [
    "apply(w, c(1,3), sum) # Row and matrix sums"
   ]
  },
  {
   "cell_type": "markdown",
   "metadata": {},
   "source": [
    "# Dataframes\n",
    "Dataframes represets the most famous R data structures. They represents a table, with rows and columns, where\n",
    "\n",
    "1) One column holds data of the same type ( a vector)\n",
    "\n",
    "2) Different columns can have different data types. ( a list)\n",
    "\n",
    "3) Every row in a data frame has a row id.\n",
    "\n",
    "A dataframe is a matrix-like structure, where the columns can be of different types. You can also think of a dataframe as a list. Each column is an element of the list and each element has the same length.\n",
    "\n",
    "Rows and columns can be accessed through indexes, which can be numeric or associative\n",
    "- `df[ 1, 2 ]`\n",
    "- `df$example_column`\n",
    "- `df[ 1:3, 4:5 ]`\n"
   ]
  },
  {
   "cell_type": "code",
   "execution_count": null,
   "metadata": {
    "collapsed": false
   },
   "outputs": [],
   "source": [
    "#data frames\n",
    "df1 <- data.frame(x = seq_len(20), y =rnorm(20), z = 2*seq_len(20))\n",
    "\n",
    "df1$x"
   ]
  },
  {
   "cell_type": "markdown",
   "metadata": {},
   "source": [
    "Data Frames can be analyzed using the following commands\n",
    "\n",
    "- `nrow` and `ncol`\n",
    "- `summary`\n",
    "- `head` and `tail`\n",
    "- `str`\n",
    "\n",
    "The library `psych` has \n",
    "\n",
    "- `describe`"
   ]
  },
  {
   "cell_type": "code",
   "execution_count": null,
   "metadata": {
    "collapsed": false
   },
   "outputs": [],
   "source": [
    "head(df1)"
   ]
  },
  {
   "cell_type": "code",
   "execution_count": null,
   "metadata": {
    "collapsed": false
   },
   "outputs": [],
   "source": [
    "summary(df1)"
   ]
  },
  {
   "cell_type": "code",
   "execution_count": null,
   "metadata": {
    "collapsed": false
   },
   "outputs": [],
   "source": [
    "nrow(df1); ncol(df1)"
   ]
  },
  {
   "cell_type": "code",
   "execution_count": null,
   "metadata": {
    "collapsed": false
   },
   "outputs": [],
   "source": [
    "str(df1)"
   ]
  },
  {
   "cell_type": "code",
   "execution_count": null,
   "metadata": {
    "collapsed": false,
    "scrolled": false
   },
   "outputs": [],
   "source": [
    "names(df1)[1] <- \"column1\"\n",
    "df1$column1\n",
    "df1$x\n",
    "df1$y"
   ]
  },
  {
   "cell_type": "code",
   "execution_count": null,
   "metadata": {
    "collapsed": false
   },
   "outputs": [],
   "source": [
    "if(!require(\"psych\")) install.packages(\"psych\")\n",
    "describe(df1)\n",
    "?describe"
   ]
  },
  {
   "cell_type": "code",
   "execution_count": null,
   "metadata": {
    "collapsed": false
   },
   "outputs": [],
   "source": [
    "my.airquality[2,]<-data.frame(34,197,7.8,67,5,0)\n",
    "head(my.airquality)"
   ]
  },
  {
   "cell_type": "code",
   "execution_count": null,
   "metadata": {
    "collapsed": false
   },
   "outputs": [],
   "source": [
    "my.airquality <- my.airquality[-2,]\n",
    "#or\n",
    "#subset(my.airquality, Day != 0 )\n",
    "#or\n",
    "#my.airquality[ ,2] <- NULL\n",
    "head(my.airquality)"
   ]
  },
  {
   "cell_type": "code",
   "execution_count": null,
   "metadata": {
    "collapsed": false
   },
   "outputs": [],
   "source": [
    "#what's happening here?\n",
    "subset(airquality[1:40,], Temp > 80, select = c(Ozone, Temp))"
   ]
  },
  {
   "cell_type": "code",
   "execution_count": null,
   "metadata": {
    "collapsed": false
   },
   "outputs": [],
   "source": [
    "airquality[3,]"
   ]
  },
  {
   "cell_type": "code",
   "execution_count": null,
   "metadata": {
    "collapsed": false
   },
   "outputs": [],
   "source": [
    "#Upload an R dataframe\n",
    "my.airquality <- airquality\n",
    "head(my.airquality)"
   ]
  },
  {
   "cell_type": "code",
   "execution_count": null,
   "metadata": {
    "collapsed": false
   },
   "outputs": [],
   "source": [
    "airquality[,1]"
   ]
  },
  {
   "cell_type": "code",
   "execution_count": null,
   "metadata": {
    "collapsed": false
   },
   "outputs": [],
   "source": [
    "summary(airquality)"
   ]
  },
  {
   "cell_type": "code",
   "execution_count": null,
   "metadata": {
    "collapsed": false,
    "scrolled": true
   },
   "outputs": [],
   "source": [
    "airquality[airquality$Ozone>0,]"
   ]
  },
  {
   "cell_type": "code",
   "execution_count": null,
   "metadata": {
    "collapsed": false
   },
   "outputs": [],
   "source": [
    "#Let's try to understand how many records are complete\n",
    "complete.cases(airquality)"
   ]
  },
  {
   "cell_type": "code",
   "execution_count": null,
   "metadata": {
    "collapsed": false
   },
   "outputs": [],
   "source": [
    "#and select them only\n",
    "my.airquality <- airquality[complete.cases(airquality),]\n",
    "my.airquality[my.airquality$Ozone>80,]"
   ]
  },
  {
   "cell_type": "code",
   "execution_count": null,
   "metadata": {
    "collapsed": false
   },
   "outputs": [],
   "source": [
    "subset(my.airquality, Month == 5 & Day > 15)"
   ]
  },
  {
   "cell_type": "markdown",
   "metadata": {},
   "source": [
    "# Dataframe creation"
   ]
  },
  {
   "cell_type": "markdown",
   "metadata": {},
   "source": [
    "We've seen that a number of built-in data frame examples are available in R. \n",
    "\n",
    "In real life, dataframe can be created by combining individual vectors, other data frames or reading from exterlas cources (files or databases).\n",
    "\n",
    "- `read.table()` function reads any file into a data frame and it can control file format like newline, separator, header etc... (`write.table()` is the equivalent write operation)\n",
    "- `read.csv()` function reads a csv file into a data frame and it is dedicated to the csv pre-defined format (`write.csv()` is the equivalent write operation)\n",
    "- Files can be downloaded directly from the web using `download.file()`\n",
    "- Raw web pages can be scraped using `getURL()`\n",
    "\n",
    "\n",
    "**inserire DB COnnection modulo 2 Renato**"
   ]
  },
  {
   "cell_type": "code",
   "execution_count": null,
   "metadata": {
    "collapsed": false
   },
   "outputs": [],
   "source": [
    "##### working with data frames #####\n",
    "getwd()\n",
    "ds <- read.table(\"foods.csv\")\n",
    "#average length of review text\n",
    "review.length <- unlist(lapply(as.character(knime.in$\"ReviewText\"), nchar))"
   ]
  },
  {
   "cell_type": "markdown",
   "metadata": {},
   "source": [
    "Dataframe can be manipulated in different ways, for example\n",
    "\n",
    "- Data Frames can be combined with `rbind()` and `cbind()`"
   ]
  },
  {
   "cell_type": "code",
   "execution_count": null,
   "metadata": {
    "collapsed": false
   },
   "outputs": [],
   "source": [
    "df1 <- data.frame(x = seq_len(10), y =rnorm(10), z = 2*seq_len(10))\n",
    "df2 <- data.frame(xx = 10 + seq_len(10), yy =rnorm(10), zz = 2*(10+seq_len(10)))\n",
    "df1; df2"
   ]
  },
  {
   "cell_type": "code",
   "execution_count": null,
   "metadata": {
    "collapsed": false
   },
   "outputs": [],
   "source": [
    "cbind(df1,df2)"
   ]
  },
  {
   "cell_type": "code",
   "execution_count": null,
   "metadata": {
    "collapsed": false
   },
   "outputs": [],
   "source": [
    "df3 <- data.frame(x = 100 + seq_len(5), y =rnorm(5), z = 2*(100 + seq_len(5)))\n",
    "df3"
   ]
  },
  {
   "cell_type": "code",
   "execution_count": null,
   "metadata": {
    "collapsed": false
   },
   "outputs": [],
   "source": [
    "rbind(df1,df3)"
   ]
  },
  {
   "cell_type": "markdown",
   "metadata": {},
   "source": [
    "- Columns can be added by using an associative name and contents"
   ]
  },
  {
   "cell_type": "code",
   "execution_count": null,
   "metadata": {
    "collapsed": false
   },
   "outputs": [],
   "source": [
    "df3$example_col <- c(1,2,3,4,5)\n",
    "df3"
   ]
  },
  {
   "cell_type": "markdown",
   "metadata": {},
   "source": [
    "- Most operations on vectors can be done on individual rows or columns of a data frame, for example any vector can be sorted using `sort()`, so we can sort the column `y` of dataframe `df1` in the same way"
   ]
  },
  {
   "cell_type": "code",
   "execution_count": null,
   "metadata": {
    "collapsed": false
   },
   "outputs": [],
   "source": [
    "sort(df1$y)"
   ]
  },
  {
   "cell_type": "markdown",
   "metadata": {},
   "source": [
    "## Dataframe transformations: Sorting, Merging, Binning\n",
    "Any vector can be sorted using the `sort()` function. A Data Frame can be sorted according to one or more of its columns using the `order()` function."
   ]
  },
  {
   "cell_type": "code",
   "execution_count": null,
   "metadata": {
    "collapsed": false
   },
   "outputs": [],
   "source": [
    "df1[order(df1$y) , ]"
   ]
  },
  {
   "cell_type": "code",
   "execution_count": null,
   "metadata": {
    "collapsed": false
   },
   "outputs": [],
   "source": [
    "df1[order(-df1$z, df1$y),]"
   ]
  },
  {
   "cell_type": "markdown",
   "metadata": {},
   "source": [
    "Two Data Frames can be merged using `merge()`. \n",
    "- if two dataframes have a column with the same name `merge()` will use that column for the join operation\n",
    "- otherwise you have to specify the column on the left dataframe and the column on the riht dataframe to join"
   ]
  },
  {
   "cell_type": "code",
   "execution_count": null,
   "metadata": {
    "collapsed": false
   },
   "outputs": [],
   "source": [
    "df4 <- data.frame(k = seq(from = 7, to = 1, by = -1), l = runif(7))\n",
    "df4; df1"
   ]
  },
  {
   "cell_type": "code",
   "execution_count": null,
   "metadata": {
    "collapsed": false
   },
   "outputs": [],
   "source": [
    "merge(df1,df4, by.x = \"x\", by.y = \"k\" )"
   ]
  },
  {
   "cell_type": "markdown",
   "metadata": {},
   "source": [
    "Continuous data can be converted to categorical data by binning (conversion into pre-defined ranges or bins) using the cut() function"
   ]
  },
  {
   "cell_type": "code",
   "execution_count": null,
   "metadata": {
    "collapsed": false
   },
   "outputs": [],
   "source": [
    "cut(df$y, c(-Inf,seq(0.5, 1, 0.1), Inf))"
   ]
  },
  {
   "cell_type": "markdown",
   "metadata": {},
   "source": [
    "### Apply function\n",
    "A number of R programs require looping through a data frame and performing an operation on each record. The “apply” class of functions provide a short-cut through which that entire operation can be performed in one function call.\n",
    "\n",
    "The function to apply for each row can be a user defined function too.\n",
    "\n",
    "Variants of the “apply” functions include `apply`, `eapply`, `lapply`, `mapply`, `rapply`, `tapply`"
   ]
  },
  {
   "cell_type": "code",
   "execution_count": null,
   "metadata": {
    "collapsed": false,
    "scrolled": true
   },
   "outputs": [],
   "source": [
    "mat <- matrix(c(1:20), nrow= 10, ncol= 2)\n",
    "apply(mat, 1, mean)\n",
    "apply(mat, 2, mean)"
   ]
  },
  {
   "cell_type": "markdown",
   "metadata": {},
   "source": [
    "`apply(matrice, indice, funzione)`\n",
    "- con indice=1 applica funzione() alle righe di matrice, e\n",
    "- ritorna un vettore lungo come il numero di colonne."
   ]
  },
  {
   "cell_type": "code",
   "execution_count": null,
   "metadata": {
    "collapsed": true
   },
   "outputs": [],
   "source": [
    "nrighe <- 100000; ncolonne <- 10\n",
    "m <- matrix(rnorm(nrighe*ncolonne),\n",
    "nrow=nrighe, ncol=ncolonne)\n",
    "mediacolonne <- apply(m,2,mean)"
   ]
  },
  {
   "cell_type": "markdown",
   "metadata": {},
   "source": [
    "`lapply(lista, funzione)`\n",
    "- Applica funzione() a ciascun elemento di lista;\n",
    "- ritorna una list con la stessa lunghezza di lista."
   ]
  },
  {
   "cell_type": "code",
   "execution_count": null,
   "metadata": {
    "collapsed": false
   },
   "outputs": [],
   "source": [
    "L <- list(1:2, 3:7, -1:10)\n",
    "lapply(L, sd)"
   ]
  },
  {
   "cell_type": "markdown",
   "metadata": {},
   "source": [
    "`sapply(dataframe, funzione)`\n",
    "- a ciascuna colonna di dataframe viene applicata funzione();\n",
    "- ritorna vettore lungo quanto il numero di colonne di dataframe."
   ]
  },
  {
   "cell_type": "code",
   "execution_count": null,
   "metadata": {
    "collapsed": false
   },
   "outputs": [],
   "source": [
    "clienti <- data.frame(genere = c(\"M\",\"F\",\"F\",NA),\n",
    "altezza=c(172,186.5,165,180),\n",
    "peso = c(91, 75, 74, 85))\n",
    "sapply(clienti, mean)\n",
    "sapply(clienti[ ,c(2,3)], quantile, prob=0.95)"
   ]
  },
  {
   "cell_type": "markdown",
   "metadata": {},
   "source": [
    "`tapply(vettore, fattore, funzione)`\n",
    "- vettore viene suddiviso in sotto-vettori corrispondenti alle fattore;\n",
    "- a ciascun sottovettore viene applicata funzione();\n",
    "- ritorna vettore lungo quanto il numero livelli di fattore."
   ]
  },
  {
   "cell_type": "code",
   "execution_count": null,
   "metadata": {
    "collapsed": false
   },
   "outputs": [],
   "source": [
    "clienti <- data.frame(genere = c(\"M\",\"F\",\"F\",NA),\n",
    "altezza=c(172,186.5,165,180),\n",
    "peso = c(91, 75, 74, 85))\n",
    "tapply(clienti$altezza, clienti$genere,\n",
    "mean, na.rm=TRUE)"
   ]
  },
  {
   "cell_type": "markdown",
   "metadata": {},
   "source": [
    "# Control Structures"
   ]
  },
  {
   "cell_type": "markdown",
   "metadata": {},
   "source": [
    "**if-else**:\n",
    "\n",
    "`if (cond) expr`\n",
    "`if (cond) expr1 else expr2`\n"
   ]
  },
  {
   "cell_type": "code",
   "execution_count": null,
   "metadata": {
    "collapsed": false
   },
   "outputs": [],
   "source": [
    "x <- 10\n",
    "if(x>1){\n",
    " print(\"x is greater than 1\")\n",
    " }else{\n",
    "  print(\"x is less than 1\")\n",
    "  } "
   ]
  },
  {
   "cell_type": "markdown",
   "metadata": {},
   "source": [
    "**for**:\n",
    "\n",
    "`for (varinseq) expr`"
   ]
  },
  {
   "cell_type": "code",
   "execution_count": null,
   "metadata": {
    "collapsed": false
   },
   "outputs": [],
   "source": [
    "x <- c(1,2,3,4,5)\n",
    " for(i in 1:5){\n",
    "     print(x[i])\n",
    " }"
   ]
  },
  {
   "cell_type": "markdown",
   "metadata": {},
   "source": [
    "**next** #can you guess what's going here?"
   ]
  },
  {
   "cell_type": "code",
   "execution_count": null,
   "metadata": {
    "collapsed": false
   },
   "outputs": [],
   "source": [
    "x = 1: 4 \n",
    " for (i in x) { \n",
    "     if (i == 2){ \n",
    "         next}\n",
    "     print(i)\n",
    " }"
   ]
  },
  {
   "cell_type": "markdown",
   "metadata": {},
   "source": [
    "**while**:\n",
    "\n",
    "`while (cond) expr`\n"
   ]
  },
  {
   "cell_type": "code",
   "execution_count": null,
   "metadata": {
    "collapsed": false
   },
   "outputs": [],
   "source": [
    "x = 2.987\n",
    "while(x <= 4.987) { \n",
    "     x = x + 0.987\n",
    "     print(c(x,x-2,x-1)) \n",
    " }\n"
   ]
  },
  {
   "cell_type": "markdown",
   "metadata": {},
   "source": [
    "**repeat**:\n",
    "\n",
    "`repeat {expr (break condition) {break} }`\n"
   ]
  },
  {
   "cell_type": "code",
   "execution_count": null,
   "metadata": {
    "collapsed": false
   },
   "outputs": [],
   "source": [
    "x = 1\n",
    "repeat {\n",
    "   print(x)\n",
    "   x = x+1\n",
    "   if (x == 6){\n",
    "       break\n",
    "   }\n",
    "}"
   ]
  },
  {
   "cell_type": "markdown",
   "metadata": {},
   "source": [
    "ifelse\n",
    "\n",
    "`ifelse(test,yes,no)`"
   ]
  },
  {
   "cell_type": "code",
   "execution_count": null,
   "metadata": {
    "collapsed": false
   },
   "outputs": [],
   "source": [
    "a <- c(1,0,0,0,1,0,0,0)\n",
    "b <- ifelse(a==1,\"True\", \"False\")\n",
    "b"
   ]
  },
  {
   "cell_type": "markdown",
   "metadata": {},
   "source": [
    "# User Defined Functions"
   ]
  },
  {
   "cell_type": "markdown",
   "metadata": {},
   "source": [
    "R functions are objects that evaluate multiple expressions using arguments that are passed to them. Typically an object is returned.\n",
    "\n",
    "Functions can be built and saved as function definitions in memory. They take input parameters and write output\n",
    "\n",
    "To declare a function\n",
    "\n",
    "`function name <- function(argument list) {\n",
    "                    body\n",
    "                    }`\n",
    "\n",
    "The `argument list` is a comma-separated list of formal argument names, some of them are mandatory, others are not. Those which are not mandatory usually are assumed to take a default value, which can be modified.\n",
    "\n",
    "Generally, the `body` is a group of R expressions contained in curly brackets {}. If the body is only one expression the curly brackets are optional.\n",
    "\n",
    "Functions are usually assigned names, but the names are optional. **Be careful with naming functions, could overwrite existing R functions!** \n",
    "\n",
    "Since a function is an object we can pass it as an argument to other functions just like any other object. "
   ]
  },
  {
   "cell_type": "code",
   "execution_count": null,
   "metadata": {
    "collapsed": false
   },
   "outputs": [],
   "source": [
    "computeSum <- function(x,y) {\n",
    "    x+y\n",
    "}\n",
    "\n",
    "computeSum(3,5)"
   ]
  },
  {
   "cell_type": "code",
   "execution_count": null,
   "metadata": {
    "collapsed": false
   },
   "outputs": [],
   "source": [
    "segno <- function(x){ \n",
    "    \n",
    "    if(x<0){ \n",
    "        print(\"negative value\") \n",
    "    }\n",
    "    \n",
    "    else { \n",
    "        print(\"not negative value\") \n",
    "    }\n",
    "    \n",
    "} \n",
    "\n",
    "segno(0) # calling the function"
   ]
  },
  {
   "cell_type": "code",
   "execution_count": null,
   "metadata": {
    "collapsed": false
   },
   "outputs": [],
   "source": [
    "# Calculate the odds ratio of a 2x2 table and the\n",
    "# asymptotic confidence interval for the odds ratio\n",
    "# Arguments: X = 2x2 matrix\n",
    "# conf.level = confidence level\n",
    "#----------------------------------------------------\n",
    "\n",
    "odds.ratio <- function(X, conf.level=.95) {\n",
    "    OR <- (X[1,1]*X[2,2])/(X[1,2]*X[2,1])\n",
    "    logOR.SE <- sqrt(sum(1/X))\n",
    "    alpha <- 1-conf.level\n",
    "    CI.lower <- exp(log(OR) - qnorm(1-alpha/2)*logOR.SE)\n",
    "    CI.upper <- exp(log(OR) + qnorm(1-alpha/2)*logOR.SE)\n",
    "    cat(\"Odds Ratio = \", OR, \"\\n\", conf.level*100, \"% Confidence Interval = (\", CI.lower, \", \", CI.upper, \")\\n\", sep=\"\")\n",
    "}\n",
    "\n",
    "X <- matrix(c(189, 104, 10845, 10933), \n",
    "            nrow=2, \n",
    "            dimnames=list(\"Treatment\"=c(\"Placebo\", \"Aspirin\"),\"Myocardial Infarction\"=c(\"Yes\", \"No\")))\n",
    "\n",
    "odds.ratio(X)"
   ]
  },
  {
   "cell_type": "code",
   "execution_count": null,
   "metadata": {
    "collapsed": false
   },
   "outputs": [],
   "source": [
    " odds.ratio(X, conf.level=0.99)"
   ]
  },
  {
   "cell_type": "code",
   "execution_count": null,
   "metadata": {
    "collapsed": true
   },
   "outputs": [],
   "source": [
    "#Exercise: build some functions"
   ]
  },
  {
   "cell_type": "markdown",
   "metadata": {},
   "source": [
    "Often we will want a function to return an object that can be assigned.\n",
    "\n",
    "Two functions for returning objects are `return()` and `invisible()`. The `return()` function prints and returns its arguments. `invisible()` is similar to `return()`. This function is useful when we want a function to return values which can be assigned, but which do not print when they are not assigned.\n",
    "\n",
    "**Bear in mind a list is often a good tool for returning multiple objects**.\n",
    "\n",
    "You may find useful using `cat()` or `print()` to output text."
   ]
  },
  {
   "cell_type": "code",
   "execution_count": null,
   "metadata": {
    "collapsed": false
   },
   "outputs": [],
   "source": [
    "funz <- function ( x, y = 2, z = 3 ) {\n",
    "    return(x+y+z) \n",
    "}\n",
    "\n",
    "funz(5)"
   ]
  },
  {
   "cell_type": "code",
   "execution_count": null,
   "metadata": {
    "collapsed": false
   },
   "outputs": [],
   "source": [
    "funz <- function ( x, y = 2, z = 3 ) {\n",
    "    invisible(x+y+z) \n",
    "}\n",
    "\n",
    "funz(5)\n",
    "ls()\n"
   ]
  },
  {
   "cell_type": "code",
   "execution_count": null,
   "metadata": {
    "collapsed": false
   },
   "outputs": [],
   "source": [
    "odds.ratio <- function(X, conf.level=.95) {\n",
    "    OR <- (X[1,1]*X[2,2])/(X[1,2]*X[2,1])\n",
    "    logOR.SE <- sqrt(sum(1/X))\n",
    "    alpha <- 1-conf.level\n",
    "    CI.lower <- exp(log(OR) - qnorm(1-alpha/2)*logOR.SE)\n",
    "    CI.upper <- exp(log(OR) + qnorm(1-alpha/2)*logOR.SE)\n",
    "    \n",
    "    cat(\"Odds Ratio = \", OR, \"\\n\",\n",
    "        conf.level*100, \"% Confidence Interval = (\",\n",
    "        CI.lower, \", \", CI.upper, \")\\n\", sep=\"\")\n",
    "\n",
    "    # Different approaches for returning results...try all of them\n",
    "    #OR\n",
    "    #return(OR)\n",
    "    #invisible(OR)\n",
    "    out <- list(OR=OR, CI=c(CI.lower, CI.upper), conf.level=conf.level)\n",
    "    return(out)\n",
    "}\n",
    "\n",
    "# Unassigned and assigned function results\n",
    "odds.ratio(X)\n",
    "myOR <- odds.ratio(X)"
   ]
  },
  {
   "cell_type": "markdown",
   "metadata": {},
   "source": [
    "**Scope od a variable**. When objects are created, they are assigned to an environment. \n",
    "\n",
    "Environments are hierarchical, the top-level is called the global environment. Objects assigned by the user during an R session are placed in the global environment.\n",
    "\n",
    "Assignments within the body of a function use a different environment that is created just for that function.\n",
    "\n",
    "When an object is evaluated within a function, R first looks locally within the function and its arguments for the object. If R cannot find the name of the object locally it looks in the parent environment, this will almost always\n",
    "be the global environment.\n",
    "\n",
    "Therefore an object within a function can have the same name as an object in the global environment; because R will choose to use the object defined in the local environment.\n",
    "\n",
    "The bottom line is that objects defined in the global environment are also accessible by a function. However, objects defined within a function are not accessible from the global environment."
   ]
  },
  {
   "cell_type": "markdown",
   "metadata": {},
   "source": [
    "**Input errors management**. If you are writing a function for others to use it is often a good idea to include code that verifies that the appropriate arguments were entered.\n",
    "\n",
    "If an argument value is not valid we want to stop executing the expression and return an error message.\n",
    "- `missing()` Can be used to test whether a value was specified as an argument to a function; returns TRUE if a value is not specified and FALSE if a value is specified.\n",
    "- `stop()` Stop execution of the current expression and prints an error message\n",
    "- `warning()` Generate a warning message\n",
    "- `message()` Generate a diagnostic message\n",
    "- `stopifnot()` If any of the arguments are not all TRUE then `stop()` is called and an error message is produced that indicates the first element of the argument list that is not TRUE.\n",
    "- `stop()` allows us to provide an informative error message, while `stopifnot()` requires less code."
   ]
  },
  {
   "cell_type": "code",
   "execution_count": null,
   "metadata": {
    "collapsed": false
   },
   "outputs": [],
   "source": [
    "# Calculate the odds ratio (OR) of a 2x2 table and the asymptotic\n",
    "# confidence interval (CI) for the OR.\n",
    "# Arguments: X = 2x2 matrix; conf.level = confidence level\n",
    "# Output: Prints OR and CI to console and returns a list, invisibly\n",
    "#------------------------------------------------------------------\n",
    "odds.ratio <- function(X, conf.level=.95) {\n",
    "    # Verify Arguments\n",
    "    stopifnot(!missing(X), is.matrix(X), dim(X)==c(2,2), X>0) \n",
    "    # Print warning message if any expected cell count < 5 \n",
    "    exp.count <- (apply(X, 1, sum) %o% apply(X, 2, sum))/sum(X) \n",
    "    if(any(exp.count < 5)) warning(\"Expected cell count < 5\") \n",
    "        # Calculate odds ratio and asymptotic confidence interval \n",
    "        OR <- (X[1,1]*X[2,2])/(X[1,2]*X[2,1]) \n",
    "        logOR.SE <- sqrt(sum(1/X)) \n",
    "        alpha <- 1-conf.level \n",
    "        CI.lower <- exp(log(OR) - qnorm(1-alpha/2)*logOR.SE) \n",
    "        CI.upper <- exp(log(OR) + qnorm(1-alpha/2)*logOR.SE) \n",
    "        # Format and return results \n",
    "        cat(\"Odds Ratio = \", OR, \"\\n\",\n",
    "            conf.level*100, \"% Confidence Interval = (\",\n",
    "            CI.lower, \", \", CI.upper, \")\\n\", sep=\"\")\n",
    "        out <- list(OR=OR, CI=c(CI.lower, CI.upper), conf.level=conf.level)\n",
    "        invisible(out)\n",
    "}\n",
    "\n",
    "odds.ratio(X)"
   ]
  },
  {
   "cell_type": "code",
   "execution_count": null,
   "metadata": {
    "collapsed": false
   },
   "outputs": [],
   "source": [
    "Z <- matrix(c(189, 104, 10845, 10933, 500, 800, 900, 900, 900), \n",
    "            nrow=3)\n",
    "odds.ratio(Z)"
   ]
  },
  {
   "cell_type": "markdown",
   "metadata": {},
   "source": [
    "# Statistical Functions\n",
    "R has several built-in statistical distributions. For each distribution four\n",
    "functions are available,\n",
    "r Random number generator\n",
    "d Density function\n",
    "p Cumulative distribution function\n",
    "q Quantile function\n",
    "\u0004 Each letter can be added as a prefix to any of the R distribution names.\n",
    "R Distribution R Distribution\n",
    "beta Beta logis Logistic\n",
    "binom Binomial nbinom Negative binomial\n",
    "cauchy Cauchy norm Normal\n",
    "exp Exponential pois Poisson\n",
    "chisq Chi-Square signrank Wilcoxon signed rank statistic\n",
    "f Fisher’s F t Student’s t\n",
    "gamma Gamma unif Uniform\n",
    "geom Geometric weibull Weibull\n",
    "hyper Hypergeometric wilcox Wilcoxon rank sum\n",
    "lnorm Lognormal"
   ]
  },
  {
   "cell_type": "code",
   "execution_count": null,
   "metadata": {
    "collapsed": false
   },
   "outputs": [],
   "source": [
    "dnorm(1.96, mean=0, sd=1) # Density\n",
    "\n",
    "pnorm(1.96, mean=0, sd=1) # Distribution (lower tail)\n",
    "\n",
    "pnorm(1.96, mean=0, sd=1, lower.tail=FALSE) # Distribution (upper tail)\n",
    "\n",
    "qnorm(0.975, mean=0, sd=1) # Quantile\n"
   ]
  },
  {
   "cell_type": "code",
   "execution_count": null,
   "metadata": {
    "collapsed": false
   },
   "outputs": [],
   "source": [
    "rnorm(5, mean=0, sd=1) # Random Number"
   ]
  },
  {
   "cell_type": "markdown",
   "metadata": {},
   "source": [
    "# Graphics\n",
    "\n",
    "R is capable of creating high quality graphics\n",
    "\u0004 Graphs are typically created using a series of high-level and low-level\n",
    "plotting commands. High-level functions create new plots and low-level\n",
    "functions add information to an existing plot.\n",
    "\u0004 Customize graphs (line style, symbols, color, etc) by specifying graphical\n",
    "parameters\n",
    " Specify graphic options using the par() function.\n",
    " Can also include graphic options as additional arguments to plotting\n",
    "functions\n",
    "\n",
    "\n",
    "The function par() is used to set or get graphical parameters.\n",
    "\u0004 This function contains 70 possible settings and allows you to adjust almost\n",
    "any feature of a graph.\n",
    "\u0004 Graphic parameters are reset to the defaults with each new graphic device.\n",
    "\u0004 To extract a graphic parameter, par(\"tag \") or par()$tag .\n",
    "\u0004 To set a graphic parameter, par(tag=value ).\n",
    "\u0004 Most elements of par() can be set as additional arguments to a plot\n",
    "command, however there are some that can only be set by a call to par(),\n",
    "mar, oma, mfrow, mfcol see the documentation for others."
   ]
  },
  {
   "cell_type": "code",
   "execution_count": null,
   "metadata": {
    "collapsed": false
   },
   "outputs": [],
   "source": [
    "options(repr.plot.width=5, repr.plot.height=5)"
   ]
  },
  {
   "cell_type": "code",
   "execution_count": null,
   "metadata": {
    "collapsed": false
   },
   "outputs": [],
   "source": [
    "x <- rnorm(50); y <- rnorm(50)\n",
    "# Basic Scatterplot\n",
    "plot(x, y)\n",
    "plot(x, y, xlab=\"X\", ylab=\"Y\", main=\"Y vs X\", pch=15, col=\"red\")"
   ]
  },
  {
   "cell_type": "code",
   "execution_count": null,
   "metadata": {
    "collapsed": false
   },
   "outputs": [],
   "source": [
    "group <- rbinom(50, size=1, prob=.5)\n",
    "# Distinguish between two separate groups\n",
    "plot(x, y, xlab=\"X\", ylab=\"Y\", main=\"Y vs X\",\n",
    "     pch=ifelse(group==1, 5, 19),\n",
    "     col=ifelse(group==1, \"red\", \"blue\"))"
   ]
  },
  {
   "cell_type": "code",
   "execution_count": null,
   "metadata": {
    "collapsed": false
   },
   "outputs": [],
   "source": [
    "# The points argument can be, (1) two separate vectors where one vector is the x-coordinates and the other \n",
    "# is the y-coordinates (2) a two-column matrix or (3) a two-element list with x and y components\n",
    "plot(x, y, xlab=\"X\", ylab=\"Y\", main=\"Y vs X\", type=\"n\")\n",
    "points(x[group==1], y[group==1], pch=5, col=\"red\")\n",
    "points(x[group==0], y[group==0], pch=19, col=\"blue\")\n",
    "\n",
    "plot(x, y, xlab=\"X\", ylab=\"Y\", main=\"Y vs X\", type=\"n\")\n",
    "points(cbind(x,y)[group==1,], pch=5, col=\"red\")\n",
    "points(cbind(x,y)[group==0,], pch=19, col=\"blue\")"
   ]
  },
  {
   "cell_type": "code",
   "execution_count": null,
   "metadata": {
    "collapsed": false
   },
   "outputs": [],
   "source": [
    "# Basic Line Graphs\n",
    "plot(sort(x), sort(y), type=\"l\", lty=2, lwd=2, col=\"blue\")\n"
   ]
  },
  {
   "cell_type": "code",
   "execution_count": null,
   "metadata": {
    "collapsed": false
   },
   "outputs": [],
   "source": [
    "# Like points, the lines argument can be, (1) two separate vectors\n",
    "# where one vector is the x-coordinates and the other is the\n",
    "# y-coordinates (2) a two-column matrix or (3) a two-element list\n",
    "# with x and y components.\n",
    "plot(x, y, type=\"n\")\n",
    "lines(sort(x), sort(y), type=\"b\")\n",
    "lines(cbind(sort(x),sort(y)), type=\"l\", lty=1, col=\"blue\")\n"
   ]
  },
  {
   "cell_type": "code",
   "execution_count": null,
   "metadata": {
    "collapsed": false
   },
   "outputs": [],
   "source": [
    "# If there is only one component then the argument is plotted against\n",
    "# its index (same with plot and points)\n",
    "plot(sort(x), type=\"n\")\n",
    "lines(sort(x), type=\"b\", pch=8, col=\"red\")\n",
    "lines(sort(y), type=\"l\", lty=6, col=\"blue\")"
   ]
  },
  {
   "cell_type": "code",
   "execution_count": null,
   "metadata": {
    "collapsed": false
   },
   "outputs": [],
   "source": [
    "x <- rnorm(50); y <- rnorm(50)\n",
    "group <- rbinom(50, size=1, prob=.5)\n",
    "# Basic Histogram\n",
    "hist(x, main=\"Histogram of X\", col=\"deeppink4\")\n"
   ]
  },
  {
   "cell_type": "code",
   "execution_count": null,
   "metadata": {
    "collapsed": false
   },
   "outputs": [],
   "source": [
    "# Plot histogram along with a normal density\n",
    "# Set freq=FALSE, so that the density histogram is plotted (area sums to 1)\n",
    "hist(x, freq=FALSE, col=\"red\", main=\"Histogram with Normal Curve\")\n",
    "# Uses the observed mean and standard deviation for plotting the normal curve\n",
    "xpts <- seq(min(x), max(x), length=50)\n",
    "ypts <- dnorm(xpts, mean=mean(x), sd=sd(x))\n",
    "lines(xpts, ypts, lwd=3)"
   ]
  },
  {
   "cell_type": "code",
   "execution_count": null,
   "metadata": {
    "collapsed": false
   },
   "outputs": [],
   "source": [
    "# Basic boxplot\n",
    "boxplot(x, main=\"Boxplot of X\", border=\"red\", lwd=2)\n",
    "# Side-by-Side Boxplots\n",
    "boxplot(x~group, main=\"Boxplot of X by Group\",\n",
    "names=c(\"Group 0\", \"Group 1\"), border=c(\"red\", \"blue\"), lwd=2)"
   ]
  },
  {
   "cell_type": "code",
   "execution_count": null,
   "metadata": {
    "collapsed": false
   },
   "outputs": [],
   "source": [
    "# Plot a 5th order polynomial\n",
    "curve(3*x^5-5*x^3+2*x, from=-1.25, to=1.25, lwd=2, col=\"blue\")\n"
   ]
  },
  {
   "cell_type": "code",
   "execution_count": null,
   "metadata": {
    "collapsed": false
   },
   "outputs": [],
   "source": [
    "# Plot the gamma density\n",
    "curve(dgamma(x, shape=2, scale=1), from=0, to=7, lwd=2, col=\"red\")\n"
   ]
  },
  {
   "cell_type": "code",
   "execution_count": null,
   "metadata": {
    "collapsed": false
   },
   "outputs": [],
   "source": [
    "# Plot multiple curves, notice that the first curve determines the x-axis\n",
    "curve(dnorm, from=-3, to=5, lwd=2, col=\"red\")\n",
    "curve(dnorm(x, mean=2), lwd=2, col=\"blue\", add=TRUE)\n",
    "# Add vertical lines at the means\n",
    "lines(c(0, 0), c(0, dnorm(0)), lty=2, col=\"red\")\n",
    "lines(c(2, 2), c(0, dnorm(2, mean=2)), lty=2, col=\"blue\")"
   ]
  },
  {
   "cell_type": "code",
   "execution_count": null,
   "metadata": {
    "collapsed": false
   },
   "outputs": [],
   "source": [
    "install.packages(\"TeachingDemos\")\n",
    "library(TeachingDemos) # Contains rotate.persp()\n"
   ]
  },
  {
   "cell_type": "code",
   "execution_count": null,
   "metadata": {
    "collapsed": true
   },
   "outputs": [],
   "source": [
    "# Evaluate z on a grid given by x and y\n",
    "x <- y <- seq(-1, 1, len=25)\n",
    "z <- outer(x, y, FUN=function(x,y) -x*y*exp(-x^2-y^2))"
   ]
  },
  {
   "cell_type": "code",
   "execution_count": null,
   "metadata": {
    "collapsed": false
   },
   "outputs": [],
   "source": [
    "# Contour plots\n",
    "contour(x,y,z, main=\"Contour Plot\")\n",
    "\n",
    "\n"
   ]
  },
  {
   "cell_type": "code",
   "execution_count": null,
   "metadata": {
    "collapsed": false
   },
   "outputs": [],
   "source": [
    "filled.contour(x,y,z, main=\"Filled Contour Plot\")\n"
   ]
  },
  {
   "cell_type": "code",
   "execution_count": null,
   "metadata": {
    "collapsed": false
   },
   "outputs": [],
   "source": [
    "filled.contour(x,y,z, color.palette = heat.colors)\n"
   ]
  },
  {
   "cell_type": "code",
   "execution_count": null,
   "metadata": {
    "collapsed": false
   },
   "outputs": [],
   "source": [
    "filled.contour(x,y,z, color.palette = colorRampPalette(c(\"red\", \"white\", \"blue\")))\n"
   ]
  },
  {
   "cell_type": "code",
   "execution_count": null,
   "metadata": {
    "collapsed": false
   },
   "outputs": [],
   "source": [
    "persp(x,y,z, shade=.75, col=\"green3\") # 3-D Surface Plot\n"
   ]
  },
  {
   "cell_type": "code",
   "execution_count": null,
   "metadata": {
    "collapsed": false
   },
   "outputs": [],
   "source": [
    "rotate.persp(x,y,z) # Rotate 3-D Surface Plot"
   ]
  },
  {
   "cell_type": "code",
   "execution_count": null,
   "metadata": {
    "collapsed": false
   },
   "outputs": [],
   "source": [
    "\n",
    "# Add 2-D components to a 3-D Surface plot\n",
    "# view is the \"viewing transformation matrix\" needed by trans3d\n",
    "view <- persp(x,y,z, shade=.75, col=\"green3\")\n",
    "# Point at (x=1, y=1, z=.01)\n",
    "points(trans3d(1,1,.1, view), cex=2, col=\"red\", pch=19)\n",
    "text(trans3d(1,1,.1, view), \"(1,1,0.1)\", pos=1, font=2)\n",
    "# Line of z vs x, when y=-.5\n",
    "lines(trans3d(x, y=-.5, z[7,], view), lwd=2, col=\"red\")"
   ]
  },
  {
   "cell_type": "code",
   "execution_count": null,
   "metadata": {
    "collapsed": false
   },
   "outputs": [],
   "source": [
    "library(TeachingDemos)\n",
    "# Bivariate Normal Density\n",
    "# x: 2x1 vector, mu: 2x1 mean vector, Sigma: 2x2 covariance matrix\n",
    "bivariate.normal <- function(x, mu, Sigma) {\n",
    "exp(-.5*t(x-mu)%*%solve(Sigma)%*%(x-mu))/sqrt(2*pi*det(Sigma))\n",
    "}\n",
    "mu <- c(0,0)\n",
    "Sigma <- matrix(c(1,.5,.5,1), nrow=2)\n",
    "x <- y <- seq(-3, 3, len=25)\n",
    "# Evaluate the bivariate normal density for each value of x and y\n",
    "z <- outer(x, y,\n",
    "FUN=function(x, y, ...){\n",
    "apply(cbind(x,y), 1, bivariate.normal, ...)\n",
    "}, mu=c(0,0), Sigma=Sigma)\n",
    "# Filled contour and surface plot of the bivariate normal density\n",
    "filled.contour(x,y,z, main=\"Bivariate Normal Density\", color.palette=topo.colors)\n",
    "persp(x, y, z, shade=.75, col=\"red\", main=\"Bivariate Normal Density\")\n",
    "rotate.persp(x, y, z)"
   ]
  },
  {
   "cell_type": "code",
   "execution_count": null,
   "metadata": {
    "collapsed": false
   },
   "outputs": [],
   "source": [
    "options(repr.plot.width=6, repr.plot.height=5)\n",
    "# Figure with two plots side by side\n",
    "par(mfrow=c(1,2))\n",
    "plot(rnorm(100), main=\"Figure 1\", pch=19, col=\"red\")\n",
    "plot(rnorm(100), main=\"Figure 2\", pch=5, col=\"blue\")\n",
    "# Create layout\n",
    "layout(matrix(c(1,1,2,3), 2, 2, byrow = TRUE), heights=c(.5,1))\n",
    "layout.show(3) # View layout\n",
    "# Create layout\n",
    "layout(matrix(c(2,0,1,3),2,2, byrow=TRUE), widths=c(3,.5), heights=c(.5,3))\n",
    "layout.show(3) # View layout\n",
    "# Plot scatterplot and boxplots\n",
    "x <- rnorm(100); y <- rnorm(100)\n",
    "# Notice that the range of the scatterplot and boxplots have the same limits\n",
    "par(mar=c(4,4,1,1),oma=c(0,0,1,0), font.axis=2, font.lab=2, cex.axis=1.5, cex.lab=1.5)\n",
    "plot(x, y, xlim=c(-3,3), ylim=c(-3,3), xlab=\"X\", ylab=\"Y\", pch=17, col=\"darkgreen\", cex=1.5)\n",
    "box(lwd=2)\n",
    "par(mar=c(0,4,0,1))\n",
    "boxplot(x, horizontal=TRUE, ylim=c(-3,3), axes=FALSE, at=.75, border=\"red\", lwd=3)\n",
    "par(mar=c(4,0,1,0))\n",
    "boxplot(y, ylim=c(-3,3), axes=FALSE, at=.75, border=\"blue\", lwd=3)\n",
    "# Add title in outer margin\n",
    "title(\"Scatterplot and Boxplots of X and Y\", outer=TRUE, line=-2, cex.main=2)"
   ]
  },
  {
   "cell_type": "code",
   "execution_count": null,
   "metadata": {
    "collapsed": false
   },
   "outputs": [],
   "source": [
    "options(repr.plot.width=6, repr.plot.height=5)\n",
    "\n",
    "plot(1:10, type=\"n\", xlab=\"X\", ylab=\"Y\")\n",
    "text(5.5, 9, \"expression(y==alpha[1]*x+alpha[2]*x^2)\", cex=1.5)\n",
    "text(5.5, 8, expression(y==alpha[1]*x+alpha[2]*x^2), cex=1.5)\n",
    "theta = 3\n",
    "text(5.5, 6, \"theta=3; bquote(hat(theta)==.(theta))\", cex=1.5)\n",
    "text(5.5, 5, bquote(hat(theta)==.(theta)), cex=1.5)"
   ]
  },
  {
   "cell_type": "code",
   "execution_count": null,
   "metadata": {
    "collapsed": false
   },
   "outputs": [],
   "source": [
    "#windows(width=9, height=6) # Fix window size\n",
    "#par(mfrow=c(1,2), oma=c(3,0,2,0)) # Add an outer margin to the figure\n",
    "set.seed(789)\n",
    "x1 <- rnorm(10); x2 <- rnorm(10, mean=2)\n",
    "y1 <- rnorm(10); y2 <- rnorm(10, mean=2)\n",
    "# PLOT 1, Use range to determine a plot region that is large enough for all the points\n",
    "plot(range(x1,x2), range(y1,y2), main=\"Figure 1\", type=\"n\", xlab=\"X\", ylab=\"Y\")\n",
    "points(x1, y1, col=\"red\", pch=19) # Group 1\n",
    "points(x2, y2, col=\"blue\", pch=0) # Group 2\n",
    "legend(\"topleft\", c(\"Group 1\",\"Group 2\"), pch=c(19,0), col=c(\"red\", \"blue\"),\n",
    "horiz=TRUE, bty=\"n\")\n",
    "legend(locator(1), c(\"Group 1\",\"Group 2\"), pch=c(19,0), col=c(\"red\", \"blue\"), title=\"Legend\")\n",
    "# PLOT 2\n",
    "plot(range(x1,x2), range(y1,y2), main=\"Figure 2\", type=\"n\", xlab=\"X\", ylab=\"Y\")\n",
    "lines(sort(x1), sort(y1), col=\"red\", type=\"o\", pch=19) # Group 1\n",
    "lines(sort(x2), sort(y2), col=\"blue\", type=\"o\", pch=0) # Group 2\n",
    "legend(-2, 2.5, c(\"Group 1\", \"Group 2\"), pch=c(19,0), col=c(\"red\", \"blue\"),\n",
    "horiz=TRUE, bty=\"n\", lty=1)\n",
    "# Legend in figure margin\n",
    "legend(1.5, -2.25, c(\"Group 1\", \"Group 2\"), pch=c(19,0), col=c(\"red\", \"blue\"), lty=1,\n",
    "bty=\"n\", xpd=TRUE)\n",
    "# Legend in outer margin\n",
    "legend(-5.25, -3, c(\"Group 1\", \"Group 2\"), pch=c(19,0), col=c(\"red\", \"blue\"), lty=1,\n",
    "horiz=TRUE, xpd=NA)"
   ]
  },
  {
   "cell_type": "code",
   "execution_count": null,
   "metadata": {
    "collapsed": false
   },
   "outputs": [],
   "source": [
    "# Create and use a custom color\n",
    "burnt.orange <- rgb(red=204, green=85, blue=0, max=255)\n",
    "plot(1:10, pch=15, col=burnt.orange, cex=3)\n",
    "palette() # Current palette()\n",
    "plot(1:10, pch=15, col=5, cex=3)\n",
    "# Custom palette()\n",
    "palette(c(\"red\", \"darkorange\", \"gold\", \"green3\", \"blue\", \"magenta3\"))\n",
    "plot(c(1,10), c(-3,3), type=\"n\")\n",
    "for(i in 1:length(palette())) points(rnorm(10), col=i, pch=18, cex=1.5)\n",
    "palette(\"default\") # Return to default, here \"default\" is a keyword\n",
    "26"
   ]
  },
  {
   "cell_type": "code",
   "execution_count": null,
   "metadata": {
    "collapsed": false
   },
   "outputs": [],
   "source": [
    "# Plot with no axes\n",
    "par(mar=c(5,5,5,5))\n",
    "plot(1:10, axes=FALSE, ann=FALSE)\n",
    "# Add an axis on side 2 (left)\n",
    "axis(2)\n",
    "# Add an axis on side 3 (top), specify tick mark location, and add labels\n",
    "axis(3, at=seq(1,10,by=.5), labels=format(seq(1,10,by=.5), nsmall=3))\n",
    "# Add an axis on side 4 (right), specify tick mark location and rotate labels\n",
    "axis(4, at=1:10, las=2)\n",
    "# Add axis on side 1 (bottom), with labels rotated 45 degrees\n",
    "tck <- axis(1, labels=FALSE)\n",
    "text(tck, par(\"usr\")[3]-.5, labels=paste(\"Label\", tck), srt=45, adj=1, xpd=TRUE)\n",
    "box() # Add box aroung plot region\n",
    "mtext(paste(\"Side\", 1:4), side=1:4, line=3.5, font=2) # Add axis labels\n"
   ]
  },
  {
   "cell_type": "code",
   "execution_count": null,
   "metadata": {
    "collapsed": false
   },
   "outputs": [],
   "source": [
    "dates <- seq.Date(Sys.Date(),by=\"3 day\", length.out=25)\n",
    "y <- sort(rexp(length(dates)))\n",
    "plot(dates, y, xlab=\"Date\", ylab=\"Y\", main=\"Y vs Date\",\n",
    "axes=FALSE, type=\"o\", pch=18, col=\"darkorange4\", cex=1.5)\n",
    "# Y-axis\n",
    "axis(2, at=seq(0, max(y), by=.5))\n",
    "# X-axis\n",
    "axis.Date(1, at=seq.Date(min(dates), max(dates), \"week\"),\n",
    "format=\"%b %d\\n%Y\", padj=.5)\n",
    "axis.Date(1, at=seq.Date(min(dates), max(dates), \"day\"),\n",
    "labels=FALSE, tcl=-.25)\n",
    "box()"
   ]
  },
  {
   "cell_type": "code",
   "execution_count": null,
   "metadata": {
    "collapsed": false
   },
   "outputs": [],
   "source": [
    "# Create a single pdf of figures, with one graph on each page\n",
    "pdf(\"SavingExample.pdf\", width=7, height=5) # Start graphics device\n",
    "x <- rnorm(100)\n",
    "hist(x, main=\"Histogram of X\")\n",
    "plot(x, main=\"Scatterplot of X\")\n",
    "dev.off() # Stop graphics device\n",
    "# Create multiple pdfs of figures, with one pdf per figure\n",
    "pdf(width=7, height=5, onefile=FALSE)\n",
    "x <- rnorm(100)\n",
    "hist(x, main=\"Histogram of X\")\n",
    "plot(x, main=\"Scatterplot of X\")\n",
    "dev.off() # Stop graphics device"
   ]
  },
  {
   "cell_type": "markdown",
   "metadata": {},
   "source": [
    "# Georeferenced Data"
   ]
  },
  {
   "cell_type": "code",
   "execution_count": 220,
   "metadata": {
    "collapsed": false
   },
   "outputs": [],
   "source": [
    "if(!require(ggmap)) install.packages(\"ggmap\")"
   ]
  },
  {
   "cell_type": "code",
   "execution_count": 226,
   "metadata": {
    "collapsed": false
   },
   "outputs": [],
   "source": [
    "library(ggmap)"
   ]
  },
  {
   "cell_type": "code",
   "execution_count": 227,
   "metadata": {
    "collapsed": false
   },
   "outputs": [
    {
     "name": "stderr",
     "output_type": "stream",
     "text": [
      "Information from URL : http://maps.googleapis.com/maps/api/geocode/json?address=Via%20Laura%2048,%2050124%20Firenze&sensor=false\n"
     ]
    }
   ],
   "source": [
    "nwbuilding <- geocode(\"Via Laura 48, 50124 Firenze\", source = \"google\") "
   ]
  },
  {
   "cell_type": "code",
   "execution_count": 228,
   "metadata": {
    "collapsed": false
   },
   "outputs": [
    {
     "name": "stderr",
     "output_type": "stream",
     "text": [
      "Map from URL : http://maps.googleapis.com/maps/api/staticmap?center=Firenze,+IT&zoom=15&size=640x640&scale=2&maptype=terrain&language=en-EN&sensor=false\n",
      "Information from URL : http://maps.googleapis.com/maps/api/geocode/json?address=Firenze,%20IT&sensor=false\n"
     ]
    },
    {
     "ename": "ERROR",
     "evalue": "Error in as.vector(y): attempt to apply non-function\n",
     "output_type": "error",
     "traceback": [
      "Error in as.vector(y): attempt to apply non-function\nTraceback:\n",
      "1. ggmap(get_map(\"Firenze, IT\", zoom = 15))",
      "2. inset_raster(ggmap, xmin, xmax, ymin, ymax)",
      "3. layer(data = NULL, mapping = NULL, stat = ggplot2::StatIdentity, \n .     position = ggplot2::PositionIdentity, geom = GeomRasterAnn, \n .     inherit.aes = TRUE, params = list(raster = raster, xmin = xmin, \n .         xmax = xmax, ymin = ymin, ymax = ymax, interpolate = interpolate))",
      "4. intersect(names(params), geom$aesthetics())",
      "5. as.vector(y)"
     ]
    }
   ],
   "source": [
    "ggmap(get_map(\"Firenze, IT\", zoom = 15)) +\n",
    "  geom_point(data=nwbuilding, size = 7, shape = 13, color = \"red\")"
   ]
  },
  {
   "cell_type": "markdown",
   "metadata": {},
   "source": [
    "## Data Clensing and Data Transformation\n",
    "Issues with Data Quality\n",
    "\n",
    "- Invalid values\n",
    "- formats\n",
    "- Attribute dependencies\n",
    "- Uniqueness\n",
    "- Referential integrity\n",
    "- Missing values\n",
    "- Misspellings\n",
    "- Misfielded values (value in the wrong field)\n",
    "- Wrong references\n",
    "\n",
    "Finding Data Quality Issues\n",
    "\n",
    "- Sample Visual Inspection\n",
    "- Automated validation code\n",
    "- Schema validation\n",
    "- Outlier Analysis\n",
    "- Exploratory Data Analysis\n",
    "\n",
    "Fixing Data Quality Issues\n",
    "\n",
    "- Fixing Data Quality issues is regular boilerplate coding in any language the team is comfortable with\n",
    "- Fix the source if possible\n",
    "- Find possible loopholes in data processing streams\n",
    "- Analyze batches coming in and automate fixing\n",
    "- Libraries and tools available\n",
    "\n",
    "Data Imputation\n",
    "\n",
    "- Any “value” present in a dataset is used by machine learning algorithms as valid values –including null, N/A, blank etc.\n",
    "- This makes populating missing data a key step that might affect prediction results\n",
    "- Techniques for populating missing data\n",
    "- Mean, median, mode\n",
    "- Multiple imputation\n",
    "- Use regression to find values based on other values\n",
    "- hybrid\n",
    "\n",
    "Data Standardization\n",
    "\n",
    "Numbers\n",
    "- Decimal places\n",
    "- Log\n",
    "Date and Time\n",
    "- Time Zone\n",
    "- POSIX\n",
    "- Epoch\n",
    "Text Data\n",
    "- Name formatting ( First Last vs Last, First)\n",
    "- Lower case/ Upper case/ Init Case\n",
    "\n",
    "Binning\n",
    "\n",
    "- Convert numeric to categorical data\n",
    "- Pre-defined ranges are used to create bins and individual data records are classified based on this.\n",
    "- New columns typically added to hold the binned data\n",
    "- Binning is usually done when the continuous variable is used for classification.\n",
    "\n",
    "Indicator variables\n",
    "- Categorical variables are converted into Boolean data by creating indicator variables\n",
    "- If the variable has n classes, then n-1 new variables are created to indicate the presence or absence of a value\n",
    "- Each variable has 1/0 values\n",
    "- The nth value is indicated by a 0 in all the indicator columns\n",
    "- Indicator variables sometimes work better in predictions that their categorical counterparts\n",
    "\n",
    "Centering and Scaling\n",
    "- Standardizes the range of values of a variables while maintaining their signal characteristics\n",
    "- Makes comparison of two variables easier\n",
    "- The values are “centered” by subtracting them from the mean value\n",
    "- The values are “scaled” by dividing the above by the Standard Deviation.\n",
    "- ML algorithms give far better results with standardized values"
   ]
  },
  {
   "cell_type": "code",
   "execution_count": null,
   "metadata": {
    "collapsed": true
   },
   "outputs": [],
   "source": []
  },
  {
   "cell_type": "code",
   "execution_count": null,
   "metadata": {
    "collapsed": true
   },
   "outputs": [],
   "source": []
  },
  {
   "cell_type": "code",
   "execution_count": null,
   "metadata": {
    "collapsed": true
   },
   "outputs": [],
   "source": []
  },
  {
   "cell_type": "code",
   "execution_count": null,
   "metadata": {
    "collapsed": true
   },
   "outputs": [],
   "source": []
  }
 ],
 "metadata": {
  "kernelspec": {
   "display_name": "R",
   "language": "R",
   "name": "ir"
  },
  "language_info": {
   "codemirror_mode": "r",
   "file_extension": ".r",
   "mimetype": "text/x-r-source",
   "name": "R",
   "pygments_lexer": "r",
   "version": "3.3.1"
  }
 },
 "nbformat": 4,
 "nbformat_minor": 0
}
