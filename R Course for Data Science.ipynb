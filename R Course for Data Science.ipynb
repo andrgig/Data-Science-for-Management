{
 "cells": [
  {
   "cell_type": "markdown",
   "metadata": {},
   "source": [
    "# What this Notebook is about?\n",
    "\n",
    "This Notebook is part of the Data Science for Management course I'm teaching at the University of Florence (Italy) during 2016/2017 academic year. A companion tutorial for the same course is [Python Course for Data Science](https://github.com/andrgig/Data-Science-for-Management/blob/master/Python%20Course%20for%20Data%20Science.ipynb).\n",
    "\n",
    "For suggestions you can contact me on [Linkedin](https://it.linkedin.com/in/agigli) or [Twitter](https://twitter.com/andrgig).\n",
    "\n",
    "*Andrea Gigli, PhD in Applied Statistics, MSc in Big Data Analytics and Social Mining*\n",
    "\n",
    "---"
   ]
  },
  {
   "cell_type": "markdown",
   "metadata": {},
   "source": [
    "# What is R"
   ]
  },
  {
   "cell_type": "markdown",
   "metadata": {},
   "source": [
    "R is a powerful language and environment for doing Data Science (ie machine learning, information retrieval, statistical analysis, optimization and visualization). It is a public domain project (“GNU”) which is similar to the commercial S language, an environment which was developed at Bell Laboratories (formerly AT&T, now Lucent Technologies). \n",
    "\n",
    "The main advantages of R are the fact that R is freeware and that there is a lot of help available online thanks to a very active community. It is quite similar to other programming packages such as MatLab (not freeware), but more user-friendly than programming languages such as C++ or Java. \n",
    "\n",
    "Along with Python, it is one of the most important tools to know for people working with Data at all levels. \n",
    "\n",
    "R can be downloaded for free at http://www.r-project.org/\n",
    "\n",
    "We'll use extensively RStudio interface, available at http://www.rstudio.org/\n"
   ]
  },
  {
   "cell_type": "markdown",
   "metadata": {},
   "source": [
    "R can do many statistical and data analyses thanks to the so-called packages or libraries build by R users community. With the standard installation, most common packages are installed. To get a list of all installed packages, go to the RStudio packages window or type library() in the console window."
   ]
  },
  {
   "cell_type": "code",
   "execution_count": 1,
   "metadata": {
    "collapsed": false
   },
   "outputs": [
    {
     "data": {},
     "metadata": {},
     "output_type": "display_data"
    }
   ],
   "source": [
    "library()"
   ]
  },
  {
   "cell_type": "markdown",
   "metadata": {},
   "source": [
    "There are many more packages available on the R website than those you can see. If you want to install and use a package (for example, the package called “geometry”) you should:\n",
    "\n",
    "1) first click \"install packages\" in the packages window and then type geometry, or type install.packages(\"geometry\") in the command window,\n",
    "\n",
    "2) then check the box in front of geometry in the package window or type library(\"geometry\") in the command window."
   ]
  },
  {
   "cell_type": "code",
   "execution_count": 2,
   "metadata": {
    "collapsed": false
   },
   "outputs": [
    {
     "ename": "ERROR",
     "evalue": "Error in contrib.url(repos, \"source\"): trying to use CRAN without setting a mirror\n",
     "output_type": "error",
     "traceback": [
      "Error in contrib.url(repos, \"source\"): trying to use CRAN without setting a mirror\nTraceback:\n",
      "1. install.packages(\"geometry\")",
      "2. contrib.url(repos, \"source\")",
      "3. stop(\"trying to use CRAN without setting a mirror\")"
     ]
    }
   ],
   "source": [
    "install.packages(\"geometry\")"
   ]
  },
  {
   "cell_type": "code",
   "execution_count": 3,
   "metadata": {
    "collapsed": false
   },
   "outputs": [
    {
     "ename": "ERROR",
     "evalue": "Error in library(\"geometry\"): there is no package called 'geometry'\n",
     "output_type": "error",
     "traceback": [
      "Error in library(\"geometry\"): there is no package called 'geometry'\nTraceback:\n",
      "1. library(\"geometry\")",
      "2. stop(txt, domain = NA)"
     ]
    }
   ],
   "source": [
    "library(\"geometry\")"
   ]
  },
  {
   "cell_type": "markdown",
   "metadata": {},
   "source": [
    "It's possible to ask help to R on commands using \"help()\" or \"?\""
   ]
  },
  {
   "cell_type": "code",
   "execution_count": 4,
   "metadata": {
    "collapsed": false
   },
   "outputs": [
    {
     "name": "stderr",
     "output_type": "stream",
     "text": [
      "starting httpd help server ... done\n"
     ]
    },
    {
     "data": {},
     "metadata": {},
     "output_type": "display_data"
    }
   ],
   "source": [
    "help(round)\n",
    "?round\n",
    "help.search(\"round\")"
   ]
  },
  {
   "cell_type": "markdown",
   "metadata": {},
   "source": [
    "## Working Directory\n",
    "Your working directory is the folder on your computer in which you are currently working. A working directory is always assumed by R\n",
    "• New files are created by default in this directory\n",
    "• Files to be read are expected by default in this directory\n",
    "• getwd() and setwd() are used to manage the it.\n",
    "When you ask R to open a certain file, it will look in the working directory for this file, and when you tell R to save a data file or figure, it will save it in the working directory.\n",
    "Before you start working, please set your working directory to where all your data and script files are or should be stored. Type in the command window:"
   ]
  },
  {
   "cell_type": "code",
   "execution_count": 5,
   "metadata": {
    "collapsed": false
   },
   "outputs": [
    {
     "ename": "ERROR",
     "evalue": "Error in setwd(\"directoryname\"): cannot change working directory\n",
     "output_type": "error",
     "traceback": [
      "Error in setwd(\"directoryname\"): cannot change working directory\nTraceback:\n",
      "1. setwd(\"directoryname\")"
     ]
    }
   ],
   "source": [
    "setwd(\"directoryname\")"
   ]
  },
  {
   "cell_type": "markdown",
   "metadata": {},
   "source": [
    "If you want to know your working directory type"
   ]
  },
  {
   "cell_type": "code",
   "execution_count": 6,
   "metadata": {
    "collapsed": false
   },
   "outputs": [
    {
     "data": {
      "text/html": [
       "'C:/Users/t000524/workspace/Management Data Science Course'"
      ],
      "text/latex": [
       "'C:/Users/t000524/workspace/Management Data Science Course'"
      ],
      "text/markdown": [
       "'C:/Users/t000524/workspace/Management Data Science Course'"
      ],
      "text/plain": [
       "[1] \"C:/Users/t000524/workspace/Management Data Science Course\""
      ]
     },
     "metadata": {},
     "output_type": "display_data"
    }
   ],
   "source": [
    "getwd()"
   ]
  },
  {
   "cell_type": "markdown",
   "metadata": {},
   "source": [
    "setwd(\"../../Dati/\")# sale 2 livelli, entra in Dati\n",
    "dir() # elenca files/cartelle\n",
    "dir.create(\"tmpLavoro\")# crea cartella\n",
    "setwd(\"tmpLavoro\") # vi entra\n",
    "\n",
    "source(\"script.R\") esegue il codice R contenuto nel file di\n",
    "testo \"script.R\" (che potete editare anche con Notepad).\n",
    "Questo vi consente di:\n",
    "◮ spezzare un programma in moduli (script) separati, da\n",
    "eseguire richiamandoli sequenzialmente;\n",
    "◮ collocare una funzione che usate ripetutamente in uno\n",
    "script-libreria personale, da caricare all’occorrenza.\n",
    "Esempio: inizio di un mio “main script”:\n",
    "source(\"00_Parametri.R\")\n",
    "source(\"00_Input.R\")\n",
    "source(\"00_CaricamentoDati.R\")\n",
    "source(\"libUtils.R\")\n",
    "source(\"libFunz.R\")"
   ]
  },
  {
   "cell_type": "markdown",
   "metadata": {},
   "source": [
    "## R as a calculator\n",
    "You can use R as a calculator and do both basic mathematical operations..."
   ]
  },
  {
   "cell_type": "code",
   "execution_count": 7,
   "metadata": {
    "collapsed": false
   },
   "outputs": [
    {
     "data": {
      "text/html": [
       "4"
      ],
      "text/latex": [
       "4"
      ],
      "text/markdown": [
       "4"
      ],
      "text/plain": [
       "[1] 4"
      ]
     },
     "metadata": {},
     "output_type": "display_data"
    }
   ],
   "source": [
    "2+2"
   ]
  },
  {
   "cell_type": "code",
   "execution_count": 8,
   "metadata": {
    "collapsed": false
   },
   "outputs": [
    {
     "data": {
      "text/html": [
       "-1"
      ],
      "text/latex": [
       "-1"
      ],
      "text/markdown": [
       "-1"
      ],
      "text/plain": [
       "[1] -1"
      ]
     },
     "metadata": {},
     "output_type": "display_data"
    }
   ],
   "source": [
    "4-5"
   ]
  },
  {
   "cell_type": "code",
   "execution_count": 9,
   "metadata": {
    "collapsed": false
   },
   "outputs": [
    {
     "data": {
      "text/html": [
       "0.8"
      ],
      "text/latex": [
       "0.8"
      ],
      "text/markdown": [
       "0.8"
      ],
      "text/plain": [
       "[1] 0.8"
      ]
     },
     "metadata": {},
     "output_type": "display_data"
    }
   ],
   "source": [
    "4/5"
   ]
  },
  {
   "cell_type": "code",
   "execution_count": 10,
   "metadata": {
    "collapsed": false
   },
   "outputs": [
    {
     "data": {
      "text/html": [
       "72"
      ],
      "text/latex": [
       "72"
      ],
      "text/markdown": [
       "72"
      ],
      "text/plain": [
       "[1] 72"
      ]
     },
     "metadata": {},
     "output_type": "display_data"
    }
   ],
   "source": [
    "8*9"
   ]
  },
  {
   "cell_type": "code",
   "execution_count": 11,
   "metadata": {
    "collapsed": false
   },
   "outputs": [
    {
     "data": {
      "text/html": [
       "64"
      ],
      "text/latex": [
       "64"
      ],
      "text/markdown": [
       "64"
      ],
      "text/plain": [
       "[1] 64"
      ]
     },
     "metadata": {},
     "output_type": "display_data"
    }
   ],
   "source": [
    "8^2"
   ]
  },
  {
   "cell_type": "code",
   "execution_count": 12,
   "metadata": {
    "collapsed": false
   },
   "outputs": [
    {
     "data": {
      "text/html": [
       "7.38905609893065"
      ],
      "text/latex": [
       "7.38905609893065"
      ],
      "text/markdown": [
       "7.38905609893065"
      ],
      "text/plain": [
       "[1] 7.389056"
      ]
     },
     "metadata": {},
     "output_type": "display_data"
    }
   ],
   "source": [
    "exp(2)"
   ]
  },
  {
   "cell_type": "code",
   "execution_count": 13,
   "metadata": {
    "collapsed": false
   },
   "outputs": [
    {
     "data": {
      "text/html": [
       "2"
      ],
      "text/latex": [
       "2"
      ],
      "text/markdown": [
       "2"
      ],
      "text/plain": [
       "[1] 2"
      ]
     },
     "metadata": {},
     "output_type": "display_data"
    }
   ],
   "source": [
    "log(exp(2))"
   ]
  },
  {
   "cell_type": "code",
   "execution_count": 14,
   "metadata": {
    "collapsed": false
   },
   "outputs": [
    {
     "data": {
      "text/html": [
       "1"
      ],
      "text/latex": [
       "1"
      ],
      "text/markdown": [
       "1"
      ],
      "text/plain": [
       "[1] 1"
      ]
     },
     "metadata": {},
     "output_type": "display_data"
    }
   ],
   "source": [
    "5%%2"
   ]
  },
  {
   "cell_type": "code",
   "execution_count": 15,
   "metadata": {
    "collapsed": false,
    "scrolled": true
   },
   "outputs": [
    {
     "data": {
      "text/html": [
       "2"
      ],
      "text/latex": [
       "2"
      ],
      "text/markdown": [
       "2"
      ],
      "text/plain": [
       "[1] 2"
      ]
     },
     "metadata": {},
     "output_type": "display_data"
    }
   ],
   "source": [
    "5%/%2"
   ]
  },
  {
   "cell_type": "markdown",
   "metadata": {},
   "source": [
    "... or more complex ones"
   ]
  },
  {
   "cell_type": "code",
   "execution_count": 16,
   "metadata": {
    "collapsed": false
   },
   "outputs": [
    {
     "data": {
      "text/html": [
       "2.5499332139121"
      ],
      "text/latex": [
       "2.5499332139121"
      ],
      "text/markdown": [
       "2.5499332139121"
      ],
      "text/plain": [
       "[1] 2.549933"
      ]
     },
     "metadata": {},
     "output_type": "display_data"
    }
   ],
   "source": [
    "log((54*3+2)^2)/4"
   ]
  },
  {
   "cell_type": "markdown",
   "metadata": {},
   "source": [
    "## Variables \n",
    "You can create also variables in R and use them later in your scripts. The sign \"<-\" is used to assign a value to a variable. Variable types are\n",
    "- Numeric\n",
    "- Boolean\n",
    "- Character"
   ]
  },
  {
   "cell_type": "code",
   "execution_count": 17,
   "metadata": {
    "collapsed": true
   },
   "outputs": [],
   "source": [
    "#numeric variable\n",
    "x <- 10"
   ]
  },
  {
   "cell_type": "markdown",
   "metadata": {},
   "source": [
    "Afterwards, no result is displayed. To view the content of the variable just call the variable"
   ]
  },
  {
   "cell_type": "code",
   "execution_count": 18,
   "metadata": {
    "collapsed": false,
    "scrolled": false
   },
   "outputs": [
    {
     "data": {
      "text/html": [
       "10"
      ],
      "text/latex": [
       "10"
      ],
      "text/markdown": [
       "10"
      ],
      "text/plain": [
       "[1] 10"
      ]
     },
     "metadata": {},
     "output_type": "display_data"
    }
   ],
   "source": [
    "x"
   ]
  },
  {
   "cell_type": "markdown",
   "metadata": {},
   "source": [
    "You can also write the assignement operation in brackets"
   ]
  },
  {
   "cell_type": "code",
   "execution_count": 19,
   "metadata": {
    "collapsed": false,
    "scrolled": true
   },
   "outputs": [
    {
     "data": {
      "text/html": [
       "20"
      ],
      "text/latex": [
       "20"
      ],
      "text/markdown": [
       "20"
      ],
      "text/plain": [
       "[1] 20"
      ]
     },
     "metadata": {},
     "output_type": "display_data"
    }
   ],
   "source": [
    "(x <- 20)"
   ]
  },
  {
   "cell_type": "code",
   "execution_count": 20,
   "metadata": {
    "collapsed": false
   },
   "outputs": [
    {
     "data": {
      "text/html": [
       "-84.790363517662"
      ],
      "text/latex": [
       "-84.790363517662"
      ],
      "text/markdown": [
       "-84.790363517662"
      ],
      "text/plain": [
       "[1] -84.79036"
      ]
     },
     "metadata": {},
     "output_type": "display_data"
    }
   ],
   "source": [
    "y <- x + 10\n",
    "z <- x^(3/4) -pi*y\n",
    "z"
   ]
  },
  {
   "cell_type": "code",
   "execution_count": 21,
   "metadata": {
    "collapsed": false
   },
   "outputs": [
    {
     "data": {
      "text/html": [
       "FALSE"
      ],
      "text/latex": [
       "FALSE"
      ],
      "text/markdown": [
       "FALSE"
      ],
      "text/plain": [
       "[1] FALSE"
      ]
     },
     "metadata": {},
     "output_type": "display_data"
    }
   ],
   "source": [
    "# boolean variable\n",
    "z > 0"
   ]
  },
  {
   "cell_type": "code",
   "execution_count": 22,
   "metadata": {
    "collapsed": false
   },
   "outputs": [
    {
     "data": {
      "text/html": [
       "TRUE"
      ],
      "text/latex": [
       "TRUE"
      ],
      "text/markdown": [
       "TRUE"
      ],
      "text/plain": [
       "[1] TRUE"
      ]
     },
     "metadata": {},
     "output_type": "display_data"
    }
   ],
   "source": [
    "!(z > 0)"
   ]
  },
  {
   "cell_type": "code",
   "execution_count": 23,
   "metadata": {
    "collapsed": false
   },
   "outputs": [
    {
     "data": {
      "text/html": [
       "'pippo'"
      ],
      "text/latex": [
       "'pippo'"
      ],
      "text/markdown": [
       "'pippo'"
      ],
      "text/plain": [
       "[1] \"pippo\""
      ]
     },
     "metadata": {},
     "output_type": "display_data"
    }
   ],
   "source": [
    "#string variable\n",
    "string <- \"pippo\"\n",
    "string"
   ]
  },
  {
   "cell_type": "code",
   "execution_count": 24,
   "metadata": {
    "collapsed": false
   },
   "outputs": [
    {
     "data": {
      "text/html": [
       "TRUE"
      ],
      "text/latex": [
       "TRUE"
      ],
      "text/markdown": [
       "TRUE"
      ],
      "text/plain": [
       "[1] TRUE"
      ]
     },
     "metadata": {},
     "output_type": "display_data"
    }
   ],
   "source": [
    "boolean <- TRUE\n",
    "boolean"
   ]
  },
  {
   "cell_type": "markdown",
   "metadata": {},
   "source": [
    "\"Inf\" and \"NaN\" stand for Infinite Number and Missing data: "
   ]
  },
  {
   "cell_type": "code",
   "execution_count": 25,
   "metadata": {
    "collapsed": false
   },
   "outputs": [
    {
     "data": {
      "text/html": [
       "Inf"
      ],
      "text/latex": [
       "Inf"
      ],
      "text/markdown": [
       "Inf"
      ],
      "text/plain": [
       "[1] Inf"
      ]
     },
     "metadata": {},
     "output_type": "display_data"
    }
   ],
   "source": [
    "1/0"
   ]
  },
  {
   "cell_type": "code",
   "execution_count": 26,
   "metadata": {
    "collapsed": false
   },
   "outputs": [
    {
     "data": {
      "text/html": [
       "NaN"
      ],
      "text/latex": [
       "NaN"
      ],
      "text/markdown": [
       "NaN"
      ],
      "text/plain": [
       "[1] NaN"
      ]
     },
     "metadata": {},
     "output_type": "display_data"
    }
   ],
   "source": [
    "0/0"
   ]
  },
  {
   "cell_type": "code",
   "execution_count": 27,
   "metadata": {
    "collapsed": false
   },
   "outputs": [
    {
     "data": {
      "text/html": [
       "Inf"
      ],
      "text/latex": [
       "Inf"
      ],
      "text/markdown": [
       "Inf"
      ],
      "text/plain": [
       "[1] Inf"
      ]
     },
     "metadata": {},
     "output_type": "display_data"
    }
   ],
   "source": [
    "10*1/0"
   ]
  },
  {
   "cell_type": "code",
   "execution_count": 28,
   "metadata": {
    "collapsed": false
   },
   "outputs": [
    {
     "data": {
      "text/html": [
       "NaN"
      ],
      "text/latex": [
       "NaN"
      ],
      "text/markdown": [
       "NaN"
      ],
      "text/plain": [
       "[1] NaN"
      ]
     },
     "metadata": {},
     "output_type": "display_data"
    }
   ],
   "source": [
    "10*0/0"
   ]
  },
  {
   "cell_type": "markdown",
   "metadata": {},
   "source": [
    "is.na() can be used to test if a variable has missing value"
   ]
  },
  {
   "cell_type": "code",
   "execution_count": 29,
   "metadata": {
    "collapsed": false
   },
   "outputs": [
    {
     "data": {
      "text/html": [
       "TRUE"
      ],
      "text/latex": [
       "TRUE"
      ],
      "text/markdown": [
       "TRUE"
      ],
      "text/plain": [
       "[1] TRUE"
      ]
     },
     "metadata": {},
     "output_type": "display_data"
    }
   ],
   "source": [
    "is.na(0/0)"
   ]
  },
  {
   "cell_type": "markdown",
   "metadata": {},
   "source": [
    "## Dates and Time\n",
    "\n",
    "The as.Date function is a built-in function able to handle dates (without time, without control zone). The chron library handles dates and times (without control zones). POSIXct and POSIXlt classes allow for dates and times with control for time zones.\n",
    "\n",
    "### as.Date\n",
    "\n",
    "The as.Date function allows a variety of input formats through the format = argument. The default format is a four digit year, followed by a month, then a day, separated by either dashes or slashes\n"
   ]
  },
  {
   "cell_type": "code",
   "execution_count": 30,
   "metadata": {
    "collapsed": false
   },
   "outputs": [
    {
     "data": {
      "text/plain": [
       "[1] \"1915-06-16\""
      ]
     },
     "metadata": {},
     "output_type": "display_data"
    }
   ],
   "source": [
    "as.Date('1915-6-16')"
   ]
  },
  {
   "cell_type": "markdown",
   "metadata": {},
   "source": [
    "| Code | Value         \n",
    "| :- |:-------------\n",
    "| %d | Day of the month (decimal) \n",
    "| %m | Month (decimal)\n",
    "| %b | Month (abbreviated name)\n",
    "| %B | Month (full name)\n",
    "| %y | Year (2 digits)\n",
    "| %Y | Year (4 digits)\n",
    "\n"
   ]
  },
  {
   "cell_type": "code",
   "execution_count": 31,
   "metadata": {
    "collapsed": false
   },
   "outputs": [
    {
     "data": {
      "text/plain": [
       "[1] \"2001-01-15\""
      ]
     },
     "metadata": {},
     "output_type": "display_data"
    }
   ],
   "source": [
    "as.Date('01/15/2001',format='%m/%d/%Y')"
   ]
  },
  {
   "cell_type": "code",
   "execution_count": 32,
   "metadata": {
    "collapsed": false
   },
   "outputs": [
    {
     "data": {
      "text/plain": [
       "[1] \"2001-04-26\""
      ]
     },
     "metadata": {},
     "output_type": "display_data"
    }
   ],
   "source": [
    " as.Date('April 26, 2001',format='%B %d, %Y')"
   ]
  },
  {
   "cell_type": "markdown",
   "metadata": {},
   "source": [
    "**Internally, Date objects are stored as the number of days since January 1, 1970**, using negative numbers for earlier dates. The as.numeric function can be used to convert a Date object to its internal form.\n",
    "\n",
    "To extract the components of the dates, the weekdays, months, days or quarters functions can be used."
   ]
  },
  {
   "cell_type": "code",
   "execution_count": 33,
   "metadata": {
    "collapsed": false
   },
   "outputs": [
    {
     "data": {
      "text/html": [
       "<dl class=dl-horizontal>\n",
       "\t<dt>tukey</dt>\n",
       "\t\t<dd>'Wednesday'</dd>\n",
       "\t<dt>fisher</dt>\n",
       "\t\t<dd>'Monday'</dd>\n",
       "\t<dt>cramer</dt>\n",
       "\t\t<dd>'Monday'</dd>\n",
       "\t<dt>kendall</dt>\n",
       "\t\t<dd>'Friday'</dd>\n",
       "</dl>\n"
      ],
      "text/latex": [
       "\\begin{description*}\n",
       "\\item[tukey] 'Wednesday'\n",
       "\\item[fisher] 'Monday'\n",
       "\\item[cramer] 'Monday'\n",
       "\\item[kendall] 'Friday'\n",
       "\\end{description*}\n"
      ],
      "text/markdown": [
       "tukey\n",
       ":   'Wednesday'fisher\n",
       ":   'Monday'cramer\n",
       ":   'Monday'kendall\n",
       ":   'Friday'\n",
       "\n"
      ],
      "text/plain": [
       "      tukey      fisher      cramer     kendall \n",
       "\"Wednesday\"    \"Monday\"    \"Monday\"    \"Friday\" "
      ]
     },
     "metadata": {},
     "output_type": "display_data"
    },
    {
     "data": {
      "text/html": [
       "<dl class=dl-horizontal>\n",
       "\t<dt>tukey</dt>\n",
       "\t\t<dd>'June'</dd>\n",
       "\t<dt>fisher</dt>\n",
       "\t\t<dd>'February'</dd>\n",
       "\t<dt>cramer</dt>\n",
       "\t\t<dd>'September'</dd>\n",
       "\t<dt>kendall</dt>\n",
       "\t\t<dd>'September'</dd>\n",
       "</dl>\n"
      ],
      "text/latex": [
       "\\begin{description*}\n",
       "\\item[tukey] 'June'\n",
       "\\item[fisher] 'February'\n",
       "\\item[cramer] 'September'\n",
       "\\item[kendall] 'September'\n",
       "\\end{description*}\n"
      ],
      "text/markdown": [
       "tukey\n",
       ":   'June'fisher\n",
       ":   'February'cramer\n",
       ":   'September'kendall\n",
       ":   'September'\n",
       "\n"
      ],
      "text/plain": [
       "      tukey      fisher      cramer     kendall \n",
       "     \"June\"  \"February\" \"September\" \"September\" "
      ]
     },
     "metadata": {},
     "output_type": "display_data"
    }
   ],
   "source": [
    "bdays = c(tukey=as.Date('1915-06-16'),fisher=as.Date('1890-02-17'),\n",
    "          cramer=as.Date('1893-09-25'), kendall=as.Date('1907-09-06'))\n",
    "weekdays(bdays)\n",
    "months(bdays)"
   ]
  },
  {
   "cell_type": "markdown",
   "metadata": {},
   "source": [
    "### chron\n",
    "This class is a good option when you don’t need to deal with timezones. It requires the package chron."
   ]
  },
  {
   "cell_type": "code",
   "execution_count": 34,
   "metadata": {
    "collapsed": false
   },
   "outputs": [
    {
     "name": "stderr",
     "output_type": "stream",
     "text": [
      "Loading required package: chron\n"
     ]
    }
   ],
   "source": [
    "require(chron)"
   ]
  },
  {
   "cell_type": "code",
   "execution_count": 35,
   "metadata": {
    "collapsed": false
   },
   "outputs": [
    {
     "data": {
      "text/plain": [
       "[1] (07/24/13 23:55:26)"
      ]
     },
     "metadata": {},
     "output_type": "display_data"
    }
   ],
   "source": [
    "#create some times:\n",
    "\n",
    "tm1.c <- as.chron(\"2013-07-24 23:55:26\")\n",
    "tm1.c"
   ]
  },
  {
   "cell_type": "code",
   "execution_count": 36,
   "metadata": {
    "collapsed": false
   },
   "outputs": [
    {
     "data": {
      "text/html": [
       "<dl>\n",
       "\t<dt>$format</dt>\n",
       "\t\t<dd><dl class=dl-horizontal>\n",
       "\t<dt>dates</dt>\n",
       "\t\t<dd>'m/d/y'</dd>\n",
       "\t<dt>times</dt>\n",
       "\t\t<dd>'h:m:s'</dd>\n",
       "</dl>\n",
       "</dd>\n",
       "\t<dt>$origin</dt>\n",
       "\t\t<dd><dl class=dl-horizontal>\n",
       "\t<dt>month</dt>\n",
       "\t\t<dd>1</dd>\n",
       "\t<dt>day</dt>\n",
       "\t\t<dd>1</dd>\n",
       "\t<dt>year</dt>\n",
       "\t\t<dd>1970</dd>\n",
       "</dl>\n",
       "</dd>\n",
       "\t<dt>$class</dt>\n",
       "\t\t<dd><ol class=list-inline>\n",
       "\t<li>'chron'</li>\n",
       "\t<li>'dates'</li>\n",
       "\t<li>'times'</li>\n",
       "</ol>\n",
       "</dd>\n",
       "</dl>\n"
      ],
      "text/latex": [
       "\\begin{description}\n",
       "\\item[\\$format] \\begin{description*}\n",
       "\\item[dates] 'm/d/y'\n",
       "\\item[times] 'h:m:s'\n",
       "\\end{description*}\n",
       "\n",
       "\\item[\\$origin] \\begin{description*}\n",
       "\\item[month] 1\n",
       "\\item[day] 1\n",
       "\\item[year] 1970\n",
       "\\end{description*}\n",
       "\n",
       "\\item[\\$class] \\begin{enumerate*}\n",
       "\\item 'chron'\n",
       "\\item 'dates'\n",
       "\\item 'times'\n",
       "\\end{enumerate*}\n",
       "\n",
       "\\end{description}\n"
      ],
      "text/markdown": [
       "$format\n",
       ":   dates\n",
       ":   'm/d/y'times\n",
       ":   'h:m:s'\n",
       "\n",
       "\n",
       "$origin\n",
       ":   month\n",
       ":   1day\n",
       ":   1year\n",
       ":   1970\n",
       "\n",
       "\n",
       "$class\n",
       ":   1. 'chron'\n",
       "2. 'dates'\n",
       "3. 'times'\n",
       "\n",
       "\n",
       "\n",
       "\n",
       "\n"
      ],
      "text/plain": [
       "$format\n",
       "  dates   times \n",
       "\"m/d/y\" \"h:m:s\" \n",
       "\n",
       "$origin\n",
       "month   day  year \n",
       "    1     1  1970 \n",
       "\n",
       "$class\n",
       "[1] \"chron\" \"dates\" \"times\"\n"
      ]
     },
     "metadata": {},
     "output_type": "display_data"
    }
   ],
   "source": [
    "attributes(tm1.c)"
   ]
  },
  {
   "cell_type": "code",
   "execution_count": 37,
   "metadata": {
    "collapsed": false
   },
   "outputs": [
    {
     "data": {
      "text/plain": [
       "[1] (07/25/13 08:32:07)"
      ]
     },
     "metadata": {},
     "output_type": "display_data"
    }
   ],
   "source": [
    "tm2.c <- as.chron(\"07/25/13 08:32:07\", \"%m/%d/%y %H:%M:%S\")\n",
    "tm2.c"
   ]
  },
  {
   "cell_type": "code",
   "execution_count": 38,
   "metadata": {
    "collapsed": false
   },
   "outputs": [
    {
     "data": {
      "text/plain": [
       "    day  \n",
       "07/24/13 "
      ]
     },
     "metadata": {},
     "output_type": "display_data"
    }
   ],
   "source": [
    "#extract just the date:\n",
    "\n",
    "dates(tm1.c)"
   ]
  },
  {
   "cell_type": "code",
   "execution_count": 39,
   "metadata": {
    "collapsed": false
   },
   "outputs": [
    {
     "data": {
      "text/html": [
       "TRUE"
      ],
      "text/latex": [
       "TRUE"
      ],
      "text/markdown": [
       "TRUE"
      ],
      "text/plain": [
       "[1] TRUE"
      ]
     },
     "metadata": {},
     "output_type": "display_data"
    }
   ],
   "source": [
    "#compare times:\n",
    "\n",
    "tm2.c > tm1.c"
   ]
  },
  {
   "cell_type": "code",
   "execution_count": 40,
   "metadata": {
    "collapsed": false
   },
   "outputs": [
    {
     "data": {
      "text/plain": [
       "[1] (08/03/13 23:55:26)"
      ]
     },
     "metadata": {},
     "output_type": "display_data"
    }
   ],
   "source": [
    "#add days:\n",
    "\n",
    "tm1.c + 10\n"
   ]
  },
  {
   "cell_type": "code",
   "execution_count": 41,
   "metadata": {
    "collapsed": false
   },
   "outputs": [
    {
     "data": {
      "text/plain": [
       "[1] 08:36:41"
      ]
     },
     "metadata": {},
     "output_type": "display_data"
    }
   ],
   "source": [
    "#calculate the differene between times:\n",
    "tm2.c - tm1.c"
   ]
  },
  {
   "cell_type": "code",
   "execution_count": 42,
   "metadata": {
    "collapsed": false
   },
   "outputs": [
    {
     "data": {
      "text/plain": [
       "Time difference of 8.611389 hours"
      ]
     },
     "metadata": {},
     "output_type": "display_data"
    }
   ],
   "source": [
    "difftime(tm2.c, tm1.c, units = \"hours\")\n",
    "## Time difference of 8.611 hours"
   ]
  },
  {
   "cell_type": "code",
   "execution_count": 43,
   "metadata": {
    "collapsed": false
   },
   "outputs": [
    {
     "data": {
      "text/plain": [
       "[1] 08:36:41"
      ]
     },
     "metadata": {},
     "output_type": "display_data"
    }
   ],
   "source": [
    "#does not adjust for daylight savings time:\n",
    "\n",
    "as.chron(\"2013-03-10 08:32:07\") - as.chron(\"2013-03-09 23:55:26\")\n"
   ]
  },
  {
   "cell_type": "markdown",
   "metadata": {},
   "source": [
    "### POSIXct\n",
    "This class enables easy extraction of specific componants of a time. (“ct” stand for calender time and “lt” stands for local time. “lt” also helps one remember that POXIXlt objects are lists.)"
   ]
  },
  {
   "cell_type": "code",
   "execution_count": 44,
   "metadata": {
    "collapsed": false
   },
   "outputs": [
    {
     "data": {
      "text/plain": [
       "[1] \"2016-12-28 16:43:12 CET\""
      ]
     },
     "metadata": {},
     "output_type": "display_data"
    }
   ],
   "source": [
    "#Get the current time (in POSIXct by default):\n",
    "\n",
    "Sys.time()"
   ]
  },
  {
   "cell_type": "code",
   "execution_count": 45,
   "metadata": {
    "collapsed": false
   },
   "outputs": [
    {
     "data": {
      "text/plain": [
       "[1] \"2013-07-24 23:55:26 CEST\""
      ]
     },
     "metadata": {},
     "output_type": "display_data"
    }
   ],
   "source": [
    "#create some POSIXct objects:\n",
    "\n",
    "tm1 <- as.POSIXct(\"2013-07-24 23:55:26\")\n",
    "tm1"
   ]
  },
  {
   "cell_type": "code",
   "execution_count": 46,
   "metadata": {
    "collapsed": false
   },
   "outputs": [
    {
     "data": {
      "text/html": [
       "<dl>\n",
       "\t<dt>$class</dt>\n",
       "\t\t<dd><ol class=list-inline>\n",
       "\t<li>'POSIXct'</li>\n",
       "\t<li>'POSIXt'</li>\n",
       "</ol>\n",
       "</dd>\n",
       "\t<dt>$tzone</dt>\n",
       "\t\t<dd>''</dd>\n",
       "</dl>\n"
      ],
      "text/latex": [
       "\\begin{description}\n",
       "\\item[\\$class] \\begin{enumerate*}\n",
       "\\item 'POSIXct'\n",
       "\\item 'POSIXt'\n",
       "\\end{enumerate*}\n",
       "\n",
       "\\item[\\$tzone] ''\n",
       "\\end{description}\n"
      ],
      "text/markdown": [
       "$class\n",
       ":   1. 'POSIXct'\n",
       "2. 'POSIXt'\n",
       "\n",
       "\n",
       "\n",
       "$tzone\n",
       ":   ''\n",
       "\n",
       "\n"
      ],
      "text/plain": [
       "$class\n",
       "[1] \"POSIXct\" \"POSIXt\" \n",
       "\n",
       "$tzone\n",
       "[1] \"\"\n"
      ]
     },
     "metadata": {},
     "output_type": "display_data"
    }
   ],
   "source": [
    "attributes(tm1)"
   ]
  },
  {
   "cell_type": "code",
   "execution_count": 47,
   "metadata": {
    "collapsed": false
   },
   "outputs": [
    {
     "data": {
      "text/plain": [
       "[1] \"2013-07-25 08:32:07 CEST\""
      ]
     },
     "metadata": {},
     "output_type": "display_data"
    }
   ],
   "source": [
    "tm2 <- as.POSIXct(\"25072013 08:32:07\", format = \"%d%m%Y %H:%M:%S\")\n",
    "tm2"
   ]
  },
  {
   "cell_type": "code",
   "execution_count": 48,
   "metadata": {
    "collapsed": false
   },
   "outputs": [
    {
     "data": {
      "text/plain": [
       "[1] \"2010-12-01 11:42:03 GMT\""
      ]
     },
     "metadata": {},
     "output_type": "display_data"
    }
   ],
   "source": [
    "#specify the time zone:\n",
    "\n",
    "tm3 <- as.POSIXct(\"2010-12-01 11:42:03\", tz = \"GMT\")\n",
    "tm3"
   ]
  },
  {
   "cell_type": "code",
   "execution_count": 49,
   "metadata": {
    "collapsed": false
   },
   "outputs": [
    {
     "data": {
      "text/html": [
       "TRUE"
      ],
      "text/latex": [
       "TRUE"
      ],
      "text/markdown": [
       "TRUE"
      ],
      "text/plain": [
       "[1] TRUE"
      ]
     },
     "metadata": {},
     "output_type": "display_data"
    }
   ],
   "source": [
    "tm2 > tm1"
   ]
  },
  {
   "cell_type": "code",
   "execution_count": 50,
   "metadata": {
    "collapsed": false
   },
   "outputs": [
    {
     "data": {
      "text/plain": [
       "Time difference of 8.611389 hours"
      ]
     },
     "metadata": {},
     "output_type": "display_data"
    }
   ],
   "source": [
    "tm2 - tm1"
   ]
  },
  {
   "cell_type": "code",
   "execution_count": 51,
   "metadata": {
    "collapsed": false
   },
   "outputs": [
    {
     "data": {
      "text/plain": [
       "[1] \"2013-07-24 23:55:26 CEST\""
      ]
     },
     "metadata": {},
     "output_type": "display_data"
    },
    {
     "data": {
      "text/plain": [
       "[1] \"2013-07-24 23:55:56 CEST\""
      ]
     },
     "metadata": {},
     "output_type": "display_data"
    }
   ],
   "source": [
    "tm1\n",
    "tm1 + 30"
   ]
  },
  {
   "cell_type": "code",
   "execution_count": 52,
   "metadata": {
    "collapsed": false
   },
   "outputs": [
    {
     "data": {
      "text/plain": [
       "Time difference of 8.611389 hours"
      ]
     },
     "metadata": {},
     "output_type": "display_data"
    }
   ],
   "source": [
    "#automatically adjusts for daylight savings time:\n",
    "\n",
    "as.POSIXct(\"2013-03-10 08:32:07\") - as.POSIXct(\"2013-03-09 23:55:26\")"
   ]
  },
  {
   "cell_type": "markdown",
   "metadata": {},
   "source": [
    "### POSIXlt\n",
    "This class enables easy extraction of specific componants of a time. (“ct” stand for calender time and “lt” stands for local time. “lt” also helps one remember that POXIXlt objects are lists.)"
   ]
  },
  {
   "cell_type": "code",
   "execution_count": 53,
   "metadata": {
    "collapsed": false
   },
   "outputs": [
    {
     "data": {
      "text/plain": [
       "[1] \"2013-07-24 23:55:26 CEST\""
      ]
     },
     "metadata": {},
     "output_type": "display_data"
    }
   ],
   "source": [
    "#create a time:\n",
    "\n",
    "tm1.lt <- as.POSIXlt(\"2013-07-24 23:55:26\")\n",
    "tm1.lt\n"
   ]
  },
  {
   "cell_type": "code",
   "execution_count": 54,
   "metadata": {
    "collapsed": false
   },
   "outputs": [
    {
     "data": {
      "text/html": [
       "<dl>\n",
       "\t<dt>$names</dt>\n",
       "\t\t<dd><ol class=list-inline>\n",
       "\t<li>'sec'</li>\n",
       "\t<li>'min'</li>\n",
       "\t<li>'hour'</li>\n",
       "\t<li>'mday'</li>\n",
       "\t<li>'mon'</li>\n",
       "\t<li>'year'</li>\n",
       "\t<li>'wday'</li>\n",
       "\t<li>'yday'</li>\n",
       "\t<li>'isdst'</li>\n",
       "\t<li>'zone'</li>\n",
       "\t<li>'gmtoff'</li>\n",
       "</ol>\n",
       "</dd>\n",
       "\t<dt>$class</dt>\n",
       "\t\t<dd><ol class=list-inline>\n",
       "\t<li>'POSIXlt'</li>\n",
       "\t<li>'POSIXt'</li>\n",
       "</ol>\n",
       "</dd>\n",
       "</dl>\n"
      ],
      "text/latex": [
       "\\begin{description}\n",
       "\\item[\\$names] \\begin{enumerate*}\n",
       "\\item 'sec'\n",
       "\\item 'min'\n",
       "\\item 'hour'\n",
       "\\item 'mday'\n",
       "\\item 'mon'\n",
       "\\item 'year'\n",
       "\\item 'wday'\n",
       "\\item 'yday'\n",
       "\\item 'isdst'\n",
       "\\item 'zone'\n",
       "\\item 'gmtoff'\n",
       "\\end{enumerate*}\n",
       "\n",
       "\\item[\\$class] \\begin{enumerate*}\n",
       "\\item 'POSIXlt'\n",
       "\\item 'POSIXt'\n",
       "\\end{enumerate*}\n",
       "\n",
       "\\end{description}\n"
      ],
      "text/markdown": [
       "$names\n",
       ":   1. 'sec'\n",
       "2. 'min'\n",
       "3. 'hour'\n",
       "4. 'mday'\n",
       "5. 'mon'\n",
       "6. 'year'\n",
       "7. 'wday'\n",
       "8. 'yday'\n",
       "9. 'isdst'\n",
       "10. 'zone'\n",
       "11. 'gmtoff'\n",
       "\n",
       "\n",
       "\n",
       "$class\n",
       ":   1. 'POSIXlt'\n",
       "2. 'POSIXt'\n",
       "\n",
       "\n",
       "\n",
       "\n",
       "\n"
      ],
      "text/plain": [
       "$names\n",
       " [1] \"sec\"    \"min\"    \"hour\"   \"mday\"   \"mon\"    \"year\"   \"wday\"   \"yday\"  \n",
       " [9] \"isdst\"  \"zone\"   \"gmtoff\"\n",
       "\n",
       "$class\n",
       "[1] \"POSIXlt\" \"POSIXt\" \n"
      ]
     },
     "metadata": {},
     "output_type": "display_data"
    }
   ],
   "source": [
    "attributes(tm1.lt)"
   ]
  },
  {
   "cell_type": "code",
   "execution_count": 55,
   "metadata": {
    "collapsed": false
   },
   "outputs": [
    {
     "data": {
      "text/html": [
       "<dl>\n",
       "\t<dt>$sec</dt>\n",
       "\t\t<dd>26</dd>\n",
       "\t<dt>$min</dt>\n",
       "\t\t<dd>55</dd>\n",
       "\t<dt>$hour</dt>\n",
       "\t\t<dd>23</dd>\n",
       "\t<dt>$mday</dt>\n",
       "\t\t<dd>24</dd>\n",
       "\t<dt>$mon</dt>\n",
       "\t\t<dd>6</dd>\n",
       "\t<dt>$year</dt>\n",
       "\t\t<dd>113</dd>\n",
       "\t<dt>$wday</dt>\n",
       "\t\t<dd>3</dd>\n",
       "\t<dt>$yday</dt>\n",
       "\t\t<dd>204</dd>\n",
       "\t<dt>$isdst</dt>\n",
       "\t\t<dd>1</dd>\n",
       "\t<dt>$zone</dt>\n",
       "\t\t<dd>'CEST'</dd>\n",
       "\t<dt>$gmtoff</dt>\n",
       "\t\t<dd>NA</dd>\n",
       "</dl>\n"
      ],
      "text/latex": [
       "\\begin{description}\n",
       "\\item[\\$sec] 26\n",
       "\\item[\\$min] 55\n",
       "\\item[\\$hour] 23\n",
       "\\item[\\$mday] 24\n",
       "\\item[\\$mon] 6\n",
       "\\item[\\$year] 113\n",
       "\\item[\\$wday] 3\n",
       "\\item[\\$yday] 204\n",
       "\\item[\\$isdst] 1\n",
       "\\item[\\$zone] 'CEST'\n",
       "\\item[\\$gmtoff] NA\n",
       "\\end{description}\n"
      ],
      "text/markdown": [
       "$sec\n",
       ":   26\n",
       "$min\n",
       ":   55\n",
       "$hour\n",
       ":   23\n",
       "$mday\n",
       ":   24\n",
       "$mon\n",
       ":   6\n",
       "$year\n",
       ":   113\n",
       "$wday\n",
       ":   3\n",
       "$yday\n",
       ":   204\n",
       "$isdst\n",
       ":   1\n",
       "$zone\n",
       ":   'CEST'\n",
       "$gmtoff\n",
       ":   NA\n",
       "\n",
       "\n"
      ],
      "text/plain": [
       "$sec\n",
       "[1] 26\n",
       "\n",
       "$min\n",
       "[1] 55\n",
       "\n",
       "$hour\n",
       "[1] 23\n",
       "\n",
       "$mday\n",
       "[1] 24\n",
       "\n",
       "$mon\n",
       "[1] 6\n",
       "\n",
       "$year\n",
       "[1] 113\n",
       "\n",
       "$wday\n",
       "[1] 3\n",
       "\n",
       "$yday\n",
       "[1] 204\n",
       "\n",
       "$isdst\n",
       "[1] 1\n",
       "\n",
       "$zone\n",
       "[1] \"CEST\"\n",
       "\n",
       "$gmtoff\n",
       "[1] NA\n"
      ]
     },
     "metadata": {},
     "output_type": "display_data"
    }
   ],
   "source": [
    "unclass(tm1.lt)"
   ]
  },
  {
   "cell_type": "code",
   "execution_count": 56,
   "metadata": {
    "collapsed": false
   },
   "outputs": [
    {
     "data": {
      "text/html": [
       "<dl class=dl-horizontal>\n",
       "\t<dt>sec</dt>\n",
       "\t\t<dd>'26'</dd>\n",
       "\t<dt>min</dt>\n",
       "\t\t<dd>'55'</dd>\n",
       "\t<dt>hour</dt>\n",
       "\t\t<dd>'23'</dd>\n",
       "\t<dt>mday</dt>\n",
       "\t\t<dd>'24'</dd>\n",
       "\t<dt>mon</dt>\n",
       "\t\t<dd>'6'</dd>\n",
       "\t<dt>year</dt>\n",
       "\t\t<dd>'113'</dd>\n",
       "\t<dt>wday</dt>\n",
       "\t\t<dd>'3'</dd>\n",
       "\t<dt>yday</dt>\n",
       "\t\t<dd>'204'</dd>\n",
       "\t<dt>isdst</dt>\n",
       "\t\t<dd>'1'</dd>\n",
       "\t<dt>zone</dt>\n",
       "\t\t<dd>'CEST'</dd>\n",
       "\t<dt>gmtoff</dt>\n",
       "\t\t<dd>'NA'</dd>\n",
       "</dl>\n"
      ],
      "text/latex": [
       "\\begin{description*}\n",
       "\\item[sec] '26'\n",
       "\\item[min] '55'\n",
       "\\item[hour] '23'\n",
       "\\item[mday] '24'\n",
       "\\item[mon] '6'\n",
       "\\item[year] '113'\n",
       "\\item[wday] '3'\n",
       "\\item[yday] '204'\n",
       "\\item[isdst] '1'\n",
       "\\item[zone] 'CEST'\n",
       "\\item[gmtoff] 'NA'\n",
       "\\end{description*}\n"
      ],
      "text/markdown": [
       "sec\n",
       ":   '26'min\n",
       ":   '55'hour\n",
       ":   '23'mday\n",
       ":   '24'mon\n",
       ":   '6'year\n",
       ":   '113'wday\n",
       ":   '3'yday\n",
       ":   '204'isdst\n",
       ":   '1'zone\n",
       ":   'CEST'gmtoff\n",
       ":   'NA'\n",
       "\n"
      ],
      "text/plain": [
       "   sec    min   hour   mday    mon   year   wday   yday  isdst   zone gmtoff \n",
       "  \"26\"   \"55\"   \"23\"   \"24\"    \"6\"  \"113\"    \"3\"  \"204\"    \"1\" \"CEST\"     NA "
      ]
     },
     "metadata": {},
     "output_type": "display_data"
    }
   ],
   "source": [
    "unlist(tm1.lt)"
   ]
  },
  {
   "cell_type": "code",
   "execution_count": 57,
   "metadata": {
    "collapsed": false
   },
   "outputs": [
    {
     "data": {
      "text/html": [
       "26"
      ],
      "text/latex": [
       "26"
      ],
      "text/markdown": [
       "26"
      ],
      "text/plain": [
       "[1] 26"
      ]
     },
     "metadata": {},
     "output_type": "display_data"
    }
   ],
   "source": [
    "#extract componants of a time object:\n",
    "\n",
    "tm1.lt$se"
   ]
  },
  {
   "cell_type": "code",
   "execution_count": 58,
   "metadata": {
    "collapsed": false
   },
   "outputs": [
    {
     "data": {
      "text/plain": [
       "[1] \"2013-07-24 CEST\""
      ]
     },
     "metadata": {},
     "output_type": "display_data"
    }
   ],
   "source": [
    "#truncate or round off the time:\n",
    "\n",
    "trunc(tm1.lt, \"days\")\n"
   ]
  },
  {
   "cell_type": "code",
   "execution_count": 59,
   "metadata": {
    "collapsed": false
   },
   "outputs": [
    {
     "data": {
      "text/plain": [
       "[1] \"2013-07-24 23:55:00 CEST\""
      ]
     },
     "metadata": {},
     "output_type": "display_data"
    }
   ],
   "source": [
    "trunc(tm1.lt, \"mins\")"
   ]
  },
  {
   "cell_type": "markdown",
   "metadata": {},
   "source": [
    "### Useful Properties"
   ]
  },
  {
   "cell_type": "code",
   "execution_count": 60,
   "metadata": {
    "collapsed": false
   },
   "outputs": [
    {
     "data": {
      "text/html": [
       "'double'"
      ],
      "text/latex": [
       "'double'"
      ],
      "text/markdown": [
       "'double'"
      ],
      "text/plain": [
       "[1] \"double\""
      ]
     },
     "metadata": {},
     "output_type": "display_data"
    }
   ],
   "source": [
    "typeof(x)"
   ]
  },
  {
   "cell_type": "code",
   "execution_count": 61,
   "metadata": {
    "collapsed": false,
    "scrolled": true
   },
   "outputs": [
    {
     "data": {
      "text/html": [
       "'character'"
      ],
      "text/latex": [
       "'character'"
      ],
      "text/markdown": [
       "'character'"
      ],
      "text/plain": [
       "[1] \"character\""
      ]
     },
     "metadata": {},
     "output_type": "display_data"
    }
   ],
   "source": [
    "typeof(string)"
   ]
  },
  {
   "cell_type": "code",
   "execution_count": 62,
   "metadata": {
    "collapsed": false
   },
   "outputs": [
    {
     "data": {
      "text/html": [
       "'logical'"
      ],
      "text/latex": [
       "'logical'"
      ],
      "text/markdown": [
       "'logical'"
      ],
      "text/plain": [
       "[1] \"logical\""
      ]
     },
     "metadata": {},
     "output_type": "display_data"
    }
   ],
   "source": [
    "typeof(boolean)"
   ]
  },
  {
   "cell_type": "markdown",
   "metadata": {},
   "source": [
    "## Vectors and Lists\n",
    "Vector is the basic data structure in R. It can be atomic vector (all elements are the same type) or list (element can have different type).\n"
   ]
  },
  {
   "cell_type": "code",
   "execution_count": 63,
   "metadata": {
    "collapsed": true
   },
   "outputs": [],
   "source": [
    "#combine objects into an atomic vector\n",
    "y <- c(1,2,3)"
   ]
  },
  {
   "cell_type": "code",
   "execution_count": 64,
   "metadata": {
    "collapsed": false,
    "scrolled": true
   },
   "outputs": [
    {
     "data": {
      "text/html": [
       "<ol class=list-inline>\n",
       "\t<li>1</li>\n",
       "\t<li>2</li>\n",
       "\t<li>3</li>\n",
       "</ol>\n"
      ],
      "text/latex": [
       "\\begin{enumerate*}\n",
       "\\item 1\n",
       "\\item 2\n",
       "\\item 3\n",
       "\\end{enumerate*}\n"
      ],
      "text/markdown": [
       "1. 1\n",
       "2. 2\n",
       "3. 3\n",
       "\n",
       "\n"
      ],
      "text/plain": [
       "[1] 1 2 3"
      ]
     },
     "metadata": {},
     "output_type": "display_data"
    }
   ],
   "source": [
    "y"
   ]
  },
  {
   "cell_type": "code",
   "execution_count": 65,
   "metadata": {
    "collapsed": true
   },
   "outputs": [],
   "source": [
    "string <- \"pippo\"\n",
    "strings <- c(string, \"pluto\")"
   ]
  },
  {
   "cell_type": "code",
   "execution_count": 66,
   "metadata": {
    "collapsed": false
   },
   "outputs": [
    {
     "data": {
      "text/html": [
       "<ol class=list-inline>\n",
       "\t<li>'pippo'</li>\n",
       "\t<li>'pluto'</li>\n",
       "</ol>\n"
      ],
      "text/latex": [
       "\\begin{enumerate*}\n",
       "\\item 'pippo'\n",
       "\\item 'pluto'\n",
       "\\end{enumerate*}\n"
      ],
      "text/markdown": [
       "1. 'pippo'\n",
       "2. 'pluto'\n",
       "\n",
       "\n"
      ],
      "text/plain": [
       "[1] \"pippo\" \"pluto\""
      ]
     },
     "metadata": {},
     "output_type": "display_data"
    }
   ],
   "source": [
    "strings"
   ]
  },
  {
   "cell_type": "markdown",
   "metadata": {},
   "source": [
    "Atomic vectors are always flat"
   ]
  },
  {
   "cell_type": "code",
   "execution_count": 67,
   "metadata": {
    "collapsed": false,
    "scrolled": true
   },
   "outputs": [
    {
     "data": {
      "text/html": [
       "<ol class=list-inline>\n",
       "\t<li>1</li>\n",
       "\t<li>2</li>\n",
       "\t<li>3</li>\n",
       "\t<li>4</li>\n",
       "</ol>\n"
      ],
      "text/latex": [
       "\\begin{enumerate*}\n",
       "\\item 1\n",
       "\\item 2\n",
       "\\item 3\n",
       "\\item 4\n",
       "\\end{enumerate*}\n"
      ],
      "text/markdown": [
       "1. 1\n",
       "2. 2\n",
       "3. 3\n",
       "4. 4\n",
       "\n",
       "\n"
      ],
      "text/plain": [
       "[1] 1 2 3 4"
      ]
     },
     "metadata": {},
     "output_type": "display_data"
    }
   ],
   "source": [
    "c(1,c(2, c(3,4)))"
   ]
  },
  {
   "cell_type": "code",
   "execution_count": 68,
   "metadata": {
    "collapsed": false
   },
   "outputs": [
    {
     "data": {
      "text/html": [
       "<ol class=list-inline>\n",
       "\t<li>0</li>\n",
       "\t<li>0</li>\n",
       "\t<li>0</li>\n",
       "\t<li>0</li>\n",
       "\t<li>0</li>\n",
       "\t<li>0</li>\n",
       "\t<li>0</li>\n",
       "\t<li>0</li>\n",
       "\t<li>0</li>\n",
       "\t<li>0</li>\n",
       "</ol>\n"
      ],
      "text/latex": [
       "\\begin{enumerate*}\n",
       "\\item 0\n",
       "\\item 0\n",
       "\\item 0\n",
       "\\item 0\n",
       "\\item 0\n",
       "\\item 0\n",
       "\\item 0\n",
       "\\item 0\n",
       "\\item 0\n",
       "\\item 0\n",
       "\\end{enumerate*}\n"
      ],
      "text/markdown": [
       "1. 0\n",
       "2. 0\n",
       "3. 0\n",
       "4. 0\n",
       "5. 0\n",
       "6. 0\n",
       "7. 0\n",
       "8. 0\n",
       "9. 0\n",
       "10. 0\n",
       "\n",
       "\n"
      ],
      "text/plain": [
       " [1] 0 0 0 0 0 0 0 0 0 0"
      ]
     },
     "metadata": {},
     "output_type": "display_data"
    }
   ],
   "source": [
    "v <- vector(10, mode=\"numeric\"); v #initializa a vector of numerics"
   ]
  },
  {
   "cell_type": "markdown",
   "metadata": {},
   "source": [
    "Vectors can be created via ad'hoc buil-in functions. A very useful function is seq()"
   ]
  },
  {
   "cell_type": "code",
   "execution_count": 69,
   "metadata": {
    "collapsed": false
   },
   "outputs": [
    {
     "data": {
      "text/html": [
       "<ol class=list-inline>\n",
       "\t<li>1</li>\n",
       "\t<li>4</li>\n",
       "\t<li>7</li>\n",
       "\t<li>10</li>\n",
       "</ol>\n"
      ],
      "text/latex": [
       "\\begin{enumerate*}\n",
       "\\item 1\n",
       "\\item 4\n",
       "\\item 7\n",
       "\\item 10\n",
       "\\end{enumerate*}\n"
      ],
      "text/markdown": [
       "1. 1\n",
       "2. 4\n",
       "3. 7\n",
       "4. 10\n",
       "\n",
       "\n"
      ],
      "text/plain": [
       "[1]  1  4  7 10"
      ]
     },
     "metadata": {},
     "output_type": "display_data"
    }
   ],
   "source": [
    "seq(from = 1, to = 10, by = 3)"
   ]
  },
  {
   "cell_type": "code",
   "execution_count": 70,
   "metadata": {
    "collapsed": false
   },
   "outputs": [
    {
     "data": {
      "text/html": [
       "<ol class=list-inline>\n",
       "\t<li>-1</li>\n",
       "\t<li>-0.99</li>\n",
       "\t<li>-0.98</li>\n",
       "\t<li>-0.97</li>\n",
       "\t<li>-0.96</li>\n",
       "\t<li>-0.95</li>\n",
       "\t<li>-0.94</li>\n",
       "\t<li>-0.93</li>\n",
       "\t<li>-0.92</li>\n",
       "\t<li>-0.91</li>\n",
       "\t<li>-0.9</li>\n",
       "\t<li>-0.89</li>\n",
       "\t<li>-0.88</li>\n",
       "\t<li>-0.87</li>\n",
       "\t<li>-0.86</li>\n",
       "\t<li>-0.85</li>\n",
       "\t<li>-0.84</li>\n",
       "\t<li>-0.83</li>\n",
       "\t<li>-0.82</li>\n",
       "\t<li>-0.81</li>\n",
       "\t<li>-0.8</li>\n",
       "\t<li>-0.79</li>\n",
       "\t<li>-0.78</li>\n",
       "\t<li>-0.77</li>\n",
       "\t<li>-0.76</li>\n",
       "\t<li>-0.75</li>\n",
       "\t<li>-0.74</li>\n",
       "\t<li>-0.73</li>\n",
       "\t<li>-0.72</li>\n",
       "\t<li>-0.71</li>\n",
       "\t<li>-0.7</li>\n",
       "\t<li>-0.69</li>\n",
       "\t<li>-0.68</li>\n",
       "\t<li>-0.67</li>\n",
       "\t<li>-0.66</li>\n",
       "\t<li>-0.65</li>\n",
       "\t<li>-0.64</li>\n",
       "\t<li>-0.63</li>\n",
       "\t<li>-0.62</li>\n",
       "\t<li>-0.61</li>\n",
       "\t<li>-0.6</li>\n",
       "\t<li>-0.59</li>\n",
       "\t<li>-0.58</li>\n",
       "\t<li>-0.57</li>\n",
       "\t<li>-0.56</li>\n",
       "\t<li>-0.55</li>\n",
       "\t<li>-0.54</li>\n",
       "\t<li>-0.53</li>\n",
       "\t<li>-0.52</li>\n",
       "\t<li>-0.51</li>\n",
       "\t<li>-0.5</li>\n",
       "\t<li>-0.49</li>\n",
       "\t<li>-0.48</li>\n",
       "\t<li>-0.47</li>\n",
       "\t<li>-0.46</li>\n",
       "\t<li>-0.45</li>\n",
       "\t<li>-0.44</li>\n",
       "\t<li>-0.43</li>\n",
       "\t<li>-0.42</li>\n",
       "\t<li>-0.41</li>\n",
       "\t<li>-0.4</li>\n",
       "\t<li>-0.39</li>\n",
       "\t<li>-0.38</li>\n",
       "\t<li>-0.37</li>\n",
       "\t<li>-0.36</li>\n",
       "\t<li>-0.35</li>\n",
       "\t<li>-0.34</li>\n",
       "\t<li>-0.33</li>\n",
       "\t<li>-0.32</li>\n",
       "\t<li>-0.31</li>\n",
       "\t<li>-0.3</li>\n",
       "\t<li>-0.29</li>\n",
       "\t<li>-0.28</li>\n",
       "\t<li>-0.27</li>\n",
       "\t<li>-0.26</li>\n",
       "\t<li>-0.25</li>\n",
       "\t<li>-0.24</li>\n",
       "\t<li>-0.23</li>\n",
       "\t<li>-0.22</li>\n",
       "\t<li>-0.21</li>\n",
       "\t<li>-0.2</li>\n",
       "\t<li>-0.19</li>\n",
       "\t<li>-0.18</li>\n",
       "\t<li>-0.17</li>\n",
       "\t<li>-0.16</li>\n",
       "\t<li>-0.15</li>\n",
       "\t<li>-0.14</li>\n",
       "\t<li>-0.13</li>\n",
       "\t<li>-0.12</li>\n",
       "\t<li>-0.11</li>\n",
       "\t<li>-0.1</li>\n",
       "\t<li>-0.09</li>\n",
       "\t<li>-0.08</li>\n",
       "\t<li>-0.07</li>\n",
       "\t<li>-0.0599999999999999</li>\n",
       "\t<li>-0.0499999999999999</li>\n",
       "\t<li>-0.04</li>\n",
       "\t<li>-0.03</li>\n",
       "\t<li>-0.02</li>\n",
       "\t<li>-0.01</li>\n",
       "\t<li>0</li>\n",
       "\t<li>0.01</li>\n",
       "\t<li>0.02</li>\n",
       "\t<li>0.03</li>\n",
       "\t<li>0.04</li>\n",
       "\t<li>0.05</li>\n",
       "\t<li>0.0600000000000001</li>\n",
       "\t<li>0.0700000000000001</li>\n",
       "\t<li>0.0800000000000001</li>\n",
       "\t<li>0.0900000000000001</li>\n",
       "\t<li>0.1</li>\n",
       "\t<li>0.11</li>\n",
       "\t<li>0.12</li>\n",
       "\t<li>0.13</li>\n",
       "\t<li>0.14</li>\n",
       "\t<li>0.15</li>\n",
       "\t<li>0.16</li>\n",
       "\t<li>0.17</li>\n",
       "\t<li>0.18</li>\n",
       "\t<li>0.19</li>\n",
       "\t<li>0.2</li>\n",
       "\t<li>0.21</li>\n",
       "\t<li>0.22</li>\n",
       "\t<li>0.23</li>\n",
       "\t<li>0.24</li>\n",
       "\t<li>0.25</li>\n",
       "\t<li>0.26</li>\n",
       "\t<li>0.27</li>\n",
       "\t<li>0.28</li>\n",
       "\t<li>0.29</li>\n",
       "\t<li>0.3</li>\n",
       "\t<li>0.31</li>\n",
       "\t<li>0.32</li>\n",
       "\t<li>0.33</li>\n",
       "\t<li>0.34</li>\n",
       "\t<li>0.35</li>\n",
       "\t<li>0.36</li>\n",
       "\t<li>0.37</li>\n",
       "\t<li>0.38</li>\n",
       "\t<li>0.39</li>\n",
       "\t<li>0.4</li>\n",
       "\t<li>0.41</li>\n",
       "\t<li>0.42</li>\n",
       "\t<li>0.43</li>\n",
       "\t<li>0.44</li>\n",
       "\t<li>0.45</li>\n",
       "\t<li>0.46</li>\n",
       "\t<li>0.47</li>\n",
       "\t<li>0.48</li>\n",
       "\t<li>0.49</li>\n",
       "\t<li>0.5</li>\n",
       "\t<li>0.51</li>\n",
       "\t<li>0.52</li>\n",
       "\t<li>0.53</li>\n",
       "\t<li>0.54</li>\n",
       "\t<li>0.55</li>\n",
       "\t<li>0.56</li>\n",
       "\t<li>0.57</li>\n",
       "\t<li>0.58</li>\n",
       "\t<li>0.59</li>\n",
       "\t<li>0.6</li>\n",
       "\t<li>0.61</li>\n",
       "\t<li>0.62</li>\n",
       "\t<li>0.63</li>\n",
       "\t<li>0.64</li>\n",
       "\t<li>0.65</li>\n",
       "\t<li>0.66</li>\n",
       "\t<li>0.67</li>\n",
       "\t<li>0.68</li>\n",
       "\t<li>0.69</li>\n",
       "\t<li>0.7</li>\n",
       "\t<li>0.71</li>\n",
       "\t<li>0.72</li>\n",
       "\t<li>0.73</li>\n",
       "\t<li>0.74</li>\n",
       "\t<li>0.75</li>\n",
       "\t<li>0.76</li>\n",
       "\t<li>0.77</li>\n",
       "\t<li>0.78</li>\n",
       "\t<li>0.79</li>\n",
       "\t<li>0.8</li>\n",
       "\t<li>0.81</li>\n",
       "\t<li>0.82</li>\n",
       "\t<li>0.83</li>\n",
       "\t<li>0.84</li>\n",
       "\t<li>0.85</li>\n",
       "\t<li>0.86</li>\n",
       "\t<li>0.87</li>\n",
       "\t<li>0.88</li>\n",
       "\t<li>0.89</li>\n",
       "\t<li>0.9</li>\n",
       "\t<li>0.91</li>\n",
       "\t<li>0.92</li>\n",
       "\t<li>0.93</li>\n",
       "\t<li>0.94</li>\n",
       "\t<li>0.95</li>\n",
       "\t<li>0.96</li>\n",
       "\t<li>0.97</li>\n",
       "\t<li>0.98</li>\n",
       "\t<li>0.99</li>\n",
       "\t<li>1</li>\n",
       "</ol>\n"
      ],
      "text/latex": [
       "\\begin{enumerate*}\n",
       "\\item -1\n",
       "\\item -0.99\n",
       "\\item -0.98\n",
       "\\item -0.97\n",
       "\\item -0.96\n",
       "\\item -0.95\n",
       "\\item -0.94\n",
       "\\item -0.93\n",
       "\\item -0.92\n",
       "\\item -0.91\n",
       "\\item -0.9\n",
       "\\item -0.89\n",
       "\\item -0.88\n",
       "\\item -0.87\n",
       "\\item -0.86\n",
       "\\item -0.85\n",
       "\\item -0.84\n",
       "\\item -0.83\n",
       "\\item -0.82\n",
       "\\item -0.81\n",
       "\\item -0.8\n",
       "\\item -0.79\n",
       "\\item -0.78\n",
       "\\item -0.77\n",
       "\\item -0.76\n",
       "\\item -0.75\n",
       "\\item -0.74\n",
       "\\item -0.73\n",
       "\\item -0.72\n",
       "\\item -0.71\n",
       "\\item -0.7\n",
       "\\item -0.69\n",
       "\\item -0.68\n",
       "\\item -0.67\n",
       "\\item -0.66\n",
       "\\item -0.65\n",
       "\\item -0.64\n",
       "\\item -0.63\n",
       "\\item -0.62\n",
       "\\item -0.61\n",
       "\\item -0.6\n",
       "\\item -0.59\n",
       "\\item -0.58\n",
       "\\item -0.57\n",
       "\\item -0.56\n",
       "\\item -0.55\n",
       "\\item -0.54\n",
       "\\item -0.53\n",
       "\\item -0.52\n",
       "\\item -0.51\n",
       "\\item -0.5\n",
       "\\item -0.49\n",
       "\\item -0.48\n",
       "\\item -0.47\n",
       "\\item -0.46\n",
       "\\item -0.45\n",
       "\\item -0.44\n",
       "\\item -0.43\n",
       "\\item -0.42\n",
       "\\item -0.41\n",
       "\\item -0.4\n",
       "\\item -0.39\n",
       "\\item -0.38\n",
       "\\item -0.37\n",
       "\\item -0.36\n",
       "\\item -0.35\n",
       "\\item -0.34\n",
       "\\item -0.33\n",
       "\\item -0.32\n",
       "\\item -0.31\n",
       "\\item -0.3\n",
       "\\item -0.29\n",
       "\\item -0.28\n",
       "\\item -0.27\n",
       "\\item -0.26\n",
       "\\item -0.25\n",
       "\\item -0.24\n",
       "\\item -0.23\n",
       "\\item -0.22\n",
       "\\item -0.21\n",
       "\\item -0.2\n",
       "\\item -0.19\n",
       "\\item -0.18\n",
       "\\item -0.17\n",
       "\\item -0.16\n",
       "\\item -0.15\n",
       "\\item -0.14\n",
       "\\item -0.13\n",
       "\\item -0.12\n",
       "\\item -0.11\n",
       "\\item -0.1\n",
       "\\item -0.09\n",
       "\\item -0.08\n",
       "\\item -0.07\n",
       "\\item -0.0599999999999999\n",
       "\\item -0.0499999999999999\n",
       "\\item -0.04\n",
       "\\item -0.03\n",
       "\\item -0.02\n",
       "\\item -0.01\n",
       "\\item 0\n",
       "\\item 0.01\n",
       "\\item 0.02\n",
       "\\item 0.03\n",
       "\\item 0.04\n",
       "\\item 0.05\n",
       "\\item 0.0600000000000001\n",
       "\\item 0.0700000000000001\n",
       "\\item 0.0800000000000001\n",
       "\\item 0.0900000000000001\n",
       "\\item 0.1\n",
       "\\item 0.11\n",
       "\\item 0.12\n",
       "\\item 0.13\n",
       "\\item 0.14\n",
       "\\item 0.15\n",
       "\\item 0.16\n",
       "\\item 0.17\n",
       "\\item 0.18\n",
       "\\item 0.19\n",
       "\\item 0.2\n",
       "\\item 0.21\n",
       "\\item 0.22\n",
       "\\item 0.23\n",
       "\\item 0.24\n",
       "\\item 0.25\n",
       "\\item 0.26\n",
       "\\item 0.27\n",
       "\\item 0.28\n",
       "\\item 0.29\n",
       "\\item 0.3\n",
       "\\item 0.31\n",
       "\\item 0.32\n",
       "\\item 0.33\n",
       "\\item 0.34\n",
       "\\item 0.35\n",
       "\\item 0.36\n",
       "\\item 0.37\n",
       "\\item 0.38\n",
       "\\item 0.39\n",
       "\\item 0.4\n",
       "\\item 0.41\n",
       "\\item 0.42\n",
       "\\item 0.43\n",
       "\\item 0.44\n",
       "\\item 0.45\n",
       "\\item 0.46\n",
       "\\item 0.47\n",
       "\\item 0.48\n",
       "\\item 0.49\n",
       "\\item 0.5\n",
       "\\item 0.51\n",
       "\\item 0.52\n",
       "\\item 0.53\n",
       "\\item 0.54\n",
       "\\item 0.55\n",
       "\\item 0.56\n",
       "\\item 0.57\n",
       "\\item 0.58\n",
       "\\item 0.59\n",
       "\\item 0.6\n",
       "\\item 0.61\n",
       "\\item 0.62\n",
       "\\item 0.63\n",
       "\\item 0.64\n",
       "\\item 0.65\n",
       "\\item 0.66\n",
       "\\item 0.67\n",
       "\\item 0.68\n",
       "\\item 0.69\n",
       "\\item 0.7\n",
       "\\item 0.71\n",
       "\\item 0.72\n",
       "\\item 0.73\n",
       "\\item 0.74\n",
       "\\item 0.75\n",
       "\\item 0.76\n",
       "\\item 0.77\n",
       "\\item 0.78\n",
       "\\item 0.79\n",
       "\\item 0.8\n",
       "\\item 0.81\n",
       "\\item 0.82\n",
       "\\item 0.83\n",
       "\\item 0.84\n",
       "\\item 0.85\n",
       "\\item 0.86\n",
       "\\item 0.87\n",
       "\\item 0.88\n",
       "\\item 0.89\n",
       "\\item 0.9\n",
       "\\item 0.91\n",
       "\\item 0.92\n",
       "\\item 0.93\n",
       "\\item 0.94\n",
       "\\item 0.95\n",
       "\\item 0.96\n",
       "\\item 0.97\n",
       "\\item 0.98\n",
       "\\item 0.99\n",
       "\\item 1\n",
       "\\end{enumerate*}\n"
      ],
      "text/markdown": [
       "1. -1\n",
       "2. -0.99\n",
       "3. -0.98\n",
       "4. -0.97\n",
       "5. -0.96\n",
       "6. -0.95\n",
       "7. -0.94\n",
       "8. -0.93\n",
       "9. -0.92\n",
       "10. -0.91\n",
       "11. -0.9\n",
       "12. -0.89\n",
       "13. -0.88\n",
       "14. -0.87\n",
       "15. -0.86\n",
       "16. -0.85\n",
       "17. -0.84\n",
       "18. -0.83\n",
       "19. -0.82\n",
       "20. -0.81\n",
       "21. -0.8\n",
       "22. -0.79\n",
       "23. -0.78\n",
       "24. -0.77\n",
       "25. -0.76\n",
       "26. -0.75\n",
       "27. -0.74\n",
       "28. -0.73\n",
       "29. -0.72\n",
       "30. -0.71\n",
       "31. -0.7\n",
       "32. -0.69\n",
       "33. -0.68\n",
       "34. -0.67\n",
       "35. -0.66\n",
       "36. -0.65\n",
       "37. -0.64\n",
       "38. -0.63\n",
       "39. -0.62\n",
       "40. -0.61\n",
       "41. -0.6\n",
       "42. -0.59\n",
       "43. -0.58\n",
       "44. -0.57\n",
       "45. -0.56\n",
       "46. -0.55\n",
       "47. -0.54\n",
       "48. -0.53\n",
       "49. -0.52\n",
       "50. -0.51\n",
       "51. -0.5\n",
       "52. -0.49\n",
       "53. -0.48\n",
       "54. -0.47\n",
       "55. -0.46\n",
       "56. -0.45\n",
       "57. -0.44\n",
       "58. -0.43\n",
       "59. -0.42\n",
       "60. -0.41\n",
       "61. -0.4\n",
       "62. -0.39\n",
       "63. -0.38\n",
       "64. -0.37\n",
       "65. -0.36\n",
       "66. -0.35\n",
       "67. -0.34\n",
       "68. -0.33\n",
       "69. -0.32\n",
       "70. -0.31\n",
       "71. -0.3\n",
       "72. -0.29\n",
       "73. -0.28\n",
       "74. -0.27\n",
       "75. -0.26\n",
       "76. -0.25\n",
       "77. -0.24\n",
       "78. -0.23\n",
       "79. -0.22\n",
       "80. -0.21\n",
       "81. -0.2\n",
       "82. -0.19\n",
       "83. -0.18\n",
       "84. -0.17\n",
       "85. -0.16\n",
       "86. -0.15\n",
       "87. -0.14\n",
       "88. -0.13\n",
       "89. -0.12\n",
       "90. -0.11\n",
       "91. -0.1\n",
       "92. -0.09\n",
       "93. -0.08\n",
       "94. -0.07\n",
       "95. -0.0599999999999999\n",
       "96. -0.0499999999999999\n",
       "97. -0.04\n",
       "98. -0.03\n",
       "99. -0.02\n",
       "100. -0.01\n",
       "101. 0\n",
       "102. 0.01\n",
       "103. 0.02\n",
       "104. 0.03\n",
       "105. 0.04\n",
       "106. 0.05\n",
       "107. 0.0600000000000001\n",
       "108. 0.0700000000000001\n",
       "109. 0.0800000000000001\n",
       "110. 0.0900000000000001\n",
       "111. 0.1\n",
       "112. 0.11\n",
       "113. 0.12\n",
       "114. 0.13\n",
       "115. 0.14\n",
       "116. 0.15\n",
       "117. 0.16\n",
       "118. 0.17\n",
       "119. 0.18\n",
       "120. 0.19\n",
       "121. 0.2\n",
       "122. 0.21\n",
       "123. 0.22\n",
       "124. 0.23\n",
       "125. 0.24\n",
       "126. 0.25\n",
       "127. 0.26\n",
       "128. 0.27\n",
       "129. 0.28\n",
       "130. 0.29\n",
       "131. 0.3\n",
       "132. 0.31\n",
       "133. 0.32\n",
       "134. 0.33\n",
       "135. 0.34\n",
       "136. 0.35\n",
       "137. 0.36\n",
       "138. 0.37\n",
       "139. 0.38\n",
       "140. 0.39\n",
       "141. 0.4\n",
       "142. 0.41\n",
       "143. 0.42\n",
       "144. 0.43\n",
       "145. 0.44\n",
       "146. 0.45\n",
       "147. 0.46\n",
       "148. 0.47\n",
       "149. 0.48\n",
       "150. 0.49\n",
       "151. 0.5\n",
       "152. 0.51\n",
       "153. 0.52\n",
       "154. 0.53\n",
       "155. 0.54\n",
       "156. 0.55\n",
       "157. 0.56\n",
       "158. 0.57\n",
       "159. 0.58\n",
       "160. 0.59\n",
       "161. 0.6\n",
       "162. 0.61\n",
       "163. 0.62\n",
       "164. 0.63\n",
       "165. 0.64\n",
       "166. 0.65\n",
       "167. 0.66\n",
       "168. 0.67\n",
       "169. 0.68\n",
       "170. 0.69\n",
       "171. 0.7\n",
       "172. 0.71\n",
       "173. 0.72\n",
       "174. 0.73\n",
       "175. 0.74\n",
       "176. 0.75\n",
       "177. 0.76\n",
       "178. 0.77\n",
       "179. 0.78\n",
       "180. 0.79\n",
       "181. 0.8\n",
       "182. 0.81\n",
       "183. 0.82\n",
       "184. 0.83\n",
       "185. 0.84\n",
       "186. 0.85\n",
       "187. 0.86\n",
       "188. 0.87\n",
       "189. 0.88\n",
       "190. 0.89\n",
       "191. 0.9\n",
       "192. 0.91\n",
       "193. 0.92\n",
       "194. 0.93\n",
       "195. 0.94\n",
       "196. 0.95\n",
       "197. 0.96\n",
       "198. 0.97\n",
       "199. 0.98\n",
       "200. 0.99\n",
       "201. 1\n",
       "\n",
       "\n"
      ],
      "text/plain": [
       "  [1] -1.00 -0.99 -0.98 -0.97 -0.96 -0.95 -0.94 -0.93 -0.92 -0.91 -0.90 -0.89\n",
       " [13] -0.88 -0.87 -0.86 -0.85 -0.84 -0.83 -0.82 -0.81 -0.80 -0.79 -0.78 -0.77\n",
       " [25] -0.76 -0.75 -0.74 -0.73 -0.72 -0.71 -0.70 -0.69 -0.68 -0.67 -0.66 -0.65\n",
       " [37] -0.64 -0.63 -0.62 -0.61 -0.60 -0.59 -0.58 -0.57 -0.56 -0.55 -0.54 -0.53\n",
       " [49] -0.52 -0.51 -0.50 -0.49 -0.48 -0.47 -0.46 -0.45 -0.44 -0.43 -0.42 -0.41\n",
       " [61] -0.40 -0.39 -0.38 -0.37 -0.36 -0.35 -0.34 -0.33 -0.32 -0.31 -0.30 -0.29\n",
       " [73] -0.28 -0.27 -0.26 -0.25 -0.24 -0.23 -0.22 -0.21 -0.20 -0.19 -0.18 -0.17\n",
       " [85] -0.16 -0.15 -0.14 -0.13 -0.12 -0.11 -0.10 -0.09 -0.08 -0.07 -0.06 -0.05\n",
       " [97] -0.04 -0.03 -0.02 -0.01  0.00  0.01  0.02  0.03  0.04  0.05  0.06  0.07\n",
       "[109]  0.08  0.09  0.10  0.11  0.12  0.13  0.14  0.15  0.16  0.17  0.18  0.19\n",
       "[121]  0.20  0.21  0.22  0.23  0.24  0.25  0.26  0.27  0.28  0.29  0.30  0.31\n",
       "[133]  0.32  0.33  0.34  0.35  0.36  0.37  0.38  0.39  0.40  0.41  0.42  0.43\n",
       "[145]  0.44  0.45  0.46  0.47  0.48  0.49  0.50  0.51  0.52  0.53  0.54  0.55\n",
       "[157]  0.56  0.57  0.58  0.59  0.60  0.61  0.62  0.63  0.64  0.65  0.66  0.67\n",
       "[169]  0.68  0.69  0.70  0.71  0.72  0.73  0.74  0.75  0.76  0.77  0.78  0.79\n",
       "[181]  0.80  0.81  0.82  0.83  0.84  0.85  0.86  0.87  0.88  0.89  0.90  0.91\n",
       "[193]  0.92  0.93  0.94  0.95  0.96  0.97  0.98  0.99  1.00"
      ]
     },
     "metadata": {},
     "output_type": "display_data"
    }
   ],
   "source": [
    "v <- seq(-1,1,0.01)\n",
    "v"
   ]
  },
  {
   "cell_type": "markdown",
   "metadata": {},
   "source": [
    "Vector elements can be accessed in several ways"
   ]
  },
  {
   "cell_type": "code",
   "execution_count": 71,
   "metadata": {
    "collapsed": false
   },
   "outputs": [
    {
     "data": {
      "text/html": [
       "-1"
      ],
      "text/latex": [
       "-1"
      ],
      "text/markdown": [
       "-1"
      ],
      "text/plain": [
       "[1] -1"
      ]
     },
     "metadata": {},
     "output_type": "display_data"
    }
   ],
   "source": [
    "v[1]"
   ]
  },
  {
   "cell_type": "code",
   "execution_count": 72,
   "metadata": {
    "collapsed": false
   },
   "outputs": [
    {
     "data": {
      "text/html": [
       "<ol class=list-inline>\n",
       "\t<li>-1</li>\n",
       "\t<li>-0.99</li>\n",
       "\t<li>-0.98</li>\n",
       "</ol>\n"
      ],
      "text/latex": [
       "\\begin{enumerate*}\n",
       "\\item -1\n",
       "\\item -0.99\n",
       "\\item -0.98\n",
       "\\end{enumerate*}\n"
      ],
      "text/markdown": [
       "1. -1\n",
       "2. -0.99\n",
       "3. -0.98\n",
       "\n",
       "\n"
      ],
      "text/plain": [
       "[1] -1.00 -0.99 -0.98"
      ]
     },
     "metadata": {},
     "output_type": "display_data"
    }
   ],
   "source": [
    "v[1:3]"
   ]
  },
  {
   "cell_type": "code",
   "execution_count": 73,
   "metadata": {
    "collapsed": false
   },
   "outputs": [
    {
     "data": {
      "text/html": [
       "<ol class=list-inline>\n",
       "\t<li>-0.91</li>\n",
       "\t<li>-0.9</li>\n",
       "\t<li>-0.89</li>\n",
       "\t<li>-0.73</li>\n",
       "\t<li>-0.72</li>\n",
       "\t<li>-0.69</li>\n",
       "</ol>\n"
      ],
      "text/latex": [
       "\\begin{enumerate*}\n",
       "\\item -0.91\n",
       "\\item -0.9\n",
       "\\item -0.89\n",
       "\\item -0.73\n",
       "\\item -0.72\n",
       "\\item -0.69\n",
       "\\end{enumerate*}\n"
      ],
      "text/markdown": [
       "1. -0.91\n",
       "2. -0.9\n",
       "3. -0.89\n",
       "4. -0.73\n",
       "5. -0.72\n",
       "6. -0.69\n",
       "\n",
       "\n"
      ],
      "text/plain": [
       "[1] -0.91 -0.90 -0.89 -0.73 -0.72 -0.69"
      ]
     },
     "metadata": {},
     "output_type": "display_data"
    }
   ],
   "source": [
    "v[c(10:12,28:29,32)]"
   ]
  },
  {
   "cell_type": "markdown",
   "metadata": {},
   "source": [
    "**Be aware R doesn't work like Python**... If you type v[-1] you get the vector without the first elemnt and not the last element of the vector"
   ]
  },
  {
   "cell_type": "code",
   "execution_count": 74,
   "metadata": {
    "collapsed": false
   },
   "outputs": [
    {
     "data": {
      "text/html": [
       "<ol class=list-inline>\n",
       "\t<li>-0.99</li>\n",
       "\t<li>-0.98</li>\n",
       "\t<li>-0.97</li>\n",
       "\t<li>-0.96</li>\n",
       "\t<li>-0.95</li>\n",
       "\t<li>-0.94</li>\n",
       "\t<li>-0.93</li>\n",
       "\t<li>-0.92</li>\n",
       "\t<li>-0.91</li>\n",
       "\t<li>-0.9</li>\n",
       "\t<li>-0.89</li>\n",
       "\t<li>-0.88</li>\n",
       "\t<li>-0.87</li>\n",
       "\t<li>-0.86</li>\n",
       "\t<li>-0.85</li>\n",
       "\t<li>-0.84</li>\n",
       "\t<li>-0.83</li>\n",
       "\t<li>-0.82</li>\n",
       "\t<li>-0.81</li>\n",
       "\t<li>-0.8</li>\n",
       "\t<li>-0.79</li>\n",
       "\t<li>-0.78</li>\n",
       "\t<li>-0.77</li>\n",
       "\t<li>-0.76</li>\n",
       "\t<li>-0.75</li>\n",
       "\t<li>-0.74</li>\n",
       "\t<li>-0.73</li>\n",
       "\t<li>-0.72</li>\n",
       "\t<li>-0.71</li>\n",
       "\t<li>-0.7</li>\n",
       "\t<li>-0.69</li>\n",
       "\t<li>-0.68</li>\n",
       "\t<li>-0.67</li>\n",
       "\t<li>-0.66</li>\n",
       "\t<li>-0.65</li>\n",
       "\t<li>-0.64</li>\n",
       "\t<li>-0.63</li>\n",
       "\t<li>-0.62</li>\n",
       "\t<li>-0.61</li>\n",
       "\t<li>-0.6</li>\n",
       "\t<li>-0.59</li>\n",
       "\t<li>-0.58</li>\n",
       "\t<li>-0.57</li>\n",
       "\t<li>-0.56</li>\n",
       "\t<li>-0.55</li>\n",
       "\t<li>-0.54</li>\n",
       "\t<li>-0.53</li>\n",
       "\t<li>-0.52</li>\n",
       "\t<li>-0.51</li>\n",
       "\t<li>-0.5</li>\n",
       "\t<li>-0.49</li>\n",
       "\t<li>-0.48</li>\n",
       "\t<li>-0.47</li>\n",
       "\t<li>-0.46</li>\n",
       "\t<li>-0.45</li>\n",
       "\t<li>-0.44</li>\n",
       "\t<li>-0.43</li>\n",
       "\t<li>-0.42</li>\n",
       "\t<li>-0.41</li>\n",
       "\t<li>-0.4</li>\n",
       "\t<li>-0.39</li>\n",
       "\t<li>-0.38</li>\n",
       "\t<li>-0.37</li>\n",
       "\t<li>-0.36</li>\n",
       "\t<li>-0.35</li>\n",
       "\t<li>-0.34</li>\n",
       "\t<li>-0.33</li>\n",
       "\t<li>-0.32</li>\n",
       "\t<li>-0.31</li>\n",
       "\t<li>-0.3</li>\n",
       "\t<li>-0.29</li>\n",
       "\t<li>-0.28</li>\n",
       "\t<li>-0.27</li>\n",
       "\t<li>-0.26</li>\n",
       "\t<li>-0.25</li>\n",
       "\t<li>-0.24</li>\n",
       "\t<li>-0.23</li>\n",
       "\t<li>-0.22</li>\n",
       "\t<li>-0.21</li>\n",
       "\t<li>-0.2</li>\n",
       "\t<li>-0.19</li>\n",
       "\t<li>-0.18</li>\n",
       "\t<li>-0.17</li>\n",
       "\t<li>-0.16</li>\n",
       "\t<li>-0.15</li>\n",
       "\t<li>-0.14</li>\n",
       "\t<li>-0.13</li>\n",
       "\t<li>-0.12</li>\n",
       "\t<li>-0.11</li>\n",
       "\t<li>-0.1</li>\n",
       "\t<li>-0.09</li>\n",
       "\t<li>-0.08</li>\n",
       "\t<li>-0.07</li>\n",
       "\t<li>-0.0599999999999999</li>\n",
       "\t<li>-0.0499999999999999</li>\n",
       "\t<li>-0.04</li>\n",
       "\t<li>-0.03</li>\n",
       "\t<li>-0.02</li>\n",
       "\t<li>-0.01</li>\n",
       "\t<li>0</li>\n",
       "\t<li>0.01</li>\n",
       "\t<li>0.02</li>\n",
       "\t<li>0.03</li>\n",
       "\t<li>0.04</li>\n",
       "\t<li>0.05</li>\n",
       "\t<li>0.0600000000000001</li>\n",
       "\t<li>0.0700000000000001</li>\n",
       "\t<li>0.0800000000000001</li>\n",
       "\t<li>0.0900000000000001</li>\n",
       "\t<li>0.1</li>\n",
       "\t<li>0.11</li>\n",
       "\t<li>0.12</li>\n",
       "\t<li>0.13</li>\n",
       "\t<li>0.14</li>\n",
       "\t<li>0.15</li>\n",
       "\t<li>0.16</li>\n",
       "\t<li>0.17</li>\n",
       "\t<li>0.18</li>\n",
       "\t<li>0.19</li>\n",
       "\t<li>0.2</li>\n",
       "\t<li>0.21</li>\n",
       "\t<li>0.22</li>\n",
       "\t<li>0.23</li>\n",
       "\t<li>0.24</li>\n",
       "\t<li>0.25</li>\n",
       "\t<li>0.26</li>\n",
       "\t<li>0.27</li>\n",
       "\t<li>0.28</li>\n",
       "\t<li>0.29</li>\n",
       "\t<li>0.3</li>\n",
       "\t<li>0.31</li>\n",
       "\t<li>0.32</li>\n",
       "\t<li>0.33</li>\n",
       "\t<li>0.34</li>\n",
       "\t<li>0.35</li>\n",
       "\t<li>0.36</li>\n",
       "\t<li>0.37</li>\n",
       "\t<li>0.38</li>\n",
       "\t<li>0.39</li>\n",
       "\t<li>0.4</li>\n",
       "\t<li>0.41</li>\n",
       "\t<li>0.42</li>\n",
       "\t<li>0.43</li>\n",
       "\t<li>0.44</li>\n",
       "\t<li>0.45</li>\n",
       "\t<li>0.46</li>\n",
       "\t<li>0.47</li>\n",
       "\t<li>0.48</li>\n",
       "\t<li>0.49</li>\n",
       "\t<li>0.5</li>\n",
       "\t<li>0.51</li>\n",
       "\t<li>0.52</li>\n",
       "\t<li>0.53</li>\n",
       "\t<li>0.54</li>\n",
       "\t<li>0.55</li>\n",
       "\t<li>0.56</li>\n",
       "\t<li>0.57</li>\n",
       "\t<li>0.58</li>\n",
       "\t<li>0.59</li>\n",
       "\t<li>0.6</li>\n",
       "\t<li>0.61</li>\n",
       "\t<li>0.62</li>\n",
       "\t<li>0.63</li>\n",
       "\t<li>0.64</li>\n",
       "\t<li>0.65</li>\n",
       "\t<li>0.66</li>\n",
       "\t<li>0.67</li>\n",
       "\t<li>0.68</li>\n",
       "\t<li>0.69</li>\n",
       "\t<li>0.7</li>\n",
       "\t<li>0.71</li>\n",
       "\t<li>0.72</li>\n",
       "\t<li>0.73</li>\n",
       "\t<li>0.74</li>\n",
       "\t<li>0.75</li>\n",
       "\t<li>0.76</li>\n",
       "\t<li>0.77</li>\n",
       "\t<li>0.78</li>\n",
       "\t<li>0.79</li>\n",
       "\t<li>0.8</li>\n",
       "\t<li>0.81</li>\n",
       "\t<li>0.82</li>\n",
       "\t<li>0.83</li>\n",
       "\t<li>0.84</li>\n",
       "\t<li>0.85</li>\n",
       "\t<li>0.86</li>\n",
       "\t<li>0.87</li>\n",
       "\t<li>0.88</li>\n",
       "\t<li>0.89</li>\n",
       "\t<li>0.9</li>\n",
       "\t<li>0.91</li>\n",
       "\t<li>0.92</li>\n",
       "\t<li>0.93</li>\n",
       "\t<li>0.94</li>\n",
       "\t<li>0.95</li>\n",
       "\t<li>0.96</li>\n",
       "\t<li>0.97</li>\n",
       "\t<li>0.98</li>\n",
       "\t<li>0.99</li>\n",
       "\t<li>1</li>\n",
       "</ol>\n"
      ],
      "text/latex": [
       "\\begin{enumerate*}\n",
       "\\item -0.99\n",
       "\\item -0.98\n",
       "\\item -0.97\n",
       "\\item -0.96\n",
       "\\item -0.95\n",
       "\\item -0.94\n",
       "\\item -0.93\n",
       "\\item -0.92\n",
       "\\item -0.91\n",
       "\\item -0.9\n",
       "\\item -0.89\n",
       "\\item -0.88\n",
       "\\item -0.87\n",
       "\\item -0.86\n",
       "\\item -0.85\n",
       "\\item -0.84\n",
       "\\item -0.83\n",
       "\\item -0.82\n",
       "\\item -0.81\n",
       "\\item -0.8\n",
       "\\item -0.79\n",
       "\\item -0.78\n",
       "\\item -0.77\n",
       "\\item -0.76\n",
       "\\item -0.75\n",
       "\\item -0.74\n",
       "\\item -0.73\n",
       "\\item -0.72\n",
       "\\item -0.71\n",
       "\\item -0.7\n",
       "\\item -0.69\n",
       "\\item -0.68\n",
       "\\item -0.67\n",
       "\\item -0.66\n",
       "\\item -0.65\n",
       "\\item -0.64\n",
       "\\item -0.63\n",
       "\\item -0.62\n",
       "\\item -0.61\n",
       "\\item -0.6\n",
       "\\item -0.59\n",
       "\\item -0.58\n",
       "\\item -0.57\n",
       "\\item -0.56\n",
       "\\item -0.55\n",
       "\\item -0.54\n",
       "\\item -0.53\n",
       "\\item -0.52\n",
       "\\item -0.51\n",
       "\\item -0.5\n",
       "\\item -0.49\n",
       "\\item -0.48\n",
       "\\item -0.47\n",
       "\\item -0.46\n",
       "\\item -0.45\n",
       "\\item -0.44\n",
       "\\item -0.43\n",
       "\\item -0.42\n",
       "\\item -0.41\n",
       "\\item -0.4\n",
       "\\item -0.39\n",
       "\\item -0.38\n",
       "\\item -0.37\n",
       "\\item -0.36\n",
       "\\item -0.35\n",
       "\\item -0.34\n",
       "\\item -0.33\n",
       "\\item -0.32\n",
       "\\item -0.31\n",
       "\\item -0.3\n",
       "\\item -0.29\n",
       "\\item -0.28\n",
       "\\item -0.27\n",
       "\\item -0.26\n",
       "\\item -0.25\n",
       "\\item -0.24\n",
       "\\item -0.23\n",
       "\\item -0.22\n",
       "\\item -0.21\n",
       "\\item -0.2\n",
       "\\item -0.19\n",
       "\\item -0.18\n",
       "\\item -0.17\n",
       "\\item -0.16\n",
       "\\item -0.15\n",
       "\\item -0.14\n",
       "\\item -0.13\n",
       "\\item -0.12\n",
       "\\item -0.11\n",
       "\\item -0.1\n",
       "\\item -0.09\n",
       "\\item -0.08\n",
       "\\item -0.07\n",
       "\\item -0.0599999999999999\n",
       "\\item -0.0499999999999999\n",
       "\\item -0.04\n",
       "\\item -0.03\n",
       "\\item -0.02\n",
       "\\item -0.01\n",
       "\\item 0\n",
       "\\item 0.01\n",
       "\\item 0.02\n",
       "\\item 0.03\n",
       "\\item 0.04\n",
       "\\item 0.05\n",
       "\\item 0.0600000000000001\n",
       "\\item 0.0700000000000001\n",
       "\\item 0.0800000000000001\n",
       "\\item 0.0900000000000001\n",
       "\\item 0.1\n",
       "\\item 0.11\n",
       "\\item 0.12\n",
       "\\item 0.13\n",
       "\\item 0.14\n",
       "\\item 0.15\n",
       "\\item 0.16\n",
       "\\item 0.17\n",
       "\\item 0.18\n",
       "\\item 0.19\n",
       "\\item 0.2\n",
       "\\item 0.21\n",
       "\\item 0.22\n",
       "\\item 0.23\n",
       "\\item 0.24\n",
       "\\item 0.25\n",
       "\\item 0.26\n",
       "\\item 0.27\n",
       "\\item 0.28\n",
       "\\item 0.29\n",
       "\\item 0.3\n",
       "\\item 0.31\n",
       "\\item 0.32\n",
       "\\item 0.33\n",
       "\\item 0.34\n",
       "\\item 0.35\n",
       "\\item 0.36\n",
       "\\item 0.37\n",
       "\\item 0.38\n",
       "\\item 0.39\n",
       "\\item 0.4\n",
       "\\item 0.41\n",
       "\\item 0.42\n",
       "\\item 0.43\n",
       "\\item 0.44\n",
       "\\item 0.45\n",
       "\\item 0.46\n",
       "\\item 0.47\n",
       "\\item 0.48\n",
       "\\item 0.49\n",
       "\\item 0.5\n",
       "\\item 0.51\n",
       "\\item 0.52\n",
       "\\item 0.53\n",
       "\\item 0.54\n",
       "\\item 0.55\n",
       "\\item 0.56\n",
       "\\item 0.57\n",
       "\\item 0.58\n",
       "\\item 0.59\n",
       "\\item 0.6\n",
       "\\item 0.61\n",
       "\\item 0.62\n",
       "\\item 0.63\n",
       "\\item 0.64\n",
       "\\item 0.65\n",
       "\\item 0.66\n",
       "\\item 0.67\n",
       "\\item 0.68\n",
       "\\item 0.69\n",
       "\\item 0.7\n",
       "\\item 0.71\n",
       "\\item 0.72\n",
       "\\item 0.73\n",
       "\\item 0.74\n",
       "\\item 0.75\n",
       "\\item 0.76\n",
       "\\item 0.77\n",
       "\\item 0.78\n",
       "\\item 0.79\n",
       "\\item 0.8\n",
       "\\item 0.81\n",
       "\\item 0.82\n",
       "\\item 0.83\n",
       "\\item 0.84\n",
       "\\item 0.85\n",
       "\\item 0.86\n",
       "\\item 0.87\n",
       "\\item 0.88\n",
       "\\item 0.89\n",
       "\\item 0.9\n",
       "\\item 0.91\n",
       "\\item 0.92\n",
       "\\item 0.93\n",
       "\\item 0.94\n",
       "\\item 0.95\n",
       "\\item 0.96\n",
       "\\item 0.97\n",
       "\\item 0.98\n",
       "\\item 0.99\n",
       "\\item 1\n",
       "\\end{enumerate*}\n"
      ],
      "text/markdown": [
       "1. -0.99\n",
       "2. -0.98\n",
       "3. -0.97\n",
       "4. -0.96\n",
       "5. -0.95\n",
       "6. -0.94\n",
       "7. -0.93\n",
       "8. -0.92\n",
       "9. -0.91\n",
       "10. -0.9\n",
       "11. -0.89\n",
       "12. -0.88\n",
       "13. -0.87\n",
       "14. -0.86\n",
       "15. -0.85\n",
       "16. -0.84\n",
       "17. -0.83\n",
       "18. -0.82\n",
       "19. -0.81\n",
       "20. -0.8\n",
       "21. -0.79\n",
       "22. -0.78\n",
       "23. -0.77\n",
       "24. -0.76\n",
       "25. -0.75\n",
       "26. -0.74\n",
       "27. -0.73\n",
       "28. -0.72\n",
       "29. -0.71\n",
       "30. -0.7\n",
       "31. -0.69\n",
       "32. -0.68\n",
       "33. -0.67\n",
       "34. -0.66\n",
       "35. -0.65\n",
       "36. -0.64\n",
       "37. -0.63\n",
       "38. -0.62\n",
       "39. -0.61\n",
       "40. -0.6\n",
       "41. -0.59\n",
       "42. -0.58\n",
       "43. -0.57\n",
       "44. -0.56\n",
       "45. -0.55\n",
       "46. -0.54\n",
       "47. -0.53\n",
       "48. -0.52\n",
       "49. -0.51\n",
       "50. -0.5\n",
       "51. -0.49\n",
       "52. -0.48\n",
       "53. -0.47\n",
       "54. -0.46\n",
       "55. -0.45\n",
       "56. -0.44\n",
       "57. -0.43\n",
       "58. -0.42\n",
       "59. -0.41\n",
       "60. -0.4\n",
       "61. -0.39\n",
       "62. -0.38\n",
       "63. -0.37\n",
       "64. -0.36\n",
       "65. -0.35\n",
       "66. -0.34\n",
       "67. -0.33\n",
       "68. -0.32\n",
       "69. -0.31\n",
       "70. -0.3\n",
       "71. -0.29\n",
       "72. -0.28\n",
       "73. -0.27\n",
       "74. -0.26\n",
       "75. -0.25\n",
       "76. -0.24\n",
       "77. -0.23\n",
       "78. -0.22\n",
       "79. -0.21\n",
       "80. -0.2\n",
       "81. -0.19\n",
       "82. -0.18\n",
       "83. -0.17\n",
       "84. -0.16\n",
       "85. -0.15\n",
       "86. -0.14\n",
       "87. -0.13\n",
       "88. -0.12\n",
       "89. -0.11\n",
       "90. -0.1\n",
       "91. -0.09\n",
       "92. -0.08\n",
       "93. -0.07\n",
       "94. -0.0599999999999999\n",
       "95. -0.0499999999999999\n",
       "96. -0.04\n",
       "97. -0.03\n",
       "98. -0.02\n",
       "99. -0.01\n",
       "100. 0\n",
       "101. 0.01\n",
       "102. 0.02\n",
       "103. 0.03\n",
       "104. 0.04\n",
       "105. 0.05\n",
       "106. 0.0600000000000001\n",
       "107. 0.0700000000000001\n",
       "108. 0.0800000000000001\n",
       "109. 0.0900000000000001\n",
       "110. 0.1\n",
       "111. 0.11\n",
       "112. 0.12\n",
       "113. 0.13\n",
       "114. 0.14\n",
       "115. 0.15\n",
       "116. 0.16\n",
       "117. 0.17\n",
       "118. 0.18\n",
       "119. 0.19\n",
       "120. 0.2\n",
       "121. 0.21\n",
       "122. 0.22\n",
       "123. 0.23\n",
       "124. 0.24\n",
       "125. 0.25\n",
       "126. 0.26\n",
       "127. 0.27\n",
       "128. 0.28\n",
       "129. 0.29\n",
       "130. 0.3\n",
       "131. 0.31\n",
       "132. 0.32\n",
       "133. 0.33\n",
       "134. 0.34\n",
       "135. 0.35\n",
       "136. 0.36\n",
       "137. 0.37\n",
       "138. 0.38\n",
       "139. 0.39\n",
       "140. 0.4\n",
       "141. 0.41\n",
       "142. 0.42\n",
       "143. 0.43\n",
       "144. 0.44\n",
       "145. 0.45\n",
       "146. 0.46\n",
       "147. 0.47\n",
       "148. 0.48\n",
       "149. 0.49\n",
       "150. 0.5\n",
       "151. 0.51\n",
       "152. 0.52\n",
       "153. 0.53\n",
       "154. 0.54\n",
       "155. 0.55\n",
       "156. 0.56\n",
       "157. 0.57\n",
       "158. 0.58\n",
       "159. 0.59\n",
       "160. 0.6\n",
       "161. 0.61\n",
       "162. 0.62\n",
       "163. 0.63\n",
       "164. 0.64\n",
       "165. 0.65\n",
       "166. 0.66\n",
       "167. 0.67\n",
       "168. 0.68\n",
       "169. 0.69\n",
       "170. 0.7\n",
       "171. 0.71\n",
       "172. 0.72\n",
       "173. 0.73\n",
       "174. 0.74\n",
       "175. 0.75\n",
       "176. 0.76\n",
       "177. 0.77\n",
       "178. 0.78\n",
       "179. 0.79\n",
       "180. 0.8\n",
       "181. 0.81\n",
       "182. 0.82\n",
       "183. 0.83\n",
       "184. 0.84\n",
       "185. 0.85\n",
       "186. 0.86\n",
       "187. 0.87\n",
       "188. 0.88\n",
       "189. 0.89\n",
       "190. 0.9\n",
       "191. 0.91\n",
       "192. 0.92\n",
       "193. 0.93\n",
       "194. 0.94\n",
       "195. 0.95\n",
       "196. 0.96\n",
       "197. 0.97\n",
       "198. 0.98\n",
       "199. 0.99\n",
       "200. 1\n",
       "\n",
       "\n"
      ],
      "text/plain": [
       "  [1] -0.99 -0.98 -0.97 -0.96 -0.95 -0.94 -0.93 -0.92 -0.91 -0.90 -0.89 -0.88\n",
       " [13] -0.87 -0.86 -0.85 -0.84 -0.83 -0.82 -0.81 -0.80 -0.79 -0.78 -0.77 -0.76\n",
       " [25] -0.75 -0.74 -0.73 -0.72 -0.71 -0.70 -0.69 -0.68 -0.67 -0.66 -0.65 -0.64\n",
       " [37] -0.63 -0.62 -0.61 -0.60 -0.59 -0.58 -0.57 -0.56 -0.55 -0.54 -0.53 -0.52\n",
       " [49] -0.51 -0.50 -0.49 -0.48 -0.47 -0.46 -0.45 -0.44 -0.43 -0.42 -0.41 -0.40\n",
       " [61] -0.39 -0.38 -0.37 -0.36 -0.35 -0.34 -0.33 -0.32 -0.31 -0.30 -0.29 -0.28\n",
       " [73] -0.27 -0.26 -0.25 -0.24 -0.23 -0.22 -0.21 -0.20 -0.19 -0.18 -0.17 -0.16\n",
       " [85] -0.15 -0.14 -0.13 -0.12 -0.11 -0.10 -0.09 -0.08 -0.07 -0.06 -0.05 -0.04\n",
       " [97] -0.03 -0.02 -0.01  0.00  0.01  0.02  0.03  0.04  0.05  0.06  0.07  0.08\n",
       "[109]  0.09  0.10  0.11  0.12  0.13  0.14  0.15  0.16  0.17  0.18  0.19  0.20\n",
       "[121]  0.21  0.22  0.23  0.24  0.25  0.26  0.27  0.28  0.29  0.30  0.31  0.32\n",
       "[133]  0.33  0.34  0.35  0.36  0.37  0.38  0.39  0.40  0.41  0.42  0.43  0.44\n",
       "[145]  0.45  0.46  0.47  0.48  0.49  0.50  0.51  0.52  0.53  0.54  0.55  0.56\n",
       "[157]  0.57  0.58  0.59  0.60  0.61  0.62  0.63  0.64  0.65  0.66  0.67  0.68\n",
       "[169]  0.69  0.70  0.71  0.72  0.73  0.74  0.75  0.76  0.77  0.78  0.79  0.80\n",
       "[181]  0.81  0.82  0.83  0.84  0.85  0.86  0.87  0.88  0.89  0.90  0.91  0.92\n",
       "[193]  0.93  0.94  0.95  0.96  0.97  0.98  0.99  1.00"
      ]
     },
     "metadata": {},
     "output_type": "display_data"
    }
   ],
   "source": [
    "v[-1]"
   ]
  },
  {
   "cell_type": "markdown",
   "metadata": {},
   "source": [
    "Here are some useful built-in functions you can apply to a vector"
   ]
  },
  {
   "cell_type": "code",
   "execution_count": 75,
   "metadata": {
    "collapsed": false
   },
   "outputs": [
    {
     "data": {
      "text/html": [
       "201"
      ],
      "text/latex": [
       "201"
      ],
      "text/markdown": [
       "201"
      ],
      "text/plain": [
       "[1] 201"
      ]
     },
     "metadata": {},
     "output_type": "display_data"
    },
    {
     "data": {
      "text/html": [
       "-1"
      ],
      "text/latex": [
       "-1"
      ],
      "text/markdown": [
       "-1"
      ],
      "text/plain": [
       "[1] -1"
      ]
     },
     "metadata": {},
     "output_type": "display_data"
    },
    {
     "data": {
      "text/html": [
       "1"
      ],
      "text/latex": [
       "1"
      ],
      "text/markdown": [
       "1"
      ],
      "text/plain": [
       "[1] 1"
      ]
     },
     "metadata": {},
     "output_type": "display_data"
    },
    {
     "data": {
      "text/html": [
       "4.10782519111308e-15"
      ],
      "text/latex": [
       "4.10782519111308e-15"
      ],
      "text/markdown": [
       "4.10782519111308e-15"
      ],
      "text/plain": [
       "[1] 4.107825e-15"
      ]
     },
     "metadata": {},
     "output_type": "display_data"
    },
    {
     "data": {
      "text/html": [
       "0"
      ],
      "text/latex": [
       "0"
      ],
      "text/markdown": [
       "0"
      ],
      "text/plain": [
       "[1] 0"
      ]
     },
     "metadata": {},
     "output_type": "display_data"
    },
    {
     "data": {
      "text/html": [
       "<ol class=list-inline>\n",
       "\t<li>-1</li>\n",
       "\t<li>-0.99</li>\n",
       "\t<li>-0.98</li>\n",
       "\t<li>-0.97</li>\n",
       "\t<li>-0.96</li>\n",
       "\t<li>-0.95</li>\n",
       "\t<li>-0.94</li>\n",
       "\t<li>-0.93</li>\n",
       "\t<li>-0.92</li>\n",
       "\t<li>-0.91</li>\n",
       "\t<li>-0.9</li>\n",
       "\t<li>-0.89</li>\n",
       "\t<li>-0.88</li>\n",
       "\t<li>-0.87</li>\n",
       "\t<li>-0.86</li>\n",
       "\t<li>-0.85</li>\n",
       "\t<li>-0.84</li>\n",
       "\t<li>-0.83</li>\n",
       "\t<li>-0.82</li>\n",
       "\t<li>-0.81</li>\n",
       "\t<li>-0.8</li>\n",
       "\t<li>-0.79</li>\n",
       "\t<li>-0.78</li>\n",
       "\t<li>-0.77</li>\n",
       "\t<li>-0.76</li>\n",
       "\t<li>-0.75</li>\n",
       "\t<li>-0.74</li>\n",
       "\t<li>-0.73</li>\n",
       "\t<li>-0.72</li>\n",
       "\t<li>-0.71</li>\n",
       "\t<li>-0.7</li>\n",
       "\t<li>-0.69</li>\n",
       "\t<li>-0.68</li>\n",
       "\t<li>-0.67</li>\n",
       "\t<li>-0.66</li>\n",
       "\t<li>-0.65</li>\n",
       "\t<li>-0.64</li>\n",
       "\t<li>-0.63</li>\n",
       "\t<li>-0.62</li>\n",
       "\t<li>-0.61</li>\n",
       "\t<li>-0.6</li>\n",
       "\t<li>-0.59</li>\n",
       "\t<li>-0.58</li>\n",
       "\t<li>-0.57</li>\n",
       "\t<li>-0.56</li>\n",
       "\t<li>-0.55</li>\n",
       "\t<li>-0.54</li>\n",
       "\t<li>-0.53</li>\n",
       "\t<li>-0.52</li>\n",
       "\t<li>-0.51</li>\n",
       "\t<li>-0.5</li>\n",
       "\t<li>-0.49</li>\n",
       "\t<li>-0.48</li>\n",
       "\t<li>-0.47</li>\n",
       "\t<li>-0.46</li>\n",
       "\t<li>-0.45</li>\n",
       "\t<li>-0.44</li>\n",
       "\t<li>-0.43</li>\n",
       "\t<li>-0.42</li>\n",
       "\t<li>-0.41</li>\n",
       "\t<li>-0.4</li>\n",
       "\t<li>-0.39</li>\n",
       "\t<li>-0.38</li>\n",
       "\t<li>-0.37</li>\n",
       "\t<li>-0.36</li>\n",
       "\t<li>-0.35</li>\n",
       "\t<li>-0.34</li>\n",
       "\t<li>-0.33</li>\n",
       "\t<li>-0.32</li>\n",
       "\t<li>-0.31</li>\n",
       "\t<li>-0.3</li>\n",
       "\t<li>-0.29</li>\n",
       "\t<li>-0.28</li>\n",
       "\t<li>-0.27</li>\n",
       "\t<li>-0.26</li>\n",
       "\t<li>-0.25</li>\n",
       "\t<li>-0.24</li>\n",
       "\t<li>-0.23</li>\n",
       "\t<li>-0.22</li>\n",
       "\t<li>-0.21</li>\n",
       "\t<li>-0.2</li>\n",
       "\t<li>-0.19</li>\n",
       "\t<li>-0.18</li>\n",
       "\t<li>-0.17</li>\n",
       "\t<li>-0.16</li>\n",
       "\t<li>-0.15</li>\n",
       "\t<li>-0.14</li>\n",
       "\t<li>-0.13</li>\n",
       "\t<li>-0.12</li>\n",
       "\t<li>-0.11</li>\n",
       "\t<li>-0.1</li>\n",
       "\t<li>-0.09</li>\n",
       "\t<li>-0.08</li>\n",
       "\t<li>-0.07</li>\n",
       "\t<li>-0.0599999999999999</li>\n",
       "\t<li>-0.0499999999999999</li>\n",
       "\t<li>-0.04</li>\n",
       "\t<li>-0.03</li>\n",
       "\t<li>-0.02</li>\n",
       "\t<li>-0.01</li>\n",
       "\t<li>0</li>\n",
       "\t<li>0.01</li>\n",
       "\t<li>0.02</li>\n",
       "\t<li>0.03</li>\n",
       "\t<li>0.04</li>\n",
       "\t<li>0.05</li>\n",
       "\t<li>0.0600000000000001</li>\n",
       "\t<li>0.0700000000000001</li>\n",
       "\t<li>0.0800000000000001</li>\n",
       "\t<li>0.0900000000000001</li>\n",
       "\t<li>0.1</li>\n",
       "\t<li>0.11</li>\n",
       "\t<li>0.12</li>\n",
       "\t<li>0.13</li>\n",
       "\t<li>0.14</li>\n",
       "\t<li>0.15</li>\n",
       "\t<li>0.16</li>\n",
       "\t<li>0.17</li>\n",
       "\t<li>0.18</li>\n",
       "\t<li>0.19</li>\n",
       "\t<li>0.2</li>\n",
       "\t<li>0.21</li>\n",
       "\t<li>0.22</li>\n",
       "\t<li>0.23</li>\n",
       "\t<li>0.24</li>\n",
       "\t<li>0.25</li>\n",
       "\t<li>0.26</li>\n",
       "\t<li>0.27</li>\n",
       "\t<li>0.28</li>\n",
       "\t<li>0.29</li>\n",
       "\t<li>0.3</li>\n",
       "\t<li>0.31</li>\n",
       "\t<li>0.32</li>\n",
       "\t<li>0.33</li>\n",
       "\t<li>0.34</li>\n",
       "\t<li>0.35</li>\n",
       "\t<li>0.36</li>\n",
       "\t<li>0.37</li>\n",
       "\t<li>0.38</li>\n",
       "\t<li>0.39</li>\n",
       "\t<li>0.4</li>\n",
       "\t<li>0.41</li>\n",
       "\t<li>0.42</li>\n",
       "\t<li>0.43</li>\n",
       "\t<li>0.44</li>\n",
       "\t<li>0.45</li>\n",
       "\t<li>0.46</li>\n",
       "\t<li>0.47</li>\n",
       "\t<li>0.48</li>\n",
       "\t<li>0.49</li>\n",
       "\t<li>0.5</li>\n",
       "\t<li>0.51</li>\n",
       "\t<li>0.52</li>\n",
       "\t<li>0.53</li>\n",
       "\t<li>0.54</li>\n",
       "\t<li>0.55</li>\n",
       "\t<li>0.56</li>\n",
       "\t<li>0.57</li>\n",
       "\t<li>0.58</li>\n",
       "\t<li>0.59</li>\n",
       "\t<li>0.6</li>\n",
       "\t<li>0.61</li>\n",
       "\t<li>0.62</li>\n",
       "\t<li>0.63</li>\n",
       "\t<li>0.64</li>\n",
       "\t<li>0.65</li>\n",
       "\t<li>0.66</li>\n",
       "\t<li>0.67</li>\n",
       "\t<li>0.68</li>\n",
       "\t<li>0.69</li>\n",
       "\t<li>0.7</li>\n",
       "\t<li>0.71</li>\n",
       "\t<li>0.72</li>\n",
       "\t<li>0.73</li>\n",
       "\t<li>0.74</li>\n",
       "\t<li>0.75</li>\n",
       "\t<li>0.76</li>\n",
       "\t<li>0.77</li>\n",
       "\t<li>0.78</li>\n",
       "\t<li>0.79</li>\n",
       "\t<li>0.8</li>\n",
       "\t<li>0.81</li>\n",
       "\t<li>0.82</li>\n",
       "\t<li>0.83</li>\n",
       "\t<li>0.84</li>\n",
       "\t<li>0.85</li>\n",
       "\t<li>0.86</li>\n",
       "\t<li>0.87</li>\n",
       "\t<li>0.88</li>\n",
       "\t<li>0.89</li>\n",
       "\t<li>0.9</li>\n",
       "\t<li>0.91</li>\n",
       "\t<li>0.92</li>\n",
       "\t<li>0.93</li>\n",
       "\t<li>0.94</li>\n",
       "\t<li>0.95</li>\n",
       "\t<li>0.96</li>\n",
       "\t<li>0.97</li>\n",
       "\t<li>0.98</li>\n",
       "\t<li>0.99</li>\n",
       "\t<li>1</li>\n",
       "</ol>\n"
      ],
      "text/latex": [
       "\\begin{enumerate*}\n",
       "\\item -1\n",
       "\\item -0.99\n",
       "\\item -0.98\n",
       "\\item -0.97\n",
       "\\item -0.96\n",
       "\\item -0.95\n",
       "\\item -0.94\n",
       "\\item -0.93\n",
       "\\item -0.92\n",
       "\\item -0.91\n",
       "\\item -0.9\n",
       "\\item -0.89\n",
       "\\item -0.88\n",
       "\\item -0.87\n",
       "\\item -0.86\n",
       "\\item -0.85\n",
       "\\item -0.84\n",
       "\\item -0.83\n",
       "\\item -0.82\n",
       "\\item -0.81\n",
       "\\item -0.8\n",
       "\\item -0.79\n",
       "\\item -0.78\n",
       "\\item -0.77\n",
       "\\item -0.76\n",
       "\\item -0.75\n",
       "\\item -0.74\n",
       "\\item -0.73\n",
       "\\item -0.72\n",
       "\\item -0.71\n",
       "\\item -0.7\n",
       "\\item -0.69\n",
       "\\item -0.68\n",
       "\\item -0.67\n",
       "\\item -0.66\n",
       "\\item -0.65\n",
       "\\item -0.64\n",
       "\\item -0.63\n",
       "\\item -0.62\n",
       "\\item -0.61\n",
       "\\item -0.6\n",
       "\\item -0.59\n",
       "\\item -0.58\n",
       "\\item -0.57\n",
       "\\item -0.56\n",
       "\\item -0.55\n",
       "\\item -0.54\n",
       "\\item -0.53\n",
       "\\item -0.52\n",
       "\\item -0.51\n",
       "\\item -0.5\n",
       "\\item -0.49\n",
       "\\item -0.48\n",
       "\\item -0.47\n",
       "\\item -0.46\n",
       "\\item -0.45\n",
       "\\item -0.44\n",
       "\\item -0.43\n",
       "\\item -0.42\n",
       "\\item -0.41\n",
       "\\item -0.4\n",
       "\\item -0.39\n",
       "\\item -0.38\n",
       "\\item -0.37\n",
       "\\item -0.36\n",
       "\\item -0.35\n",
       "\\item -0.34\n",
       "\\item -0.33\n",
       "\\item -0.32\n",
       "\\item -0.31\n",
       "\\item -0.3\n",
       "\\item -0.29\n",
       "\\item -0.28\n",
       "\\item -0.27\n",
       "\\item -0.26\n",
       "\\item -0.25\n",
       "\\item -0.24\n",
       "\\item -0.23\n",
       "\\item -0.22\n",
       "\\item -0.21\n",
       "\\item -0.2\n",
       "\\item -0.19\n",
       "\\item -0.18\n",
       "\\item -0.17\n",
       "\\item -0.16\n",
       "\\item -0.15\n",
       "\\item -0.14\n",
       "\\item -0.13\n",
       "\\item -0.12\n",
       "\\item -0.11\n",
       "\\item -0.1\n",
       "\\item -0.09\n",
       "\\item -0.08\n",
       "\\item -0.07\n",
       "\\item -0.0599999999999999\n",
       "\\item -0.0499999999999999\n",
       "\\item -0.04\n",
       "\\item -0.03\n",
       "\\item -0.02\n",
       "\\item -0.01\n",
       "\\item 0\n",
       "\\item 0.01\n",
       "\\item 0.02\n",
       "\\item 0.03\n",
       "\\item 0.04\n",
       "\\item 0.05\n",
       "\\item 0.0600000000000001\n",
       "\\item 0.0700000000000001\n",
       "\\item 0.0800000000000001\n",
       "\\item 0.0900000000000001\n",
       "\\item 0.1\n",
       "\\item 0.11\n",
       "\\item 0.12\n",
       "\\item 0.13\n",
       "\\item 0.14\n",
       "\\item 0.15\n",
       "\\item 0.16\n",
       "\\item 0.17\n",
       "\\item 0.18\n",
       "\\item 0.19\n",
       "\\item 0.2\n",
       "\\item 0.21\n",
       "\\item 0.22\n",
       "\\item 0.23\n",
       "\\item 0.24\n",
       "\\item 0.25\n",
       "\\item 0.26\n",
       "\\item 0.27\n",
       "\\item 0.28\n",
       "\\item 0.29\n",
       "\\item 0.3\n",
       "\\item 0.31\n",
       "\\item 0.32\n",
       "\\item 0.33\n",
       "\\item 0.34\n",
       "\\item 0.35\n",
       "\\item 0.36\n",
       "\\item 0.37\n",
       "\\item 0.38\n",
       "\\item 0.39\n",
       "\\item 0.4\n",
       "\\item 0.41\n",
       "\\item 0.42\n",
       "\\item 0.43\n",
       "\\item 0.44\n",
       "\\item 0.45\n",
       "\\item 0.46\n",
       "\\item 0.47\n",
       "\\item 0.48\n",
       "\\item 0.49\n",
       "\\item 0.5\n",
       "\\item 0.51\n",
       "\\item 0.52\n",
       "\\item 0.53\n",
       "\\item 0.54\n",
       "\\item 0.55\n",
       "\\item 0.56\n",
       "\\item 0.57\n",
       "\\item 0.58\n",
       "\\item 0.59\n",
       "\\item 0.6\n",
       "\\item 0.61\n",
       "\\item 0.62\n",
       "\\item 0.63\n",
       "\\item 0.64\n",
       "\\item 0.65\n",
       "\\item 0.66\n",
       "\\item 0.67\n",
       "\\item 0.68\n",
       "\\item 0.69\n",
       "\\item 0.7\n",
       "\\item 0.71\n",
       "\\item 0.72\n",
       "\\item 0.73\n",
       "\\item 0.74\n",
       "\\item 0.75\n",
       "\\item 0.76\n",
       "\\item 0.77\n",
       "\\item 0.78\n",
       "\\item 0.79\n",
       "\\item 0.8\n",
       "\\item 0.81\n",
       "\\item 0.82\n",
       "\\item 0.83\n",
       "\\item 0.84\n",
       "\\item 0.85\n",
       "\\item 0.86\n",
       "\\item 0.87\n",
       "\\item 0.88\n",
       "\\item 0.89\n",
       "\\item 0.9\n",
       "\\item 0.91\n",
       "\\item 0.92\n",
       "\\item 0.93\n",
       "\\item 0.94\n",
       "\\item 0.95\n",
       "\\item 0.96\n",
       "\\item 0.97\n",
       "\\item 0.98\n",
       "\\item 0.99\n",
       "\\item 1\n",
       "\\end{enumerate*}\n"
      ],
      "text/markdown": [
       "1. -1\n",
       "2. -0.99\n",
       "3. -0.98\n",
       "4. -0.97\n",
       "5. -0.96\n",
       "6. -0.95\n",
       "7. -0.94\n",
       "8. -0.93\n",
       "9. -0.92\n",
       "10. -0.91\n",
       "11. -0.9\n",
       "12. -0.89\n",
       "13. -0.88\n",
       "14. -0.87\n",
       "15. -0.86\n",
       "16. -0.85\n",
       "17. -0.84\n",
       "18. -0.83\n",
       "19. -0.82\n",
       "20. -0.81\n",
       "21. -0.8\n",
       "22. -0.79\n",
       "23. -0.78\n",
       "24. -0.77\n",
       "25. -0.76\n",
       "26. -0.75\n",
       "27. -0.74\n",
       "28. -0.73\n",
       "29. -0.72\n",
       "30. -0.71\n",
       "31. -0.7\n",
       "32. -0.69\n",
       "33. -0.68\n",
       "34. -0.67\n",
       "35. -0.66\n",
       "36. -0.65\n",
       "37. -0.64\n",
       "38. -0.63\n",
       "39. -0.62\n",
       "40. -0.61\n",
       "41. -0.6\n",
       "42. -0.59\n",
       "43. -0.58\n",
       "44. -0.57\n",
       "45. -0.56\n",
       "46. -0.55\n",
       "47. -0.54\n",
       "48. -0.53\n",
       "49. -0.52\n",
       "50. -0.51\n",
       "51. -0.5\n",
       "52. -0.49\n",
       "53. -0.48\n",
       "54. -0.47\n",
       "55. -0.46\n",
       "56. -0.45\n",
       "57. -0.44\n",
       "58. -0.43\n",
       "59. -0.42\n",
       "60. -0.41\n",
       "61. -0.4\n",
       "62. -0.39\n",
       "63. -0.38\n",
       "64. -0.37\n",
       "65. -0.36\n",
       "66. -0.35\n",
       "67. -0.34\n",
       "68. -0.33\n",
       "69. -0.32\n",
       "70. -0.31\n",
       "71. -0.3\n",
       "72. -0.29\n",
       "73. -0.28\n",
       "74. -0.27\n",
       "75. -0.26\n",
       "76. -0.25\n",
       "77. -0.24\n",
       "78. -0.23\n",
       "79. -0.22\n",
       "80. -0.21\n",
       "81. -0.2\n",
       "82. -0.19\n",
       "83. -0.18\n",
       "84. -0.17\n",
       "85. -0.16\n",
       "86. -0.15\n",
       "87. -0.14\n",
       "88. -0.13\n",
       "89. -0.12\n",
       "90. -0.11\n",
       "91. -0.1\n",
       "92. -0.09\n",
       "93. -0.08\n",
       "94. -0.07\n",
       "95. -0.0599999999999999\n",
       "96. -0.0499999999999999\n",
       "97. -0.04\n",
       "98. -0.03\n",
       "99. -0.02\n",
       "100. -0.01\n",
       "101. 0\n",
       "102. 0.01\n",
       "103. 0.02\n",
       "104. 0.03\n",
       "105. 0.04\n",
       "106. 0.05\n",
       "107. 0.0600000000000001\n",
       "108. 0.0700000000000001\n",
       "109. 0.0800000000000001\n",
       "110. 0.0900000000000001\n",
       "111. 0.1\n",
       "112. 0.11\n",
       "113. 0.12\n",
       "114. 0.13\n",
       "115. 0.14\n",
       "116. 0.15\n",
       "117. 0.16\n",
       "118. 0.17\n",
       "119. 0.18\n",
       "120. 0.19\n",
       "121. 0.2\n",
       "122. 0.21\n",
       "123. 0.22\n",
       "124. 0.23\n",
       "125. 0.24\n",
       "126. 0.25\n",
       "127. 0.26\n",
       "128. 0.27\n",
       "129. 0.28\n",
       "130. 0.29\n",
       "131. 0.3\n",
       "132. 0.31\n",
       "133. 0.32\n",
       "134. 0.33\n",
       "135. 0.34\n",
       "136. 0.35\n",
       "137. 0.36\n",
       "138. 0.37\n",
       "139. 0.38\n",
       "140. 0.39\n",
       "141. 0.4\n",
       "142. 0.41\n",
       "143. 0.42\n",
       "144. 0.43\n",
       "145. 0.44\n",
       "146. 0.45\n",
       "147. 0.46\n",
       "148. 0.47\n",
       "149. 0.48\n",
       "150. 0.49\n",
       "151. 0.5\n",
       "152. 0.51\n",
       "153. 0.52\n",
       "154. 0.53\n",
       "155. 0.54\n",
       "156. 0.55\n",
       "157. 0.56\n",
       "158. 0.57\n",
       "159. 0.58\n",
       "160. 0.59\n",
       "161. 0.6\n",
       "162. 0.61\n",
       "163. 0.62\n",
       "164. 0.63\n",
       "165. 0.64\n",
       "166. 0.65\n",
       "167. 0.66\n",
       "168. 0.67\n",
       "169. 0.68\n",
       "170. 0.69\n",
       "171. 0.7\n",
       "172. 0.71\n",
       "173. 0.72\n",
       "174. 0.73\n",
       "175. 0.74\n",
       "176. 0.75\n",
       "177. 0.76\n",
       "178. 0.77\n",
       "179. 0.78\n",
       "180. 0.79\n",
       "181. 0.8\n",
       "182. 0.81\n",
       "183. 0.82\n",
       "184. 0.83\n",
       "185. 0.84\n",
       "186. 0.85\n",
       "187. 0.86\n",
       "188. 0.87\n",
       "189. 0.88\n",
       "190. 0.89\n",
       "191. 0.9\n",
       "192. 0.91\n",
       "193. 0.92\n",
       "194. 0.93\n",
       "195. 0.94\n",
       "196. 0.95\n",
       "197. 0.96\n",
       "198. 0.97\n",
       "199. 0.98\n",
       "200. 0.99\n",
       "201. 1\n",
       "\n",
       "\n"
      ],
      "text/plain": [
       "  [1] -1.00 -0.99 -0.98 -0.97 -0.96 -0.95 -0.94 -0.93 -0.92 -0.91 -0.90 -0.89\n",
       " [13] -0.88 -0.87 -0.86 -0.85 -0.84 -0.83 -0.82 -0.81 -0.80 -0.79 -0.78 -0.77\n",
       " [25] -0.76 -0.75 -0.74 -0.73 -0.72 -0.71 -0.70 -0.69 -0.68 -0.67 -0.66 -0.65\n",
       " [37] -0.64 -0.63 -0.62 -0.61 -0.60 -0.59 -0.58 -0.57 -0.56 -0.55 -0.54 -0.53\n",
       " [49] -0.52 -0.51 -0.50 -0.49 -0.48 -0.47 -0.46 -0.45 -0.44 -0.43 -0.42 -0.41\n",
       " [61] -0.40 -0.39 -0.38 -0.37 -0.36 -0.35 -0.34 -0.33 -0.32 -0.31 -0.30 -0.29\n",
       " [73] -0.28 -0.27 -0.26 -0.25 -0.24 -0.23 -0.22 -0.21 -0.20 -0.19 -0.18 -0.17\n",
       " [85] -0.16 -0.15 -0.14 -0.13 -0.12 -0.11 -0.10 -0.09 -0.08 -0.07 -0.06 -0.05\n",
       " [97] -0.04 -0.03 -0.02 -0.01  0.00  0.01  0.02  0.03  0.04  0.05  0.06  0.07\n",
       "[109]  0.08  0.09  0.10  0.11  0.12  0.13  0.14  0.15  0.16  0.17  0.18  0.19\n",
       "[121]  0.20  0.21  0.22  0.23  0.24  0.25  0.26  0.27  0.28  0.29  0.30  0.31\n",
       "[133]  0.32  0.33  0.34  0.35  0.36  0.37  0.38  0.39  0.40  0.41  0.42  0.43\n",
       "[145]  0.44  0.45  0.46  0.47  0.48  0.49  0.50  0.51  0.52  0.53  0.54  0.55\n",
       "[157]  0.56  0.57  0.58  0.59  0.60  0.61  0.62  0.63  0.64  0.65  0.66  0.67\n",
       "[169]  0.68  0.69  0.70  0.71  0.72  0.73  0.74  0.75  0.76  0.77  0.78  0.79\n",
       "[181]  0.80  0.81  0.82  0.83  0.84  0.85  0.86  0.87  0.88  0.89  0.90  0.91\n",
       "[193]  0.92  0.93  0.94  0.95  0.96  0.97  0.98  0.99  1.00"
      ]
     },
     "metadata": {},
     "output_type": "display_data"
    },
    {
     "data": {
      "text/html": [
       "<ol class=list-inline>\n",
       "\t<li>-1</li>\n",
       "\t<li>-0.99</li>\n",
       "\t<li>-0.98</li>\n",
       "\t<li>-0.97</li>\n",
       "\t<li>-0.96</li>\n",
       "</ol>\n"
      ],
      "text/latex": [
       "\\begin{enumerate*}\n",
       "\\item -1\n",
       "\\item -0.99\n",
       "\\item -0.98\n",
       "\\item -0.97\n",
       "\\item -0.96\n",
       "\\end{enumerate*}\n"
      ],
      "text/markdown": [
       "1. -1\n",
       "2. -0.99\n",
       "3. -0.98\n",
       "4. -0.97\n",
       "5. -0.96\n",
       "\n",
       "\n"
      ],
      "text/plain": [
       "[1] -1.00 -0.99 -0.98 -0.97 -0.96"
      ]
     },
     "metadata": {},
     "output_type": "display_data"
    },
    {
     "data": {
      "text/html": [
       "<ol class=list-inline>\n",
       "\t<li>0.96</li>\n",
       "\t<li>0.97</li>\n",
       "\t<li>0.98</li>\n",
       "\t<li>0.99</li>\n",
       "\t<li>1</li>\n",
       "</ol>\n"
      ],
      "text/latex": [
       "\\begin{enumerate*}\n",
       "\\item 0.96\n",
       "\\item 0.97\n",
       "\\item 0.98\n",
       "\\item 0.99\n",
       "\\item 1\n",
       "\\end{enumerate*}\n"
      ],
      "text/markdown": [
       "1. 0.96\n",
       "2. 0.97\n",
       "3. 0.98\n",
       "4. 0.99\n",
       "5. 1\n",
       "\n",
       "\n"
      ],
      "text/plain": [
       "[1] 0.96 0.97 0.98 0.99 1.00"
      ]
     },
     "metadata": {},
     "output_type": "display_data"
    }
   ],
   "source": [
    "length(v) #lunghezza (numero elementi) del vettore v\n",
    "min(v) #minimo degli elementi in v\n",
    "max(v) #massimo degli elementi in v\n",
    "sum(v) #sommatoria degli elementi in v\n",
    "prod(v) #produttoria degli elementi in v\n",
    "sort(v) #ritorna vettore con elementi di v riordinati\n",
    "head(v,5)  #n valori di testa del vettore v\n",
    "tail(v,5) #n valori di coda del vettore v"
   ]
  },
  {
   "cell_type": "markdown",
   "metadata": {},
   "source": [
    "Lists are another very useful data structure in R. They are different wrt Vectors because a list can hold different data types."
   ]
  },
  {
   "cell_type": "code",
   "execution_count": 76,
   "metadata": {
    "collapsed": false,
    "scrolled": true
   },
   "outputs": [
    {
     "data": {
      "text/html": [
       "<ol>\n",
       "\t<li><ol class=list-inline>\n",
       "\t<li>1</li>\n",
       "\t<li>2</li>\n",
       "\t<li>3</li>\n",
       "</ol>\n",
       "</li>\n",
       "\t<li>'a'</li>\n",
       "\t<li><ol class=list-inline>\n",
       "\t<li>TRUE</li>\n",
       "\t<li>FALSE</li>\n",
       "\t<li>TRUE</li>\n",
       "</ol>\n",
       "</li>\n",
       "\t<li><ol class=list-inline>\n",
       "\t<li>2.3</li>\n",
       "\t<li>5.9</li>\n",
       "</ol>\n",
       "</li>\n",
       "</ol>\n"
      ],
      "text/latex": [
       "\\begin{enumerate}\n",
       "\\item \\begin{enumerate*}\n",
       "\\item 1\n",
       "\\item 2\n",
       "\\item 3\n",
       "\\end{enumerate*}\n",
       "\n",
       "\\item 'a'\n",
       "\\item \\begin{enumerate*}\n",
       "\\item TRUE\n",
       "\\item FALSE\n",
       "\\item TRUE\n",
       "\\end{enumerate*}\n",
       "\n",
       "\\item \\begin{enumerate*}\n",
       "\\item 2.3\n",
       "\\item 5.9\n",
       "\\end{enumerate*}\n",
       "\n",
       "\\end{enumerate}\n"
      ],
      "text/markdown": [
       "1. 1. 1\n",
       "2. 2\n",
       "3. 3\n",
       "\n",
       "\n",
       "\n",
       "2. 'a'\n",
       "3. 1. TRUE\n",
       "2. FALSE\n",
       "3. TRUE\n",
       "\n",
       "\n",
       "\n",
       "4. 1. 2.3\n",
       "2. 5.9\n",
       "\n",
       "\n",
       "\n",
       "\n",
       "\n"
      ],
      "text/plain": [
       "[[1]]\n",
       "[1] 1 2 3\n",
       "\n",
       "[[2]]\n",
       "[1] \"a\"\n",
       "\n",
       "[[3]]\n",
       "[1]  TRUE FALSE  TRUE\n",
       "\n",
       "[[4]]\n",
       "[1] 2.3 5.9\n"
      ]
     },
     "metadata": {},
     "output_type": "display_data"
    }
   ],
   "source": [
    "#list\n",
    "x <- list(1:3, \"a\", c(TRUE, FALSE, TRUE), c(2.3, 5.9))\n",
    "x"
   ]
  },
  {
   "cell_type": "code",
   "execution_count": 77,
   "metadata": {
    "collapsed": false,
    "scrolled": true
   },
   "outputs": [
    {
     "data": {
      "text/html": [
       "<ol class=list-inline>\n",
       "\t<li>2.3</li>\n",
       "\t<li>5.9</li>\n",
       "</ol>\n"
      ],
      "text/latex": [
       "\\begin{enumerate*}\n",
       "\\item 2.3\n",
       "\\item 5.9\n",
       "\\end{enumerate*}\n"
      ],
      "text/markdown": [
       "1. 2.3\n",
       "2. 5.9\n",
       "\n",
       "\n"
      ],
      "text/plain": [
       "[1] 2.3 5.9"
      ]
     },
     "metadata": {},
     "output_type": "display_data"
    },
    {
     "data": {
      "text/html": [
       "'double'"
      ],
      "text/latex": [
       "'double'"
      ],
      "text/markdown": [
       "'double'"
      ],
      "text/plain": [
       "[1] \"double\""
      ]
     },
     "metadata": {},
     "output_type": "display_data"
    }
   ],
   "source": [
    "x[[4]]\n",
    "typeof(x[[4]])"
   ]
  },
  {
   "cell_type": "code",
   "execution_count": 78,
   "metadata": {
    "collapsed": false
   },
   "outputs": [
    {
     "data": {
      "text/html": [
       "<ol>\n",
       "\t<li><ol class=list-inline>\n",
       "\t<li>2.3</li>\n",
       "\t<li>5.9</li>\n",
       "</ol>\n",
       "</li>\n",
       "</ol>\n"
      ],
      "text/latex": [
       "\\begin{enumerate}\n",
       "\\item \\begin{enumerate*}\n",
       "\\item 2.3\n",
       "\\item 5.9\n",
       "\\end{enumerate*}\n",
       "\n",
       "\\end{enumerate}\n"
      ],
      "text/markdown": [
       "1. 1. 2.3\n",
       "2. 5.9\n",
       "\n",
       "\n",
       "\n",
       "\n",
       "\n"
      ],
      "text/plain": [
       "[[1]]\n",
       "[1] 2.3 5.9\n"
      ]
     },
     "metadata": {},
     "output_type": "display_data"
    },
    {
     "data": {
      "text/html": [
       "'list'"
      ],
      "text/latex": [
       "'list'"
      ],
      "text/markdown": [
       "'list'"
      ],
      "text/plain": [
       "[1] \"list\""
      ]
     },
     "metadata": {},
     "output_type": "display_data"
    }
   ],
   "source": [
    "x[4]\n",
    "typeof(x[4])"
   ]
  },
  {
   "cell_type": "code",
   "execution_count": 79,
   "metadata": {
    "collapsed": false,
    "scrolled": true
   },
   "outputs": [
    {
     "data": {
      "text/html": [
       "5.9"
      ],
      "text/latex": [
       "5.9"
      ],
      "text/markdown": [
       "5.9"
      ],
      "text/plain": [
       "[1] 5.9"
      ]
     },
     "metadata": {},
     "output_type": "display_data"
    },
    {
     "data": {
      "text/html": [
       "'double'"
      ],
      "text/latex": [
       "'double'"
      ],
      "text/markdown": [
       "'double'"
      ],
      "text/plain": [
       "[1] \"double\""
      ]
     },
     "metadata": {},
     "output_type": "display_data"
    }
   ],
   "source": [
    "x[[4]][2]\n",
    "typeof(x[[4]][2])"
   ]
  },
  {
   "cell_type": "code",
   "execution_count": 80,
   "metadata": {
    "collapsed": false,
    "scrolled": true
   },
   "outputs": [
    {
     "data": {
      "text/html": [
       "<ol>\n",
       "\t<li>'a'</li>\n",
       "\t<li><ol class=list-inline>\n",
       "\t<li>TRUE</li>\n",
       "\t<li>FALSE</li>\n",
       "\t<li>TRUE</li>\n",
       "</ol>\n",
       "</li>\n",
       "\t<li><ol class=list-inline>\n",
       "\t<li>2.3</li>\n",
       "\t<li>5.9</li>\n",
       "</ol>\n",
       "</li>\n",
       "</ol>\n"
      ],
      "text/latex": [
       "\\begin{enumerate}\n",
       "\\item 'a'\n",
       "\\item \\begin{enumerate*}\n",
       "\\item TRUE\n",
       "\\item FALSE\n",
       "\\item TRUE\n",
       "\\end{enumerate*}\n",
       "\n",
       "\\item \\begin{enumerate*}\n",
       "\\item 2.3\n",
       "\\item 5.9\n",
       "\\end{enumerate*}\n",
       "\n",
       "\\end{enumerate}\n"
      ],
      "text/markdown": [
       "1. 'a'\n",
       "2. 1. TRUE\n",
       "2. FALSE\n",
       "3. TRUE\n",
       "\n",
       "\n",
       "\n",
       "3. 1. 2.3\n",
       "2. 5.9\n",
       "\n",
       "\n",
       "\n",
       "\n",
       "\n"
      ],
      "text/plain": [
       "[[1]]\n",
       "[1] \"a\"\n",
       "\n",
       "[[2]]\n",
       "[1]  TRUE FALSE  TRUE\n",
       "\n",
       "[[3]]\n",
       "[1] 2.3 5.9\n"
      ]
     },
     "metadata": {},
     "output_type": "display_data"
    }
   ],
   "source": [
    "x[2:4]"
   ]
  },
  {
   "cell_type": "code",
   "execution_count": 81,
   "metadata": {
    "collapsed": false
   },
   "outputs": [
    {
     "data": {
      "text/html": [
       "<ol class=list-inline>\n",
       "\t<li>'name'</li>\n",
       "\t<li>'height'</li>\n",
       "\t<li>'married'</li>\n",
       "\t<li>'number.children'</li>\n",
       "\t<li>'email'</li>\n",
       "</ol>\n"
      ],
      "text/latex": [
       "\\begin{enumerate*}\n",
       "\\item 'name'\n",
       "\\item 'height'\n",
       "\\item 'married'\n",
       "\\item 'number.children'\n",
       "\\item 'email'\n",
       "\\end{enumerate*}\n"
      ],
      "text/markdown": [
       "1. 'name'\n",
       "2. 'height'\n",
       "3. 'married'\n",
       "4. 'number.children'\n",
       "5. 'email'\n",
       "\n",
       "\n"
      ],
      "text/plain": [
       "[1] \"name\"            \"height\"          \"married\"         \"number.children\"\n",
       "[5] \"email\"          "
      ]
     },
     "metadata": {},
     "output_type": "display_data"
    }
   ],
   "source": [
    "L <- list(name = \"Andrea\", height = 190.0, married = TRUE, number.children = 0, email = \"andrgig@gmail.com\")\n",
    "names(L)"
   ]
  },
  {
   "cell_type": "code",
   "execution_count": 82,
   "metadata": {
    "collapsed": false
   },
   "outputs": [
    {
     "data": {
      "text/html": [
       "'Andrea'"
      ],
      "text/latex": [
       "'Andrea'"
      ],
      "text/markdown": [
       "'Andrea'"
      ],
      "text/plain": [
       "[1] \"Andrea\""
      ]
     },
     "metadata": {},
     "output_type": "display_data"
    },
    {
     "data": {
      "text/html": [
       "'andrgig@gmail.com'"
      ],
      "text/latex": [
       "'andrgig@gmail.com'"
      ],
      "text/markdown": [
       "'andrgig@gmail.com'"
      ],
      "text/plain": [
       "[1] \"andrgig@gmail.com\""
      ]
     },
     "metadata": {},
     "output_type": "display_data"
    },
    {
     "data": {
      "text/html": [
       "TRUE"
      ],
      "text/latex": [
       "TRUE"
      ],
      "text/markdown": [
       "TRUE"
      ],
      "text/plain": [
       "[1] TRUE"
      ]
     },
     "metadata": {},
     "output_type": "display_data"
    },
    {
     "data": {
      "text/html": [
       "0"
      ],
      "text/latex": [
       "0"
      ],
      "text/markdown": [
       "0"
      ],
      "text/plain": [
       "[1] 0"
      ]
     },
     "metadata": {},
     "output_type": "display_data"
    }
   ],
   "source": [
    "L[[1]] ; L[[5]]\n",
    "L$married\n",
    "L$number.children "
   ]
  },
  {
   "cell_type": "code",
   "execution_count": 83,
   "metadata": {
    "collapsed": false
   },
   "outputs": [
    {
     "data": {
      "text/html": [
       "<dl>\n",
       "\t<dt>$name</dt>\n",
       "\t\t<dd>'Andrea'</dd>\n",
       "\t<dt>$height</dt>\n",
       "\t\t<dd>190</dd>\n",
       "\t<dt>$married</dt>\n",
       "\t\t<dd>TRUE</dd>\n",
       "\t<dt>$number.children</dt>\n",
       "\t\t<dd>1</dd>\n",
       "\t<dt>$email</dt>\n",
       "\t\t<dd>'andrgig@gmail.com'</dd>\n",
       "</dl>\n"
      ],
      "text/latex": [
       "\\begin{description}\n",
       "\\item[\\$name] 'Andrea'\n",
       "\\item[\\$height] 190\n",
       "\\item[\\$married] TRUE\n",
       "\\item[\\$number.children] 1\n",
       "\\item[\\$email] 'andrgig@gmail.com'\n",
       "\\end{description}\n"
      ],
      "text/markdown": [
       "$name\n",
       ":   'Andrea'\n",
       "$height\n",
       ":   190\n",
       "$married\n",
       ":   TRUE\n",
       "$number.children\n",
       ":   1\n",
       "$email\n",
       ":   'andrgig@gmail.com'\n",
       "\n",
       "\n"
      ],
      "text/plain": [
       "$name\n",
       "[1] \"Andrea\"\n",
       "\n",
       "$height\n",
       "[1] 190\n",
       "\n",
       "$married\n",
       "[1] TRUE\n",
       "\n",
       "$number.children\n",
       "[1] 1\n",
       "\n",
       "$email\n",
       "[1] \"andrgig@gmail.com\"\n"
      ]
     },
     "metadata": {},
     "output_type": "display_data"
    }
   ],
   "source": [
    "L$number.children <- 1\n",
    "L\n"
   ]
  },
  {
   "cell_type": "code",
   "execution_count": 84,
   "metadata": {
    "collapsed": false
   },
   "outputs": [
    {
     "data": {
      "text/html": [
       "<dl>\n",
       "\t<dt>$name</dt>\n",
       "\t\t<dd>'Andrea'</dd>\n",
       "\t<dt>$height</dt>\n",
       "\t\t<dd>190</dd>\n",
       "\t<dt>$married</dt>\n",
       "\t\t<dd>TRUE</dd>\n",
       "\t<dt>$number.children</dt>\n",
       "\t\t<dd>1</dd>\n",
       "\t<dt>$email</dt>\n",
       "\t\t<dd>'andrgig@gmail.com'</dd>\n",
       "\t<dt>$children.name</dt>\n",
       "\t\t<dd>'Arianna'</dd>\n",
       "</dl>\n"
      ],
      "text/latex": [
       "\\begin{description}\n",
       "\\item[\\$name] 'Andrea'\n",
       "\\item[\\$height] 190\n",
       "\\item[\\$married] TRUE\n",
       "\\item[\\$number.children] 1\n",
       "\\item[\\$email] 'andrgig@gmail.com'\n",
       "\\item[\\$children.name] 'Arianna'\n",
       "\\end{description}\n"
      ],
      "text/markdown": [
       "$name\n",
       ":   'Andrea'\n",
       "$height\n",
       ":   190\n",
       "$married\n",
       ":   TRUE\n",
       "$number.children\n",
       ":   1\n",
       "$email\n",
       ":   'andrgig@gmail.com'\n",
       "$children.name\n",
       ":   'Arianna'\n",
       "\n",
       "\n"
      ],
      "text/plain": [
       "$name\n",
       "[1] \"Andrea\"\n",
       "\n",
       "$height\n",
       "[1] 190\n",
       "\n",
       "$married\n",
       "[1] TRUE\n",
       "\n",
       "$number.children\n",
       "[1] 1\n",
       "\n",
       "$email\n",
       "[1] \"andrgig@gmail.com\"\n",
       "\n",
       "$children.name\n",
       "[1] \"Arianna\"\n"
      ]
     },
     "metadata": {},
     "output_type": "display_data"
    }
   ],
   "source": [
    "L<-append(L,list(children.name=c(\"Arianna\")))\n",
    "L"
   ]
  },
  {
   "cell_type": "code",
   "execution_count": 85,
   "metadata": {
    "collapsed": false
   },
   "outputs": [
    {
     "data": {
      "text/html": [
       "<ol>\n",
       "\t<li>1</li>\n",
       "\t<li>NULL</li>\n",
       "\t<li>NULL</li>\n",
       "\t<li>NULL</li>\n",
       "\t<li>NULL</li>\n",
       "\t<li>NULL</li>\n",
       "\t<li>NULL</li>\n",
       "\t<li>NULL</li>\n",
       "\t<li>NULL</li>\n",
       "\t<li>'pippo'</li>\n",
       "\t<li>'pluto'</li>\n",
       "\t<li>1</li>\n",
       "\t<li>2</li>\n",
       "\t<li>3</li>\n",
       "</ol>\n"
      ],
      "text/latex": [
       "\\begin{enumerate}\n",
       "\\item 1\n",
       "\\item NULL\n",
       "\\item NULL\n",
       "\\item NULL\n",
       "\\item NULL\n",
       "\\item NULL\n",
       "\\item NULL\n",
       "\\item NULL\n",
       "\\item NULL\n",
       "\\item 'pippo'\n",
       "\\item 'pluto'\n",
       "\\item 1\n",
       "\\item 2\n",
       "\\item 3\n",
       "\\end{enumerate}\n"
      ],
      "text/markdown": [
       "1. 1\n",
       "2. NULL\n",
       "3. NULL\n",
       "4. NULL\n",
       "5. NULL\n",
       "6. NULL\n",
       "7. NULL\n",
       "8. NULL\n",
       "9. NULL\n",
       "10. 'pippo'\n",
       "11. 'pluto'\n",
       "12. 1\n",
       "13. 2\n",
       "14. 3\n",
       "\n",
       "\n"
      ],
      "text/plain": [
       "[[1]]\n",
       "[1] 1\n",
       "\n",
       "[[2]]\n",
       "NULL\n",
       "\n",
       "[[3]]\n",
       "NULL\n",
       "\n",
       "[[4]]\n",
       "NULL\n",
       "\n",
       "[[5]]\n",
       "NULL\n",
       "\n",
       "[[6]]\n",
       "NULL\n",
       "\n",
       "[[7]]\n",
       "NULL\n",
       "\n",
       "[[8]]\n",
       "NULL\n",
       "\n",
       "[[9]]\n",
       "NULL\n",
       "\n",
       "[[10]]\n",
       "[1] \"pippo\"\n",
       "\n",
       "[[11]]\n",
       "[1] \"pluto\"\n",
       "\n",
       "[[12]]\n",
       "[1] 1\n",
       "\n",
       "[[13]]\n",
       "[1] 2\n",
       "\n",
       "[[14]]\n",
       "[1] 3\n"
      ]
     },
     "metadata": {},
     "output_type": "display_data"
    }
   ],
   "source": [
    "#lists\n",
    "l <- list()\n",
    "l[10] <- \"pippo\"\n",
    "l[1] <- 1\n",
    "l <- append(l, \"pluto\")\n",
    "l <- c(l, c(1, 2, 3))\n",
    "l"
   ]
  },
  {
   "cell_type": "markdown",
   "metadata": {},
   "source": [
    "## Arrays and Matrices\n",
    "Multi-dimensioanl arrays are atomic vector with an additional attribute, dim(). A special case of array structures are matrices, which are bi-dimensional arrays. Matrices can contain numeric values only."
   ]
  },
  {
   "cell_type": "code",
   "execution_count": 86,
   "metadata": {
    "collapsed": true
   },
   "outputs": [],
   "source": [
    "#arrays\n",
    "a <- array(c(1,2,3,4,5,6,7,8,9,10), c(2,5))"
   ]
  },
  {
   "cell_type": "code",
   "execution_count": 87,
   "metadata": {
    "collapsed": false,
    "scrolled": false
   },
   "outputs": [
    {
     "data": {
      "text/html": [
       "<table>\n",
       "<tbody>\n",
       "\t<tr><td>1 </td><td>3 </td><td>5 </td><td>7 </td><td> 9</td></tr>\n",
       "\t<tr><td>2 </td><td>4 </td><td>6 </td><td>8 </td><td>10</td></tr>\n",
       "</tbody>\n",
       "</table>\n"
      ],
      "text/latex": [
       "\\begin{tabular}{lllll}\n",
       "\t 1  & 3  & 5  & 7  &  9\\\\\n",
       "\t 2  & 4  & 6  & 8  & 10\\\\\n",
       "\\end{tabular}\n"
      ],
      "text/markdown": [
       "1. 1\n",
       "2. 2\n",
       "3. 3\n",
       "4. 4\n",
       "5. 5\n",
       "6. 6\n",
       "7. 7\n",
       "8. 8\n",
       "9. 9\n",
       "10. 10\n",
       "\n",
       "\n"
      ],
      "text/plain": [
       "     [,1] [,2] [,3] [,4] [,5]\n",
       "[1,] 1    3    5    7     9  \n",
       "[2,] 2    4    6    8    10  "
      ]
     },
     "metadata": {},
     "output_type": "display_data"
    }
   ],
   "source": [
    "a"
   ]
  },
  {
   "cell_type": "code",
   "execution_count": 88,
   "metadata": {
    "collapsed": false,
    "scrolled": true
   },
   "outputs": [
    {
     "data": {
      "text/html": [
       "2"
      ],
      "text/latex": [
       "2"
      ],
      "text/markdown": [
       "2"
      ],
      "text/plain": [
       "[1] 2"
      ]
     },
     "metadata": {},
     "output_type": "display_data"
    },
    {
     "data": {
      "text/html": [
       "5"
      ],
      "text/latex": [
       "5"
      ],
      "text/markdown": [
       "5"
      ],
      "text/plain": [
       "[1] 5"
      ]
     },
     "metadata": {},
     "output_type": "display_data"
    }
   ],
   "source": [
    "nrow(a)\n",
    "ncol(a)"
   ]
  },
  {
   "cell_type": "code",
   "execution_count": 89,
   "metadata": {
    "collapsed": false
   },
   "outputs": [
    {
     "data": {
      "text/html": [
       "<table>\n",
       "<thead><tr><th></th><th scope=col>a</th><th scope=col>b</th><th scope=col>c</th><th scope=col>d</th><th scope=col>e</th></tr></thead>\n",
       "<tbody>\n",
       "\t<tr><th scope=row>A</th><td>1 </td><td>3 </td><td>5 </td><td>7 </td><td> 9</td></tr>\n",
       "\t<tr><th scope=row>B</th><td>2 </td><td>4 </td><td>6 </td><td>8 </td><td>10</td></tr>\n",
       "</tbody>\n",
       "</table>\n"
      ],
      "text/latex": [
       "\\begin{tabular}{r|lllll}\n",
       "  & a & b & c & d & e\\\\\n",
       "\\hline\n",
       "\tA & 1  & 3  & 5  & 7  &  9\\\\\n",
       "\tB & 2  & 4  & 6  & 8  & 10\\\\\n",
       "\\end{tabular}\n"
      ],
      "text/markdown": [
       "1. 1\n",
       "2. 2\n",
       "3. 3\n",
       "4. 4\n",
       "5. 5\n",
       "6. 6\n",
       "7. 7\n",
       "8. 8\n",
       "9. 9\n",
       "10. 10\n",
       "\n",
       "\n"
      ],
      "text/plain": [
       "  a b c d e \n",
       "A 1 3 5 7  9\n",
       "B 2 4 6 8 10"
      ]
     },
     "metadata": {},
     "output_type": "display_data"
    }
   ],
   "source": [
    "rownames(a) <- c(\"A\", \"B\")\n",
    "colnames(a) <- c(\"a\", \"b\", \"c\",\"d\",\"e\")\n",
    "a"
   ]
  },
  {
   "cell_type": "markdown",
   "metadata": {},
   "source": [
    "Accesso ad elementi dell'array tramite []:"
   ]
  },
  {
   "cell_type": "code",
   "execution_count": 90,
   "metadata": {
    "collapsed": false
   },
   "outputs": [
    {
     "data": {
      "text/html": [
       "1"
      ],
      "text/latex": [
       "1"
      ],
      "text/markdown": [
       "1"
      ],
      "text/plain": [
       "[1] 1"
      ]
     },
     "metadata": {},
     "output_type": "display_data"
    },
    {
     "data": {
      "text/html": [
       "1"
      ],
      "text/latex": [
       "1"
      ],
      "text/markdown": [
       "1"
      ],
      "text/plain": [
       "[1] 1"
      ]
     },
     "metadata": {},
     "output_type": "display_data"
    },
    {
     "data": {
      "text/html": [
       "3"
      ],
      "text/latex": [
       "3"
      ],
      "text/markdown": [
       "3"
      ],
      "text/plain": [
       "[1] 3"
      ]
     },
     "metadata": {},
     "output_type": "display_data"
    },
    {
     "data": {
      "text/html": [
       "3"
      ],
      "text/latex": [
       "3"
      ],
      "text/markdown": [
       "3"
      ],
      "text/plain": [
       "[1] 3"
      ]
     },
     "metadata": {},
     "output_type": "display_data"
    },
    {
     "data": {
      "text/html": [
       "<ol class=list-inline>\n",
       "\t<li>2</li>\n",
       "\t<li>3</li>\n",
       "\t<li>4</li>\n",
       "\t<li>5</li>\n",
       "\t<li>6</li>\n",
       "\t<li>7</li>\n",
       "\t<li>8</li>\n",
       "\t<li>9</li>\n",
       "\t<li>10</li>\n",
       "</ol>\n"
      ],
      "text/latex": [
       "\\begin{enumerate*}\n",
       "\\item 2\n",
       "\\item 3\n",
       "\\item 4\n",
       "\\item 5\n",
       "\\item 6\n",
       "\\item 7\n",
       "\\item 8\n",
       "\\item 9\n",
       "\\item 10\n",
       "\\end{enumerate*}\n"
      ],
      "text/markdown": [
       "1. 2\n",
       "2. 3\n",
       "3. 4\n",
       "4. 5\n",
       "5. 6\n",
       "6. 7\n",
       "7. 8\n",
       "8. 9\n",
       "9. 10\n",
       "\n",
       "\n"
      ],
      "text/plain": [
       "[1]  2  3  4  5  6  7  8  9 10"
      ]
     },
     "metadata": {},
     "output_type": "display_data"
    },
    {
     "data": {
      "text/html": [
       "<ol class=list-inline>\n",
       "\t<li>1</li>\n",
       "\t<li>3</li>\n",
       "\t<li>5</li>\n",
       "\t<li>6</li>\n",
       "\t<li>7</li>\n",
       "\t<li>8</li>\n",
       "\t<li>9</li>\n",
       "\t<li>10</li>\n",
       "</ol>\n"
      ],
      "text/latex": [
       "\\begin{enumerate*}\n",
       "\\item 1\n",
       "\\item 3\n",
       "\\item 5\n",
       "\\item 6\n",
       "\\item 7\n",
       "\\item 8\n",
       "\\item 9\n",
       "\\item 10\n",
       "\\end{enumerate*}\n"
      ],
      "text/markdown": [
       "1. 1\n",
       "2. 3\n",
       "3. 5\n",
       "4. 6\n",
       "5. 7\n",
       "6. 8\n",
       "7. 9\n",
       "8. 10\n",
       "\n",
       "\n"
      ],
      "text/plain": [
       "[1]  1  3  5  6  7  8  9 10"
      ]
     },
     "metadata": {},
     "output_type": "display_data"
    }
   ],
   "source": [
    "a[1]\n",
    "a[1,1]\n",
    "a[3]\n",
    "a[1,2]\n",
    "a[-1]\n",
    "a[-c(2,4)]"
   ]
  },
  {
   "cell_type": "code",
   "execution_count": 91,
   "metadata": {
    "collapsed": false,
    "scrolled": true
   },
   "outputs": [
    {
     "data": {
      "text/html": [
       "<ol class=list-inline>\n",
       "\t<li>1</li>\n",
       "\t<li>2</li>\n",
       "\t<li>3</li>\n",
       "\t<li>4</li>\n",
       "\t<li>5</li>\n",
       "\t<li>6</li>\n",
       "\t<li>7</li>\n",
       "\t<li>8</li>\n",
       "\t<li>9</li>\n",
       "\t<li>10</li>\n",
       "\t<li>11</li>\n",
       "\t<li>12</li>\n",
       "\t<li>13</li>\n",
       "\t<li>14</li>\n",
       "\t<li>15</li>\n",
       "\t<li>16</li>\n",
       "\t<li>17</li>\n",
       "\t<li>18</li>\n",
       "\t<li>19</li>\n",
       "\t<li>20</li>\n",
       "\t<li>21</li>\n",
       "\t<li>22</li>\n",
       "\t<li>23</li>\n",
       "\t<li>24</li>\n",
       "</ol>\n"
      ],
      "text/latex": [
       "\\begin{enumerate*}\n",
       "\\item 1\n",
       "\\item 2\n",
       "\\item 3\n",
       "\\item 4\n",
       "\\item 5\n",
       "\\item 6\n",
       "\\item 7\n",
       "\\item 8\n",
       "\\item 9\n",
       "\\item 10\n",
       "\\item 11\n",
       "\\item 12\n",
       "\\item 13\n",
       "\\item 14\n",
       "\\item 15\n",
       "\\item 16\n",
       "\\item 17\n",
       "\\item 18\n",
       "\\item 19\n",
       "\\item 20\n",
       "\\item 21\n",
       "\\item 22\n",
       "\\item 23\n",
       "\\item 24\n",
       "\\end{enumerate*}\n"
      ],
      "text/markdown": [
       "1. 1\n",
       "2. 2\n",
       "3. 3\n",
       "4. 4\n",
       "5. 5\n",
       "6. 6\n",
       "7. 7\n",
       "8. 8\n",
       "9. 9\n",
       "10. 10\n",
       "11. 11\n",
       "12. 12\n",
       "13. 13\n",
       "14. 14\n",
       "15. 15\n",
       "16. 16\n",
       "17. 17\n",
       "18. 18\n",
       "19. 19\n",
       "20. 20\n",
       "21. 21\n",
       "22. 22\n",
       "23. 23\n",
       "24. 24\n",
       "\n",
       "\n"
      ],
      "text/plain": [
       ", , 1\n",
       "\n",
       "     [,1] [,2] [,3] [,4]\n",
       "[1,]    1    3    5    7\n",
       "[2,]    2    4    6    8\n",
       "\n",
       ", , 2\n",
       "\n",
       "     [,1] [,2] [,3] [,4]\n",
       "[1,]    9   11   13   15\n",
       "[2,]   10   12   14   16\n",
       "\n",
       ", , 3\n",
       "\n",
       "     [,1] [,2] [,3] [,4]\n",
       "[1,]   17   19   21   23\n",
       "[2,]   18   20   22   24\n"
      ]
     },
     "metadata": {},
     "output_type": "display_data"
    },
    {
     "data": {
      "text/html": [
       "1"
      ],
      "text/latex": [
       "1"
      ],
      "text/markdown": [
       "1"
      ],
      "text/plain": [
       "[1] 1"
      ]
     },
     "metadata": {},
     "output_type": "display_data"
    },
    {
     "data": {
      "text/html": [
       "17"
      ],
      "text/latex": [
       "17"
      ],
      "text/markdown": [
       "17"
      ],
      "text/plain": [
       "[1] 17"
      ]
     },
     "metadata": {},
     "output_type": "display_data"
    },
    {
     "data": {
      "text/html": [
       "24"
      ],
      "text/latex": [
       "24"
      ],
      "text/markdown": [
       "24"
      ],
      "text/plain": [
       "[1] 24"
      ]
     },
     "metadata": {},
     "output_type": "display_data"
    }
   ],
   "source": [
    "a1 <- array(seq_len(24), c(2,4,3))\n",
    "a1\n",
    "a1[1,1,1]\n",
    "a1[1,1,3]\n",
    "a1[2,4,3]"
   ]
  },
  {
   "cell_type": "code",
   "execution_count": 92,
   "metadata": {
    "collapsed": false
   },
   "outputs": [
    {
     "data": {
      "text/html": [
       "24"
      ],
      "text/latex": [
       "24"
      ],
      "text/markdown": [
       "24"
      ],
      "text/plain": [
       "[1] 24"
      ]
     },
     "metadata": {},
     "output_type": "display_data"
    }
   ],
   "source": [
    "length(a1)"
   ]
  },
  {
   "cell_type": "code",
   "execution_count": 93,
   "metadata": {
    "collapsed": false,
    "scrolled": true
   },
   "outputs": [
    {
     "data": {
      "text/html": [
       "<strong>$dim</strong> = <ol class=list-inline>\n",
       "\t<li>2</li>\n",
       "\t<li>4</li>\n",
       "\t<li>3</li>\n",
       "</ol>\n"
      ],
      "text/latex": [
       "\\textbf{\\$dim} = \\begin{enumerate*}\n",
       "\\item 2\n",
       "\\item 4\n",
       "\\item 3\n",
       "\\end{enumerate*}\n"
      ],
      "text/markdown": [
       "**$dim** = 1. 2\n",
       "2. 4\n",
       "3. 3\n",
       "\n",
       "\n"
      ],
      "text/plain": [
       "$dim\n",
       "[1] 2 4 3\n"
      ]
     },
     "metadata": {},
     "output_type": "display_data"
    }
   ],
   "source": [
    "attributes(a1)"
   ]
  },
  {
   "cell_type": "code",
   "execution_count": 94,
   "metadata": {
    "collapsed": false
   },
   "outputs": [
    {
     "data": {
      "text/html": [
       "<ol class=list-inline>\n",
       "\t<li>1</li>\n",
       "\t<li>2</li>\n",
       "\t<li>3</li>\n",
       "\t<li>4</li>\n",
       "\t<li>5</li>\n",
       "\t<li>6</li>\n",
       "\t<li>7</li>\n",
       "\t<li>8</li>\n",
       "\t<li>9</li>\n",
       "\t<li>10</li>\n",
       "\t<li>11</li>\n",
       "\t<li>12</li>\n",
       "\t<li>13</li>\n",
       "\t<li>14</li>\n",
       "\t<li>15</li>\n",
       "\t<li>16</li>\n",
       "\t<li>17</li>\n",
       "\t<li>18</li>\n",
       "\t<li>19</li>\n",
       "\t<li>20</li>\n",
       "\t<li>21</li>\n",
       "\t<li>22</li>\n",
       "\t<li>23</li>\n",
       "\t<li>24</li>\n",
       "</ol>\n"
      ],
      "text/latex": [
       "\\begin{enumerate*}\n",
       "\\item 1\n",
       "\\item 2\n",
       "\\item 3\n",
       "\\item 4\n",
       "\\item 5\n",
       "\\item 6\n",
       "\\item 7\n",
       "\\item 8\n",
       "\\item 9\n",
       "\\item 10\n",
       "\\item 11\n",
       "\\item 12\n",
       "\\item 13\n",
       "\\item 14\n",
       "\\item 15\n",
       "\\item 16\n",
       "\\item 17\n",
       "\\item 18\n",
       "\\item 19\n",
       "\\item 20\n",
       "\\item 21\n",
       "\\item 22\n",
       "\\item 23\n",
       "\\item 24\n",
       "\\end{enumerate*}\n"
      ],
      "text/markdown": [
       "1. 1\n",
       "2. 2\n",
       "3. 3\n",
       "4. 4\n",
       "5. 5\n",
       "6. 6\n",
       "7. 7\n",
       "8. 8\n",
       "9. 9\n",
       "10. 10\n",
       "11. 11\n",
       "12. 12\n",
       "13. 13\n",
       "14. 14\n",
       "15. 15\n",
       "16. 16\n",
       "17. 17\n",
       "18. 18\n",
       "19. 19\n",
       "20. 20\n",
       "21. 21\n",
       "22. 22\n",
       "23. 23\n",
       "24. 24\n",
       "\n",
       "\n"
      ],
      "text/plain": [
       " [1]  1  2  3  4  5  6  7  8  9 10 11 12 13 14 15 16 17 18 19 20 21 22 23 24"
      ]
     },
     "metadata": {},
     "output_type": "display_data"
    }
   ],
   "source": [
    "#transform array into vectors\n",
    "dim(a1) <- NULL\n",
    "a1"
   ]
  },
  {
   "cell_type": "code",
   "execution_count": 95,
   "metadata": {
    "collapsed": false,
    "scrolled": true
   },
   "outputs": [
    {
     "data": {
      "text/plain": [
       "NULL"
      ]
     },
     "metadata": {},
     "output_type": "display_data"
    }
   ],
   "source": [
    "attributes(a1)"
   ]
  },
  {
   "cell_type": "code",
   "execution_count": 96,
   "metadata": {
    "collapsed": false
   },
   "outputs": [
    {
     "data": {
      "text/html": [
       "24"
      ],
      "text/latex": [
       "24"
      ],
      "text/markdown": [
       "24"
      ],
      "text/plain": [
       "[1] 24"
      ]
     },
     "metadata": {},
     "output_type": "display_data"
    }
   ],
   "source": [
    "length(a1)"
   ]
  },
  {
   "cell_type": "code",
   "execution_count": 97,
   "metadata": {
    "collapsed": false
   },
   "outputs": [
    {
     "data": {
      "text/html": [
       "<table>\n",
       "<tbody>\n",
       "\t<tr><td>1</td><td>3</td><td>5</td></tr>\n",
       "\t<tr><td>2</td><td>4</td><td>6</td></tr>\n",
       "</tbody>\n",
       "</table>\n"
      ],
      "text/latex": [
       "\\begin{tabular}{lll}\n",
       "\t 1 & 3 & 5\\\\\n",
       "\t 2 & 4 & 6\\\\\n",
       "\\end{tabular}\n"
      ],
      "text/markdown": [
       "1. 1\n",
       "2. 2\n",
       "3. 3\n",
       "4. 4\n",
       "5. 5\n",
       "6. 6\n",
       "\n",
       "\n"
      ],
      "text/plain": [
       "     [,1] [,2] [,3]\n",
       "[1,] 1    3    5   \n",
       "[2,] 2    4    6   "
      ]
     },
     "metadata": {},
     "output_type": "display_data"
    }
   ],
   "source": [
    "# Matrix definition requires 2 scalar arguments to specify rows and columns\n",
    "a <- matrix(1:6, ncol = 3, nrow = 2)\n",
    "a"
   ]
  },
  {
   "cell_type": "code",
   "execution_count": 98,
   "metadata": {
    "collapsed": false
   },
   "outputs": [
    {
     "data": {
      "text/html": [
       "<table>\n",
       "<tbody>\n",
       "\t<tr><td>1 </td><td> 6</td></tr>\n",
       "\t<tr><td>2 </td><td> 7</td></tr>\n",
       "\t<tr><td>3 </td><td> 8</td></tr>\n",
       "\t<tr><td>4 </td><td> 9</td></tr>\n",
       "\t<tr><td>5 </td><td>10</td></tr>\n",
       "</tbody>\n",
       "</table>\n"
      ],
      "text/latex": [
       "\\begin{tabular}{ll}\n",
       "\t 1  &  6\\\\\n",
       "\t 2  &  7\\\\\n",
       "\t 3  &  8\\\\\n",
       "\t 4  &  9\\\\\n",
       "\t 5  & 10\\\\\n",
       "\\end{tabular}\n"
      ],
      "text/markdown": [
       "1. 1\n",
       "2. 2\n",
       "3. 3\n",
       "4. 4\n",
       "5. 5\n",
       "6. 6\n",
       "7. 7\n",
       "8. 8\n",
       "9. 9\n",
       "10. 10\n",
       "\n",
       "\n"
      ],
      "text/plain": [
       "     [,1] [,2]\n",
       "[1,] 1     6  \n",
       "[2,] 2     7  \n",
       "[3,] 3     8  \n",
       "[4,] 4     9  \n",
       "[5,] 5    10  "
      ]
     },
     "metadata": {},
     "output_type": "display_data"
    }
   ],
   "source": [
    "#or just one of them\n",
    "m <- matrix(c(1,2,3,4,5,6,7,8,9,10), ncol = 2) # a matrix is a 2D array\n",
    "m"
   ]
  },
  {
   "cell_type": "code",
   "execution_count": 99,
   "metadata": {
    "collapsed": false
   },
   "outputs": [
    {
     "data": {
      "text/html": [
       "<ol class=list-inline>\n",
       "\t<li>5</li>\n",
       "\t<li>2</li>\n",
       "</ol>\n"
      ],
      "text/latex": [
       "\\begin{enumerate*}\n",
       "\\item 5\n",
       "\\item 2\n",
       "\\end{enumerate*}\n"
      ],
      "text/markdown": [
       "1. 5\n",
       "2. 2\n",
       "\n",
       "\n"
      ],
      "text/plain": [
       "[1] 5 2"
      ]
     },
     "metadata": {},
     "output_type": "display_data"
    }
   ],
   "source": [
    "dim(m)"
   ]
  },
  {
   "cell_type": "code",
   "execution_count": 100,
   "metadata": {
    "collapsed": false
   },
   "outputs": [
    {
     "data": {
      "text/html": [
       "2"
      ],
      "text/latex": [
       "2"
      ],
      "text/markdown": [
       "2"
      ],
      "text/plain": [
       "[1] 2"
      ]
     },
     "metadata": {},
     "output_type": "display_data"
    },
    {
     "data": {
      "text/html": [
       "5"
      ],
      "text/latex": [
       "5"
      ],
      "text/markdown": [
       "5"
      ],
      "text/plain": [
       "[1] 5"
      ]
     },
     "metadata": {},
     "output_type": "display_data"
    }
   ],
   "source": [
    "#get dimensions and set dim names\n",
    "ncol(m); nrow(m)"
   ]
  },
  {
   "cell_type": "markdown",
   "metadata": {},
   "source": [
    "Here are some matrix operations you can try"
   ]
  },
  {
   "cell_type": "code",
   "execution_count": 101,
   "metadata": {
    "collapsed": false,
    "scrolled": true
   },
   "outputs": [
    {
     "data": {
      "text/html": [
       "<table>\n",
       "<tbody>\n",
       "\t<tr><td>1 </td><td>2 </td><td>3 </td><td>4 </td><td> 5</td></tr>\n",
       "\t<tr><td>6 </td><td>7 </td><td>8 </td><td>9 </td><td>10</td></tr>\n",
       "</tbody>\n",
       "</table>\n"
      ],
      "text/latex": [
       "\\begin{tabular}{lllll}\n",
       "\t 1  & 2  & 3  & 4  &  5\\\\\n",
       "\t 6  & 7  & 8  & 9  & 10\\\\\n",
       "\\end{tabular}\n"
      ],
      "text/markdown": [
       "1. 1\n",
       "2. 6\n",
       "3. 2\n",
       "4. 7\n",
       "5. 3\n",
       "6. 8\n",
       "7. 4\n",
       "8. 9\n",
       "9. 5\n",
       "10. 10\n",
       "\n",
       "\n"
      ],
      "text/plain": [
       "     [,1] [,2] [,3] [,4] [,5]\n",
       "[1,] 1    2    3    4     5  \n",
       "[2,] 6    7    8    9    10  "
      ]
     },
     "metadata": {},
     "output_type": "display_data"
    },
    {
     "data": {
      "text/html": [
       "<table>\n",
       "<tbody>\n",
       "\t<tr><td>1.4 </td><td> 8.4</td></tr>\n",
       "\t<tr><td>2.8 </td><td> 9.8</td></tr>\n",
       "\t<tr><td>4.2 </td><td>11.2</td></tr>\n",
       "\t<tr><td>5.6 </td><td>12.6</td></tr>\n",
       "\t<tr><td>7.0 </td><td>14.0</td></tr>\n",
       "</tbody>\n",
       "</table>\n"
      ],
      "text/latex": [
       "\\begin{tabular}{ll}\n",
       "\t 1.4  &  8.4\\\\\n",
       "\t 2.8  &  9.8\\\\\n",
       "\t 4.2  & 11.2\\\\\n",
       "\t 5.6  & 12.6\\\\\n",
       "\t 7.0  & 14.0\\\\\n",
       "\\end{tabular}\n"
      ],
      "text/markdown": [
       "1. 1.4\n",
       "2. 2.8\n",
       "3. 4.2\n",
       "4. 5.6\n",
       "5. 7\n",
       "6. 8.4\n",
       "7. 9.8\n",
       "8. 11.2\n",
       "9. 12.6\n",
       "10. 14\n",
       "\n",
       "\n"
      ],
      "text/plain": [
       "     [,1] [,2]\n",
       "[1,] 1.4   8.4\n",
       "[2,] 2.8   9.8\n",
       "[3,] 4.2  11.2\n",
       "[4,] 5.6  12.6\n",
       "[5,] 7.0  14.0"
      ]
     },
     "metadata": {},
     "output_type": "display_data"
    },
    {
     "data": {
      "text/html": [
       "<table>\n",
       "<tbody>\n",
       "\t<tr><td> 0.4</td><td>14.4</td></tr>\n",
       "\t<tr><td> 1.6</td><td>19.6</td></tr>\n",
       "\t<tr><td> 3.6</td><td>25.6</td></tr>\n",
       "\t<tr><td> 6.4</td><td>32.4</td></tr>\n",
       "\t<tr><td>10.0</td><td>40.0</td></tr>\n",
       "</tbody>\n",
       "</table>\n"
      ],
      "text/latex": [
       "\\begin{tabular}{ll}\n",
       "\t  0.4 & 14.4\\\\\n",
       "\t  1.6 & 19.6\\\\\n",
       "\t  3.6 & 25.6\\\\\n",
       "\t  6.4 & 32.4\\\\\n",
       "\t 10.0 & 40.0\\\\\n",
       "\\end{tabular}\n"
      ],
      "text/markdown": [
       "1. 0.4\n",
       "2. 1.6\n",
       "3. 3.6\n",
       "4. 6.4\n",
       "5. 10\n",
       "6. 14.4\n",
       "7. 19.6\n",
       "8. 25.6\n",
       "9. 32.4\n",
       "10. 40\n",
       "\n",
       "\n"
      ],
      "text/plain": [
       "     [,1] [,2]\n",
       "[1,]  0.4 14.4\n",
       "[2,]  1.6 19.6\n",
       "[3,]  3.6 25.6\n",
       "[4,]  6.4 32.4\n",
       "[5,] 10.0 40.0"
      ]
     },
     "metadata": {},
     "output_type": "display_data"
    }
   ],
   "source": [
    "t(m) #matrice trasposta\n",
    "n <- m*2/5\n",
    "m + n #matrice somma (componente per componente)\n",
    "m * n #matrice prodotto componente per componente!!\n"
   ]
  },
  {
   "cell_type": "code",
   "execution_count": 102,
   "metadata": {
    "collapsed": false
   },
   "outputs": [
    {
     "data": {
      "text/html": [
       "<table>\n",
       "<tbody>\n",
       "\t<tr><td>14.8</td><td>17.6</td><td>20.4</td><td>23.2</td><td>26  </td></tr>\n",
       "\t<tr><td>17.6</td><td>21.2</td><td>24.8</td><td>28.4</td><td>32  </td></tr>\n",
       "\t<tr><td>20.4</td><td>24.8</td><td>29.2</td><td>33.6</td><td>38  </td></tr>\n",
       "\t<tr><td>23.2</td><td>28.4</td><td>33.6</td><td>38.8</td><td>44  </td></tr>\n",
       "\t<tr><td>26.0</td><td>32.0</td><td>38.0</td><td>44.0</td><td>50  </td></tr>\n",
       "</tbody>\n",
       "</table>\n"
      ],
      "text/latex": [
       "\\begin{tabular}{lllll}\n",
       "\t 14.8 & 17.6 & 20.4 & 23.2 & 26  \\\\\n",
       "\t 17.6 & 21.2 & 24.8 & 28.4 & 32  \\\\\n",
       "\t 20.4 & 24.8 & 29.2 & 33.6 & 38  \\\\\n",
       "\t 23.2 & 28.4 & 33.6 & 38.8 & 44  \\\\\n",
       "\t 26.0 & 32.0 & 38.0 & 44.0 & 50  \\\\\n",
       "\\end{tabular}\n"
      ],
      "text/markdown": [
       "1. 14.8\n",
       "2. 17.6\n",
       "3. 20.4\n",
       "4. 23.2\n",
       "5. 26\n",
       "6. 17.6\n",
       "7. 21.2\n",
       "8. 24.8\n",
       "9. 28.4\n",
       "10. 32\n",
       "11. 20.4\n",
       "12. 24.8\n",
       "13. 29.2\n",
       "14. 33.6\n",
       "15. 38\n",
       "16. 23.2\n",
       "17. 28.4\n",
       "18. 33.6\n",
       "19. 38.8\n",
       "20. 44\n",
       "21. 26\n",
       "22. 32\n",
       "23. 38\n",
       "24. 44\n",
       "25. 50\n",
       "\n",
       "\n"
      ],
      "text/plain": [
       "     [,1] [,2] [,3] [,4] [,5]\n",
       "[1,] 14.8 17.6 20.4 23.2 26  \n",
       "[2,] 17.6 21.2 24.8 28.4 32  \n",
       "[3,] 20.4 24.8 29.2 33.6 38  \n",
       "[4,] 23.2 28.4 33.6 38.8 44  \n",
       "[5,] 26.0 32.0 38.0 44.0 50  "
      ]
     },
     "metadata": {},
     "output_type": "display_data"
    },
    {
     "data": {
      "text/html": [
       "<table>\n",
       "<tbody>\n",
       "\t<tr><td>5</td><td>0</td><td>0</td></tr>\n",
       "\t<tr><td>0</td><td>6</td><td>0</td></tr>\n",
       "\t<tr><td>0</td><td>0</td><td>7</td></tr>\n",
       "</tbody>\n",
       "</table>\n"
      ],
      "text/latex": [
       "\\begin{tabular}{lll}\n",
       "\t 5 & 0 & 0\\\\\n",
       "\t 0 & 6 & 0\\\\\n",
       "\t 0 & 0 & 7\\\\\n",
       "\\end{tabular}\n"
      ],
      "text/markdown": [
       "1. 5\n",
       "2. 0\n",
       "3. 0\n",
       "4. 0\n",
       "5. 6\n",
       "6. 0\n",
       "7. 0\n",
       "8. 0\n",
       "9. 7\n",
       "\n",
       "\n"
      ],
      "text/plain": [
       "     [,1] [,2] [,3]\n",
       "[1,] 5    0    0   \n",
       "[2,] 0    6    0   \n",
       "[3,] 0    0    7   "
      ]
     },
     "metadata": {},
     "output_type": "display_data"
    },
    {
     "data": {
      "text/html": [
       "<dl>\n",
       "\t<dt>$values</dt>\n",
       "\t\t<dd><ol class=list-inline>\n",
       "\t<li>152.690157880665</li>\n",
       "\t<li>1.30984211933496</li>\n",
       "\t<li>-3.42417484520776e-15</li>\n",
       "\t<li>-8.11454132722598e-15</li>\n",
       "\t<li>-8.13602239870169e-15</li>\n",
       "</ol>\n",
       "</dd>\n",
       "\t<dt>$vectors</dt>\n",
       "\t\t<dd><table>\n",
       "<tbody>\n",
       "\t<tr><td>-0.3042621   </td><td>-0.71233741  </td><td> 0.00000000  </td><td> 6.324555e-01</td><td> 0.0000000   </td></tr>\n",
       "\t<tr><td>-0.3707409   </td><td>-0.40317635  </td><td>-0.02698067  </td><td>-6.324555e-01</td><td> 0.5470576   </td></tr>\n",
       "\t<tr><td>-0.4372198   </td><td>-0.09401529  </td><td> 0.44372691  </td><td>-3.162278e-01</td><td>-0.7093000   </td></tr>\n",
       "\t<tr><td>-0.5036986   </td><td> 0.21514578  </td><td>-0.80651180  </td><td> 7.216450e-16</td><td>-0.2225730   </td></tr>\n",
       "\t<tr><td>-0.5701775   </td><td> 0.52430684  </td><td> 0.38976556  </td><td> 3.162278e-01</td><td> 0.3848153   </td></tr>\n",
       "</tbody>\n",
       "</table>\n",
       "</dd>\n",
       "</dl>\n"
      ],
      "text/latex": [
       "\\begin{description}\n",
       "\\item[\\$values] \\begin{enumerate*}\n",
       "\\item 152.690157880665\n",
       "\\item 1.30984211933496\n",
       "\\item -3.42417484520776e-15\n",
       "\\item -8.11454132722598e-15\n",
       "\\item -8.13602239870169e-15\n",
       "\\end{enumerate*}\n",
       "\n",
       "\\item[\\$vectors] \\begin{tabular}{lllll}\n",
       "\t -0.3042621    & -0.71233741   &  0.00000000   &  6.324555e-01 &  0.0000000   \\\\\n",
       "\t -0.3707409    & -0.40317635   & -0.02698067   & -6.324555e-01 &  0.5470576   \\\\\n",
       "\t -0.4372198    & -0.09401529   &  0.44372691   & -3.162278e-01 & -0.7093000   \\\\\n",
       "\t -0.5036986    &  0.21514578   & -0.80651180   &  7.216450e-16 & -0.2225730   \\\\\n",
       "\t -0.5701775    &  0.52430684   &  0.38976556   &  3.162278e-01 &  0.3848153   \\\\\n",
       "\\end{tabular}\n",
       "\n",
       "\\end{description}\n"
      ],
      "text/markdown": [
       "$values\n",
       ":   1. 152.690157880665\n",
       "2. 1.30984211933496\n",
       "3. -3.42417484520776e-15\n",
       "4. -8.11454132722598e-15\n",
       "5. -8.13602239870169e-15\n",
       "\n",
       "\n",
       "\n",
       "$vectors\n",
       ":   1. -0.304262073783932\n",
       "2. -0.370740921013268\n",
       "3. -0.437219768242605\n",
       "4. -0.503698615471941\n",
       "5. -0.570177462701278\n",
       "6. -0.712337413348968\n",
       "7. -0.403176350355822\n",
       "8. -0.0940152873626493\n",
       "9. 0.215145775630501\n",
       "10. 0.524306838623654\n",
       "11. 0\n",
       "12. -0.026980673899568\n",
       "13. 0.44372690965274\n",
       "14. -0.80651179760677\n",
       "15. 0.389765561853598\n",
       "16. 0.632455532033679\n",
       "17. -0.632455532033681\n",
       "18. -0.316227766016828\n",
       "19. 7.21644966006352e-16\n",
       "20. 0.316227766016832\n",
       "21. 0\n",
       "22. 0.547057623323093\n",
       "23. -0.709299957458082\n",
       "24. -0.222572955053161\n",
       "25. 0.384815289188145\n",
       "\n",
       "\n",
       "\n",
       "\n",
       "\n"
      ],
      "text/plain": [
       "$values\n",
       "[1]  1.526902e+02  1.309842e+00 -3.424175e-15 -8.114541e-15 -8.136022e-15\n",
       "\n",
       "$vectors\n",
       "           [,1]        [,2]        [,3]          [,4]       [,5]\n",
       "[1,] -0.3042621 -0.71233741  0.00000000  6.324555e-01  0.0000000\n",
       "[2,] -0.3707409 -0.40317635 -0.02698067 -6.324555e-01  0.5470576\n",
       "[3,] -0.4372198 -0.09401529  0.44372691 -3.162278e-01 -0.7093000\n",
       "[4,] -0.5036986  0.21514578 -0.80651180  7.216450e-16 -0.2225730\n",
       "[5,] -0.5701775  0.52430684  0.38976556  3.162278e-01  0.3848153\n"
      ]
     },
     "metadata": {},
     "output_type": "display_data"
    },
    {
     "data": {
      "text/plain": [
       "$qr\n",
       "            [,1]        [,2]          [,3]          [,4]          [,5]\n",
       "[1,] -46.4671927 -56.6076805 -6.674817e+01 -7.688866e+01 -8.702914e+01\n",
       "[2,]   0.3787619   0.6086934  1.217387e+00  1.826080e+00  2.434773e+00\n",
       "[3,]   0.4390194  -0.1498862 -6.301922e-15 -6.669632e-16  3.706437e-15\n",
       "[4,]   0.4992770  -0.4925889  6.518369e-01  1.737456e-15  5.360213e-16\n",
       "[5,]   0.5595346  -0.8352916 -3.523443e-02  8.753660e-01 -3.983144e-15\n",
       "\n",
       "$rank\n",
       "[1] 2\n",
       "\n",
       "$qraux\n",
       "[1] 1.318504e+00 1.192816e+00 1.757540e+00 1.483461e+00 3.983144e-15\n",
       "\n",
       "$pivot\n",
       "[1] 1 2 3 4 5\n",
       "\n",
       "attr(,\"class\")\n",
       "[1] \"qr\""
      ]
     },
     "metadata": {},
     "output_type": "display_data"
    },
    {
     "data": {
      "text/html": [
       "<dl>\n",
       "\t<dt>$d</dt>\n",
       "\t\t<dd><ol class=list-inline>\n",
       "\t<li>152.690157880665</li>\n",
       "\t<li>1.30984211933495</li>\n",
       "\t<li>6.35511869329744e-15</li>\n",
       "\t<li>2.37254966923248e-15</li>\n",
       "\t<li>1.31323366494074e-15</li>\n",
       "</ol>\n",
       "</dd>\n",
       "\t<dt>$u</dt>\n",
       "\t\t<dd><table>\n",
       "<tbody>\n",
       "\t<tr><td>-0.3042621 </td><td>-0.71233741</td><td> 0.61211795</td><td>-0.10250109</td><td> 0.1216764 </td></tr>\n",
       "\t<tr><td>-0.3707409 </td><td>-0.40317635</td><td>-0.74624939</td><td>-0.32576568</td><td> 0.1923241 </td></tr>\n",
       "\t<tr><td>-0.4372198 </td><td>-0.09401529</td><td>-0.15069837</td><td> 0.86802314</td><td>-0.1543562 </td></tr>\n",
       "\t<tr><td>-0.5036986 </td><td> 0.21514578</td><td> 0.09167311</td><td>-0.34874488</td><td>-0.7549656 </td></tr>\n",
       "\t<tr><td>-0.5701775 </td><td> 0.52430684</td><td> 0.19315670</td><td>-0.09101149</td><td> 0.5953213 </td></tr>\n",
       "</tbody>\n",
       "</table>\n",
       "</dd>\n",
       "\t<dt>$v</dt>\n",
       "\t\t<dd><table>\n",
       "<tbody>\n",
       "\t<tr><td>-0.3042621  </td><td>-0.71233741 </td><td> 0.33548899 </td><td> 0.334905904</td><td> 0.41867072 </td></tr>\n",
       "\t<tr><td>-0.3707409  </td><td>-0.40317635 </td><td>-0.01704823 </td><td>-0.770650749</td><td>-0.32527954 </td></tr>\n",
       "\t<tr><td>-0.4372198  </td><td>-0.09401529 </td><td>-0.34047150 </td><td> 0.533736673</td><td>-0.63182618 </td></tr>\n",
       "\t<tr><td>-0.5036986  </td><td> 0.21514578 </td><td>-0.60986826 </td><td>-0.095144714</td><td> 0.56480809 </td></tr>\n",
       "\t<tr><td>-0.5701775  </td><td> 0.52430684 </td><td> 0.63189901 </td><td>-0.002847113</td><td>-0.02637309 </td></tr>\n",
       "</tbody>\n",
       "</table>\n",
       "</dd>\n",
       "</dl>\n"
      ],
      "text/latex": [
       "\\begin{description}\n",
       "\\item[\\$d] \\begin{enumerate*}\n",
       "\\item 152.690157880665\n",
       "\\item 1.30984211933495\n",
       "\\item 6.35511869329744e-15\n",
       "\\item 2.37254966923248e-15\n",
       "\\item 1.31323366494074e-15\n",
       "\\end{enumerate*}\n",
       "\n",
       "\\item[\\$u] \\begin{tabular}{lllll}\n",
       "\t -0.3042621  & -0.71233741 &  0.61211795 & -0.10250109 &  0.1216764 \\\\\n",
       "\t -0.3707409  & -0.40317635 & -0.74624939 & -0.32576568 &  0.1923241 \\\\\n",
       "\t -0.4372198  & -0.09401529 & -0.15069837 &  0.86802314 & -0.1543562 \\\\\n",
       "\t -0.5036986  &  0.21514578 &  0.09167311 & -0.34874488 & -0.7549656 \\\\\n",
       "\t -0.5701775  &  0.52430684 &  0.19315670 & -0.09101149 &  0.5953213 \\\\\n",
       "\\end{tabular}\n",
       "\n",
       "\\item[\\$v] \\begin{tabular}{lllll}\n",
       "\t -0.3042621   & -0.71233741  &  0.33548899  &  0.334905904 &  0.41867072 \\\\\n",
       "\t -0.3707409   & -0.40317635  & -0.01704823  & -0.770650749 & -0.32527954 \\\\\n",
       "\t -0.4372198   & -0.09401529  & -0.34047150  &  0.533736673 & -0.63182618 \\\\\n",
       "\t -0.5036986   &  0.21514578  & -0.60986826  & -0.095144714 &  0.56480809 \\\\\n",
       "\t -0.5701775   &  0.52430684  &  0.63189901  & -0.002847113 & -0.02637309 \\\\\n",
       "\\end{tabular}\n",
       "\n",
       "\\end{description}\n"
      ],
      "text/markdown": [
       "$d\n",
       ":   1. 152.690157880665\n",
       "2. 1.30984211933495\n",
       "3. 6.35511869329744e-15\n",
       "4. 2.37254966923248e-15\n",
       "5. 1.31323366494074e-15\n",
       "\n",
       "\n",
       "\n",
       "$u\n",
       ":   1. -0.304262073783932\n",
       "2. -0.370740921013268\n",
       "3. -0.437219768242605\n",
       "4. -0.503698615471941\n",
       "5. -0.570177462701278\n",
       "6. -0.712337413348966\n",
       "7. -0.403176350355818\n",
       "8. -0.0940152873626562\n",
       "9. 0.215145775630499\n",
       "10. 0.524306838623658\n",
       "11. 0.612117949200558\n",
       "12. -0.74624938581608\n",
       "13. -0.150698374513969\n",
       "14. 0.0916731096739721\n",
       "15. 0.193156701455522\n",
       "16. -0.102501087933678\n",
       "17. -0.325765678742928\n",
       "18. 0.868023136101234\n",
       "19. -0.348744884238966\n",
       "20. -0.0910114851856615\n",
       "21. 0.121676387351536\n",
       "22. 0.19232414492798\n",
       "23. -0.154356195573179\n",
       "24. -0.754965593043719\n",
       "25. 0.595321256337383\n",
       "\n",
       "\n",
       "\n",
       "$v\n",
       ":   1. -0.304262073783932\n",
       "2. -0.370740921013268\n",
       "3. -0.437219768242605\n",
       "4. -0.503698615471941\n",
       "5. -0.570177462701278\n",
       "6. -0.712337413348973\n",
       "7. -0.403176350355811\n",
       "8. -0.0940152873626565\n",
       "9. 0.215145775630504\n",
       "10. 0.524306838623652\n",
       "11. 0.335488987563624\n",
       "12. -0.017048227882257\n",
       "13. -0.340471500904047\n",
       "14. -0.609868264799656\n",
       "15. 0.631899006022333\n",
       "16. 0.334905903975049\n",
       "17. -0.77065074898883\n",
       "18. 0.533736672742054\n",
       "19. -0.0951447144178289\n",
       "20. -0.00284711331044607\n",
       "21. 0.418670723488263\n",
       "22. -0.32527954286895\n",
       "23. -0.631826179611439\n",
       "24. 0.564808093876677\n",
       "25. -0.0263730948845506\n",
       "\n",
       "\n",
       "\n",
       "\n",
       "\n"
      ],
      "text/plain": [
       "$d\n",
       "[1] 1.526902e+02 1.309842e+00 6.355119e-15 2.372550e-15 1.313234e-15\n",
       "\n",
       "$u\n",
       "           [,1]        [,2]        [,3]        [,4]       [,5]\n",
       "[1,] -0.3042621 -0.71233741  0.61211795 -0.10250109  0.1216764\n",
       "[2,] -0.3707409 -0.40317635 -0.74624939 -0.32576568  0.1923241\n",
       "[3,] -0.4372198 -0.09401529 -0.15069837  0.86802314 -0.1543562\n",
       "[4,] -0.5036986  0.21514578  0.09167311 -0.34874488 -0.7549656\n",
       "[5,] -0.5701775  0.52430684  0.19315670 -0.09101149  0.5953213\n",
       "\n",
       "$v\n",
       "           [,1]        [,2]        [,3]         [,4]        [,5]\n",
       "[1,] -0.3042621 -0.71233741  0.33548899  0.334905904  0.41867072\n",
       "[2,] -0.3707409 -0.40317635 -0.01704823 -0.770650749 -0.32527954\n",
       "[3,] -0.4372198 -0.09401529 -0.34047150  0.533736673 -0.63182618\n",
       "[4,] -0.5036986  0.21514578 -0.60986826 -0.095144714  0.56480809\n",
       "[5,] -0.5701775  0.52430684  0.63189901 -0.002847113 -0.02637309\n"
      ]
     },
     "metadata": {},
     "output_type": "display_data"
    }
   ],
   "source": [
    "A <- m %*% t(n); A #prodotto matriciale riga per colonna!!\n",
    "diag(5:7) #crea matrice 3x3 con 0 fuori dalla diagonale\n",
    "x <- 1:15; dim(x) <- c(3,5) #converte x in matrice 3x5\n",
    "eigen(A) #calcola autovalori ed autovettori (A quadrata!)\n",
    "qr(A) #decomposizione QR\n",
    "svd(A) #Singular Value Decomposition"
   ]
  },
  {
   "cell_type": "markdown",
   "metadata": {},
   "source": [
    "Matrix elements can be accessed in different ways"
   ]
  },
  {
   "cell_type": "code",
   "execution_count": 103,
   "metadata": {
    "collapsed": false
   },
   "outputs": [
    {
     "data": {
      "text/html": [
       "14.8"
      ],
      "text/latex": [
       "14.8"
      ],
      "text/markdown": [
       "14.8"
      ],
      "text/plain": [
       "[1] 14.8"
      ]
     },
     "metadata": {},
     "output_type": "display_data"
    },
    {
     "data": {
      "text/html": [
       "<ol class=list-inline>\n",
       "\t<li>14.8</li>\n",
       "\t<li>20.4</li>\n",
       "</ol>\n"
      ],
      "text/latex": [
       "\\begin{enumerate*}\n",
       "\\item 14.8\n",
       "\\item 20.4\n",
       "\\end{enumerate*}\n"
      ],
      "text/markdown": [
       "1. 14.8\n",
       "2. 20.4\n",
       "\n",
       "\n"
      ],
      "text/plain": [
       "[1] 14.8 20.4"
      ]
     },
     "metadata": {},
     "output_type": "display_data"
    },
    {
     "data": {
      "text/html": [
       "17.6"
      ],
      "text/latex": [
       "17.6"
      ],
      "text/markdown": [
       "17.6"
      ],
      "text/plain": [
       "[1] 17.6"
      ]
     },
     "metadata": {},
     "output_type": "display_data"
    },
    {
     "data": {
      "text/html": [
       "<ol class=list-inline>\n",
       "\t<li>14.8</li>\n",
       "\t<li>17.6</li>\n",
       "\t<li>20.4</li>\n",
       "\t<li>23.2</li>\n",
       "\t<li>26</li>\n",
       "</ol>\n"
      ],
      "text/latex": [
       "\\begin{enumerate*}\n",
       "\\item 14.8\n",
       "\\item 17.6\n",
       "\\item 20.4\n",
       "\\item 23.2\n",
       "\\item 26\n",
       "\\end{enumerate*}\n"
      ],
      "text/markdown": [
       "1. 14.8\n",
       "2. 17.6\n",
       "3. 20.4\n",
       "4. 23.2\n",
       "5. 26\n",
       "\n",
       "\n"
      ],
      "text/plain": [
       "[1] 14.8 17.6 20.4 23.2 26.0"
      ]
     },
     "metadata": {},
     "output_type": "display_data"
    }
   ],
   "source": [
    "#indexing\n",
    "A[1]\n",
    "A[c(1,3)]\n",
    "A[1, 2]\n",
    "A[1,]"
   ]
  },
  {
   "cell_type": "markdown",
   "metadata": {},
   "source": [
    "To remove all variables from R’s memory, click “clear all” in the workspace window or type"
   ]
  },
  {
   "cell_type": "code",
   "execution_count": 104,
   "metadata": {
    "collapsed": true
   },
   "outputs": [],
   "source": [
    "rm(list=ls())"
   ]
  },
  {
   "cell_type": "markdown",
   "metadata": {},
   "source": [
    " If you only want to remove the variable a, you can type rm(variable_name)"
   ]
  },
  {
   "cell_type": "code",
   "execution_count": 105,
   "metadata": {
    "collapsed": false
   },
   "outputs": [
    {
     "data": {
      "text/html": [
       "<ol class=list-inline>\n",
       "\t<li>'a'</li>\n",
       "\t<li>'b'</li>\n",
       "</ol>\n"
      ],
      "text/latex": [
       "\\begin{enumerate*}\n",
       "\\item 'a'\n",
       "\\item 'b'\n",
       "\\end{enumerate*}\n"
      ],
      "text/markdown": [
       "1. 'a'\n",
       "2. 'b'\n",
       "\n",
       "\n"
      ],
      "text/plain": [
       "[1] \"a\" \"b\""
      ]
     },
     "metadata": {},
     "output_type": "display_data"
    },
    {
     "data": {
      "text/html": [
       "'b'"
      ],
      "text/latex": [
       "'b'"
      ],
      "text/markdown": [
       "'b'"
      ],
      "text/plain": [
       "[1] \"b\""
      ]
     },
     "metadata": {},
     "output_type": "display_data"
    }
   ],
   "source": [
    "a <- 5\n",
    "b <- a\n",
    "ls()\n",
    "rm(a)\n",
    "ls()"
   ]
  },
  {
   "cell_type": "markdown",
   "metadata": {},
   "source": [
    "## Factor Variables\n",
    "A factor is a vector that can contain only predefined values, and is used to store categorical data. Factors are built on top of integer vectors using two attributes: the class(), “factor”, which makes them behave differently from regular integer vectors, and the levels(), which defines the set of allowed values."
   ]
  },
  {
   "cell_type": "code",
   "execution_count": 106,
   "metadata": {
    "collapsed": false,
    "scrolled": false
   },
   "outputs": [
    {
     "data": {
      "text/html": [
       "<ol class=list-inline>\n",
       "\t<li>'female'</li>\n",
       "\t<li>'male'</li>\n",
       "\t<li>'male'</li>\n",
       "\t<li>'female'</li>\n",
       "\t<li>'female'</li>\n",
       "</ol>\n"
      ],
      "text/latex": [
       "\\begin{enumerate*}\n",
       "\\item 'female'\n",
       "\\item 'male'\n",
       "\\item 'male'\n",
       "\\item 'female'\n",
       "\\item 'female'\n",
       "\\end{enumerate*}\n"
      ],
      "text/markdown": [
       "1. 'female'\n",
       "2. 'male'\n",
       "3. 'male'\n",
       "4. 'female'\n",
       "5. 'female'\n",
       "\n",
       "\n"
      ],
      "text/plain": [
       "[1] \"female\" \"male\"   \"male\"   \"female\" \"female\""
      ]
     },
     "metadata": {},
     "output_type": "display_data"
    }
   ],
   "source": [
    "x <- c(\"female\",\"male\",\"male\",\"female\", \"female\")\n",
    "x"
   ]
  },
  {
   "cell_type": "code",
   "execution_count": 107,
   "metadata": {
    "collapsed": false
   },
   "outputs": [
    {
     "data": {
      "text/html": [
       "'character'"
      ],
      "text/latex": [
       "'character'"
      ],
      "text/markdown": [
       "'character'"
      ],
      "text/plain": [
       "[1] \"character\""
      ]
     },
     "metadata": {},
     "output_type": "display_data"
    }
   ],
   "source": [
    "class(x)"
   ]
  },
  {
   "cell_type": "code",
   "execution_count": 108,
   "metadata": {
    "collapsed": false,
    "scrolled": true
   },
   "outputs": [
    {
     "data": {
      "text/html": [
       "<ol class=list-inline>\n",
       "\t<li>female</li>\n",
       "\t<li>male</li>\n",
       "\t<li>male</li>\n",
       "\t<li>female</li>\n",
       "\t<li>female</li>\n",
       "</ol>\n"
      ],
      "text/latex": [
       "\\begin{enumerate*}\n",
       "\\item female\n",
       "\\item male\n",
       "\\item male\n",
       "\\item female\n",
       "\\item female\n",
       "\\end{enumerate*}\n"
      ],
      "text/markdown": [
       "1. female\n",
       "2. male\n",
       "3. male\n",
       "4. female\n",
       "5. female\n",
       "\n",
       "\n"
      ],
      "text/plain": [
       "[1] female male   male   female female\n",
       "Levels: female male"
      ]
     },
     "metadata": {},
     "output_type": "display_data"
    },
    {
     "data": {
      "text/html": [
       "'factor'"
      ],
      "text/latex": [
       "'factor'"
      ],
      "text/markdown": [
       "'factor'"
      ],
      "text/plain": [
       "[1] \"factor\""
      ]
     },
     "metadata": {},
     "output_type": "display_data"
    }
   ],
   "source": [
    "f <- factor(x)\n",
    "f\n",
    "class(f)"
   ]
  },
  {
   "cell_type": "code",
   "execution_count": 109,
   "metadata": {
    "collapsed": false,
    "scrolled": true
   },
   "outputs": [
    {
     "data": {
      "text/html": [
       "<ol class=list-inline>\n",
       "\t<li>'female'</li>\n",
       "\t<li>'male'</li>\n",
       "</ol>\n"
      ],
      "text/latex": [
       "\\begin{enumerate*}\n",
       "\\item 'female'\n",
       "\\item 'male'\n",
       "\\end{enumerate*}\n"
      ],
      "text/markdown": [
       "1. 'female'\n",
       "2. 'male'\n",
       "\n",
       "\n"
      ],
      "text/plain": [
       "[1] \"female\" \"male\"  "
      ]
     },
     "metadata": {},
     "output_type": "display_data"
    },
    {
     "data": {
      "text/html": [
       "<ol class=list-inline>\n",
       "\t<li>1</li>\n",
       "\t<li>2</li>\n",
       "\t<li>2</li>\n",
       "\t<li>1</li>\n",
       "\t<li>1</li>\n",
       "</ol>\n"
      ],
      "text/latex": [
       "\\begin{enumerate*}\n",
       "\\item 1\n",
       "\\item 2\n",
       "\\item 2\n",
       "\\item 1\n",
       "\\item 1\n",
       "\\end{enumerate*}\n"
      ],
      "text/markdown": [
       "1. 1\n",
       "2. 2\n",
       "3. 2\n",
       "4. 1\n",
       "5. 1\n",
       "\n",
       "\n"
      ],
      "text/plain": [
       "[1] 1 2 2 1 1"
      ]
     },
     "metadata": {},
     "output_type": "display_data"
    }
   ],
   "source": [
    "levels(f)\n",
    "as.numeric(f)"
   ]
  },
  {
   "cell_type": "code",
   "execution_count": 110,
   "metadata": {
    "collapsed": false
   },
   "outputs": [
    {
     "data": {
      "text/plain": [
       "f\n",
       "female   male \n",
       "     3      2 "
      ]
     },
     "metadata": {},
     "output_type": "display_data"
    }
   ],
   "source": [
    "table(f)"
   ]
  },
  {
   "cell_type": "markdown",
   "metadata": {},
   "source": [
    "# Dataframes\n",
    "Dataframes represets the most famous R data structures. They represents a table, with rows and columns, where\n",
    "\n",
    "1) One column holds data of the same type ( a vector)\n",
    "\n",
    "2) Different columns can have different data types. ( a list)\n",
    "\n",
    "3) Every row in a data frame has a row id.\n",
    "\n",
    "Rows and columns can be accessed through indexes, which can be numeric or associative\n",
    "- df[ 1, 2 ]\n",
    "- df$example_column\n",
    "- df[ 1:3, 4:5 ]\n"
   ]
  },
  {
   "cell_type": "code",
   "execution_count": 19,
   "metadata": {
    "collapsed": false
   },
   "outputs": [
    {
     "data": {
      "text/html": [
       "<ol class=list-inline>\n",
       "\t<li>1</li>\n",
       "\t<li>2</li>\n",
       "\t<li>3</li>\n",
       "\t<li>4</li>\n",
       "\t<li>5</li>\n",
       "\t<li>6</li>\n",
       "\t<li>7</li>\n",
       "\t<li>8</li>\n",
       "\t<li>9</li>\n",
       "\t<li>10</li>\n",
       "\t<li>11</li>\n",
       "\t<li>12</li>\n",
       "\t<li>13</li>\n",
       "\t<li>14</li>\n",
       "\t<li>15</li>\n",
       "\t<li>16</li>\n",
       "\t<li>17</li>\n",
       "\t<li>18</li>\n",
       "\t<li>19</li>\n",
       "\t<li>20</li>\n",
       "</ol>\n"
      ],
      "text/latex": [
       "\\begin{enumerate*}\n",
       "\\item 1\n",
       "\\item 2\n",
       "\\item 3\n",
       "\\item 4\n",
       "\\item 5\n",
       "\\item 6\n",
       "\\item 7\n",
       "\\item 8\n",
       "\\item 9\n",
       "\\item 10\n",
       "\\item 11\n",
       "\\item 12\n",
       "\\item 13\n",
       "\\item 14\n",
       "\\item 15\n",
       "\\item 16\n",
       "\\item 17\n",
       "\\item 18\n",
       "\\item 19\n",
       "\\item 20\n",
       "\\end{enumerate*}\n"
      ],
      "text/markdown": [
       "1. 1\n",
       "2. 2\n",
       "3. 3\n",
       "4. 4\n",
       "5. 5\n",
       "6. 6\n",
       "7. 7\n",
       "8. 8\n",
       "9. 9\n",
       "10. 10\n",
       "11. 11\n",
       "12. 12\n",
       "13. 13\n",
       "14. 14\n",
       "15. 15\n",
       "16. 16\n",
       "17. 17\n",
       "18. 18\n",
       "19. 19\n",
       "20. 20\n",
       "\n",
       "\n"
      ],
      "text/plain": [
       " [1]  1  2  3  4  5  6  7  8  9 10 11 12 13 14 15 16 17 18 19 20"
      ]
     },
     "metadata": {},
     "output_type": "display_data"
    }
   ],
   "source": [
    "#data frames\n",
    "df1 <- data.frame(x = seq_len(20), y =rnorm(20), z = 2*seq_len(20))\n",
    "\n",
    "df1$x"
   ]
  },
  {
   "cell_type": "markdown",
   "metadata": {},
   "source": [
    "Data Frames can be analyzed using the following commands\n",
    "• nrow and ncol\n",
    "• summary\n",
    "• head\n",
    "• str"
   ]
  },
  {
   "cell_type": "code",
   "execution_count": 20,
   "metadata": {
    "collapsed": false
   },
   "outputs": [
    {
     "data": {
      "text/html": [
       "<table>\n",
       "<thead><tr><th scope=col>x</th><th scope=col>y</th><th scope=col>z</th></tr></thead>\n",
       "<tbody>\n",
       "\t<tr><td>1          </td><td> 0.21935915</td><td> 2         </td></tr>\n",
       "\t<tr><td>2          </td><td>-1.20865293</td><td> 4         </td></tr>\n",
       "\t<tr><td>3          </td><td>-0.67966199</td><td> 6         </td></tr>\n",
       "\t<tr><td>4          </td><td>-0.08903885</td><td> 8         </td></tr>\n",
       "\t<tr><td>5          </td><td> 2.21350302</td><td>10         </td></tr>\n",
       "\t<tr><td>6          </td><td> 1.08399879</td><td>12         </td></tr>\n",
       "</tbody>\n",
       "</table>\n"
      ],
      "text/latex": [
       "\\begin{tabular}{r|lll}\n",
       " x & y & z\\\\\n",
       "\\hline\n",
       "\t 1           &  0.21935915 &  2         \\\\\n",
       "\t 2           & -1.20865293 &  4         \\\\\n",
       "\t 3           & -0.67966199 &  6         \\\\\n",
       "\t 4           & -0.08903885 &  8         \\\\\n",
       "\t 5           &  2.21350302 & 10         \\\\\n",
       "\t 6           &  1.08399879 & 12         \\\\\n",
       "\\end{tabular}\n"
      ],
      "text/plain": [
       "  x y           z \n",
       "1 1  0.21935915  2\n",
       "2 2 -1.20865293  4\n",
       "3 3 -0.67966199  6\n",
       "4 4 -0.08903885  8\n",
       "5 5  2.21350302 10\n",
       "6 6  1.08399879 12"
      ]
     },
     "metadata": {},
     "output_type": "display_data"
    }
   ],
   "source": [
    "head(df1)"
   ]
  },
  {
   "cell_type": "code",
   "execution_count": 21,
   "metadata": {
    "collapsed": false
   },
   "outputs": [
    {
     "data": {
      "text/plain": [
       "       x               y                 z       \n",
       " Min.   : 1.00   Min.   :-1.9639   Min.   : 2.0  \n",
       " 1st Qu.: 5.75   1st Qu.:-0.5085   1st Qu.:11.5  \n",
       " Median :10.50   Median : 0.3215   Median :21.0  \n",
       " Mean   :10.50   Mean   : 0.2531   Mean   :21.0  \n",
       " 3rd Qu.:15.25   3rd Qu.: 0.8341   3rd Qu.:30.5  \n",
       " Max.   :20.00   Max.   : 2.4327   Max.   :40.0  "
      ]
     },
     "metadata": {},
     "output_type": "display_data"
    }
   ],
   "source": [
    "summary(df1)"
   ]
  },
  {
   "cell_type": "code",
   "execution_count": 22,
   "metadata": {
    "collapsed": false
   },
   "outputs": [
    {
     "data": {
      "text/html": [
       "20"
      ],
      "text/latex": [
       "20"
      ],
      "text/markdown": [
       "20"
      ],
      "text/plain": [
       "[1] 20"
      ]
     },
     "metadata": {},
     "output_type": "display_data"
    },
    {
     "data": {
      "text/html": [
       "3"
      ],
      "text/latex": [
       "3"
      ],
      "text/markdown": [
       "3"
      ],
      "text/plain": [
       "[1] 3"
      ]
     },
     "metadata": {},
     "output_type": "display_data"
    }
   ],
   "source": [
    "nrow(df1); ncol(df1)"
   ]
  },
  {
   "cell_type": "code",
   "execution_count": 23,
   "metadata": {
    "collapsed": false
   },
   "outputs": [
    {
     "name": "stdout",
     "output_type": "stream",
     "text": [
      "'data.frame':\t20 obs. of  3 variables:\n",
      " $ x: int  1 2 3 4 5 6 7 8 9 10 ...\n",
      " $ y: num  0.219 -1.209 -0.68 -0.089 2.214 ...\n",
      " $ z: num  2 4 6 8 10 12 14 16 18 20 ...\n"
     ]
    }
   ],
   "source": [
    "str(df1)"
   ]
  },
  {
   "cell_type": "code",
   "execution_count": 24,
   "metadata": {
    "collapsed": false,
    "scrolled": false
   },
   "outputs": [
    {
     "data": {
      "text/html": [
       "<ol class=list-inline>\n",
       "\t<li>1</li>\n",
       "\t<li>2</li>\n",
       "\t<li>3</li>\n",
       "\t<li>4</li>\n",
       "\t<li>5</li>\n",
       "\t<li>6</li>\n",
       "\t<li>7</li>\n",
       "\t<li>8</li>\n",
       "\t<li>9</li>\n",
       "\t<li>10</li>\n",
       "\t<li>11</li>\n",
       "\t<li>12</li>\n",
       "\t<li>13</li>\n",
       "\t<li>14</li>\n",
       "\t<li>15</li>\n",
       "\t<li>16</li>\n",
       "\t<li>17</li>\n",
       "\t<li>18</li>\n",
       "\t<li>19</li>\n",
       "\t<li>20</li>\n",
       "</ol>\n"
      ],
      "text/latex": [
       "\\begin{enumerate*}\n",
       "\\item 1\n",
       "\\item 2\n",
       "\\item 3\n",
       "\\item 4\n",
       "\\item 5\n",
       "\\item 6\n",
       "\\item 7\n",
       "\\item 8\n",
       "\\item 9\n",
       "\\item 10\n",
       "\\item 11\n",
       "\\item 12\n",
       "\\item 13\n",
       "\\item 14\n",
       "\\item 15\n",
       "\\item 16\n",
       "\\item 17\n",
       "\\item 18\n",
       "\\item 19\n",
       "\\item 20\n",
       "\\end{enumerate*}\n"
      ],
      "text/markdown": [
       "1. 1\n",
       "2. 2\n",
       "3. 3\n",
       "4. 4\n",
       "5. 5\n",
       "6. 6\n",
       "7. 7\n",
       "8. 8\n",
       "9. 9\n",
       "10. 10\n",
       "11. 11\n",
       "12. 12\n",
       "13. 13\n",
       "14. 14\n",
       "15. 15\n",
       "16. 16\n",
       "17. 17\n",
       "18. 18\n",
       "19. 19\n",
       "20. 20\n",
       "\n",
       "\n"
      ],
      "text/plain": [
       " [1]  1  2  3  4  5  6  7  8  9 10 11 12 13 14 15 16 17 18 19 20"
      ]
     },
     "metadata": {},
     "output_type": "display_data"
    },
    {
     "data": {
      "text/plain": [
       "NULL"
      ]
     },
     "metadata": {},
     "output_type": "display_data"
    },
    {
     "data": {
      "text/html": [
       "<ol class=list-inline>\n",
       "\t<li>0.21935915188351</li>\n",
       "\t<li>-1.20865292824363</li>\n",
       "\t<li>-0.679661990458371</li>\n",
       "\t<li>-0.0890388473074769</li>\n",
       "\t<li>2.21350302198578</li>\n",
       "\t<li>1.08399878710272</li>\n",
       "\t<li>0.860162784298426</li>\n",
       "\t<li>1.1523273863167</li>\n",
       "\t<li>-1.96389042163692</li>\n",
       "\t<li>0.766400997652306</li>\n",
       "\t<li>0.498265330844767</li>\n",
       "\t<li>-0.971258213716572</li>\n",
       "\t<li>0.807430295018214</li>\n",
       "\t<li>0.825365466900064</li>\n",
       "\t<li>2.43269610782624</li>\n",
       "\t<li>0.289629197858284</li>\n",
       "\t<li>0.353406957785561</li>\n",
       "\t<li>-0.879474292393709</li>\n",
       "\t<li>-0.197918341214459</li>\n",
       "\t<li>-0.451397753906173</li>\n",
       "</ol>\n"
      ],
      "text/latex": [
       "\\begin{enumerate*}\n",
       "\\item 0.21935915188351\n",
       "\\item -1.20865292824363\n",
       "\\item -0.679661990458371\n",
       "\\item -0.0890388473074769\n",
       "\\item 2.21350302198578\n",
       "\\item 1.08399878710272\n",
       "\\item 0.860162784298426\n",
       "\\item 1.1523273863167\n",
       "\\item -1.96389042163692\n",
       "\\item 0.766400997652306\n",
       "\\item 0.498265330844767\n",
       "\\item -0.971258213716572\n",
       "\\item 0.807430295018214\n",
       "\\item 0.825365466900064\n",
       "\\item 2.43269610782624\n",
       "\\item 0.289629197858284\n",
       "\\item 0.353406957785561\n",
       "\\item -0.879474292393709\n",
       "\\item -0.197918341214459\n",
       "\\item -0.451397753906173\n",
       "\\end{enumerate*}\n"
      ],
      "text/markdown": [
       "1. 0.21935915188351\n",
       "2. -1.20865292824363\n",
       "3. -0.679661990458371\n",
       "4. -0.0890388473074769\n",
       "5. 2.21350302198578\n",
       "6. 1.08399878710272\n",
       "7. 0.860162784298426\n",
       "8. 1.1523273863167\n",
       "9. -1.96389042163692\n",
       "10. 0.766400997652306\n",
       "11. 0.498265330844767\n",
       "12. -0.971258213716572\n",
       "13. 0.807430295018214\n",
       "14. 0.825365466900064\n",
       "15. 2.43269610782624\n",
       "16. 0.289629197858284\n",
       "17. 0.353406957785561\n",
       "18. -0.879474292393709\n",
       "19. -0.197918341214459\n",
       "20. -0.451397753906173\n",
       "\n",
       "\n"
      ],
      "text/plain": [
       " [1]  0.21935915 -1.20865293 -0.67966199 -0.08903885  2.21350302  1.08399879\n",
       " [7]  0.86016278  1.15232739 -1.96389042  0.76640100  0.49826533 -0.97125821\n",
       "[13]  0.80743030  0.82536547  2.43269611  0.28962920  0.35340696 -0.87947429\n",
       "[19] -0.19791834 -0.45139775"
      ]
     },
     "metadata": {},
     "output_type": "display_data"
    }
   ],
   "source": [
    "names(df1)[1] <- \"column1\"\n",
    "df1$column1\n",
    "df1$x\n",
    "df1$y"
   ]
  },
  {
   "cell_type": "code",
   "execution_count": 68,
   "metadata": {
    "collapsed": false
   },
   "outputs": [
    {
     "data": {
      "text/html": [
       "<table>\n",
       "<thead><tr><th scope=col>Ozone</th><th scope=col>Solar.R</th><th scope=col>Wind</th><th scope=col>Temp</th><th scope=col>Month</th><th scope=col>Day</th></tr></thead>\n",
       "<tbody>\n",
       "\t<tr><td>41  </td><td>190 </td><td> 7.4</td><td>67  </td><td>5   </td><td>1   </td></tr>\n",
       "\t<tr><td>36  </td><td>118 </td><td> 8.0</td><td>72  </td><td>5   </td><td>2   </td></tr>\n",
       "\t<tr><td>12  </td><td>149 </td><td>12.6</td><td>74  </td><td>5   </td><td>3   </td></tr>\n",
       "\t<tr><td>18  </td><td>313 </td><td>11.5</td><td>62  </td><td>5   </td><td>4   </td></tr>\n",
       "\t<tr><td>NA  </td><td> NA </td><td>14.3</td><td>56  </td><td>5   </td><td>5   </td></tr>\n",
       "\t<tr><td>28  </td><td> NA </td><td>14.9</td><td>66  </td><td>5   </td><td>6   </td></tr>\n",
       "</tbody>\n",
       "</table>\n"
      ],
      "text/latex": [
       "\\begin{tabular}{r|llllll}\n",
       " Ozone & Solar.R & Wind & Temp & Month & Day\\\\\n",
       "\\hline\n",
       "\t 41   & 190  &  7.4 & 67   & 5    & 1   \\\\\n",
       "\t 36   & 118  &  8.0 & 72   & 5    & 2   \\\\\n",
       "\t 12   & 149  & 12.6 & 74   & 5    & 3   \\\\\n",
       "\t 18   & 313  & 11.5 & 62   & 5    & 4   \\\\\n",
       "\t NA   &  NA  & 14.3 & 56   & 5    & 5   \\\\\n",
       "\t 28   &  NA  & 14.9 & 66   & 5    & 6   \\\\\n",
       "\\end{tabular}\n"
      ],
      "text/plain": [
       "  Ozone Solar.R Wind Temp Month Day\n",
       "1 41    190      7.4 67   5     1  \n",
       "2 36    118      8.0 72   5     2  \n",
       "3 12    149     12.6 74   5     3  \n",
       "4 18    313     11.5 62   5     4  \n",
       "5 NA     NA     14.3 56   5     5  \n",
       "6 28     NA     14.9 66   5     6  "
      ]
     },
     "metadata": {},
     "output_type": "display_data"
    }
   ],
   "source": [
    "#Upload an R dataframe\n",
    "my.airquality <- airquality\n",
    "head(my.airquality)"
   ]
  },
  {
   "cell_type": "code",
   "execution_count": 69,
   "metadata": {
    "collapsed": false
   },
   "outputs": [
    {
     "data": {
      "text/html": [
       "<table>\n",
       "<thead><tr><th scope=col>Ozone</th><th scope=col>Solar.R</th><th scope=col>Wind</th><th scope=col>Temp</th><th scope=col>Month</th><th scope=col>Day</th></tr></thead>\n",
       "<tbody>\n",
       "\t<tr><td>41  </td><td>190 </td><td> 7.4</td><td>67  </td><td>5   </td><td>1   </td></tr>\n",
       "\t<tr><td>34  </td><td>197 </td><td> 7.8</td><td>67  </td><td>5   </td><td>0   </td></tr>\n",
       "\t<tr><td>12  </td><td>149 </td><td>12.6</td><td>74  </td><td>5   </td><td>3   </td></tr>\n",
       "\t<tr><td>18  </td><td>313 </td><td>11.5</td><td>62  </td><td>5   </td><td>4   </td></tr>\n",
       "\t<tr><td>NA  </td><td> NA </td><td>14.3</td><td>56  </td><td>5   </td><td>5   </td></tr>\n",
       "\t<tr><td>28  </td><td> NA </td><td>14.9</td><td>66  </td><td>5   </td><td>6   </td></tr>\n",
       "</tbody>\n",
       "</table>\n"
      ],
      "text/latex": [
       "\\begin{tabular}{r|llllll}\n",
       " Ozone & Solar.R & Wind & Temp & Month & Day\\\\\n",
       "\\hline\n",
       "\t 41   & 190  &  7.4 & 67   & 5    & 1   \\\\\n",
       "\t 34   & 197  &  7.8 & 67   & 5    & 0   \\\\\n",
       "\t 12   & 149  & 12.6 & 74   & 5    & 3   \\\\\n",
       "\t 18   & 313  & 11.5 & 62   & 5    & 4   \\\\\n",
       "\t NA   &  NA  & 14.3 & 56   & 5    & 5   \\\\\n",
       "\t 28   &  NA  & 14.9 & 66   & 5    & 6   \\\\\n",
       "\\end{tabular}\n"
      ],
      "text/plain": [
       "  Ozone Solar.R Wind Temp Month Day\n",
       "1 41    190      7.4 67   5     1  \n",
       "2 34    197      7.8 67   5     0  \n",
       "3 12    149     12.6 74   5     3  \n",
       "4 18    313     11.5 62   5     4  \n",
       "5 NA     NA     14.3 56   5     5  \n",
       "6 28     NA     14.9 66   5     6  "
      ]
     },
     "metadata": {},
     "output_type": "display_data"
    }
   ],
   "source": [
    "my.airquality[2,]<-data.frame(34,197,7.8,67,5,0)\n",
    "head(my.airquality)"
   ]
  },
  {
   "cell_type": "code",
   "execution_count": 71,
   "metadata": {
    "collapsed": false
   },
   "outputs": [
    {
     "data": {
      "text/html": [
       "<table>\n",
       "<thead><tr><th></th><th scope=col>Ozone</th><th scope=col>Wind</th><th scope=col>Temp</th><th scope=col>Month</th><th scope=col>Day</th></tr></thead>\n",
       "<tbody>\n",
       "\t<tr><th scope=row>1</th><td>41  </td><td> 7.4</td><td>67  </td><td>5   </td><td>1   </td></tr>\n",
       "\t<tr><th scope=row>4</th><td>18  </td><td>11.5</td><td>62  </td><td>5   </td><td>4   </td></tr>\n",
       "\t<tr><th scope=row>5</th><td>NA  </td><td>14.3</td><td>56  </td><td>5   </td><td>5   </td></tr>\n",
       "\t<tr><th scope=row>6</th><td>28  </td><td>14.9</td><td>66  </td><td>5   </td><td>6   </td></tr>\n",
       "\t<tr><th scope=row>7</th><td>23  </td><td> 8.6</td><td>65  </td><td>5   </td><td>7   </td></tr>\n",
       "\t<tr><th scope=row>8</th><td>19  </td><td>13.8</td><td>59  </td><td>5   </td><td>8   </td></tr>\n",
       "</tbody>\n",
       "</table>\n"
      ],
      "text/latex": [
       "\\begin{tabular}{r|lllll}\n",
       "  & Ozone & Wind & Temp & Month & Day\\\\\n",
       "\\hline\n",
       "\t1 & 41   &  7.4 & 67   & 5    & 1   \\\\\n",
       "\t4 & 18   & 11.5 & 62   & 5    & 4   \\\\\n",
       "\t5 & NA   & 14.3 & 56   & 5    & 5   \\\\\n",
       "\t6 & 28   & 14.9 & 66   & 5    & 6   \\\\\n",
       "\t7 & 23   &  8.6 & 65   & 5    & 7   \\\\\n",
       "\t8 & 19   & 13.8 & 59   & 5    & 8   \\\\\n",
       "\\end{tabular}\n"
      ],
      "text/plain": [
       "  Ozone Wind Temp Month Day\n",
       "1 41     7.4 67   5     1  \n",
       "4 18    11.5 62   5     4  \n",
       "5 NA    14.3 56   5     5  \n",
       "6 28    14.9 66   5     6  \n",
       "7 23     8.6 65   5     7  \n",
       "8 19    13.8 59   5     8  "
      ]
     },
     "metadata": {},
     "output_type": "display_data"
    }
   ],
   "source": [
    "my.airquality <- my.airquality[-2,]\n",
    "#oppure\n",
    "#subset(my.airquality, Day != 0 )\n",
    "#oppure\n",
    "#my.airquality[ ,2] <- NULL\n",
    "head(my.airquality)"
   ]
  },
  {
   "cell_type": "code",
   "execution_count": 58,
   "metadata": {
    "collapsed": false
   },
   "outputs": [
    {
     "data": {
      "text/html": [
       "<table>\n",
       "<thead><tr><th></th><th scope=col>Ozone</th><th scope=col>Temp</th></tr></thead>\n",
       "<tbody>\n",
       "\t<tr><th scope=row>29</th><td>45</td><td>81</td></tr>\n",
       "\t<tr><th scope=row>35</th><td>NA</td><td>84</td></tr>\n",
       "\t<tr><th scope=row>36</th><td>NA</td><td>85</td></tr>\n",
       "\t<tr><th scope=row>38</th><td>29</td><td>82</td></tr>\n",
       "\t<tr><th scope=row>39</th><td>NA</td><td>87</td></tr>\n",
       "\t<tr><th scope=row>40</th><td>71</td><td>90</td></tr>\n",
       "</tbody>\n",
       "</table>\n"
      ],
      "text/latex": [
       "\\begin{tabular}{r|ll}\n",
       "  & Ozone & Temp\\\\\n",
       "\\hline\n",
       "\t29 & 45 & 81\\\\\n",
       "\t35 & NA & 84\\\\\n",
       "\t36 & NA & 85\\\\\n",
       "\t38 & 29 & 82\\\\\n",
       "\t39 & NA & 87\\\\\n",
       "\t40 & 71 & 90\\\\\n",
       "\\end{tabular}\n"
      ],
      "text/plain": [
       "   Ozone Temp\n",
       "29 45    81  \n",
       "35 NA    84  \n",
       "36 NA    85  \n",
       "38 29    82  \n",
       "39 NA    87  \n",
       "40 71    90  "
      ]
     },
     "metadata": {},
     "output_type": "display_data"
    }
   ],
   "source": [
    "#what's happening here?\n",
    "subset(airquality[1:40,], Temp > 80, select = c(Ozone, Temp))"
   ]
  },
  {
   "cell_type": "code",
   "execution_count": 75,
   "metadata": {
    "collapsed": false
   },
   "outputs": [
    {
     "data": {
      "text/html": [
       "<table>\n",
       "<thead><tr><th></th><th scope=col>Ozone</th><th scope=col>Solar.R</th><th scope=col>Wind</th><th scope=col>Temp</th><th scope=col>Month</th><th scope=col>Day</th></tr></thead>\n",
       "<tbody>\n",
       "\t<tr><th scope=row>3</th><td>12  </td><td>149 </td><td>12.6</td><td>74  </td><td>5   </td><td>3   </td></tr>\n",
       "</tbody>\n",
       "</table>\n"
      ],
      "text/latex": [
       "\\begin{tabular}{r|llllll}\n",
       "  & Ozone & Solar.R & Wind & Temp & Month & Day\\\\\n",
       "\\hline\n",
       "\t3 & 12   & 149  & 12.6 & 74   & 5    & 3   \\\\\n",
       "\\end{tabular}\n"
      ],
      "text/plain": [
       "  Ozone Solar.R Wind Temp Month Day\n",
       "3 12    149     12.6 74   5     3  "
      ]
     },
     "metadata": {},
     "output_type": "display_data"
    }
   ],
   "source": [
    "airquality[3,]"
   ]
  },
  {
   "cell_type": "code",
   "execution_count": 93,
   "metadata": {
    "collapsed": false
   },
   "outputs": [
    {
     "data": {
      "text/html": [
       "<ol class=list-inline>\n",
       "\t<li>41</li>\n",
       "\t<li>36</li>\n",
       "\t<li>12</li>\n",
       "\t<li>18</li>\n",
       "\t<li>NA</li>\n",
       "\t<li>28</li>\n",
       "\t<li>23</li>\n",
       "\t<li>19</li>\n",
       "\t<li>8</li>\n",
       "\t<li>NA</li>\n",
       "\t<li>7</li>\n",
       "\t<li>16</li>\n",
       "\t<li>11</li>\n",
       "\t<li>14</li>\n",
       "\t<li>18</li>\n",
       "\t<li>14</li>\n",
       "\t<li>34</li>\n",
       "\t<li>6</li>\n",
       "\t<li>30</li>\n",
       "\t<li>11</li>\n",
       "\t<li>1</li>\n",
       "\t<li>11</li>\n",
       "\t<li>4</li>\n",
       "\t<li>32</li>\n",
       "\t<li>NA</li>\n",
       "\t<li>NA</li>\n",
       "\t<li>NA</li>\n",
       "\t<li>23</li>\n",
       "\t<li>45</li>\n",
       "\t<li>115</li>\n",
       "\t<li>37</li>\n",
       "\t<li>NA</li>\n",
       "\t<li>NA</li>\n",
       "\t<li>NA</li>\n",
       "\t<li>NA</li>\n",
       "\t<li>NA</li>\n",
       "\t<li>NA</li>\n",
       "\t<li>29</li>\n",
       "\t<li>NA</li>\n",
       "\t<li>71</li>\n",
       "\t<li>39</li>\n",
       "\t<li>NA</li>\n",
       "\t<li>NA</li>\n",
       "\t<li>23</li>\n",
       "\t<li>NA</li>\n",
       "\t<li>NA</li>\n",
       "\t<li>21</li>\n",
       "\t<li>37</li>\n",
       "\t<li>20</li>\n",
       "\t<li>12</li>\n",
       "\t<li>13</li>\n",
       "\t<li>NA</li>\n",
       "\t<li>NA</li>\n",
       "\t<li>NA</li>\n",
       "\t<li>NA</li>\n",
       "\t<li>NA</li>\n",
       "\t<li>NA</li>\n",
       "\t<li>NA</li>\n",
       "\t<li>NA</li>\n",
       "\t<li>NA</li>\n",
       "\t<li>NA</li>\n",
       "\t<li>135</li>\n",
       "\t<li>49</li>\n",
       "\t<li>32</li>\n",
       "\t<li>NA</li>\n",
       "\t<li>64</li>\n",
       "\t<li>40</li>\n",
       "\t<li>77</li>\n",
       "\t<li>97</li>\n",
       "\t<li>97</li>\n",
       "\t<li>85</li>\n",
       "\t<li>NA</li>\n",
       "\t<li>10</li>\n",
       "\t<li>27</li>\n",
       "\t<li>NA</li>\n",
       "\t<li>7</li>\n",
       "\t<li>48</li>\n",
       "\t<li>35</li>\n",
       "\t<li>61</li>\n",
       "\t<li>79</li>\n",
       "\t<li>63</li>\n",
       "\t<li>16</li>\n",
       "\t<li>NA</li>\n",
       "\t<li>NA</li>\n",
       "\t<li>80</li>\n",
       "\t<li>108</li>\n",
       "\t<li>20</li>\n",
       "\t<li>52</li>\n",
       "\t<li>82</li>\n",
       "\t<li>50</li>\n",
       "\t<li>64</li>\n",
       "\t<li>59</li>\n",
       "\t<li>39</li>\n",
       "\t<li>9</li>\n",
       "\t<li>16</li>\n",
       "\t<li>78</li>\n",
       "\t<li>35</li>\n",
       "\t<li>66</li>\n",
       "\t<li>122</li>\n",
       "\t<li>89</li>\n",
       "\t<li>110</li>\n",
       "\t<li>NA</li>\n",
       "\t<li>NA</li>\n",
       "\t<li>44</li>\n",
       "\t<li>28</li>\n",
       "\t<li>65</li>\n",
       "\t<li>NA</li>\n",
       "\t<li>22</li>\n",
       "\t<li>59</li>\n",
       "\t<li>23</li>\n",
       "\t<li>31</li>\n",
       "\t<li>44</li>\n",
       "\t<li>21</li>\n",
       "\t<li>9</li>\n",
       "\t<li>NA</li>\n",
       "\t<li>45</li>\n",
       "\t<li>168</li>\n",
       "\t<li>73</li>\n",
       "\t<li>NA</li>\n",
       "\t<li>76</li>\n",
       "\t<li>118</li>\n",
       "\t<li>84</li>\n",
       "\t<li>85</li>\n",
       "\t<li>96</li>\n",
       "\t<li>78</li>\n",
       "\t<li>73</li>\n",
       "\t<li>91</li>\n",
       "\t<li>47</li>\n",
       "\t<li>32</li>\n",
       "\t<li>20</li>\n",
       "\t<li>23</li>\n",
       "\t<li>21</li>\n",
       "\t<li>24</li>\n",
       "\t<li>44</li>\n",
       "\t<li>21</li>\n",
       "\t<li>28</li>\n",
       "\t<li>9</li>\n",
       "\t<li>13</li>\n",
       "\t<li>46</li>\n",
       "\t<li>18</li>\n",
       "\t<li>13</li>\n",
       "\t<li>24</li>\n",
       "\t<li>16</li>\n",
       "\t<li>13</li>\n",
       "\t<li>23</li>\n",
       "\t<li>36</li>\n",
       "\t<li>7</li>\n",
       "\t<li>14</li>\n",
       "\t<li>30</li>\n",
       "\t<li>NA</li>\n",
       "\t<li>14</li>\n",
       "\t<li>18</li>\n",
       "\t<li>20</li>\n",
       "</ol>\n"
      ],
      "text/latex": [
       "\\begin{enumerate*}\n",
       "\\item 41\n",
       "\\item 36\n",
       "\\item 12\n",
       "\\item 18\n",
       "\\item NA\n",
       "\\item 28\n",
       "\\item 23\n",
       "\\item 19\n",
       "\\item 8\n",
       "\\item NA\n",
       "\\item 7\n",
       "\\item 16\n",
       "\\item 11\n",
       "\\item 14\n",
       "\\item 18\n",
       "\\item 14\n",
       "\\item 34\n",
       "\\item 6\n",
       "\\item 30\n",
       "\\item 11\n",
       "\\item 1\n",
       "\\item 11\n",
       "\\item 4\n",
       "\\item 32\n",
       "\\item NA\n",
       "\\item NA\n",
       "\\item NA\n",
       "\\item 23\n",
       "\\item 45\n",
       "\\item 115\n",
       "\\item 37\n",
       "\\item NA\n",
       "\\item NA\n",
       "\\item NA\n",
       "\\item NA\n",
       "\\item NA\n",
       "\\item NA\n",
       "\\item 29\n",
       "\\item NA\n",
       "\\item 71\n",
       "\\item 39\n",
       "\\item NA\n",
       "\\item NA\n",
       "\\item 23\n",
       "\\item NA\n",
       "\\item NA\n",
       "\\item 21\n",
       "\\item 37\n",
       "\\item 20\n",
       "\\item 12\n",
       "\\item 13\n",
       "\\item NA\n",
       "\\item NA\n",
       "\\item NA\n",
       "\\item NA\n",
       "\\item NA\n",
       "\\item NA\n",
       "\\item NA\n",
       "\\item NA\n",
       "\\item NA\n",
       "\\item NA\n",
       "\\item 135\n",
       "\\item 49\n",
       "\\item 32\n",
       "\\item NA\n",
       "\\item 64\n",
       "\\item 40\n",
       "\\item 77\n",
       "\\item 97\n",
       "\\item 97\n",
       "\\item 85\n",
       "\\item NA\n",
       "\\item 10\n",
       "\\item 27\n",
       "\\item NA\n",
       "\\item 7\n",
       "\\item 48\n",
       "\\item 35\n",
       "\\item 61\n",
       "\\item 79\n",
       "\\item 63\n",
       "\\item 16\n",
       "\\item NA\n",
       "\\item NA\n",
       "\\item 80\n",
       "\\item 108\n",
       "\\item 20\n",
       "\\item 52\n",
       "\\item 82\n",
       "\\item 50\n",
       "\\item 64\n",
       "\\item 59\n",
       "\\item 39\n",
       "\\item 9\n",
       "\\item 16\n",
       "\\item 78\n",
       "\\item 35\n",
       "\\item 66\n",
       "\\item 122\n",
       "\\item 89\n",
       "\\item 110\n",
       "\\item NA\n",
       "\\item NA\n",
       "\\item 44\n",
       "\\item 28\n",
       "\\item 65\n",
       "\\item NA\n",
       "\\item 22\n",
       "\\item 59\n",
       "\\item 23\n",
       "\\item 31\n",
       "\\item 44\n",
       "\\item 21\n",
       "\\item 9\n",
       "\\item NA\n",
       "\\item 45\n",
       "\\item 168\n",
       "\\item 73\n",
       "\\item NA\n",
       "\\item 76\n",
       "\\item 118\n",
       "\\item 84\n",
       "\\item 85\n",
       "\\item 96\n",
       "\\item 78\n",
       "\\item 73\n",
       "\\item 91\n",
       "\\item 47\n",
       "\\item 32\n",
       "\\item 20\n",
       "\\item 23\n",
       "\\item 21\n",
       "\\item 24\n",
       "\\item 44\n",
       "\\item 21\n",
       "\\item 28\n",
       "\\item 9\n",
       "\\item 13\n",
       "\\item 46\n",
       "\\item 18\n",
       "\\item 13\n",
       "\\item 24\n",
       "\\item 16\n",
       "\\item 13\n",
       "\\item 23\n",
       "\\item 36\n",
       "\\item 7\n",
       "\\item 14\n",
       "\\item 30\n",
       "\\item NA\n",
       "\\item 14\n",
       "\\item 18\n",
       "\\item 20\n",
       "\\end{enumerate*}\n"
      ],
      "text/markdown": [
       "1. 41\n",
       "2. 36\n",
       "3. 12\n",
       "4. 18\n",
       "5. NA\n",
       "6. 28\n",
       "7. 23\n",
       "8. 19\n",
       "9. 8\n",
       "10. NA\n",
       "11. 7\n",
       "12. 16\n",
       "13. 11\n",
       "14. 14\n",
       "15. 18\n",
       "16. 14\n",
       "17. 34\n",
       "18. 6\n",
       "19. 30\n",
       "20. 11\n",
       "21. 1\n",
       "22. 11\n",
       "23. 4\n",
       "24. 32\n",
       "25. NA\n",
       "26. NA\n",
       "27. NA\n",
       "28. 23\n",
       "29. 45\n",
       "30. 115\n",
       "31. 37\n",
       "32. NA\n",
       "33. NA\n",
       "34. NA\n",
       "35. NA\n",
       "36. NA\n",
       "37. NA\n",
       "38. 29\n",
       "39. NA\n",
       "40. 71\n",
       "41. 39\n",
       "42. NA\n",
       "43. NA\n",
       "44. 23\n",
       "45. NA\n",
       "46. NA\n",
       "47. 21\n",
       "48. 37\n",
       "49. 20\n",
       "50. 12\n",
       "51. 13\n",
       "52. NA\n",
       "53. NA\n",
       "54. NA\n",
       "55. NA\n",
       "56. NA\n",
       "57. NA\n",
       "58. NA\n",
       "59. NA\n",
       "60. NA\n",
       "61. NA\n",
       "62. 135\n",
       "63. 49\n",
       "64. 32\n",
       "65. NA\n",
       "66. 64\n",
       "67. 40\n",
       "68. 77\n",
       "69. 97\n",
       "70. 97\n",
       "71. 85\n",
       "72. NA\n",
       "73. 10\n",
       "74. 27\n",
       "75. NA\n",
       "76. 7\n",
       "77. 48\n",
       "78. 35\n",
       "79. 61\n",
       "80. 79\n",
       "81. 63\n",
       "82. 16\n",
       "83. NA\n",
       "84. NA\n",
       "85. 80\n",
       "86. 108\n",
       "87. 20\n",
       "88. 52\n",
       "89. 82\n",
       "90. 50\n",
       "91. 64\n",
       "92. 59\n",
       "93. 39\n",
       "94. 9\n",
       "95. 16\n",
       "96. 78\n",
       "97. 35\n",
       "98. 66\n",
       "99. 122\n",
       "100. 89\n",
       "101. 110\n",
       "102. NA\n",
       "103. NA\n",
       "104. 44\n",
       "105. 28\n",
       "106. 65\n",
       "107. NA\n",
       "108. 22\n",
       "109. 59\n",
       "110. 23\n",
       "111. 31\n",
       "112. 44\n",
       "113. 21\n",
       "114. 9\n",
       "115. NA\n",
       "116. 45\n",
       "117. 168\n",
       "118. 73\n",
       "119. NA\n",
       "120. 76\n",
       "121. 118\n",
       "122. 84\n",
       "123. 85\n",
       "124. 96\n",
       "125. 78\n",
       "126. 73\n",
       "127. 91\n",
       "128. 47\n",
       "129. 32\n",
       "130. 20\n",
       "131. 23\n",
       "132. 21\n",
       "133. 24\n",
       "134. 44\n",
       "135. 21\n",
       "136. 28\n",
       "137. 9\n",
       "138. 13\n",
       "139. 46\n",
       "140. 18\n",
       "141. 13\n",
       "142. 24\n",
       "143. 16\n",
       "144. 13\n",
       "145. 23\n",
       "146. 36\n",
       "147. 7\n",
       "148. 14\n",
       "149. 30\n",
       "150. NA\n",
       "151. 14\n",
       "152. 18\n",
       "153. 20\n",
       "\n",
       "\n"
      ],
      "text/plain": [
       "  [1]  41  36  12  18  NA  28  23  19   8  NA   7  16  11  14  18  14  34   6\n",
       " [19]  30  11   1  11   4  32  NA  NA  NA  23  45 115  37  NA  NA  NA  NA  NA\n",
       " [37]  NA  29  NA  71  39  NA  NA  23  NA  NA  21  37  20  12  13  NA  NA  NA\n",
       " [55]  NA  NA  NA  NA  NA  NA  NA 135  49  32  NA  64  40  77  97  97  85  NA\n",
       " [73]  10  27  NA   7  48  35  61  79  63  16  NA  NA  80 108  20  52  82  50\n",
       " [91]  64  59  39   9  16  78  35  66 122  89 110  NA  NA  44  28  65  NA  22\n",
       "[109]  59  23  31  44  21   9  NA  45 168  73  NA  76 118  84  85  96  78  73\n",
       "[127]  91  47  32  20  23  21  24  44  21  28   9  13  46  18  13  24  16  13\n",
       "[145]  23  36   7  14  30  NA  14  18  20"
      ]
     },
     "metadata": {},
     "output_type": "display_data"
    }
   ],
   "source": [
    "airquality[,1]"
   ]
  },
  {
   "cell_type": "code",
   "execution_count": 76,
   "metadata": {
    "collapsed": false
   },
   "outputs": [
    {
     "data": {
      "text/plain": [
       "     Ozone           Solar.R           Wind             Temp      \n",
       " Min.   :  1.00   Min.   :  7.0   Min.   : 1.700   Min.   :56.00  \n",
       " 1st Qu.: 18.00   1st Qu.:115.8   1st Qu.: 7.400   1st Qu.:72.00  \n",
       " Median : 31.50   Median :205.0   Median : 9.700   Median :79.00  \n",
       " Mean   : 42.13   Mean   :185.9   Mean   : 9.958   Mean   :77.88  \n",
       " 3rd Qu.: 63.25   3rd Qu.:258.8   3rd Qu.:11.500   3rd Qu.:85.00  \n",
       " Max.   :168.00   Max.   :334.0   Max.   :20.700   Max.   :97.00  \n",
       " NA's   :37       NA's   :7                                       \n",
       "     Month            Day      \n",
       " Min.   :5.000   Min.   : 1.0  \n",
       " 1st Qu.:6.000   1st Qu.: 8.0  \n",
       " Median :7.000   Median :16.0  \n",
       " Mean   :6.993   Mean   :15.8  \n",
       " 3rd Qu.:8.000   3rd Qu.:23.0  \n",
       " Max.   :9.000   Max.   :31.0  \n",
       "                               "
      ]
     },
     "metadata": {},
     "output_type": "display_data"
    }
   ],
   "source": [
    "summary(airquality)"
   ]
  },
  {
   "cell_type": "code",
   "execution_count": 95,
   "metadata": {
    "collapsed": false,
    "scrolled": true
   },
   "outputs": [
    {
     "data": {
      "text/html": [
       "<table>\n",
       "<thead><tr><th></th><th scope=col>Ozone</th><th scope=col>Solar.R</th><th scope=col>Wind</th><th scope=col>Temp</th><th scope=col>Month</th><th scope=col>Day</th></tr></thead>\n",
       "<tbody>\n",
       "\t<tr><th scope=row>1</th><td> 41 </td><td>190 </td><td> 7.4</td><td>67  </td><td> 5  </td><td> 1  </td></tr>\n",
       "\t<tr><th scope=row>2</th><td> 36 </td><td>118 </td><td> 8.0</td><td>72  </td><td> 5  </td><td> 2  </td></tr>\n",
       "\t<tr><th scope=row>3</th><td> 12 </td><td>149 </td><td>12.6</td><td>74  </td><td> 5  </td><td> 3  </td></tr>\n",
       "\t<tr><th scope=row>4</th><td> 18 </td><td>313 </td><td>11.5</td><td>62  </td><td> 5  </td><td> 4  </td></tr>\n",
       "\t<tr><th scope=row>NA</th><td> NA </td><td> NA </td><td>  NA</td><td>NA  </td><td>NA  </td><td>NA  </td></tr>\n",
       "\t<tr><th scope=row>6</th><td> 28 </td><td> NA </td><td>14.9</td><td>66  </td><td> 5  </td><td> 6  </td></tr>\n",
       "\t<tr><th scope=row>7</th><td> 23 </td><td>299 </td><td> 8.6</td><td>65  </td><td> 5  </td><td> 7  </td></tr>\n",
       "\t<tr><th scope=row>8</th><td> 19 </td><td> 99 </td><td>13.8</td><td>59  </td><td> 5  </td><td> 8  </td></tr>\n",
       "\t<tr><th scope=row>9</th><td>  8 </td><td> 19 </td><td>20.1</td><td>61  </td><td> 5  </td><td> 9  </td></tr>\n",
       "\t<tr><th scope=row>NA.1</th><td> NA </td><td> NA </td><td>  NA</td><td>NA  </td><td>NA  </td><td>NA  </td></tr>\n",
       "\t<tr><th scope=row>11</th><td>  7 </td><td> NA </td><td> 6.9</td><td>74  </td><td> 5  </td><td>11  </td></tr>\n",
       "\t<tr><th scope=row>12</th><td> 16 </td><td>256 </td><td> 9.7</td><td>69  </td><td> 5  </td><td>12  </td></tr>\n",
       "\t<tr><th scope=row>13</th><td> 11 </td><td>290 </td><td> 9.2</td><td>66  </td><td> 5  </td><td>13  </td></tr>\n",
       "\t<tr><th scope=row>14</th><td> 14 </td><td>274 </td><td>10.9</td><td>68  </td><td> 5  </td><td>14  </td></tr>\n",
       "\t<tr><th scope=row>15</th><td> 18 </td><td> 65 </td><td>13.2</td><td>58  </td><td> 5  </td><td>15  </td></tr>\n",
       "\t<tr><th scope=row>16</th><td> 14 </td><td>334 </td><td>11.5</td><td>64  </td><td> 5  </td><td>16  </td></tr>\n",
       "\t<tr><th scope=row>17</th><td> 34 </td><td>307 </td><td>12.0</td><td>66  </td><td> 5  </td><td>17  </td></tr>\n",
       "\t<tr><th scope=row>18</th><td>  6 </td><td> 78 </td><td>18.4</td><td>57  </td><td> 5  </td><td>18  </td></tr>\n",
       "\t<tr><th scope=row>19</th><td> 30 </td><td>322 </td><td>11.5</td><td>68  </td><td> 5  </td><td>19  </td></tr>\n",
       "\t<tr><th scope=row>20</th><td> 11 </td><td> 44 </td><td> 9.7</td><td>62  </td><td> 5  </td><td>20  </td></tr>\n",
       "\t<tr><th scope=row>21</th><td>  1 </td><td>  8 </td><td> 9.7</td><td>59  </td><td> 5  </td><td>21  </td></tr>\n",
       "\t<tr><th scope=row>22</th><td> 11 </td><td>320 </td><td>16.6</td><td>73  </td><td> 5  </td><td>22  </td></tr>\n",
       "\t<tr><th scope=row>23</th><td>  4 </td><td> 25 </td><td> 9.7</td><td>61  </td><td> 5  </td><td>23  </td></tr>\n",
       "\t<tr><th scope=row>24</th><td> 32 </td><td> 92 </td><td>12.0</td><td>61  </td><td> 5  </td><td>24  </td></tr>\n",
       "\t<tr><th scope=row>NA.2</th><td> NA </td><td> NA </td><td>  NA</td><td>NA  </td><td>NA  </td><td>NA  </td></tr>\n",
       "\t<tr><th scope=row>NA.3</th><td> NA </td><td> NA </td><td>  NA</td><td>NA  </td><td>NA  </td><td>NA  </td></tr>\n",
       "\t<tr><th scope=row>NA.4</th><td> NA </td><td> NA </td><td>  NA</td><td>NA  </td><td>NA  </td><td>NA  </td></tr>\n",
       "\t<tr><th scope=row>28</th><td> 23 </td><td> 13 </td><td>12.0</td><td>67  </td><td> 5  </td><td>28  </td></tr>\n",
       "\t<tr><th scope=row>29</th><td> 45 </td><td>252 </td><td>14.9</td><td>81  </td><td> 5  </td><td>29  </td></tr>\n",
       "\t<tr><th scope=row>30</th><td>115 </td><td>223 </td><td> 5.7</td><td>79  </td><td> 5  </td><td>30  </td></tr>\n",
       "\t<tr><th scope=row>...</th><td>...</td><td>...</td><td>...</td><td>...</td><td>...</td><td>...</td></tr>\n",
       "\t<tr><th scope=row>124</th><td>96  </td><td>167 </td><td> 6.9</td><td>91  </td><td> 9  </td><td> 1  </td></tr>\n",
       "\t<tr><th scope=row>125</th><td>78  </td><td>197 </td><td> 5.1</td><td>92  </td><td> 9  </td><td> 2  </td></tr>\n",
       "\t<tr><th scope=row>126</th><td>73  </td><td>183 </td><td> 2.8</td><td>93  </td><td> 9  </td><td> 3  </td></tr>\n",
       "\t<tr><th scope=row>127</th><td>91  </td><td>189 </td><td> 4.6</td><td>93  </td><td> 9  </td><td> 4  </td></tr>\n",
       "\t<tr><th scope=row>128</th><td>47  </td><td> 95 </td><td> 7.4</td><td>87  </td><td> 9  </td><td> 5  </td></tr>\n",
       "\t<tr><th scope=row>129</th><td>32  </td><td> 92 </td><td>15.5</td><td>84  </td><td> 9  </td><td> 6  </td></tr>\n",
       "\t<tr><th scope=row>130</th><td>20  </td><td>252 </td><td>10.9</td><td>80  </td><td> 9  </td><td> 7  </td></tr>\n",
       "\t<tr><th scope=row>131</th><td>23  </td><td>220 </td><td>10.3</td><td>78  </td><td> 9  </td><td> 8  </td></tr>\n",
       "\t<tr><th scope=row>132</th><td>21  </td><td>230 </td><td>10.9</td><td>75  </td><td> 9  </td><td> 9  </td></tr>\n",
       "\t<tr><th scope=row>133</th><td>24  </td><td>259 </td><td> 9.7</td><td>73  </td><td> 9  </td><td>10  </td></tr>\n",
       "\t<tr><th scope=row>134</th><td>44  </td><td>236 </td><td>14.9</td><td>81  </td><td> 9  </td><td>11  </td></tr>\n",
       "\t<tr><th scope=row>135</th><td>21  </td><td>259 </td><td>15.5</td><td>76  </td><td> 9  </td><td>12  </td></tr>\n",
       "\t<tr><th scope=row>136</th><td>28  </td><td>238 </td><td> 6.3</td><td>77  </td><td> 9  </td><td>13  </td></tr>\n",
       "\t<tr><th scope=row>137</th><td> 9  </td><td> 24 </td><td>10.9</td><td>71  </td><td> 9  </td><td>14  </td></tr>\n",
       "\t<tr><th scope=row>138</th><td>13  </td><td>112 </td><td>11.5</td><td>71  </td><td> 9  </td><td>15  </td></tr>\n",
       "\t<tr><th scope=row>139</th><td>46  </td><td>237 </td><td> 6.9</td><td>78  </td><td> 9  </td><td>16  </td></tr>\n",
       "\t<tr><th scope=row>140</th><td>18  </td><td>224 </td><td>13.8</td><td>67  </td><td> 9  </td><td>17  </td></tr>\n",
       "\t<tr><th scope=row>141</th><td>13  </td><td> 27 </td><td>10.3</td><td>76  </td><td> 9  </td><td>18  </td></tr>\n",
       "\t<tr><th scope=row>142</th><td>24  </td><td>238 </td><td>10.3</td><td>68  </td><td> 9  </td><td>19  </td></tr>\n",
       "\t<tr><th scope=row>143</th><td>16  </td><td>201 </td><td> 8.0</td><td>82  </td><td> 9  </td><td>20  </td></tr>\n",
       "\t<tr><th scope=row>144</th><td>13  </td><td>238 </td><td>12.6</td><td>64  </td><td> 9  </td><td>21  </td></tr>\n",
       "\t<tr><th scope=row>145</th><td>23  </td><td> 14 </td><td> 9.2</td><td>71  </td><td> 9  </td><td>22  </td></tr>\n",
       "\t<tr><th scope=row>146</th><td>36  </td><td>139 </td><td>10.3</td><td>81  </td><td> 9  </td><td>23  </td></tr>\n",
       "\t<tr><th scope=row>147</th><td> 7  </td><td> 49 </td><td>10.3</td><td>69  </td><td> 9  </td><td>24  </td></tr>\n",
       "\t<tr><th scope=row>148</th><td>14  </td><td> 20 </td><td>16.6</td><td>63  </td><td> 9  </td><td>25  </td></tr>\n",
       "\t<tr><th scope=row>149</th><td>30  </td><td>193 </td><td> 6.9</td><td>70  </td><td> 9  </td><td>26  </td></tr>\n",
       "\t<tr><th scope=row>150</th><td>NA  </td><td> NA </td><td>  NA</td><td>NA  </td><td>NA  </td><td>NA  </td></tr>\n",
       "\t<tr><th scope=row>151</th><td>14  </td><td>191 </td><td>14.3</td><td>75  </td><td> 9  </td><td>28  </td></tr>\n",
       "\t<tr><th scope=row>152</th><td>18  </td><td>131 </td><td> 8.0</td><td>76  </td><td> 9  </td><td>29  </td></tr>\n",
       "\t<tr><th scope=row>153</th><td>20  </td><td>223 </td><td>11.5</td><td>68  </td><td> 9  </td><td>30  </td></tr>\n",
       "</tbody>\n",
       "</table>\n"
      ],
      "text/latex": [
       "\\begin{tabular}{r|llllll}\n",
       "  & Ozone & Solar.R & Wind & Temp & Month & Day\\\\\n",
       "\\hline\n",
       "\t1 &  41  & 190  &  7.4 & 67   &  5   &  1  \\\\\n",
       "\t2 &  36  & 118  &  8.0 & 72   &  5   &  2  \\\\\n",
       "\t3 &  12  & 149  & 12.6 & 74   &  5   &  3  \\\\\n",
       "\t4 &  18  & 313  & 11.5 & 62   &  5   &  4  \\\\\n",
       "\tNA &  NA  &  NA  &   NA & NA   & NA   & NA  \\\\\n",
       "\t6 &  28  &  NA  & 14.9 & 66   &  5   &  6  \\\\\n",
       "\t7 &  23  & 299  &  8.6 & 65   &  5   &  7  \\\\\n",
       "\t8 &  19  &  99  & 13.8 & 59   &  5   &  8  \\\\\n",
       "\t9 &   8  &  19  & 20.1 & 61   &  5   &  9  \\\\\n",
       "\tNA.1 &  NA  &  NA  &   NA & NA   & NA   & NA  \\\\\n",
       "\t11 &   7  &  NA  &  6.9 & 74   &  5   & 11  \\\\\n",
       "\t12 &  16  & 256  &  9.7 & 69   &  5   & 12  \\\\\n",
       "\t13 &  11  & 290  &  9.2 & 66   &  5   & 13  \\\\\n",
       "\t14 &  14  & 274  & 10.9 & 68   &  5   & 14  \\\\\n",
       "\t15 &  18  &  65  & 13.2 & 58   &  5   & 15  \\\\\n",
       "\t16 &  14  & 334  & 11.5 & 64   &  5   & 16  \\\\\n",
       "\t17 &  34  & 307  & 12.0 & 66   &  5   & 17  \\\\\n",
       "\t18 &   6  &  78  & 18.4 & 57   &  5   & 18  \\\\\n",
       "\t19 &  30  & 322  & 11.5 & 68   &  5   & 19  \\\\\n",
       "\t20 &  11  &  44  &  9.7 & 62   &  5   & 20  \\\\\n",
       "\t21 &   1  &   8  &  9.7 & 59   &  5   & 21  \\\\\n",
       "\t22 &  11  & 320  & 16.6 & 73   &  5   & 22  \\\\\n",
       "\t23 &   4  &  25  &  9.7 & 61   &  5   & 23  \\\\\n",
       "\t24 &  32  &  92  & 12.0 & 61   &  5   & 24  \\\\\n",
       "\tNA.2 &  NA  &  NA  &   NA & NA   & NA   & NA  \\\\\n",
       "\tNA.3 &  NA  &  NA  &   NA & NA   & NA   & NA  \\\\\n",
       "\tNA.4 &  NA  &  NA  &   NA & NA   & NA   & NA  \\\\\n",
       "\t28 &  23  &  13  & 12.0 & 67   &  5   & 28  \\\\\n",
       "\t29 &  45  & 252  & 14.9 & 81   &  5   & 29  \\\\\n",
       "\t30 & 115  & 223  &  5.7 & 79   &  5   & 30  \\\\\n",
       "\t... & ... & ... & ... & ... & ... & ...\\\\\n",
       "\t124 & 96   & 167  &  6.9 & 91   &  9   &  1  \\\\\n",
       "\t125 & 78   & 197  &  5.1 & 92   &  9   &  2  \\\\\n",
       "\t126 & 73   & 183  &  2.8 & 93   &  9   &  3  \\\\\n",
       "\t127 & 91   & 189  &  4.6 & 93   &  9   &  4  \\\\\n",
       "\t128 & 47   &  95  &  7.4 & 87   &  9   &  5  \\\\\n",
       "\t129 & 32   &  92  & 15.5 & 84   &  9   &  6  \\\\\n",
       "\t130 & 20   & 252  & 10.9 & 80   &  9   &  7  \\\\\n",
       "\t131 & 23   & 220  & 10.3 & 78   &  9   &  8  \\\\\n",
       "\t132 & 21   & 230  & 10.9 & 75   &  9   &  9  \\\\\n",
       "\t133 & 24   & 259  &  9.7 & 73   &  9   & 10  \\\\\n",
       "\t134 & 44   & 236  & 14.9 & 81   &  9   & 11  \\\\\n",
       "\t135 & 21   & 259  & 15.5 & 76   &  9   & 12  \\\\\n",
       "\t136 & 28   & 238  &  6.3 & 77   &  9   & 13  \\\\\n",
       "\t137 &  9   &  24  & 10.9 & 71   &  9   & 14  \\\\\n",
       "\t138 & 13   & 112  & 11.5 & 71   &  9   & 15  \\\\\n",
       "\t139 & 46   & 237  &  6.9 & 78   &  9   & 16  \\\\\n",
       "\t140 & 18   & 224  & 13.8 & 67   &  9   & 17  \\\\\n",
       "\t141 & 13   &  27  & 10.3 & 76   &  9   & 18  \\\\\n",
       "\t142 & 24   & 238  & 10.3 & 68   &  9   & 19  \\\\\n",
       "\t143 & 16   & 201  &  8.0 & 82   &  9   & 20  \\\\\n",
       "\t144 & 13   & 238  & 12.6 & 64   &  9   & 21  \\\\\n",
       "\t145 & 23   &  14  &  9.2 & 71   &  9   & 22  \\\\\n",
       "\t146 & 36   & 139  & 10.3 & 81   &  9   & 23  \\\\\n",
       "\t147 &  7   &  49  & 10.3 & 69   &  9   & 24  \\\\\n",
       "\t148 & 14   &  20  & 16.6 & 63   &  9   & 25  \\\\\n",
       "\t149 & 30   & 193  &  6.9 & 70   &  9   & 26  \\\\\n",
       "\t150 & NA   &  NA  &   NA & NA   & NA   & NA  \\\\\n",
       "\t151 & 14   & 191  & 14.3 & 75   &  9   & 28  \\\\\n",
       "\t152 & 18   & 131  &  8.0 & 76   &  9   & 29  \\\\\n",
       "\t153 & 20   & 223  & 11.5 & 68   &  9   & 30  \\\\\n",
       "\\end{tabular}\n"
      ],
      "text/plain": [
       "     Ozone Solar.R Wind Temp Month Day\n",
       "1     41   190      7.4 67    5     1 \n",
       "2     36   118      8.0 72    5     2 \n",
       "3     12   149     12.6 74    5     3 \n",
       "4     18   313     11.5 62    5     4 \n",
       "NA    NA    NA       NA NA   NA    NA \n",
       "6     28    NA     14.9 66    5     6 \n",
       "7     23   299      8.6 65    5     7 \n",
       "8     19    99     13.8 59    5     8 \n",
       "9      8    19     20.1 61    5     9 \n",
       "NA.1  NA    NA       NA NA   NA    NA \n",
       "11     7    NA      6.9 74    5    11 \n",
       "12    16   256      9.7 69    5    12 \n",
       "13    11   290      9.2 66    5    13 \n",
       "14    14   274     10.9 68    5    14 \n",
       "15    18    65     13.2 58    5    15 \n",
       "16    14   334     11.5 64    5    16 \n",
       "17    34   307     12.0 66    5    17 \n",
       "18     6    78     18.4 57    5    18 \n",
       "19    30   322     11.5 68    5    19 \n",
       "20    11    44      9.7 62    5    20 \n",
       "21     1     8      9.7 59    5    21 \n",
       "22    11   320     16.6 73    5    22 \n",
       "23     4    25      9.7 61    5    23 \n",
       "24    32    92     12.0 61    5    24 \n",
       "NA.2  NA    NA       NA NA   NA    NA \n",
       "NA.3  NA    NA       NA NA   NA    NA \n",
       "NA.4  NA    NA       NA NA   NA    NA \n",
       "28    23    13     12.0 67    5    28 \n",
       "29    45   252     14.9 81    5    29 \n",
       "30   115   223      5.7 79    5    30 \n",
       "...  ...   ...     ...  ...  ...   ...\n",
       "124  96    167      6.9 91    9     1 \n",
       "125  78    197      5.1 92    9     2 \n",
       "126  73    183      2.8 93    9     3 \n",
       "127  91    189      4.6 93    9     4 \n",
       "128  47     95      7.4 87    9     5 \n",
       "129  32     92     15.5 84    9     6 \n",
       "130  20    252     10.9 80    9     7 \n",
       "131  23    220     10.3 78    9     8 \n",
       "132  21    230     10.9 75    9     9 \n",
       "133  24    259      9.7 73    9    10 \n",
       "134  44    236     14.9 81    9    11 \n",
       "135  21    259     15.5 76    9    12 \n",
       "136  28    238      6.3 77    9    13 \n",
       "137   9     24     10.9 71    9    14 \n",
       "138  13    112     11.5 71    9    15 \n",
       "139  46    237      6.9 78    9    16 \n",
       "140  18    224     13.8 67    9    17 \n",
       "141  13     27     10.3 76    9    18 \n",
       "142  24    238     10.3 68    9    19 \n",
       "143  16    201      8.0 82    9    20 \n",
       "144  13    238     12.6 64    9    21 \n",
       "145  23     14      9.2 71    9    22 \n",
       "146  36    139     10.3 81    9    23 \n",
       "147   7     49     10.3 69    9    24 \n",
       "148  14     20     16.6 63    9    25 \n",
       "149  30    193      6.9 70    9    26 \n",
       "150  NA     NA       NA NA   NA    NA \n",
       "151  14    191     14.3 75    9    28 \n",
       "152  18    131      8.0 76    9    29 \n",
       "153  20    223     11.5 68    9    30 "
      ]
     },
     "metadata": {},
     "output_type": "display_data"
    }
   ],
   "source": [
    "airquality[airquality$Ozone>0,]"
   ]
  },
  {
   "cell_type": "code",
   "execution_count": 96,
   "metadata": {
    "collapsed": false
   },
   "outputs": [
    {
     "data": {
      "text/html": [
       "<ol class=list-inline>\n",
       "\t<li>TRUE</li>\n",
       "\t<li>TRUE</li>\n",
       "\t<li>TRUE</li>\n",
       "\t<li>TRUE</li>\n",
       "\t<li>FALSE</li>\n",
       "\t<li>FALSE</li>\n",
       "\t<li>TRUE</li>\n",
       "\t<li>TRUE</li>\n",
       "\t<li>TRUE</li>\n",
       "\t<li>FALSE</li>\n",
       "\t<li>FALSE</li>\n",
       "\t<li>TRUE</li>\n",
       "\t<li>TRUE</li>\n",
       "\t<li>TRUE</li>\n",
       "\t<li>TRUE</li>\n",
       "\t<li>TRUE</li>\n",
       "\t<li>TRUE</li>\n",
       "\t<li>TRUE</li>\n",
       "\t<li>TRUE</li>\n",
       "\t<li>TRUE</li>\n",
       "\t<li>TRUE</li>\n",
       "\t<li>TRUE</li>\n",
       "\t<li>TRUE</li>\n",
       "\t<li>TRUE</li>\n",
       "\t<li>FALSE</li>\n",
       "\t<li>FALSE</li>\n",
       "\t<li>FALSE</li>\n",
       "\t<li>TRUE</li>\n",
       "\t<li>TRUE</li>\n",
       "\t<li>TRUE</li>\n",
       "\t<li>TRUE</li>\n",
       "\t<li>FALSE</li>\n",
       "\t<li>FALSE</li>\n",
       "\t<li>FALSE</li>\n",
       "\t<li>FALSE</li>\n",
       "\t<li>FALSE</li>\n",
       "\t<li>FALSE</li>\n",
       "\t<li>TRUE</li>\n",
       "\t<li>FALSE</li>\n",
       "\t<li>TRUE</li>\n",
       "\t<li>TRUE</li>\n",
       "\t<li>FALSE</li>\n",
       "\t<li>FALSE</li>\n",
       "\t<li>TRUE</li>\n",
       "\t<li>FALSE</li>\n",
       "\t<li>FALSE</li>\n",
       "\t<li>TRUE</li>\n",
       "\t<li>TRUE</li>\n",
       "\t<li>TRUE</li>\n",
       "\t<li>TRUE</li>\n",
       "\t<li>TRUE</li>\n",
       "\t<li>FALSE</li>\n",
       "\t<li>FALSE</li>\n",
       "\t<li>FALSE</li>\n",
       "\t<li>FALSE</li>\n",
       "\t<li>FALSE</li>\n",
       "\t<li>FALSE</li>\n",
       "\t<li>FALSE</li>\n",
       "\t<li>FALSE</li>\n",
       "\t<li>FALSE</li>\n",
       "\t<li>FALSE</li>\n",
       "\t<li>TRUE</li>\n",
       "\t<li>TRUE</li>\n",
       "\t<li>TRUE</li>\n",
       "\t<li>FALSE</li>\n",
       "\t<li>TRUE</li>\n",
       "\t<li>TRUE</li>\n",
       "\t<li>TRUE</li>\n",
       "\t<li>TRUE</li>\n",
       "\t<li>TRUE</li>\n",
       "\t<li>TRUE</li>\n",
       "\t<li>FALSE</li>\n",
       "\t<li>TRUE</li>\n",
       "\t<li>TRUE</li>\n",
       "\t<li>FALSE</li>\n",
       "\t<li>TRUE</li>\n",
       "\t<li>TRUE</li>\n",
       "\t<li>TRUE</li>\n",
       "\t<li>TRUE</li>\n",
       "\t<li>TRUE</li>\n",
       "\t<li>TRUE</li>\n",
       "\t<li>TRUE</li>\n",
       "\t<li>FALSE</li>\n",
       "\t<li>FALSE</li>\n",
       "\t<li>TRUE</li>\n",
       "\t<li>TRUE</li>\n",
       "\t<li>TRUE</li>\n",
       "\t<li>TRUE</li>\n",
       "\t<li>TRUE</li>\n",
       "\t<li>TRUE</li>\n",
       "\t<li>TRUE</li>\n",
       "\t<li>TRUE</li>\n",
       "\t<li>TRUE</li>\n",
       "\t<li>TRUE</li>\n",
       "\t<li>TRUE</li>\n",
       "\t<li>FALSE</li>\n",
       "\t<li>FALSE</li>\n",
       "\t<li>FALSE</li>\n",
       "\t<li>TRUE</li>\n",
       "\t<li>TRUE</li>\n",
       "\t<li>TRUE</li>\n",
       "\t<li>FALSE</li>\n",
       "\t<li>FALSE</li>\n",
       "\t<li>TRUE</li>\n",
       "\t<li>TRUE</li>\n",
       "\t<li>TRUE</li>\n",
       "\t<li>FALSE</li>\n",
       "\t<li>TRUE</li>\n",
       "\t<li>TRUE</li>\n",
       "\t<li>TRUE</li>\n",
       "\t<li>TRUE</li>\n",
       "\t<li>TRUE</li>\n",
       "\t<li>TRUE</li>\n",
       "\t<li>TRUE</li>\n",
       "\t<li>FALSE</li>\n",
       "\t<li>TRUE</li>\n",
       "\t<li>TRUE</li>\n",
       "\t<li>TRUE</li>\n",
       "\t<li>FALSE</li>\n",
       "\t<li>TRUE</li>\n",
       "\t<li>TRUE</li>\n",
       "\t<li>TRUE</li>\n",
       "\t<li>TRUE</li>\n",
       "\t<li>TRUE</li>\n",
       "\t<li>TRUE</li>\n",
       "\t<li>TRUE</li>\n",
       "\t<li>TRUE</li>\n",
       "\t<li>TRUE</li>\n",
       "\t<li>TRUE</li>\n",
       "\t<li>TRUE</li>\n",
       "\t<li>TRUE</li>\n",
       "\t<li>TRUE</li>\n",
       "\t<li>TRUE</li>\n",
       "\t<li>TRUE</li>\n",
       "\t<li>TRUE</li>\n",
       "\t<li>TRUE</li>\n",
       "\t<li>TRUE</li>\n",
       "\t<li>TRUE</li>\n",
       "\t<li>TRUE</li>\n",
       "\t<li>TRUE</li>\n",
       "\t<li>TRUE</li>\n",
       "\t<li>TRUE</li>\n",
       "\t<li>TRUE</li>\n",
       "\t<li>TRUE</li>\n",
       "\t<li>TRUE</li>\n",
       "\t<li>TRUE</li>\n",
       "\t<li>TRUE</li>\n",
       "\t<li>TRUE</li>\n",
       "\t<li>TRUE</li>\n",
       "\t<li>FALSE</li>\n",
       "\t<li>TRUE</li>\n",
       "\t<li>TRUE</li>\n",
       "\t<li>TRUE</li>\n",
       "</ol>\n"
      ],
      "text/latex": [
       "\\begin{enumerate*}\n",
       "\\item TRUE\n",
       "\\item TRUE\n",
       "\\item TRUE\n",
       "\\item TRUE\n",
       "\\item FALSE\n",
       "\\item FALSE\n",
       "\\item TRUE\n",
       "\\item TRUE\n",
       "\\item TRUE\n",
       "\\item FALSE\n",
       "\\item FALSE\n",
       "\\item TRUE\n",
       "\\item TRUE\n",
       "\\item TRUE\n",
       "\\item TRUE\n",
       "\\item TRUE\n",
       "\\item TRUE\n",
       "\\item TRUE\n",
       "\\item TRUE\n",
       "\\item TRUE\n",
       "\\item TRUE\n",
       "\\item TRUE\n",
       "\\item TRUE\n",
       "\\item TRUE\n",
       "\\item FALSE\n",
       "\\item FALSE\n",
       "\\item FALSE\n",
       "\\item TRUE\n",
       "\\item TRUE\n",
       "\\item TRUE\n",
       "\\item TRUE\n",
       "\\item FALSE\n",
       "\\item FALSE\n",
       "\\item FALSE\n",
       "\\item FALSE\n",
       "\\item FALSE\n",
       "\\item FALSE\n",
       "\\item TRUE\n",
       "\\item FALSE\n",
       "\\item TRUE\n",
       "\\item TRUE\n",
       "\\item FALSE\n",
       "\\item FALSE\n",
       "\\item TRUE\n",
       "\\item FALSE\n",
       "\\item FALSE\n",
       "\\item TRUE\n",
       "\\item TRUE\n",
       "\\item TRUE\n",
       "\\item TRUE\n",
       "\\item TRUE\n",
       "\\item FALSE\n",
       "\\item FALSE\n",
       "\\item FALSE\n",
       "\\item FALSE\n",
       "\\item FALSE\n",
       "\\item FALSE\n",
       "\\item FALSE\n",
       "\\item FALSE\n",
       "\\item FALSE\n",
       "\\item FALSE\n",
       "\\item TRUE\n",
       "\\item TRUE\n",
       "\\item TRUE\n",
       "\\item FALSE\n",
       "\\item TRUE\n",
       "\\item TRUE\n",
       "\\item TRUE\n",
       "\\item TRUE\n",
       "\\item TRUE\n",
       "\\item TRUE\n",
       "\\item FALSE\n",
       "\\item TRUE\n",
       "\\item TRUE\n",
       "\\item FALSE\n",
       "\\item TRUE\n",
       "\\item TRUE\n",
       "\\item TRUE\n",
       "\\item TRUE\n",
       "\\item TRUE\n",
       "\\item TRUE\n",
       "\\item TRUE\n",
       "\\item FALSE\n",
       "\\item FALSE\n",
       "\\item TRUE\n",
       "\\item TRUE\n",
       "\\item TRUE\n",
       "\\item TRUE\n",
       "\\item TRUE\n",
       "\\item TRUE\n",
       "\\item TRUE\n",
       "\\item TRUE\n",
       "\\item TRUE\n",
       "\\item TRUE\n",
       "\\item TRUE\n",
       "\\item FALSE\n",
       "\\item FALSE\n",
       "\\item FALSE\n",
       "\\item TRUE\n",
       "\\item TRUE\n",
       "\\item TRUE\n",
       "\\item FALSE\n",
       "\\item FALSE\n",
       "\\item TRUE\n",
       "\\item TRUE\n",
       "\\item TRUE\n",
       "\\item FALSE\n",
       "\\item TRUE\n",
       "\\item TRUE\n",
       "\\item TRUE\n",
       "\\item TRUE\n",
       "\\item TRUE\n",
       "\\item TRUE\n",
       "\\item TRUE\n",
       "\\item FALSE\n",
       "\\item TRUE\n",
       "\\item TRUE\n",
       "\\item TRUE\n",
       "\\item FALSE\n",
       "\\item TRUE\n",
       "\\item TRUE\n",
       "\\item TRUE\n",
       "\\item TRUE\n",
       "\\item TRUE\n",
       "\\item TRUE\n",
       "\\item TRUE\n",
       "\\item TRUE\n",
       "\\item TRUE\n",
       "\\item TRUE\n",
       "\\item TRUE\n",
       "\\item TRUE\n",
       "\\item TRUE\n",
       "\\item TRUE\n",
       "\\item TRUE\n",
       "\\item TRUE\n",
       "\\item TRUE\n",
       "\\item TRUE\n",
       "\\item TRUE\n",
       "\\item TRUE\n",
       "\\item TRUE\n",
       "\\item TRUE\n",
       "\\item TRUE\n",
       "\\item TRUE\n",
       "\\item TRUE\n",
       "\\item TRUE\n",
       "\\item TRUE\n",
       "\\item TRUE\n",
       "\\item TRUE\n",
       "\\item TRUE\n",
       "\\item FALSE\n",
       "\\item TRUE\n",
       "\\item TRUE\n",
       "\\item TRUE\n",
       "\\end{enumerate*}\n"
      ],
      "text/markdown": [
       "1. TRUE\n",
       "2. TRUE\n",
       "3. TRUE\n",
       "4. TRUE\n",
       "5. FALSE\n",
       "6. FALSE\n",
       "7. TRUE\n",
       "8. TRUE\n",
       "9. TRUE\n",
       "10. FALSE\n",
       "11. FALSE\n",
       "12. TRUE\n",
       "13. TRUE\n",
       "14. TRUE\n",
       "15. TRUE\n",
       "16. TRUE\n",
       "17. TRUE\n",
       "18. TRUE\n",
       "19. TRUE\n",
       "20. TRUE\n",
       "21. TRUE\n",
       "22. TRUE\n",
       "23. TRUE\n",
       "24. TRUE\n",
       "25. FALSE\n",
       "26. FALSE\n",
       "27. FALSE\n",
       "28. TRUE\n",
       "29. TRUE\n",
       "30. TRUE\n",
       "31. TRUE\n",
       "32. FALSE\n",
       "33. FALSE\n",
       "34. FALSE\n",
       "35. FALSE\n",
       "36. FALSE\n",
       "37. FALSE\n",
       "38. TRUE\n",
       "39. FALSE\n",
       "40. TRUE\n",
       "41. TRUE\n",
       "42. FALSE\n",
       "43. FALSE\n",
       "44. TRUE\n",
       "45. FALSE\n",
       "46. FALSE\n",
       "47. TRUE\n",
       "48. TRUE\n",
       "49. TRUE\n",
       "50. TRUE\n",
       "51. TRUE\n",
       "52. FALSE\n",
       "53. FALSE\n",
       "54. FALSE\n",
       "55. FALSE\n",
       "56. FALSE\n",
       "57. FALSE\n",
       "58. FALSE\n",
       "59. FALSE\n",
       "60. FALSE\n",
       "61. FALSE\n",
       "62. TRUE\n",
       "63. TRUE\n",
       "64. TRUE\n",
       "65. FALSE\n",
       "66. TRUE\n",
       "67. TRUE\n",
       "68. TRUE\n",
       "69. TRUE\n",
       "70. TRUE\n",
       "71. TRUE\n",
       "72. FALSE\n",
       "73. TRUE\n",
       "74. TRUE\n",
       "75. FALSE\n",
       "76. TRUE\n",
       "77. TRUE\n",
       "78. TRUE\n",
       "79. TRUE\n",
       "80. TRUE\n",
       "81. TRUE\n",
       "82. TRUE\n",
       "83. FALSE\n",
       "84. FALSE\n",
       "85. TRUE\n",
       "86. TRUE\n",
       "87. TRUE\n",
       "88. TRUE\n",
       "89. TRUE\n",
       "90. TRUE\n",
       "91. TRUE\n",
       "92. TRUE\n",
       "93. TRUE\n",
       "94. TRUE\n",
       "95. TRUE\n",
       "96. FALSE\n",
       "97. FALSE\n",
       "98. FALSE\n",
       "99. TRUE\n",
       "100. TRUE\n",
       "101. TRUE\n",
       "102. FALSE\n",
       "103. FALSE\n",
       "104. TRUE\n",
       "105. TRUE\n",
       "106. TRUE\n",
       "107. FALSE\n",
       "108. TRUE\n",
       "109. TRUE\n",
       "110. TRUE\n",
       "111. TRUE\n",
       "112. TRUE\n",
       "113. TRUE\n",
       "114. TRUE\n",
       "115. FALSE\n",
       "116. TRUE\n",
       "117. TRUE\n",
       "118. TRUE\n",
       "119. FALSE\n",
       "120. TRUE\n",
       "121. TRUE\n",
       "122. TRUE\n",
       "123. TRUE\n",
       "124. TRUE\n",
       "125. TRUE\n",
       "126. TRUE\n",
       "127. TRUE\n",
       "128. TRUE\n",
       "129. TRUE\n",
       "130. TRUE\n",
       "131. TRUE\n",
       "132. TRUE\n",
       "133. TRUE\n",
       "134. TRUE\n",
       "135. TRUE\n",
       "136. TRUE\n",
       "137. TRUE\n",
       "138. TRUE\n",
       "139. TRUE\n",
       "140. TRUE\n",
       "141. TRUE\n",
       "142. TRUE\n",
       "143. TRUE\n",
       "144. TRUE\n",
       "145. TRUE\n",
       "146. TRUE\n",
       "147. TRUE\n",
       "148. TRUE\n",
       "149. TRUE\n",
       "150. FALSE\n",
       "151. TRUE\n",
       "152. TRUE\n",
       "153. TRUE\n",
       "\n",
       "\n"
      ],
      "text/plain": [
       "  [1]  TRUE  TRUE  TRUE  TRUE FALSE FALSE  TRUE  TRUE  TRUE FALSE FALSE  TRUE\n",
       " [13]  TRUE  TRUE  TRUE  TRUE  TRUE  TRUE  TRUE  TRUE  TRUE  TRUE  TRUE  TRUE\n",
       " [25] FALSE FALSE FALSE  TRUE  TRUE  TRUE  TRUE FALSE FALSE FALSE FALSE FALSE\n",
       " [37] FALSE  TRUE FALSE  TRUE  TRUE FALSE FALSE  TRUE FALSE FALSE  TRUE  TRUE\n",
       " [49]  TRUE  TRUE  TRUE FALSE FALSE FALSE FALSE FALSE FALSE FALSE FALSE FALSE\n",
       " [61] FALSE  TRUE  TRUE  TRUE FALSE  TRUE  TRUE  TRUE  TRUE  TRUE  TRUE FALSE\n",
       " [73]  TRUE  TRUE FALSE  TRUE  TRUE  TRUE  TRUE  TRUE  TRUE  TRUE FALSE FALSE\n",
       " [85]  TRUE  TRUE  TRUE  TRUE  TRUE  TRUE  TRUE  TRUE  TRUE  TRUE  TRUE FALSE\n",
       " [97] FALSE FALSE  TRUE  TRUE  TRUE FALSE FALSE  TRUE  TRUE  TRUE FALSE  TRUE\n",
       "[109]  TRUE  TRUE  TRUE  TRUE  TRUE  TRUE FALSE  TRUE  TRUE  TRUE FALSE  TRUE\n",
       "[121]  TRUE  TRUE  TRUE  TRUE  TRUE  TRUE  TRUE  TRUE  TRUE  TRUE  TRUE  TRUE\n",
       "[133]  TRUE  TRUE  TRUE  TRUE  TRUE  TRUE  TRUE  TRUE  TRUE  TRUE  TRUE  TRUE\n",
       "[145]  TRUE  TRUE  TRUE  TRUE  TRUE FALSE  TRUE  TRUE  TRUE"
      ]
     },
     "metadata": {},
     "output_type": "display_data"
    }
   ],
   "source": [
    "#Let's try to understand how many records are complete\n",
    "complete.cases(airquality)"
   ]
  },
  {
   "cell_type": "code",
   "execution_count": 114,
   "metadata": {
    "collapsed": false
   },
   "outputs": [
    {
     "data": {
      "text/html": [
       "<table>\n",
       "<thead><tr><th></th><th scope=col>Ozone</th><th scope=col>Solar.R</th><th scope=col>Wind</th><th scope=col>Temp</th><th scope=col>Month</th><th scope=col>Day</th></tr></thead>\n",
       "<tbody>\n",
       "\t<tr><th scope=row>30</th><td>115 </td><td>223 </td><td> 5.7</td><td>79  </td><td>5   </td><td>30  </td></tr>\n",
       "\t<tr><th scope=row>62</th><td>135 </td><td>269 </td><td> 4.1</td><td>84  </td><td>7   </td><td> 1  </td></tr>\n",
       "\t<tr><th scope=row>69</th><td> 97 </td><td>267 </td><td> 6.3</td><td>92  </td><td>7   </td><td> 8  </td></tr>\n",
       "\t<tr><th scope=row>70</th><td> 97 </td><td>272 </td><td> 5.7</td><td>92  </td><td>7   </td><td> 9  </td></tr>\n",
       "\t<tr><th scope=row>71</th><td> 85 </td><td>175 </td><td> 7.4</td><td>89  </td><td>7   </td><td>10  </td></tr>\n",
       "\t<tr><th scope=row>86</th><td>108 </td><td>223 </td><td> 8.0</td><td>85  </td><td>7   </td><td>25  </td></tr>\n",
       "\t<tr><th scope=row>89</th><td> 82 </td><td>213 </td><td> 7.4</td><td>88  </td><td>7   </td><td>28  </td></tr>\n",
       "\t<tr><th scope=row>99</th><td>122 </td><td>255 </td><td> 4.0</td><td>89  </td><td>8   </td><td> 7  </td></tr>\n",
       "\t<tr><th scope=row>100</th><td> 89 </td><td>229 </td><td>10.3</td><td>90  </td><td>8   </td><td> 8  </td></tr>\n",
       "\t<tr><th scope=row>101</th><td>110 </td><td>207 </td><td> 8.0</td><td>90  </td><td>8   </td><td> 9  </td></tr>\n",
       "\t<tr><th scope=row>117</th><td>168 </td><td>238 </td><td> 3.4</td><td>81  </td><td>8   </td><td>25  </td></tr>\n",
       "\t<tr><th scope=row>121</th><td>118 </td><td>225 </td><td> 2.3</td><td>94  </td><td>8   </td><td>29  </td></tr>\n",
       "\t<tr><th scope=row>122</th><td> 84 </td><td>237 </td><td> 6.3</td><td>96  </td><td>8   </td><td>30  </td></tr>\n",
       "\t<tr><th scope=row>123</th><td> 85 </td><td>188 </td><td> 6.3</td><td>94  </td><td>8   </td><td>31  </td></tr>\n",
       "\t<tr><th scope=row>124</th><td> 96 </td><td>167 </td><td> 6.9</td><td>91  </td><td>9   </td><td> 1  </td></tr>\n",
       "\t<tr><th scope=row>127</th><td> 91 </td><td>189 </td><td> 4.6</td><td>93  </td><td>9   </td><td> 4  </td></tr>\n",
       "</tbody>\n",
       "</table>\n"
      ],
      "text/latex": [
       "\\begin{tabular}{r|llllll}\n",
       "  & Ozone & Solar.R & Wind & Temp & Month & Day\\\\\n",
       "\\hline\n",
       "\t30 & 115  & 223  &  5.7 & 79   & 5    & 30  \\\\\n",
       "\t62 & 135  & 269  &  4.1 & 84   & 7    &  1  \\\\\n",
       "\t69 &  97  & 267  &  6.3 & 92   & 7    &  8  \\\\\n",
       "\t70 &  97  & 272  &  5.7 & 92   & 7    &  9  \\\\\n",
       "\t71 &  85  & 175  &  7.4 & 89   & 7    & 10  \\\\\n",
       "\t86 & 108  & 223  &  8.0 & 85   & 7    & 25  \\\\\n",
       "\t89 &  82  & 213  &  7.4 & 88   & 7    & 28  \\\\\n",
       "\t99 & 122  & 255  &  4.0 & 89   & 8    &  7  \\\\\n",
       "\t100 &  89  & 229  & 10.3 & 90   & 8    &  8  \\\\\n",
       "\t101 & 110  & 207  &  8.0 & 90   & 8    &  9  \\\\\n",
       "\t117 & 168  & 238  &  3.4 & 81   & 8    & 25  \\\\\n",
       "\t121 & 118  & 225  &  2.3 & 94   & 8    & 29  \\\\\n",
       "\t122 &  84  & 237  &  6.3 & 96   & 8    & 30  \\\\\n",
       "\t123 &  85  & 188  &  6.3 & 94   & 8    & 31  \\\\\n",
       "\t124 &  96  & 167  &  6.9 & 91   & 9    &  1  \\\\\n",
       "\t127 &  91  & 189  &  4.6 & 93   & 9    &  4  \\\\\n",
       "\\end{tabular}\n"
      ],
      "text/plain": [
       "    Ozone Solar.R Wind Temp Month Day\n",
       "30  115   223      5.7 79   5     30 \n",
       "62  135   269      4.1 84   7      1 \n",
       "69   97   267      6.3 92   7      8 \n",
       "70   97   272      5.7 92   7      9 \n",
       "71   85   175      7.4 89   7     10 \n",
       "86  108   223      8.0 85   7     25 \n",
       "89   82   213      7.4 88   7     28 \n",
       "99  122   255      4.0 89   8      7 \n",
       "100  89   229     10.3 90   8      8 \n",
       "101 110   207      8.0 90   8      9 \n",
       "117 168   238      3.4 81   8     25 \n",
       "121 118   225      2.3 94   8     29 \n",
       "122  84   237      6.3 96   8     30 \n",
       "123  85   188      6.3 94   8     31 \n",
       "124  96   167      6.9 91   9      1 \n",
       "127  91   189      4.6 93   9      4 "
      ]
     },
     "metadata": {},
     "output_type": "display_data"
    }
   ],
   "source": [
    "#and select them only\n",
    "my.airquality <- airquality[complete.cases(airquality),]\n",
    "my.airquality[my.airquality$Ozone>80,]"
   ]
  },
  {
   "cell_type": "code",
   "execution_count": 113,
   "metadata": {
    "collapsed": false
   },
   "outputs": [
    {
     "data": {
      "text/html": [
       "<table>\n",
       "<thead><tr><th></th><th scope=col>Ozone</th><th scope=col>Solar.R</th><th scope=col>Wind</th><th scope=col>Temp</th><th scope=col>Month</th><th scope=col>Day</th></tr></thead>\n",
       "<tbody>\n",
       "\t<tr><th scope=row>16</th><td> 14 </td><td>334 </td><td>11.5</td><td>64  </td><td>5   </td><td>16  </td></tr>\n",
       "\t<tr><th scope=row>17</th><td> 34 </td><td>307 </td><td>12.0</td><td>66  </td><td>5   </td><td>17  </td></tr>\n",
       "\t<tr><th scope=row>18</th><td>  6 </td><td> 78 </td><td>18.4</td><td>57  </td><td>5   </td><td>18  </td></tr>\n",
       "\t<tr><th scope=row>19</th><td> 30 </td><td>322 </td><td>11.5</td><td>68  </td><td>5   </td><td>19  </td></tr>\n",
       "\t<tr><th scope=row>20</th><td> 11 </td><td> 44 </td><td> 9.7</td><td>62  </td><td>5   </td><td>20  </td></tr>\n",
       "\t<tr><th scope=row>21</th><td>  1 </td><td>  8 </td><td> 9.7</td><td>59  </td><td>5   </td><td>21  </td></tr>\n",
       "\t<tr><th scope=row>22</th><td> 11 </td><td>320 </td><td>16.6</td><td>73  </td><td>5   </td><td>22  </td></tr>\n",
       "\t<tr><th scope=row>23</th><td>  4 </td><td> 25 </td><td> 9.7</td><td>61  </td><td>5   </td><td>23  </td></tr>\n",
       "\t<tr><th scope=row>24</th><td> 32 </td><td> 92 </td><td>12.0</td><td>61  </td><td>5   </td><td>24  </td></tr>\n",
       "\t<tr><th scope=row>28</th><td> 23 </td><td> 13 </td><td>12.0</td><td>67  </td><td>5   </td><td>28  </td></tr>\n",
       "\t<tr><th scope=row>29</th><td> 45 </td><td>252 </td><td>14.9</td><td>81  </td><td>5   </td><td>29  </td></tr>\n",
       "\t<tr><th scope=row>30</th><td>115 </td><td>223 </td><td> 5.7</td><td>79  </td><td>5   </td><td>30  </td></tr>\n",
       "\t<tr><th scope=row>31</th><td> 37 </td><td>279 </td><td> 7.4</td><td>76  </td><td>5   </td><td>31  </td></tr>\n",
       "</tbody>\n",
       "</table>\n"
      ],
      "text/latex": [
       "\\begin{tabular}{r|llllll}\n",
       "  & Ozone & Solar.R & Wind & Temp & Month & Day\\\\\n",
       "\\hline\n",
       "\t16 &  14  & 334  & 11.5 & 64   & 5    & 16  \\\\\n",
       "\t17 &  34  & 307  & 12.0 & 66   & 5    & 17  \\\\\n",
       "\t18 &   6  &  78  & 18.4 & 57   & 5    & 18  \\\\\n",
       "\t19 &  30  & 322  & 11.5 & 68   & 5    & 19  \\\\\n",
       "\t20 &  11  &  44  &  9.7 & 62   & 5    & 20  \\\\\n",
       "\t21 &   1  &   8  &  9.7 & 59   & 5    & 21  \\\\\n",
       "\t22 &  11  & 320  & 16.6 & 73   & 5    & 22  \\\\\n",
       "\t23 &   4  &  25  &  9.7 & 61   & 5    & 23  \\\\\n",
       "\t24 &  32  &  92  & 12.0 & 61   & 5    & 24  \\\\\n",
       "\t28 &  23  &  13  & 12.0 & 67   & 5    & 28  \\\\\n",
       "\t29 &  45  & 252  & 14.9 & 81   & 5    & 29  \\\\\n",
       "\t30 & 115  & 223  &  5.7 & 79   & 5    & 30  \\\\\n",
       "\t31 &  37  & 279  &  7.4 & 76   & 5    & 31  \\\\\n",
       "\\end{tabular}\n"
      ],
      "text/plain": [
       "   Ozone Solar.R Wind Temp Month Day\n",
       "16  14   334     11.5 64   5     16 \n",
       "17  34   307     12.0 66   5     17 \n",
       "18   6    78     18.4 57   5     18 \n",
       "19  30   322     11.5 68   5     19 \n",
       "20  11    44      9.7 62   5     20 \n",
       "21   1     8      9.7 59   5     21 \n",
       "22  11   320     16.6 73   5     22 \n",
       "23   4    25      9.7 61   5     23 \n",
       "24  32    92     12.0 61   5     24 \n",
       "28  23    13     12.0 67   5     28 \n",
       "29  45   252     14.9 81   5     29 \n",
       "30 115   223      5.7 79   5     30 \n",
       "31  37   279      7.4 76   5     31 "
      ]
     },
     "metadata": {},
     "output_type": "display_data"
    }
   ],
   "source": [
    "subset(my.airquality, Month == 5 & Day > 15)"
   ]
  },
  {
   "cell_type": "markdown",
   "metadata": {},
   "source": [
    "# Dataframe creation"
   ]
  },
  {
   "cell_type": "markdown",
   "metadata": {},
   "source": [
    "We've seen that a number of built-in data frame examples are available in R. \n",
    "\n",
    "In real life, dataframe can be created by combining individual vectors, other data frames or reading from exterlas cources (files or databases).\n",
    "\n",
    "- `read.table()` function reads any file into a data frame and it can control file format like newline, separator, header etc... (`write.table()` is the equivalent write operation)\n",
    "- `read.csv()` function reads a csv file into a data frame and it is dedicated to the csv pre-defined format (`write.csv()` is the equivalent write operation)\n",
    "- Files can be downloaded directly from the web using `download.file()`\n",
    "- Raw web pages can be scraped using `getURL()`\n",
    "\n",
    "\n",
    "**inserire DB COnnection modulo 2 Renato**"
   ]
  },
  {
   "cell_type": "code",
   "execution_count": 37,
   "metadata": {
    "collapsed": false
   },
   "outputs": [
    {
     "data": {
      "text/html": [
       "'C:/Users/t000524/Data-Science-for-Management'"
      ],
      "text/latex": [
       "'C:/Users/t000524/Data-Science-for-Management'"
      ],
      "text/markdown": [
       "'C:/Users/t000524/Data-Science-for-Management'"
      ],
      "text/plain": [
       "[1] \"C:/Users/t000524/Data-Science-for-Management\""
      ]
     },
     "metadata": {},
     "output_type": "display_data"
    },
    {
     "name": "stderr",
     "output_type": "stream",
     "text": [
      "Warning message in file(file, \"rt\"):\n",
      "\"cannot open file 'foods.csv': No such file or directory\""
     ]
    },
    {
     "ename": "ERROR",
     "evalue": "Error in file(file, \"rt\"): cannot open the connection\n",
     "output_type": "error",
     "traceback": [
      "Error in file(file, \"rt\"): cannot open the connection\nTraceback:\n",
      "1. read.table(\"foods.csv\")",
      "2. file(file, \"rt\")"
     ]
    }
   ],
   "source": [
    "##### working with data frames #####\n",
    "getwd()\n",
    "ds <- read.table(\"foods.csv\")\n",
    "#average length of review text\n",
    "review.length <- unlist(lapply(as.character(knime.in$\"ReviewText\"), nchar))"
   ]
  },
  {
   "cell_type": "markdown",
   "metadata": {},
   "source": [
    "Dataframe can be manipulated in different ways, for example\n",
    "\n",
    "- Data Frames can be combined with `rbind()` and `cbind()`"
   ]
  },
  {
   "cell_type": "code",
   "execution_count": 38,
   "metadata": {
    "collapsed": false
   },
   "outputs": [
    {
     "data": {
      "text/html": [
       "<table>\n",
       "<thead><tr><th scope=col>x</th><th scope=col>y</th><th scope=col>z</th></tr></thead>\n",
       "<tbody>\n",
       "\t<tr><td> 1        </td><td>-0.4016475</td><td> 2        </td></tr>\n",
       "\t<tr><td> 2        </td><td> 0.9342918</td><td> 4        </td></tr>\n",
       "\t<tr><td> 3        </td><td>-1.0732909</td><td> 6        </td></tr>\n",
       "\t<tr><td> 4        </td><td>-0.7918020</td><td> 8        </td></tr>\n",
       "\t<tr><td> 5        </td><td> 0.2385133</td><td>10        </td></tr>\n",
       "\t<tr><td> 6        </td><td>-0.7641136</td><td>12        </td></tr>\n",
       "\t<tr><td> 7        </td><td>-2.4276716</td><td>14        </td></tr>\n",
       "\t<tr><td> 8        </td><td> 0.1812767</td><td>16        </td></tr>\n",
       "\t<tr><td> 9        </td><td>-0.3311844</td><td>18        </td></tr>\n",
       "\t<tr><td>10        </td><td>-0.4987595</td><td>20        </td></tr>\n",
       "</tbody>\n",
       "</table>\n"
      ],
      "text/latex": [
       "\\begin{tabular}{r|lll}\n",
       " x & y & z\\\\\n",
       "\\hline\n",
       "\t  1         & -0.4016475 &  2        \\\\\n",
       "\t  2         &  0.9342918 &  4        \\\\\n",
       "\t  3         & -1.0732909 &  6        \\\\\n",
       "\t  4         & -0.7918020 &  8        \\\\\n",
       "\t  5         &  0.2385133 & 10        \\\\\n",
       "\t  6         & -0.7641136 & 12        \\\\\n",
       "\t  7         & -2.4276716 & 14        \\\\\n",
       "\t  8         &  0.1812767 & 16        \\\\\n",
       "\t  9         & -0.3311844 & 18        \\\\\n",
       "\t 10         & -0.4987595 & 20        \\\\\n",
       "\\end{tabular}\n"
      ],
      "text/plain": [
       "   x  y          z \n",
       "1   1 -0.4016475  2\n",
       "2   2  0.9342918  4\n",
       "3   3 -1.0732909  6\n",
       "4   4 -0.7918020  8\n",
       "5   5  0.2385133 10\n",
       "6   6 -0.7641136 12\n",
       "7   7 -2.4276716 14\n",
       "8   8  0.1812767 16\n",
       "9   9 -0.3311844 18\n",
       "10 10 -0.4987595 20"
      ]
     },
     "metadata": {},
     "output_type": "display_data"
    },
    {
     "data": {
      "text/html": [
       "<table>\n",
       "<thead><tr><th scope=col>xx</th><th scope=col>yy</th><th scope=col>zz</th></tr></thead>\n",
       "<tbody>\n",
       "\t<tr><td>11         </td><td> 1.03566500</td><td>22         </td></tr>\n",
       "\t<tr><td>12         </td><td>-0.81030789</td><td>24         </td></tr>\n",
       "\t<tr><td>13         </td><td>-1.41210610</td><td>26         </td></tr>\n",
       "\t<tr><td>14         </td><td>-0.97840458</td><td>28         </td></tr>\n",
       "\t<tr><td>15         </td><td>-1.14952704</td><td>30         </td></tr>\n",
       "\t<tr><td>16         </td><td>-0.97054509</td><td>32         </td></tr>\n",
       "\t<tr><td>17         </td><td> 0.01706244</td><td>34         </td></tr>\n",
       "\t<tr><td>18         </td><td> 1.23016052</td><td>36         </td></tr>\n",
       "\t<tr><td>19         </td><td>-0.97179538</td><td>38         </td></tr>\n",
       "\t<tr><td>20         </td><td>-0.13750430</td><td>40         </td></tr>\n",
       "</tbody>\n",
       "</table>\n"
      ],
      "text/latex": [
       "\\begin{tabular}{r|lll}\n",
       " xx & yy & zz\\\\\n",
       "\\hline\n",
       "\t 11          &  1.03566500 & 22         \\\\\n",
       "\t 12          & -0.81030789 & 24         \\\\\n",
       "\t 13          & -1.41210610 & 26         \\\\\n",
       "\t 14          & -0.97840458 & 28         \\\\\n",
       "\t 15          & -1.14952704 & 30         \\\\\n",
       "\t 16          & -0.97054509 & 32         \\\\\n",
       "\t 17          &  0.01706244 & 34         \\\\\n",
       "\t 18          &  1.23016052 & 36         \\\\\n",
       "\t 19          & -0.97179538 & 38         \\\\\n",
       "\t 20          & -0.13750430 & 40         \\\\\n",
       "\\end{tabular}\n"
      ],
      "text/plain": [
       "   xx yy          zz\n",
       "1  11  1.03566500 22\n",
       "2  12 -0.81030789 24\n",
       "3  13 -1.41210610 26\n",
       "4  14 -0.97840458 28\n",
       "5  15 -1.14952704 30\n",
       "6  16 -0.97054509 32\n",
       "7  17  0.01706244 34\n",
       "8  18  1.23016052 36\n",
       "9  19 -0.97179538 38\n",
       "10 20 -0.13750430 40"
      ]
     },
     "metadata": {},
     "output_type": "display_data"
    }
   ],
   "source": [
    "df1 <- data.frame(x = seq_len(10), y =rnorm(10), z = 2*seq_len(10))\n",
    "df2 <- data.frame(xx = 10 + seq_len(10), yy =rnorm(10), zz = 2*(10+seq_len(10)))\n",
    "df1; df2"
   ]
  },
  {
   "cell_type": "code",
   "execution_count": 39,
   "metadata": {
    "collapsed": false
   },
   "outputs": [
    {
     "data": {
      "text/html": [
       "<table>\n",
       "<thead><tr><th scope=col>x</th><th scope=col>y</th><th scope=col>z</th><th scope=col>xx</th><th scope=col>yy</th><th scope=col>zz</th></tr></thead>\n",
       "<tbody>\n",
       "\t<tr><td> 1         </td><td>-0.4016475 </td><td> 2         </td><td>11         </td><td> 1.03566500</td><td>22         </td></tr>\n",
       "\t<tr><td> 2         </td><td> 0.9342918 </td><td> 4         </td><td>12         </td><td>-0.81030789</td><td>24         </td></tr>\n",
       "\t<tr><td> 3         </td><td>-1.0732909 </td><td> 6         </td><td>13         </td><td>-1.41210610</td><td>26         </td></tr>\n",
       "\t<tr><td> 4         </td><td>-0.7918020 </td><td> 8         </td><td>14         </td><td>-0.97840458</td><td>28         </td></tr>\n",
       "\t<tr><td> 5         </td><td> 0.2385133 </td><td>10         </td><td>15         </td><td>-1.14952704</td><td>30         </td></tr>\n",
       "\t<tr><td> 6         </td><td>-0.7641136 </td><td>12         </td><td>16         </td><td>-0.97054509</td><td>32         </td></tr>\n",
       "\t<tr><td> 7         </td><td>-2.4276716 </td><td>14         </td><td>17         </td><td> 0.01706244</td><td>34         </td></tr>\n",
       "\t<tr><td> 8         </td><td> 0.1812767 </td><td>16         </td><td>18         </td><td> 1.23016052</td><td>36         </td></tr>\n",
       "\t<tr><td> 9         </td><td>-0.3311844 </td><td>18         </td><td>19         </td><td>-0.97179538</td><td>38         </td></tr>\n",
       "\t<tr><td>10         </td><td>-0.4987595 </td><td>20         </td><td>20         </td><td>-0.13750430</td><td>40         </td></tr>\n",
       "</tbody>\n",
       "</table>\n"
      ],
      "text/latex": [
       "\\begin{tabular}{r|llllll}\n",
       " x & y & z & xx & yy & zz\\\\\n",
       "\\hline\n",
       "\t  1          & -0.4016475  &  2          & 11          &  1.03566500 & 22         \\\\\n",
       "\t  2          &  0.9342918  &  4          & 12          & -0.81030789 & 24         \\\\\n",
       "\t  3          & -1.0732909  &  6          & 13          & -1.41210610 & 26         \\\\\n",
       "\t  4          & -0.7918020  &  8          & 14          & -0.97840458 & 28         \\\\\n",
       "\t  5          &  0.2385133  & 10          & 15          & -1.14952704 & 30         \\\\\n",
       "\t  6          & -0.7641136  & 12          & 16          & -0.97054509 & 32         \\\\\n",
       "\t  7          & -2.4276716  & 14          & 17          &  0.01706244 & 34         \\\\\n",
       "\t  8          &  0.1812767  & 16          & 18          &  1.23016052 & 36         \\\\\n",
       "\t  9          & -0.3311844  & 18          & 19          & -0.97179538 & 38         \\\\\n",
       "\t 10          & -0.4987595  & 20          & 20          & -0.13750430 & 40         \\\\\n",
       "\\end{tabular}\n"
      ],
      "text/plain": [
       "   x  y          z  xx yy          zz\n",
       "1   1 -0.4016475  2 11  1.03566500 22\n",
       "2   2  0.9342918  4 12 -0.81030789 24\n",
       "3   3 -1.0732909  6 13 -1.41210610 26\n",
       "4   4 -0.7918020  8 14 -0.97840458 28\n",
       "5   5  0.2385133 10 15 -1.14952704 30\n",
       "6   6 -0.7641136 12 16 -0.97054509 32\n",
       "7   7 -2.4276716 14 17  0.01706244 34\n",
       "8   8  0.1812767 16 18  1.23016052 36\n",
       "9   9 -0.3311844 18 19 -0.97179538 38\n",
       "10 10 -0.4987595 20 20 -0.13750430 40"
      ]
     },
     "metadata": {},
     "output_type": "display_data"
    }
   ],
   "source": [
    "cbind(df1,df2)"
   ]
  },
  {
   "cell_type": "code",
   "execution_count": 40,
   "metadata": {
    "collapsed": false
   },
   "outputs": [
    {
     "data": {
      "text/html": [
       "<table>\n",
       "<thead><tr><th scope=col>x</th><th scope=col>y</th><th scope=col>z</th></tr></thead>\n",
       "<tbody>\n",
       "\t<tr><td>101       </td><td>-1.1572085</td><td>202       </td></tr>\n",
       "\t<tr><td>102       </td><td>-1.0783864</td><td>204       </td></tr>\n",
       "\t<tr><td>103       </td><td>-0.7911281</td><td>206       </td></tr>\n",
       "\t<tr><td>104       </td><td>-0.2139881</td><td>208       </td></tr>\n",
       "\t<tr><td>105       </td><td> 0.1983205</td><td>210       </td></tr>\n",
       "</tbody>\n",
       "</table>\n"
      ],
      "text/latex": [
       "\\begin{tabular}{r|lll}\n",
       " x & y & z\\\\\n",
       "\\hline\n",
       "\t 101        & -1.1572085 & 202       \\\\\n",
       "\t 102        & -1.0783864 & 204       \\\\\n",
       "\t 103        & -0.7911281 & 206       \\\\\n",
       "\t 104        & -0.2139881 & 208       \\\\\n",
       "\t 105        &  0.1983205 & 210       \\\\\n",
       "\\end{tabular}\n"
      ],
      "text/plain": [
       "  x   y          z  \n",
       "1 101 -1.1572085 202\n",
       "2 102 -1.0783864 204\n",
       "3 103 -0.7911281 206\n",
       "4 104 -0.2139881 208\n",
       "5 105  0.1983205 210"
      ]
     },
     "metadata": {},
     "output_type": "display_data"
    }
   ],
   "source": [
    "df3 <- data.frame(x = 100 + seq_len(5), y =rnorm(5), z = 2*(100 + seq_len(5)))\n",
    "df3"
   ]
  },
  {
   "cell_type": "code",
   "execution_count": 41,
   "metadata": {
    "collapsed": false
   },
   "outputs": [
    {
     "data": {
      "text/html": [
       "<table>\n",
       "<thead><tr><th scope=col>x</th><th scope=col>y</th><th scope=col>z</th></tr></thead>\n",
       "<tbody>\n",
       "\t<tr><td>  1       </td><td>-0.4016475</td><td>  2       </td></tr>\n",
       "\t<tr><td>  2       </td><td> 0.9342918</td><td>  4       </td></tr>\n",
       "\t<tr><td>  3       </td><td>-1.0732909</td><td>  6       </td></tr>\n",
       "\t<tr><td>  4       </td><td>-0.7918020</td><td>  8       </td></tr>\n",
       "\t<tr><td>  5       </td><td> 0.2385133</td><td> 10       </td></tr>\n",
       "\t<tr><td>  6       </td><td>-0.7641136</td><td> 12       </td></tr>\n",
       "\t<tr><td>  7       </td><td>-2.4276716</td><td> 14       </td></tr>\n",
       "\t<tr><td>  8       </td><td> 0.1812767</td><td> 16       </td></tr>\n",
       "\t<tr><td>  9       </td><td>-0.3311844</td><td> 18       </td></tr>\n",
       "\t<tr><td> 10       </td><td>-0.4987595</td><td> 20       </td></tr>\n",
       "\t<tr><td>101       </td><td>-1.1572085</td><td>202       </td></tr>\n",
       "\t<tr><td>102       </td><td>-1.0783864</td><td>204       </td></tr>\n",
       "\t<tr><td>103       </td><td>-0.7911281</td><td>206       </td></tr>\n",
       "\t<tr><td>104       </td><td>-0.2139881</td><td>208       </td></tr>\n",
       "\t<tr><td>105       </td><td> 0.1983205</td><td>210       </td></tr>\n",
       "</tbody>\n",
       "</table>\n"
      ],
      "text/latex": [
       "\\begin{tabular}{r|lll}\n",
       " x & y & z\\\\\n",
       "\\hline\n",
       "\t   1        & -0.4016475 &   2       \\\\\n",
       "\t   2        &  0.9342918 &   4       \\\\\n",
       "\t   3        & -1.0732909 &   6       \\\\\n",
       "\t   4        & -0.7918020 &   8       \\\\\n",
       "\t   5        &  0.2385133 &  10       \\\\\n",
       "\t   6        & -0.7641136 &  12       \\\\\n",
       "\t   7        & -2.4276716 &  14       \\\\\n",
       "\t   8        &  0.1812767 &  16       \\\\\n",
       "\t   9        & -0.3311844 &  18       \\\\\n",
       "\t  10        & -0.4987595 &  20       \\\\\n",
       "\t 101        & -1.1572085 & 202       \\\\\n",
       "\t 102        & -1.0783864 & 204       \\\\\n",
       "\t 103        & -0.7911281 & 206       \\\\\n",
       "\t 104        & -0.2139881 & 208       \\\\\n",
       "\t 105        &  0.1983205 & 210       \\\\\n",
       "\\end{tabular}\n"
      ],
      "text/plain": [
       "   x   y          z  \n",
       "1    1 -0.4016475   2\n",
       "2    2  0.9342918   4\n",
       "3    3 -1.0732909   6\n",
       "4    4 -0.7918020   8\n",
       "5    5  0.2385133  10\n",
       "6    6 -0.7641136  12\n",
       "7    7 -2.4276716  14\n",
       "8    8  0.1812767  16\n",
       "9    9 -0.3311844  18\n",
       "10  10 -0.4987595  20\n",
       "11 101 -1.1572085 202\n",
       "12 102 -1.0783864 204\n",
       "13 103 -0.7911281 206\n",
       "14 104 -0.2139881 208\n",
       "15 105  0.1983205 210"
      ]
     },
     "metadata": {},
     "output_type": "display_data"
    }
   ],
   "source": [
    "rbind(df1,df3)"
   ]
  },
  {
   "cell_type": "markdown",
   "metadata": {},
   "source": [
    "- Columns can be added by using an associative name and contents"
   ]
  },
  {
   "cell_type": "code",
   "execution_count": 42,
   "metadata": {
    "collapsed": false
   },
   "outputs": [
    {
     "data": {
      "text/html": [
       "<table>\n",
       "<thead><tr><th scope=col>x</th><th scope=col>y</th><th scope=col>z</th><th scope=col>example_col</th></tr></thead>\n",
       "<tbody>\n",
       "\t<tr><td>101       </td><td>-1.1572085</td><td>202       </td><td>1         </td></tr>\n",
       "\t<tr><td>102       </td><td>-1.0783864</td><td>204       </td><td>2         </td></tr>\n",
       "\t<tr><td>103       </td><td>-0.7911281</td><td>206       </td><td>3         </td></tr>\n",
       "\t<tr><td>104       </td><td>-0.2139881</td><td>208       </td><td>4         </td></tr>\n",
       "\t<tr><td>105       </td><td> 0.1983205</td><td>210       </td><td>5         </td></tr>\n",
       "</tbody>\n",
       "</table>\n"
      ],
      "text/latex": [
       "\\begin{tabular}{r|llll}\n",
       " x & y & z & example\\_col\\\\\n",
       "\\hline\n",
       "\t 101        & -1.1572085 & 202        & 1         \\\\\n",
       "\t 102        & -1.0783864 & 204        & 2         \\\\\n",
       "\t 103        & -0.7911281 & 206        & 3         \\\\\n",
       "\t 104        & -0.2139881 & 208        & 4         \\\\\n",
       "\t 105        &  0.1983205 & 210        & 5         \\\\\n",
       "\\end{tabular}\n"
      ],
      "text/plain": [
       "  x   y          z   example_col\n",
       "1 101 -1.1572085 202 1          \n",
       "2 102 -1.0783864 204 2          \n",
       "3 103 -0.7911281 206 3          \n",
       "4 104 -0.2139881 208 4          \n",
       "5 105  0.1983205 210 5          "
      ]
     },
     "metadata": {},
     "output_type": "display_data"
    }
   ],
   "source": [
    "df3$example_col <- c(1,2,3,4,5)\n",
    "df3"
   ]
  },
  {
   "cell_type": "markdown",
   "metadata": {},
   "source": [
    "- Most operations on vectors can be done on individual rows or columns of a data frame, for example any vector can be sorted using `sort()`, so we can sort the column `y` of dataframe `df1` in the same way"
   ]
  },
  {
   "cell_type": "code",
   "execution_count": 44,
   "metadata": {
    "collapsed": false
   },
   "outputs": [
    {
     "data": {
      "text/html": [
       "<ol class=list-inline>\n",
       "\t<li>-2.42767162282477</li>\n",
       "\t<li>-1.07329086922846</li>\n",
       "\t<li>-0.791802028423011</li>\n",
       "\t<li>-0.764113634584259</li>\n",
       "\t<li>-0.498759527737439</li>\n",
       "\t<li>-0.40164746443168</li>\n",
       "\t<li>-0.331184368945114</li>\n",
       "\t<li>0.181276654252951</li>\n",
       "\t<li>0.238513325603387</li>\n",
       "\t<li>0.93429178733952</li>\n",
       "</ol>\n"
      ],
      "text/latex": [
       "\\begin{enumerate*}\n",
       "\\item -2.42767162282477\n",
       "\\item -1.07329086922846\n",
       "\\item -0.791802028423011\n",
       "\\item -0.764113634584259\n",
       "\\item -0.498759527737439\n",
       "\\item -0.40164746443168\n",
       "\\item -0.331184368945114\n",
       "\\item 0.181276654252951\n",
       "\\item 0.238513325603387\n",
       "\\item 0.93429178733952\n",
       "\\end{enumerate*}\n"
      ],
      "text/markdown": [
       "1. -2.42767162282477\n",
       "2. -1.07329086922846\n",
       "3. -0.791802028423011\n",
       "4. -0.764113634584259\n",
       "5. -0.498759527737439\n",
       "6. -0.40164746443168\n",
       "7. -0.331184368945114\n",
       "8. 0.181276654252951\n",
       "9. 0.238513325603387\n",
       "10. 0.93429178733952\n",
       "\n",
       "\n"
      ],
      "text/plain": [
       " [1] -2.4276716 -1.0732909 -0.7918020 -0.7641136 -0.4987595 -0.4016475\n",
       " [7] -0.3311844  0.1812767  0.2385133  0.9342918"
      ]
     },
     "metadata": {},
     "output_type": "display_data"
    }
   ],
   "source": [
    "sort(df1$y)"
   ]
  },
  {
   "cell_type": "markdown",
   "metadata": {},
   "source": [
    "## Dataframe transformations: Sorting, Merging, Binning\n",
    "Any vector can be sorted using the `sort()` function. A Data Frame can be sorted according to one or more of its columns using the `order()` function."
   ]
  },
  {
   "cell_type": "code",
   "execution_count": 45,
   "metadata": {
    "collapsed": false
   },
   "outputs": [
    {
     "data": {
      "text/html": [
       "<table>\n",
       "<thead><tr><th></th><th scope=col>x</th><th scope=col>y</th><th scope=col>z</th></tr></thead>\n",
       "<tbody>\n",
       "\t<tr><th scope=row>7</th><td> 7        </td><td>-2.4276716</td><td>14        </td></tr>\n",
       "\t<tr><th scope=row>3</th><td> 3        </td><td>-1.0732909</td><td> 6        </td></tr>\n",
       "\t<tr><th scope=row>4</th><td> 4        </td><td>-0.7918020</td><td> 8        </td></tr>\n",
       "\t<tr><th scope=row>6</th><td> 6        </td><td>-0.7641136</td><td>12        </td></tr>\n",
       "\t<tr><th scope=row>10</th><td>10        </td><td>-0.4987595</td><td>20        </td></tr>\n",
       "\t<tr><th scope=row>1</th><td> 1        </td><td>-0.4016475</td><td> 2        </td></tr>\n",
       "\t<tr><th scope=row>9</th><td> 9        </td><td>-0.3311844</td><td>18        </td></tr>\n",
       "\t<tr><th scope=row>8</th><td> 8        </td><td> 0.1812767</td><td>16        </td></tr>\n",
       "\t<tr><th scope=row>5</th><td> 5        </td><td> 0.2385133</td><td>10        </td></tr>\n",
       "\t<tr><th scope=row>2</th><td> 2        </td><td> 0.9342918</td><td> 4        </td></tr>\n",
       "</tbody>\n",
       "</table>\n"
      ],
      "text/latex": [
       "\\begin{tabular}{r|lll}\n",
       "  & x & y & z\\\\\n",
       "\\hline\n",
       "\t7 &  7         & -2.4276716 & 14        \\\\\n",
       "\t3 &  3         & -1.0732909 &  6        \\\\\n",
       "\t4 &  4         & -0.7918020 &  8        \\\\\n",
       "\t6 &  6         & -0.7641136 & 12        \\\\\n",
       "\t10 & 10         & -0.4987595 & 20        \\\\\n",
       "\t1 &  1         & -0.4016475 &  2        \\\\\n",
       "\t9 &  9         & -0.3311844 & 18        \\\\\n",
       "\t8 &  8         &  0.1812767 & 16        \\\\\n",
       "\t5 &  5         &  0.2385133 & 10        \\\\\n",
       "\t2 &  2         &  0.9342918 &  4        \\\\\n",
       "\\end{tabular}\n"
      ],
      "text/plain": [
       "   x  y          z \n",
       "7   7 -2.4276716 14\n",
       "3   3 -1.0732909  6\n",
       "4   4 -0.7918020  8\n",
       "6   6 -0.7641136 12\n",
       "10 10 -0.4987595 20\n",
       "1   1 -0.4016475  2\n",
       "9   9 -0.3311844 18\n",
       "8   8  0.1812767 16\n",
       "5   5  0.2385133 10\n",
       "2   2  0.9342918  4"
      ]
     },
     "metadata": {},
     "output_type": "display_data"
    }
   ],
   "source": [
    "df1[order(df1$y) , ]"
   ]
  },
  {
   "cell_type": "code",
   "execution_count": 46,
   "metadata": {
    "collapsed": false
   },
   "outputs": [
    {
     "data": {
      "text/html": [
       "<table>\n",
       "<thead><tr><th></th><th scope=col>x</th><th scope=col>y</th><th scope=col>z</th></tr></thead>\n",
       "<tbody>\n",
       "\t<tr><th scope=row>10</th><td>10        </td><td>-0.4987595</td><td>20        </td></tr>\n",
       "\t<tr><th scope=row>9</th><td> 9        </td><td>-0.3311844</td><td>18        </td></tr>\n",
       "\t<tr><th scope=row>8</th><td> 8        </td><td> 0.1812767</td><td>16        </td></tr>\n",
       "\t<tr><th scope=row>7</th><td> 7        </td><td>-2.4276716</td><td>14        </td></tr>\n",
       "\t<tr><th scope=row>6</th><td> 6        </td><td>-0.7641136</td><td>12        </td></tr>\n",
       "\t<tr><th scope=row>5</th><td> 5        </td><td> 0.2385133</td><td>10        </td></tr>\n",
       "\t<tr><th scope=row>4</th><td> 4        </td><td>-0.7918020</td><td> 8        </td></tr>\n",
       "\t<tr><th scope=row>3</th><td> 3        </td><td>-1.0732909</td><td> 6        </td></tr>\n",
       "\t<tr><th scope=row>2</th><td> 2        </td><td> 0.9342918</td><td> 4        </td></tr>\n",
       "\t<tr><th scope=row>1</th><td> 1        </td><td>-0.4016475</td><td> 2        </td></tr>\n",
       "</tbody>\n",
       "</table>\n"
      ],
      "text/latex": [
       "\\begin{tabular}{r|lll}\n",
       "  & x & y & z\\\\\n",
       "\\hline\n",
       "\t10 & 10         & -0.4987595 & 20        \\\\\n",
       "\t9 &  9         & -0.3311844 & 18        \\\\\n",
       "\t8 &  8         &  0.1812767 & 16        \\\\\n",
       "\t7 &  7         & -2.4276716 & 14        \\\\\n",
       "\t6 &  6         & -0.7641136 & 12        \\\\\n",
       "\t5 &  5         &  0.2385133 & 10        \\\\\n",
       "\t4 &  4         & -0.7918020 &  8        \\\\\n",
       "\t3 &  3         & -1.0732909 &  6        \\\\\n",
       "\t2 &  2         &  0.9342918 &  4        \\\\\n",
       "\t1 &  1         & -0.4016475 &  2        \\\\\n",
       "\\end{tabular}\n"
      ],
      "text/plain": [
       "   x  y          z \n",
       "10 10 -0.4987595 20\n",
       "9   9 -0.3311844 18\n",
       "8   8  0.1812767 16\n",
       "7   7 -2.4276716 14\n",
       "6   6 -0.7641136 12\n",
       "5   5  0.2385133 10\n",
       "4   4 -0.7918020  8\n",
       "3   3 -1.0732909  6\n",
       "2   2  0.9342918  4\n",
       "1   1 -0.4016475  2"
      ]
     },
     "metadata": {},
     "output_type": "display_data"
    }
   ],
   "source": [
    "df1[order(-df1$z, df1$y),]"
   ]
  },
  {
   "cell_type": "markdown",
   "metadata": {},
   "source": [
    "Two Data Frames can be merged using `merge()`. \n",
    "- if two dataframes have a column with the same name `merge()` will use that column for the join operation\n",
    "- otherwise you have to specify the column on the left dataframe and the column on the riht dataframe to join"
   ]
  },
  {
   "cell_type": "code",
   "execution_count": 52,
   "metadata": {
    "collapsed": false
   },
   "outputs": [
    {
     "data": {
      "text/html": [
       "<table>\n",
       "<thead><tr><th scope=col>k</th><th scope=col>l</th></tr></thead>\n",
       "<tbody>\n",
       "\t<tr><td>7        </td><td>0.2884849</td></tr>\n",
       "\t<tr><td>6        </td><td>0.4861099</td></tr>\n",
       "\t<tr><td>5        </td><td>0.9956270</td></tr>\n",
       "\t<tr><td>4        </td><td>0.6489981</td></tr>\n",
       "\t<tr><td>3        </td><td>0.1650115</td></tr>\n",
       "\t<tr><td>2        </td><td>0.2952198</td></tr>\n",
       "\t<tr><td>1        </td><td>0.8211966</td></tr>\n",
       "</tbody>\n",
       "</table>\n"
      ],
      "text/latex": [
       "\\begin{tabular}{r|ll}\n",
       " k & l\\\\\n",
       "\\hline\n",
       "\t 7         & 0.2884849\\\\\n",
       "\t 6         & 0.4861099\\\\\n",
       "\t 5         & 0.9956270\\\\\n",
       "\t 4         & 0.6489981\\\\\n",
       "\t 3         & 0.1650115\\\\\n",
       "\t 2         & 0.2952198\\\\\n",
       "\t 1         & 0.8211966\\\\\n",
       "\\end{tabular}\n"
      ],
      "text/plain": [
       "  k l        \n",
       "1 7 0.2884849\n",
       "2 6 0.4861099\n",
       "3 5 0.9956270\n",
       "4 4 0.6489981\n",
       "5 3 0.1650115\n",
       "6 2 0.2952198\n",
       "7 1 0.8211966"
      ]
     },
     "metadata": {},
     "output_type": "display_data"
    },
    {
     "data": {
      "text/html": [
       "<table>\n",
       "<thead><tr><th scope=col>x</th><th scope=col>y</th><th scope=col>z</th></tr></thead>\n",
       "<tbody>\n",
       "\t<tr><td> 1        </td><td>-0.4016475</td><td> 2        </td></tr>\n",
       "\t<tr><td> 2        </td><td> 0.9342918</td><td> 4        </td></tr>\n",
       "\t<tr><td> 3        </td><td>-1.0732909</td><td> 6        </td></tr>\n",
       "\t<tr><td> 4        </td><td>-0.7918020</td><td> 8        </td></tr>\n",
       "\t<tr><td> 5        </td><td> 0.2385133</td><td>10        </td></tr>\n",
       "\t<tr><td> 6        </td><td>-0.7641136</td><td>12        </td></tr>\n",
       "\t<tr><td> 7        </td><td>-2.4276716</td><td>14        </td></tr>\n",
       "\t<tr><td> 8        </td><td> 0.1812767</td><td>16        </td></tr>\n",
       "\t<tr><td> 9        </td><td>-0.3311844</td><td>18        </td></tr>\n",
       "\t<tr><td>10        </td><td>-0.4987595</td><td>20        </td></tr>\n",
       "</tbody>\n",
       "</table>\n"
      ],
      "text/latex": [
       "\\begin{tabular}{r|lll}\n",
       " x & y & z\\\\\n",
       "\\hline\n",
       "\t  1         & -0.4016475 &  2        \\\\\n",
       "\t  2         &  0.9342918 &  4        \\\\\n",
       "\t  3         & -1.0732909 &  6        \\\\\n",
       "\t  4         & -0.7918020 &  8        \\\\\n",
       "\t  5         &  0.2385133 & 10        \\\\\n",
       "\t  6         & -0.7641136 & 12        \\\\\n",
       "\t  7         & -2.4276716 & 14        \\\\\n",
       "\t  8         &  0.1812767 & 16        \\\\\n",
       "\t  9         & -0.3311844 & 18        \\\\\n",
       "\t 10         & -0.4987595 & 20        \\\\\n",
       "\\end{tabular}\n"
      ],
      "text/plain": [
       "   x  y          z \n",
       "1   1 -0.4016475  2\n",
       "2   2  0.9342918  4\n",
       "3   3 -1.0732909  6\n",
       "4   4 -0.7918020  8\n",
       "5   5  0.2385133 10\n",
       "6   6 -0.7641136 12\n",
       "7   7 -2.4276716 14\n",
       "8   8  0.1812767 16\n",
       "9   9 -0.3311844 18\n",
       "10 10 -0.4987595 20"
      ]
     },
     "metadata": {},
     "output_type": "display_data"
    }
   ],
   "source": [
    "df4 <- data.frame(k = seq(from = 7, to = 1, by = -1), l = runif(7))\n",
    "df4; df1"
   ]
  },
  {
   "cell_type": "code",
   "execution_count": 53,
   "metadata": {
    "collapsed": false
   },
   "outputs": [
    {
     "data": {
      "text/html": [
       "<table>\n",
       "<thead><tr><th scope=col>x</th><th scope=col>y</th><th scope=col>z</th><th scope=col>l</th></tr></thead>\n",
       "<tbody>\n",
       "\t<tr><td>1         </td><td>-0.4016475</td><td> 2        </td><td>0.8211966 </td></tr>\n",
       "\t<tr><td>2         </td><td> 0.9342918</td><td> 4        </td><td>0.2952198 </td></tr>\n",
       "\t<tr><td>3         </td><td>-1.0732909</td><td> 6        </td><td>0.1650115 </td></tr>\n",
       "\t<tr><td>4         </td><td>-0.7918020</td><td> 8        </td><td>0.6489981 </td></tr>\n",
       "\t<tr><td>5         </td><td> 0.2385133</td><td>10        </td><td>0.9956270 </td></tr>\n",
       "\t<tr><td>6         </td><td>-0.7641136</td><td>12        </td><td>0.4861099 </td></tr>\n",
       "\t<tr><td>7         </td><td>-2.4276716</td><td>14        </td><td>0.2884849 </td></tr>\n",
       "</tbody>\n",
       "</table>\n"
      ],
      "text/latex": [
       "\\begin{tabular}{r|llll}\n",
       " x & y & z & l\\\\\n",
       "\\hline\n",
       "\t 1          & -0.4016475 &  2         & 0.8211966 \\\\\n",
       "\t 2          &  0.9342918 &  4         & 0.2952198 \\\\\n",
       "\t 3          & -1.0732909 &  6         & 0.1650115 \\\\\n",
       "\t 4          & -0.7918020 &  8         & 0.6489981 \\\\\n",
       "\t 5          &  0.2385133 & 10         & 0.9956270 \\\\\n",
       "\t 6          & -0.7641136 & 12         & 0.4861099 \\\\\n",
       "\t 7          & -2.4276716 & 14         & 0.2884849 \\\\\n",
       "\\end{tabular}\n"
      ],
      "text/plain": [
       "  x y          z  l        \n",
       "1 1 -0.4016475  2 0.8211966\n",
       "2 2  0.9342918  4 0.2952198\n",
       "3 3 -1.0732909  6 0.1650115\n",
       "4 4 -0.7918020  8 0.6489981\n",
       "5 5  0.2385133 10 0.9956270\n",
       "6 6 -0.7641136 12 0.4861099\n",
       "7 7 -2.4276716 14 0.2884849"
      ]
     },
     "metadata": {},
     "output_type": "display_data"
    }
   ],
   "source": [
    "merge(df1,df4, by.x = \"x\", by.y = \"k\" )"
   ]
  },
  {
   "cell_type": "markdown",
   "metadata": {},
   "source": [
    "Continuous data can be converted to categorical data by binning (conversion into pre-defined ranges or bins) using the cut() function"
   ]
  },
  {
   "cell_type": "code",
   "execution_count": 124,
   "metadata": {
    "collapsed": false
   },
   "outputs": [
    {
     "data": {
      "text/html": [
       "<ol class=list-inline>\n",
       "\t<li>(-Inf,0.5]</li>\n",
       "\t<li>(-Inf,0.5]</li>\n",
       "\t<li>(-Inf,0.5]</li>\n",
       "\t<li>(-Inf,0.5]</li>\n",
       "\t<li>(-Inf,0.5]</li>\n",
       "\t<li>(-Inf,0.5]</li>\n",
       "\t<li>(-Inf,0.5]</li>\n",
       "\t<li>(-Inf,0.5]</li>\n",
       "\t<li>(-Inf,0.5]</li>\n",
       "\t<li>(-Inf,0.5]</li>\n",
       "\t<li>(-Inf,0.5]</li>\n",
       "\t<li>(0.6,0.7]</li>\n",
       "\t<li>(-Inf,0.5]</li>\n",
       "\t<li>(-Inf,0.5]</li>\n",
       "\t<li>(-Inf,0.5]</li>\n",
       "\t<li>(-Inf,0.5]</li>\n",
       "\t<li>(0.9,1]</li>\n",
       "\t<li>(-Inf,0.5]</li>\n",
       "\t<li>(1, Inf]</li>\n",
       "\t<li>(-Inf,0.5]</li>\n",
       "</ol>\n"
      ],
      "text/latex": [
       "\\begin{enumerate*}\n",
       "\\item (-Inf,0.5{]}\n",
       "\\item (-Inf,0.5{]}\n",
       "\\item (-Inf,0.5{]}\n",
       "\\item (-Inf,0.5{]}\n",
       "\\item (-Inf,0.5{]}\n",
       "\\item (-Inf,0.5{]}\n",
       "\\item (-Inf,0.5{]}\n",
       "\\item (-Inf,0.5{]}\n",
       "\\item (-Inf,0.5{]}\n",
       "\\item (-Inf,0.5{]}\n",
       "\\item (-Inf,0.5{]}\n",
       "\\item (0.6,0.7{]}\n",
       "\\item (-Inf,0.5{]}\n",
       "\\item (-Inf,0.5{]}\n",
       "\\item (-Inf,0.5{]}\n",
       "\\item (-Inf,0.5{]}\n",
       "\\item (0.9,1{]}\n",
       "\\item (-Inf,0.5{]}\n",
       "\\item (1, Inf{]}\n",
       "\\item (-Inf,0.5{]}\n",
       "\\end{enumerate*}\n"
      ],
      "text/markdown": [
       "1. (-Inf,0.5]\n",
       "2. (-Inf,0.5]\n",
       "3. (-Inf,0.5]\n",
       "4. (-Inf,0.5]\n",
       "5. (-Inf,0.5]\n",
       "6. (-Inf,0.5]\n",
       "7. (-Inf,0.5]\n",
       "8. (-Inf,0.5]\n",
       "9. (-Inf,0.5]\n",
       "10. (-Inf,0.5]\n",
       "11. (-Inf,0.5]\n",
       "12. (0.6,0.7]\n",
       "13. (-Inf,0.5]\n",
       "14. (-Inf,0.5]\n",
       "15. (-Inf,0.5]\n",
       "16. (-Inf,0.5]\n",
       "17. (0.9,1]\n",
       "18. (-Inf,0.5]\n",
       "19. (1, Inf]\n",
       "20. (-Inf,0.5]\n",
       "\n",
       "\n"
      ],
      "text/plain": [
       " [1] (-Inf,0.5] (-Inf,0.5] (-Inf,0.5] (-Inf,0.5] (-Inf,0.5] (-Inf,0.5]\n",
       " [7] (-Inf,0.5] (-Inf,0.5] (-Inf,0.5] (-Inf,0.5] (-Inf,0.5] (0.6,0.7] \n",
       "[13] (-Inf,0.5] (-Inf,0.5] (-Inf,0.5] (-Inf,0.5] (0.9,1]    (-Inf,0.5]\n",
       "[19] (1, Inf]   (-Inf,0.5]\n",
       "7 Levels: (-Inf,0.5] (0.5,0.6] (0.6,0.7] (0.7,0.8] (0.8,0.9] ... (1, Inf]"
      ]
     },
     "metadata": {},
     "output_type": "display_data"
    }
   ],
   "source": [
    "cut(df$y, c(-Inf,seq(0.5, 1, 0.1), Inf))"
   ]
  },
  {
   "cell_type": "markdown",
   "metadata": {},
   "source": [
    "### Apply function\n",
    "A number of R programs require looping through a data frame and performing an operation on each record. The “apply” class of functions provide a short-cut through which that entire operation can be performed in one function call.\n",
    "\n",
    "The function to apply for each row can by user defined function too.\n",
    "\n",
    "Variants of the “apply” functions include `apply`, `eapply`, `lapply`, `mapply`, `rapply`, `tapply`"
   ]
  },
  {
   "cell_type": "code",
   "execution_count": 115,
   "metadata": {
    "collapsed": false,
    "scrolled": true
   },
   "outputs": [
    {
     "data": {
      "text/html": [
       "<ol class=list-inline>\n",
       "\t<li>6</li>\n",
       "\t<li>7</li>\n",
       "\t<li>8</li>\n",
       "\t<li>9</li>\n",
       "\t<li>10</li>\n",
       "\t<li>11</li>\n",
       "\t<li>12</li>\n",
       "\t<li>13</li>\n",
       "\t<li>14</li>\n",
       "\t<li>15</li>\n",
       "</ol>\n"
      ],
      "text/latex": [
       "\\begin{enumerate*}\n",
       "\\item 6\n",
       "\\item 7\n",
       "\\item 8\n",
       "\\item 9\n",
       "\\item 10\n",
       "\\item 11\n",
       "\\item 12\n",
       "\\item 13\n",
       "\\item 14\n",
       "\\item 15\n",
       "\\end{enumerate*}\n"
      ],
      "text/markdown": [
       "1. 6\n",
       "2. 7\n",
       "3. 8\n",
       "4. 9\n",
       "5. 10\n",
       "6. 11\n",
       "7. 12\n",
       "8. 13\n",
       "9. 14\n",
       "10. 15\n",
       "\n",
       "\n"
      ],
      "text/plain": [
       " [1]  6  7  8  9 10 11 12 13 14 15"
      ]
     },
     "metadata": {},
     "output_type": "display_data"
    },
    {
     "data": {
      "text/html": [
       "<ol class=list-inline>\n",
       "\t<li>5.5</li>\n",
       "\t<li>15.5</li>\n",
       "</ol>\n"
      ],
      "text/latex": [
       "\\begin{enumerate*}\n",
       "\\item 5.5\n",
       "\\item 15.5\n",
       "\\end{enumerate*}\n"
      ],
      "text/markdown": [
       "1. 5.5\n",
       "2. 15.5\n",
       "\n",
       "\n"
      ],
      "text/plain": [
       "[1]  5.5 15.5"
      ]
     },
     "metadata": {},
     "output_type": "display_data"
    }
   ],
   "source": [
    "mat <- matrix(c(1:20), nrow= 10, ncol= 2)\n",
    "apply(mat, 1, mean)\n",
    "apply(mat, 2, mean)"
   ]
  },
  {
   "cell_type": "markdown",
   "metadata": {},
   "source": [
    "`apply(matrice, indice, funzione)`\n",
    "- con indice=1 applica funzione() alle righe di matrice, e\n",
    "- ritorna un vettore lungo come il numero di colonne."
   ]
  },
  {
   "cell_type": "code",
   "execution_count": 126,
   "metadata": {
    "collapsed": true
   },
   "outputs": [],
   "source": [
    "nrighe <- 100000; ncolonne <- 10\n",
    "m <- matrix(rnorm(nrighe*ncolonne),\n",
    "nrow=nrighe, ncol=ncolonne)\n",
    "mediacolonne <- apply(m,2,mean)"
   ]
  },
  {
   "cell_type": "markdown",
   "metadata": {},
   "source": [
    "`lapply(lista, funzione)`\n",
    "- Applica funzione() a ciascun elemento di lista;\n",
    "- ritorna una list con la stessa lunghezza di lista."
   ]
  },
  {
   "cell_type": "code",
   "execution_count": 127,
   "metadata": {
    "collapsed": false
   },
   "outputs": [
    {
     "data": {
      "text/html": [
       "<ol>\n",
       "\t<li>0.707106781186548</li>\n",
       "\t<li>1.58113883008419</li>\n",
       "\t<li>3.60555127546399</li>\n",
       "</ol>\n"
      ],
      "text/latex": [
       "\\begin{enumerate}\n",
       "\\item 0.707106781186548\n",
       "\\item 1.58113883008419\n",
       "\\item 3.60555127546399\n",
       "\\end{enumerate}\n"
      ],
      "text/markdown": [
       "1. 0.707106781186548\n",
       "2. 1.58113883008419\n",
       "3. 3.60555127546399\n",
       "\n",
       "\n"
      ],
      "text/plain": [
       "[[1]]\n",
       "[1] 0.7071068\n",
       "\n",
       "[[2]]\n",
       "[1] 1.581139\n",
       "\n",
       "[[3]]\n",
       "[1] 3.605551\n"
      ]
     },
     "metadata": {},
     "output_type": "display_data"
    }
   ],
   "source": [
    "L <- list(1:2, 3:7, -1:10)\n",
    "lapply(L, sd)"
   ]
  },
  {
   "cell_type": "markdown",
   "metadata": {},
   "source": [
    "`sapply(dataframe, funzione)`\n",
    "- a ciascuna colonna di dataframe viene applicata funzione();\n",
    "- ritorna vettore lungo quanto il numero di colonne di dataframe."
   ]
  },
  {
   "cell_type": "code",
   "execution_count": 128,
   "metadata": {
    "collapsed": false
   },
   "outputs": [
    {
     "name": "stderr",
     "output_type": "stream",
     "text": [
      "Warning message in mean.default(X[[i]], ...):\n",
      "\"argument is not numeric or logical: returning NA\""
     ]
    },
    {
     "data": {
      "text/html": [
       "<dl class=dl-horizontal>\n",
       "\t<dt>genere</dt>\n",
       "\t\t<dd>NA</dd>\n",
       "\t<dt>altezza</dt>\n",
       "\t\t<dd>175.875</dd>\n",
       "\t<dt>peso</dt>\n",
       "\t\t<dd>81.25</dd>\n",
       "</dl>\n"
      ],
      "text/latex": [
       "\\begin{description*}\n",
       "\\item[genere] NA\n",
       "\\item[altezza] 175.875\n",
       "\\item[peso] 81.25\n",
       "\\end{description*}\n"
      ],
      "text/markdown": [
       "genere\n",
       ":   NAaltezza\n",
       ":   175.875peso\n",
       ":   81.25\n",
       "\n"
      ],
      "text/plain": [
       " genere altezza    peso \n",
       "     NA 175.875  81.250 "
      ]
     },
     "metadata": {},
     "output_type": "display_data"
    },
    {
     "data": {
      "text/html": [
       "<dl class=dl-horizontal>\n",
       "\t<dt>altezza.95%</dt>\n",
       "\t\t<dd>185.525</dd>\n",
       "\t<dt>peso.95%</dt>\n",
       "\t\t<dd>90.1</dd>\n",
       "</dl>\n"
      ],
      "text/latex": [
       "\\begin{description*}\n",
       "\\item[altezza.95\\textbackslash{}\\%] 185.525\n",
       "\\item[peso.95\\textbackslash{}\\%] 90.1\n",
       "\\end{description*}\n"
      ],
      "text/markdown": [
       "altezza.95%\n",
       ":   185.525peso.95%\n",
       ":   90.1\n",
       "\n"
      ],
      "text/plain": [
       "altezza.95%    peso.95% \n",
       "    185.525      90.100 "
      ]
     },
     "metadata": {},
     "output_type": "display_data"
    }
   ],
   "source": [
    "clienti <- data.frame(genere = c(\"M\",\"F\",\"F\",NA),\n",
    "altezza=c(172,186.5,165,180),\n",
    "peso = c(91, 75, 74, 85))\n",
    "sapply(clienti, mean)\n",
    "sapply(clienti[ ,c(2,3)], quantile, prob=0.95)"
   ]
  },
  {
   "cell_type": "markdown",
   "metadata": {},
   "source": [
    "`tapply(vettore, fattore, funzione)`\n",
    "- vettore viene suddiviso in sotto-vettori corrispondenti alle fattore;\n",
    "- a ciascun sottovettore viene applicata funzione();\n",
    "- ritorna vettore lungo quanto il numero livelli di fattore."
   ]
  },
  {
   "cell_type": "code",
   "execution_count": 129,
   "metadata": {
    "collapsed": false
   },
   "outputs": [
    {
     "data": {
      "text/html": [
       "<dl class=dl-horizontal>\n",
       "\t<dt>F</dt>\n",
       "\t\t<dd>175.75</dd>\n",
       "\t<dt>M</dt>\n",
       "\t\t<dd>172</dd>\n",
       "</dl>\n"
      ],
      "text/plain": [
       "     F      M \n",
       "175.75 172.00 "
      ]
     },
     "metadata": {},
     "output_type": "display_data"
    }
   ],
   "source": [
    "clienti <- data.frame(genere = c(\"M\",\"F\",\"F\",NA),\n",
    "altezza=c(172,186.5,165,180),\n",
    "peso = c(91, 75, 74, 85))\n",
    "tapply(clienti$altezza, clienti$genere,\n",
    "mean, na.rm=TRUE)"
   ]
  },
  {
   "cell_type": "markdown",
   "metadata": {},
   "source": [
    "# Control Structures"
   ]
  },
  {
   "cell_type": "markdown",
   "metadata": {},
   "source": [
    "If-else:\n",
    "\n",
    "`if (cond) expr`\n",
    "`if (cond) expr1 else expr2`\n",
    "\n",
    "For:\n",
    "\n",
    "`for (varinseq) expr`\n",
    "\n",
    "While:\n",
    "\n",
    "`while (cond) expr`\n",
    "\n",
    "Switch\n",
    "\n",
    "Ifelse\n",
    "\n",
    "`ifelse(test,yes,no)`"
   ]
  },
  {
   "cell_type": "markdown",
   "metadata": {},
   "source": [
    "# User Defined Functions"
   ]
  },
  {
   "cell_type": "markdown",
   "metadata": {},
   "source": [
    "Functions can be built and saved as function definitions in memory. They take input parameters and write output\n"
   ]
  },
  {
   "cell_type": "code",
   "execution_count": 130,
   "metadata": {
    "collapsed": false
   },
   "outputs": [
    {
     "data": {
      "text/html": [
       "8"
      ],
      "text/latex": [
       "8"
      ],
      "text/markdown": [
       "8"
      ],
      "text/plain": [
       "[1] 8"
      ]
     },
     "metadata": {},
     "output_type": "display_data"
    }
   ],
   "source": [
    "computeSum <- function(x,y) {\n",
    "    x+y\n",
    "}\n",
    "\n",
    "computeSum(3,5)"
   ]
  },
  {
   "cell_type": "code",
   "execution_count": 131,
   "metadata": {
    "collapsed": false
   },
   "outputs": [
    {
     "name": "stdout",
     "output_type": "stream",
     "text": [
      "[1] \"non negativo\"\n"
     ]
    }
   ],
   "source": [
    "segno <- function(x){ \n",
    "    \n",
    "    if(x<0){ \n",
    "        print(\"negativo\") \n",
    "    }\n",
    "    \n",
    "    else { \n",
    "        print(\"non negativo\") \n",
    "    }\n",
    "    \n",
    "} \n",
    "\n",
    "segno(0) # chiamata di funzione"
   ]
  },
  {
   "cell_type": "code",
   "execution_count": 132,
   "metadata": {
    "collapsed": false
   },
   "outputs": [
    {
     "data": {
      "text/html": [
       "10"
      ],
      "text/latex": [
       "10"
      ],
      "text/markdown": [
       "10"
      ],
      "text/plain": [
       "[1] 10"
      ]
     },
     "metadata": {},
     "output_type": "display_data"
    }
   ],
   "source": [
    "funz <- function ( x, y = 2, z = 3 ) {\n",
    "    return(x+y+z) \n",
    "}\n",
    "\n",
    "funz(5)"
   ]
  },
  {
   "cell_type": "markdown",
   "metadata": {},
   "source": [
    "## Data Clensing and Data Transformation\n",
    "Issues with Data Quality\n",
    "\n",
    "- Invalid values\n",
    "- formats\n",
    "- Attribute dependencies\n",
    "- Uniqueness\n",
    "- Referential integrity\n",
    "- Missing values\n",
    "- Misspellings\n",
    "- Misfielded values (value in the wrong field)\n",
    "- Wrong references\n",
    "\n",
    "Finding Data Quality Issues\n",
    "\n",
    "- Sample Visual Inspection\n",
    "- Automated validation code\n",
    "- Schema validation\n",
    "- Outlier Analysis\n",
    "- Exploratory Data Analysis\n",
    "\n",
    "Fixing Data Quality Issues\n",
    "\n",
    "- Fixing Data Quality issues is regular boilerplate coding in any language the team is comfortable with\n",
    "- Fix the source if possible\n",
    "- Find possible loopholes in data processing streams\n",
    "- Analyze batches coming in and automate fixing\n",
    "- Libraries and tools available\n",
    "\n",
    "Data Imputation\n",
    "\n",
    "- Any “value” present in a dataset is used by machine learning algorithms as valid values –including null, N/A, blank etc.\n",
    "- This makes populating missing data a key step that might affect prediction results\n",
    "- Techniques for populating missing data\n",
    "- Mean, median, mode\n",
    "- Multiple imputation\n",
    "- Use regression to find values based on other values\n",
    "- hybrid\n",
    "\n",
    "Data Standardization\n",
    "\n",
    "Numbers\n",
    "- Decimal places\n",
    "- Log\n",
    "Date and Time\n",
    "- Time Zone\n",
    "- POSIX\n",
    "- Epoch\n",
    "Text Data\n",
    "- Name formatting ( First Last vs Last, First)\n",
    "- Lower case/ Upper case/ Init Case\n",
    "\n",
    "Binning\n",
    "\n",
    "- Convert numeric to categorical data\n",
    "- Pre-defined ranges are used to create bins and individual data records are classified based on this.\n",
    "- New columns typically added to hold the binned data\n",
    "- Binning is usually done when the continuous variable is used for classification.\n",
    "\n",
    "Indicator variables\n",
    "- Categorical variables are converted into Boolean data by creating indicator variables\n",
    "- If the variable has n classes, then n-1 new variables are created to indicate the presence or absence of a value\n",
    "- Each variable has 1/0 values\n",
    "- The nth value is indicated by a 0 in all the indicator columns\n",
    "- Indicator variables sometimes work better in predictions that their categorical counterparts\n",
    "\n",
    "Centering and Scaling\n",
    "- Standardizes the range of values of a variables while maintaining their signal characteristics\n",
    "- Makes comparison of two variables easier\n",
    "- The values are “centered” by subtracting them from the mean value\n",
    "- The values are “scaled” by dividing the above by the Standard Deviation.\n",
    "- ML algorithms give far better results with standardized values"
   ]
  }
 ],
 "metadata": {
  "kernelspec": {
   "display_name": "R",
   "language": "R",
   "name": "ir"
  },
  "language_info": {
   "codemirror_mode": "r",
   "file_extension": ".r",
   "mimetype": "text/x-r-source",
   "name": "R",
   "pygments_lexer": "r",
   "version": "3.3.1"
  }
 },
 "nbformat": 4,
 "nbformat_minor": 0
}
