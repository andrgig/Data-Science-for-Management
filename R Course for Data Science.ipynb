{
 "cells": [
  {
   "cell_type": "markdown",
   "metadata": {},
   "source": [
    "# What this Notebook is about?\n",
    "\n",
    "This Notebook is part of the Data Science for Management course I'm teaching at the University of Florence (Italy) during 2016/2017 academic year. A companion tutorial for the same course is [Python Course for Data Science](https://github.com/andrgig/Data-Science-for-Management/blob/master/Python%20Course%20for%20Data%20Science.ipynb).\n",
    "\n",
    "For suggestions you can contact me on [Linkedin](https://it.linkedin.com/in/agigli) or [Twitter](https://twitter.com/andrgig).\n",
    "\n",
    "*Andrea Gigli, PhD in Applied Statistics, MSc in Big Data Analytics and Social Mining*\n",
    "\n",
    "---"
   ]
  },
  {
   "cell_type": "markdown",
   "metadata": {},
   "source": [
    "# What is R"
   ]
  },
  {
   "cell_type": "markdown",
   "metadata": {},
   "source": [
    "R is a powerful language and environment for doing Data Science (ie machine learning, information retrieval, statistical analysis, optimization and visualization). It is a public domain project (“GNU”) which is similar to the commercial S language, an environment which was developed at Bell Laboratories (formerly AT&T, now Lucent Technologies). \n",
    "\n",
    "The main advantages of R are the fact that R is freeware and that there is a lot of help available online thanks to a very active community. It is quite similar to other programming packages such as MatLab (not freeware), but more user-friendly than programming languages such as C++ or Java. \n",
    "\n",
    "Along with Python, it is one of the most important tools to know for people working with Data at all levels. \n",
    "\n",
    "R can be downloaded for free at http://www.r-project.org/\n",
    "\n",
    "We'll use extensively RStudio interface, available at http://www.rstudio.org/\n"
   ]
  },
  {
   "cell_type": "markdown",
   "metadata": {},
   "source": [
    "R can do many statistical and data analyses thanks to the so-called packages or libraries build by R users community. With the standard installation, most common packages are installed. To get a list of all installed packages, go to the RStudio packages window or type library() in the console window."
   ]
  },
  {
   "cell_type": "code",
   "execution_count": 1,
   "metadata": {
    "collapsed": false
   },
   "outputs": [
    {
     "data": {},
     "metadata": {},
     "output_type": "display_data"
    }
   ],
   "source": [
    "library()"
   ]
  },
  {
   "cell_type": "markdown",
   "metadata": {},
   "source": [
    "There are many more packages available on the R website than those you can see. If you want to install and use a package (for example, the package called “geometry”) you should:\n",
    "\n",
    "1) first click \"install packages\" in the packages window and then type geometry, or type install.packages(\"geometry\") in the command window,\n",
    "\n",
    "2) then check the box in front of geometry in the package window or type library(\"geometry\") in the command window."
   ]
  },
  {
   "cell_type": "code",
   "execution_count": 2,
   "metadata": {
    "collapsed": false
   },
   "outputs": [
    {
     "ename": "ERROR",
     "evalue": "Error in contrib.url(repos, \"source\"): trying to use CRAN without setting a mirror\n",
     "output_type": "error",
     "traceback": [
      "Error in contrib.url(repos, \"source\"): trying to use CRAN without setting a mirror\nTraceback:\n",
      "1. install.packages(\"geometry\")",
      "2. contrib.url(repos, \"source\")",
      "3. stop(\"trying to use CRAN without setting a mirror\")"
     ]
    }
   ],
   "source": [
    "install.packages(\"geometry\")"
   ]
  },
  {
   "cell_type": "code",
   "execution_count": 3,
   "metadata": {
    "collapsed": false
   },
   "outputs": [
    {
     "ename": "ERROR",
     "evalue": "Error in library(\"geometry\"): there is no package called 'geometry'\n",
     "output_type": "error",
     "traceback": [
      "Error in library(\"geometry\"): there is no package called 'geometry'\nTraceback:\n",
      "1. library(\"geometry\")",
      "2. stop(txt, domain = NA)"
     ]
    }
   ],
   "source": [
    "library(\"geometry\")"
   ]
  },
  {
   "cell_type": "markdown",
   "metadata": {},
   "source": [
    "It's possible to ask help to R on commands using \"help()\" or \"?\""
   ]
  },
  {
   "cell_type": "code",
   "execution_count": 4,
   "metadata": {
    "collapsed": false
   },
   "outputs": [
    {
     "name": "stderr",
     "output_type": "stream",
     "text": [
      "starting httpd help server ... done\n"
     ]
    },
    {
     "data": {},
     "metadata": {},
     "output_type": "display_data"
    }
   ],
   "source": [
    "help(round)\n",
    "?round\n",
    "help.search(\"round\")"
   ]
  },
  {
   "cell_type": "markdown",
   "metadata": {},
   "source": [
    "## Working Directory\n",
    "Your working directory is the folder on your computer in which you are currently working. A working directory is always assumed by R\n",
    "• New files are created by default in this directory\n",
    "• Files to be read are expected by default in this directory\n",
    "• getwd() and setwd() are used to manage the it.\n",
    "When you ask R to open a certain file, it will look in the working directory for this file, and when you tell R to save a data file or figure, it will save it in the working directory.\n",
    "Before you start working, please set your working directory to where all your data and script files are or should be stored. Type in the command window:"
   ]
  },
  {
   "cell_type": "code",
   "execution_count": 5,
   "metadata": {
    "collapsed": false
   },
   "outputs": [
    {
     "ename": "ERROR",
     "evalue": "Error in setwd(\"directoryname\"): cannot change working directory\n",
     "output_type": "error",
     "traceback": [
      "Error in setwd(\"directoryname\"): cannot change working directory\nTraceback:\n",
      "1. setwd(\"directoryname\")"
     ]
    }
   ],
   "source": [
    "setwd(\"directoryname\")"
   ]
  },
  {
   "cell_type": "markdown",
   "metadata": {},
   "source": [
    "If you want to know your working directory type"
   ]
  },
  {
   "cell_type": "code",
   "execution_count": 6,
   "metadata": {
    "collapsed": false
   },
   "outputs": [
    {
     "data": {
      "text/html": [
       "'C:/Users/t000524/workspace/Management Data Science Course'"
      ],
      "text/latex": [
       "'C:/Users/t000524/workspace/Management Data Science Course'"
      ],
      "text/markdown": [
       "'C:/Users/t000524/workspace/Management Data Science Course'"
      ],
      "text/plain": [
       "[1] \"C:/Users/t000524/workspace/Management Data Science Course\""
      ]
     },
     "metadata": {},
     "output_type": "display_data"
    }
   ],
   "source": [
    "getwd()"
   ]
  },
  {
   "cell_type": "markdown",
   "metadata": {},
   "source": [
    "setwd(\"../../Dati/\")# sale 2 livelli, entra in Dati\n",
    "dir() # elenca files/cartelle\n",
    "dir.create(\"tmpLavoro\")# crea cartella\n",
    "setwd(\"tmpLavoro\") # vi entra\n",
    "\n",
    "source(\"script.R\") esegue il codice R contenuto nel file di\n",
    "testo \"script.R\" (che potete editare anche con Notepad).\n",
    "Questo vi consente di:\n",
    "◮ spezzare un programma in moduli (script) separati, da\n",
    "eseguire richiamandoli sequenzialmente;\n",
    "◮ collocare una funzione che usate ripetutamente in uno\n",
    "script-libreria personale, da caricare all’occorrenza.\n",
    "Esempio: inizio di un mio “main script”:\n",
    "source(\"00_Parametri.R\")\n",
    "source(\"00_Input.R\")\n",
    "source(\"00_CaricamentoDati.R\")\n",
    "source(\"libUtils.R\")\n",
    "source(\"libFunz.R\")"
   ]
  },
  {
   "cell_type": "markdown",
   "metadata": {},
   "source": [
    "## R as a calculator\n",
    "You can use R as a calculator and do both basic mathematical operations..."
   ]
  },
  {
   "cell_type": "code",
   "execution_count": 7,
   "metadata": {
    "collapsed": false
   },
   "outputs": [
    {
     "data": {
      "text/html": [
       "4"
      ],
      "text/latex": [
       "4"
      ],
      "text/markdown": [
       "4"
      ],
      "text/plain": [
       "[1] 4"
      ]
     },
     "metadata": {},
     "output_type": "display_data"
    }
   ],
   "source": [
    "2+2"
   ]
  },
  {
   "cell_type": "code",
   "execution_count": 8,
   "metadata": {
    "collapsed": false
   },
   "outputs": [
    {
     "data": {
      "text/html": [
       "-1"
      ],
      "text/latex": [
       "-1"
      ],
      "text/markdown": [
       "-1"
      ],
      "text/plain": [
       "[1] -1"
      ]
     },
     "metadata": {},
     "output_type": "display_data"
    }
   ],
   "source": [
    "4-5"
   ]
  },
  {
   "cell_type": "code",
   "execution_count": 9,
   "metadata": {
    "collapsed": false
   },
   "outputs": [
    {
     "data": {
      "text/html": [
       "0.8"
      ],
      "text/latex": [
       "0.8"
      ],
      "text/markdown": [
       "0.8"
      ],
      "text/plain": [
       "[1] 0.8"
      ]
     },
     "metadata": {},
     "output_type": "display_data"
    }
   ],
   "source": [
    "4/5"
   ]
  },
  {
   "cell_type": "code",
   "execution_count": 10,
   "metadata": {
    "collapsed": false
   },
   "outputs": [
    {
     "data": {
      "text/html": [
       "72"
      ],
      "text/latex": [
       "72"
      ],
      "text/markdown": [
       "72"
      ],
      "text/plain": [
       "[1] 72"
      ]
     },
     "metadata": {},
     "output_type": "display_data"
    }
   ],
   "source": [
    "8*9"
   ]
  },
  {
   "cell_type": "code",
   "execution_count": 11,
   "metadata": {
    "collapsed": false
   },
   "outputs": [
    {
     "data": {
      "text/html": [
       "64"
      ],
      "text/latex": [
       "64"
      ],
      "text/markdown": [
       "64"
      ],
      "text/plain": [
       "[1] 64"
      ]
     },
     "metadata": {},
     "output_type": "display_data"
    }
   ],
   "source": [
    "8^2"
   ]
  },
  {
   "cell_type": "code",
   "execution_count": 12,
   "metadata": {
    "collapsed": false
   },
   "outputs": [
    {
     "data": {
      "text/html": [
       "7.38905609893065"
      ],
      "text/latex": [
       "7.38905609893065"
      ],
      "text/markdown": [
       "7.38905609893065"
      ],
      "text/plain": [
       "[1] 7.389056"
      ]
     },
     "metadata": {},
     "output_type": "display_data"
    }
   ],
   "source": [
    "exp(2)"
   ]
  },
  {
   "cell_type": "code",
   "execution_count": 13,
   "metadata": {
    "collapsed": false
   },
   "outputs": [
    {
     "data": {
      "text/html": [
       "2"
      ],
      "text/latex": [
       "2"
      ],
      "text/markdown": [
       "2"
      ],
      "text/plain": [
       "[1] 2"
      ]
     },
     "metadata": {},
     "output_type": "display_data"
    }
   ],
   "source": [
    "log(exp(2))"
   ]
  },
  {
   "cell_type": "code",
   "execution_count": 14,
   "metadata": {
    "collapsed": false
   },
   "outputs": [
    {
     "data": {
      "text/html": [
       "1"
      ],
      "text/latex": [
       "1"
      ],
      "text/markdown": [
       "1"
      ],
      "text/plain": [
       "[1] 1"
      ]
     },
     "metadata": {},
     "output_type": "display_data"
    }
   ],
   "source": [
    "5%%2"
   ]
  },
  {
   "cell_type": "code",
   "execution_count": 15,
   "metadata": {
    "collapsed": false,
    "scrolled": true
   },
   "outputs": [
    {
     "data": {
      "text/html": [
       "2"
      ],
      "text/latex": [
       "2"
      ],
      "text/markdown": [
       "2"
      ],
      "text/plain": [
       "[1] 2"
      ]
     },
     "metadata": {},
     "output_type": "display_data"
    }
   ],
   "source": [
    "5%/%2"
   ]
  },
  {
   "cell_type": "markdown",
   "metadata": {},
   "source": [
    "... or more complex ones"
   ]
  },
  {
   "cell_type": "code",
   "execution_count": 16,
   "metadata": {
    "collapsed": false
   },
   "outputs": [
    {
     "data": {
      "text/html": [
       "2.5499332139121"
      ],
      "text/latex": [
       "2.5499332139121"
      ],
      "text/markdown": [
       "2.5499332139121"
      ],
      "text/plain": [
       "[1] 2.549933"
      ]
     },
     "metadata": {},
     "output_type": "display_data"
    }
   ],
   "source": [
    "log((54*3+2)^2)/4"
   ]
  },
  {
   "cell_type": "markdown",
   "metadata": {},
   "source": [
    "## Variables \n",
    "You can create also variables in R and use them later in your scripts. The sign \"<-\" is used to assign a value to a variable. Variable types are\n",
    "- Numeric\n",
    "- Boolean\n",
    "- Character"
   ]
  },
  {
   "cell_type": "code",
   "execution_count": 17,
   "metadata": {
    "collapsed": true
   },
   "outputs": [],
   "source": [
    "#numeric variable\n",
    "x <- 10"
   ]
  },
  {
   "cell_type": "markdown",
   "metadata": {},
   "source": [
    "Afterwards, no result is displayed. To view the content of the variable just call the variable"
   ]
  },
  {
   "cell_type": "code",
   "execution_count": 18,
   "metadata": {
    "collapsed": false,
    "scrolled": false
   },
   "outputs": [
    {
     "data": {
      "text/html": [
       "10"
      ],
      "text/latex": [
       "10"
      ],
      "text/markdown": [
       "10"
      ],
      "text/plain": [
       "[1] 10"
      ]
     },
     "metadata": {},
     "output_type": "display_data"
    }
   ],
   "source": [
    "x"
   ]
  },
  {
   "cell_type": "markdown",
   "metadata": {},
   "source": [
    "You can also write the assignement operation in brackets"
   ]
  },
  {
   "cell_type": "code",
   "execution_count": 19,
   "metadata": {
    "collapsed": false,
    "scrolled": true
   },
   "outputs": [
    {
     "data": {
      "text/html": [
       "20"
      ],
      "text/latex": [
       "20"
      ],
      "text/markdown": [
       "20"
      ],
      "text/plain": [
       "[1] 20"
      ]
     },
     "metadata": {},
     "output_type": "display_data"
    }
   ],
   "source": [
    "(x <- 20)"
   ]
  },
  {
   "cell_type": "code",
   "execution_count": 20,
   "metadata": {
    "collapsed": false
   },
   "outputs": [
    {
     "data": {
      "text/html": [
       "-84.790363517662"
      ],
      "text/latex": [
       "-84.790363517662"
      ],
      "text/markdown": [
       "-84.790363517662"
      ],
      "text/plain": [
       "[1] -84.79036"
      ]
     },
     "metadata": {},
     "output_type": "display_data"
    }
   ],
   "source": [
    "y <- x + 10\n",
    "z <- x^(3/4) -pi*y\n",
    "z"
   ]
  },
  {
   "cell_type": "code",
   "execution_count": 21,
   "metadata": {
    "collapsed": false
   },
   "outputs": [
    {
     "data": {
      "text/html": [
       "FALSE"
      ],
      "text/latex": [
       "FALSE"
      ],
      "text/markdown": [
       "FALSE"
      ],
      "text/plain": [
       "[1] FALSE"
      ]
     },
     "metadata": {},
     "output_type": "display_data"
    }
   ],
   "source": [
    "# boolean variable\n",
    "z > 0"
   ]
  },
  {
   "cell_type": "code",
   "execution_count": 22,
   "metadata": {
    "collapsed": false
   },
   "outputs": [
    {
     "data": {
      "text/html": [
       "TRUE"
      ],
      "text/latex": [
       "TRUE"
      ],
      "text/markdown": [
       "TRUE"
      ],
      "text/plain": [
       "[1] TRUE"
      ]
     },
     "metadata": {},
     "output_type": "display_data"
    }
   ],
   "source": [
    "!(z > 0)"
   ]
  },
  {
   "cell_type": "code",
   "execution_count": 23,
   "metadata": {
    "collapsed": false
   },
   "outputs": [
    {
     "data": {
      "text/html": [
       "'pippo'"
      ],
      "text/latex": [
       "'pippo'"
      ],
      "text/markdown": [
       "'pippo'"
      ],
      "text/plain": [
       "[1] \"pippo\""
      ]
     },
     "metadata": {},
     "output_type": "display_data"
    }
   ],
   "source": [
    "#string variable\n",
    "string <- \"pippo\"\n",
    "string"
   ]
  },
  {
   "cell_type": "code",
   "execution_count": 24,
   "metadata": {
    "collapsed": false
   },
   "outputs": [
    {
     "data": {
      "text/html": [
       "TRUE"
      ],
      "text/latex": [
       "TRUE"
      ],
      "text/markdown": [
       "TRUE"
      ],
      "text/plain": [
       "[1] TRUE"
      ]
     },
     "metadata": {},
     "output_type": "display_data"
    }
   ],
   "source": [
    "boolean <- TRUE\n",
    "boolean"
   ]
  },
  {
   "cell_type": "markdown",
   "metadata": {},
   "source": [
    "\"Inf\" and \"NaN\" stand for Infinite Number and Missing data: "
   ]
  },
  {
   "cell_type": "code",
   "execution_count": 25,
   "metadata": {
    "collapsed": false
   },
   "outputs": [
    {
     "data": {
      "text/html": [
       "Inf"
      ],
      "text/latex": [
       "Inf"
      ],
      "text/markdown": [
       "Inf"
      ],
      "text/plain": [
       "[1] Inf"
      ]
     },
     "metadata": {},
     "output_type": "display_data"
    }
   ],
   "source": [
    "1/0"
   ]
  },
  {
   "cell_type": "code",
   "execution_count": 26,
   "metadata": {
    "collapsed": false
   },
   "outputs": [
    {
     "data": {
      "text/html": [
       "NaN"
      ],
      "text/latex": [
       "NaN"
      ],
      "text/markdown": [
       "NaN"
      ],
      "text/plain": [
       "[1] NaN"
      ]
     },
     "metadata": {},
     "output_type": "display_data"
    }
   ],
   "source": [
    "0/0"
   ]
  },
  {
   "cell_type": "code",
   "execution_count": 27,
   "metadata": {
    "collapsed": false
   },
   "outputs": [
    {
     "data": {
      "text/html": [
       "Inf"
      ],
      "text/latex": [
       "Inf"
      ],
      "text/markdown": [
       "Inf"
      ],
      "text/plain": [
       "[1] Inf"
      ]
     },
     "metadata": {},
     "output_type": "display_data"
    }
   ],
   "source": [
    "10*1/0"
   ]
  },
  {
   "cell_type": "code",
   "execution_count": 28,
   "metadata": {
    "collapsed": false
   },
   "outputs": [
    {
     "data": {
      "text/html": [
       "NaN"
      ],
      "text/latex": [
       "NaN"
      ],
      "text/markdown": [
       "NaN"
      ],
      "text/plain": [
       "[1] NaN"
      ]
     },
     "metadata": {},
     "output_type": "display_data"
    }
   ],
   "source": [
    "10*0/0"
   ]
  },
  {
   "cell_type": "markdown",
   "metadata": {},
   "source": [
    "is.na() can be used to test if a variable has missing value"
   ]
  },
  {
   "cell_type": "code",
   "execution_count": 29,
   "metadata": {
    "collapsed": false
   },
   "outputs": [
    {
     "data": {
      "text/html": [
       "TRUE"
      ],
      "text/latex": [
       "TRUE"
      ],
      "text/markdown": [
       "TRUE"
      ],
      "text/plain": [
       "[1] TRUE"
      ]
     },
     "metadata": {},
     "output_type": "display_data"
    }
   ],
   "source": [
    "is.na(0/0)"
   ]
  },
  {
   "cell_type": "markdown",
   "metadata": {},
   "source": [
    "## Dates and Time\n",
    "\n",
    "The as.Date function is a built-in function able to handle dates (without time, without control zone). The chron library handles dates and times (without control zones). POSIXct and POSIXlt classes allow for dates and times with control for time zones.\n",
    "\n",
    "### as.Date\n",
    "\n",
    "The as.Date function allows a variety of input formats through the format = argument. The default format is a four digit year, followed by a month, then a day, separated by either dashes or slashes\n"
   ]
  },
  {
   "cell_type": "code",
   "execution_count": 30,
   "metadata": {
    "collapsed": false
   },
   "outputs": [
    {
     "data": {
      "text/plain": [
       "[1] \"1915-06-16\""
      ]
     },
     "metadata": {},
     "output_type": "display_data"
    }
   ],
   "source": [
    "as.Date('1915-6-16')"
   ]
  },
  {
   "cell_type": "markdown",
   "metadata": {},
   "source": [
    "| Code | Value         \n",
    "| :- |:-------------\n",
    "| %d | Day of the month (decimal) \n",
    "| %m | Month (decimal)\n",
    "| %b | Month (abbreviated name)\n",
    "| %B | Month (full name)\n",
    "| %y | Year (2 digits)\n",
    "| %Y | Year (4 digits)\n",
    "\n"
   ]
  },
  {
   "cell_type": "code",
   "execution_count": 31,
   "metadata": {
    "collapsed": false
   },
   "outputs": [
    {
     "data": {
      "text/plain": [
       "[1] \"2001-01-15\""
      ]
     },
     "metadata": {},
     "output_type": "display_data"
    }
   ],
   "source": [
    "as.Date('01/15/2001',format='%m/%d/%Y')"
   ]
  },
  {
   "cell_type": "code",
   "execution_count": 32,
   "metadata": {
    "collapsed": false
   },
   "outputs": [
    {
     "data": {
      "text/plain": [
       "[1] \"2001-04-26\""
      ]
     },
     "metadata": {},
     "output_type": "display_data"
    }
   ],
   "source": [
    " as.Date('April 26, 2001',format='%B %d, %Y')"
   ]
  },
  {
   "cell_type": "markdown",
   "metadata": {},
   "source": [
    "**Internally, Date objects are stored as the number of days since January 1, 1970**, using negative numbers for earlier dates. The as.numeric function can be used to convert a Date object to its internal form.\n",
    "\n",
    "To extract the components of the dates, the weekdays, months, days or quarters functions can be used."
   ]
  },
  {
   "cell_type": "code",
   "execution_count": 33,
   "metadata": {
    "collapsed": false
   },
   "outputs": [
    {
     "data": {
      "text/html": [
       "<dl class=dl-horizontal>\n",
       "\t<dt>tukey</dt>\n",
       "\t\t<dd>'Wednesday'</dd>\n",
       "\t<dt>fisher</dt>\n",
       "\t\t<dd>'Monday'</dd>\n",
       "\t<dt>cramer</dt>\n",
       "\t\t<dd>'Monday'</dd>\n",
       "\t<dt>kendall</dt>\n",
       "\t\t<dd>'Friday'</dd>\n",
       "</dl>\n"
      ],
      "text/latex": [
       "\\begin{description*}\n",
       "\\item[tukey] 'Wednesday'\n",
       "\\item[fisher] 'Monday'\n",
       "\\item[cramer] 'Monday'\n",
       "\\item[kendall] 'Friday'\n",
       "\\end{description*}\n"
      ],
      "text/markdown": [
       "tukey\n",
       ":   'Wednesday'fisher\n",
       ":   'Monday'cramer\n",
       ":   'Monday'kendall\n",
       ":   'Friday'\n",
       "\n"
      ],
      "text/plain": [
       "      tukey      fisher      cramer     kendall \n",
       "\"Wednesday\"    \"Monday\"    \"Monday\"    \"Friday\" "
      ]
     },
     "metadata": {},
     "output_type": "display_data"
    },
    {
     "data": {
      "text/html": [
       "<dl class=dl-horizontal>\n",
       "\t<dt>tukey</dt>\n",
       "\t\t<dd>'June'</dd>\n",
       "\t<dt>fisher</dt>\n",
       "\t\t<dd>'February'</dd>\n",
       "\t<dt>cramer</dt>\n",
       "\t\t<dd>'September'</dd>\n",
       "\t<dt>kendall</dt>\n",
       "\t\t<dd>'September'</dd>\n",
       "</dl>\n"
      ],
      "text/latex": [
       "\\begin{description*}\n",
       "\\item[tukey] 'June'\n",
       "\\item[fisher] 'February'\n",
       "\\item[cramer] 'September'\n",
       "\\item[kendall] 'September'\n",
       "\\end{description*}\n"
      ],
      "text/markdown": [
       "tukey\n",
       ":   'June'fisher\n",
       ":   'February'cramer\n",
       ":   'September'kendall\n",
       ":   'September'\n",
       "\n"
      ],
      "text/plain": [
       "      tukey      fisher      cramer     kendall \n",
       "     \"June\"  \"February\" \"September\" \"September\" "
      ]
     },
     "metadata": {},
     "output_type": "display_data"
    }
   ],
   "source": [
    "bdays = c(tukey=as.Date('1915-06-16'),fisher=as.Date('1890-02-17'),\n",
    "          cramer=as.Date('1893-09-25'), kendall=as.Date('1907-09-06'))\n",
    "weekdays(bdays)\n",
    "months(bdays)"
   ]
  },
  {
   "cell_type": "markdown",
   "metadata": {},
   "source": [
    "### chron\n",
    "This class is a good option when you don’t need to deal with timezones. It requires the package chron."
   ]
  },
  {
   "cell_type": "code",
   "execution_count": 34,
   "metadata": {
    "collapsed": false
   },
   "outputs": [
    {
     "name": "stderr",
     "output_type": "stream",
     "text": [
      "Loading required package: chron\n"
     ]
    }
   ],
   "source": [
    "require(chron)"
   ]
  },
  {
   "cell_type": "code",
   "execution_count": 35,
   "metadata": {
    "collapsed": false
   },
   "outputs": [
    {
     "data": {
      "text/plain": [
       "[1] (07/24/13 23:55:26)"
      ]
     },
     "metadata": {},
     "output_type": "display_data"
    }
   ],
   "source": [
    "#create some times:\n",
    "\n",
    "tm1.c <- as.chron(\"2013-07-24 23:55:26\")\n",
    "tm1.c"
   ]
  },
  {
   "cell_type": "code",
   "execution_count": 36,
   "metadata": {
    "collapsed": false
   },
   "outputs": [
    {
     "data": {
      "text/html": [
       "<dl>\n",
       "\t<dt>$format</dt>\n",
       "\t\t<dd><dl class=dl-horizontal>\n",
       "\t<dt>dates</dt>\n",
       "\t\t<dd>'m/d/y'</dd>\n",
       "\t<dt>times</dt>\n",
       "\t\t<dd>'h:m:s'</dd>\n",
       "</dl>\n",
       "</dd>\n",
       "\t<dt>$origin</dt>\n",
       "\t\t<dd><dl class=dl-horizontal>\n",
       "\t<dt>month</dt>\n",
       "\t\t<dd>1</dd>\n",
       "\t<dt>day</dt>\n",
       "\t\t<dd>1</dd>\n",
       "\t<dt>year</dt>\n",
       "\t\t<dd>1970</dd>\n",
       "</dl>\n",
       "</dd>\n",
       "\t<dt>$class</dt>\n",
       "\t\t<dd><ol class=list-inline>\n",
       "\t<li>'chron'</li>\n",
       "\t<li>'dates'</li>\n",
       "\t<li>'times'</li>\n",
       "</ol>\n",
       "</dd>\n",
       "</dl>\n"
      ],
      "text/latex": [
       "\\begin{description}\n",
       "\\item[\\$format] \\begin{description*}\n",
       "\\item[dates] 'm/d/y'\n",
       "\\item[times] 'h:m:s'\n",
       "\\end{description*}\n",
       "\n",
       "\\item[\\$origin] \\begin{description*}\n",
       "\\item[month] 1\n",
       "\\item[day] 1\n",
       "\\item[year] 1970\n",
       "\\end{description*}\n",
       "\n",
       "\\item[\\$class] \\begin{enumerate*}\n",
       "\\item 'chron'\n",
       "\\item 'dates'\n",
       "\\item 'times'\n",
       "\\end{enumerate*}\n",
       "\n",
       "\\end{description}\n"
      ],
      "text/markdown": [
       "$format\n",
       ":   dates\n",
       ":   'm/d/y'times\n",
       ":   'h:m:s'\n",
       "\n",
       "\n",
       "$origin\n",
       ":   month\n",
       ":   1day\n",
       ":   1year\n",
       ":   1970\n",
       "\n",
       "\n",
       "$class\n",
       ":   1. 'chron'\n",
       "2. 'dates'\n",
       "3. 'times'\n",
       "\n",
       "\n",
       "\n",
       "\n",
       "\n"
      ],
      "text/plain": [
       "$format\n",
       "  dates   times \n",
       "\"m/d/y\" \"h:m:s\" \n",
       "\n",
       "$origin\n",
       "month   day  year \n",
       "    1     1  1970 \n",
       "\n",
       "$class\n",
       "[1] \"chron\" \"dates\" \"times\"\n"
      ]
     },
     "metadata": {},
     "output_type": "display_data"
    }
   ],
   "source": [
    "attributes(tm1.c)"
   ]
  },
  {
   "cell_type": "code",
   "execution_count": 37,
   "metadata": {
    "collapsed": false
   },
   "outputs": [
    {
     "data": {
      "text/plain": [
       "[1] (07/25/13 08:32:07)"
      ]
     },
     "metadata": {},
     "output_type": "display_data"
    }
   ],
   "source": [
    "tm2.c <- as.chron(\"07/25/13 08:32:07\", \"%m/%d/%y %H:%M:%S\")\n",
    "tm2.c"
   ]
  },
  {
   "cell_type": "code",
   "execution_count": 38,
   "metadata": {
    "collapsed": false
   },
   "outputs": [
    {
     "data": {
      "text/plain": [
       "    day  \n",
       "07/24/13 "
      ]
     },
     "metadata": {},
     "output_type": "display_data"
    }
   ],
   "source": [
    "#extract just the date:\n",
    "\n",
    "dates(tm1.c)"
   ]
  },
  {
   "cell_type": "code",
   "execution_count": 39,
   "metadata": {
    "collapsed": false
   },
   "outputs": [
    {
     "data": {
      "text/html": [
       "TRUE"
      ],
      "text/latex": [
       "TRUE"
      ],
      "text/markdown": [
       "TRUE"
      ],
      "text/plain": [
       "[1] TRUE"
      ]
     },
     "metadata": {},
     "output_type": "display_data"
    }
   ],
   "source": [
    "#compare times:\n",
    "\n",
    "tm2.c > tm1.c"
   ]
  },
  {
   "cell_type": "code",
   "execution_count": 40,
   "metadata": {
    "collapsed": false
   },
   "outputs": [
    {
     "data": {
      "text/plain": [
       "[1] (08/03/13 23:55:26)"
      ]
     },
     "metadata": {},
     "output_type": "display_data"
    }
   ],
   "source": [
    "#add days:\n",
    "\n",
    "tm1.c + 10\n"
   ]
  },
  {
   "cell_type": "code",
   "execution_count": 41,
   "metadata": {
    "collapsed": false
   },
   "outputs": [
    {
     "data": {
      "text/plain": [
       "[1] 08:36:41"
      ]
     },
     "metadata": {},
     "output_type": "display_data"
    }
   ],
   "source": [
    "#calculate the differene between times:\n",
    "tm2.c - tm1.c"
   ]
  },
  {
   "cell_type": "code",
   "execution_count": 42,
   "metadata": {
    "collapsed": false
   },
   "outputs": [
    {
     "data": {
      "text/plain": [
       "Time difference of 8.611389 hours"
      ]
     },
     "metadata": {},
     "output_type": "display_data"
    }
   ],
   "source": [
    "difftime(tm2.c, tm1.c, units = \"hours\")\n",
    "## Time difference of 8.611 hours"
   ]
  },
  {
   "cell_type": "code",
   "execution_count": 43,
   "metadata": {
    "collapsed": false
   },
   "outputs": [
    {
     "data": {
      "text/plain": [
       "[1] 08:36:41"
      ]
     },
     "metadata": {},
     "output_type": "display_data"
    }
   ],
   "source": [
    "#does not adjust for daylight savings time:\n",
    "\n",
    "as.chron(\"2013-03-10 08:32:07\") - as.chron(\"2013-03-09 23:55:26\")\n"
   ]
  },
  {
   "cell_type": "markdown",
   "metadata": {},
   "source": [
    "### POSIXct\n",
    "This class enables easy extraction of specific componants of a time. (“ct” stand for calender time and “lt” stands for local time. “lt” also helps one remember that POXIXlt objects are lists.)"
   ]
  },
  {
   "cell_type": "code",
   "execution_count": 44,
   "metadata": {
    "collapsed": false
   },
   "outputs": [
    {
     "data": {
      "text/plain": [
       "[1] \"2016-12-28 16:43:12 CET\""
      ]
     },
     "metadata": {},
     "output_type": "display_data"
    }
   ],
   "source": [
    "#Get the current time (in POSIXct by default):\n",
    "\n",
    "Sys.time()"
   ]
  },
  {
   "cell_type": "code",
   "execution_count": 45,
   "metadata": {
    "collapsed": false
   },
   "outputs": [
    {
     "data": {
      "text/plain": [
       "[1] \"2013-07-24 23:55:26 CEST\""
      ]
     },
     "metadata": {},
     "output_type": "display_data"
    }
   ],
   "source": [
    "#create some POSIXct objects:\n",
    "\n",
    "tm1 <- as.POSIXct(\"2013-07-24 23:55:26\")\n",
    "tm1"
   ]
  },
  {
   "cell_type": "code",
   "execution_count": 46,
   "metadata": {
    "collapsed": false
   },
   "outputs": [
    {
     "data": {
      "text/html": [
       "<dl>\n",
       "\t<dt>$class</dt>\n",
       "\t\t<dd><ol class=list-inline>\n",
       "\t<li>'POSIXct'</li>\n",
       "\t<li>'POSIXt'</li>\n",
       "</ol>\n",
       "</dd>\n",
       "\t<dt>$tzone</dt>\n",
       "\t\t<dd>''</dd>\n",
       "</dl>\n"
      ],
      "text/latex": [
       "\\begin{description}\n",
       "\\item[\\$class] \\begin{enumerate*}\n",
       "\\item 'POSIXct'\n",
       "\\item 'POSIXt'\n",
       "\\end{enumerate*}\n",
       "\n",
       "\\item[\\$tzone] ''\n",
       "\\end{description}\n"
      ],
      "text/markdown": [
       "$class\n",
       ":   1. 'POSIXct'\n",
       "2. 'POSIXt'\n",
       "\n",
       "\n",
       "\n",
       "$tzone\n",
       ":   ''\n",
       "\n",
       "\n"
      ],
      "text/plain": [
       "$class\n",
       "[1] \"POSIXct\" \"POSIXt\" \n",
       "\n",
       "$tzone\n",
       "[1] \"\"\n"
      ]
     },
     "metadata": {},
     "output_type": "display_data"
    }
   ],
   "source": [
    "attributes(tm1)"
   ]
  },
  {
   "cell_type": "code",
   "execution_count": 47,
   "metadata": {
    "collapsed": false
   },
   "outputs": [
    {
     "data": {
      "text/plain": [
       "[1] \"2013-07-25 08:32:07 CEST\""
      ]
     },
     "metadata": {},
     "output_type": "display_data"
    }
   ],
   "source": [
    "tm2 <- as.POSIXct(\"25072013 08:32:07\", format = \"%d%m%Y %H:%M:%S\")\n",
    "tm2"
   ]
  },
  {
   "cell_type": "code",
   "execution_count": 48,
   "metadata": {
    "collapsed": false
   },
   "outputs": [
    {
     "data": {
      "text/plain": [
       "[1] \"2010-12-01 11:42:03 GMT\""
      ]
     },
     "metadata": {},
     "output_type": "display_data"
    }
   ],
   "source": [
    "#specify the time zone:\n",
    "\n",
    "tm3 <- as.POSIXct(\"2010-12-01 11:42:03\", tz = \"GMT\")\n",
    "tm3"
   ]
  },
  {
   "cell_type": "code",
   "execution_count": 49,
   "metadata": {
    "collapsed": false
   },
   "outputs": [
    {
     "data": {
      "text/html": [
       "TRUE"
      ],
      "text/latex": [
       "TRUE"
      ],
      "text/markdown": [
       "TRUE"
      ],
      "text/plain": [
       "[1] TRUE"
      ]
     },
     "metadata": {},
     "output_type": "display_data"
    }
   ],
   "source": [
    "tm2 > tm1"
   ]
  },
  {
   "cell_type": "code",
   "execution_count": 50,
   "metadata": {
    "collapsed": false
   },
   "outputs": [
    {
     "data": {
      "text/plain": [
       "Time difference of 8.611389 hours"
      ]
     },
     "metadata": {},
     "output_type": "display_data"
    }
   ],
   "source": [
    "tm2 - tm1"
   ]
  },
  {
   "cell_type": "code",
   "execution_count": 51,
   "metadata": {
    "collapsed": false
   },
   "outputs": [
    {
     "data": {
      "text/plain": [
       "[1] \"2013-07-24 23:55:26 CEST\""
      ]
     },
     "metadata": {},
     "output_type": "display_data"
    },
    {
     "data": {
      "text/plain": [
       "[1] \"2013-07-24 23:55:56 CEST\""
      ]
     },
     "metadata": {},
     "output_type": "display_data"
    }
   ],
   "source": [
    "tm1\n",
    "tm1 + 30"
   ]
  },
  {
   "cell_type": "code",
   "execution_count": 52,
   "metadata": {
    "collapsed": false
   },
   "outputs": [
    {
     "data": {
      "text/plain": [
       "Time difference of 8.611389 hours"
      ]
     },
     "metadata": {},
     "output_type": "display_data"
    }
   ],
   "source": [
    "#automatically adjusts for daylight savings time:\n",
    "\n",
    "as.POSIXct(\"2013-03-10 08:32:07\") - as.POSIXct(\"2013-03-09 23:55:26\")"
   ]
  },
  {
   "cell_type": "markdown",
   "metadata": {},
   "source": [
    "### POSIXlt\n",
    "This class enables easy extraction of specific componants of a time. (“ct” stand for calender time and “lt” stands for local time. “lt” also helps one remember that POXIXlt objects are lists.)"
   ]
  },
  {
   "cell_type": "code",
   "execution_count": 53,
   "metadata": {
    "collapsed": false
   },
   "outputs": [
    {
     "data": {
      "text/plain": [
       "[1] \"2013-07-24 23:55:26 CEST\""
      ]
     },
     "metadata": {},
     "output_type": "display_data"
    }
   ],
   "source": [
    "#create a time:\n",
    "\n",
    "tm1.lt <- as.POSIXlt(\"2013-07-24 23:55:26\")\n",
    "tm1.lt\n"
   ]
  },
  {
   "cell_type": "code",
   "execution_count": 54,
   "metadata": {
    "collapsed": false
   },
   "outputs": [
    {
     "data": {
      "text/html": [
       "<dl>\n",
       "\t<dt>$names</dt>\n",
       "\t\t<dd><ol class=list-inline>\n",
       "\t<li>'sec'</li>\n",
       "\t<li>'min'</li>\n",
       "\t<li>'hour'</li>\n",
       "\t<li>'mday'</li>\n",
       "\t<li>'mon'</li>\n",
       "\t<li>'year'</li>\n",
       "\t<li>'wday'</li>\n",
       "\t<li>'yday'</li>\n",
       "\t<li>'isdst'</li>\n",
       "\t<li>'zone'</li>\n",
       "\t<li>'gmtoff'</li>\n",
       "</ol>\n",
       "</dd>\n",
       "\t<dt>$class</dt>\n",
       "\t\t<dd><ol class=list-inline>\n",
       "\t<li>'POSIXlt'</li>\n",
       "\t<li>'POSIXt'</li>\n",
       "</ol>\n",
       "</dd>\n",
       "</dl>\n"
      ],
      "text/latex": [
       "\\begin{description}\n",
       "\\item[\\$names] \\begin{enumerate*}\n",
       "\\item 'sec'\n",
       "\\item 'min'\n",
       "\\item 'hour'\n",
       "\\item 'mday'\n",
       "\\item 'mon'\n",
       "\\item 'year'\n",
       "\\item 'wday'\n",
       "\\item 'yday'\n",
       "\\item 'isdst'\n",
       "\\item 'zone'\n",
       "\\item 'gmtoff'\n",
       "\\end{enumerate*}\n",
       "\n",
       "\\item[\\$class] \\begin{enumerate*}\n",
       "\\item 'POSIXlt'\n",
       "\\item 'POSIXt'\n",
       "\\end{enumerate*}\n",
       "\n",
       "\\end{description}\n"
      ],
      "text/markdown": [
       "$names\n",
       ":   1. 'sec'\n",
       "2. 'min'\n",
       "3. 'hour'\n",
       "4. 'mday'\n",
       "5. 'mon'\n",
       "6. 'year'\n",
       "7. 'wday'\n",
       "8. 'yday'\n",
       "9. 'isdst'\n",
       "10. 'zone'\n",
       "11. 'gmtoff'\n",
       "\n",
       "\n",
       "\n",
       "$class\n",
       ":   1. 'POSIXlt'\n",
       "2. 'POSIXt'\n",
       "\n",
       "\n",
       "\n",
       "\n",
       "\n"
      ],
      "text/plain": [
       "$names\n",
       " [1] \"sec\"    \"min\"    \"hour\"   \"mday\"   \"mon\"    \"year\"   \"wday\"   \"yday\"  \n",
       " [9] \"isdst\"  \"zone\"   \"gmtoff\"\n",
       "\n",
       "$class\n",
       "[1] \"POSIXlt\" \"POSIXt\" \n"
      ]
     },
     "metadata": {},
     "output_type": "display_data"
    }
   ],
   "source": [
    "attributes(tm1.lt)"
   ]
  },
  {
   "cell_type": "code",
   "execution_count": 55,
   "metadata": {
    "collapsed": false
   },
   "outputs": [
    {
     "data": {
      "text/html": [
       "<dl>\n",
       "\t<dt>$sec</dt>\n",
       "\t\t<dd>26</dd>\n",
       "\t<dt>$min</dt>\n",
       "\t\t<dd>55</dd>\n",
       "\t<dt>$hour</dt>\n",
       "\t\t<dd>23</dd>\n",
       "\t<dt>$mday</dt>\n",
       "\t\t<dd>24</dd>\n",
       "\t<dt>$mon</dt>\n",
       "\t\t<dd>6</dd>\n",
       "\t<dt>$year</dt>\n",
       "\t\t<dd>113</dd>\n",
       "\t<dt>$wday</dt>\n",
       "\t\t<dd>3</dd>\n",
       "\t<dt>$yday</dt>\n",
       "\t\t<dd>204</dd>\n",
       "\t<dt>$isdst</dt>\n",
       "\t\t<dd>1</dd>\n",
       "\t<dt>$zone</dt>\n",
       "\t\t<dd>'CEST'</dd>\n",
       "\t<dt>$gmtoff</dt>\n",
       "\t\t<dd>NA</dd>\n",
       "</dl>\n"
      ],
      "text/latex": [
       "\\begin{description}\n",
       "\\item[\\$sec] 26\n",
       "\\item[\\$min] 55\n",
       "\\item[\\$hour] 23\n",
       "\\item[\\$mday] 24\n",
       "\\item[\\$mon] 6\n",
       "\\item[\\$year] 113\n",
       "\\item[\\$wday] 3\n",
       "\\item[\\$yday] 204\n",
       "\\item[\\$isdst] 1\n",
       "\\item[\\$zone] 'CEST'\n",
       "\\item[\\$gmtoff] NA\n",
       "\\end{description}\n"
      ],
      "text/markdown": [
       "$sec\n",
       ":   26\n",
       "$min\n",
       ":   55\n",
       "$hour\n",
       ":   23\n",
       "$mday\n",
       ":   24\n",
       "$mon\n",
       ":   6\n",
       "$year\n",
       ":   113\n",
       "$wday\n",
       ":   3\n",
       "$yday\n",
       ":   204\n",
       "$isdst\n",
       ":   1\n",
       "$zone\n",
       ":   'CEST'\n",
       "$gmtoff\n",
       ":   NA\n",
       "\n",
       "\n"
      ],
      "text/plain": [
       "$sec\n",
       "[1] 26\n",
       "\n",
       "$min\n",
       "[1] 55\n",
       "\n",
       "$hour\n",
       "[1] 23\n",
       "\n",
       "$mday\n",
       "[1] 24\n",
       "\n",
       "$mon\n",
       "[1] 6\n",
       "\n",
       "$year\n",
       "[1] 113\n",
       "\n",
       "$wday\n",
       "[1] 3\n",
       "\n",
       "$yday\n",
       "[1] 204\n",
       "\n",
       "$isdst\n",
       "[1] 1\n",
       "\n",
       "$zone\n",
       "[1] \"CEST\"\n",
       "\n",
       "$gmtoff\n",
       "[1] NA\n"
      ]
     },
     "metadata": {},
     "output_type": "display_data"
    }
   ],
   "source": [
    "unclass(tm1.lt)"
   ]
  },
  {
   "cell_type": "code",
   "execution_count": 56,
   "metadata": {
    "collapsed": false
   },
   "outputs": [
    {
     "data": {
      "text/html": [
       "<dl class=dl-horizontal>\n",
       "\t<dt>sec</dt>\n",
       "\t\t<dd>'26'</dd>\n",
       "\t<dt>min</dt>\n",
       "\t\t<dd>'55'</dd>\n",
       "\t<dt>hour</dt>\n",
       "\t\t<dd>'23'</dd>\n",
       "\t<dt>mday</dt>\n",
       "\t\t<dd>'24'</dd>\n",
       "\t<dt>mon</dt>\n",
       "\t\t<dd>'6'</dd>\n",
       "\t<dt>year</dt>\n",
       "\t\t<dd>'113'</dd>\n",
       "\t<dt>wday</dt>\n",
       "\t\t<dd>'3'</dd>\n",
       "\t<dt>yday</dt>\n",
       "\t\t<dd>'204'</dd>\n",
       "\t<dt>isdst</dt>\n",
       "\t\t<dd>'1'</dd>\n",
       "\t<dt>zone</dt>\n",
       "\t\t<dd>'CEST'</dd>\n",
       "\t<dt>gmtoff</dt>\n",
       "\t\t<dd>'NA'</dd>\n",
       "</dl>\n"
      ],
      "text/latex": [
       "\\begin{description*}\n",
       "\\item[sec] '26'\n",
       "\\item[min] '55'\n",
       "\\item[hour] '23'\n",
       "\\item[mday] '24'\n",
       "\\item[mon] '6'\n",
       "\\item[year] '113'\n",
       "\\item[wday] '3'\n",
       "\\item[yday] '204'\n",
       "\\item[isdst] '1'\n",
       "\\item[zone] 'CEST'\n",
       "\\item[gmtoff] 'NA'\n",
       "\\end{description*}\n"
      ],
      "text/markdown": [
       "sec\n",
       ":   '26'min\n",
       ":   '55'hour\n",
       ":   '23'mday\n",
       ":   '24'mon\n",
       ":   '6'year\n",
       ":   '113'wday\n",
       ":   '3'yday\n",
       ":   '204'isdst\n",
       ":   '1'zone\n",
       ":   'CEST'gmtoff\n",
       ":   'NA'\n",
       "\n"
      ],
      "text/plain": [
       "   sec    min   hour   mday    mon   year   wday   yday  isdst   zone gmtoff \n",
       "  \"26\"   \"55\"   \"23\"   \"24\"    \"6\"  \"113\"    \"3\"  \"204\"    \"1\" \"CEST\"     NA "
      ]
     },
     "metadata": {},
     "output_type": "display_data"
    }
   ],
   "source": [
    "unlist(tm1.lt)"
   ]
  },
  {
   "cell_type": "code",
   "execution_count": 57,
   "metadata": {
    "collapsed": false
   },
   "outputs": [
    {
     "data": {
      "text/html": [
       "26"
      ],
      "text/latex": [
       "26"
      ],
      "text/markdown": [
       "26"
      ],
      "text/plain": [
       "[1] 26"
      ]
     },
     "metadata": {},
     "output_type": "display_data"
    }
   ],
   "source": [
    "#extract componants of a time object:\n",
    "\n",
    "tm1.lt$se"
   ]
  },
  {
   "cell_type": "code",
   "execution_count": 58,
   "metadata": {
    "collapsed": false
   },
   "outputs": [
    {
     "data": {
      "text/plain": [
       "[1] \"2013-07-24 CEST\""
      ]
     },
     "metadata": {},
     "output_type": "display_data"
    }
   ],
   "source": [
    "#truncate or round off the time:\n",
    "\n",
    "trunc(tm1.lt, \"days\")\n"
   ]
  },
  {
   "cell_type": "code",
   "execution_count": 59,
   "metadata": {
    "collapsed": false
   },
   "outputs": [
    {
     "data": {
      "text/plain": [
       "[1] \"2013-07-24 23:55:00 CEST\""
      ]
     },
     "metadata": {},
     "output_type": "display_data"
    }
   ],
   "source": [
    "trunc(tm1.lt, \"mins\")"
   ]
  },
  {
   "cell_type": "markdown",
   "metadata": {},
   "source": [
    "### Useful Properties"
   ]
  },
  {
   "cell_type": "code",
   "execution_count": 60,
   "metadata": {
    "collapsed": false
   },
   "outputs": [
    {
     "data": {
      "text/html": [
       "'double'"
      ],
      "text/latex": [
       "'double'"
      ],
      "text/markdown": [
       "'double'"
      ],
      "text/plain": [
       "[1] \"double\""
      ]
     },
     "metadata": {},
     "output_type": "display_data"
    }
   ],
   "source": [
    "typeof(x)"
   ]
  },
  {
   "cell_type": "code",
   "execution_count": 61,
   "metadata": {
    "collapsed": false,
    "scrolled": true
   },
   "outputs": [
    {
     "data": {
      "text/html": [
       "'character'"
      ],
      "text/latex": [
       "'character'"
      ],
      "text/markdown": [
       "'character'"
      ],
      "text/plain": [
       "[1] \"character\""
      ]
     },
     "metadata": {},
     "output_type": "display_data"
    }
   ],
   "source": [
    "typeof(string)"
   ]
  },
  {
   "cell_type": "code",
   "execution_count": 62,
   "metadata": {
    "collapsed": false
   },
   "outputs": [
    {
     "data": {
      "text/html": [
       "'logical'"
      ],
      "text/latex": [
       "'logical'"
      ],
      "text/markdown": [
       "'logical'"
      ],
      "text/plain": [
       "[1] \"logical\""
      ]
     },
     "metadata": {},
     "output_type": "display_data"
    }
   ],
   "source": [
    "typeof(boolean)"
   ]
  },
  {
   "cell_type": "markdown",
   "metadata": {},
   "source": [
    "## Vectors and Lists\n",
    "Vector is the basic data structure in R. It can be atomic vector (all elements are the same type) or list (element can have different type).\n"
   ]
  },
  {
   "cell_type": "code",
   "execution_count": 63,
   "metadata": {
    "collapsed": true
   },
   "outputs": [],
   "source": [
    "#combine objects into an atomic vector\n",
    "y <- c(1,2,3)"
   ]
  },
  {
   "cell_type": "code",
   "execution_count": 64,
   "metadata": {
    "collapsed": false,
    "scrolled": true
   },
   "outputs": [
    {
     "data": {
      "text/html": [
       "<ol class=list-inline>\n",
       "\t<li>1</li>\n",
       "\t<li>2</li>\n",
       "\t<li>3</li>\n",
       "</ol>\n"
      ],
      "text/latex": [
       "\\begin{enumerate*}\n",
       "\\item 1\n",
       "\\item 2\n",
       "\\item 3\n",
       "\\end{enumerate*}\n"
      ],
      "text/markdown": [
       "1. 1\n",
       "2. 2\n",
       "3. 3\n",
       "\n",
       "\n"
      ],
      "text/plain": [
       "[1] 1 2 3"
      ]
     },
     "metadata": {},
     "output_type": "display_data"
    }
   ],
   "source": [
    "y"
   ]
  },
  {
   "cell_type": "code",
   "execution_count": 65,
   "metadata": {
    "collapsed": true
   },
   "outputs": [],
   "source": [
    "string <- \"pippo\"\n",
    "strings <- c(string, \"pluto\")"
   ]
  },
  {
   "cell_type": "code",
   "execution_count": 66,
   "metadata": {
    "collapsed": false
   },
   "outputs": [
    {
     "data": {
      "text/html": [
       "<ol class=list-inline>\n",
       "\t<li>'pippo'</li>\n",
       "\t<li>'pluto'</li>\n",
       "</ol>\n"
      ],
      "text/latex": [
       "\\begin{enumerate*}\n",
       "\\item 'pippo'\n",
       "\\item 'pluto'\n",
       "\\end{enumerate*}\n"
      ],
      "text/markdown": [
       "1. 'pippo'\n",
       "2. 'pluto'\n",
       "\n",
       "\n"
      ],
      "text/plain": [
       "[1] \"pippo\" \"pluto\""
      ]
     },
     "metadata": {},
     "output_type": "display_data"
    }
   ],
   "source": [
    "strings"
   ]
  },
  {
   "cell_type": "markdown",
   "metadata": {},
   "source": [
    "Atomic vectors are always flat"
   ]
  },
  {
   "cell_type": "code",
   "execution_count": 67,
   "metadata": {
    "collapsed": false,
    "scrolled": true
   },
   "outputs": [
    {
     "data": {
      "text/html": [
       "<ol class=list-inline>\n",
       "\t<li>1</li>\n",
       "\t<li>2</li>\n",
       "\t<li>3</li>\n",
       "\t<li>4</li>\n",
       "</ol>\n"
      ],
      "text/latex": [
       "\\begin{enumerate*}\n",
       "\\item 1\n",
       "\\item 2\n",
       "\\item 3\n",
       "\\item 4\n",
       "\\end{enumerate*}\n"
      ],
      "text/markdown": [
       "1. 1\n",
       "2. 2\n",
       "3. 3\n",
       "4. 4\n",
       "\n",
       "\n"
      ],
      "text/plain": [
       "[1] 1 2 3 4"
      ]
     },
     "metadata": {},
     "output_type": "display_data"
    }
   ],
   "source": [
    "c(1,c(2, c(3,4)))"
   ]
  },
  {
   "cell_type": "code",
   "execution_count": 68,
   "metadata": {
    "collapsed": false
   },
   "outputs": [
    {
     "data": {
      "text/html": [
       "<ol class=list-inline>\n",
       "\t<li>0</li>\n",
       "\t<li>0</li>\n",
       "\t<li>0</li>\n",
       "\t<li>0</li>\n",
       "\t<li>0</li>\n",
       "\t<li>0</li>\n",
       "\t<li>0</li>\n",
       "\t<li>0</li>\n",
       "\t<li>0</li>\n",
       "\t<li>0</li>\n",
       "</ol>\n"
      ],
      "text/latex": [
       "\\begin{enumerate*}\n",
       "\\item 0\n",
       "\\item 0\n",
       "\\item 0\n",
       "\\item 0\n",
       "\\item 0\n",
       "\\item 0\n",
       "\\item 0\n",
       "\\item 0\n",
       "\\item 0\n",
       "\\item 0\n",
       "\\end{enumerate*}\n"
      ],
      "text/markdown": [
       "1. 0\n",
       "2. 0\n",
       "3. 0\n",
       "4. 0\n",
       "5. 0\n",
       "6. 0\n",
       "7. 0\n",
       "8. 0\n",
       "9. 0\n",
       "10. 0\n",
       "\n",
       "\n"
      ],
      "text/plain": [
       " [1] 0 0 0 0 0 0 0 0 0 0"
      ]
     },
     "metadata": {},
     "output_type": "display_data"
    }
   ],
   "source": [
    "v <- vector(10, mode=\"numeric\"); v #initializa a vector of numerics"
   ]
  },
  {
   "cell_type": "markdown",
   "metadata": {},
   "source": [
    "Vectors can be created via ad'hoc buil-in functions. A very useful function is seq()"
   ]
  },
  {
   "cell_type": "code",
   "execution_count": 69,
   "metadata": {
    "collapsed": false
   },
   "outputs": [
    {
     "data": {
      "text/html": [
       "<ol class=list-inline>\n",
       "\t<li>1</li>\n",
       "\t<li>4</li>\n",
       "\t<li>7</li>\n",
       "\t<li>10</li>\n",
       "</ol>\n"
      ],
      "text/latex": [
       "\\begin{enumerate*}\n",
       "\\item 1\n",
       "\\item 4\n",
       "\\item 7\n",
       "\\item 10\n",
       "\\end{enumerate*}\n"
      ],
      "text/markdown": [
       "1. 1\n",
       "2. 4\n",
       "3. 7\n",
       "4. 10\n",
       "\n",
       "\n"
      ],
      "text/plain": [
       "[1]  1  4  7 10"
      ]
     },
     "metadata": {},
     "output_type": "display_data"
    }
   ],
   "source": [
    "seq(from = 1, to = 10, by = 3)"
   ]
  },
  {
   "cell_type": "code",
   "execution_count": 70,
   "metadata": {
    "collapsed": false
   },
   "outputs": [
    {
     "data": {
      "text/html": [
       "<ol class=list-inline>\n",
       "\t<li>-1</li>\n",
       "\t<li>-0.99</li>\n",
       "\t<li>-0.98</li>\n",
       "\t<li>-0.97</li>\n",
       "\t<li>-0.96</li>\n",
       "\t<li>-0.95</li>\n",
       "\t<li>-0.94</li>\n",
       "\t<li>-0.93</li>\n",
       "\t<li>-0.92</li>\n",
       "\t<li>-0.91</li>\n",
       "\t<li>-0.9</li>\n",
       "\t<li>-0.89</li>\n",
       "\t<li>-0.88</li>\n",
       "\t<li>-0.87</li>\n",
       "\t<li>-0.86</li>\n",
       "\t<li>-0.85</li>\n",
       "\t<li>-0.84</li>\n",
       "\t<li>-0.83</li>\n",
       "\t<li>-0.82</li>\n",
       "\t<li>-0.81</li>\n",
       "\t<li>-0.8</li>\n",
       "\t<li>-0.79</li>\n",
       "\t<li>-0.78</li>\n",
       "\t<li>-0.77</li>\n",
       "\t<li>-0.76</li>\n",
       "\t<li>-0.75</li>\n",
       "\t<li>-0.74</li>\n",
       "\t<li>-0.73</li>\n",
       "\t<li>-0.72</li>\n",
       "\t<li>-0.71</li>\n",
       "\t<li>-0.7</li>\n",
       "\t<li>-0.69</li>\n",
       "\t<li>-0.68</li>\n",
       "\t<li>-0.67</li>\n",
       "\t<li>-0.66</li>\n",
       "\t<li>-0.65</li>\n",
       "\t<li>-0.64</li>\n",
       "\t<li>-0.63</li>\n",
       "\t<li>-0.62</li>\n",
       "\t<li>-0.61</li>\n",
       "\t<li>-0.6</li>\n",
       "\t<li>-0.59</li>\n",
       "\t<li>-0.58</li>\n",
       "\t<li>-0.57</li>\n",
       "\t<li>-0.56</li>\n",
       "\t<li>-0.55</li>\n",
       "\t<li>-0.54</li>\n",
       "\t<li>-0.53</li>\n",
       "\t<li>-0.52</li>\n",
       "\t<li>-0.51</li>\n",
       "\t<li>-0.5</li>\n",
       "\t<li>-0.49</li>\n",
       "\t<li>-0.48</li>\n",
       "\t<li>-0.47</li>\n",
       "\t<li>-0.46</li>\n",
       "\t<li>-0.45</li>\n",
       "\t<li>-0.44</li>\n",
       "\t<li>-0.43</li>\n",
       "\t<li>-0.42</li>\n",
       "\t<li>-0.41</li>\n",
       "\t<li>-0.4</li>\n",
       "\t<li>-0.39</li>\n",
       "\t<li>-0.38</li>\n",
       "\t<li>-0.37</li>\n",
       "\t<li>-0.36</li>\n",
       "\t<li>-0.35</li>\n",
       "\t<li>-0.34</li>\n",
       "\t<li>-0.33</li>\n",
       "\t<li>-0.32</li>\n",
       "\t<li>-0.31</li>\n",
       "\t<li>-0.3</li>\n",
       "\t<li>-0.29</li>\n",
       "\t<li>-0.28</li>\n",
       "\t<li>-0.27</li>\n",
       "\t<li>-0.26</li>\n",
       "\t<li>-0.25</li>\n",
       "\t<li>-0.24</li>\n",
       "\t<li>-0.23</li>\n",
       "\t<li>-0.22</li>\n",
       "\t<li>-0.21</li>\n",
       "\t<li>-0.2</li>\n",
       "\t<li>-0.19</li>\n",
       "\t<li>-0.18</li>\n",
       "\t<li>-0.17</li>\n",
       "\t<li>-0.16</li>\n",
       "\t<li>-0.15</li>\n",
       "\t<li>-0.14</li>\n",
       "\t<li>-0.13</li>\n",
       "\t<li>-0.12</li>\n",
       "\t<li>-0.11</li>\n",
       "\t<li>-0.1</li>\n",
       "\t<li>-0.09</li>\n",
       "\t<li>-0.08</li>\n",
       "\t<li>-0.07</li>\n",
       "\t<li>-0.0599999999999999</li>\n",
       "\t<li>-0.0499999999999999</li>\n",
       "\t<li>-0.04</li>\n",
       "\t<li>-0.03</li>\n",
       "\t<li>-0.02</li>\n",
       "\t<li>-0.01</li>\n",
       "\t<li>0</li>\n",
       "\t<li>0.01</li>\n",
       "\t<li>0.02</li>\n",
       "\t<li>0.03</li>\n",
       "\t<li>0.04</li>\n",
       "\t<li>0.05</li>\n",
       "\t<li>0.0600000000000001</li>\n",
       "\t<li>0.0700000000000001</li>\n",
       "\t<li>0.0800000000000001</li>\n",
       "\t<li>0.0900000000000001</li>\n",
       "\t<li>0.1</li>\n",
       "\t<li>0.11</li>\n",
       "\t<li>0.12</li>\n",
       "\t<li>0.13</li>\n",
       "\t<li>0.14</li>\n",
       "\t<li>0.15</li>\n",
       "\t<li>0.16</li>\n",
       "\t<li>0.17</li>\n",
       "\t<li>0.18</li>\n",
       "\t<li>0.19</li>\n",
       "\t<li>0.2</li>\n",
       "\t<li>0.21</li>\n",
       "\t<li>0.22</li>\n",
       "\t<li>0.23</li>\n",
       "\t<li>0.24</li>\n",
       "\t<li>0.25</li>\n",
       "\t<li>0.26</li>\n",
       "\t<li>0.27</li>\n",
       "\t<li>0.28</li>\n",
       "\t<li>0.29</li>\n",
       "\t<li>0.3</li>\n",
       "\t<li>0.31</li>\n",
       "\t<li>0.32</li>\n",
       "\t<li>0.33</li>\n",
       "\t<li>0.34</li>\n",
       "\t<li>0.35</li>\n",
       "\t<li>0.36</li>\n",
       "\t<li>0.37</li>\n",
       "\t<li>0.38</li>\n",
       "\t<li>0.39</li>\n",
       "\t<li>0.4</li>\n",
       "\t<li>0.41</li>\n",
       "\t<li>0.42</li>\n",
       "\t<li>0.43</li>\n",
       "\t<li>0.44</li>\n",
       "\t<li>0.45</li>\n",
       "\t<li>0.46</li>\n",
       "\t<li>0.47</li>\n",
       "\t<li>0.48</li>\n",
       "\t<li>0.49</li>\n",
       "\t<li>0.5</li>\n",
       "\t<li>0.51</li>\n",
       "\t<li>0.52</li>\n",
       "\t<li>0.53</li>\n",
       "\t<li>0.54</li>\n",
       "\t<li>0.55</li>\n",
       "\t<li>0.56</li>\n",
       "\t<li>0.57</li>\n",
       "\t<li>0.58</li>\n",
       "\t<li>0.59</li>\n",
       "\t<li>0.6</li>\n",
       "\t<li>0.61</li>\n",
       "\t<li>0.62</li>\n",
       "\t<li>0.63</li>\n",
       "\t<li>0.64</li>\n",
       "\t<li>0.65</li>\n",
       "\t<li>0.66</li>\n",
       "\t<li>0.67</li>\n",
       "\t<li>0.68</li>\n",
       "\t<li>0.69</li>\n",
       "\t<li>0.7</li>\n",
       "\t<li>0.71</li>\n",
       "\t<li>0.72</li>\n",
       "\t<li>0.73</li>\n",
       "\t<li>0.74</li>\n",
       "\t<li>0.75</li>\n",
       "\t<li>0.76</li>\n",
       "\t<li>0.77</li>\n",
       "\t<li>0.78</li>\n",
       "\t<li>0.79</li>\n",
       "\t<li>0.8</li>\n",
       "\t<li>0.81</li>\n",
       "\t<li>0.82</li>\n",
       "\t<li>0.83</li>\n",
       "\t<li>0.84</li>\n",
       "\t<li>0.85</li>\n",
       "\t<li>0.86</li>\n",
       "\t<li>0.87</li>\n",
       "\t<li>0.88</li>\n",
       "\t<li>0.89</li>\n",
       "\t<li>0.9</li>\n",
       "\t<li>0.91</li>\n",
       "\t<li>0.92</li>\n",
       "\t<li>0.93</li>\n",
       "\t<li>0.94</li>\n",
       "\t<li>0.95</li>\n",
       "\t<li>0.96</li>\n",
       "\t<li>0.97</li>\n",
       "\t<li>0.98</li>\n",
       "\t<li>0.99</li>\n",
       "\t<li>1</li>\n",
       "</ol>\n"
      ],
      "text/latex": [
       "\\begin{enumerate*}\n",
       "\\item -1\n",
       "\\item -0.99\n",
       "\\item -0.98\n",
       "\\item -0.97\n",
       "\\item -0.96\n",
       "\\item -0.95\n",
       "\\item -0.94\n",
       "\\item -0.93\n",
       "\\item -0.92\n",
       "\\item -0.91\n",
       "\\item -0.9\n",
       "\\item -0.89\n",
       "\\item -0.88\n",
       "\\item -0.87\n",
       "\\item -0.86\n",
       "\\item -0.85\n",
       "\\item -0.84\n",
       "\\item -0.83\n",
       "\\item -0.82\n",
       "\\item -0.81\n",
       "\\item -0.8\n",
       "\\item -0.79\n",
       "\\item -0.78\n",
       "\\item -0.77\n",
       "\\item -0.76\n",
       "\\item -0.75\n",
       "\\item -0.74\n",
       "\\item -0.73\n",
       "\\item -0.72\n",
       "\\item -0.71\n",
       "\\item -0.7\n",
       "\\item -0.69\n",
       "\\item -0.68\n",
       "\\item -0.67\n",
       "\\item -0.66\n",
       "\\item -0.65\n",
       "\\item -0.64\n",
       "\\item -0.63\n",
       "\\item -0.62\n",
       "\\item -0.61\n",
       "\\item -0.6\n",
       "\\item -0.59\n",
       "\\item -0.58\n",
       "\\item -0.57\n",
       "\\item -0.56\n",
       "\\item -0.55\n",
       "\\item -0.54\n",
       "\\item -0.53\n",
       "\\item -0.52\n",
       "\\item -0.51\n",
       "\\item -0.5\n",
       "\\item -0.49\n",
       "\\item -0.48\n",
       "\\item -0.47\n",
       "\\item -0.46\n",
       "\\item -0.45\n",
       "\\item -0.44\n",
       "\\item -0.43\n",
       "\\item -0.42\n",
       "\\item -0.41\n",
       "\\item -0.4\n",
       "\\item -0.39\n",
       "\\item -0.38\n",
       "\\item -0.37\n",
       "\\item -0.36\n",
       "\\item -0.35\n",
       "\\item -0.34\n",
       "\\item -0.33\n",
       "\\item -0.32\n",
       "\\item -0.31\n",
       "\\item -0.3\n",
       "\\item -0.29\n",
       "\\item -0.28\n",
       "\\item -0.27\n",
       "\\item -0.26\n",
       "\\item -0.25\n",
       "\\item -0.24\n",
       "\\item -0.23\n",
       "\\item -0.22\n",
       "\\item -0.21\n",
       "\\item -0.2\n",
       "\\item -0.19\n",
       "\\item -0.18\n",
       "\\item -0.17\n",
       "\\item -0.16\n",
       "\\item -0.15\n",
       "\\item -0.14\n",
       "\\item -0.13\n",
       "\\item -0.12\n",
       "\\item -0.11\n",
       "\\item -0.1\n",
       "\\item -0.09\n",
       "\\item -0.08\n",
       "\\item -0.07\n",
       "\\item -0.0599999999999999\n",
       "\\item -0.0499999999999999\n",
       "\\item -0.04\n",
       "\\item -0.03\n",
       "\\item -0.02\n",
       "\\item -0.01\n",
       "\\item 0\n",
       "\\item 0.01\n",
       "\\item 0.02\n",
       "\\item 0.03\n",
       "\\item 0.04\n",
       "\\item 0.05\n",
       "\\item 0.0600000000000001\n",
       "\\item 0.0700000000000001\n",
       "\\item 0.0800000000000001\n",
       "\\item 0.0900000000000001\n",
       "\\item 0.1\n",
       "\\item 0.11\n",
       "\\item 0.12\n",
       "\\item 0.13\n",
       "\\item 0.14\n",
       "\\item 0.15\n",
       "\\item 0.16\n",
       "\\item 0.17\n",
       "\\item 0.18\n",
       "\\item 0.19\n",
       "\\item 0.2\n",
       "\\item 0.21\n",
       "\\item 0.22\n",
       "\\item 0.23\n",
       "\\item 0.24\n",
       "\\item 0.25\n",
       "\\item 0.26\n",
       "\\item 0.27\n",
       "\\item 0.28\n",
       "\\item 0.29\n",
       "\\item 0.3\n",
       "\\item 0.31\n",
       "\\item 0.32\n",
       "\\item 0.33\n",
       "\\item 0.34\n",
       "\\item 0.35\n",
       "\\item 0.36\n",
       "\\item 0.37\n",
       "\\item 0.38\n",
       "\\item 0.39\n",
       "\\item 0.4\n",
       "\\item 0.41\n",
       "\\item 0.42\n",
       "\\item 0.43\n",
       "\\item 0.44\n",
       "\\item 0.45\n",
       "\\item 0.46\n",
       "\\item 0.47\n",
       "\\item 0.48\n",
       "\\item 0.49\n",
       "\\item 0.5\n",
       "\\item 0.51\n",
       "\\item 0.52\n",
       "\\item 0.53\n",
       "\\item 0.54\n",
       "\\item 0.55\n",
       "\\item 0.56\n",
       "\\item 0.57\n",
       "\\item 0.58\n",
       "\\item 0.59\n",
       "\\item 0.6\n",
       "\\item 0.61\n",
       "\\item 0.62\n",
       "\\item 0.63\n",
       "\\item 0.64\n",
       "\\item 0.65\n",
       "\\item 0.66\n",
       "\\item 0.67\n",
       "\\item 0.68\n",
       "\\item 0.69\n",
       "\\item 0.7\n",
       "\\item 0.71\n",
       "\\item 0.72\n",
       "\\item 0.73\n",
       "\\item 0.74\n",
       "\\item 0.75\n",
       "\\item 0.76\n",
       "\\item 0.77\n",
       "\\item 0.78\n",
       "\\item 0.79\n",
       "\\item 0.8\n",
       "\\item 0.81\n",
       "\\item 0.82\n",
       "\\item 0.83\n",
       "\\item 0.84\n",
       "\\item 0.85\n",
       "\\item 0.86\n",
       "\\item 0.87\n",
       "\\item 0.88\n",
       "\\item 0.89\n",
       "\\item 0.9\n",
       "\\item 0.91\n",
       "\\item 0.92\n",
       "\\item 0.93\n",
       "\\item 0.94\n",
       "\\item 0.95\n",
       "\\item 0.96\n",
       "\\item 0.97\n",
       "\\item 0.98\n",
       "\\item 0.99\n",
       "\\item 1\n",
       "\\end{enumerate*}\n"
      ],
      "text/markdown": [
       "1. -1\n",
       "2. -0.99\n",
       "3. -0.98\n",
       "4. -0.97\n",
       "5. -0.96\n",
       "6. -0.95\n",
       "7. -0.94\n",
       "8. -0.93\n",
       "9. -0.92\n",
       "10. -0.91\n",
       "11. -0.9\n",
       "12. -0.89\n",
       "13. -0.88\n",
       "14. -0.87\n",
       "15. -0.86\n",
       "16. -0.85\n",
       "17. -0.84\n",
       "18. -0.83\n",
       "19. -0.82\n",
       "20. -0.81\n",
       "21. -0.8\n",
       "22. -0.79\n",
       "23. -0.78\n",
       "24. -0.77\n",
       "25. -0.76\n",
       "26. -0.75\n",
       "27. -0.74\n",
       "28. -0.73\n",
       "29. -0.72\n",
       "30. -0.71\n",
       "31. -0.7\n",
       "32. -0.69\n",
       "33. -0.68\n",
       "34. -0.67\n",
       "35. -0.66\n",
       "36. -0.65\n",
       "37. -0.64\n",
       "38. -0.63\n",
       "39. -0.62\n",
       "40. -0.61\n",
       "41. -0.6\n",
       "42. -0.59\n",
       "43. -0.58\n",
       "44. -0.57\n",
       "45. -0.56\n",
       "46. -0.55\n",
       "47. -0.54\n",
       "48. -0.53\n",
       "49. -0.52\n",
       "50. -0.51\n",
       "51. -0.5\n",
       "52. -0.49\n",
       "53. -0.48\n",
       "54. -0.47\n",
       "55. -0.46\n",
       "56. -0.45\n",
       "57. -0.44\n",
       "58. -0.43\n",
       "59. -0.42\n",
       "60. -0.41\n",
       "61. -0.4\n",
       "62. -0.39\n",
       "63. -0.38\n",
       "64. -0.37\n",
       "65. -0.36\n",
       "66. -0.35\n",
       "67. -0.34\n",
       "68. -0.33\n",
       "69. -0.32\n",
       "70. -0.31\n",
       "71. -0.3\n",
       "72. -0.29\n",
       "73. -0.28\n",
       "74. -0.27\n",
       "75. -0.26\n",
       "76. -0.25\n",
       "77. -0.24\n",
       "78. -0.23\n",
       "79. -0.22\n",
       "80. -0.21\n",
       "81. -0.2\n",
       "82. -0.19\n",
       "83. -0.18\n",
       "84. -0.17\n",
       "85. -0.16\n",
       "86. -0.15\n",
       "87. -0.14\n",
       "88. -0.13\n",
       "89. -0.12\n",
       "90. -0.11\n",
       "91. -0.1\n",
       "92. -0.09\n",
       "93. -0.08\n",
       "94. -0.07\n",
       "95. -0.0599999999999999\n",
       "96. -0.0499999999999999\n",
       "97. -0.04\n",
       "98. -0.03\n",
       "99. -0.02\n",
       "100. -0.01\n",
       "101. 0\n",
       "102. 0.01\n",
       "103. 0.02\n",
       "104. 0.03\n",
       "105. 0.04\n",
       "106. 0.05\n",
       "107. 0.0600000000000001\n",
       "108. 0.0700000000000001\n",
       "109. 0.0800000000000001\n",
       "110. 0.0900000000000001\n",
       "111. 0.1\n",
       "112. 0.11\n",
       "113. 0.12\n",
       "114. 0.13\n",
       "115. 0.14\n",
       "116. 0.15\n",
       "117. 0.16\n",
       "118. 0.17\n",
       "119. 0.18\n",
       "120. 0.19\n",
       "121. 0.2\n",
       "122. 0.21\n",
       "123. 0.22\n",
       "124. 0.23\n",
       "125. 0.24\n",
       "126. 0.25\n",
       "127. 0.26\n",
       "128. 0.27\n",
       "129. 0.28\n",
       "130. 0.29\n",
       "131. 0.3\n",
       "132. 0.31\n",
       "133. 0.32\n",
       "134. 0.33\n",
       "135. 0.34\n",
       "136. 0.35\n",
       "137. 0.36\n",
       "138. 0.37\n",
       "139. 0.38\n",
       "140. 0.39\n",
       "141. 0.4\n",
       "142. 0.41\n",
       "143. 0.42\n",
       "144. 0.43\n",
       "145. 0.44\n",
       "146. 0.45\n",
       "147. 0.46\n",
       "148. 0.47\n",
       "149. 0.48\n",
       "150. 0.49\n",
       "151. 0.5\n",
       "152. 0.51\n",
       "153. 0.52\n",
       "154. 0.53\n",
       "155. 0.54\n",
       "156. 0.55\n",
       "157. 0.56\n",
       "158. 0.57\n",
       "159. 0.58\n",
       "160. 0.59\n",
       "161. 0.6\n",
       "162. 0.61\n",
       "163. 0.62\n",
       "164. 0.63\n",
       "165. 0.64\n",
       "166. 0.65\n",
       "167. 0.66\n",
       "168. 0.67\n",
       "169. 0.68\n",
       "170. 0.69\n",
       "171. 0.7\n",
       "172. 0.71\n",
       "173. 0.72\n",
       "174. 0.73\n",
       "175. 0.74\n",
       "176. 0.75\n",
       "177. 0.76\n",
       "178. 0.77\n",
       "179. 0.78\n",
       "180. 0.79\n",
       "181. 0.8\n",
       "182. 0.81\n",
       "183. 0.82\n",
       "184. 0.83\n",
       "185. 0.84\n",
       "186. 0.85\n",
       "187. 0.86\n",
       "188. 0.87\n",
       "189. 0.88\n",
       "190. 0.89\n",
       "191. 0.9\n",
       "192. 0.91\n",
       "193. 0.92\n",
       "194. 0.93\n",
       "195. 0.94\n",
       "196. 0.95\n",
       "197. 0.96\n",
       "198. 0.97\n",
       "199. 0.98\n",
       "200. 0.99\n",
       "201. 1\n",
       "\n",
       "\n"
      ],
      "text/plain": [
       "  [1] -1.00 -0.99 -0.98 -0.97 -0.96 -0.95 -0.94 -0.93 -0.92 -0.91 -0.90 -0.89\n",
       " [13] -0.88 -0.87 -0.86 -0.85 -0.84 -0.83 -0.82 -0.81 -0.80 -0.79 -0.78 -0.77\n",
       " [25] -0.76 -0.75 -0.74 -0.73 -0.72 -0.71 -0.70 -0.69 -0.68 -0.67 -0.66 -0.65\n",
       " [37] -0.64 -0.63 -0.62 -0.61 -0.60 -0.59 -0.58 -0.57 -0.56 -0.55 -0.54 -0.53\n",
       " [49] -0.52 -0.51 -0.50 -0.49 -0.48 -0.47 -0.46 -0.45 -0.44 -0.43 -0.42 -0.41\n",
       " [61] -0.40 -0.39 -0.38 -0.37 -0.36 -0.35 -0.34 -0.33 -0.32 -0.31 -0.30 -0.29\n",
       " [73] -0.28 -0.27 -0.26 -0.25 -0.24 -0.23 -0.22 -0.21 -0.20 -0.19 -0.18 -0.17\n",
       " [85] -0.16 -0.15 -0.14 -0.13 -0.12 -0.11 -0.10 -0.09 -0.08 -0.07 -0.06 -0.05\n",
       " [97] -0.04 -0.03 -0.02 -0.01  0.00  0.01  0.02  0.03  0.04  0.05  0.06  0.07\n",
       "[109]  0.08  0.09  0.10  0.11  0.12  0.13  0.14  0.15  0.16  0.17  0.18  0.19\n",
       "[121]  0.20  0.21  0.22  0.23  0.24  0.25  0.26  0.27  0.28  0.29  0.30  0.31\n",
       "[133]  0.32  0.33  0.34  0.35  0.36  0.37  0.38  0.39  0.40  0.41  0.42  0.43\n",
       "[145]  0.44  0.45  0.46  0.47  0.48  0.49  0.50  0.51  0.52  0.53  0.54  0.55\n",
       "[157]  0.56  0.57  0.58  0.59  0.60  0.61  0.62  0.63  0.64  0.65  0.66  0.67\n",
       "[169]  0.68  0.69  0.70  0.71  0.72  0.73  0.74  0.75  0.76  0.77  0.78  0.79\n",
       "[181]  0.80  0.81  0.82  0.83  0.84  0.85  0.86  0.87  0.88  0.89  0.90  0.91\n",
       "[193]  0.92  0.93  0.94  0.95  0.96  0.97  0.98  0.99  1.00"
      ]
     },
     "metadata": {},
     "output_type": "display_data"
    }
   ],
   "source": [
    "v <- seq(-1,1,0.01)\n",
    "v"
   ]
  },
  {
   "cell_type": "markdown",
   "metadata": {},
   "source": [
    "Vector elements can be accessed in several ways"
   ]
  },
  {
   "cell_type": "code",
   "execution_count": 71,
   "metadata": {
    "collapsed": false
   },
   "outputs": [
    {
     "data": {
      "text/html": [
       "-1"
      ],
      "text/latex": [
       "-1"
      ],
      "text/markdown": [
       "-1"
      ],
      "text/plain": [
       "[1] -1"
      ]
     },
     "metadata": {},
     "output_type": "display_data"
    }
   ],
   "source": [
    "v[1]"
   ]
  },
  {
   "cell_type": "code",
   "execution_count": 72,
   "metadata": {
    "collapsed": false
   },
   "outputs": [
    {
     "data": {
      "text/html": [
       "<ol class=list-inline>\n",
       "\t<li>-1</li>\n",
       "\t<li>-0.99</li>\n",
       "\t<li>-0.98</li>\n",
       "</ol>\n"
      ],
      "text/latex": [
       "\\begin{enumerate*}\n",
       "\\item -1\n",
       "\\item -0.99\n",
       "\\item -0.98\n",
       "\\end{enumerate*}\n"
      ],
      "text/markdown": [
       "1. -1\n",
       "2. -0.99\n",
       "3. -0.98\n",
       "\n",
       "\n"
      ],
      "text/plain": [
       "[1] -1.00 -0.99 -0.98"
      ]
     },
     "metadata": {},
     "output_type": "display_data"
    }
   ],
   "source": [
    "v[1:3]"
   ]
  },
  {
   "cell_type": "code",
   "execution_count": 73,
   "metadata": {
    "collapsed": false
   },
   "outputs": [
    {
     "data": {
      "text/html": [
       "<ol class=list-inline>\n",
       "\t<li>-0.91</li>\n",
       "\t<li>-0.9</li>\n",
       "\t<li>-0.89</li>\n",
       "\t<li>-0.73</li>\n",
       "\t<li>-0.72</li>\n",
       "\t<li>-0.69</li>\n",
       "</ol>\n"
      ],
      "text/latex": [
       "\\begin{enumerate*}\n",
       "\\item -0.91\n",
       "\\item -0.9\n",
       "\\item -0.89\n",
       "\\item -0.73\n",
       "\\item -0.72\n",
       "\\item -0.69\n",
       "\\end{enumerate*}\n"
      ],
      "text/markdown": [
       "1. -0.91\n",
       "2. -0.9\n",
       "3. -0.89\n",
       "4. -0.73\n",
       "5. -0.72\n",
       "6. -0.69\n",
       "\n",
       "\n"
      ],
      "text/plain": [
       "[1] -0.91 -0.90 -0.89 -0.73 -0.72 -0.69"
      ]
     },
     "metadata": {},
     "output_type": "display_data"
    }
   ],
   "source": [
    "v[c(10:12,28:29,32)]"
   ]
  },
  {
   "cell_type": "markdown",
   "metadata": {},
   "source": [
    "**Be aware R doesn't work like Python**... If you type v[-1] you get the vector without the first elemnt and not the last element of the vector"
   ]
  },
  {
   "cell_type": "code",
   "execution_count": 74,
   "metadata": {
    "collapsed": false
   },
   "outputs": [
    {
     "data": {
      "text/html": [
       "<ol class=list-inline>\n",
       "\t<li>-0.99</li>\n",
       "\t<li>-0.98</li>\n",
       "\t<li>-0.97</li>\n",
       "\t<li>-0.96</li>\n",
       "\t<li>-0.95</li>\n",
       "\t<li>-0.94</li>\n",
       "\t<li>-0.93</li>\n",
       "\t<li>-0.92</li>\n",
       "\t<li>-0.91</li>\n",
       "\t<li>-0.9</li>\n",
       "\t<li>-0.89</li>\n",
       "\t<li>-0.88</li>\n",
       "\t<li>-0.87</li>\n",
       "\t<li>-0.86</li>\n",
       "\t<li>-0.85</li>\n",
       "\t<li>-0.84</li>\n",
       "\t<li>-0.83</li>\n",
       "\t<li>-0.82</li>\n",
       "\t<li>-0.81</li>\n",
       "\t<li>-0.8</li>\n",
       "\t<li>-0.79</li>\n",
       "\t<li>-0.78</li>\n",
       "\t<li>-0.77</li>\n",
       "\t<li>-0.76</li>\n",
       "\t<li>-0.75</li>\n",
       "\t<li>-0.74</li>\n",
       "\t<li>-0.73</li>\n",
       "\t<li>-0.72</li>\n",
       "\t<li>-0.71</li>\n",
       "\t<li>-0.7</li>\n",
       "\t<li>-0.69</li>\n",
       "\t<li>-0.68</li>\n",
       "\t<li>-0.67</li>\n",
       "\t<li>-0.66</li>\n",
       "\t<li>-0.65</li>\n",
       "\t<li>-0.64</li>\n",
       "\t<li>-0.63</li>\n",
       "\t<li>-0.62</li>\n",
       "\t<li>-0.61</li>\n",
       "\t<li>-0.6</li>\n",
       "\t<li>-0.59</li>\n",
       "\t<li>-0.58</li>\n",
       "\t<li>-0.57</li>\n",
       "\t<li>-0.56</li>\n",
       "\t<li>-0.55</li>\n",
       "\t<li>-0.54</li>\n",
       "\t<li>-0.53</li>\n",
       "\t<li>-0.52</li>\n",
       "\t<li>-0.51</li>\n",
       "\t<li>-0.5</li>\n",
       "\t<li>-0.49</li>\n",
       "\t<li>-0.48</li>\n",
       "\t<li>-0.47</li>\n",
       "\t<li>-0.46</li>\n",
       "\t<li>-0.45</li>\n",
       "\t<li>-0.44</li>\n",
       "\t<li>-0.43</li>\n",
       "\t<li>-0.42</li>\n",
       "\t<li>-0.41</li>\n",
       "\t<li>-0.4</li>\n",
       "\t<li>-0.39</li>\n",
       "\t<li>-0.38</li>\n",
       "\t<li>-0.37</li>\n",
       "\t<li>-0.36</li>\n",
       "\t<li>-0.35</li>\n",
       "\t<li>-0.34</li>\n",
       "\t<li>-0.33</li>\n",
       "\t<li>-0.32</li>\n",
       "\t<li>-0.31</li>\n",
       "\t<li>-0.3</li>\n",
       "\t<li>-0.29</li>\n",
       "\t<li>-0.28</li>\n",
       "\t<li>-0.27</li>\n",
       "\t<li>-0.26</li>\n",
       "\t<li>-0.25</li>\n",
       "\t<li>-0.24</li>\n",
       "\t<li>-0.23</li>\n",
       "\t<li>-0.22</li>\n",
       "\t<li>-0.21</li>\n",
       "\t<li>-0.2</li>\n",
       "\t<li>-0.19</li>\n",
       "\t<li>-0.18</li>\n",
       "\t<li>-0.17</li>\n",
       "\t<li>-0.16</li>\n",
       "\t<li>-0.15</li>\n",
       "\t<li>-0.14</li>\n",
       "\t<li>-0.13</li>\n",
       "\t<li>-0.12</li>\n",
       "\t<li>-0.11</li>\n",
       "\t<li>-0.1</li>\n",
       "\t<li>-0.09</li>\n",
       "\t<li>-0.08</li>\n",
       "\t<li>-0.07</li>\n",
       "\t<li>-0.0599999999999999</li>\n",
       "\t<li>-0.0499999999999999</li>\n",
       "\t<li>-0.04</li>\n",
       "\t<li>-0.03</li>\n",
       "\t<li>-0.02</li>\n",
       "\t<li>-0.01</li>\n",
       "\t<li>0</li>\n",
       "\t<li>0.01</li>\n",
       "\t<li>0.02</li>\n",
       "\t<li>0.03</li>\n",
       "\t<li>0.04</li>\n",
       "\t<li>0.05</li>\n",
       "\t<li>0.0600000000000001</li>\n",
       "\t<li>0.0700000000000001</li>\n",
       "\t<li>0.0800000000000001</li>\n",
       "\t<li>0.0900000000000001</li>\n",
       "\t<li>0.1</li>\n",
       "\t<li>0.11</li>\n",
       "\t<li>0.12</li>\n",
       "\t<li>0.13</li>\n",
       "\t<li>0.14</li>\n",
       "\t<li>0.15</li>\n",
       "\t<li>0.16</li>\n",
       "\t<li>0.17</li>\n",
       "\t<li>0.18</li>\n",
       "\t<li>0.19</li>\n",
       "\t<li>0.2</li>\n",
       "\t<li>0.21</li>\n",
       "\t<li>0.22</li>\n",
       "\t<li>0.23</li>\n",
       "\t<li>0.24</li>\n",
       "\t<li>0.25</li>\n",
       "\t<li>0.26</li>\n",
       "\t<li>0.27</li>\n",
       "\t<li>0.28</li>\n",
       "\t<li>0.29</li>\n",
       "\t<li>0.3</li>\n",
       "\t<li>0.31</li>\n",
       "\t<li>0.32</li>\n",
       "\t<li>0.33</li>\n",
       "\t<li>0.34</li>\n",
       "\t<li>0.35</li>\n",
       "\t<li>0.36</li>\n",
       "\t<li>0.37</li>\n",
       "\t<li>0.38</li>\n",
       "\t<li>0.39</li>\n",
       "\t<li>0.4</li>\n",
       "\t<li>0.41</li>\n",
       "\t<li>0.42</li>\n",
       "\t<li>0.43</li>\n",
       "\t<li>0.44</li>\n",
       "\t<li>0.45</li>\n",
       "\t<li>0.46</li>\n",
       "\t<li>0.47</li>\n",
       "\t<li>0.48</li>\n",
       "\t<li>0.49</li>\n",
       "\t<li>0.5</li>\n",
       "\t<li>0.51</li>\n",
       "\t<li>0.52</li>\n",
       "\t<li>0.53</li>\n",
       "\t<li>0.54</li>\n",
       "\t<li>0.55</li>\n",
       "\t<li>0.56</li>\n",
       "\t<li>0.57</li>\n",
       "\t<li>0.58</li>\n",
       "\t<li>0.59</li>\n",
       "\t<li>0.6</li>\n",
       "\t<li>0.61</li>\n",
       "\t<li>0.62</li>\n",
       "\t<li>0.63</li>\n",
       "\t<li>0.64</li>\n",
       "\t<li>0.65</li>\n",
       "\t<li>0.66</li>\n",
       "\t<li>0.67</li>\n",
       "\t<li>0.68</li>\n",
       "\t<li>0.69</li>\n",
       "\t<li>0.7</li>\n",
       "\t<li>0.71</li>\n",
       "\t<li>0.72</li>\n",
       "\t<li>0.73</li>\n",
       "\t<li>0.74</li>\n",
       "\t<li>0.75</li>\n",
       "\t<li>0.76</li>\n",
       "\t<li>0.77</li>\n",
       "\t<li>0.78</li>\n",
       "\t<li>0.79</li>\n",
       "\t<li>0.8</li>\n",
       "\t<li>0.81</li>\n",
       "\t<li>0.82</li>\n",
       "\t<li>0.83</li>\n",
       "\t<li>0.84</li>\n",
       "\t<li>0.85</li>\n",
       "\t<li>0.86</li>\n",
       "\t<li>0.87</li>\n",
       "\t<li>0.88</li>\n",
       "\t<li>0.89</li>\n",
       "\t<li>0.9</li>\n",
       "\t<li>0.91</li>\n",
       "\t<li>0.92</li>\n",
       "\t<li>0.93</li>\n",
       "\t<li>0.94</li>\n",
       "\t<li>0.95</li>\n",
       "\t<li>0.96</li>\n",
       "\t<li>0.97</li>\n",
       "\t<li>0.98</li>\n",
       "\t<li>0.99</li>\n",
       "\t<li>1</li>\n",
       "</ol>\n"
      ],
      "text/latex": [
       "\\begin{enumerate*}\n",
       "\\item -0.99\n",
       "\\item -0.98\n",
       "\\item -0.97\n",
       "\\item -0.96\n",
       "\\item -0.95\n",
       "\\item -0.94\n",
       "\\item -0.93\n",
       "\\item -0.92\n",
       "\\item -0.91\n",
       "\\item -0.9\n",
       "\\item -0.89\n",
       "\\item -0.88\n",
       "\\item -0.87\n",
       "\\item -0.86\n",
       "\\item -0.85\n",
       "\\item -0.84\n",
       "\\item -0.83\n",
       "\\item -0.82\n",
       "\\item -0.81\n",
       "\\item -0.8\n",
       "\\item -0.79\n",
       "\\item -0.78\n",
       "\\item -0.77\n",
       "\\item -0.76\n",
       "\\item -0.75\n",
       "\\item -0.74\n",
       "\\item -0.73\n",
       "\\item -0.72\n",
       "\\item -0.71\n",
       "\\item -0.7\n",
       "\\item -0.69\n",
       "\\item -0.68\n",
       "\\item -0.67\n",
       "\\item -0.66\n",
       "\\item -0.65\n",
       "\\item -0.64\n",
       "\\item -0.63\n",
       "\\item -0.62\n",
       "\\item -0.61\n",
       "\\item -0.6\n",
       "\\item -0.59\n",
       "\\item -0.58\n",
       "\\item -0.57\n",
       "\\item -0.56\n",
       "\\item -0.55\n",
       "\\item -0.54\n",
       "\\item -0.53\n",
       "\\item -0.52\n",
       "\\item -0.51\n",
       "\\item -0.5\n",
       "\\item -0.49\n",
       "\\item -0.48\n",
       "\\item -0.47\n",
       "\\item -0.46\n",
       "\\item -0.45\n",
       "\\item -0.44\n",
       "\\item -0.43\n",
       "\\item -0.42\n",
       "\\item -0.41\n",
       "\\item -0.4\n",
       "\\item -0.39\n",
       "\\item -0.38\n",
       "\\item -0.37\n",
       "\\item -0.36\n",
       "\\item -0.35\n",
       "\\item -0.34\n",
       "\\item -0.33\n",
       "\\item -0.32\n",
       "\\item -0.31\n",
       "\\item -0.3\n",
       "\\item -0.29\n",
       "\\item -0.28\n",
       "\\item -0.27\n",
       "\\item -0.26\n",
       "\\item -0.25\n",
       "\\item -0.24\n",
       "\\item -0.23\n",
       "\\item -0.22\n",
       "\\item -0.21\n",
       "\\item -0.2\n",
       "\\item -0.19\n",
       "\\item -0.18\n",
       "\\item -0.17\n",
       "\\item -0.16\n",
       "\\item -0.15\n",
       "\\item -0.14\n",
       "\\item -0.13\n",
       "\\item -0.12\n",
       "\\item -0.11\n",
       "\\item -0.1\n",
       "\\item -0.09\n",
       "\\item -0.08\n",
       "\\item -0.07\n",
       "\\item -0.0599999999999999\n",
       "\\item -0.0499999999999999\n",
       "\\item -0.04\n",
       "\\item -0.03\n",
       "\\item -0.02\n",
       "\\item -0.01\n",
       "\\item 0\n",
       "\\item 0.01\n",
       "\\item 0.02\n",
       "\\item 0.03\n",
       "\\item 0.04\n",
       "\\item 0.05\n",
       "\\item 0.0600000000000001\n",
       "\\item 0.0700000000000001\n",
       "\\item 0.0800000000000001\n",
       "\\item 0.0900000000000001\n",
       "\\item 0.1\n",
       "\\item 0.11\n",
       "\\item 0.12\n",
       "\\item 0.13\n",
       "\\item 0.14\n",
       "\\item 0.15\n",
       "\\item 0.16\n",
       "\\item 0.17\n",
       "\\item 0.18\n",
       "\\item 0.19\n",
       "\\item 0.2\n",
       "\\item 0.21\n",
       "\\item 0.22\n",
       "\\item 0.23\n",
       "\\item 0.24\n",
       "\\item 0.25\n",
       "\\item 0.26\n",
       "\\item 0.27\n",
       "\\item 0.28\n",
       "\\item 0.29\n",
       "\\item 0.3\n",
       "\\item 0.31\n",
       "\\item 0.32\n",
       "\\item 0.33\n",
       "\\item 0.34\n",
       "\\item 0.35\n",
       "\\item 0.36\n",
       "\\item 0.37\n",
       "\\item 0.38\n",
       "\\item 0.39\n",
       "\\item 0.4\n",
       "\\item 0.41\n",
       "\\item 0.42\n",
       "\\item 0.43\n",
       "\\item 0.44\n",
       "\\item 0.45\n",
       "\\item 0.46\n",
       "\\item 0.47\n",
       "\\item 0.48\n",
       "\\item 0.49\n",
       "\\item 0.5\n",
       "\\item 0.51\n",
       "\\item 0.52\n",
       "\\item 0.53\n",
       "\\item 0.54\n",
       "\\item 0.55\n",
       "\\item 0.56\n",
       "\\item 0.57\n",
       "\\item 0.58\n",
       "\\item 0.59\n",
       "\\item 0.6\n",
       "\\item 0.61\n",
       "\\item 0.62\n",
       "\\item 0.63\n",
       "\\item 0.64\n",
       "\\item 0.65\n",
       "\\item 0.66\n",
       "\\item 0.67\n",
       "\\item 0.68\n",
       "\\item 0.69\n",
       "\\item 0.7\n",
       "\\item 0.71\n",
       "\\item 0.72\n",
       "\\item 0.73\n",
       "\\item 0.74\n",
       "\\item 0.75\n",
       "\\item 0.76\n",
       "\\item 0.77\n",
       "\\item 0.78\n",
       "\\item 0.79\n",
       "\\item 0.8\n",
       "\\item 0.81\n",
       "\\item 0.82\n",
       "\\item 0.83\n",
       "\\item 0.84\n",
       "\\item 0.85\n",
       "\\item 0.86\n",
       "\\item 0.87\n",
       "\\item 0.88\n",
       "\\item 0.89\n",
       "\\item 0.9\n",
       "\\item 0.91\n",
       "\\item 0.92\n",
       "\\item 0.93\n",
       "\\item 0.94\n",
       "\\item 0.95\n",
       "\\item 0.96\n",
       "\\item 0.97\n",
       "\\item 0.98\n",
       "\\item 0.99\n",
       "\\item 1\n",
       "\\end{enumerate*}\n"
      ],
      "text/markdown": [
       "1. -0.99\n",
       "2. -0.98\n",
       "3. -0.97\n",
       "4. -0.96\n",
       "5. -0.95\n",
       "6. -0.94\n",
       "7. -0.93\n",
       "8. -0.92\n",
       "9. -0.91\n",
       "10. -0.9\n",
       "11. -0.89\n",
       "12. -0.88\n",
       "13. -0.87\n",
       "14. -0.86\n",
       "15. -0.85\n",
       "16. -0.84\n",
       "17. -0.83\n",
       "18. -0.82\n",
       "19. -0.81\n",
       "20. -0.8\n",
       "21. -0.79\n",
       "22. -0.78\n",
       "23. -0.77\n",
       "24. -0.76\n",
       "25. -0.75\n",
       "26. -0.74\n",
       "27. -0.73\n",
       "28. -0.72\n",
       "29. -0.71\n",
       "30. -0.7\n",
       "31. -0.69\n",
       "32. -0.68\n",
       "33. -0.67\n",
       "34. -0.66\n",
       "35. -0.65\n",
       "36. -0.64\n",
       "37. -0.63\n",
       "38. -0.62\n",
       "39. -0.61\n",
       "40. -0.6\n",
       "41. -0.59\n",
       "42. -0.58\n",
       "43. -0.57\n",
       "44. -0.56\n",
       "45. -0.55\n",
       "46. -0.54\n",
       "47. -0.53\n",
       "48. -0.52\n",
       "49. -0.51\n",
       "50. -0.5\n",
       "51. -0.49\n",
       "52. -0.48\n",
       "53. -0.47\n",
       "54. -0.46\n",
       "55. -0.45\n",
       "56. -0.44\n",
       "57. -0.43\n",
       "58. -0.42\n",
       "59. -0.41\n",
       "60. -0.4\n",
       "61. -0.39\n",
       "62. -0.38\n",
       "63. -0.37\n",
       "64. -0.36\n",
       "65. -0.35\n",
       "66. -0.34\n",
       "67. -0.33\n",
       "68. -0.32\n",
       "69. -0.31\n",
       "70. -0.3\n",
       "71. -0.29\n",
       "72. -0.28\n",
       "73. -0.27\n",
       "74. -0.26\n",
       "75. -0.25\n",
       "76. -0.24\n",
       "77. -0.23\n",
       "78. -0.22\n",
       "79. -0.21\n",
       "80. -0.2\n",
       "81. -0.19\n",
       "82. -0.18\n",
       "83. -0.17\n",
       "84. -0.16\n",
       "85. -0.15\n",
       "86. -0.14\n",
       "87. -0.13\n",
       "88. -0.12\n",
       "89. -0.11\n",
       "90. -0.1\n",
       "91. -0.09\n",
       "92. -0.08\n",
       "93. -0.07\n",
       "94. -0.0599999999999999\n",
       "95. -0.0499999999999999\n",
       "96. -0.04\n",
       "97. -0.03\n",
       "98. -0.02\n",
       "99. -0.01\n",
       "100. 0\n",
       "101. 0.01\n",
       "102. 0.02\n",
       "103. 0.03\n",
       "104. 0.04\n",
       "105. 0.05\n",
       "106. 0.0600000000000001\n",
       "107. 0.0700000000000001\n",
       "108. 0.0800000000000001\n",
       "109. 0.0900000000000001\n",
       "110. 0.1\n",
       "111. 0.11\n",
       "112. 0.12\n",
       "113. 0.13\n",
       "114. 0.14\n",
       "115. 0.15\n",
       "116. 0.16\n",
       "117. 0.17\n",
       "118. 0.18\n",
       "119. 0.19\n",
       "120. 0.2\n",
       "121. 0.21\n",
       "122. 0.22\n",
       "123. 0.23\n",
       "124. 0.24\n",
       "125. 0.25\n",
       "126. 0.26\n",
       "127. 0.27\n",
       "128. 0.28\n",
       "129. 0.29\n",
       "130. 0.3\n",
       "131. 0.31\n",
       "132. 0.32\n",
       "133. 0.33\n",
       "134. 0.34\n",
       "135. 0.35\n",
       "136. 0.36\n",
       "137. 0.37\n",
       "138. 0.38\n",
       "139. 0.39\n",
       "140. 0.4\n",
       "141. 0.41\n",
       "142. 0.42\n",
       "143. 0.43\n",
       "144. 0.44\n",
       "145. 0.45\n",
       "146. 0.46\n",
       "147. 0.47\n",
       "148. 0.48\n",
       "149. 0.49\n",
       "150. 0.5\n",
       "151. 0.51\n",
       "152. 0.52\n",
       "153. 0.53\n",
       "154. 0.54\n",
       "155. 0.55\n",
       "156. 0.56\n",
       "157. 0.57\n",
       "158. 0.58\n",
       "159. 0.59\n",
       "160. 0.6\n",
       "161. 0.61\n",
       "162. 0.62\n",
       "163. 0.63\n",
       "164. 0.64\n",
       "165. 0.65\n",
       "166. 0.66\n",
       "167. 0.67\n",
       "168. 0.68\n",
       "169. 0.69\n",
       "170. 0.7\n",
       "171. 0.71\n",
       "172. 0.72\n",
       "173. 0.73\n",
       "174. 0.74\n",
       "175. 0.75\n",
       "176. 0.76\n",
       "177. 0.77\n",
       "178. 0.78\n",
       "179. 0.79\n",
       "180. 0.8\n",
       "181. 0.81\n",
       "182. 0.82\n",
       "183. 0.83\n",
       "184. 0.84\n",
       "185. 0.85\n",
       "186. 0.86\n",
       "187. 0.87\n",
       "188. 0.88\n",
       "189. 0.89\n",
       "190. 0.9\n",
       "191. 0.91\n",
       "192. 0.92\n",
       "193. 0.93\n",
       "194. 0.94\n",
       "195. 0.95\n",
       "196. 0.96\n",
       "197. 0.97\n",
       "198. 0.98\n",
       "199. 0.99\n",
       "200. 1\n",
       "\n",
       "\n"
      ],
      "text/plain": [
       "  [1] -0.99 -0.98 -0.97 -0.96 -0.95 -0.94 -0.93 -0.92 -0.91 -0.90 -0.89 -0.88\n",
       " [13] -0.87 -0.86 -0.85 -0.84 -0.83 -0.82 -0.81 -0.80 -0.79 -0.78 -0.77 -0.76\n",
       " [25] -0.75 -0.74 -0.73 -0.72 -0.71 -0.70 -0.69 -0.68 -0.67 -0.66 -0.65 -0.64\n",
       " [37] -0.63 -0.62 -0.61 -0.60 -0.59 -0.58 -0.57 -0.56 -0.55 -0.54 -0.53 -0.52\n",
       " [49] -0.51 -0.50 -0.49 -0.48 -0.47 -0.46 -0.45 -0.44 -0.43 -0.42 -0.41 -0.40\n",
       " [61] -0.39 -0.38 -0.37 -0.36 -0.35 -0.34 -0.33 -0.32 -0.31 -0.30 -0.29 -0.28\n",
       " [73] -0.27 -0.26 -0.25 -0.24 -0.23 -0.22 -0.21 -0.20 -0.19 -0.18 -0.17 -0.16\n",
       " [85] -0.15 -0.14 -0.13 -0.12 -0.11 -0.10 -0.09 -0.08 -0.07 -0.06 -0.05 -0.04\n",
       " [97] -0.03 -0.02 -0.01  0.00  0.01  0.02  0.03  0.04  0.05  0.06  0.07  0.08\n",
       "[109]  0.09  0.10  0.11  0.12  0.13  0.14  0.15  0.16  0.17  0.18  0.19  0.20\n",
       "[121]  0.21  0.22  0.23  0.24  0.25  0.26  0.27  0.28  0.29  0.30  0.31  0.32\n",
       "[133]  0.33  0.34  0.35  0.36  0.37  0.38  0.39  0.40  0.41  0.42  0.43  0.44\n",
       "[145]  0.45  0.46  0.47  0.48  0.49  0.50  0.51  0.52  0.53  0.54  0.55  0.56\n",
       "[157]  0.57  0.58  0.59  0.60  0.61  0.62  0.63  0.64  0.65  0.66  0.67  0.68\n",
       "[169]  0.69  0.70  0.71  0.72  0.73  0.74  0.75  0.76  0.77  0.78  0.79  0.80\n",
       "[181]  0.81  0.82  0.83  0.84  0.85  0.86  0.87  0.88  0.89  0.90  0.91  0.92\n",
       "[193]  0.93  0.94  0.95  0.96  0.97  0.98  0.99  1.00"
      ]
     },
     "metadata": {},
     "output_type": "display_data"
    }
   ],
   "source": [
    "v[-1]"
   ]
  },
  {
   "cell_type": "markdown",
   "metadata": {},
   "source": [
    "Here are some useful built-in functions you can apply to a vector"
   ]
  },
  {
   "cell_type": "code",
   "execution_count": 75,
   "metadata": {
    "collapsed": false
   },
   "outputs": [
    {
     "data": {
      "text/html": [
       "201"
      ],
      "text/latex": [
       "201"
      ],
      "text/markdown": [
       "201"
      ],
      "text/plain": [
       "[1] 201"
      ]
     },
     "metadata": {},
     "output_type": "display_data"
    },
    {
     "data": {
      "text/html": [
       "-1"
      ],
      "text/latex": [
       "-1"
      ],
      "text/markdown": [
       "-1"
      ],
      "text/plain": [
       "[1] -1"
      ]
     },
     "metadata": {},
     "output_type": "display_data"
    },
    {
     "data": {
      "text/html": [
       "1"
      ],
      "text/latex": [
       "1"
      ],
      "text/markdown": [
       "1"
      ],
      "text/plain": [
       "[1] 1"
      ]
     },
     "metadata": {},
     "output_type": "display_data"
    },
    {
     "data": {
      "text/html": [
       "4.10782519111308e-15"
      ],
      "text/latex": [
       "4.10782519111308e-15"
      ],
      "text/markdown": [
       "4.10782519111308e-15"
      ],
      "text/plain": [
       "[1] 4.107825e-15"
      ]
     },
     "metadata": {},
     "output_type": "display_data"
    },
    {
     "data": {
      "text/html": [
       "0"
      ],
      "text/latex": [
       "0"
      ],
      "text/markdown": [
       "0"
      ],
      "text/plain": [
       "[1] 0"
      ]
     },
     "metadata": {},
     "output_type": "display_data"
    },
    {
     "data": {
      "text/html": [
       "<ol class=list-inline>\n",
       "\t<li>-1</li>\n",
       "\t<li>-0.99</li>\n",
       "\t<li>-0.98</li>\n",
       "\t<li>-0.97</li>\n",
       "\t<li>-0.96</li>\n",
       "\t<li>-0.95</li>\n",
       "\t<li>-0.94</li>\n",
       "\t<li>-0.93</li>\n",
       "\t<li>-0.92</li>\n",
       "\t<li>-0.91</li>\n",
       "\t<li>-0.9</li>\n",
       "\t<li>-0.89</li>\n",
       "\t<li>-0.88</li>\n",
       "\t<li>-0.87</li>\n",
       "\t<li>-0.86</li>\n",
       "\t<li>-0.85</li>\n",
       "\t<li>-0.84</li>\n",
       "\t<li>-0.83</li>\n",
       "\t<li>-0.82</li>\n",
       "\t<li>-0.81</li>\n",
       "\t<li>-0.8</li>\n",
       "\t<li>-0.79</li>\n",
       "\t<li>-0.78</li>\n",
       "\t<li>-0.77</li>\n",
       "\t<li>-0.76</li>\n",
       "\t<li>-0.75</li>\n",
       "\t<li>-0.74</li>\n",
       "\t<li>-0.73</li>\n",
       "\t<li>-0.72</li>\n",
       "\t<li>-0.71</li>\n",
       "\t<li>-0.7</li>\n",
       "\t<li>-0.69</li>\n",
       "\t<li>-0.68</li>\n",
       "\t<li>-0.67</li>\n",
       "\t<li>-0.66</li>\n",
       "\t<li>-0.65</li>\n",
       "\t<li>-0.64</li>\n",
       "\t<li>-0.63</li>\n",
       "\t<li>-0.62</li>\n",
       "\t<li>-0.61</li>\n",
       "\t<li>-0.6</li>\n",
       "\t<li>-0.59</li>\n",
       "\t<li>-0.58</li>\n",
       "\t<li>-0.57</li>\n",
       "\t<li>-0.56</li>\n",
       "\t<li>-0.55</li>\n",
       "\t<li>-0.54</li>\n",
       "\t<li>-0.53</li>\n",
       "\t<li>-0.52</li>\n",
       "\t<li>-0.51</li>\n",
       "\t<li>-0.5</li>\n",
       "\t<li>-0.49</li>\n",
       "\t<li>-0.48</li>\n",
       "\t<li>-0.47</li>\n",
       "\t<li>-0.46</li>\n",
       "\t<li>-0.45</li>\n",
       "\t<li>-0.44</li>\n",
       "\t<li>-0.43</li>\n",
       "\t<li>-0.42</li>\n",
       "\t<li>-0.41</li>\n",
       "\t<li>-0.4</li>\n",
       "\t<li>-0.39</li>\n",
       "\t<li>-0.38</li>\n",
       "\t<li>-0.37</li>\n",
       "\t<li>-0.36</li>\n",
       "\t<li>-0.35</li>\n",
       "\t<li>-0.34</li>\n",
       "\t<li>-0.33</li>\n",
       "\t<li>-0.32</li>\n",
       "\t<li>-0.31</li>\n",
       "\t<li>-0.3</li>\n",
       "\t<li>-0.29</li>\n",
       "\t<li>-0.28</li>\n",
       "\t<li>-0.27</li>\n",
       "\t<li>-0.26</li>\n",
       "\t<li>-0.25</li>\n",
       "\t<li>-0.24</li>\n",
       "\t<li>-0.23</li>\n",
       "\t<li>-0.22</li>\n",
       "\t<li>-0.21</li>\n",
       "\t<li>-0.2</li>\n",
       "\t<li>-0.19</li>\n",
       "\t<li>-0.18</li>\n",
       "\t<li>-0.17</li>\n",
       "\t<li>-0.16</li>\n",
       "\t<li>-0.15</li>\n",
       "\t<li>-0.14</li>\n",
       "\t<li>-0.13</li>\n",
       "\t<li>-0.12</li>\n",
       "\t<li>-0.11</li>\n",
       "\t<li>-0.1</li>\n",
       "\t<li>-0.09</li>\n",
       "\t<li>-0.08</li>\n",
       "\t<li>-0.07</li>\n",
       "\t<li>-0.0599999999999999</li>\n",
       "\t<li>-0.0499999999999999</li>\n",
       "\t<li>-0.04</li>\n",
       "\t<li>-0.03</li>\n",
       "\t<li>-0.02</li>\n",
       "\t<li>-0.01</li>\n",
       "\t<li>0</li>\n",
       "\t<li>0.01</li>\n",
       "\t<li>0.02</li>\n",
       "\t<li>0.03</li>\n",
       "\t<li>0.04</li>\n",
       "\t<li>0.05</li>\n",
       "\t<li>0.0600000000000001</li>\n",
       "\t<li>0.0700000000000001</li>\n",
       "\t<li>0.0800000000000001</li>\n",
       "\t<li>0.0900000000000001</li>\n",
       "\t<li>0.1</li>\n",
       "\t<li>0.11</li>\n",
       "\t<li>0.12</li>\n",
       "\t<li>0.13</li>\n",
       "\t<li>0.14</li>\n",
       "\t<li>0.15</li>\n",
       "\t<li>0.16</li>\n",
       "\t<li>0.17</li>\n",
       "\t<li>0.18</li>\n",
       "\t<li>0.19</li>\n",
       "\t<li>0.2</li>\n",
       "\t<li>0.21</li>\n",
       "\t<li>0.22</li>\n",
       "\t<li>0.23</li>\n",
       "\t<li>0.24</li>\n",
       "\t<li>0.25</li>\n",
       "\t<li>0.26</li>\n",
       "\t<li>0.27</li>\n",
       "\t<li>0.28</li>\n",
       "\t<li>0.29</li>\n",
       "\t<li>0.3</li>\n",
       "\t<li>0.31</li>\n",
       "\t<li>0.32</li>\n",
       "\t<li>0.33</li>\n",
       "\t<li>0.34</li>\n",
       "\t<li>0.35</li>\n",
       "\t<li>0.36</li>\n",
       "\t<li>0.37</li>\n",
       "\t<li>0.38</li>\n",
       "\t<li>0.39</li>\n",
       "\t<li>0.4</li>\n",
       "\t<li>0.41</li>\n",
       "\t<li>0.42</li>\n",
       "\t<li>0.43</li>\n",
       "\t<li>0.44</li>\n",
       "\t<li>0.45</li>\n",
       "\t<li>0.46</li>\n",
       "\t<li>0.47</li>\n",
       "\t<li>0.48</li>\n",
       "\t<li>0.49</li>\n",
       "\t<li>0.5</li>\n",
       "\t<li>0.51</li>\n",
       "\t<li>0.52</li>\n",
       "\t<li>0.53</li>\n",
       "\t<li>0.54</li>\n",
       "\t<li>0.55</li>\n",
       "\t<li>0.56</li>\n",
       "\t<li>0.57</li>\n",
       "\t<li>0.58</li>\n",
       "\t<li>0.59</li>\n",
       "\t<li>0.6</li>\n",
       "\t<li>0.61</li>\n",
       "\t<li>0.62</li>\n",
       "\t<li>0.63</li>\n",
       "\t<li>0.64</li>\n",
       "\t<li>0.65</li>\n",
       "\t<li>0.66</li>\n",
       "\t<li>0.67</li>\n",
       "\t<li>0.68</li>\n",
       "\t<li>0.69</li>\n",
       "\t<li>0.7</li>\n",
       "\t<li>0.71</li>\n",
       "\t<li>0.72</li>\n",
       "\t<li>0.73</li>\n",
       "\t<li>0.74</li>\n",
       "\t<li>0.75</li>\n",
       "\t<li>0.76</li>\n",
       "\t<li>0.77</li>\n",
       "\t<li>0.78</li>\n",
       "\t<li>0.79</li>\n",
       "\t<li>0.8</li>\n",
       "\t<li>0.81</li>\n",
       "\t<li>0.82</li>\n",
       "\t<li>0.83</li>\n",
       "\t<li>0.84</li>\n",
       "\t<li>0.85</li>\n",
       "\t<li>0.86</li>\n",
       "\t<li>0.87</li>\n",
       "\t<li>0.88</li>\n",
       "\t<li>0.89</li>\n",
       "\t<li>0.9</li>\n",
       "\t<li>0.91</li>\n",
       "\t<li>0.92</li>\n",
       "\t<li>0.93</li>\n",
       "\t<li>0.94</li>\n",
       "\t<li>0.95</li>\n",
       "\t<li>0.96</li>\n",
       "\t<li>0.97</li>\n",
       "\t<li>0.98</li>\n",
       "\t<li>0.99</li>\n",
       "\t<li>1</li>\n",
       "</ol>\n"
      ],
      "text/latex": [
       "\\begin{enumerate*}\n",
       "\\item -1\n",
       "\\item -0.99\n",
       "\\item -0.98\n",
       "\\item -0.97\n",
       "\\item -0.96\n",
       "\\item -0.95\n",
       "\\item -0.94\n",
       "\\item -0.93\n",
       "\\item -0.92\n",
       "\\item -0.91\n",
       "\\item -0.9\n",
       "\\item -0.89\n",
       "\\item -0.88\n",
       "\\item -0.87\n",
       "\\item -0.86\n",
       "\\item -0.85\n",
       "\\item -0.84\n",
       "\\item -0.83\n",
       "\\item -0.82\n",
       "\\item -0.81\n",
       "\\item -0.8\n",
       "\\item -0.79\n",
       "\\item -0.78\n",
       "\\item -0.77\n",
       "\\item -0.76\n",
       "\\item -0.75\n",
       "\\item -0.74\n",
       "\\item -0.73\n",
       "\\item -0.72\n",
       "\\item -0.71\n",
       "\\item -0.7\n",
       "\\item -0.69\n",
       "\\item -0.68\n",
       "\\item -0.67\n",
       "\\item -0.66\n",
       "\\item -0.65\n",
       "\\item -0.64\n",
       "\\item -0.63\n",
       "\\item -0.62\n",
       "\\item -0.61\n",
       "\\item -0.6\n",
       "\\item -0.59\n",
       "\\item -0.58\n",
       "\\item -0.57\n",
       "\\item -0.56\n",
       "\\item -0.55\n",
       "\\item -0.54\n",
       "\\item -0.53\n",
       "\\item -0.52\n",
       "\\item -0.51\n",
       "\\item -0.5\n",
       "\\item -0.49\n",
       "\\item -0.48\n",
       "\\item -0.47\n",
       "\\item -0.46\n",
       "\\item -0.45\n",
       "\\item -0.44\n",
       "\\item -0.43\n",
       "\\item -0.42\n",
       "\\item -0.41\n",
       "\\item -0.4\n",
       "\\item -0.39\n",
       "\\item -0.38\n",
       "\\item -0.37\n",
       "\\item -0.36\n",
       "\\item -0.35\n",
       "\\item -0.34\n",
       "\\item -0.33\n",
       "\\item -0.32\n",
       "\\item -0.31\n",
       "\\item -0.3\n",
       "\\item -0.29\n",
       "\\item -0.28\n",
       "\\item -0.27\n",
       "\\item -0.26\n",
       "\\item -0.25\n",
       "\\item -0.24\n",
       "\\item -0.23\n",
       "\\item -0.22\n",
       "\\item -0.21\n",
       "\\item -0.2\n",
       "\\item -0.19\n",
       "\\item -0.18\n",
       "\\item -0.17\n",
       "\\item -0.16\n",
       "\\item -0.15\n",
       "\\item -0.14\n",
       "\\item -0.13\n",
       "\\item -0.12\n",
       "\\item -0.11\n",
       "\\item -0.1\n",
       "\\item -0.09\n",
       "\\item -0.08\n",
       "\\item -0.07\n",
       "\\item -0.0599999999999999\n",
       "\\item -0.0499999999999999\n",
       "\\item -0.04\n",
       "\\item -0.03\n",
       "\\item -0.02\n",
       "\\item -0.01\n",
       "\\item 0\n",
       "\\item 0.01\n",
       "\\item 0.02\n",
       "\\item 0.03\n",
       "\\item 0.04\n",
       "\\item 0.05\n",
       "\\item 0.0600000000000001\n",
       "\\item 0.0700000000000001\n",
       "\\item 0.0800000000000001\n",
       "\\item 0.0900000000000001\n",
       "\\item 0.1\n",
       "\\item 0.11\n",
       "\\item 0.12\n",
       "\\item 0.13\n",
       "\\item 0.14\n",
       "\\item 0.15\n",
       "\\item 0.16\n",
       "\\item 0.17\n",
       "\\item 0.18\n",
       "\\item 0.19\n",
       "\\item 0.2\n",
       "\\item 0.21\n",
       "\\item 0.22\n",
       "\\item 0.23\n",
       "\\item 0.24\n",
       "\\item 0.25\n",
       "\\item 0.26\n",
       "\\item 0.27\n",
       "\\item 0.28\n",
       "\\item 0.29\n",
       "\\item 0.3\n",
       "\\item 0.31\n",
       "\\item 0.32\n",
       "\\item 0.33\n",
       "\\item 0.34\n",
       "\\item 0.35\n",
       "\\item 0.36\n",
       "\\item 0.37\n",
       "\\item 0.38\n",
       "\\item 0.39\n",
       "\\item 0.4\n",
       "\\item 0.41\n",
       "\\item 0.42\n",
       "\\item 0.43\n",
       "\\item 0.44\n",
       "\\item 0.45\n",
       "\\item 0.46\n",
       "\\item 0.47\n",
       "\\item 0.48\n",
       "\\item 0.49\n",
       "\\item 0.5\n",
       "\\item 0.51\n",
       "\\item 0.52\n",
       "\\item 0.53\n",
       "\\item 0.54\n",
       "\\item 0.55\n",
       "\\item 0.56\n",
       "\\item 0.57\n",
       "\\item 0.58\n",
       "\\item 0.59\n",
       "\\item 0.6\n",
       "\\item 0.61\n",
       "\\item 0.62\n",
       "\\item 0.63\n",
       "\\item 0.64\n",
       "\\item 0.65\n",
       "\\item 0.66\n",
       "\\item 0.67\n",
       "\\item 0.68\n",
       "\\item 0.69\n",
       "\\item 0.7\n",
       "\\item 0.71\n",
       "\\item 0.72\n",
       "\\item 0.73\n",
       "\\item 0.74\n",
       "\\item 0.75\n",
       "\\item 0.76\n",
       "\\item 0.77\n",
       "\\item 0.78\n",
       "\\item 0.79\n",
       "\\item 0.8\n",
       "\\item 0.81\n",
       "\\item 0.82\n",
       "\\item 0.83\n",
       "\\item 0.84\n",
       "\\item 0.85\n",
       "\\item 0.86\n",
       "\\item 0.87\n",
       "\\item 0.88\n",
       "\\item 0.89\n",
       "\\item 0.9\n",
       "\\item 0.91\n",
       "\\item 0.92\n",
       "\\item 0.93\n",
       "\\item 0.94\n",
       "\\item 0.95\n",
       "\\item 0.96\n",
       "\\item 0.97\n",
       "\\item 0.98\n",
       "\\item 0.99\n",
       "\\item 1\n",
       "\\end{enumerate*}\n"
      ],
      "text/markdown": [
       "1. -1\n",
       "2. -0.99\n",
       "3. -0.98\n",
       "4. -0.97\n",
       "5. -0.96\n",
       "6. -0.95\n",
       "7. -0.94\n",
       "8. -0.93\n",
       "9. -0.92\n",
       "10. -0.91\n",
       "11. -0.9\n",
       "12. -0.89\n",
       "13. -0.88\n",
       "14. -0.87\n",
       "15. -0.86\n",
       "16. -0.85\n",
       "17. -0.84\n",
       "18. -0.83\n",
       "19. -0.82\n",
       "20. -0.81\n",
       "21. -0.8\n",
       "22. -0.79\n",
       "23. -0.78\n",
       "24. -0.77\n",
       "25. -0.76\n",
       "26. -0.75\n",
       "27. -0.74\n",
       "28. -0.73\n",
       "29. -0.72\n",
       "30. -0.71\n",
       "31. -0.7\n",
       "32. -0.69\n",
       "33. -0.68\n",
       "34. -0.67\n",
       "35. -0.66\n",
       "36. -0.65\n",
       "37. -0.64\n",
       "38. -0.63\n",
       "39. -0.62\n",
       "40. -0.61\n",
       "41. -0.6\n",
       "42. -0.59\n",
       "43. -0.58\n",
       "44. -0.57\n",
       "45. -0.56\n",
       "46. -0.55\n",
       "47. -0.54\n",
       "48. -0.53\n",
       "49. -0.52\n",
       "50. -0.51\n",
       "51. -0.5\n",
       "52. -0.49\n",
       "53. -0.48\n",
       "54. -0.47\n",
       "55. -0.46\n",
       "56. -0.45\n",
       "57. -0.44\n",
       "58. -0.43\n",
       "59. -0.42\n",
       "60. -0.41\n",
       "61. -0.4\n",
       "62. -0.39\n",
       "63. -0.38\n",
       "64. -0.37\n",
       "65. -0.36\n",
       "66. -0.35\n",
       "67. -0.34\n",
       "68. -0.33\n",
       "69. -0.32\n",
       "70. -0.31\n",
       "71. -0.3\n",
       "72. -0.29\n",
       "73. -0.28\n",
       "74. -0.27\n",
       "75. -0.26\n",
       "76. -0.25\n",
       "77. -0.24\n",
       "78. -0.23\n",
       "79. -0.22\n",
       "80. -0.21\n",
       "81. -0.2\n",
       "82. -0.19\n",
       "83. -0.18\n",
       "84. -0.17\n",
       "85. -0.16\n",
       "86. -0.15\n",
       "87. -0.14\n",
       "88. -0.13\n",
       "89. -0.12\n",
       "90. -0.11\n",
       "91. -0.1\n",
       "92. -0.09\n",
       "93. -0.08\n",
       "94. -0.07\n",
       "95. -0.0599999999999999\n",
       "96. -0.0499999999999999\n",
       "97. -0.04\n",
       "98. -0.03\n",
       "99. -0.02\n",
       "100. -0.01\n",
       "101. 0\n",
       "102. 0.01\n",
       "103. 0.02\n",
       "104. 0.03\n",
       "105. 0.04\n",
       "106. 0.05\n",
       "107. 0.0600000000000001\n",
       "108. 0.0700000000000001\n",
       "109. 0.0800000000000001\n",
       "110. 0.0900000000000001\n",
       "111. 0.1\n",
       "112. 0.11\n",
       "113. 0.12\n",
       "114. 0.13\n",
       "115. 0.14\n",
       "116. 0.15\n",
       "117. 0.16\n",
       "118. 0.17\n",
       "119. 0.18\n",
       "120. 0.19\n",
       "121. 0.2\n",
       "122. 0.21\n",
       "123. 0.22\n",
       "124. 0.23\n",
       "125. 0.24\n",
       "126. 0.25\n",
       "127. 0.26\n",
       "128. 0.27\n",
       "129. 0.28\n",
       "130. 0.29\n",
       "131. 0.3\n",
       "132. 0.31\n",
       "133. 0.32\n",
       "134. 0.33\n",
       "135. 0.34\n",
       "136. 0.35\n",
       "137. 0.36\n",
       "138. 0.37\n",
       "139. 0.38\n",
       "140. 0.39\n",
       "141. 0.4\n",
       "142. 0.41\n",
       "143. 0.42\n",
       "144. 0.43\n",
       "145. 0.44\n",
       "146. 0.45\n",
       "147. 0.46\n",
       "148. 0.47\n",
       "149. 0.48\n",
       "150. 0.49\n",
       "151. 0.5\n",
       "152. 0.51\n",
       "153. 0.52\n",
       "154. 0.53\n",
       "155. 0.54\n",
       "156. 0.55\n",
       "157. 0.56\n",
       "158. 0.57\n",
       "159. 0.58\n",
       "160. 0.59\n",
       "161. 0.6\n",
       "162. 0.61\n",
       "163. 0.62\n",
       "164. 0.63\n",
       "165. 0.64\n",
       "166. 0.65\n",
       "167. 0.66\n",
       "168. 0.67\n",
       "169. 0.68\n",
       "170. 0.69\n",
       "171. 0.7\n",
       "172. 0.71\n",
       "173. 0.72\n",
       "174. 0.73\n",
       "175. 0.74\n",
       "176. 0.75\n",
       "177. 0.76\n",
       "178. 0.77\n",
       "179. 0.78\n",
       "180. 0.79\n",
       "181. 0.8\n",
       "182. 0.81\n",
       "183. 0.82\n",
       "184. 0.83\n",
       "185. 0.84\n",
       "186. 0.85\n",
       "187. 0.86\n",
       "188. 0.87\n",
       "189. 0.88\n",
       "190. 0.89\n",
       "191. 0.9\n",
       "192. 0.91\n",
       "193. 0.92\n",
       "194. 0.93\n",
       "195. 0.94\n",
       "196. 0.95\n",
       "197. 0.96\n",
       "198. 0.97\n",
       "199. 0.98\n",
       "200. 0.99\n",
       "201. 1\n",
       "\n",
       "\n"
      ],
      "text/plain": [
       "  [1] -1.00 -0.99 -0.98 -0.97 -0.96 -0.95 -0.94 -0.93 -0.92 -0.91 -0.90 -0.89\n",
       " [13] -0.88 -0.87 -0.86 -0.85 -0.84 -0.83 -0.82 -0.81 -0.80 -0.79 -0.78 -0.77\n",
       " [25] -0.76 -0.75 -0.74 -0.73 -0.72 -0.71 -0.70 -0.69 -0.68 -0.67 -0.66 -0.65\n",
       " [37] -0.64 -0.63 -0.62 -0.61 -0.60 -0.59 -0.58 -0.57 -0.56 -0.55 -0.54 -0.53\n",
       " [49] -0.52 -0.51 -0.50 -0.49 -0.48 -0.47 -0.46 -0.45 -0.44 -0.43 -0.42 -0.41\n",
       " [61] -0.40 -0.39 -0.38 -0.37 -0.36 -0.35 -0.34 -0.33 -0.32 -0.31 -0.30 -0.29\n",
       " [73] -0.28 -0.27 -0.26 -0.25 -0.24 -0.23 -0.22 -0.21 -0.20 -0.19 -0.18 -0.17\n",
       " [85] -0.16 -0.15 -0.14 -0.13 -0.12 -0.11 -0.10 -0.09 -0.08 -0.07 -0.06 -0.05\n",
       " [97] -0.04 -0.03 -0.02 -0.01  0.00  0.01  0.02  0.03  0.04  0.05  0.06  0.07\n",
       "[109]  0.08  0.09  0.10  0.11  0.12  0.13  0.14  0.15  0.16  0.17  0.18  0.19\n",
       "[121]  0.20  0.21  0.22  0.23  0.24  0.25  0.26  0.27  0.28  0.29  0.30  0.31\n",
       "[133]  0.32  0.33  0.34  0.35  0.36  0.37  0.38  0.39  0.40  0.41  0.42  0.43\n",
       "[145]  0.44  0.45  0.46  0.47  0.48  0.49  0.50  0.51  0.52  0.53  0.54  0.55\n",
       "[157]  0.56  0.57  0.58  0.59  0.60  0.61  0.62  0.63  0.64  0.65  0.66  0.67\n",
       "[169]  0.68  0.69  0.70  0.71  0.72  0.73  0.74  0.75  0.76  0.77  0.78  0.79\n",
       "[181]  0.80  0.81  0.82  0.83  0.84  0.85  0.86  0.87  0.88  0.89  0.90  0.91\n",
       "[193]  0.92  0.93  0.94  0.95  0.96  0.97  0.98  0.99  1.00"
      ]
     },
     "metadata": {},
     "output_type": "display_data"
    },
    {
     "data": {
      "text/html": [
       "<ol class=list-inline>\n",
       "\t<li>-1</li>\n",
       "\t<li>-0.99</li>\n",
       "\t<li>-0.98</li>\n",
       "\t<li>-0.97</li>\n",
       "\t<li>-0.96</li>\n",
       "</ol>\n"
      ],
      "text/latex": [
       "\\begin{enumerate*}\n",
       "\\item -1\n",
       "\\item -0.99\n",
       "\\item -0.98\n",
       "\\item -0.97\n",
       "\\item -0.96\n",
       "\\end{enumerate*}\n"
      ],
      "text/markdown": [
       "1. -1\n",
       "2. -0.99\n",
       "3. -0.98\n",
       "4. -0.97\n",
       "5. -0.96\n",
       "\n",
       "\n"
      ],
      "text/plain": [
       "[1] -1.00 -0.99 -0.98 -0.97 -0.96"
      ]
     },
     "metadata": {},
     "output_type": "display_data"
    },
    {
     "data": {
      "text/html": [
       "<ol class=list-inline>\n",
       "\t<li>0.96</li>\n",
       "\t<li>0.97</li>\n",
       "\t<li>0.98</li>\n",
       "\t<li>0.99</li>\n",
       "\t<li>1</li>\n",
       "</ol>\n"
      ],
      "text/latex": [
       "\\begin{enumerate*}\n",
       "\\item 0.96\n",
       "\\item 0.97\n",
       "\\item 0.98\n",
       "\\item 0.99\n",
       "\\item 1\n",
       "\\end{enumerate*}\n"
      ],
      "text/markdown": [
       "1. 0.96\n",
       "2. 0.97\n",
       "3. 0.98\n",
       "4. 0.99\n",
       "5. 1\n",
       "\n",
       "\n"
      ],
      "text/plain": [
       "[1] 0.96 0.97 0.98 0.99 1.00"
      ]
     },
     "metadata": {},
     "output_type": "display_data"
    }
   ],
   "source": [
    "length(v) #lunghezza (numero elementi) del vettore v\n",
    "min(v) #minimo degli elementi in v\n",
    "max(v) #massimo degli elementi in v\n",
    "sum(v) #sommatoria degli elementi in v\n",
    "prod(v) #produttoria degli elementi in v\n",
    "sort(v) #ritorna vettore con elementi di v riordinati\n",
    "head(v,5)  #n valori di testa del vettore v\n",
    "tail(v,5) #n valori di coda del vettore v"
   ]
  },
  {
   "cell_type": "markdown",
   "metadata": {},
   "source": [
    "Lists are another very useful data structure in R. They are different wrt Vectors because a list can hold different data types."
   ]
  },
  {
   "cell_type": "code",
   "execution_count": 76,
   "metadata": {
    "collapsed": false,
    "scrolled": true
   },
   "outputs": [
    {
     "data": {
      "text/html": [
       "<ol>\n",
       "\t<li><ol class=list-inline>\n",
       "\t<li>1</li>\n",
       "\t<li>2</li>\n",
       "\t<li>3</li>\n",
       "</ol>\n",
       "</li>\n",
       "\t<li>'a'</li>\n",
       "\t<li><ol class=list-inline>\n",
       "\t<li>TRUE</li>\n",
       "\t<li>FALSE</li>\n",
       "\t<li>TRUE</li>\n",
       "</ol>\n",
       "</li>\n",
       "\t<li><ol class=list-inline>\n",
       "\t<li>2.3</li>\n",
       "\t<li>5.9</li>\n",
       "</ol>\n",
       "</li>\n",
       "</ol>\n"
      ],
      "text/latex": [
       "\\begin{enumerate}\n",
       "\\item \\begin{enumerate*}\n",
       "\\item 1\n",
       "\\item 2\n",
       "\\item 3\n",
       "\\end{enumerate*}\n",
       "\n",
       "\\item 'a'\n",
       "\\item \\begin{enumerate*}\n",
       "\\item TRUE\n",
       "\\item FALSE\n",
       "\\item TRUE\n",
       "\\end{enumerate*}\n",
       "\n",
       "\\item \\begin{enumerate*}\n",
       "\\item 2.3\n",
       "\\item 5.9\n",
       "\\end{enumerate*}\n",
       "\n",
       "\\end{enumerate}\n"
      ],
      "text/markdown": [
       "1. 1. 1\n",
       "2. 2\n",
       "3. 3\n",
       "\n",
       "\n",
       "\n",
       "2. 'a'\n",
       "3. 1. TRUE\n",
       "2. FALSE\n",
       "3. TRUE\n",
       "\n",
       "\n",
       "\n",
       "4. 1. 2.3\n",
       "2. 5.9\n",
       "\n",
       "\n",
       "\n",
       "\n",
       "\n"
      ],
      "text/plain": [
       "[[1]]\n",
       "[1] 1 2 3\n",
       "\n",
       "[[2]]\n",
       "[1] \"a\"\n",
       "\n",
       "[[3]]\n",
       "[1]  TRUE FALSE  TRUE\n",
       "\n",
       "[[4]]\n",
       "[1] 2.3 5.9\n"
      ]
     },
     "metadata": {},
     "output_type": "display_data"
    }
   ],
   "source": [
    "#list\n",
    "x <- list(1:3, \"a\", c(TRUE, FALSE, TRUE), c(2.3, 5.9))\n",
    "x"
   ]
  },
  {
   "cell_type": "code",
   "execution_count": 77,
   "metadata": {
    "collapsed": false,
    "scrolled": true
   },
   "outputs": [
    {
     "data": {
      "text/html": [
       "<ol class=list-inline>\n",
       "\t<li>2.3</li>\n",
       "\t<li>5.9</li>\n",
       "</ol>\n"
      ],
      "text/latex": [
       "\\begin{enumerate*}\n",
       "\\item 2.3\n",
       "\\item 5.9\n",
       "\\end{enumerate*}\n"
      ],
      "text/markdown": [
       "1. 2.3\n",
       "2. 5.9\n",
       "\n",
       "\n"
      ],
      "text/plain": [
       "[1] 2.3 5.9"
      ]
     },
     "metadata": {},
     "output_type": "display_data"
    },
    {
     "data": {
      "text/html": [
       "'double'"
      ],
      "text/latex": [
       "'double'"
      ],
      "text/markdown": [
       "'double'"
      ],
      "text/plain": [
       "[1] \"double\""
      ]
     },
     "metadata": {},
     "output_type": "display_data"
    }
   ],
   "source": [
    "x[[4]]\n",
    "typeof(x[[4]])"
   ]
  },
  {
   "cell_type": "code",
   "execution_count": 78,
   "metadata": {
    "collapsed": false
   },
   "outputs": [
    {
     "data": {
      "text/html": [
       "<ol>\n",
       "\t<li><ol class=list-inline>\n",
       "\t<li>2.3</li>\n",
       "\t<li>5.9</li>\n",
       "</ol>\n",
       "</li>\n",
       "</ol>\n"
      ],
      "text/latex": [
       "\\begin{enumerate}\n",
       "\\item \\begin{enumerate*}\n",
       "\\item 2.3\n",
       "\\item 5.9\n",
       "\\end{enumerate*}\n",
       "\n",
       "\\end{enumerate}\n"
      ],
      "text/markdown": [
       "1. 1. 2.3\n",
       "2. 5.9\n",
       "\n",
       "\n",
       "\n",
       "\n",
       "\n"
      ],
      "text/plain": [
       "[[1]]\n",
       "[1] 2.3 5.9\n"
      ]
     },
     "metadata": {},
     "output_type": "display_data"
    },
    {
     "data": {
      "text/html": [
       "'list'"
      ],
      "text/latex": [
       "'list'"
      ],
      "text/markdown": [
       "'list'"
      ],
      "text/plain": [
       "[1] \"list\""
      ]
     },
     "metadata": {},
     "output_type": "display_data"
    }
   ],
   "source": [
    "x[4]\n",
    "typeof(x[4])"
   ]
  },
  {
   "cell_type": "code",
   "execution_count": 79,
   "metadata": {
    "collapsed": false,
    "scrolled": true
   },
   "outputs": [
    {
     "data": {
      "text/html": [
       "5.9"
      ],
      "text/latex": [
       "5.9"
      ],
      "text/markdown": [
       "5.9"
      ],
      "text/plain": [
       "[1] 5.9"
      ]
     },
     "metadata": {},
     "output_type": "display_data"
    },
    {
     "data": {
      "text/html": [
       "'double'"
      ],
      "text/latex": [
       "'double'"
      ],
      "text/markdown": [
       "'double'"
      ],
      "text/plain": [
       "[1] \"double\""
      ]
     },
     "metadata": {},
     "output_type": "display_data"
    }
   ],
   "source": [
    "x[[4]][2]\n",
    "typeof(x[[4]][2])"
   ]
  },
  {
   "cell_type": "code",
   "execution_count": 80,
   "metadata": {
    "collapsed": false,
    "scrolled": true
   },
   "outputs": [
    {
     "data": {
      "text/html": [
       "<ol>\n",
       "\t<li>'a'</li>\n",
       "\t<li><ol class=list-inline>\n",
       "\t<li>TRUE</li>\n",
       "\t<li>FALSE</li>\n",
       "\t<li>TRUE</li>\n",
       "</ol>\n",
       "</li>\n",
       "\t<li><ol class=list-inline>\n",
       "\t<li>2.3</li>\n",
       "\t<li>5.9</li>\n",
       "</ol>\n",
       "</li>\n",
       "</ol>\n"
      ],
      "text/latex": [
       "\\begin{enumerate}\n",
       "\\item 'a'\n",
       "\\item \\begin{enumerate*}\n",
       "\\item TRUE\n",
       "\\item FALSE\n",
       "\\item TRUE\n",
       "\\end{enumerate*}\n",
       "\n",
       "\\item \\begin{enumerate*}\n",
       "\\item 2.3\n",
       "\\item 5.9\n",
       "\\end{enumerate*}\n",
       "\n",
       "\\end{enumerate}\n"
      ],
      "text/markdown": [
       "1. 'a'\n",
       "2. 1. TRUE\n",
       "2. FALSE\n",
       "3. TRUE\n",
       "\n",
       "\n",
       "\n",
       "3. 1. 2.3\n",
       "2. 5.9\n",
       "\n",
       "\n",
       "\n",
       "\n",
       "\n"
      ],
      "text/plain": [
       "[[1]]\n",
       "[1] \"a\"\n",
       "\n",
       "[[2]]\n",
       "[1]  TRUE FALSE  TRUE\n",
       "\n",
       "[[3]]\n",
       "[1] 2.3 5.9\n"
      ]
     },
     "metadata": {},
     "output_type": "display_data"
    }
   ],
   "source": [
    "x[2:4]"
   ]
  },
  {
   "cell_type": "code",
   "execution_count": 81,
   "metadata": {
    "collapsed": false
   },
   "outputs": [
    {
     "data": {
      "text/html": [
       "<ol class=list-inline>\n",
       "\t<li>'name'</li>\n",
       "\t<li>'height'</li>\n",
       "\t<li>'married'</li>\n",
       "\t<li>'number.children'</li>\n",
       "\t<li>'email'</li>\n",
       "</ol>\n"
      ],
      "text/latex": [
       "\\begin{enumerate*}\n",
       "\\item 'name'\n",
       "\\item 'height'\n",
       "\\item 'married'\n",
       "\\item 'number.children'\n",
       "\\item 'email'\n",
       "\\end{enumerate*}\n"
      ],
      "text/markdown": [
       "1. 'name'\n",
       "2. 'height'\n",
       "3. 'married'\n",
       "4. 'number.children'\n",
       "5. 'email'\n",
       "\n",
       "\n"
      ],
      "text/plain": [
       "[1] \"name\"            \"height\"          \"married\"         \"number.children\"\n",
       "[5] \"email\"          "
      ]
     },
     "metadata": {},
     "output_type": "display_data"
    }
   ],
   "source": [
    "L <- list(name = \"Andrea\", height = 190.0, married = TRUE, number.children = 0, email = \"andrgig@gmail.com\")\n",
    "names(L)"
   ]
  },
  {
   "cell_type": "code",
   "execution_count": 82,
   "metadata": {
    "collapsed": false
   },
   "outputs": [
    {
     "data": {
      "text/html": [
       "'Andrea'"
      ],
      "text/latex": [
       "'Andrea'"
      ],
      "text/markdown": [
       "'Andrea'"
      ],
      "text/plain": [
       "[1] \"Andrea\""
      ]
     },
     "metadata": {},
     "output_type": "display_data"
    },
    {
     "data": {
      "text/html": [
       "'andrgig@gmail.com'"
      ],
      "text/latex": [
       "'andrgig@gmail.com'"
      ],
      "text/markdown": [
       "'andrgig@gmail.com'"
      ],
      "text/plain": [
       "[1] \"andrgig@gmail.com\""
      ]
     },
     "metadata": {},
     "output_type": "display_data"
    },
    {
     "data": {
      "text/html": [
       "TRUE"
      ],
      "text/latex": [
       "TRUE"
      ],
      "text/markdown": [
       "TRUE"
      ],
      "text/plain": [
       "[1] TRUE"
      ]
     },
     "metadata": {},
     "output_type": "display_data"
    },
    {
     "data": {
      "text/html": [
       "0"
      ],
      "text/latex": [
       "0"
      ],
      "text/markdown": [
       "0"
      ],
      "text/plain": [
       "[1] 0"
      ]
     },
     "metadata": {},
     "output_type": "display_data"
    }
   ],
   "source": [
    "L[[1]] ; L[[5]]\n",
    "L$married\n",
    "L$number.children "
   ]
  },
  {
   "cell_type": "code",
   "execution_count": 83,
   "metadata": {
    "collapsed": false
   },
   "outputs": [
    {
     "data": {
      "text/html": [
       "<dl>\n",
       "\t<dt>$name</dt>\n",
       "\t\t<dd>'Andrea'</dd>\n",
       "\t<dt>$height</dt>\n",
       "\t\t<dd>190</dd>\n",
       "\t<dt>$married</dt>\n",
       "\t\t<dd>TRUE</dd>\n",
       "\t<dt>$number.children</dt>\n",
       "\t\t<dd>1</dd>\n",
       "\t<dt>$email</dt>\n",
       "\t\t<dd>'andrgig@gmail.com'</dd>\n",
       "</dl>\n"
      ],
      "text/latex": [
       "\\begin{description}\n",
       "\\item[\\$name] 'Andrea'\n",
       "\\item[\\$height] 190\n",
       "\\item[\\$married] TRUE\n",
       "\\item[\\$number.children] 1\n",
       "\\item[\\$email] 'andrgig@gmail.com'\n",
       "\\end{description}\n"
      ],
      "text/markdown": [
       "$name\n",
       ":   'Andrea'\n",
       "$height\n",
       ":   190\n",
       "$married\n",
       ":   TRUE\n",
       "$number.children\n",
       ":   1\n",
       "$email\n",
       ":   'andrgig@gmail.com'\n",
       "\n",
       "\n"
      ],
      "text/plain": [
       "$name\n",
       "[1] \"Andrea\"\n",
       "\n",
       "$height\n",
       "[1] 190\n",
       "\n",
       "$married\n",
       "[1] TRUE\n",
       "\n",
       "$number.children\n",
       "[1] 1\n",
       "\n",
       "$email\n",
       "[1] \"andrgig@gmail.com\"\n"
      ]
     },
     "metadata": {},
     "output_type": "display_data"
    }
   ],
   "source": [
    "L$number.children <- 1\n",
    "L\n"
   ]
  },
  {
   "cell_type": "code",
   "execution_count": 84,
   "metadata": {
    "collapsed": false
   },
   "outputs": [
    {
     "data": {
      "text/html": [
       "<dl>\n",
       "\t<dt>$name</dt>\n",
       "\t\t<dd>'Andrea'</dd>\n",
       "\t<dt>$height</dt>\n",
       "\t\t<dd>190</dd>\n",
       "\t<dt>$married</dt>\n",
       "\t\t<dd>TRUE</dd>\n",
       "\t<dt>$number.children</dt>\n",
       "\t\t<dd>1</dd>\n",
       "\t<dt>$email</dt>\n",
       "\t\t<dd>'andrgig@gmail.com'</dd>\n",
       "\t<dt>$children.name</dt>\n",
       "\t\t<dd>'Arianna'</dd>\n",
       "</dl>\n"
      ],
      "text/latex": [
       "\\begin{description}\n",
       "\\item[\\$name] 'Andrea'\n",
       "\\item[\\$height] 190\n",
       "\\item[\\$married] TRUE\n",
       "\\item[\\$number.children] 1\n",
       "\\item[\\$email] 'andrgig@gmail.com'\n",
       "\\item[\\$children.name] 'Arianna'\n",
       "\\end{description}\n"
      ],
      "text/markdown": [
       "$name\n",
       ":   'Andrea'\n",
       "$height\n",
       ":   190\n",
       "$married\n",
       ":   TRUE\n",
       "$number.children\n",
       ":   1\n",
       "$email\n",
       ":   'andrgig@gmail.com'\n",
       "$children.name\n",
       ":   'Arianna'\n",
       "\n",
       "\n"
      ],
      "text/plain": [
       "$name\n",
       "[1] \"Andrea\"\n",
       "\n",
       "$height\n",
       "[1] 190\n",
       "\n",
       "$married\n",
       "[1] TRUE\n",
       "\n",
       "$number.children\n",
       "[1] 1\n",
       "\n",
       "$email\n",
       "[1] \"andrgig@gmail.com\"\n",
       "\n",
       "$children.name\n",
       "[1] \"Arianna\"\n"
      ]
     },
     "metadata": {},
     "output_type": "display_data"
    }
   ],
   "source": [
    "L<-append(L,list(children.name=c(\"Arianna\")))\n",
    "L"
   ]
  },
  {
   "cell_type": "code",
   "execution_count": 85,
   "metadata": {
    "collapsed": false
   },
   "outputs": [
    {
     "data": {
      "text/html": [
       "<ol>\n",
       "\t<li>1</li>\n",
       "\t<li>NULL</li>\n",
       "\t<li>NULL</li>\n",
       "\t<li>NULL</li>\n",
       "\t<li>NULL</li>\n",
       "\t<li>NULL</li>\n",
       "\t<li>NULL</li>\n",
       "\t<li>NULL</li>\n",
       "\t<li>NULL</li>\n",
       "\t<li>'pippo'</li>\n",
       "\t<li>'pluto'</li>\n",
       "\t<li>1</li>\n",
       "\t<li>2</li>\n",
       "\t<li>3</li>\n",
       "</ol>\n"
      ],
      "text/latex": [
       "\\begin{enumerate}\n",
       "\\item 1\n",
       "\\item NULL\n",
       "\\item NULL\n",
       "\\item NULL\n",
       "\\item NULL\n",
       "\\item NULL\n",
       "\\item NULL\n",
       "\\item NULL\n",
       "\\item NULL\n",
       "\\item 'pippo'\n",
       "\\item 'pluto'\n",
       "\\item 1\n",
       "\\item 2\n",
       "\\item 3\n",
       "\\end{enumerate}\n"
      ],
      "text/markdown": [
       "1. 1\n",
       "2. NULL\n",
       "3. NULL\n",
       "4. NULL\n",
       "5. NULL\n",
       "6. NULL\n",
       "7. NULL\n",
       "8. NULL\n",
       "9. NULL\n",
       "10. 'pippo'\n",
       "11. 'pluto'\n",
       "12. 1\n",
       "13. 2\n",
       "14. 3\n",
       "\n",
       "\n"
      ],
      "text/plain": [
       "[[1]]\n",
       "[1] 1\n",
       "\n",
       "[[2]]\n",
       "NULL\n",
       "\n",
       "[[3]]\n",
       "NULL\n",
       "\n",
       "[[4]]\n",
       "NULL\n",
       "\n",
       "[[5]]\n",
       "NULL\n",
       "\n",
       "[[6]]\n",
       "NULL\n",
       "\n",
       "[[7]]\n",
       "NULL\n",
       "\n",
       "[[8]]\n",
       "NULL\n",
       "\n",
       "[[9]]\n",
       "NULL\n",
       "\n",
       "[[10]]\n",
       "[1] \"pippo\"\n",
       "\n",
       "[[11]]\n",
       "[1] \"pluto\"\n",
       "\n",
       "[[12]]\n",
       "[1] 1\n",
       "\n",
       "[[13]]\n",
       "[1] 2\n",
       "\n",
       "[[14]]\n",
       "[1] 3\n"
      ]
     },
     "metadata": {},
     "output_type": "display_data"
    }
   ],
   "source": [
    "#lists\n",
    "l <- list()\n",
    "l[10] <- \"pippo\"\n",
    "l[1] <- 1\n",
    "l <- append(l, \"pluto\")\n",
    "l <- c(l, c(1, 2, 3))\n",
    "l"
   ]
  },
  {
   "cell_type": "markdown",
   "metadata": {},
   "source": [
    "## Arrays and Matrices\n",
    "Multi-dimensioanl arrays are atomic vector with an additional attribute, dim(). A special case of array structures are matrices, which are bi-dimensional arrays. Matrices can contain numeric values only."
   ]
  },
  {
   "cell_type": "code",
   "execution_count": 86,
   "metadata": {
    "collapsed": true
   },
   "outputs": [],
   "source": [
    "#arrays\n",
    "a <- array(c(1,2,3,4,5,6,7,8,9,10), c(2,5))"
   ]
  },
  {
   "cell_type": "code",
   "execution_count": 87,
   "metadata": {
    "collapsed": false,
    "scrolled": false
   },
   "outputs": [
    {
     "data": {
      "text/html": [
       "<table>\n",
       "<tbody>\n",
       "\t<tr><td>1 </td><td>3 </td><td>5 </td><td>7 </td><td> 9</td></tr>\n",
       "\t<tr><td>2 </td><td>4 </td><td>6 </td><td>8 </td><td>10</td></tr>\n",
       "</tbody>\n",
       "</table>\n"
      ],
      "text/latex": [
       "\\begin{tabular}{lllll}\n",
       "\t 1  & 3  & 5  & 7  &  9\\\\\n",
       "\t 2  & 4  & 6  & 8  & 10\\\\\n",
       "\\end{tabular}\n"
      ],
      "text/markdown": [
       "1. 1\n",
       "2. 2\n",
       "3. 3\n",
       "4. 4\n",
       "5. 5\n",
       "6. 6\n",
       "7. 7\n",
       "8. 8\n",
       "9. 9\n",
       "10. 10\n",
       "\n",
       "\n"
      ],
      "text/plain": [
       "     [,1] [,2] [,3] [,4] [,5]\n",
       "[1,] 1    3    5    7     9  \n",
       "[2,] 2    4    6    8    10  "
      ]
     },
     "metadata": {},
     "output_type": "display_data"
    }
   ],
   "source": [
    "a"
   ]
  },
  {
   "cell_type": "code",
   "execution_count": 88,
   "metadata": {
    "collapsed": false,
    "scrolled": true
   },
   "outputs": [
    {
     "data": {
      "text/html": [
       "2"
      ],
      "text/latex": [
       "2"
      ],
      "text/markdown": [
       "2"
      ],
      "text/plain": [
       "[1] 2"
      ]
     },
     "metadata": {},
     "output_type": "display_data"
    },
    {
     "data": {
      "text/html": [
       "5"
      ],
      "text/latex": [
       "5"
      ],
      "text/markdown": [
       "5"
      ],
      "text/plain": [
       "[1] 5"
      ]
     },
     "metadata": {},
     "output_type": "display_data"
    }
   ],
   "source": [
    "nrow(a)\n",
    "ncol(a)"
   ]
  },
  {
   "cell_type": "code",
   "execution_count": 89,
   "metadata": {
    "collapsed": false
   },
   "outputs": [
    {
     "data": {
      "text/html": [
       "<table>\n",
       "<thead><tr><th></th><th scope=col>a</th><th scope=col>b</th><th scope=col>c</th><th scope=col>d</th><th scope=col>e</th></tr></thead>\n",
       "<tbody>\n",
       "\t<tr><th scope=row>A</th><td>1 </td><td>3 </td><td>5 </td><td>7 </td><td> 9</td></tr>\n",
       "\t<tr><th scope=row>B</th><td>2 </td><td>4 </td><td>6 </td><td>8 </td><td>10</td></tr>\n",
       "</tbody>\n",
       "</table>\n"
      ],
      "text/latex": [
       "\\begin{tabular}{r|lllll}\n",
       "  & a & b & c & d & e\\\\\n",
       "\\hline\n",
       "\tA & 1  & 3  & 5  & 7  &  9\\\\\n",
       "\tB & 2  & 4  & 6  & 8  & 10\\\\\n",
       "\\end{tabular}\n"
      ],
      "text/markdown": [
       "1. 1\n",
       "2. 2\n",
       "3. 3\n",
       "4. 4\n",
       "5. 5\n",
       "6. 6\n",
       "7. 7\n",
       "8. 8\n",
       "9. 9\n",
       "10. 10\n",
       "\n",
       "\n"
      ],
      "text/plain": [
       "  a b c d e \n",
       "A 1 3 5 7  9\n",
       "B 2 4 6 8 10"
      ]
     },
     "metadata": {},
     "output_type": "display_data"
    }
   ],
   "source": [
    "rownames(a) <- c(\"A\", \"B\")\n",
    "colnames(a) <- c(\"a\", \"b\", \"c\",\"d\",\"e\")\n",
    "a"
   ]
  },
  {
   "cell_type": "markdown",
   "metadata": {},
   "source": [
    "Accesso ad elementi dell'array tramite []:"
   ]
  },
  {
   "cell_type": "code",
   "execution_count": 90,
   "metadata": {
    "collapsed": false
   },
   "outputs": [
    {
     "data": {
      "text/html": [
       "1"
      ],
      "text/latex": [
       "1"
      ],
      "text/markdown": [
       "1"
      ],
      "text/plain": [
       "[1] 1"
      ]
     },
     "metadata": {},
     "output_type": "display_data"
    },
    {
     "data": {
      "text/html": [
       "1"
      ],
      "text/latex": [
       "1"
      ],
      "text/markdown": [
       "1"
      ],
      "text/plain": [
       "[1] 1"
      ]
     },
     "metadata": {},
     "output_type": "display_data"
    },
    {
     "data": {
      "text/html": [
       "3"
      ],
      "text/latex": [
       "3"
      ],
      "text/markdown": [
       "3"
      ],
      "text/plain": [
       "[1] 3"
      ]
     },
     "metadata": {},
     "output_type": "display_data"
    },
    {
     "data": {
      "text/html": [
       "3"
      ],
      "text/latex": [
       "3"
      ],
      "text/markdown": [
       "3"
      ],
      "text/plain": [
       "[1] 3"
      ]
     },
     "metadata": {},
     "output_type": "display_data"
    },
    {
     "data": {
      "text/html": [
       "<ol class=list-inline>\n",
       "\t<li>2</li>\n",
       "\t<li>3</li>\n",
       "\t<li>4</li>\n",
       "\t<li>5</li>\n",
       "\t<li>6</li>\n",
       "\t<li>7</li>\n",
       "\t<li>8</li>\n",
       "\t<li>9</li>\n",
       "\t<li>10</li>\n",
       "</ol>\n"
      ],
      "text/latex": [
       "\\begin{enumerate*}\n",
       "\\item 2\n",
       "\\item 3\n",
       "\\item 4\n",
       "\\item 5\n",
       "\\item 6\n",
       "\\item 7\n",
       "\\item 8\n",
       "\\item 9\n",
       "\\item 10\n",
       "\\end{enumerate*}\n"
      ],
      "text/markdown": [
       "1. 2\n",
       "2. 3\n",
       "3. 4\n",
       "4. 5\n",
       "5. 6\n",
       "6. 7\n",
       "7. 8\n",
       "8. 9\n",
       "9. 10\n",
       "\n",
       "\n"
      ],
      "text/plain": [
       "[1]  2  3  4  5  6  7  8  9 10"
      ]
     },
     "metadata": {},
     "output_type": "display_data"
    },
    {
     "data": {
      "text/html": [
       "<ol class=list-inline>\n",
       "\t<li>1</li>\n",
       "\t<li>3</li>\n",
       "\t<li>5</li>\n",
       "\t<li>6</li>\n",
       "\t<li>7</li>\n",
       "\t<li>8</li>\n",
       "\t<li>9</li>\n",
       "\t<li>10</li>\n",
       "</ol>\n"
      ],
      "text/latex": [
       "\\begin{enumerate*}\n",
       "\\item 1\n",
       "\\item 3\n",
       "\\item 5\n",
       "\\item 6\n",
       "\\item 7\n",
       "\\item 8\n",
       "\\item 9\n",
       "\\item 10\n",
       "\\end{enumerate*}\n"
      ],
      "text/markdown": [
       "1. 1\n",
       "2. 3\n",
       "3. 5\n",
       "4. 6\n",
       "5. 7\n",
       "6. 8\n",
       "7. 9\n",
       "8. 10\n",
       "\n",
       "\n"
      ],
      "text/plain": [
       "[1]  1  3  5  6  7  8  9 10"
      ]
     },
     "metadata": {},
     "output_type": "display_data"
    }
   ],
   "source": [
    "a[1]\n",
    "a[1,1]\n",
    "a[3]\n",
    "a[1,2]\n",
    "a[-1]\n",
    "a[-c(2,4)]"
   ]
  },
  {
   "cell_type": "code",
   "execution_count": 91,
   "metadata": {
    "collapsed": false,
    "scrolled": true
   },
   "outputs": [
    {
     "data": {
      "text/html": [
       "<ol class=list-inline>\n",
       "\t<li>1</li>\n",
       "\t<li>2</li>\n",
       "\t<li>3</li>\n",
       "\t<li>4</li>\n",
       "\t<li>5</li>\n",
       "\t<li>6</li>\n",
       "\t<li>7</li>\n",
       "\t<li>8</li>\n",
       "\t<li>9</li>\n",
       "\t<li>10</li>\n",
       "\t<li>11</li>\n",
       "\t<li>12</li>\n",
       "\t<li>13</li>\n",
       "\t<li>14</li>\n",
       "\t<li>15</li>\n",
       "\t<li>16</li>\n",
       "\t<li>17</li>\n",
       "\t<li>18</li>\n",
       "\t<li>19</li>\n",
       "\t<li>20</li>\n",
       "\t<li>21</li>\n",
       "\t<li>22</li>\n",
       "\t<li>23</li>\n",
       "\t<li>24</li>\n",
       "</ol>\n"
      ],
      "text/latex": [
       "\\begin{enumerate*}\n",
       "\\item 1\n",
       "\\item 2\n",
       "\\item 3\n",
       "\\item 4\n",
       "\\item 5\n",
       "\\item 6\n",
       "\\item 7\n",
       "\\item 8\n",
       "\\item 9\n",
       "\\item 10\n",
       "\\item 11\n",
       "\\item 12\n",
       "\\item 13\n",
       "\\item 14\n",
       "\\item 15\n",
       "\\item 16\n",
       "\\item 17\n",
       "\\item 18\n",
       "\\item 19\n",
       "\\item 20\n",
       "\\item 21\n",
       "\\item 22\n",
       "\\item 23\n",
       "\\item 24\n",
       "\\end{enumerate*}\n"
      ],
      "text/markdown": [
       "1. 1\n",
       "2. 2\n",
       "3. 3\n",
       "4. 4\n",
       "5. 5\n",
       "6. 6\n",
       "7. 7\n",
       "8. 8\n",
       "9. 9\n",
       "10. 10\n",
       "11. 11\n",
       "12. 12\n",
       "13. 13\n",
       "14. 14\n",
       "15. 15\n",
       "16. 16\n",
       "17. 17\n",
       "18. 18\n",
       "19. 19\n",
       "20. 20\n",
       "21. 21\n",
       "22. 22\n",
       "23. 23\n",
       "24. 24\n",
       "\n",
       "\n"
      ],
      "text/plain": [
       ", , 1\n",
       "\n",
       "     [,1] [,2] [,3] [,4]\n",
       "[1,]    1    3    5    7\n",
       "[2,]    2    4    6    8\n",
       "\n",
       ", , 2\n",
       "\n",
       "     [,1] [,2] [,3] [,4]\n",
       "[1,]    9   11   13   15\n",
       "[2,]   10   12   14   16\n",
       "\n",
       ", , 3\n",
       "\n",
       "     [,1] [,2] [,3] [,4]\n",
       "[1,]   17   19   21   23\n",
       "[2,]   18   20   22   24\n"
      ]
     },
     "metadata": {},
     "output_type": "display_data"
    },
    {
     "data": {
      "text/html": [
       "1"
      ],
      "text/latex": [
       "1"
      ],
      "text/markdown": [
       "1"
      ],
      "text/plain": [
       "[1] 1"
      ]
     },
     "metadata": {},
     "output_type": "display_data"
    },
    {
     "data": {
      "text/html": [
       "17"
      ],
      "text/latex": [
       "17"
      ],
      "text/markdown": [
       "17"
      ],
      "text/plain": [
       "[1] 17"
      ]
     },
     "metadata": {},
     "output_type": "display_data"
    },
    {
     "data": {
      "text/html": [
       "24"
      ],
      "text/latex": [
       "24"
      ],
      "text/markdown": [
       "24"
      ],
      "text/plain": [
       "[1] 24"
      ]
     },
     "metadata": {},
     "output_type": "display_data"
    }
   ],
   "source": [
    "a1 <- array(seq_len(24), c(2,4,3))\n",
    "a1\n",
    "a1[1,1,1]\n",
    "a1[1,1,3]\n",
    "a1[2,4,3]"
   ]
  },
  {
   "cell_type": "code",
   "execution_count": 92,
   "metadata": {
    "collapsed": false
   },
   "outputs": [
    {
     "data": {
      "text/html": [
       "24"
      ],
      "text/latex": [
       "24"
      ],
      "text/markdown": [
       "24"
      ],
      "text/plain": [
       "[1] 24"
      ]
     },
     "metadata": {},
     "output_type": "display_data"
    }
   ],
   "source": [
    "length(a1)"
   ]
  },
  {
   "cell_type": "code",
   "execution_count": 93,
   "metadata": {
    "collapsed": false,
    "scrolled": true
   },
   "outputs": [
    {
     "data": {
      "text/html": [
       "<strong>$dim</strong> = <ol class=list-inline>\n",
       "\t<li>2</li>\n",
       "\t<li>4</li>\n",
       "\t<li>3</li>\n",
       "</ol>\n"
      ],
      "text/latex": [
       "\\textbf{\\$dim} = \\begin{enumerate*}\n",
       "\\item 2\n",
       "\\item 4\n",
       "\\item 3\n",
       "\\end{enumerate*}\n"
      ],
      "text/markdown": [
       "**$dim** = 1. 2\n",
       "2. 4\n",
       "3. 3\n",
       "\n",
       "\n"
      ],
      "text/plain": [
       "$dim\n",
       "[1] 2 4 3\n"
      ]
     },
     "metadata": {},
     "output_type": "display_data"
    }
   ],
   "source": [
    "attributes(a1)"
   ]
  },
  {
   "cell_type": "code",
   "execution_count": 94,
   "metadata": {
    "collapsed": false
   },
   "outputs": [
    {
     "data": {
      "text/html": [
       "<ol class=list-inline>\n",
       "\t<li>1</li>\n",
       "\t<li>2</li>\n",
       "\t<li>3</li>\n",
       "\t<li>4</li>\n",
       "\t<li>5</li>\n",
       "\t<li>6</li>\n",
       "\t<li>7</li>\n",
       "\t<li>8</li>\n",
       "\t<li>9</li>\n",
       "\t<li>10</li>\n",
       "\t<li>11</li>\n",
       "\t<li>12</li>\n",
       "\t<li>13</li>\n",
       "\t<li>14</li>\n",
       "\t<li>15</li>\n",
       "\t<li>16</li>\n",
       "\t<li>17</li>\n",
       "\t<li>18</li>\n",
       "\t<li>19</li>\n",
       "\t<li>20</li>\n",
       "\t<li>21</li>\n",
       "\t<li>22</li>\n",
       "\t<li>23</li>\n",
       "\t<li>24</li>\n",
       "</ol>\n"
      ],
      "text/latex": [
       "\\begin{enumerate*}\n",
       "\\item 1\n",
       "\\item 2\n",
       "\\item 3\n",
       "\\item 4\n",
       "\\item 5\n",
       "\\item 6\n",
       "\\item 7\n",
       "\\item 8\n",
       "\\item 9\n",
       "\\item 10\n",
       "\\item 11\n",
       "\\item 12\n",
       "\\item 13\n",
       "\\item 14\n",
       "\\item 15\n",
       "\\item 16\n",
       "\\item 17\n",
       "\\item 18\n",
       "\\item 19\n",
       "\\item 20\n",
       "\\item 21\n",
       "\\item 22\n",
       "\\item 23\n",
       "\\item 24\n",
       "\\end{enumerate*}\n"
      ],
      "text/markdown": [
       "1. 1\n",
       "2. 2\n",
       "3. 3\n",
       "4. 4\n",
       "5. 5\n",
       "6. 6\n",
       "7. 7\n",
       "8. 8\n",
       "9. 9\n",
       "10. 10\n",
       "11. 11\n",
       "12. 12\n",
       "13. 13\n",
       "14. 14\n",
       "15. 15\n",
       "16. 16\n",
       "17. 17\n",
       "18. 18\n",
       "19. 19\n",
       "20. 20\n",
       "21. 21\n",
       "22. 22\n",
       "23. 23\n",
       "24. 24\n",
       "\n",
       "\n"
      ],
      "text/plain": [
       " [1]  1  2  3  4  5  6  7  8  9 10 11 12 13 14 15 16 17 18 19 20 21 22 23 24"
      ]
     },
     "metadata": {},
     "output_type": "display_data"
    }
   ],
   "source": [
    "#transform array into vectors\n",
    "dim(a1) <- NULL\n",
    "a1"
   ]
  },
  {
   "cell_type": "code",
   "execution_count": 95,
   "metadata": {
    "collapsed": false,
    "scrolled": true
   },
   "outputs": [
    {
     "data": {
      "text/plain": [
       "NULL"
      ]
     },
     "metadata": {},
     "output_type": "display_data"
    }
   ],
   "source": [
    "attributes(a1)"
   ]
  },
  {
   "cell_type": "code",
   "execution_count": 96,
   "metadata": {
    "collapsed": false
   },
   "outputs": [
    {
     "data": {
      "text/html": [
       "24"
      ],
      "text/latex": [
       "24"
      ],
      "text/markdown": [
       "24"
      ],
      "text/plain": [
       "[1] 24"
      ]
     },
     "metadata": {},
     "output_type": "display_data"
    }
   ],
   "source": [
    "length(a1)"
   ]
  },
  {
   "cell_type": "code",
   "execution_count": 97,
   "metadata": {
    "collapsed": false
   },
   "outputs": [
    {
     "data": {
      "text/html": [
       "<table>\n",
       "<tbody>\n",
       "\t<tr><td>1</td><td>3</td><td>5</td></tr>\n",
       "\t<tr><td>2</td><td>4</td><td>6</td></tr>\n",
       "</tbody>\n",
       "</table>\n"
      ],
      "text/latex": [
       "\\begin{tabular}{lll}\n",
       "\t 1 & 3 & 5\\\\\n",
       "\t 2 & 4 & 6\\\\\n",
       "\\end{tabular}\n"
      ],
      "text/markdown": [
       "1. 1\n",
       "2. 2\n",
       "3. 3\n",
       "4. 4\n",
       "5. 5\n",
       "6. 6\n",
       "\n",
       "\n"
      ],
      "text/plain": [
       "     [,1] [,2] [,3]\n",
       "[1,] 1    3    5   \n",
       "[2,] 2    4    6   "
      ]
     },
     "metadata": {},
     "output_type": "display_data"
    }
   ],
   "source": [
    "# Matrix definition requires 2 scalar arguments to specify rows and columns\n",
    "a <- matrix(1:6, ncol = 3, nrow = 2)\n",
    "a"
   ]
  },
  {
   "cell_type": "code",
   "execution_count": 98,
   "metadata": {
    "collapsed": false
   },
   "outputs": [
    {
     "data": {
      "text/html": [
       "<table>\n",
       "<tbody>\n",
       "\t<tr><td>1 </td><td> 6</td></tr>\n",
       "\t<tr><td>2 </td><td> 7</td></tr>\n",
       "\t<tr><td>3 </td><td> 8</td></tr>\n",
       "\t<tr><td>4 </td><td> 9</td></tr>\n",
       "\t<tr><td>5 </td><td>10</td></tr>\n",
       "</tbody>\n",
       "</table>\n"
      ],
      "text/latex": [
       "\\begin{tabular}{ll}\n",
       "\t 1  &  6\\\\\n",
       "\t 2  &  7\\\\\n",
       "\t 3  &  8\\\\\n",
       "\t 4  &  9\\\\\n",
       "\t 5  & 10\\\\\n",
       "\\end{tabular}\n"
      ],
      "text/markdown": [
       "1. 1\n",
       "2. 2\n",
       "3. 3\n",
       "4. 4\n",
       "5. 5\n",
       "6. 6\n",
       "7. 7\n",
       "8. 8\n",
       "9. 9\n",
       "10. 10\n",
       "\n",
       "\n"
      ],
      "text/plain": [
       "     [,1] [,2]\n",
       "[1,] 1     6  \n",
       "[2,] 2     7  \n",
       "[3,] 3     8  \n",
       "[4,] 4     9  \n",
       "[5,] 5    10  "
      ]
     },
     "metadata": {},
     "output_type": "display_data"
    }
   ],
   "source": [
    "#or just one of them\n",
    "m <- matrix(c(1,2,3,4,5,6,7,8,9,10), ncol = 2) # a matrix is a 2D array\n",
    "m"
   ]
  },
  {
   "cell_type": "code",
   "execution_count": 99,
   "metadata": {
    "collapsed": false
   },
   "outputs": [
    {
     "data": {
      "text/html": [
       "<ol class=list-inline>\n",
       "\t<li>5</li>\n",
       "\t<li>2</li>\n",
       "</ol>\n"
      ],
      "text/latex": [
       "\\begin{enumerate*}\n",
       "\\item 5\n",
       "\\item 2\n",
       "\\end{enumerate*}\n"
      ],
      "text/markdown": [
       "1. 5\n",
       "2. 2\n",
       "\n",
       "\n"
      ],
      "text/plain": [
       "[1] 5 2"
      ]
     },
     "metadata": {},
     "output_type": "display_data"
    }
   ],
   "source": [
    "dim(m)"
   ]
  },
  {
   "cell_type": "code",
   "execution_count": 100,
   "metadata": {
    "collapsed": false
   },
   "outputs": [
    {
     "data": {
      "text/html": [
       "2"
      ],
      "text/latex": [
       "2"
      ],
      "text/markdown": [
       "2"
      ],
      "text/plain": [
       "[1] 2"
      ]
     },
     "metadata": {},
     "output_type": "display_data"
    },
    {
     "data": {
      "text/html": [
       "5"
      ],
      "text/latex": [
       "5"
      ],
      "text/markdown": [
       "5"
      ],
      "text/plain": [
       "[1] 5"
      ]
     },
     "metadata": {},
     "output_type": "display_data"
    }
   ],
   "source": [
    "#get dimensions and set dim names\n",
    "ncol(m); nrow(m)"
   ]
  },
  {
   "cell_type": "markdown",
   "metadata": {},
   "source": [
    "Here are some matrix operations you can try"
   ]
  },
  {
   "cell_type": "code",
   "execution_count": 101,
   "metadata": {
    "collapsed": false,
    "scrolled": true
   },
   "outputs": [
    {
     "data": {
      "text/html": [
       "<table>\n",
       "<tbody>\n",
       "\t<tr><td>1 </td><td>2 </td><td>3 </td><td>4 </td><td> 5</td></tr>\n",
       "\t<tr><td>6 </td><td>7 </td><td>8 </td><td>9 </td><td>10</td></tr>\n",
       "</tbody>\n",
       "</table>\n"
      ],
      "text/latex": [
       "\\begin{tabular}{lllll}\n",
       "\t 1  & 2  & 3  & 4  &  5\\\\\n",
       "\t 6  & 7  & 8  & 9  & 10\\\\\n",
       "\\end{tabular}\n"
      ],
      "text/markdown": [
       "1. 1\n",
       "2. 6\n",
       "3. 2\n",
       "4. 7\n",
       "5. 3\n",
       "6. 8\n",
       "7. 4\n",
       "8. 9\n",
       "9. 5\n",
       "10. 10\n",
       "\n",
       "\n"
      ],
      "text/plain": [
       "     [,1] [,2] [,3] [,4] [,5]\n",
       "[1,] 1    2    3    4     5  \n",
       "[2,] 6    7    8    9    10  "
      ]
     },
     "metadata": {},
     "output_type": "display_data"
    },
    {
     "data": {
      "text/html": [
       "<table>\n",
       "<tbody>\n",
       "\t<tr><td>1.4 </td><td> 8.4</td></tr>\n",
       "\t<tr><td>2.8 </td><td> 9.8</td></tr>\n",
       "\t<tr><td>4.2 </td><td>11.2</td></tr>\n",
       "\t<tr><td>5.6 </td><td>12.6</td></tr>\n",
       "\t<tr><td>7.0 </td><td>14.0</td></tr>\n",
       "</tbody>\n",
       "</table>\n"
      ],
      "text/latex": [
       "\\begin{tabular}{ll}\n",
       "\t 1.4  &  8.4\\\\\n",
       "\t 2.8  &  9.8\\\\\n",
       "\t 4.2  & 11.2\\\\\n",
       "\t 5.6  & 12.6\\\\\n",
       "\t 7.0  & 14.0\\\\\n",
       "\\end{tabular}\n"
      ],
      "text/markdown": [
       "1. 1.4\n",
       "2. 2.8\n",
       "3. 4.2\n",
       "4. 5.6\n",
       "5. 7\n",
       "6. 8.4\n",
       "7. 9.8\n",
       "8. 11.2\n",
       "9. 12.6\n",
       "10. 14\n",
       "\n",
       "\n"
      ],
      "text/plain": [
       "     [,1] [,2]\n",
       "[1,] 1.4   8.4\n",
       "[2,] 2.8   9.8\n",
       "[3,] 4.2  11.2\n",
       "[4,] 5.6  12.6\n",
       "[5,] 7.0  14.0"
      ]
     },
     "metadata": {},
     "output_type": "display_data"
    },
    {
     "data": {
      "text/html": [
       "<table>\n",
       "<tbody>\n",
       "\t<tr><td> 0.4</td><td>14.4</td></tr>\n",
       "\t<tr><td> 1.6</td><td>19.6</td></tr>\n",
       "\t<tr><td> 3.6</td><td>25.6</td></tr>\n",
       "\t<tr><td> 6.4</td><td>32.4</td></tr>\n",
       "\t<tr><td>10.0</td><td>40.0</td></tr>\n",
       "</tbody>\n",
       "</table>\n"
      ],
      "text/latex": [
       "\\begin{tabular}{ll}\n",
       "\t  0.4 & 14.4\\\\\n",
       "\t  1.6 & 19.6\\\\\n",
       "\t  3.6 & 25.6\\\\\n",
       "\t  6.4 & 32.4\\\\\n",
       "\t 10.0 & 40.0\\\\\n",
       "\\end{tabular}\n"
      ],
      "text/markdown": [
       "1. 0.4\n",
       "2. 1.6\n",
       "3. 3.6\n",
       "4. 6.4\n",
       "5. 10\n",
       "6. 14.4\n",
       "7. 19.6\n",
       "8. 25.6\n",
       "9. 32.4\n",
       "10. 40\n",
       "\n",
       "\n"
      ],
      "text/plain": [
       "     [,1] [,2]\n",
       "[1,]  0.4 14.4\n",
       "[2,]  1.6 19.6\n",
       "[3,]  3.6 25.6\n",
       "[4,]  6.4 32.4\n",
       "[5,] 10.0 40.0"
      ]
     },
     "metadata": {},
     "output_type": "display_data"
    }
   ],
   "source": [
    "t(m) #matrice trasposta\n",
    "n <- m*2/5\n",
    "m + n #matrice somma (componente per componente)\n",
    "m * n #matrice prodotto componente per componente!!\n"
   ]
  },
  {
   "cell_type": "code",
   "execution_count": 102,
   "metadata": {
    "collapsed": false
   },
   "outputs": [
    {
     "data": {
      "text/html": [
       "<table>\n",
       "<tbody>\n",
       "\t<tr><td>14.8</td><td>17.6</td><td>20.4</td><td>23.2</td><td>26  </td></tr>\n",
       "\t<tr><td>17.6</td><td>21.2</td><td>24.8</td><td>28.4</td><td>32  </td></tr>\n",
       "\t<tr><td>20.4</td><td>24.8</td><td>29.2</td><td>33.6</td><td>38  </td></tr>\n",
       "\t<tr><td>23.2</td><td>28.4</td><td>33.6</td><td>38.8</td><td>44  </td></tr>\n",
       "\t<tr><td>26.0</td><td>32.0</td><td>38.0</td><td>44.0</td><td>50  </td></tr>\n",
       "</tbody>\n",
       "</table>\n"
      ],
      "text/latex": [
       "\\begin{tabular}{lllll}\n",
       "\t 14.8 & 17.6 & 20.4 & 23.2 & 26  \\\\\n",
       "\t 17.6 & 21.2 & 24.8 & 28.4 & 32  \\\\\n",
       "\t 20.4 & 24.8 & 29.2 & 33.6 & 38  \\\\\n",
       "\t 23.2 & 28.4 & 33.6 & 38.8 & 44  \\\\\n",
       "\t 26.0 & 32.0 & 38.0 & 44.0 & 50  \\\\\n",
       "\\end{tabular}\n"
      ],
      "text/markdown": [
       "1. 14.8\n",
       "2. 17.6\n",
       "3. 20.4\n",
       "4. 23.2\n",
       "5. 26\n",
       "6. 17.6\n",
       "7. 21.2\n",
       "8. 24.8\n",
       "9. 28.4\n",
       "10. 32\n",
       "11. 20.4\n",
       "12. 24.8\n",
       "13. 29.2\n",
       "14. 33.6\n",
       "15. 38\n",
       "16. 23.2\n",
       "17. 28.4\n",
       "18. 33.6\n",
       "19. 38.8\n",
       "20. 44\n",
       "21. 26\n",
       "22. 32\n",
       "23. 38\n",
       "24. 44\n",
       "25. 50\n",
       "\n",
       "\n"
      ],
      "text/plain": [
       "     [,1] [,2] [,3] [,4] [,5]\n",
       "[1,] 14.8 17.6 20.4 23.2 26  \n",
       "[2,] 17.6 21.2 24.8 28.4 32  \n",
       "[3,] 20.4 24.8 29.2 33.6 38  \n",
       "[4,] 23.2 28.4 33.6 38.8 44  \n",
       "[5,] 26.0 32.0 38.0 44.0 50  "
      ]
     },
     "metadata": {},
     "output_type": "display_data"
    },
    {
     "data": {
      "text/html": [
       "<table>\n",
       "<tbody>\n",
       "\t<tr><td>5</td><td>0</td><td>0</td></tr>\n",
       "\t<tr><td>0</td><td>6</td><td>0</td></tr>\n",
       "\t<tr><td>0</td><td>0</td><td>7</td></tr>\n",
       "</tbody>\n",
       "</table>\n"
      ],
      "text/latex": [
       "\\begin{tabular}{lll}\n",
       "\t 5 & 0 & 0\\\\\n",
       "\t 0 & 6 & 0\\\\\n",
       "\t 0 & 0 & 7\\\\\n",
       "\\end{tabular}\n"
      ],
      "text/markdown": [
       "1. 5\n",
       "2. 0\n",
       "3. 0\n",
       "4. 0\n",
       "5. 6\n",
       "6. 0\n",
       "7. 0\n",
       "8. 0\n",
       "9. 7\n",
       "\n",
       "\n"
      ],
      "text/plain": [
       "     [,1] [,2] [,3]\n",
       "[1,] 5    0    0   \n",
       "[2,] 0    6    0   \n",
       "[3,] 0    0    7   "
      ]
     },
     "metadata": {},
     "output_type": "display_data"
    },
    {
     "data": {
      "text/html": [
       "<dl>\n",
       "\t<dt>$values</dt>\n",
       "\t\t<dd><ol class=list-inline>\n",
       "\t<li>152.690157880665</li>\n",
       "\t<li>1.30984211933496</li>\n",
       "\t<li>-3.42417484520776e-15</li>\n",
       "\t<li>-8.11454132722598e-15</li>\n",
       "\t<li>-8.13602239870169e-15</li>\n",
       "</ol>\n",
       "</dd>\n",
       "\t<dt>$vectors</dt>\n",
       "\t\t<dd><table>\n",
       "<tbody>\n",
       "\t<tr><td>-0.3042621   </td><td>-0.71233741  </td><td> 0.00000000  </td><td> 6.324555e-01</td><td> 0.0000000   </td></tr>\n",
       "\t<tr><td>-0.3707409   </td><td>-0.40317635  </td><td>-0.02698067  </td><td>-6.324555e-01</td><td> 0.5470576   </td></tr>\n",
       "\t<tr><td>-0.4372198   </td><td>-0.09401529  </td><td> 0.44372691  </td><td>-3.162278e-01</td><td>-0.7093000   </td></tr>\n",
       "\t<tr><td>-0.5036986   </td><td> 0.21514578  </td><td>-0.80651180  </td><td> 7.216450e-16</td><td>-0.2225730   </td></tr>\n",
       "\t<tr><td>-0.5701775   </td><td> 0.52430684  </td><td> 0.38976556  </td><td> 3.162278e-01</td><td> 0.3848153   </td></tr>\n",
       "</tbody>\n",
       "</table>\n",
       "</dd>\n",
       "</dl>\n"
      ],
      "text/latex": [
       "\\begin{description}\n",
       "\\item[\\$values] \\begin{enumerate*}\n",
       "\\item 152.690157880665\n",
       "\\item 1.30984211933496\n",
       "\\item -3.42417484520776e-15\n",
       "\\item -8.11454132722598e-15\n",
       "\\item -8.13602239870169e-15\n",
       "\\end{enumerate*}\n",
       "\n",
       "\\item[\\$vectors] \\begin{tabular}{lllll}\n",
       "\t -0.3042621    & -0.71233741   &  0.00000000   &  6.324555e-01 &  0.0000000   \\\\\n",
       "\t -0.3707409    & -0.40317635   & -0.02698067   & -6.324555e-01 &  0.5470576   \\\\\n",
       "\t -0.4372198    & -0.09401529   &  0.44372691   & -3.162278e-01 & -0.7093000   \\\\\n",
       "\t -0.5036986    &  0.21514578   & -0.80651180   &  7.216450e-16 & -0.2225730   \\\\\n",
       "\t -0.5701775    &  0.52430684   &  0.38976556   &  3.162278e-01 &  0.3848153   \\\\\n",
       "\\end{tabular}\n",
       "\n",
       "\\end{description}\n"
      ],
      "text/markdown": [
       "$values\n",
       ":   1. 152.690157880665\n",
       "2. 1.30984211933496\n",
       "3. -3.42417484520776e-15\n",
       "4. -8.11454132722598e-15\n",
       "5. -8.13602239870169e-15\n",
       "\n",
       "\n",
       "\n",
       "$vectors\n",
       ":   1. -0.304262073783932\n",
       "2. -0.370740921013268\n",
       "3. -0.437219768242605\n",
       "4. -0.503698615471941\n",
       "5. -0.570177462701278\n",
       "6. -0.712337413348968\n",
       "7. -0.403176350355822\n",
       "8. -0.0940152873626493\n",
       "9. 0.215145775630501\n",
       "10. 0.524306838623654\n",
       "11. 0\n",
       "12. -0.026980673899568\n",
       "13. 0.44372690965274\n",
       "14. -0.80651179760677\n",
       "15. 0.389765561853598\n",
       "16. 0.632455532033679\n",
       "17. -0.632455532033681\n",
       "18. -0.316227766016828\n",
       "19. 7.21644966006352e-16\n",
       "20. 0.316227766016832\n",
       "21. 0\n",
       "22. 0.547057623323093\n",
       "23. -0.709299957458082\n",
       "24. -0.222572955053161\n",
       "25. 0.384815289188145\n",
       "\n",
       "\n",
       "\n",
       "\n",
       "\n"
      ],
      "text/plain": [
       "$values\n",
       "[1]  1.526902e+02  1.309842e+00 -3.424175e-15 -8.114541e-15 -8.136022e-15\n",
       "\n",
       "$vectors\n",
       "           [,1]        [,2]        [,3]          [,4]       [,5]\n",
       "[1,] -0.3042621 -0.71233741  0.00000000  6.324555e-01  0.0000000\n",
       "[2,] -0.3707409 -0.40317635 -0.02698067 -6.324555e-01  0.5470576\n",
       "[3,] -0.4372198 -0.09401529  0.44372691 -3.162278e-01 -0.7093000\n",
       "[4,] -0.5036986  0.21514578 -0.80651180  7.216450e-16 -0.2225730\n",
       "[5,] -0.5701775  0.52430684  0.38976556  3.162278e-01  0.3848153\n"
      ]
     },
     "metadata": {},
     "output_type": "display_data"
    },
    {
     "data": {
      "text/plain": [
       "$qr\n",
       "            [,1]        [,2]          [,3]          [,4]          [,5]\n",
       "[1,] -46.4671927 -56.6076805 -6.674817e+01 -7.688866e+01 -8.702914e+01\n",
       "[2,]   0.3787619   0.6086934  1.217387e+00  1.826080e+00  2.434773e+00\n",
       "[3,]   0.4390194  -0.1498862 -6.301922e-15 -6.669632e-16  3.706437e-15\n",
       "[4,]   0.4992770  -0.4925889  6.518369e-01  1.737456e-15  5.360213e-16\n",
       "[5,]   0.5595346  -0.8352916 -3.523443e-02  8.753660e-01 -3.983144e-15\n",
       "\n",
       "$rank\n",
       "[1] 2\n",
       "\n",
       "$qraux\n",
       "[1] 1.318504e+00 1.192816e+00 1.757540e+00 1.483461e+00 3.983144e-15\n",
       "\n",
       "$pivot\n",
       "[1] 1 2 3 4 5\n",
       "\n",
       "attr(,\"class\")\n",
       "[1] \"qr\""
      ]
     },
     "metadata": {},
     "output_type": "display_data"
    },
    {
     "data": {
      "text/html": [
       "<dl>\n",
       "\t<dt>$d</dt>\n",
       "\t\t<dd><ol class=list-inline>\n",
       "\t<li>152.690157880665</li>\n",
       "\t<li>1.30984211933495</li>\n",
       "\t<li>6.35511869329744e-15</li>\n",
       "\t<li>2.37254966923248e-15</li>\n",
       "\t<li>1.31323366494074e-15</li>\n",
       "</ol>\n",
       "</dd>\n",
       "\t<dt>$u</dt>\n",
       "\t\t<dd><table>\n",
       "<tbody>\n",
       "\t<tr><td>-0.3042621 </td><td>-0.71233741</td><td> 0.61211795</td><td>-0.10250109</td><td> 0.1216764 </td></tr>\n",
       "\t<tr><td>-0.3707409 </td><td>-0.40317635</td><td>-0.74624939</td><td>-0.32576568</td><td> 0.1923241 </td></tr>\n",
       "\t<tr><td>-0.4372198 </td><td>-0.09401529</td><td>-0.15069837</td><td> 0.86802314</td><td>-0.1543562 </td></tr>\n",
       "\t<tr><td>-0.5036986 </td><td> 0.21514578</td><td> 0.09167311</td><td>-0.34874488</td><td>-0.7549656 </td></tr>\n",
       "\t<tr><td>-0.5701775 </td><td> 0.52430684</td><td> 0.19315670</td><td>-0.09101149</td><td> 0.5953213 </td></tr>\n",
       "</tbody>\n",
       "</table>\n",
       "</dd>\n",
       "\t<dt>$v</dt>\n",
       "\t\t<dd><table>\n",
       "<tbody>\n",
       "\t<tr><td>-0.3042621  </td><td>-0.71233741 </td><td> 0.33548899 </td><td> 0.334905904</td><td> 0.41867072 </td></tr>\n",
       "\t<tr><td>-0.3707409  </td><td>-0.40317635 </td><td>-0.01704823 </td><td>-0.770650749</td><td>-0.32527954 </td></tr>\n",
       "\t<tr><td>-0.4372198  </td><td>-0.09401529 </td><td>-0.34047150 </td><td> 0.533736673</td><td>-0.63182618 </td></tr>\n",
       "\t<tr><td>-0.5036986  </td><td> 0.21514578 </td><td>-0.60986826 </td><td>-0.095144714</td><td> 0.56480809 </td></tr>\n",
       "\t<tr><td>-0.5701775  </td><td> 0.52430684 </td><td> 0.63189901 </td><td>-0.002847113</td><td>-0.02637309 </td></tr>\n",
       "</tbody>\n",
       "</table>\n",
       "</dd>\n",
       "</dl>\n"
      ],
      "text/latex": [
       "\\begin{description}\n",
       "\\item[\\$d] \\begin{enumerate*}\n",
       "\\item 152.690157880665\n",
       "\\item 1.30984211933495\n",
       "\\item 6.35511869329744e-15\n",
       "\\item 2.37254966923248e-15\n",
       "\\item 1.31323366494074e-15\n",
       "\\end{enumerate*}\n",
       "\n",
       "\\item[\\$u] \\begin{tabular}{lllll}\n",
       "\t -0.3042621  & -0.71233741 &  0.61211795 & -0.10250109 &  0.1216764 \\\\\n",
       "\t -0.3707409  & -0.40317635 & -0.74624939 & -0.32576568 &  0.1923241 \\\\\n",
       "\t -0.4372198  & -0.09401529 & -0.15069837 &  0.86802314 & -0.1543562 \\\\\n",
       "\t -0.5036986  &  0.21514578 &  0.09167311 & -0.34874488 & -0.7549656 \\\\\n",
       "\t -0.5701775  &  0.52430684 &  0.19315670 & -0.09101149 &  0.5953213 \\\\\n",
       "\\end{tabular}\n",
       "\n",
       "\\item[\\$v] \\begin{tabular}{lllll}\n",
       "\t -0.3042621   & -0.71233741  &  0.33548899  &  0.334905904 &  0.41867072 \\\\\n",
       "\t -0.3707409   & -0.40317635  & -0.01704823  & -0.770650749 & -0.32527954 \\\\\n",
       "\t -0.4372198   & -0.09401529  & -0.34047150  &  0.533736673 & -0.63182618 \\\\\n",
       "\t -0.5036986   &  0.21514578  & -0.60986826  & -0.095144714 &  0.56480809 \\\\\n",
       "\t -0.5701775   &  0.52430684  &  0.63189901  & -0.002847113 & -0.02637309 \\\\\n",
       "\\end{tabular}\n",
       "\n",
       "\\end{description}\n"
      ],
      "text/markdown": [
       "$d\n",
       ":   1. 152.690157880665\n",
       "2. 1.30984211933495\n",
       "3. 6.35511869329744e-15\n",
       "4. 2.37254966923248e-15\n",
       "5. 1.31323366494074e-15\n",
       "\n",
       "\n",
       "\n",
       "$u\n",
       ":   1. -0.304262073783932\n",
       "2. -0.370740921013268\n",
       "3. -0.437219768242605\n",
       "4. -0.503698615471941\n",
       "5. -0.570177462701278\n",
       "6. -0.712337413348966\n",
       "7. -0.403176350355818\n",
       "8. -0.0940152873626562\n",
       "9. 0.215145775630499\n",
       "10. 0.524306838623658\n",
       "11. 0.612117949200558\n",
       "12. -0.74624938581608\n",
       "13. -0.150698374513969\n",
       "14. 0.0916731096739721\n",
       "15. 0.193156701455522\n",
       "16. -0.102501087933678\n",
       "17. -0.325765678742928\n",
       "18. 0.868023136101234\n",
       "19. -0.348744884238966\n",
       "20. -0.0910114851856615\n",
       "21. 0.121676387351536\n",
       "22. 0.19232414492798\n",
       "23. -0.154356195573179\n",
       "24. -0.754965593043719\n",
       "25. 0.595321256337383\n",
       "\n",
       "\n",
       "\n",
       "$v\n",
       ":   1. -0.304262073783932\n",
       "2. -0.370740921013268\n",
       "3. -0.437219768242605\n",
       "4. -0.503698615471941\n",
       "5. -0.570177462701278\n",
       "6. -0.712337413348973\n",
       "7. -0.403176350355811\n",
       "8. -0.0940152873626565\n",
       "9. 0.215145775630504\n",
       "10. 0.524306838623652\n",
       "11. 0.335488987563624\n",
       "12. -0.017048227882257\n",
       "13. -0.340471500904047\n",
       "14. -0.609868264799656\n",
       "15. 0.631899006022333\n",
       "16. 0.334905903975049\n",
       "17. -0.77065074898883\n",
       "18. 0.533736672742054\n",
       "19. -0.0951447144178289\n",
       "20. -0.00284711331044607\n",
       "21. 0.418670723488263\n",
       "22. -0.32527954286895\n",
       "23. -0.631826179611439\n",
       "24. 0.564808093876677\n",
       "25. -0.0263730948845506\n",
       "\n",
       "\n",
       "\n",
       "\n",
       "\n"
      ],
      "text/plain": [
       "$d\n",
       "[1] 1.526902e+02 1.309842e+00 6.355119e-15 2.372550e-15 1.313234e-15\n",
       "\n",
       "$u\n",
       "           [,1]        [,2]        [,3]        [,4]       [,5]\n",
       "[1,] -0.3042621 -0.71233741  0.61211795 -0.10250109  0.1216764\n",
       "[2,] -0.3707409 -0.40317635 -0.74624939 -0.32576568  0.1923241\n",
       "[3,] -0.4372198 -0.09401529 -0.15069837  0.86802314 -0.1543562\n",
       "[4,] -0.5036986  0.21514578  0.09167311 -0.34874488 -0.7549656\n",
       "[5,] -0.5701775  0.52430684  0.19315670 -0.09101149  0.5953213\n",
       "\n",
       "$v\n",
       "           [,1]        [,2]        [,3]         [,4]        [,5]\n",
       "[1,] -0.3042621 -0.71233741  0.33548899  0.334905904  0.41867072\n",
       "[2,] -0.3707409 -0.40317635 -0.01704823 -0.770650749 -0.32527954\n",
       "[3,] -0.4372198 -0.09401529 -0.34047150  0.533736673 -0.63182618\n",
       "[4,] -0.5036986  0.21514578 -0.60986826 -0.095144714  0.56480809\n",
       "[5,] -0.5701775  0.52430684  0.63189901 -0.002847113 -0.02637309\n"
      ]
     },
     "metadata": {},
     "output_type": "display_data"
    }
   ],
   "source": [
    "A <- m %*% t(n); A #prodotto matriciale riga per colonna!!\n",
    "diag(5:7) #crea matrice 3x3 con 0 fuori dalla diagonale\n",
    "x <- 1:15; dim(x) <- c(3,5) #converte x in matrice 3x5\n",
    "eigen(A) #calcola autovalori ed autovettori (A quadrata!)\n",
    "qr(A) #decomposizione QR\n",
    "svd(A) #Singular Value Decomposition"
   ]
  },
  {
   "cell_type": "markdown",
   "metadata": {},
   "source": [
    "Matrix elements can be accessed in different ways"
   ]
  },
  {
   "cell_type": "code",
   "execution_count": 103,
   "metadata": {
    "collapsed": false
   },
   "outputs": [
    {
     "data": {
      "text/html": [
       "14.8"
      ],
      "text/latex": [
       "14.8"
      ],
      "text/markdown": [
       "14.8"
      ],
      "text/plain": [
       "[1] 14.8"
      ]
     },
     "metadata": {},
     "output_type": "display_data"
    },
    {
     "data": {
      "text/html": [
       "<ol class=list-inline>\n",
       "\t<li>14.8</li>\n",
       "\t<li>20.4</li>\n",
       "</ol>\n"
      ],
      "text/latex": [
       "\\begin{enumerate*}\n",
       "\\item 14.8\n",
       "\\item 20.4\n",
       "\\end{enumerate*}\n"
      ],
      "text/markdown": [
       "1. 14.8\n",
       "2. 20.4\n",
       "\n",
       "\n"
      ],
      "text/plain": [
       "[1] 14.8 20.4"
      ]
     },
     "metadata": {},
     "output_type": "display_data"
    },
    {
     "data": {
      "text/html": [
       "17.6"
      ],
      "text/latex": [
       "17.6"
      ],
      "text/markdown": [
       "17.6"
      ],
      "text/plain": [
       "[1] 17.6"
      ]
     },
     "metadata": {},
     "output_type": "display_data"
    },
    {
     "data": {
      "text/html": [
       "<ol class=list-inline>\n",
       "\t<li>14.8</li>\n",
       "\t<li>17.6</li>\n",
       "\t<li>20.4</li>\n",
       "\t<li>23.2</li>\n",
       "\t<li>26</li>\n",
       "</ol>\n"
      ],
      "text/latex": [
       "\\begin{enumerate*}\n",
       "\\item 14.8\n",
       "\\item 17.6\n",
       "\\item 20.4\n",
       "\\item 23.2\n",
       "\\item 26\n",
       "\\end{enumerate*}\n"
      ],
      "text/markdown": [
       "1. 14.8\n",
       "2. 17.6\n",
       "3. 20.4\n",
       "4. 23.2\n",
       "5. 26\n",
       "\n",
       "\n"
      ],
      "text/plain": [
       "[1] 14.8 17.6 20.4 23.2 26.0"
      ]
     },
     "metadata": {},
     "output_type": "display_data"
    }
   ],
   "source": [
    "#indexing\n",
    "A[1]\n",
    "A[c(1,3)]\n",
    "A[1, 2]\n",
    "A[1,]"
   ]
  },
  {
   "cell_type": "markdown",
   "metadata": {},
   "source": [
    "To remove all variables from R’s memory, click “clear all” in the workspace window or type"
   ]
  },
  {
   "cell_type": "code",
   "execution_count": 104,
   "metadata": {
    "collapsed": true
   },
   "outputs": [],
   "source": [
    "rm(list=ls())"
   ]
  },
  {
   "cell_type": "markdown",
   "metadata": {},
   "source": [
    " If you only want to remove the variable a, you can type rm(variable_name)"
   ]
  },
  {
   "cell_type": "code",
   "execution_count": 105,
   "metadata": {
    "collapsed": false
   },
   "outputs": [
    {
     "data": {
      "text/html": [
       "<ol class=list-inline>\n",
       "\t<li>'a'</li>\n",
       "\t<li>'b'</li>\n",
       "</ol>\n"
      ],
      "text/latex": [
       "\\begin{enumerate*}\n",
       "\\item 'a'\n",
       "\\item 'b'\n",
       "\\end{enumerate*}\n"
      ],
      "text/markdown": [
       "1. 'a'\n",
       "2. 'b'\n",
       "\n",
       "\n"
      ],
      "text/plain": [
       "[1] \"a\" \"b\""
      ]
     },
     "metadata": {},
     "output_type": "display_data"
    },
    {
     "data": {
      "text/html": [
       "'b'"
      ],
      "text/latex": [
       "'b'"
      ],
      "text/markdown": [
       "'b'"
      ],
      "text/plain": [
       "[1] \"b\""
      ]
     },
     "metadata": {},
     "output_type": "display_data"
    }
   ],
   "source": [
    "a <- 5\n",
    "b <- a\n",
    "ls()\n",
    "rm(a)\n",
    "ls()"
   ]
  },
  {
   "cell_type": "markdown",
   "metadata": {},
   "source": [
    "## Factor Variables\n",
    "A factor is a vector that can contain only predefined values, and is used to store categorical data. Factors are built on top of integer vectors using two attributes: the class(), “factor”, which makes them behave differently from regular integer vectors, and the levels(), which defines the set of allowed values."
   ]
  },
  {
   "cell_type": "code",
   "execution_count": 106,
   "metadata": {
    "collapsed": false,
    "scrolled": false
   },
   "outputs": [
    {
     "data": {
      "text/html": [
       "<ol class=list-inline>\n",
       "\t<li>'female'</li>\n",
       "\t<li>'male'</li>\n",
       "\t<li>'male'</li>\n",
       "\t<li>'female'</li>\n",
       "\t<li>'female'</li>\n",
       "</ol>\n"
      ],
      "text/latex": [
       "\\begin{enumerate*}\n",
       "\\item 'female'\n",
       "\\item 'male'\n",
       "\\item 'male'\n",
       "\\item 'female'\n",
       "\\item 'female'\n",
       "\\end{enumerate*}\n"
      ],
      "text/markdown": [
       "1. 'female'\n",
       "2. 'male'\n",
       "3. 'male'\n",
       "4. 'female'\n",
       "5. 'female'\n",
       "\n",
       "\n"
      ],
      "text/plain": [
       "[1] \"female\" \"male\"   \"male\"   \"female\" \"female\""
      ]
     },
     "metadata": {},
     "output_type": "display_data"
    }
   ],
   "source": [
    "x <- c(\"female\",\"male\",\"male\",\"female\", \"female\")\n",
    "x"
   ]
  },
  {
   "cell_type": "code",
   "execution_count": 107,
   "metadata": {
    "collapsed": false
   },
   "outputs": [
    {
     "data": {
      "text/html": [
       "'character'"
      ],
      "text/latex": [
       "'character'"
      ],
      "text/markdown": [
       "'character'"
      ],
      "text/plain": [
       "[1] \"character\""
      ]
     },
     "metadata": {},
     "output_type": "display_data"
    }
   ],
   "source": [
    "class(x)"
   ]
  },
  {
   "cell_type": "code",
   "execution_count": 108,
   "metadata": {
    "collapsed": false,
    "scrolled": true
   },
   "outputs": [
    {
     "data": {
      "text/html": [
       "<ol class=list-inline>\n",
       "\t<li>female</li>\n",
       "\t<li>male</li>\n",
       "\t<li>male</li>\n",
       "\t<li>female</li>\n",
       "\t<li>female</li>\n",
       "</ol>\n"
      ],
      "text/latex": [
       "\\begin{enumerate*}\n",
       "\\item female\n",
       "\\item male\n",
       "\\item male\n",
       "\\item female\n",
       "\\item female\n",
       "\\end{enumerate*}\n"
      ],
      "text/markdown": [
       "1. female\n",
       "2. male\n",
       "3. male\n",
       "4. female\n",
       "5. female\n",
       "\n",
       "\n"
      ],
      "text/plain": [
       "[1] female male   male   female female\n",
       "Levels: female male"
      ]
     },
     "metadata": {},
     "output_type": "display_data"
    },
    {
     "data": {
      "text/html": [
       "'factor'"
      ],
      "text/latex": [
       "'factor'"
      ],
      "text/markdown": [
       "'factor'"
      ],
      "text/plain": [
       "[1] \"factor\""
      ]
     },
     "metadata": {},
     "output_type": "display_data"
    }
   ],
   "source": [
    "f <- factor(x)\n",
    "f\n",
    "class(f)"
   ]
  },
  {
   "cell_type": "code",
   "execution_count": 109,
   "metadata": {
    "collapsed": false,
    "scrolled": true
   },
   "outputs": [
    {
     "data": {
      "text/html": [
       "<ol class=list-inline>\n",
       "\t<li>'female'</li>\n",
       "\t<li>'male'</li>\n",
       "</ol>\n"
      ],
      "text/latex": [
       "\\begin{enumerate*}\n",
       "\\item 'female'\n",
       "\\item 'male'\n",
       "\\end{enumerate*}\n"
      ],
      "text/markdown": [
       "1. 'female'\n",
       "2. 'male'\n",
       "\n",
       "\n"
      ],
      "text/plain": [
       "[1] \"female\" \"male\"  "
      ]
     },
     "metadata": {},
     "output_type": "display_data"
    },
    {
     "data": {
      "text/html": [
       "<ol class=list-inline>\n",
       "\t<li>1</li>\n",
       "\t<li>2</li>\n",
       "\t<li>2</li>\n",
       "\t<li>1</li>\n",
       "\t<li>1</li>\n",
       "</ol>\n"
      ],
      "text/latex": [
       "\\begin{enumerate*}\n",
       "\\item 1\n",
       "\\item 2\n",
       "\\item 2\n",
       "\\item 1\n",
       "\\item 1\n",
       "\\end{enumerate*}\n"
      ],
      "text/markdown": [
       "1. 1\n",
       "2. 2\n",
       "3. 2\n",
       "4. 1\n",
       "5. 1\n",
       "\n",
       "\n"
      ],
      "text/plain": [
       "[1] 1 2 2 1 1"
      ]
     },
     "metadata": {},
     "output_type": "display_data"
    }
   ],
   "source": [
    "levels(f)\n",
    "as.numeric(f)"
   ]
  },
  {
   "cell_type": "code",
   "execution_count": 110,
   "metadata": {
    "collapsed": false
   },
   "outputs": [
    {
     "data": {
      "text/plain": [
       "f\n",
       "female   male \n",
       "     3      2 "
      ]
     },
     "metadata": {},
     "output_type": "display_data"
    }
   ],
   "source": [
    "table(f)"
   ]
  },
  {
   "cell_type": "markdown",
   "metadata": {},
   "source": [
    "# Dataframes\n",
    "Dataframes represets the most famous R data structures. They represents a table, with rows and columns, where\n",
    "1) One column holds data of the same type ( a vector)\n",
    "2) Different columns can have different data types. ( a list)\n",
    "3) Every row in a data frame has a row id.\n",
    "\n",
    "Rows and columns can be accessed through indexes, which can be numeric or associative\n",
    "- df[ 1, 2 ]\n",
    "- df$example_column\n",
    "- df[ 1:3, 4:5 ]\n"
   ]
  },
  {
   "cell_type": "code",
   "execution_count": 111,
   "metadata": {
    "collapsed": false
   },
   "outputs": [
    {
     "data": {
      "text/html": [
       "<ol class=list-inline>\n",
       "\t<li>1</li>\n",
       "\t<li>2</li>\n",
       "\t<li>3</li>\n",
       "\t<li>4</li>\n",
       "\t<li>5</li>\n",
       "\t<li>6</li>\n",
       "\t<li>7</li>\n",
       "\t<li>8</li>\n",
       "\t<li>9</li>\n",
       "\t<li>10</li>\n",
       "\t<li>11</li>\n",
       "\t<li>12</li>\n",
       "\t<li>13</li>\n",
       "\t<li>14</li>\n",
       "\t<li>15</li>\n",
       "\t<li>16</li>\n",
       "\t<li>17</li>\n",
       "\t<li>18</li>\n",
       "\t<li>19</li>\n",
       "\t<li>20</li>\n",
       "</ol>\n"
      ],
      "text/latex": [
       "\\begin{enumerate*}\n",
       "\\item 1\n",
       "\\item 2\n",
       "\\item 3\n",
       "\\item 4\n",
       "\\item 5\n",
       "\\item 6\n",
       "\\item 7\n",
       "\\item 8\n",
       "\\item 9\n",
       "\\item 10\n",
       "\\item 11\n",
       "\\item 12\n",
       "\\item 13\n",
       "\\item 14\n",
       "\\item 15\n",
       "\\item 16\n",
       "\\item 17\n",
       "\\item 18\n",
       "\\item 19\n",
       "\\item 20\n",
       "\\end{enumerate*}\n"
      ],
      "text/markdown": [
       "1. 1\n",
       "2. 2\n",
       "3. 3\n",
       "4. 4\n",
       "5. 5\n",
       "6. 6\n",
       "7. 7\n",
       "8. 8\n",
       "9. 9\n",
       "10. 10\n",
       "11. 11\n",
       "12. 12\n",
       "13. 13\n",
       "14. 14\n",
       "15. 15\n",
       "16. 16\n",
       "17. 17\n",
       "18. 18\n",
       "19. 19\n",
       "20. 20\n",
       "\n",
       "\n"
      ],
      "text/plain": [
       " [1]  1  2  3  4  5  6  7  8  9 10 11 12 13 14 15 16 17 18 19 20"
      ]
     },
     "metadata": {},
     "output_type": "display_data"
    }
   ],
   "source": [
    "#data frames\n",
    "df <- data.frame(x = seq_len(20), y =rnorm(20), z = 2*seq_len(20))\n",
    "\n",
    "df$x"
   ]
  },
  {
   "cell_type": "markdown",
   "metadata": {},
   "source": [
    "Data Frames can be analyzed using the following commands\n",
    "• nrow and ncol\n",
    "• summary\n",
    "• head\n",
    "• str"
   ]
  },
  {
   "cell_type": "code",
   "execution_count": 112,
   "metadata": {
    "collapsed": false
   },
   "outputs": [
    {
     "data": {
      "text/html": [
       "<table>\n",
       "<thead><tr><th scope=col>x</th><th scope=col>y</th><th scope=col>z</th></tr></thead>\n",
       "<tbody>\n",
       "\t<tr><td>1          </td><td>-0.14628418</td><td> 2         </td></tr>\n",
       "\t<tr><td>2          </td><td> 0.05325144</td><td> 4         </td></tr>\n",
       "\t<tr><td>3          </td><td>-0.94819437</td><td> 6         </td></tr>\n",
       "\t<tr><td>4          </td><td>-1.95321281</td><td> 8         </td></tr>\n",
       "\t<tr><td>5          </td><td>-0.45413154</td><td>10         </td></tr>\n",
       "\t<tr><td>6          </td><td> 0.33389572</td><td>12         </td></tr>\n",
       "</tbody>\n",
       "</table>\n"
      ],
      "text/latex": [
       "\\begin{tabular}{r|lll}\n",
       " x & y & z\\\\\n",
       "\\hline\n",
       "\t 1           & -0.14628418 &  2         \\\\\n",
       "\t 2           &  0.05325144 &  4         \\\\\n",
       "\t 3           & -0.94819437 &  6         \\\\\n",
       "\t 4           & -1.95321281 &  8         \\\\\n",
       "\t 5           & -0.45413154 & 10         \\\\\n",
       "\t 6           &  0.33389572 & 12         \\\\\n",
       "\\end{tabular}\n"
      ],
      "text/plain": [
       "  x y           z \n",
       "1 1 -0.14628418  2\n",
       "2 2  0.05325144  4\n",
       "3 3 -0.94819437  6\n",
       "4 4 -1.95321281  8\n",
       "5 5 -0.45413154 10\n",
       "6 6  0.33389572 12"
      ]
     },
     "metadata": {},
     "output_type": "display_data"
    }
   ],
   "source": [
    "head(df)"
   ]
  },
  {
   "cell_type": "code",
   "execution_count": 113,
   "metadata": {
    "collapsed": false
   },
   "outputs": [
    {
     "data": {
      "text/plain": [
       "       x               y                 z       \n",
       " Min.   : 1.00   Min.   :-1.9532   Min.   : 2.0  \n",
       " 1st Qu.: 5.75   1st Qu.:-0.6037   1st Qu.:11.5  \n",
       " Median :10.50   Median :-0.2372   Median :21.0  \n",
       " Mean   :10.50   Mean   :-0.1921   Mean   :21.0  \n",
       " 3rd Qu.:15.25   3rd Qu.: 0.3221   3rd Qu.:30.5  \n",
       " Max.   :20.00   Max.   : 2.2303   Max.   :40.0  "
      ]
     },
     "metadata": {},
     "output_type": "display_data"
    }
   ],
   "source": [
    "summary(df)"
   ]
  },
  {
   "cell_type": "code",
   "execution_count": 114,
   "metadata": {
    "collapsed": false
   },
   "outputs": [
    {
     "data": {
      "text/html": [
       "20"
      ],
      "text/latex": [
       "20"
      ],
      "text/markdown": [
       "20"
      ],
      "text/plain": [
       "[1] 20"
      ]
     },
     "metadata": {},
     "output_type": "display_data"
    },
    {
     "data": {
      "text/html": [
       "3"
      ],
      "text/latex": [
       "3"
      ],
      "text/markdown": [
       "3"
      ],
      "text/plain": [
       "[1] 3"
      ]
     },
     "metadata": {},
     "output_type": "display_data"
    }
   ],
   "source": [
    "nrow(df); ncol(df)"
   ]
  },
  {
   "cell_type": "code",
   "execution_count": 115,
   "metadata": {
    "collapsed": false
   },
   "outputs": [
    {
     "name": "stdout",
     "output_type": "stream",
     "text": [
      "'data.frame':\t20 obs. of  3 variables:\n",
      " $ x: int  1 2 3 4 5 6 7 8 9 10 ...\n",
      " $ y: num  -0.1463 0.0533 -0.9482 -1.9532 -0.4541 ...\n",
      " $ z: num  2 4 6 8 10 12 14 16 18 20 ...\n"
     ]
    }
   ],
   "source": [
    "str(df)"
   ]
  },
  {
   "cell_type": "code",
   "execution_count": 116,
   "metadata": {
    "collapsed": false,
    "scrolled": false
   },
   "outputs": [
    {
     "data": {
      "text/html": [
       "<ol class=list-inline>\n",
       "\t<li>1</li>\n",
       "\t<li>2</li>\n",
       "\t<li>3</li>\n",
       "\t<li>4</li>\n",
       "\t<li>5</li>\n",
       "\t<li>6</li>\n",
       "\t<li>7</li>\n",
       "\t<li>8</li>\n",
       "\t<li>9</li>\n",
       "\t<li>10</li>\n",
       "\t<li>11</li>\n",
       "\t<li>12</li>\n",
       "\t<li>13</li>\n",
       "\t<li>14</li>\n",
       "\t<li>15</li>\n",
       "\t<li>16</li>\n",
       "\t<li>17</li>\n",
       "\t<li>18</li>\n",
       "\t<li>19</li>\n",
       "\t<li>20</li>\n",
       "</ol>\n"
      ],
      "text/latex": [
       "\\begin{enumerate*}\n",
       "\\item 1\n",
       "\\item 2\n",
       "\\item 3\n",
       "\\item 4\n",
       "\\item 5\n",
       "\\item 6\n",
       "\\item 7\n",
       "\\item 8\n",
       "\\item 9\n",
       "\\item 10\n",
       "\\item 11\n",
       "\\item 12\n",
       "\\item 13\n",
       "\\item 14\n",
       "\\item 15\n",
       "\\item 16\n",
       "\\item 17\n",
       "\\item 18\n",
       "\\item 19\n",
       "\\item 20\n",
       "\\end{enumerate*}\n"
      ],
      "text/markdown": [
       "1. 1\n",
       "2. 2\n",
       "3. 3\n",
       "4. 4\n",
       "5. 5\n",
       "6. 6\n",
       "7. 7\n",
       "8. 8\n",
       "9. 9\n",
       "10. 10\n",
       "11. 11\n",
       "12. 12\n",
       "13. 13\n",
       "14. 14\n",
       "15. 15\n",
       "16. 16\n",
       "17. 17\n",
       "18. 18\n",
       "19. 19\n",
       "20. 20\n",
       "\n",
       "\n"
      ],
      "text/plain": [
       " [1]  1  2  3  4  5  6  7  8  9 10 11 12 13 14 15 16 17 18 19 20"
      ]
     },
     "metadata": {},
     "output_type": "display_data"
    },
    {
     "data": {
      "text/plain": [
       "NULL"
      ]
     },
     "metadata": {},
     "output_type": "display_data"
    },
    {
     "data": {
      "text/html": [
       "<ol class=list-inline>\n",
       "\t<li>-0.146284184048482</li>\n",
       "\t<li>0.0532514432693226</li>\n",
       "\t<li>-0.948194365539643</li>\n",
       "\t<li>-1.95321281318231</li>\n",
       "\t<li>-0.454131538647014</li>\n",
       "\t<li>0.333895722737997</li>\n",
       "\t<li>-0.328093961318537</li>\n",
       "\t<li>-0.488903862099265</li>\n",
       "\t<li>-0.385274097913832</li>\n",
       "\t<li>0.126314899512989</li>\n",
       "\t<li>0.318223649120345</li>\n",
       "\t<li>0.639480669956247</li>\n",
       "\t<li>0.401876609108516</li>\n",
       "\t<li>-0.445455098446244</li>\n",
       "\t<li>-1.24935889130682</li>\n",
       "\t<li>0.0880860724658232</li>\n",
       "\t<li>0.911416308649681</li>\n",
       "\t<li>-1.06872108654308</li>\n",
       "\t<li>2.23029767916969</li>\n",
       "\t<li>-1.47660926588213</li>\n",
       "</ol>\n"
      ],
      "text/latex": [
       "\\begin{enumerate*}\n",
       "\\item -0.146284184048482\n",
       "\\item 0.0532514432693226\n",
       "\\item -0.948194365539643\n",
       "\\item -1.95321281318231\n",
       "\\item -0.454131538647014\n",
       "\\item 0.333895722737997\n",
       "\\item -0.328093961318537\n",
       "\\item -0.488903862099265\n",
       "\\item -0.385274097913832\n",
       "\\item 0.126314899512989\n",
       "\\item 0.318223649120345\n",
       "\\item 0.639480669956247\n",
       "\\item 0.401876609108516\n",
       "\\item -0.445455098446244\n",
       "\\item -1.24935889130682\n",
       "\\item 0.0880860724658232\n",
       "\\item 0.911416308649681\n",
       "\\item -1.06872108654308\n",
       "\\item 2.23029767916969\n",
       "\\item -1.47660926588213\n",
       "\\end{enumerate*}\n"
      ],
      "text/markdown": [
       "1. -0.146284184048482\n",
       "2. 0.0532514432693226\n",
       "3. -0.948194365539643\n",
       "4. -1.95321281318231\n",
       "5. -0.454131538647014\n",
       "6. 0.333895722737997\n",
       "7. -0.328093961318537\n",
       "8. -0.488903862099265\n",
       "9. -0.385274097913832\n",
       "10. 0.126314899512989\n",
       "11. 0.318223649120345\n",
       "12. 0.639480669956247\n",
       "13. 0.401876609108516\n",
       "14. -0.445455098446244\n",
       "15. -1.24935889130682\n",
       "16. 0.0880860724658232\n",
       "17. 0.911416308649681\n",
       "18. -1.06872108654308\n",
       "19. 2.23029767916969\n",
       "20. -1.47660926588213\n",
       "\n",
       "\n"
      ],
      "text/plain": [
       " [1] -0.14628418  0.05325144 -0.94819437 -1.95321281 -0.45413154  0.33389572\n",
       " [7] -0.32809396 -0.48890386 -0.38527410  0.12631490  0.31822365  0.63948067\n",
       "[13]  0.40187661 -0.44545510 -1.24935889  0.08808607  0.91141631 -1.06872109\n",
       "[19]  2.23029768 -1.47660927"
      ]
     },
     "metadata": {},
     "output_type": "display_data"
    }
   ],
   "source": [
    "names(df)[1] <- \"column1\"\n",
    "df$column1\n",
    "df$x\n",
    "df$y"
   ]
  },
  {
   "cell_type": "markdown",
   "metadata": {},
   "source": [
    "# Dataframe creation"
   ]
  },
  {
   "cell_type": "markdown",
   "metadata": {},
   "source": [
    "Dataframe can be created by combining individual vectors, other data frames or reading from exterlas cources (files or databases).\n",
    "\n",
    "- read.table() function reads any file into a data frame and it can control file format like newline, separator , header etc.. (write.table() is the equivalent write operation)\n",
    "- read.csv() function reads a csv file into a data frame and it is dedicated to the csv pre-defined format (write.csv() is the equivalent write operation)\n",
    "- Files can be downloaded directly from the web using download.file()\n",
    "- Raw web pages can be scraped using getURL()\n",
    "\n",
    "\n",
    "**inserire DB COnnection modulo 2 Renato**"
   ]
  },
  {
   "cell_type": "code",
   "execution_count": 117,
   "metadata": {
    "collapsed": false
   },
   "outputs": [
    {
     "data": {
      "text/html": [
       "'C:/Users/t000524/workspace/Management Data Science Course'"
      ],
      "text/latex": [
       "'C:/Users/t000524/workspace/Management Data Science Course'"
      ],
      "text/markdown": [
       "'C:/Users/t000524/workspace/Management Data Science Course'"
      ],
      "text/plain": [
       "[1] \"C:/Users/t000524/workspace/Management Data Science Course\""
      ]
     },
     "metadata": {},
     "output_type": "display_data"
    },
    {
     "name": "stderr",
     "output_type": "stream",
     "text": [
      "Warning message in file(file, \"rt\"):\n",
      "\"cannot open file 'foods.csv': No such file or directory\""
     ]
    },
    {
     "ename": "ERROR",
     "evalue": "Error in file(file, \"rt\"): cannot open the connection\n",
     "output_type": "error",
     "traceback": [
      "Error in file(file, \"rt\"): cannot open the connection\nTraceback:\n",
      "1. read.table(\"foods.csv\")",
      "2. file(file, \"rt\")"
     ]
    }
   ],
   "source": [
    "##### working with data frames #####\n",
    "getwd()\n",
    "ds <- read.table(\"foods.csv\")\n",
    "#average length of review text\n",
    "review.length <- unlist(lapply(as.character(knime.in$\"ReviewText\"), nchar))"
   ]
  },
  {
   "cell_type": "markdown",
   "metadata": {},
   "source": [
    "Dataframe can be manipulated Data Frames can be combined with rbind() and cbind()\n",
    "• Columns can be added by using an associative name and contents\n",
    "example_df$example_col <- c(1,2,3)\n",
    "• Most operations on vectors can be done on individual rows or\n",
    "columns of a data frame\n",
    "• Data Frames can be merged using a common column with the\n",
    "merge() function\n",
    "• A number of built-in data frame examples are available in R"
   ]
  },
  {
   "cell_type": "markdown",
   "metadata": {},
   "source": [
    "## Dataframe transformations: Sorting, Merging, Binning\n",
    "Any vector can be sorted using the sort() function. A Data Frame can be sorted according to one or more of its ccolumns using the order() function."
   ]
  },
  {
   "cell_type": "code",
   "execution_count": 118,
   "metadata": {
    "collapsed": false
   },
   "outputs": [
    {
     "data": {
      "text/html": [
       "<ol class=list-inline>\n",
       "\t<li>-1.95321281318231</li>\n",
       "\t<li>-1.47660926588213</li>\n",
       "\t<li>-1.24935889130682</li>\n",
       "\t<li>-1.06872108654308</li>\n",
       "\t<li>-0.948194365539643</li>\n",
       "\t<li>-0.488903862099265</li>\n",
       "\t<li>-0.454131538647014</li>\n",
       "\t<li>-0.445455098446244</li>\n",
       "\t<li>-0.385274097913832</li>\n",
       "\t<li>-0.328093961318537</li>\n",
       "\t<li>-0.146284184048482</li>\n",
       "\t<li>0.0532514432693226</li>\n",
       "\t<li>0.0880860724658232</li>\n",
       "\t<li>0.126314899512989</li>\n",
       "\t<li>0.318223649120345</li>\n",
       "\t<li>0.333895722737997</li>\n",
       "\t<li>0.401876609108516</li>\n",
       "\t<li>0.639480669956247</li>\n",
       "\t<li>0.911416308649681</li>\n",
       "\t<li>2.23029767916969</li>\n",
       "</ol>\n"
      ],
      "text/latex": [
       "\\begin{enumerate*}\n",
       "\\item -1.95321281318231\n",
       "\\item -1.47660926588213\n",
       "\\item -1.24935889130682\n",
       "\\item -1.06872108654308\n",
       "\\item -0.948194365539643\n",
       "\\item -0.488903862099265\n",
       "\\item -0.454131538647014\n",
       "\\item -0.445455098446244\n",
       "\\item -0.385274097913832\n",
       "\\item -0.328093961318537\n",
       "\\item -0.146284184048482\n",
       "\\item 0.0532514432693226\n",
       "\\item 0.0880860724658232\n",
       "\\item 0.126314899512989\n",
       "\\item 0.318223649120345\n",
       "\\item 0.333895722737997\n",
       "\\item 0.401876609108516\n",
       "\\item 0.639480669956247\n",
       "\\item 0.911416308649681\n",
       "\\item 2.23029767916969\n",
       "\\end{enumerate*}\n"
      ],
      "text/markdown": [
       "1. -1.95321281318231\n",
       "2. -1.47660926588213\n",
       "3. -1.24935889130682\n",
       "4. -1.06872108654308\n",
       "5. -0.948194365539643\n",
       "6. -0.488903862099265\n",
       "7. -0.454131538647014\n",
       "8. -0.445455098446244\n",
       "9. -0.385274097913832\n",
       "10. -0.328093961318537\n",
       "11. -0.146284184048482\n",
       "12. 0.0532514432693226\n",
       "13. 0.0880860724658232\n",
       "14. 0.126314899512989\n",
       "15. 0.318223649120345\n",
       "16. 0.333895722737997\n",
       "17. 0.401876609108516\n",
       "18. 0.639480669956247\n",
       "19. 0.911416308649681\n",
       "20. 2.23029767916969\n",
       "\n",
       "\n"
      ],
      "text/plain": [
       " [1] -1.95321281 -1.47660927 -1.24935889 -1.06872109 -0.94819437 -0.48890386\n",
       " [7] -0.45413154 -0.44545510 -0.38527410 -0.32809396 -0.14628418  0.05325144\n",
       "[13]  0.08808607  0.12631490  0.31822365  0.33389572  0.40187661  0.63948067\n",
       "[19]  0.91141631  2.23029768"
      ]
     },
     "metadata": {},
     "output_type": "display_data"
    }
   ],
   "source": [
    "sort(df$y)"
   ]
  },
  {
   "cell_type": "code",
   "execution_count": 119,
   "metadata": {
    "collapsed": false
   },
   "outputs": [
    {
     "data": {
      "text/html": [
       "<table>\n",
       "<thead><tr><th></th><th scope=col>column1</th><th scope=col>y</th><th scope=col>z</th></tr></thead>\n",
       "<tbody>\n",
       "\t<tr><th scope=row>4</th><td> 4         </td><td>-1.95321281</td><td> 8         </td></tr>\n",
       "\t<tr><th scope=row>20</th><td>20         </td><td>-1.47660927</td><td>40         </td></tr>\n",
       "\t<tr><th scope=row>15</th><td>15         </td><td>-1.24935889</td><td>30         </td></tr>\n",
       "\t<tr><th scope=row>18</th><td>18         </td><td>-1.06872109</td><td>36         </td></tr>\n",
       "\t<tr><th scope=row>3</th><td> 3         </td><td>-0.94819437</td><td> 6         </td></tr>\n",
       "\t<tr><th scope=row>8</th><td> 8         </td><td>-0.48890386</td><td>16         </td></tr>\n",
       "\t<tr><th scope=row>5</th><td> 5         </td><td>-0.45413154</td><td>10         </td></tr>\n",
       "\t<tr><th scope=row>14</th><td>14         </td><td>-0.44545510</td><td>28         </td></tr>\n",
       "\t<tr><th scope=row>9</th><td> 9         </td><td>-0.38527410</td><td>18         </td></tr>\n",
       "\t<tr><th scope=row>7</th><td> 7         </td><td>-0.32809396</td><td>14         </td></tr>\n",
       "\t<tr><th scope=row>1</th><td> 1         </td><td>-0.14628418</td><td> 2         </td></tr>\n",
       "\t<tr><th scope=row>2</th><td> 2         </td><td> 0.05325144</td><td> 4         </td></tr>\n",
       "\t<tr><th scope=row>16</th><td>16         </td><td> 0.08808607</td><td>32         </td></tr>\n",
       "\t<tr><th scope=row>10</th><td>10         </td><td> 0.12631490</td><td>20         </td></tr>\n",
       "\t<tr><th scope=row>11</th><td>11         </td><td> 0.31822365</td><td>22         </td></tr>\n",
       "\t<tr><th scope=row>6</th><td> 6         </td><td> 0.33389572</td><td>12         </td></tr>\n",
       "\t<tr><th scope=row>13</th><td>13         </td><td> 0.40187661</td><td>26         </td></tr>\n",
       "\t<tr><th scope=row>12</th><td>12         </td><td> 0.63948067</td><td>24         </td></tr>\n",
       "\t<tr><th scope=row>17</th><td>17         </td><td> 0.91141631</td><td>34         </td></tr>\n",
       "\t<tr><th scope=row>19</th><td>19         </td><td> 2.23029768</td><td>38         </td></tr>\n",
       "</tbody>\n",
       "</table>\n"
      ],
      "text/latex": [
       "\\begin{tabular}{r|lll}\n",
       "  & column1 & y & z\\\\\n",
       "\\hline\n",
       "\t4 &  4          & -1.95321281 &  8         \\\\\n",
       "\t20 & 20          & -1.47660927 & 40         \\\\\n",
       "\t15 & 15          & -1.24935889 & 30         \\\\\n",
       "\t18 & 18          & -1.06872109 & 36         \\\\\n",
       "\t3 &  3          & -0.94819437 &  6         \\\\\n",
       "\t8 &  8          & -0.48890386 & 16         \\\\\n",
       "\t5 &  5          & -0.45413154 & 10         \\\\\n",
       "\t14 & 14          & -0.44545510 & 28         \\\\\n",
       "\t9 &  9          & -0.38527410 & 18         \\\\\n",
       "\t7 &  7          & -0.32809396 & 14         \\\\\n",
       "\t1 &  1          & -0.14628418 &  2         \\\\\n",
       "\t2 &  2          &  0.05325144 &  4         \\\\\n",
       "\t16 & 16          &  0.08808607 & 32         \\\\\n",
       "\t10 & 10          &  0.12631490 & 20         \\\\\n",
       "\t11 & 11          &  0.31822365 & 22         \\\\\n",
       "\t6 &  6          &  0.33389572 & 12         \\\\\n",
       "\t13 & 13          &  0.40187661 & 26         \\\\\n",
       "\t12 & 12          &  0.63948067 & 24         \\\\\n",
       "\t17 & 17          &  0.91141631 & 34         \\\\\n",
       "\t19 & 19          &  2.23029768 & 38         \\\\\n",
       "\\end{tabular}\n"
      ],
      "text/plain": [
       "   column1 y           z \n",
       "4   4      -1.95321281  8\n",
       "20 20      -1.47660927 40\n",
       "15 15      -1.24935889 30\n",
       "18 18      -1.06872109 36\n",
       "3   3      -0.94819437  6\n",
       "8   8      -0.48890386 16\n",
       "5   5      -0.45413154 10\n",
       "14 14      -0.44545510 28\n",
       "9   9      -0.38527410 18\n",
       "7   7      -0.32809396 14\n",
       "1   1      -0.14628418  2\n",
       "2   2       0.05325144  4\n",
       "16 16       0.08808607 32\n",
       "10 10       0.12631490 20\n",
       "11 11       0.31822365 22\n",
       "6   6       0.33389572 12\n",
       "13 13       0.40187661 26\n",
       "12 12       0.63948067 24\n",
       "17 17       0.91141631 34\n",
       "19 19       2.23029768 38"
      ]
     },
     "metadata": {},
     "output_type": "display_data"
    }
   ],
   "source": [
    "df[order(df$y) , ]"
   ]
  },
  {
   "cell_type": "code",
   "execution_count": 120,
   "metadata": {
    "collapsed": false
   },
   "outputs": [
    {
     "data": {
      "text/html": [
       "<table>\n",
       "<thead><tr><th></th><th scope=col>column1</th><th scope=col>y</th><th scope=col>z</th></tr></thead>\n",
       "<tbody>\n",
       "\t<tr><th scope=row>20</th><td>20         </td><td>-1.47660927</td><td>40         </td></tr>\n",
       "\t<tr><th scope=row>19</th><td>19         </td><td> 2.23029768</td><td>38         </td></tr>\n",
       "\t<tr><th scope=row>18</th><td>18         </td><td>-1.06872109</td><td>36         </td></tr>\n",
       "\t<tr><th scope=row>17</th><td>17         </td><td> 0.91141631</td><td>34         </td></tr>\n",
       "\t<tr><th scope=row>16</th><td>16         </td><td> 0.08808607</td><td>32         </td></tr>\n",
       "\t<tr><th scope=row>15</th><td>15         </td><td>-1.24935889</td><td>30         </td></tr>\n",
       "\t<tr><th scope=row>14</th><td>14         </td><td>-0.44545510</td><td>28         </td></tr>\n",
       "\t<tr><th scope=row>13</th><td>13         </td><td> 0.40187661</td><td>26         </td></tr>\n",
       "\t<tr><th scope=row>12</th><td>12         </td><td> 0.63948067</td><td>24         </td></tr>\n",
       "\t<tr><th scope=row>11</th><td>11         </td><td> 0.31822365</td><td>22         </td></tr>\n",
       "\t<tr><th scope=row>10</th><td>10         </td><td> 0.12631490</td><td>20         </td></tr>\n",
       "\t<tr><th scope=row>9</th><td> 9         </td><td>-0.38527410</td><td>18         </td></tr>\n",
       "\t<tr><th scope=row>8</th><td> 8         </td><td>-0.48890386</td><td>16         </td></tr>\n",
       "\t<tr><th scope=row>7</th><td> 7         </td><td>-0.32809396</td><td>14         </td></tr>\n",
       "\t<tr><th scope=row>6</th><td> 6         </td><td> 0.33389572</td><td>12         </td></tr>\n",
       "\t<tr><th scope=row>5</th><td> 5         </td><td>-0.45413154</td><td>10         </td></tr>\n",
       "\t<tr><th scope=row>4</th><td> 4         </td><td>-1.95321281</td><td> 8         </td></tr>\n",
       "\t<tr><th scope=row>3</th><td> 3         </td><td>-0.94819437</td><td> 6         </td></tr>\n",
       "\t<tr><th scope=row>2</th><td> 2         </td><td> 0.05325144</td><td> 4         </td></tr>\n",
       "\t<tr><th scope=row>1</th><td> 1         </td><td>-0.14628418</td><td> 2         </td></tr>\n",
       "</tbody>\n",
       "</table>\n"
      ],
      "text/latex": [
       "\\begin{tabular}{r|lll}\n",
       "  & column1 & y & z\\\\\n",
       "\\hline\n",
       "\t20 & 20          & -1.47660927 & 40         \\\\\n",
       "\t19 & 19          &  2.23029768 & 38         \\\\\n",
       "\t18 & 18          & -1.06872109 & 36         \\\\\n",
       "\t17 & 17          &  0.91141631 & 34         \\\\\n",
       "\t16 & 16          &  0.08808607 & 32         \\\\\n",
       "\t15 & 15          & -1.24935889 & 30         \\\\\n",
       "\t14 & 14          & -0.44545510 & 28         \\\\\n",
       "\t13 & 13          &  0.40187661 & 26         \\\\\n",
       "\t12 & 12          &  0.63948067 & 24         \\\\\n",
       "\t11 & 11          &  0.31822365 & 22         \\\\\n",
       "\t10 & 10          &  0.12631490 & 20         \\\\\n",
       "\t9 &  9          & -0.38527410 & 18         \\\\\n",
       "\t8 &  8          & -0.48890386 & 16         \\\\\n",
       "\t7 &  7          & -0.32809396 & 14         \\\\\n",
       "\t6 &  6          &  0.33389572 & 12         \\\\\n",
       "\t5 &  5          & -0.45413154 & 10         \\\\\n",
       "\t4 &  4          & -1.95321281 &  8         \\\\\n",
       "\t3 &  3          & -0.94819437 &  6         \\\\\n",
       "\t2 &  2          &  0.05325144 &  4         \\\\\n",
       "\t1 &  1          & -0.14628418 &  2         \\\\\n",
       "\\end{tabular}\n"
      ],
      "text/plain": [
       "   column1 y           z \n",
       "20 20      -1.47660927 40\n",
       "19 19       2.23029768 38\n",
       "18 18      -1.06872109 36\n",
       "17 17       0.91141631 34\n",
       "16 16       0.08808607 32\n",
       "15 15      -1.24935889 30\n",
       "14 14      -0.44545510 28\n",
       "13 13       0.40187661 26\n",
       "12 12       0.63948067 24\n",
       "11 11       0.31822365 22\n",
       "10 10       0.12631490 20\n",
       "9   9      -0.38527410 18\n",
       "8   8      -0.48890386 16\n",
       "7   7      -0.32809396 14\n",
       "6   6       0.33389572 12\n",
       "5   5      -0.45413154 10\n",
       "4   4      -1.95321281  8\n",
       "3   3      -0.94819437  6\n",
       "2   2       0.05325144  4\n",
       "1   1      -0.14628418  2"
      ]
     },
     "metadata": {},
     "output_type": "display_data"
    }
   ],
   "source": [
    "df[order(-df$z, df$y),]"
   ]
  },
  {
   "cell_type": "markdown",
   "metadata": {},
   "source": [
    "Two Data Frames can be merged using a common column – merge()\n",
    "• If column names are same, no specification required.\n",
    "• Used for foreign key operations (joins)"
   ]
  },
  {
   "cell_type": "code",
   "execution_count": 121,
   "metadata": {
    "collapsed": false
   },
   "outputs": [],
   "source": [
    "df2 <- data.frame(k = seq(from = 20, to = 1, by = -1), l = runif(20))"
   ]
  },
  {
   "cell_type": "code",
   "execution_count": 122,
   "metadata": {
    "collapsed": false
   },
   "outputs": [
    {
     "data": {
      "text/html": [
       "20"
      ],
      "text/latex": [
       "20"
      ],
      "text/markdown": [
       "20"
      ],
      "text/plain": [
       "[1] 20"
      ]
     },
     "metadata": {},
     "output_type": "display_data"
    },
    {
     "data": {
      "text/html": [
       "20"
      ],
      "text/latex": [
       "20"
      ],
      "text/markdown": [
       "20"
      ],
      "text/plain": [
       "[1] 20"
      ]
     },
     "metadata": {},
     "output_type": "display_data"
    },
    {
     "data": {
      "text/html": [
       "<ol class=list-inline>\n",
       "\t<li>20</li>\n",
       "\t<li>19</li>\n",
       "\t<li>18</li>\n",
       "\t<li>17</li>\n",
       "\t<li>16</li>\n",
       "\t<li>15</li>\n",
       "\t<li>14</li>\n",
       "\t<li>13</li>\n",
       "\t<li>12</li>\n",
       "\t<li>11</li>\n",
       "\t<li>10</li>\n",
       "\t<li>9</li>\n",
       "\t<li>8</li>\n",
       "\t<li>7</li>\n",
       "\t<li>6</li>\n",
       "\t<li>5</li>\n",
       "\t<li>4</li>\n",
       "\t<li>3</li>\n",
       "\t<li>2</li>\n",
       "\t<li>1</li>\n",
       "</ol>\n"
      ],
      "text/latex": [
       "\\begin{enumerate*}\n",
       "\\item 20\n",
       "\\item 19\n",
       "\\item 18\n",
       "\\item 17\n",
       "\\item 16\n",
       "\\item 15\n",
       "\\item 14\n",
       "\\item 13\n",
       "\\item 12\n",
       "\\item 11\n",
       "\\item 10\n",
       "\\item 9\n",
       "\\item 8\n",
       "\\item 7\n",
       "\\item 6\n",
       "\\item 5\n",
       "\\item 4\n",
       "\\item 3\n",
       "\\item 2\n",
       "\\item 1\n",
       "\\end{enumerate*}\n"
      ],
      "text/markdown": [
       "1. 20\n",
       "2. 19\n",
       "3. 18\n",
       "4. 17\n",
       "5. 16\n",
       "6. 15\n",
       "7. 14\n",
       "8. 13\n",
       "9. 12\n",
       "10. 11\n",
       "11. 10\n",
       "12. 9\n",
       "13. 8\n",
       "14. 7\n",
       "15. 6\n",
       "16. 5\n",
       "17. 4\n",
       "18. 3\n",
       "19. 2\n",
       "20. 1\n",
       "\n",
       "\n"
      ],
      "text/plain": [
       " [1] 20 19 18 17 16 15 14 13 12 11 10  9  8  7  6  5  4  3  2  1"
      ]
     },
     "metadata": {},
     "output_type": "display_data"
    }
   ],
   "source": [
    "nrow(df2); nrow(df);  seq(from = 20, to = 1, by = -1)"
   ]
  },
  {
   "cell_type": "code",
   "execution_count": 123,
   "metadata": {
    "collapsed": false
   },
   "outputs": [
    {
     "data": {
      "text/html": [
       "<table>\n",
       "<thead><tr><th scope=col>column1</th><th scope=col>y</th><th scope=col>z</th><th scope=col>l</th></tr></thead>\n",
       "<tbody>\n",
       "\t<tr><td> 1         </td><td>-0.14628418</td><td> 2         </td><td>0.67287964 </td></tr>\n",
       "\t<tr><td> 2         </td><td> 0.05325144</td><td> 4         </td><td>0.96453983 </td></tr>\n",
       "\t<tr><td> 3         </td><td>-0.94819437</td><td> 6         </td><td>0.85706713 </td></tr>\n",
       "\t<tr><td> 4         </td><td>-1.95321281</td><td> 8         </td><td>0.24128071 </td></tr>\n",
       "\t<tr><td> 5         </td><td>-0.45413154</td><td>10         </td><td>0.16332184 </td></tr>\n",
       "\t<tr><td> 6         </td><td> 0.33389572</td><td>12         </td><td>0.81732764 </td></tr>\n",
       "\t<tr><td> 7         </td><td>-0.32809396</td><td>14         </td><td>0.96939337 </td></tr>\n",
       "\t<tr><td> 8         </td><td>-0.48890386</td><td>16         </td><td>0.19250214 </td></tr>\n",
       "\t<tr><td> 9         </td><td>-0.38527410</td><td>18         </td><td>0.01372898 </td></tr>\n",
       "\t<tr><td>10         </td><td> 0.12631490</td><td>20         </td><td>0.89202829 </td></tr>\n",
       "\t<tr><td>11         </td><td> 0.31822365</td><td>22         </td><td>0.50281488 </td></tr>\n",
       "\t<tr><td>12         </td><td> 0.63948067</td><td>24         </td><td>0.63723423 </td></tr>\n",
       "\t<tr><td>13         </td><td> 0.40187661</td><td>26         </td><td>0.34306957 </td></tr>\n",
       "\t<tr><td>14         </td><td>-0.44545510</td><td>28         </td><td>0.49967585 </td></tr>\n",
       "\t<tr><td>15         </td><td>-1.24935889</td><td>30         </td><td>0.69685599 </td></tr>\n",
       "\t<tr><td>16         </td><td> 0.08808607</td><td>32         </td><td>0.72821074 </td></tr>\n",
       "\t<tr><td>17         </td><td> 0.91141631</td><td>34         </td><td>0.71388098 </td></tr>\n",
       "\t<tr><td>18         </td><td>-1.06872109</td><td>36         </td><td>0.59140723 </td></tr>\n",
       "\t<tr><td>19         </td><td> 2.23029768</td><td>38         </td><td>0.68063684 </td></tr>\n",
       "\t<tr><td>20         </td><td>-1.47660927</td><td>40         </td><td>0.94146582 </td></tr>\n",
       "</tbody>\n",
       "</table>\n"
      ],
      "text/latex": [
       "\\begin{tabular}{r|llll}\n",
       " column1 & y & z & l\\\\\n",
       "\\hline\n",
       "\t  1          & -0.14628418 &  2          & 0.67287964 \\\\\n",
       "\t  2          &  0.05325144 &  4          & 0.96453983 \\\\\n",
       "\t  3          & -0.94819437 &  6          & 0.85706713 \\\\\n",
       "\t  4          & -1.95321281 &  8          & 0.24128071 \\\\\n",
       "\t  5          & -0.45413154 & 10          & 0.16332184 \\\\\n",
       "\t  6          &  0.33389572 & 12          & 0.81732764 \\\\\n",
       "\t  7          & -0.32809396 & 14          & 0.96939337 \\\\\n",
       "\t  8          & -0.48890386 & 16          & 0.19250214 \\\\\n",
       "\t  9          & -0.38527410 & 18          & 0.01372898 \\\\\n",
       "\t 10          &  0.12631490 & 20          & 0.89202829 \\\\\n",
       "\t 11          &  0.31822365 & 22          & 0.50281488 \\\\\n",
       "\t 12          &  0.63948067 & 24          & 0.63723423 \\\\\n",
       "\t 13          &  0.40187661 & 26          & 0.34306957 \\\\\n",
       "\t 14          & -0.44545510 & 28          & 0.49967585 \\\\\n",
       "\t 15          & -1.24935889 & 30          & 0.69685599 \\\\\n",
       "\t 16          &  0.08808607 & 32          & 0.72821074 \\\\\n",
       "\t 17          &  0.91141631 & 34          & 0.71388098 \\\\\n",
       "\t 18          & -1.06872109 & 36          & 0.59140723 \\\\\n",
       "\t 19          &  2.23029768 & 38          & 0.68063684 \\\\\n",
       "\t 20          & -1.47660927 & 40          & 0.94146582 \\\\\n",
       "\\end{tabular}\n"
      ],
      "text/plain": [
       "   column1 y           z  l         \n",
       "1   1      -0.14628418  2 0.67287964\n",
       "2   2       0.05325144  4 0.96453983\n",
       "3   3      -0.94819437  6 0.85706713\n",
       "4   4      -1.95321281  8 0.24128071\n",
       "5   5      -0.45413154 10 0.16332184\n",
       "6   6       0.33389572 12 0.81732764\n",
       "7   7      -0.32809396 14 0.96939337\n",
       "8   8      -0.48890386 16 0.19250214\n",
       "9   9      -0.38527410 18 0.01372898\n",
       "10 10       0.12631490 20 0.89202829\n",
       "11 11       0.31822365 22 0.50281488\n",
       "12 12       0.63948067 24 0.63723423\n",
       "13 13       0.40187661 26 0.34306957\n",
       "14 14      -0.44545510 28 0.49967585\n",
       "15 15      -1.24935889 30 0.69685599\n",
       "16 16       0.08808607 32 0.72821074\n",
       "17 17       0.91141631 34 0.71388098\n",
       "18 18      -1.06872109 36 0.59140723\n",
       "19 19       2.23029768 38 0.68063684\n",
       "20 20      -1.47660927 40 0.94146582"
      ]
     },
     "metadata": {},
     "output_type": "display_data"
    }
   ],
   "source": [
    "merge(df,df2, by.x = \"column1\", by.y = \"k\" )"
   ]
  },
  {
   "cell_type": "markdown",
   "metadata": {},
   "source": [
    "Continuous data can be converted to categorical data by binning (conversion into pre-defined ranges or bins) using the cut() function"
   ]
  },
  {
   "cell_type": "code",
   "execution_count": 124,
   "metadata": {
    "collapsed": false
   },
   "outputs": [
    {
     "data": {
      "text/html": [
       "<ol class=list-inline>\n",
       "\t<li>(-Inf,0.5]</li>\n",
       "\t<li>(-Inf,0.5]</li>\n",
       "\t<li>(-Inf,0.5]</li>\n",
       "\t<li>(-Inf,0.5]</li>\n",
       "\t<li>(-Inf,0.5]</li>\n",
       "\t<li>(-Inf,0.5]</li>\n",
       "\t<li>(-Inf,0.5]</li>\n",
       "\t<li>(-Inf,0.5]</li>\n",
       "\t<li>(-Inf,0.5]</li>\n",
       "\t<li>(-Inf,0.5]</li>\n",
       "\t<li>(-Inf,0.5]</li>\n",
       "\t<li>(0.6,0.7]</li>\n",
       "\t<li>(-Inf,0.5]</li>\n",
       "\t<li>(-Inf,0.5]</li>\n",
       "\t<li>(-Inf,0.5]</li>\n",
       "\t<li>(-Inf,0.5]</li>\n",
       "\t<li>(0.9,1]</li>\n",
       "\t<li>(-Inf,0.5]</li>\n",
       "\t<li>(1, Inf]</li>\n",
       "\t<li>(-Inf,0.5]</li>\n",
       "</ol>\n"
      ],
      "text/latex": [
       "\\begin{enumerate*}\n",
       "\\item (-Inf,0.5{]}\n",
       "\\item (-Inf,0.5{]}\n",
       "\\item (-Inf,0.5{]}\n",
       "\\item (-Inf,0.5{]}\n",
       "\\item (-Inf,0.5{]}\n",
       "\\item (-Inf,0.5{]}\n",
       "\\item (-Inf,0.5{]}\n",
       "\\item (-Inf,0.5{]}\n",
       "\\item (-Inf,0.5{]}\n",
       "\\item (-Inf,0.5{]}\n",
       "\\item (-Inf,0.5{]}\n",
       "\\item (0.6,0.7{]}\n",
       "\\item (-Inf,0.5{]}\n",
       "\\item (-Inf,0.5{]}\n",
       "\\item (-Inf,0.5{]}\n",
       "\\item (-Inf,0.5{]}\n",
       "\\item (0.9,1{]}\n",
       "\\item (-Inf,0.5{]}\n",
       "\\item (1, Inf{]}\n",
       "\\item (-Inf,0.5{]}\n",
       "\\end{enumerate*}\n"
      ],
      "text/markdown": [
       "1. (-Inf,0.5]\n",
       "2. (-Inf,0.5]\n",
       "3. (-Inf,0.5]\n",
       "4. (-Inf,0.5]\n",
       "5. (-Inf,0.5]\n",
       "6. (-Inf,0.5]\n",
       "7. (-Inf,0.5]\n",
       "8. (-Inf,0.5]\n",
       "9. (-Inf,0.5]\n",
       "10. (-Inf,0.5]\n",
       "11. (-Inf,0.5]\n",
       "12. (0.6,0.7]\n",
       "13. (-Inf,0.5]\n",
       "14. (-Inf,0.5]\n",
       "15. (-Inf,0.5]\n",
       "16. (-Inf,0.5]\n",
       "17. (0.9,1]\n",
       "18. (-Inf,0.5]\n",
       "19. (1, Inf]\n",
       "20. (-Inf,0.5]\n",
       "\n",
       "\n"
      ],
      "text/plain": [
       " [1] (-Inf,0.5] (-Inf,0.5] (-Inf,0.5] (-Inf,0.5] (-Inf,0.5] (-Inf,0.5]\n",
       " [7] (-Inf,0.5] (-Inf,0.5] (-Inf,0.5] (-Inf,0.5] (-Inf,0.5] (0.6,0.7] \n",
       "[13] (-Inf,0.5] (-Inf,0.5] (-Inf,0.5] (-Inf,0.5] (0.9,1]    (-Inf,0.5]\n",
       "[19] (1, Inf]   (-Inf,0.5]\n",
       "7 Levels: (-Inf,0.5] (0.5,0.6] (0.6,0.7] (0.7,0.8] (0.8,0.9] ... (1, Inf]"
      ]
     },
     "metadata": {},
     "output_type": "display_data"
    }
   ],
   "source": [
    "cut(df$y, c(-Inf,seq(0.5, 1, 0.1), Inf))"
   ]
  },
  {
   "cell_type": "markdown",
   "metadata": {},
   "source": [
    "### Apply function\n",
    "A number of R programs require looping through a data frame and performing an operation on each record. The “apply” class of functions provide a short-cut through which that entire operation can be performed in one function call.\n",
    "\n",
    "The function to apply for each row can by user defined function too.\n",
    "\n",
    "Variants of the “apply” functions include apply, by, eapply, lapply, mapply, rapply, tapply"
   ]
  },
  {
   "cell_type": "code",
   "execution_count": 125,
   "metadata": {
    "collapsed": false,
    "scrolled": true
   },
   "outputs": [
    {
     "data": {
      "text/html": [
       "<ol class=list-inline>\n",
       "\t<li>6</li>\n",
       "\t<li>7</li>\n",
       "\t<li>8</li>\n",
       "\t<li>9</li>\n",
       "\t<li>10</li>\n",
       "\t<li>11</li>\n",
       "\t<li>12</li>\n",
       "\t<li>13</li>\n",
       "\t<li>14</li>\n",
       "\t<li>15</li>\n",
       "</ol>\n"
      ],
      "text/latex": [
       "\\begin{enumerate*}\n",
       "\\item 6\n",
       "\\item 7\n",
       "\\item 8\n",
       "\\item 9\n",
       "\\item 10\n",
       "\\item 11\n",
       "\\item 12\n",
       "\\item 13\n",
       "\\item 14\n",
       "\\item 15\n",
       "\\end{enumerate*}\n"
      ],
      "text/markdown": [
       "1. 6\n",
       "2. 7\n",
       "3. 8\n",
       "4. 9\n",
       "5. 10\n",
       "6. 11\n",
       "7. 12\n",
       "8. 13\n",
       "9. 14\n",
       "10. 15\n",
       "\n",
       "\n"
      ],
      "text/plain": [
       " [1]  6  7  8  9 10 11 12 13 14 15"
      ]
     },
     "metadata": {},
     "output_type": "display_data"
    },
    {
     "data": {
      "text/html": [
       "<ol class=list-inline>\n",
       "\t<li>5.5</li>\n",
       "\t<li>15.5</li>\n",
       "</ol>\n"
      ],
      "text/latex": [
       "\\begin{enumerate*}\n",
       "\\item 5.5\n",
       "\\item 15.5\n",
       "\\end{enumerate*}\n"
      ],
      "text/markdown": [
       "1. 5.5\n",
       "2. 15.5\n",
       "\n",
       "\n"
      ],
      "text/plain": [
       "[1]  5.5 15.5"
      ]
     },
     "metadata": {},
     "output_type": "display_data"
    }
   ],
   "source": [
    "mat <- matrix(c(1:20), nrow= 10, ncol= 2)\n",
    "apply(mat, 1, mean)\n",
    "apply(mat, 2, mean)"
   ]
  },
  {
   "cell_type": "markdown",
   "metadata": {},
   "source": [
    "apply(matrice, indice, funzione)\n",
    "◮ con indice=1 applica funzione() alle righe di\n",
    "matrice, e\n",
    "◮ ritorna un vettore lungo come il numero di colonne."
   ]
  },
  {
   "cell_type": "code",
   "execution_count": 126,
   "metadata": {
    "collapsed": true
   },
   "outputs": [],
   "source": [
    "nrighe <- 100000; ncolonne <- 10\n",
    "m <- matrix(rnorm(nrighe*ncolonne),\n",
    "nrow=nrighe, ncol=ncolonne)\n",
    "mediacolonne <- apply(m,2,mean)"
   ]
  },
  {
   "cell_type": "markdown",
   "metadata": {},
   "source": [
    "lapply(lista, funzione)\n",
    "◮ Applica funzione() a ciascun elemento di lista;\n",
    "◮ ritorna una list con la stessa lunghezza di lista."
   ]
  },
  {
   "cell_type": "code",
   "execution_count": 127,
   "metadata": {
    "collapsed": false
   },
   "outputs": [
    {
     "data": {
      "text/html": [
       "<ol>\n",
       "\t<li>0.707106781186548</li>\n",
       "\t<li>1.58113883008419</li>\n",
       "\t<li>3.60555127546399</li>\n",
       "</ol>\n"
      ],
      "text/latex": [
       "\\begin{enumerate}\n",
       "\\item 0.707106781186548\n",
       "\\item 1.58113883008419\n",
       "\\item 3.60555127546399\n",
       "\\end{enumerate}\n"
      ],
      "text/markdown": [
       "1. 0.707106781186548\n",
       "2. 1.58113883008419\n",
       "3. 3.60555127546399\n",
       "\n",
       "\n"
      ],
      "text/plain": [
       "[[1]]\n",
       "[1] 0.7071068\n",
       "\n",
       "[[2]]\n",
       "[1] 1.581139\n",
       "\n",
       "[[3]]\n",
       "[1] 3.605551\n"
      ]
     },
     "metadata": {},
     "output_type": "display_data"
    }
   ],
   "source": [
    "L <- list(1:2, 3:7, -1:10)\n",
    "lapply(L, sd)"
   ]
  },
  {
   "cell_type": "markdown",
   "metadata": {},
   "source": [
    "sapply(dataframe, funzione)\n",
    "◮ a ciascuna colonna di dataframe viene applicata\n",
    "funzione();\n",
    "◮ ritorna vettore lungo quanto il numero di colonne di\n",
    "dataframe."
   ]
  },
  {
   "cell_type": "code",
   "execution_count": 128,
   "metadata": {
    "collapsed": false
   },
   "outputs": [
    {
     "name": "stderr",
     "output_type": "stream",
     "text": [
      "Warning message in mean.default(X[[i]], ...):\n",
      "\"argument is not numeric or logical: returning NA\""
     ]
    },
    {
     "data": {
      "text/html": [
       "<dl class=dl-horizontal>\n",
       "\t<dt>genere</dt>\n",
       "\t\t<dd>NA</dd>\n",
       "\t<dt>altezza</dt>\n",
       "\t\t<dd>175.875</dd>\n",
       "\t<dt>peso</dt>\n",
       "\t\t<dd>81.25</dd>\n",
       "</dl>\n"
      ],
      "text/latex": [
       "\\begin{description*}\n",
       "\\item[genere] NA\n",
       "\\item[altezza] 175.875\n",
       "\\item[peso] 81.25\n",
       "\\end{description*}\n"
      ],
      "text/markdown": [
       "genere\n",
       ":   NAaltezza\n",
       ":   175.875peso\n",
       ":   81.25\n",
       "\n"
      ],
      "text/plain": [
       " genere altezza    peso \n",
       "     NA 175.875  81.250 "
      ]
     },
     "metadata": {},
     "output_type": "display_data"
    },
    {
     "data": {
      "text/html": [
       "<dl class=dl-horizontal>\n",
       "\t<dt>altezza.95%</dt>\n",
       "\t\t<dd>185.525</dd>\n",
       "\t<dt>peso.95%</dt>\n",
       "\t\t<dd>90.1</dd>\n",
       "</dl>\n"
      ],
      "text/latex": [
       "\\begin{description*}\n",
       "\\item[altezza.95\\textbackslash{}\\%] 185.525\n",
       "\\item[peso.95\\textbackslash{}\\%] 90.1\n",
       "\\end{description*}\n"
      ],
      "text/markdown": [
       "altezza.95%\n",
       ":   185.525peso.95%\n",
       ":   90.1\n",
       "\n"
      ],
      "text/plain": [
       "altezza.95%    peso.95% \n",
       "    185.525      90.100 "
      ]
     },
     "metadata": {},
     "output_type": "display_data"
    }
   ],
   "source": [
    "clienti <- data.frame(genere = c(\"M\",\"F\",\"F\",NA),\n",
    "altezza=c(172,186.5,165,180),\n",
    "peso = c(91, 75, 74, 85))\n",
    "sapply(clienti, mean)\n",
    "sapply(clienti[ ,c(2,3)], quantile, prob=0.95)"
   ]
  },
  {
   "cell_type": "markdown",
   "metadata": {},
   "source": [
    "tapply(vettore, fattore, funzione)\n",
    "◮ vettore viene suddiviso in sotto-vettori corrispondenti\n",
    "alle fattore;\n",
    "◮ a ciascun sottovettore viene applicata funzione();\n",
    "◮ ritorna vettore lungo quanto il numero livelli di fattore."
   ]
  },
  {
   "cell_type": "code",
   "execution_count": 129,
   "metadata": {
    "collapsed": false
   },
   "outputs": [
    {
     "data": {
      "text/html": [
       "<dl class=dl-horizontal>\n",
       "\t<dt>F</dt>\n",
       "\t\t<dd>175.75</dd>\n",
       "\t<dt>M</dt>\n",
       "\t\t<dd>172</dd>\n",
       "</dl>\n"
      ],
      "text/plain": [
       "     F      M \n",
       "175.75 172.00 "
      ]
     },
     "metadata": {},
     "output_type": "display_data"
    }
   ],
   "source": [
    "clienti <- data.frame(genere = c(\"M\",\"F\",\"F\",NA),\n",
    "altezza=c(172,186.5,165,180),\n",
    "peso = c(91, 75, 74, 85))\n",
    "tapply(clienti$altezza, clienti$genere,\n",
    "mean, na.rm=TRUE)"
   ]
  },
  {
   "cell_type": "markdown",
   "metadata": {},
   "source": [
    "# Control Structures"
   ]
  },
  {
   "cell_type": "markdown",
   "metadata": {},
   "source": [
    "If-else:\n",
    "\n",
    "`if (cond) expr`\n",
    "`if (cond) expr1 else expr2`\n",
    "\n",
    "For:\n",
    "\n",
    "`for (varinseq) expr`\n",
    "\n",
    "While:\n",
    "\n",
    "`while (cond) expr`\n",
    "\n",
    "Switch\n",
    "\n",
    "Ifelse\n",
    "\n",
    "`ifelse(test,yes,no)`"
   ]
  },
  {
   "cell_type": "markdown",
   "metadata": {},
   "source": [
    "# User Defined Functions"
   ]
  },
  {
   "cell_type": "markdown",
   "metadata": {},
   "source": [
    "Functions can be built and saved as function definitions in memory. They take input parameters and write output\n"
   ]
  },
  {
   "cell_type": "code",
   "execution_count": 130,
   "metadata": {
    "collapsed": false
   },
   "outputs": [
    {
     "data": {
      "text/html": [
       "8"
      ],
      "text/latex": [
       "8"
      ],
      "text/markdown": [
       "8"
      ],
      "text/plain": [
       "[1] 8"
      ]
     },
     "metadata": {},
     "output_type": "display_data"
    }
   ],
   "source": [
    "computeSum <- function(x,y) {\n",
    "    x+y\n",
    "}\n",
    "\n",
    "computeSum(3,5)"
   ]
  },
  {
   "cell_type": "code",
   "execution_count": 131,
   "metadata": {
    "collapsed": false
   },
   "outputs": [
    {
     "name": "stdout",
     "output_type": "stream",
     "text": [
      "[1] \"non negativo\"\n"
     ]
    }
   ],
   "source": [
    "segno <- function(x){ \n",
    "    \n",
    "    if(x<0){ \n",
    "        print(\"negativo\") \n",
    "    }\n",
    "    \n",
    "    else { \n",
    "        print(\"non negativo\") \n",
    "    }\n",
    "    \n",
    "} \n",
    "\n",
    "segno(0) # chiamata di funzione"
   ]
  },
  {
   "cell_type": "code",
   "execution_count": 132,
   "metadata": {
    "collapsed": false
   },
   "outputs": [
    {
     "data": {
      "text/html": [
       "10"
      ],
      "text/latex": [
       "10"
      ],
      "text/markdown": [
       "10"
      ],
      "text/plain": [
       "[1] 10"
      ]
     },
     "metadata": {},
     "output_type": "display_data"
    }
   ],
   "source": [
    "funz <- function ( x, y = 2, z = 3 ) {\n",
    "    return(x+y+z) \n",
    "}\n",
    "\n",
    "funz(5)"
   ]
  },
  {
   "cell_type": "markdown",
   "metadata": {},
   "source": [
    "## Data Clensing and Data Transformation\n",
    "Issues with Data Quality\n",
    "\n",
    "- Invalid values\n",
    "- formats\n",
    "- Attribute dependencies\n",
    "- Uniqueness\n",
    "- Referential integrity\n",
    "- Missing values\n",
    "- Misspellings\n",
    "- Misfielded values (value in the wrong field)\n",
    "- Wrong references\n",
    "\n",
    "Finding Data Quality Issues\n",
    "\n",
    "- Sample Visual Inspection\n",
    "- Automated validation code\n",
    "- Schema validation\n",
    "- Outlier Analysis\n",
    "- Exploratory Data Analysis\n",
    "\n",
    "Fixing Data Quality Issues\n",
    "\n",
    "- Fixing Data Quality issues is regular boilerplate coding in any language the team is comfortable with\n",
    "- Fix the source if possible\n",
    "- Find possible loopholes in data processing streams\n",
    "- Analyze batches coming in and automate fixing\n",
    "- Libraries and tools available\n",
    "\n",
    "Data Imputation\n",
    "\n",
    "- Any “value” present in a dataset is used by machine learning algorithms as valid values –including null, N/A, blank etc.\n",
    "- This makes populating missing data a key step that might affect prediction results\n",
    "- Techniques for populating missing data\n",
    "- Mean, median, mode\n",
    "- Multiple imputation\n",
    "- Use regression to find values based on other values\n",
    "- hybrid\n",
    "\n",
    "Data Standardization\n",
    "\n",
    "Numbers\n",
    "- Decimal places\n",
    "- Log\n",
    "Date and Time\n",
    "- Time Zone\n",
    "- POSIX\n",
    "- Epoch\n",
    "Text Data\n",
    "- Name formatting ( First Last vs Last, First)\n",
    "- Lower case/ Upper case/ Init Case\n",
    "\n",
    "Binning\n",
    "\n",
    "- Convert numeric to categorical data\n",
    "- Pre-defined ranges are used to create bins and individual data records are classified based on this.\n",
    "- New columns typically added to hold the binned data\n",
    "- Binning is usually done when the continuous variable is used for classification.\n",
    "\n",
    "Indicator variables\n",
    "- Categorical variables are converted into Boolean data by creating indicator variables\n",
    "- If the variable has n classes, then n-1 new variables are created to indicate the presence or absence of a value\n",
    "- Each variable has 1/0 values\n",
    "- The nth value is indicated by a 0 in all the indicator columns\n",
    "- Indicator variables sometimes work better in predictions that their categorical counterparts\n",
    "\n",
    "Centering and Scaling\n",
    "- Standardizes the range of values of a variables while maintaining their signal characteristics\n",
    "- Makes comparison of two variables easier\n",
    "- The values are “centered” by subtracting them from the mean value\n",
    "- The values are “scaled” by dividing the above by the Standard Deviation.\n",
    "- ML algorithms give far better results with standardized values"
   ]
  }
 ],
 "metadata": {
  "kernelspec": {
   "display_name": "R",
   "language": "R",
   "name": "ir"
  },
  "language_info": {
   "codemirror_mode": "r",
   "file_extension": ".r",
   "mimetype": "text/x-r-source",
   "name": "R",
   "pygments_lexer": "r",
   "version": "3.3.1"
  }
 },
 "nbformat": 4,
 "nbformat_minor": 0
}
