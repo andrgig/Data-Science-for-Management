{
 "cells": [
  {
   "cell_type": "markdown",
   "metadata": {},
   "source": [
    "# What this Notebook is about?\n",
    "\n",
    "This Notebook is part of the Data Science for Management course I'm teaching at the University of Firenze (Italy) during 2016/2017 academic year. A companion tutorial for the same course is [Python Course for Data Science](https://github.com/andrgig/Data-Science-for-Management/blob/master/Python%20Course%20for%20Data%20Science.ipynb).\n",
    "\n",
    "For suggestions you can contact me on [Linkedin](https://it.linkedin.com/in/agigli) or [Twitter](https://twitter.com/andrgig).\n",
    "\n",
    "*Andrea Gigli, PhD in Applied Statistics, MSc in Big Data Analytics and Social Mining*\n",
    "\n",
    "---"
   ]
  },
  {
   "cell_type": "markdown",
   "metadata": {},
   "source": [
    "# What is R"
   ]
  },
  {
   "cell_type": "markdown",
   "metadata": {},
   "source": [
    "R is a powerful language and environment for doing Data Science (ie machine learning, information retrieval, statistical analysis, optimization and visualization). It is a public domain project (“GNU”) which is similar to the commercial S language, an environment which was developed at Bell Laboratories (formerly AT&T, now Lucent Technologies). \n",
    "\n",
    "The main advantages of R are the fact that R is freeware and that there is a lot of help available online thanks to a very active community. It is quite similar to other programming packages such as MatLab (not freeware), but more user-friendly than programming languages such as C++ or Java. \n",
    "\n",
    "Along with Python, it is one of the most important tools to know for people working with Data at all levels. \n",
    "\n",
    "R can be downloaded for free at http://www.r-project.org/\n",
    "\n",
    "We'll use extensively RStudio interface, available at http://www.rstudio.org/\n"
   ]
  },
  {
   "cell_type": "markdown",
   "metadata": {},
   "source": [
    "R can do many statistical and data analyses thanks to the so-called packages or libraries build by R users community. With the standard installation, most common packages are installed. To get a list of all installed packages, go to the RStudio packages window or type library() in the console window."
   ]
  },
  {
   "cell_type": "code",
   "execution_count": 1,
   "metadata": {
    "collapsed": false
   },
   "outputs": [
    {
     "name": "stderr",
     "output_type": "stream",
     "text": [
      "Warning message in library():\n",
      "“libraries ‘/usr/local/lib/R/site-library’, ‘/usr/lib/R/site-library’ contain no packages”"
     ]
    },
    {
     "data": {},
     "metadata": {},
     "output_type": "display_data"
    }
   ],
   "source": [
    "library()"
   ]
  },
  {
   "cell_type": "markdown",
   "metadata": {},
   "source": [
    "There are many more packages available on the R website than those you can see. If you want to install and use a package (for example, the package called “geometry”) you should:\n",
    "\n",
    "1) first click \"install packages\" in the packages window and then type geometry, or type install.packages(\"geometry\") in the command window,\n",
    "\n",
    "2) then check the box in front of geometry in the package window or type library(\"geometry\") in the command window."
   ]
  },
  {
   "cell_type": "code",
   "execution_count": 2,
   "metadata": {
    "collapsed": false
   },
   "outputs": [
    {
     "name": "stderr",
     "output_type": "stream",
     "text": [
      "Installing package into ‘/home/asus/R/x86_64-pc-linux-gnu-library/3.3’\n",
      "(as ‘lib’ is unspecified)\n"
     ]
    }
   ],
   "source": [
    "install.packages(\"geometry\")"
   ]
  },
  {
   "cell_type": "code",
   "execution_count": 3,
   "metadata": {
    "collapsed": false
   },
   "outputs": [
    {
     "name": "stderr",
     "output_type": "stream",
     "text": [
      "Loading required package: magic\n",
      "Loading required package: abind\n"
     ]
    }
   ],
   "source": [
    "library(\"geometry\")"
   ]
  },
  {
   "cell_type": "markdown",
   "metadata": {},
   "source": [
    "It's possible to ask help to R on commands using \"help()\" or \"?\""
   ]
  },
  {
   "cell_type": "code",
   "execution_count": 4,
   "metadata": {
    "collapsed": false
   },
   "outputs": [
    {
     "data": {},
     "metadata": {},
     "output_type": "display_data"
    }
   ],
   "source": [
    "help(round)\n",
    "?round\n",
    "help.search(\"round\")"
   ]
  },
  {
   "cell_type": "markdown",
   "metadata": {},
   "source": [
    "## Working Directory\n",
    "\n",
    "Your working directory is the folder on your computer in which you are currently working. A working directory is always assumed by R\n",
    "\n",
    "• New files are created by default in this directory\n",
    "\n",
    "• Files to be read are expected by default in this directory\n",
    "\n",
    "• getwd() and setwd() are used to manage the it.\n",
    "\n",
    "When you ask R to open a certain file, it will look in the working directory for this file, and when you tell R to save a data file or figure, it will save it in the working directory.\n",
    "\n",
    "Before you start working, please set your working directory to where all your data and script files are or should be stored. \n",
    "\n",
    "Type in the command window:"
   ]
  },
  {
   "cell_type": "code",
   "execution_count": null,
   "metadata": {
    "collapsed": false
   },
   "outputs": [],
   "source": [
    "setwd(\"directoryname\") #error if the directory doesn't exist"
   ]
  },
  {
   "cell_type": "markdown",
   "metadata": {},
   "source": [
    "If you want to know your working directory type"
   ]
  },
  {
   "cell_type": "code",
   "execution_count": 1,
   "metadata": {
    "collapsed": false
   },
   "outputs": [
    {
     "data": {
      "text/html": [
       "'C:/Users/t000524/workspace/Management Data Science Course/GitRepo/Data-Science-for-Management'"
      ],
      "text/latex": [
       "'C:/Users/t000524/workspace/Management Data Science Course/GitRepo/Data-Science-for-Management'"
      ],
      "text/markdown": [
       "'C:/Users/t000524/workspace/Management Data Science Course/GitRepo/Data-Science-for-Management'"
      ],
      "text/plain": [
       "[1] \"C:/Users/t000524/workspace/Management Data Science Course/GitRepo/Data-Science-for-Management\""
      ]
     },
     "metadata": {},
     "output_type": "display_data"
    }
   ],
   "source": [
    "getwd()"
   ]
  },
  {
   "cell_type": "code",
   "execution_count": 3,
   "metadata": {
    "collapsed": false
   },
   "outputs": [
    {
     "ename": "ERROR",
     "evalue": "Error in setwd(\"../../dati/\"): cannot change working directory\n",
     "output_type": "error",
     "traceback": [
      "Error in setwd(\"../../dati/\"): cannot change working directory\nTraceback:\n",
      "1. setwd(\"../../dati/\")"
     ]
    }
   ],
   "source": [
    "setwd(\"../../dati/\")# up 2 levels, enter into dati folder"
   ]
  },
  {
   "cell_type": "code",
   "execution_count": 5,
   "metadata": {
    "collapsed": false
   },
   "outputs": [],
   "source": [
    "setwd(\"data/\")# down into data directory"
   ]
  },
  {
   "cell_type": "code",
   "execution_count": 6,
   "metadata": {
    "collapsed": false
   },
   "outputs": [
    {
     "data": {
      "text/html": [
       "<ol class=list-inline>\n",
       "\t<li>'311-service-requests.csv'</li>\n",
       "\t<li>'bikes.csv'</li>\n",
       "\t<li>'Italy.png'</li>\n",
       "\t<li>'multicols_file.txt'</li>\n",
       "\t<li>'olive.csv'</li>\n",
       "\t<li>'popularity-contest'</li>\n",
       "\t<li>'weather_2012.csv'</li>\n",
       "\t<li>'weather_2012.sqlite'</li>\n",
       "</ol>\n"
      ],
      "text/latex": [
       "\\begin{enumerate*}\n",
       "\\item '311-service-requests.csv'\n",
       "\\item 'bikes.csv'\n",
       "\\item 'Italy.png'\n",
       "\\item 'multicols\\_file.txt'\n",
       "\\item 'olive.csv'\n",
       "\\item 'popularity-contest'\n",
       "\\item 'weather\\_2012.csv'\n",
       "\\item 'weather\\_2012.sqlite'\n",
       "\\end{enumerate*}\n"
      ],
      "text/markdown": [
       "1. '311-service-requests.csv'\n",
       "2. 'bikes.csv'\n",
       "3. 'Italy.png'\n",
       "4. 'multicols_file.txt'\n",
       "5. 'olive.csv'\n",
       "6. 'popularity-contest'\n",
       "7. 'weather_2012.csv'\n",
       "8. 'weather_2012.sqlite'\n",
       "\n",
       "\n"
      ],
      "text/plain": [
       "[1] \"311-service-requests.csv\" \"bikes.csv\"               \n",
       "[3] \"Italy.png\"                \"multicols_file.txt\"      \n",
       "[5] \"olive.csv\"                \"popularity-contest\"      \n",
       "[7] \"weather_2012.csv\"         \"weather_2012.sqlite\"     "
      ]
     },
     "metadata": {},
     "output_type": "display_data"
    }
   ],
   "source": [
    "dir() # elenca files/cartelle"
   ]
  },
  {
   "cell_type": "code",
   "execution_count": 9,
   "metadata": {
    "collapsed": true
   },
   "outputs": [],
   "source": [
    "dir.create(\"tmpLavoro\")# crea cartella\n",
    "setwd(\"tmpLavoro\") # vi entra"
   ]
  },
  {
   "cell_type": "markdown",
   "metadata": {},
   "source": [
    "source(\"script.R\") esegue il codice R contenuto nel file di testo \"script.R\".\n",
    "\n",
    "Questo vi consente di:\n",
    "- spezzare un programma in moduli (script) separati, da eseguire richiamandoli sequenzialmente;\n",
    "- collocare una funzione che usate ripetutamente in uno script-libreria personale, da caricare all’occorrenza.\n",
    "\n",
    "Esempio: inizio di un mio “main script”:\n",
    "\n",
    "source(\"00_Parametri.R\")\n",
    "\n",
    "source(\"00_Input.R\")\n",
    "\n",
    "source(\"00_CaricamentoDati.R\")\n",
    "\n",
    "source(\"libUtils.R\")"
   ]
  },
  {
   "cell_type": "code",
   "execution_count": 7,
   "metadata": {
    "collapsed": false
   },
   "outputs": [
    {
     "name": "stderr",
     "output_type": "stream",
     "text": [
      "Warning message in file(filename, \"r\", encoding = encoding):\n",
      "\"cannot open file 'script.R': No such file or directory\""
     ]
    },
    {
     "ename": "ERROR",
     "evalue": "Error in file(filename, \"r\", encoding = encoding): cannot open the connection\n",
     "output_type": "error",
     "traceback": [
      "Error in file(filename, \"r\", encoding = encoding): cannot open the connection\nTraceback:\n",
      "1. source(\"script.R\")",
      "2. file(filename, \"r\", encoding = encoding)"
     ]
    }
   ],
   "source": [
    "source(\"script.R\") #error expected if source.R dor in data folder"
   ]
  },
  {
   "cell_type": "markdown",
   "metadata": {},
   "source": [
    "Managing the Workspace\n"
   ]
  },
  {
   "cell_type": "code",
   "execution_count": 9,
   "metadata": {
    "collapsed": false
   },
   "outputs": [
    {
     "data": {
      "text/html": [],
      "text/latex": [],
      "text/markdown": [],
      "text/plain": [
       "character(0)"
      ]
     },
     "metadata": {},
     "output_type": "display_data"
    }
   ],
   "source": [
    "ls() #To list what variables you have created in the current session"
   ]
  },
  {
   "cell_type": "code",
   "execution_count": 10,
   "metadata": {
    "collapsed": false
   },
   "outputs": [
    {
     "data": {
      "text/html": [
       "<ol class=list-inline>\n",
       "\t<li>'.GlobalEnv'</li>\n",
       "\t<li>'jupyter:irkernel'</li>\n",
       "\t<li>'jupyter:irkernel'</li>\n",
       "\t<li>'package:stats'</li>\n",
       "\t<li>'package:graphics'</li>\n",
       "\t<li>'package:grDevices'</li>\n",
       "\t<li>'package:utils'</li>\n",
       "\t<li>'package:datasets'</li>\n",
       "\t<li>'package:methods'</li>\n",
       "\t<li>'Autoloads'</li>\n",
       "\t<li>'package:base'</li>\n",
       "</ol>\n"
      ],
      "text/latex": [
       "\\begin{enumerate*}\n",
       "\\item '.GlobalEnv'\n",
       "\\item 'jupyter:irkernel'\n",
       "\\item 'jupyter:irkernel'\n",
       "\\item 'package:stats'\n",
       "\\item 'package:graphics'\n",
       "\\item 'package:grDevices'\n",
       "\\item 'package:utils'\n",
       "\\item 'package:datasets'\n",
       "\\item 'package:methods'\n",
       "\\item 'Autoloads'\n",
       "\\item 'package:base'\n",
       "\\end{enumerate*}\n"
      ],
      "text/markdown": [
       "1. '.GlobalEnv'\n",
       "2. 'jupyter:irkernel'\n",
       "3. 'jupyter:irkernel'\n",
       "4. 'package:stats'\n",
       "5. 'package:graphics'\n",
       "6. 'package:grDevices'\n",
       "7. 'package:utils'\n",
       "8. 'package:datasets'\n",
       "9. 'package:methods'\n",
       "10. 'Autoloads'\n",
       "11. 'package:base'\n",
       "\n",
       "\n"
      ],
      "text/plain": [
       " [1] \".GlobalEnv\"        \"jupyter:irkernel\"  \"jupyter:irkernel\" \n",
       " [4] \"package:stats\"     \"package:graphics\"  \"package:grDevices\"\n",
       " [7] \"package:utils\"     \"package:datasets\"  \"package:methods\"  \n",
       "[10] \"Autoloads\"         \"package:base\"     "
      ]
     },
     "metadata": {},
     "output_type": "display_data"
    }
   ],
   "source": [
    "search() #To see what libraries and dataframes are loade"
   ]
  },
  {
   "cell_type": "code",
   "execution_count": 8,
   "metadata": {
    "collapsed": false
   },
   "outputs": [
    {
     "data": {},
     "metadata": {},
     "output_type": "display_data"
    }
   ],
   "source": [
    "library() #To see what libraries have been installed"
   ]
  },
  {
   "cell_type": "markdown",
   "metadata": {},
   "source": [
    "To remove all variables from R’s memory, click “clear all” in the workspace window or type"
   ]
  },
  {
   "cell_type": "code",
   "execution_count": 14,
   "metadata": {
    "collapsed": false
   },
   "outputs": [
    {
     "data": {
      "text/html": [],
      "text/latex": [],
      "text/markdown": [],
      "text/plain": [
       "character(0)"
      ]
     },
     "metadata": {},
     "output_type": "display_data"
    }
   ],
   "source": [
    "rm(list=ls()) # To remove all objects\n",
    "ls()"
   ]
  },
  {
   "cell_type": "markdown",
   "metadata": {},
   "source": [
    " If you only want to remove the variable a, you can type\n",
    " \n",
    " `rm(variable_name)`"
   ]
  },
  {
   "cell_type": "code",
   "execution_count": 15,
   "metadata": {
    "collapsed": false
   },
   "outputs": [
    {
     "data": {
      "text/html": [
       "<ol class=list-inline>\n",
       "\t<li>'a'</li>\n",
       "\t<li>'b'</li>\n",
       "</ol>\n"
      ],
      "text/latex": [
       "\\begin{enumerate*}\n",
       "\\item 'a'\n",
       "\\item 'b'\n",
       "\\end{enumerate*}\n"
      ],
      "text/markdown": [
       "1. 'a'\n",
       "2. 'b'\n",
       "\n",
       "\n"
      ],
      "text/plain": [
       "[1] \"a\" \"b\""
      ]
     },
     "metadata": {},
     "output_type": "display_data"
    }
   ],
   "source": [
    "a <- 5\n",
    "b <- a\n",
    "ls()"
   ]
  },
  {
   "cell_type": "code",
   "execution_count": 16,
   "metadata": {
    "collapsed": false
   },
   "outputs": [
    {
     "data": {
      "text/html": [
       "'b'"
      ],
      "text/latex": [
       "'b'"
      ],
      "text/markdown": [
       "'b'"
      ],
      "text/plain": [
       "[1] \"b\""
      ]
     },
     "metadata": {},
     "output_type": "display_data"
    }
   ],
   "source": [
    "rm(a)\n",
    "ls()"
   ]
  },
  {
   "cell_type": "markdown",
   "metadata": {},
   "source": [
    "## R as a calculator\n",
    "You can use R as a calculator and do both basic mathematical operations..."
   ]
  },
  {
   "cell_type": "code",
   "execution_count": 17,
   "metadata": {
    "collapsed": false
   },
   "outputs": [
    {
     "data": {
      "text/html": [
       "4"
      ],
      "text/latex": [
       "4"
      ],
      "text/markdown": [
       "4"
      ],
      "text/plain": [
       "[1] 4"
      ]
     },
     "metadata": {},
     "output_type": "display_data"
    }
   ],
   "source": [
    "2+2"
   ]
  },
  {
   "cell_type": "code",
   "execution_count": 18,
   "metadata": {
    "collapsed": false
   },
   "outputs": [
    {
     "data": {
      "text/html": [
       "-1"
      ],
      "text/latex": [
       "-1"
      ],
      "text/markdown": [
       "-1"
      ],
      "text/plain": [
       "[1] -1"
      ]
     },
     "metadata": {},
     "output_type": "display_data"
    }
   ],
   "source": [
    "4-5"
   ]
  },
  {
   "cell_type": "code",
   "execution_count": 19,
   "metadata": {
    "collapsed": false
   },
   "outputs": [
    {
     "data": {
      "text/html": [
       "0.8"
      ],
      "text/latex": [
       "0.8"
      ],
      "text/markdown": [
       "0.8"
      ],
      "text/plain": [
       "[1] 0.8"
      ]
     },
     "metadata": {},
     "output_type": "display_data"
    }
   ],
   "source": [
    "4/5"
   ]
  },
  {
   "cell_type": "code",
   "execution_count": 20,
   "metadata": {
    "collapsed": false
   },
   "outputs": [
    {
     "data": {
      "text/html": [
       "72"
      ],
      "text/latex": [
       "72"
      ],
      "text/markdown": [
       "72"
      ],
      "text/plain": [
       "[1] 72"
      ]
     },
     "metadata": {},
     "output_type": "display_data"
    }
   ],
   "source": [
    "8*9"
   ]
  },
  {
   "cell_type": "code",
   "execution_count": 21,
   "metadata": {
    "collapsed": false
   },
   "outputs": [
    {
     "data": {
      "text/html": [
       "64"
      ],
      "text/latex": [
       "64"
      ],
      "text/markdown": [
       "64"
      ],
      "text/plain": [
       "[1] 64"
      ]
     },
     "metadata": {},
     "output_type": "display_data"
    }
   ],
   "source": [
    "8^2"
   ]
  },
  {
   "cell_type": "code",
   "execution_count": 22,
   "metadata": {
    "collapsed": false
   },
   "outputs": [
    {
     "data": {
      "text/html": [
       "7.38905609893065"
      ],
      "text/latex": [
       "7.38905609893065"
      ],
      "text/markdown": [
       "7.38905609893065"
      ],
      "text/plain": [
       "[1] 7.389056"
      ]
     },
     "metadata": {},
     "output_type": "display_data"
    }
   ],
   "source": [
    "exp(2)"
   ]
  },
  {
   "cell_type": "code",
   "execution_count": 23,
   "metadata": {
    "collapsed": false
   },
   "outputs": [
    {
     "data": {
      "text/html": [
       "2"
      ],
      "text/latex": [
       "2"
      ],
      "text/markdown": [
       "2"
      ],
      "text/plain": [
       "[1] 2"
      ]
     },
     "metadata": {},
     "output_type": "display_data"
    }
   ],
   "source": [
    "log(exp(2))"
   ]
  },
  {
   "cell_type": "code",
   "execution_count": 24,
   "metadata": {
    "collapsed": false
   },
   "outputs": [
    {
     "data": {
      "text/html": [
       "1"
      ],
      "text/latex": [
       "1"
      ],
      "text/markdown": [
       "1"
      ],
      "text/plain": [
       "[1] 1"
      ]
     },
     "metadata": {},
     "output_type": "display_data"
    }
   ],
   "source": [
    "5%%2"
   ]
  },
  {
   "cell_type": "code",
   "execution_count": 25,
   "metadata": {
    "collapsed": false,
    "scrolled": true
   },
   "outputs": [
    {
     "data": {
      "text/html": [
       "2"
      ],
      "text/latex": [
       "2"
      ],
      "text/markdown": [
       "2"
      ],
      "text/plain": [
       "[1] 2"
      ]
     },
     "metadata": {},
     "output_type": "display_data"
    }
   ],
   "source": [
    "5%/%2"
   ]
  },
  {
   "cell_type": "markdown",
   "metadata": {},
   "source": [
    "... or more complex ones"
   ]
  },
  {
   "cell_type": "code",
   "execution_count": 26,
   "metadata": {
    "collapsed": false
   },
   "outputs": [
    {
     "data": {
      "text/html": [
       "2.5499332139121"
      ],
      "text/latex": [
       "2.5499332139121"
      ],
      "text/markdown": [
       "2.5499332139121"
      ],
      "text/plain": [
       "[1] 2.549933"
      ]
     },
     "metadata": {},
     "output_type": "display_data"
    }
   ],
   "source": [
    "log((54*3+2)^2)/4"
   ]
  },
  {
   "cell_type": "markdown",
   "metadata": {},
   "source": [
    "# Variables \n",
    "You can create also variables in R and use them later in your scripts. The sign \"<-\" is used to assign a value to a variable. Variable types are\n",
    "\n",
    "- Numeric\n",
    "- Logical\n",
    "- Character\n",
    "- Missing Data\n",
    "- Factor\n",
    "- Dates\n",
    "\n",
    "\n",
    "## Numeric, Boolean, Character"
   ]
  },
  {
   "cell_type": "code",
   "execution_count": 27,
   "metadata": {
    "collapsed": true
   },
   "outputs": [],
   "source": [
    "#numeric variable\n",
    "x <- 10"
   ]
  },
  {
   "cell_type": "markdown",
   "metadata": {},
   "source": [
    "Afterwards, no result is displayed. To view the content of the variable just call the variable"
   ]
  },
  {
   "cell_type": "code",
   "execution_count": 28,
   "metadata": {
    "collapsed": false,
    "scrolled": false
   },
   "outputs": [
    {
     "data": {
      "text/html": [
       "10"
      ],
      "text/latex": [
       "10"
      ],
      "text/markdown": [
       "10"
      ],
      "text/plain": [
       "[1] 10"
      ]
     },
     "metadata": {},
     "output_type": "display_data"
    }
   ],
   "source": [
    "x"
   ]
  },
  {
   "cell_type": "markdown",
   "metadata": {},
   "source": [
    "You can also write the assignement operation in brackets"
   ]
  },
  {
   "cell_type": "code",
   "execution_count": 29,
   "metadata": {
    "collapsed": false,
    "scrolled": true
   },
   "outputs": [
    {
     "data": {
      "text/html": [
       "20"
      ],
      "text/latex": [
       "20"
      ],
      "text/markdown": [
       "20"
      ],
      "text/plain": [
       "[1] 20"
      ]
     },
     "metadata": {},
     "output_type": "display_data"
    }
   ],
   "source": [
    "(x <- 20)"
   ]
  },
  {
   "cell_type": "code",
   "execution_count": 30,
   "metadata": {
    "collapsed": false
   },
   "outputs": [
    {
     "data": {
      "text/html": [
       "-84.790363517662"
      ],
      "text/latex": [
       "-84.790363517662"
      ],
      "text/markdown": [
       "-84.790363517662"
      ],
      "text/plain": [
       "[1] -84.79036"
      ]
     },
     "metadata": {},
     "output_type": "display_data"
    }
   ],
   "source": [
    "y <- x + 10\n",
    "z <- x^(3/4) -pi*y\n",
    "z"
   ]
  },
  {
   "cell_type": "code",
   "execution_count": 31,
   "metadata": {
    "collapsed": false
   },
   "outputs": [
    {
     "data": {
      "text/html": [
       "FALSE"
      ],
      "text/latex": [
       "FALSE"
      ],
      "text/markdown": [
       "FALSE"
      ],
      "text/plain": [
       "[1] FALSE"
      ]
     },
     "metadata": {},
     "output_type": "display_data"
    }
   ],
   "source": [
    "# boolean variable\n",
    "z > 0"
   ]
  },
  {
   "cell_type": "code",
   "execution_count": 32,
   "metadata": {
    "collapsed": false
   },
   "outputs": [
    {
     "data": {
      "text/html": [
       "TRUE"
      ],
      "text/latex": [
       "TRUE"
      ],
      "text/markdown": [
       "TRUE"
      ],
      "text/plain": [
       "[1] TRUE"
      ]
     },
     "metadata": {},
     "output_type": "display_data"
    }
   ],
   "source": [
    "!(z > 0)"
   ]
  },
  {
   "cell_type": "code",
   "execution_count": 33,
   "metadata": {
    "collapsed": false
   },
   "outputs": [
    {
     "data": {
      "text/html": [
       "'pippo'"
      ],
      "text/latex": [
       "'pippo'"
      ],
      "text/markdown": [
       "'pippo'"
      ],
      "text/plain": [
       "[1] \"pippo\""
      ]
     },
     "metadata": {},
     "output_type": "display_data"
    }
   ],
   "source": [
    "#string variable\n",
    "string <- \"pippo\"\n",
    "string"
   ]
  },
  {
   "cell_type": "code",
   "execution_count": 34,
   "metadata": {
    "collapsed": false
   },
   "outputs": [
    {
     "data": {
      "text/html": [
       "TRUE"
      ],
      "text/latex": [
       "TRUE"
      ],
      "text/markdown": [
       "TRUE"
      ],
      "text/plain": [
       "[1] TRUE"
      ]
     },
     "metadata": {},
     "output_type": "display_data"
    }
   ],
   "source": [
    "boolean <- TRUE\n",
    "boolean"
   ]
  },
  {
   "cell_type": "markdown",
   "metadata": {},
   "source": [
    "## Missing Variable (and Inf)"
   ]
  },
  {
   "cell_type": "markdown",
   "metadata": {},
   "source": [
    "**\"Inf\" and \"NaN\"** stand for Infinite Number and Missing data: "
   ]
  },
  {
   "cell_type": "code",
   "execution_count": 35,
   "metadata": {
    "collapsed": false
   },
   "outputs": [
    {
     "data": {
      "text/html": [
       "Inf"
      ],
      "text/latex": [
       "Inf"
      ],
      "text/markdown": [
       "Inf"
      ],
      "text/plain": [
       "[1] Inf"
      ]
     },
     "metadata": {},
     "output_type": "display_data"
    }
   ],
   "source": [
    "1/0"
   ]
  },
  {
   "cell_type": "code",
   "execution_count": 36,
   "metadata": {
    "collapsed": false
   },
   "outputs": [
    {
     "data": {
      "text/html": [
       "NaN"
      ],
      "text/latex": [
       "NaN"
      ],
      "text/markdown": [
       "NaN"
      ],
      "text/plain": [
       "[1] NaN"
      ]
     },
     "metadata": {},
     "output_type": "display_data"
    }
   ],
   "source": [
    "0/0"
   ]
  },
  {
   "cell_type": "code",
   "execution_count": 37,
   "metadata": {
    "collapsed": false
   },
   "outputs": [
    {
     "data": {
      "text/html": [
       "Inf"
      ],
      "text/latex": [
       "Inf"
      ],
      "text/markdown": [
       "Inf"
      ],
      "text/plain": [
       "[1] Inf"
      ]
     },
     "metadata": {},
     "output_type": "display_data"
    }
   ],
   "source": [
    "10*1/0"
   ]
  },
  {
   "cell_type": "code",
   "execution_count": 38,
   "metadata": {
    "collapsed": false
   },
   "outputs": [
    {
     "data": {
      "text/html": [
       "NaN"
      ],
      "text/latex": [
       "NaN"
      ],
      "text/markdown": [
       "NaN"
      ],
      "text/plain": [
       "[1] NaN"
      ]
     },
     "metadata": {},
     "output_type": "display_data"
    }
   ],
   "source": [
    "10*0/0"
   ]
  },
  {
   "cell_type": "markdown",
   "metadata": {},
   "source": [
    "is.na() can be used to test if a variable has missing value"
   ]
  },
  {
   "cell_type": "code",
   "execution_count": 39,
   "metadata": {
    "collapsed": false
   },
   "outputs": [
    {
     "data": {
      "text/html": [
       "TRUE"
      ],
      "text/latex": [
       "TRUE"
      ],
      "text/markdown": [
       "TRUE"
      ],
      "text/plain": [
       "[1] TRUE"
      ]
     },
     "metadata": {},
     "output_type": "display_data"
    }
   ],
   "source": [
    "is.na(0/0)"
   ]
  },
  {
   "cell_type": "markdown",
   "metadata": {},
   "source": [
    "## Factor Variables\n",
    "A factor is a vector that can contain only predefined values, and is used to store categorical data. A factor variable can have ordered or unordered levels. Use the function factor to create a factor variable\n",
    "\n",
    "Factors are built on top of integer vectors using two attributes: the class(), “factor”, which makes them behave differently from regular integer vectors, and the levels(), which defines the set of allowed values."
   ]
  },
  {
   "cell_type": "code",
   "execution_count": 40,
   "metadata": {
    "collapsed": false,
    "scrolled": false
   },
   "outputs": [
    {
     "data": {
      "text/html": [
       "<ol class=list-inline>\n",
       "\t<li>'female'</li>\n",
       "\t<li>'male'</li>\n",
       "\t<li>'male'</li>\n",
       "\t<li>'female'</li>\n",
       "\t<li>'female'</li>\n",
       "</ol>\n"
      ],
      "text/latex": [
       "\\begin{enumerate*}\n",
       "\\item 'female'\n",
       "\\item 'male'\n",
       "\\item 'male'\n",
       "\\item 'female'\n",
       "\\item 'female'\n",
       "\\end{enumerate*}\n"
      ],
      "text/markdown": [
       "1. 'female'\n",
       "2. 'male'\n",
       "3. 'male'\n",
       "4. 'female'\n",
       "5. 'female'\n",
       "\n",
       "\n"
      ],
      "text/plain": [
       "[1] \"female\" \"male\"   \"male\"   \"female\" \"female\""
      ]
     },
     "metadata": {},
     "output_type": "display_data"
    }
   ],
   "source": [
    "x <- c(\"female\",\"male\",\"male\",\"female\", \"female\")\n",
    "x"
   ]
  },
  {
   "cell_type": "code",
   "execution_count": 41,
   "metadata": {
    "collapsed": false
   },
   "outputs": [
    {
     "data": {
      "text/html": [
       "'character'"
      ],
      "text/latex": [
       "'character'"
      ],
      "text/markdown": [
       "'character'"
      ],
      "text/plain": [
       "[1] \"character\""
      ]
     },
     "metadata": {},
     "output_type": "display_data"
    }
   ],
   "source": [
    "class(x)"
   ]
  },
  {
   "cell_type": "code",
   "execution_count": 42,
   "metadata": {
    "collapsed": false,
    "scrolled": true
   },
   "outputs": [
    {
     "data": {
      "text/html": [
       "<ol class=list-inline>\n",
       "\t<li>female</li>\n",
       "\t<li>male</li>\n",
       "\t<li>male</li>\n",
       "\t<li>female</li>\n",
       "\t<li>female</li>\n",
       "</ol>\n"
      ],
      "text/latex": [
       "\\begin{enumerate*}\n",
       "\\item female\n",
       "\\item male\n",
       "\\item male\n",
       "\\item female\n",
       "\\item female\n",
       "\\end{enumerate*}\n"
      ],
      "text/markdown": [
       "1. female\n",
       "2. male\n",
       "3. male\n",
       "4. female\n",
       "5. female\n",
       "\n",
       "\n"
      ],
      "text/plain": [
       "[1] female male   male   female female\n",
       "Levels: female male"
      ]
     },
     "metadata": {},
     "output_type": "display_data"
    },
    {
     "data": {
      "text/html": [
       "'factor'"
      ],
      "text/latex": [
       "'factor'"
      ],
      "text/markdown": [
       "'factor'"
      ],
      "text/plain": [
       "[1] \"factor\""
      ]
     },
     "metadata": {},
     "output_type": "display_data"
    }
   ],
   "source": [
    "f <- factor(x)\n",
    "f\n",
    "class(f)"
   ]
  },
  {
   "cell_type": "code",
   "execution_count": 43,
   "metadata": {
    "collapsed": false,
    "scrolled": true
   },
   "outputs": [
    {
     "data": {
      "text/html": [
       "<ol class=list-inline>\n",
       "\t<li>'female'</li>\n",
       "\t<li>'male'</li>\n",
       "</ol>\n"
      ],
      "text/latex": [
       "\\begin{enumerate*}\n",
       "\\item 'female'\n",
       "\\item 'male'\n",
       "\\end{enumerate*}\n"
      ],
      "text/markdown": [
       "1. 'female'\n",
       "2. 'male'\n",
       "\n",
       "\n"
      ],
      "text/plain": [
       "[1] \"female\" \"male\"  "
      ]
     },
     "metadata": {},
     "output_type": "display_data"
    },
    {
     "data": {
      "text/html": [
       "<ol class=list-inline>\n",
       "\t<li>1</li>\n",
       "\t<li>2</li>\n",
       "\t<li>2</li>\n",
       "\t<li>1</li>\n",
       "\t<li>1</li>\n",
       "</ol>\n"
      ],
      "text/latex": [
       "\\begin{enumerate*}\n",
       "\\item 1\n",
       "\\item 2\n",
       "\\item 2\n",
       "\\item 1\n",
       "\\item 1\n",
       "\\end{enumerate*}\n"
      ],
      "text/markdown": [
       "1. 1\n",
       "2. 2\n",
       "3. 2\n",
       "4. 1\n",
       "5. 1\n",
       "\n",
       "\n"
      ],
      "text/plain": [
       "[1] 1 2 2 1 1"
      ]
     },
     "metadata": {},
     "output_type": "display_data"
    }
   ],
   "source": [
    "levels(f)\n",
    "as.numeric(f)"
   ]
  },
  {
   "cell_type": "code",
   "execution_count": 44,
   "metadata": {
    "collapsed": false
   },
   "outputs": [
    {
     "data": {
      "text/plain": [
       "f\n",
       "female   male \n",
       "     3      2 "
      ]
     },
     "metadata": {},
     "output_type": "display_data"
    }
   ],
   "source": [
    "table(f)"
   ]
  },
  {
   "cell_type": "code",
   "execution_count": 45,
   "metadata": {
    "collapsed": false
   },
   "outputs": [
    {
     "data": {
      "text/html": [
       "<ol class=list-inline>\n",
       "\t<li>'female'</li>\n",
       "\t<li>'male'</li>\n",
       "</ol>\n"
      ],
      "text/latex": [
       "\\begin{enumerate*}\n",
       "\\item 'female'\n",
       "\\item 'male'\n",
       "\\end{enumerate*}\n"
      ],
      "text/markdown": [
       "1. 'female'\n",
       "2. 'male'\n",
       "\n",
       "\n"
      ],
      "text/plain": [
       "[1] \"female\" \"male\"  "
      ]
     },
     "metadata": {},
     "output_type": "display_data"
    },
    {
     "data": {
      "text/html": [
       "2"
      ],
      "text/latex": [
       "2"
      ],
      "text/markdown": [
       "2"
      ],
      "text/plain": [
       "[1] 2"
      ]
     },
     "metadata": {},
     "output_type": "display_data"
    }
   ],
   "source": [
    "levels(f) #Retrieve or set the levels of x\n",
    "nlevels(f) #Return the number of levels of x"
   ]
  },
  {
   "cell_type": "markdown",
   "metadata": {},
   "source": [
    "`relevel(f, ref)` #Levels of x are reordered so that the level specified by ref is first\n",
    "\n",
    "`reorder()` #Reorders levels based on the values of a second variable\n",
    "\n",
    "`gl()` #Generate factors by specifying the pattern of their levels"
   ]
  },
  {
   "cell_type": "code",
   "execution_count": 46,
   "metadata": {
    "collapsed": false
   },
   "outputs": [
    {
     "data": {
      "text/html": [
       "<ol class=list-inline>\n",
       "\t<li>trt.1</li>\n",
       "\t<li>trt.1</li>\n",
       "\t<li>trt.2</li>\n",
       "\t<li>trt.2</li>\n",
       "\t<li>trt.3</li>\n",
       "\t<li>trt.3</li>\n",
       "</ol>\n"
      ],
      "text/latex": [
       "\\begin{enumerate*}\n",
       "\\item trt.1\n",
       "\\item trt.1\n",
       "\\item trt.2\n",
       "\\item trt.2\n",
       "\\item trt.3\n",
       "\\item trt.3\n",
       "\\end{enumerate*}\n"
      ],
      "text/markdown": [
       "1. trt.1\n",
       "2. trt.1\n",
       "3. trt.2\n",
       "4. trt.2\n",
       "5. trt.3\n",
       "6. trt.3\n",
       "\n",
       "\n"
      ],
      "text/plain": [
       "[1] trt.1 trt.1 trt.2 trt.2 trt.3 trt.3\n",
       "Levels: trt.1 trt.2 trt.3"
      ]
     },
     "metadata": {},
     "output_type": "display_data"
    },
    {
     "data": {
      "text/html": [
       "<ol class=list-inline>\n",
       "\t<li>'trt.1'</li>\n",
       "\t<li>'trt.2'</li>\n",
       "\t<li>'trt.3'</li>\n",
       "</ol>\n"
      ],
      "text/latex": [
       "\\begin{enumerate*}\n",
       "\\item 'trt.1'\n",
       "\\item 'trt.2'\n",
       "\\item 'trt.3'\n",
       "\\end{enumerate*}\n"
      ],
      "text/markdown": [
       "1. 'trt.1'\n",
       "2. 'trt.2'\n",
       "3. 'trt.3'\n",
       "\n",
       "\n"
      ],
      "text/plain": [
       "[1] \"trt.1\" \"trt.2\" \"trt.3\""
      ]
     },
     "metadata": {},
     "output_type": "display_data"
    },
    {
     "data": {
      "text/html": [
       "3"
      ],
      "text/latex": [
       "3"
      ],
      "text/markdown": [
       "3"
      ],
      "text/plain": [
       "[1] 3"
      ]
     },
     "metadata": {},
     "output_type": "display_data"
    }
   ],
   "source": [
    "# Generate factor levels for 3 treatments and 2 cases per treatment\n",
    "f2 <- gl(3, 2, labels=paste(\"trt\",1:3, sep=\".\"))\n",
    "f2\n",
    "levels(f2)\n",
    "nlevels(f2)"
   ]
  },
  {
   "cell_type": "markdown",
   "metadata": {},
   "source": [
    "`cut(x, breaks)` #Divides the range of x into intervals (factors) determined by breaks"
   ]
  },
  {
   "cell_type": "code",
   "execution_count": 47,
   "metadata": {
    "collapsed": false
   },
   "outputs": [
    {
     "data": {
      "text/html": [
       "<ol class=list-inline>\n",
       "\t<li>0.287577520124614</li>\n",
       "\t<li>0.788305135443807</li>\n",
       "\t<li>0.4089769218117</li>\n",
       "\t<li>0.883017404004931</li>\n",
       "\t<li>0.940467284293845</li>\n",
       "\t<li>0.0455564993899316</li>\n",
       "\t<li>0.528105488047004</li>\n",
       "\t<li>0.892419044394046</li>\n",
       "\t<li>0.551435014465824</li>\n",
       "\t<li>0.456614735303447</li>\n",
       "</ol>\n"
      ],
      "text/latex": [
       "\\begin{enumerate*}\n",
       "\\item 0.287577520124614\n",
       "\\item 0.788305135443807\n",
       "\\item 0.4089769218117\n",
       "\\item 0.883017404004931\n",
       "\\item 0.940467284293845\n",
       "\\item 0.0455564993899316\n",
       "\\item 0.528105488047004\n",
       "\\item 0.892419044394046\n",
       "\\item 0.551435014465824\n",
       "\\item 0.456614735303447\n",
       "\\end{enumerate*}\n"
      ],
      "text/markdown": [
       "1. 0.287577520124614\n",
       "2. 0.788305135443807\n",
       "3. 0.4089769218117\n",
       "4. 0.883017404004931\n",
       "5. 0.940467284293845\n",
       "6. 0.0455564993899316\n",
       "7. 0.528105488047004\n",
       "8. 0.892419044394046\n",
       "9. 0.551435014465824\n",
       "10. 0.456614735303447\n",
       "\n",
       "\n"
      ],
      "text/plain": [
       " [1] 0.2875775 0.7883051 0.4089769 0.8830174 0.9404673 0.0455565 0.5281055\n",
       " [8] 0.8924190 0.5514350 0.4566147"
      ]
     },
     "metadata": {},
     "output_type": "display_data"
    },
    {
     "data": {
      "text/html": [
       "<ol class=list-inline>\n",
       "\t<li>(0.0447,0.344]</li>\n",
       "\t<li>(0.642,0.941]</li>\n",
       "\t<li>(0.344,0.642]</li>\n",
       "\t<li>(0.642,0.941]</li>\n",
       "\t<li>(0.642,0.941]</li>\n",
       "\t<li>(0.0447,0.344]</li>\n",
       "\t<li>(0.344,0.642]</li>\n",
       "\t<li>(0.642,0.941]</li>\n",
       "\t<li>(0.344,0.642]</li>\n",
       "\t<li>(0.344,0.642]</li>\n",
       "</ol>\n"
      ],
      "text/latex": [
       "\\begin{enumerate*}\n",
       "\\item (0.0447,0.344{]}\n",
       "\\item (0.642,0.941{]}\n",
       "\\item (0.344,0.642{]}\n",
       "\\item (0.642,0.941{]}\n",
       "\\item (0.642,0.941{]}\n",
       "\\item (0.0447,0.344{]}\n",
       "\\item (0.344,0.642{]}\n",
       "\\item (0.642,0.941{]}\n",
       "\\item (0.344,0.642{]}\n",
       "\\item (0.344,0.642{]}\n",
       "\\end{enumerate*}\n"
      ],
      "text/markdown": [
       "1. (0.0447,0.344]\n",
       "2. (0.642,0.941]\n",
       "3. (0.344,0.642]\n",
       "4. (0.642,0.941]\n",
       "5. (0.642,0.941]\n",
       "6. (0.0447,0.344]\n",
       "7. (0.344,0.642]\n",
       "8. (0.642,0.941]\n",
       "9. (0.344,0.642]\n",
       "10. (0.344,0.642]\n",
       "\n",
       "\n"
      ],
      "text/plain": [
       " [1] (0.0447,0.344] (0.642,0.941]  (0.344,0.642]  (0.642,0.941]  (0.642,0.941] \n",
       " [6] (0.0447,0.344] (0.344,0.642]  (0.642,0.941]  (0.344,0.642]  (0.344,0.642] \n",
       "Levels: (0.0447,0.344] (0.344,0.642] (0.642,0.941]"
      ]
     },
     "metadata": {},
     "output_type": "display_data"
    }
   ],
   "source": [
    "set.seed(123)\n",
    "x <- runif(10)\n",
    "x\n",
    "x <- cut(x, 3) # Cut x into three intervals\n",
    "x"
   ]
  },
  {
   "cell_type": "code",
   "execution_count": 48,
   "metadata": {
    "collapsed": false
   },
   "outputs": [
    {
     "data": {
      "text/html": [
       "<ol class=list-inline>\n",
       "\t<li>0.287577520124614</li>\n",
       "\t<li>0.788305135443807</li>\n",
       "\t<li>0.4089769218117</li>\n",
       "\t<li>0.883017404004931</li>\n",
       "\t<li>0.940467284293845</li>\n",
       "\t<li>0.0455564993899316</li>\n",
       "\t<li>0.528105488047004</li>\n",
       "\t<li>0.892419044394046</li>\n",
       "\t<li>0.551435014465824</li>\n",
       "\t<li>0.456614735303447</li>\n",
       "</ol>\n"
      ],
      "text/latex": [
       "\\begin{enumerate*}\n",
       "\\item 0.287577520124614\n",
       "\\item 0.788305135443807\n",
       "\\item 0.4089769218117\n",
       "\\item 0.883017404004931\n",
       "\\item 0.940467284293845\n",
       "\\item 0.0455564993899316\n",
       "\\item 0.528105488047004\n",
       "\\item 0.892419044394046\n",
       "\\item 0.551435014465824\n",
       "\\item 0.456614735303447\n",
       "\\end{enumerate*}\n"
      ],
      "text/markdown": [
       "1. 0.287577520124614\n",
       "2. 0.788305135443807\n",
       "3. 0.4089769218117\n",
       "4. 0.883017404004931\n",
       "5. 0.940467284293845\n",
       "6. 0.0455564993899316\n",
       "7. 0.528105488047004\n",
       "8. 0.892419044394046\n",
       "9. 0.551435014465824\n",
       "10. 0.456614735303447\n",
       "\n",
       "\n"
      ],
      "text/plain": [
       " [1] 0.2875775 0.7883051 0.4089769 0.8830174 0.9404673 0.0455565 0.5281055\n",
       " [8] 0.8924190 0.5514350 0.4566147"
      ]
     },
     "metadata": {},
     "output_type": "display_data"
    },
    {
     "data": {
      "text/html": [
       "<ol class=list-inline>\n",
       "\t<li>(0.25,0.5]</li>\n",
       "\t<li>(0.75,1]</li>\n",
       "\t<li>(0.25,0.5]</li>\n",
       "\t<li>(0.75,1]</li>\n",
       "\t<li>(0.75,1]</li>\n",
       "\t<li>(0,0.25]</li>\n",
       "\t<li>(0.5,0.75]</li>\n",
       "\t<li>(0.75,1]</li>\n",
       "\t<li>(0.5,0.75]</li>\n",
       "\t<li>(0.25,0.5]</li>\n",
       "</ol>\n"
      ],
      "text/latex": [
       "\\begin{enumerate*}\n",
       "\\item (0.25,0.5{]}\n",
       "\\item (0.75,1{]}\n",
       "\\item (0.25,0.5{]}\n",
       "\\item (0.75,1{]}\n",
       "\\item (0.75,1{]}\n",
       "\\item (0,0.25{]}\n",
       "\\item (0.5,0.75{]}\n",
       "\\item (0.75,1{]}\n",
       "\\item (0.5,0.75{]}\n",
       "\\item (0.25,0.5{]}\n",
       "\\end{enumerate*}\n"
      ],
      "text/markdown": [
       "1. (0.25,0.5]\n",
       "2. (0.75,1]\n",
       "3. (0.25,0.5]\n",
       "4. (0.75,1]\n",
       "5. (0.75,1]\n",
       "6. (0,0.25]\n",
       "7. (0.5,0.75]\n",
       "8. (0.75,1]\n",
       "9. (0.5,0.75]\n",
       "10. (0.25,0.5]\n",
       "\n",
       "\n"
      ],
      "text/plain": [
       " [1] (0.25,0.5] (0.75,1]   (0.25,0.5] (0.75,1]   (0.75,1]   (0,0.25]  \n",
       " [7] (0.5,0.75] (0.75,1]   (0.5,0.75] (0.25,0.5]\n",
       "Levels: (0,0.25] (0.25,0.5] (0.5,0.75] (0.75,1]"
      ]
     },
     "metadata": {},
     "output_type": "display_data"
    }
   ],
   "source": [
    "set.seed(123)\n",
    "x <- runif(10)\n",
    "x\n",
    "x <- cut(x, c(0,.25,.5,.75,1)) # Cut x at the given cut points\n",
    "x"
   ]
  },
  {
   "cell_type": "markdown",
   "metadata": {},
   "source": [
    "## Dates and Time\n",
    "\n",
    "The as.Date function is a built-in function able to handle dates (without time, without control zone). The chron library handles dates and times (without control zones). POSIXct and POSIXlt classes allow for dates and times with control for time zones.\n",
    "\n",
    "### as.Date\n",
    "\n",
    "The as.Date function allows a variety of input formats through the format = argument. The default format is a four digit year, followed by a month, then a day, separated by either dashes or slashes\n"
   ]
  },
  {
   "cell_type": "code",
   "execution_count": 49,
   "metadata": {
    "collapsed": false
   },
   "outputs": [
    {
     "data": {
      "text/html": [
       "<time datetime=\"1915-06-16\">1915-06-16</time>"
      ],
      "text/latex": [
       "1915-06-16"
      ],
      "text/markdown": [
       "1915-06-16"
      ],
      "text/plain": [
       "[1] \"1915-06-16\""
      ]
     },
     "metadata": {},
     "output_type": "display_data"
    }
   ],
   "source": [
    "as.Date('1915-6-16')"
   ]
  },
  {
   "cell_type": "markdown",
   "metadata": {},
   "source": [
    "| Code | Value         \n",
    "| :- |:-------------\n",
    "| %d | Day of the month (decimal) \n",
    "| %m | Month (decimal)\n",
    "| %b | Month (abbreviated name)\n",
    "| %B | Month (full name)\n",
    "| %y | Year (2 digits)\n",
    "| %Y | Year (4 digits)\n",
    "\n"
   ]
  },
  {
   "cell_type": "code",
   "execution_count": 50,
   "metadata": {
    "collapsed": false
   },
   "outputs": [
    {
     "data": {
      "text/html": [
       "<time datetime=\"2001-01-15\">2001-01-15</time>"
      ],
      "text/latex": [
       "2001-01-15"
      ],
      "text/markdown": [
       "2001-01-15"
      ],
      "text/plain": [
       "[1] \"2001-01-15\""
      ]
     },
     "metadata": {},
     "output_type": "display_data"
    }
   ],
   "source": [
    "as.Date('01/15/2001',format='%m/%d/%Y')"
   ]
  },
  {
   "cell_type": "code",
   "execution_count": 51,
   "metadata": {
    "collapsed": false
   },
   "outputs": [
    {
     "data": {
      "text/html": [
       "<time datetime=\"2001-04-26\">2001-04-26</time>"
      ],
      "text/latex": [
       "2001-04-26"
      ],
      "text/markdown": [
       "2001-04-26"
      ],
      "text/plain": [
       "[1] \"2001-04-26\""
      ]
     },
     "metadata": {},
     "output_type": "display_data"
    }
   ],
   "source": [
    " as.Date('April 26, 2001',format='%B %d, %Y')"
   ]
  },
  {
   "cell_type": "markdown",
   "metadata": {},
   "source": [
    "**Internally, Date objects are stored as the number of days since January 1, 1970**, using negative numbers for earlier dates. The as.numeric function can be used to convert a Date object to its internal form.\n",
    "\n",
    "To extract the components of the dates, the weekdays, months, days or quarters functions can be used."
   ]
  },
  {
   "cell_type": "code",
   "execution_count": 52,
   "metadata": {
    "collapsed": false
   },
   "outputs": [
    {
     "data": {
      "text/html": [
       "<dl class=dl-horizontal>\n",
       "\t<dt>tukey</dt>\n",
       "\t\t<dd>'Wednesday'</dd>\n",
       "\t<dt>fisher</dt>\n",
       "\t\t<dd>'Monday'</dd>\n",
       "\t<dt>cramer</dt>\n",
       "\t\t<dd>'Monday'</dd>\n",
       "\t<dt>kendall</dt>\n",
       "\t\t<dd>'Friday'</dd>\n",
       "</dl>\n"
      ],
      "text/latex": [
       "\\begin{description*}\n",
       "\\item[tukey] 'Wednesday'\n",
       "\\item[fisher] 'Monday'\n",
       "\\item[cramer] 'Monday'\n",
       "\\item[kendall] 'Friday'\n",
       "\\end{description*}\n"
      ],
      "text/markdown": [
       "tukey\n",
       ":   'Wednesday'fisher\n",
       ":   'Monday'cramer\n",
       ":   'Monday'kendall\n",
       ":   'Friday'\n",
       "\n"
      ],
      "text/plain": [
       "      tukey      fisher      cramer     kendall \n",
       "\"Wednesday\"    \"Monday\"    \"Monday\"    \"Friday\" "
      ]
     },
     "metadata": {},
     "output_type": "display_data"
    },
    {
     "data": {
      "text/html": [
       "<dl class=dl-horizontal>\n",
       "\t<dt>tukey</dt>\n",
       "\t\t<dd>'June'</dd>\n",
       "\t<dt>fisher</dt>\n",
       "\t\t<dd>'February'</dd>\n",
       "\t<dt>cramer</dt>\n",
       "\t\t<dd>'September'</dd>\n",
       "\t<dt>kendall</dt>\n",
       "\t\t<dd>'September'</dd>\n",
       "</dl>\n"
      ],
      "text/latex": [
       "\\begin{description*}\n",
       "\\item[tukey] 'June'\n",
       "\\item[fisher] 'February'\n",
       "\\item[cramer] 'September'\n",
       "\\item[kendall] 'September'\n",
       "\\end{description*}\n"
      ],
      "text/markdown": [
       "tukey\n",
       ":   'June'fisher\n",
       ":   'February'cramer\n",
       ":   'September'kendall\n",
       ":   'September'\n",
       "\n"
      ],
      "text/plain": [
       "      tukey      fisher      cramer     kendall \n",
       "     \"June\"  \"February\" \"September\" \"September\" "
      ]
     },
     "metadata": {},
     "output_type": "display_data"
    }
   ],
   "source": [
    "bdays = c(tukey=as.Date('1915-06-16'),fisher=as.Date('1890-02-17'),\n",
    "          cramer=as.Date('1893-09-25'), kendall=as.Date('1907-09-06'))\n",
    "weekdays(bdays)\n",
    "months(bdays)"
   ]
  },
  {
   "cell_type": "markdown",
   "metadata": {},
   "source": [
    "### chron\n",
    "This class is a good option when you don’t need to deal with timezones. It requires the package chron."
   ]
  },
  {
   "cell_type": "code",
   "execution_count": 53,
   "metadata": {
    "collapsed": false
   },
   "outputs": [
    {
     "name": "stderr",
     "output_type": "stream",
     "text": [
      "Loading required package: chron\n"
     ]
    }
   ],
   "source": [
    "require(chron)"
   ]
  },
  {
   "cell_type": "code",
   "execution_count": 54,
   "metadata": {
    "collapsed": false
   },
   "outputs": [
    {
     "data": {
      "text/plain": [
       "[1] (07/24/13 23:55:26)"
      ]
     },
     "metadata": {},
     "output_type": "display_data"
    }
   ],
   "source": [
    "#create some times:\n",
    "\n",
    "tm1.c <- as.chron(\"2013-07-24 23:55:26\")\n",
    "tm1.c"
   ]
  },
  {
   "cell_type": "code",
   "execution_count": 55,
   "metadata": {
    "collapsed": false
   },
   "outputs": [
    {
     "data": {
      "text/html": [
       "<dl>\n",
       "\t<dt>$format</dt>\n",
       "\t\t<dd><dl class=dl-horizontal>\n",
       "\t<dt>dates</dt>\n",
       "\t\t<dd>'m/d/y'</dd>\n",
       "\t<dt>times</dt>\n",
       "\t\t<dd>'h:m:s'</dd>\n",
       "</dl>\n",
       "</dd>\n",
       "\t<dt>$origin</dt>\n",
       "\t\t<dd><dl class=dl-horizontal>\n",
       "\t<dt>month</dt>\n",
       "\t\t<dd>1</dd>\n",
       "\t<dt>day</dt>\n",
       "\t\t<dd>1</dd>\n",
       "\t<dt>year</dt>\n",
       "\t\t<dd>1970</dd>\n",
       "</dl>\n",
       "</dd>\n",
       "\t<dt>$class</dt>\n",
       "\t\t<dd><ol class=list-inline>\n",
       "\t<li>'chron'</li>\n",
       "\t<li>'dates'</li>\n",
       "\t<li>'times'</li>\n",
       "</ol>\n",
       "</dd>\n",
       "</dl>\n"
      ],
      "text/latex": [
       "\\begin{description}\n",
       "\\item[\\$format] \\begin{description*}\n",
       "\\item[dates] 'm/d/y'\n",
       "\\item[times] 'h:m:s'\n",
       "\\end{description*}\n",
       "\n",
       "\\item[\\$origin] \\begin{description*}\n",
       "\\item[month] 1\n",
       "\\item[day] 1\n",
       "\\item[year] 1970\n",
       "\\end{description*}\n",
       "\n",
       "\\item[\\$class] \\begin{enumerate*}\n",
       "\\item 'chron'\n",
       "\\item 'dates'\n",
       "\\item 'times'\n",
       "\\end{enumerate*}\n",
       "\n",
       "\\end{description}\n"
      ],
      "text/markdown": [
       "$format\n",
       ":   dates\n",
       ":   'm/d/y'times\n",
       ":   'h:m:s'\n",
       "\n",
       "\n",
       "$origin\n",
       ":   month\n",
       ":   1day\n",
       ":   1year\n",
       ":   1970\n",
       "\n",
       "\n",
       "$class\n",
       ":   1. 'chron'\n",
       "2. 'dates'\n",
       "3. 'times'\n",
       "\n",
       "\n",
       "\n",
       "\n",
       "\n"
      ],
      "text/plain": [
       "$format\n",
       "  dates   times \n",
       "\"m/d/y\" \"h:m:s\" \n",
       "\n",
       "$origin\n",
       "month   day  year \n",
       "    1     1  1970 \n",
       "\n",
       "$class\n",
       "[1] \"chron\" \"dates\" \"times\"\n"
      ]
     },
     "metadata": {},
     "output_type": "display_data"
    }
   ],
   "source": [
    "attributes(tm1.c)"
   ]
  },
  {
   "cell_type": "code",
   "execution_count": 56,
   "metadata": {
    "collapsed": false
   },
   "outputs": [
    {
     "data": {
      "text/plain": [
       "[1] (07/25/13 08:32:07)"
      ]
     },
     "metadata": {},
     "output_type": "display_data"
    }
   ],
   "source": [
    "tm2.c <- as.chron(\"07/25/13 08:32:07\", \"%m/%d/%y %H:%M:%S\")\n",
    "tm2.c"
   ]
  },
  {
   "cell_type": "code",
   "execution_count": 57,
   "metadata": {
    "collapsed": false
   },
   "outputs": [
    {
     "data": {
      "text/plain": [
       "    day  \n",
       "07/24/13 "
      ]
     },
     "metadata": {},
     "output_type": "display_data"
    }
   ],
   "source": [
    "#extract just the date:\n",
    "\n",
    "dates(tm1.c)"
   ]
  },
  {
   "cell_type": "code",
   "execution_count": 58,
   "metadata": {
    "collapsed": false
   },
   "outputs": [
    {
     "data": {
      "text/html": [
       "TRUE"
      ],
      "text/latex": [
       "TRUE"
      ],
      "text/markdown": [
       "TRUE"
      ],
      "text/plain": [
       "[1] TRUE"
      ]
     },
     "metadata": {},
     "output_type": "display_data"
    }
   ],
   "source": [
    "#compare times:\n",
    "\n",
    "tm2.c > tm1.c"
   ]
  },
  {
   "cell_type": "code",
   "execution_count": 59,
   "metadata": {
    "collapsed": false
   },
   "outputs": [
    {
     "data": {
      "text/plain": [
       "[1] (08/03/13 23:55:26)"
      ]
     },
     "metadata": {},
     "output_type": "display_data"
    }
   ],
   "source": [
    "#add days:\n",
    "\n",
    "tm1.c + 10\n"
   ]
  },
  {
   "cell_type": "code",
   "execution_count": 60,
   "metadata": {
    "collapsed": false
   },
   "outputs": [
    {
     "data": {
      "text/plain": [
       "[1] 08:36:41"
      ]
     },
     "metadata": {},
     "output_type": "display_data"
    }
   ],
   "source": [
    "#calculate the differene between times:\n",
    "tm2.c - tm1.c"
   ]
  },
  {
   "cell_type": "code",
   "execution_count": 61,
   "metadata": {
    "collapsed": false
   },
   "outputs": [
    {
     "data": {
      "text/plain": [
       "Time difference of 8.611389 hours"
      ]
     },
     "metadata": {},
     "output_type": "display_data"
    }
   ],
   "source": [
    "difftime(tm2.c, tm1.c, units = \"hours\")\n",
    "## Time difference of 8.611 hours"
   ]
  },
  {
   "cell_type": "code",
   "execution_count": 62,
   "metadata": {
    "collapsed": false
   },
   "outputs": [
    {
     "data": {
      "text/plain": [
       "[1] 08:36:41"
      ]
     },
     "metadata": {},
     "output_type": "display_data"
    }
   ],
   "source": [
    "#does not adjust for daylight savings time:\n",
    "\n",
    "as.chron(\"2013-03-10 08:32:07\") - as.chron(\"2013-03-09 23:55:26\")\n"
   ]
  },
  {
   "cell_type": "markdown",
   "metadata": {},
   "source": [
    "### POSIXct\n",
    "This class enables easy extraction of specific componants of a time. (“ct” stand for calender time and “lt” stands for local time. “lt” also helps one remember that POXIXlt objects are lists.)"
   ]
  },
  {
   "cell_type": "code",
   "execution_count": 63,
   "metadata": {
    "collapsed": false
   },
   "outputs": [
    {
     "data": {
      "text/plain": [
       "[1] \"2017-02-05 17:39:27 CET\""
      ]
     },
     "metadata": {},
     "output_type": "display_data"
    }
   ],
   "source": [
    "#Get the current time (in POSIXct by default):\n",
    "\n",
    "Sys.time()"
   ]
  },
  {
   "cell_type": "code",
   "execution_count": 64,
   "metadata": {
    "collapsed": false
   },
   "outputs": [
    {
     "data": {
      "text/plain": [
       "[1] \"2013-07-24 23:55:26 CEST\""
      ]
     },
     "metadata": {},
     "output_type": "display_data"
    }
   ],
   "source": [
    "#create some POSIXct objects:\n",
    "\n",
    "tm1 <- as.POSIXct(\"2013-07-24 23:55:26\")\n",
    "tm1"
   ]
  },
  {
   "cell_type": "code",
   "execution_count": 65,
   "metadata": {
    "collapsed": false
   },
   "outputs": [
    {
     "data": {
      "text/html": [
       "<dl>\n",
       "\t<dt>$class</dt>\n",
       "\t\t<dd><ol class=list-inline>\n",
       "\t<li>'POSIXct'</li>\n",
       "\t<li>'POSIXt'</li>\n",
       "</ol>\n",
       "</dd>\n",
       "\t<dt>$tzone</dt>\n",
       "\t\t<dd>''</dd>\n",
       "</dl>\n"
      ],
      "text/latex": [
       "\\begin{description}\n",
       "\\item[\\$class] \\begin{enumerate*}\n",
       "\\item 'POSIXct'\n",
       "\\item 'POSIXt'\n",
       "\\end{enumerate*}\n",
       "\n",
       "\\item[\\$tzone] ''\n",
       "\\end{description}\n"
      ],
      "text/markdown": [
       "$class\n",
       ":   1. 'POSIXct'\n",
       "2. 'POSIXt'\n",
       "\n",
       "\n",
       "\n",
       "$tzone\n",
       ":   ''\n",
       "\n",
       "\n"
      ],
      "text/plain": [
       "$class\n",
       "[1] \"POSIXct\" \"POSIXt\" \n",
       "\n",
       "$tzone\n",
       "[1] \"\"\n"
      ]
     },
     "metadata": {},
     "output_type": "display_data"
    }
   ],
   "source": [
    "attributes(tm1)"
   ]
  },
  {
   "cell_type": "code",
   "execution_count": 66,
   "metadata": {
    "collapsed": false
   },
   "outputs": [
    {
     "data": {
      "text/plain": [
       "[1] \"2013-07-25 08:32:07 CEST\""
      ]
     },
     "metadata": {},
     "output_type": "display_data"
    }
   ],
   "source": [
    "tm2 <- as.POSIXct(\"25072013 08:32:07\", format = \"%d%m%Y %H:%M:%S\")\n",
    "tm2"
   ]
  },
  {
   "cell_type": "code",
   "execution_count": 67,
   "metadata": {
    "collapsed": false
   },
   "outputs": [
    {
     "data": {
      "text/plain": [
       "[1] \"2010-12-01 11:42:03 GMT\""
      ]
     },
     "metadata": {},
     "output_type": "display_data"
    }
   ],
   "source": [
    "#specify the time zone:\n",
    "\n",
    "tm3 <- as.POSIXct(\"2010-12-01 11:42:03\", tz = \"GMT\")\n",
    "tm3"
   ]
  },
  {
   "cell_type": "code",
   "execution_count": 68,
   "metadata": {
    "collapsed": false
   },
   "outputs": [
    {
     "data": {
      "text/html": [
       "TRUE"
      ],
      "text/latex": [
       "TRUE"
      ],
      "text/markdown": [
       "TRUE"
      ],
      "text/plain": [
       "[1] TRUE"
      ]
     },
     "metadata": {},
     "output_type": "display_data"
    }
   ],
   "source": [
    "tm2 > tm1"
   ]
  },
  {
   "cell_type": "code",
   "execution_count": 69,
   "metadata": {
    "collapsed": false
   },
   "outputs": [
    {
     "data": {
      "text/plain": [
       "Time difference of 8.611389 hours"
      ]
     },
     "metadata": {},
     "output_type": "display_data"
    }
   ],
   "source": [
    "tm2 - tm1"
   ]
  },
  {
   "cell_type": "code",
   "execution_count": 70,
   "metadata": {
    "collapsed": false
   },
   "outputs": [
    {
     "data": {
      "text/plain": [
       "[1] \"2013-07-24 23:55:26 CEST\""
      ]
     },
     "metadata": {},
     "output_type": "display_data"
    },
    {
     "data": {
      "text/plain": [
       "[1] \"2013-07-24 23:55:56 CEST\""
      ]
     },
     "metadata": {},
     "output_type": "display_data"
    }
   ],
   "source": [
    "tm1\n",
    "tm1 + 30"
   ]
  },
  {
   "cell_type": "code",
   "execution_count": 71,
   "metadata": {
    "collapsed": false
   },
   "outputs": [
    {
     "data": {
      "text/plain": [
       "Time difference of 8.611389 hours"
      ]
     },
     "metadata": {},
     "output_type": "display_data"
    }
   ],
   "source": [
    "#automatically adjusts for daylight savings time:\n",
    "\n",
    "as.POSIXct(\"2013-03-10 08:32:07\") - as.POSIXct(\"2013-03-09 23:55:26\")"
   ]
  },
  {
   "cell_type": "markdown",
   "metadata": {},
   "source": [
    "### POSIXlt\n",
    "This class enables easy extraction of specific componants of a time. (“ct” stand for calender time and “lt” stands for local time. “lt” also helps one remember that POXIXlt objects are lists.)"
   ]
  },
  {
   "cell_type": "code",
   "execution_count": 72,
   "metadata": {
    "collapsed": false
   },
   "outputs": [
    {
     "data": {
      "text/plain": [
       "[1] \"2013-07-24 23:55:26 CEST\""
      ]
     },
     "metadata": {},
     "output_type": "display_data"
    }
   ],
   "source": [
    "#create a time:\n",
    "\n",
    "tm1.lt <- as.POSIXlt(\"2013-07-24 23:55:26\")\n",
    "tm1.lt\n"
   ]
  },
  {
   "cell_type": "code",
   "execution_count": 73,
   "metadata": {
    "collapsed": false
   },
   "outputs": [
    {
     "data": {
      "text/html": [
       "<dl>\n",
       "\t<dt>$names</dt>\n",
       "\t\t<dd><ol class=list-inline>\n",
       "\t<li>'sec'</li>\n",
       "\t<li>'min'</li>\n",
       "\t<li>'hour'</li>\n",
       "\t<li>'mday'</li>\n",
       "\t<li>'mon'</li>\n",
       "\t<li>'year'</li>\n",
       "\t<li>'wday'</li>\n",
       "\t<li>'yday'</li>\n",
       "\t<li>'isdst'</li>\n",
       "\t<li>'zone'</li>\n",
       "\t<li>'gmtoff'</li>\n",
       "</ol>\n",
       "</dd>\n",
       "\t<dt>$class</dt>\n",
       "\t\t<dd><ol class=list-inline>\n",
       "\t<li>'POSIXlt'</li>\n",
       "\t<li>'POSIXt'</li>\n",
       "</ol>\n",
       "</dd>\n",
       "</dl>\n"
      ],
      "text/latex": [
       "\\begin{description}\n",
       "\\item[\\$names] \\begin{enumerate*}\n",
       "\\item 'sec'\n",
       "\\item 'min'\n",
       "\\item 'hour'\n",
       "\\item 'mday'\n",
       "\\item 'mon'\n",
       "\\item 'year'\n",
       "\\item 'wday'\n",
       "\\item 'yday'\n",
       "\\item 'isdst'\n",
       "\\item 'zone'\n",
       "\\item 'gmtoff'\n",
       "\\end{enumerate*}\n",
       "\n",
       "\\item[\\$class] \\begin{enumerate*}\n",
       "\\item 'POSIXlt'\n",
       "\\item 'POSIXt'\n",
       "\\end{enumerate*}\n",
       "\n",
       "\\end{description}\n"
      ],
      "text/markdown": [
       "$names\n",
       ":   1. 'sec'\n",
       "2. 'min'\n",
       "3. 'hour'\n",
       "4. 'mday'\n",
       "5. 'mon'\n",
       "6. 'year'\n",
       "7. 'wday'\n",
       "8. 'yday'\n",
       "9. 'isdst'\n",
       "10. 'zone'\n",
       "11. 'gmtoff'\n",
       "\n",
       "\n",
       "\n",
       "$class\n",
       ":   1. 'POSIXlt'\n",
       "2. 'POSIXt'\n",
       "\n",
       "\n",
       "\n",
       "\n",
       "\n"
      ],
      "text/plain": [
       "$names\n",
       " [1] \"sec\"    \"min\"    \"hour\"   \"mday\"   \"mon\"    \"year\"   \"wday\"   \"yday\"  \n",
       " [9] \"isdst\"  \"zone\"   \"gmtoff\"\n",
       "\n",
       "$class\n",
       "[1] \"POSIXlt\" \"POSIXt\" \n"
      ]
     },
     "metadata": {},
     "output_type": "display_data"
    }
   ],
   "source": [
    "attributes(tm1.lt)"
   ]
  },
  {
   "cell_type": "code",
   "execution_count": 74,
   "metadata": {
    "collapsed": false
   },
   "outputs": [
    {
     "data": {
      "text/html": [
       "<dl>\n",
       "\t<dt>$sec</dt>\n",
       "\t\t<dd>26</dd>\n",
       "\t<dt>$min</dt>\n",
       "\t\t<dd>55</dd>\n",
       "\t<dt>$hour</dt>\n",
       "\t\t<dd>23</dd>\n",
       "\t<dt>$mday</dt>\n",
       "\t\t<dd>24</dd>\n",
       "\t<dt>$mon</dt>\n",
       "\t\t<dd>6</dd>\n",
       "\t<dt>$year</dt>\n",
       "\t\t<dd>113</dd>\n",
       "\t<dt>$wday</dt>\n",
       "\t\t<dd>3</dd>\n",
       "\t<dt>$yday</dt>\n",
       "\t\t<dd>204</dd>\n",
       "\t<dt>$isdst</dt>\n",
       "\t\t<dd>1</dd>\n",
       "\t<dt>$zone</dt>\n",
       "\t\t<dd>'CEST'</dd>\n",
       "\t<dt>$gmtoff</dt>\n",
       "\t\t<dd>NA</dd>\n",
       "</dl>\n"
      ],
      "text/latex": [
       "\\begin{description}\n",
       "\\item[\\$sec] 26\n",
       "\\item[\\$min] 55\n",
       "\\item[\\$hour] 23\n",
       "\\item[\\$mday] 24\n",
       "\\item[\\$mon] 6\n",
       "\\item[\\$year] 113\n",
       "\\item[\\$wday] 3\n",
       "\\item[\\$yday] 204\n",
       "\\item[\\$isdst] 1\n",
       "\\item[\\$zone] 'CEST'\n",
       "\\item[\\$gmtoff] NA\n",
       "\\end{description}\n"
      ],
      "text/markdown": [
       "$sec\n",
       ":   26\n",
       "$min\n",
       ":   55\n",
       "$hour\n",
       ":   23\n",
       "$mday\n",
       ":   24\n",
       "$mon\n",
       ":   6\n",
       "$year\n",
       ":   113\n",
       "$wday\n",
       ":   3\n",
       "$yday\n",
       ":   204\n",
       "$isdst\n",
       ":   1\n",
       "$zone\n",
       ":   'CEST'\n",
       "$gmtoff\n",
       ":   NA\n",
       "\n",
       "\n"
      ],
      "text/plain": [
       "$sec\n",
       "[1] 26\n",
       "\n",
       "$min\n",
       "[1] 55\n",
       "\n",
       "$hour\n",
       "[1] 23\n",
       "\n",
       "$mday\n",
       "[1] 24\n",
       "\n",
       "$mon\n",
       "[1] 6\n",
       "\n",
       "$year\n",
       "[1] 113\n",
       "\n",
       "$wday\n",
       "[1] 3\n",
       "\n",
       "$yday\n",
       "[1] 204\n",
       "\n",
       "$isdst\n",
       "[1] 1\n",
       "\n",
       "$zone\n",
       "[1] \"CEST\"\n",
       "\n",
       "$gmtoff\n",
       "[1] NA\n"
      ]
     },
     "metadata": {},
     "output_type": "display_data"
    }
   ],
   "source": [
    "unclass(tm1.lt)"
   ]
  },
  {
   "cell_type": "code",
   "execution_count": 75,
   "metadata": {
    "collapsed": false
   },
   "outputs": [
    {
     "data": {
      "text/html": [
       "<dl class=dl-horizontal>\n",
       "\t<dt>sec</dt>\n",
       "\t\t<dd>'26'</dd>\n",
       "\t<dt>min</dt>\n",
       "\t\t<dd>'55'</dd>\n",
       "\t<dt>hour</dt>\n",
       "\t\t<dd>'23'</dd>\n",
       "\t<dt>mday</dt>\n",
       "\t\t<dd>'24'</dd>\n",
       "\t<dt>mon</dt>\n",
       "\t\t<dd>'6'</dd>\n",
       "\t<dt>year</dt>\n",
       "\t\t<dd>'113'</dd>\n",
       "\t<dt>wday</dt>\n",
       "\t\t<dd>'3'</dd>\n",
       "\t<dt>yday</dt>\n",
       "\t\t<dd>'204'</dd>\n",
       "\t<dt>isdst</dt>\n",
       "\t\t<dd>'1'</dd>\n",
       "\t<dt>zone</dt>\n",
       "\t\t<dd>'CEST'</dd>\n",
       "\t<dt>gmtoff</dt>\n",
       "\t\t<dd>'NA'</dd>\n",
       "</dl>\n"
      ],
      "text/latex": [
       "\\begin{description*}\n",
       "\\item[sec] '26'\n",
       "\\item[min] '55'\n",
       "\\item[hour] '23'\n",
       "\\item[mday] '24'\n",
       "\\item[mon] '6'\n",
       "\\item[year] '113'\n",
       "\\item[wday] '3'\n",
       "\\item[yday] '204'\n",
       "\\item[isdst] '1'\n",
       "\\item[zone] 'CEST'\n",
       "\\item[gmtoff] 'NA'\n",
       "\\end{description*}\n"
      ],
      "text/markdown": [
       "sec\n",
       ":   '26'min\n",
       ":   '55'hour\n",
       ":   '23'mday\n",
       ":   '24'mon\n",
       ":   '6'year\n",
       ":   '113'wday\n",
       ":   '3'yday\n",
       ":   '204'isdst\n",
       ":   '1'zone\n",
       ":   'CEST'gmtoff\n",
       ":   'NA'\n",
       "\n"
      ],
      "text/plain": [
       "   sec    min   hour   mday    mon   year   wday   yday  isdst   zone gmtoff \n",
       "  \"26\"   \"55\"   \"23\"   \"24\"    \"6\"  \"113\"    \"3\"  \"204\"    \"1\" \"CEST\"     NA "
      ]
     },
     "metadata": {},
     "output_type": "display_data"
    }
   ],
   "source": [
    "unlist(tm1.lt)"
   ]
  },
  {
   "cell_type": "code",
   "execution_count": 76,
   "metadata": {
    "collapsed": false
   },
   "outputs": [
    {
     "data": {
      "text/html": [
       "26"
      ],
      "text/latex": [
       "26"
      ],
      "text/markdown": [
       "26"
      ],
      "text/plain": [
       "[1] 26"
      ]
     },
     "metadata": {},
     "output_type": "display_data"
    }
   ],
   "source": [
    "#extract componants of a time object:\n",
    "\n",
    "tm1.lt$se"
   ]
  },
  {
   "cell_type": "code",
   "execution_count": 77,
   "metadata": {
    "collapsed": false
   },
   "outputs": [
    {
     "data": {
      "text/plain": [
       "[1] \"2013-07-24 CEST\""
      ]
     },
     "metadata": {},
     "output_type": "display_data"
    }
   ],
   "source": [
    "#truncate or round off the time:\n",
    "\n",
    "trunc(tm1.lt, \"days\")\n"
   ]
  },
  {
   "cell_type": "code",
   "execution_count": 78,
   "metadata": {
    "collapsed": false
   },
   "outputs": [
    {
     "data": {
      "text/plain": [
       "[1] \"2013-07-24 23:55:00 CEST\""
      ]
     },
     "metadata": {},
     "output_type": "display_data"
    }
   ],
   "source": [
    "trunc(tm1.lt, \"mins\")"
   ]
  },
  {
   "cell_type": "markdown",
   "metadata": {},
   "source": [
    "## Testing and Coercing Objects\n",
    "\n",
    "All objects in R have a type. We can test the type of an object using a `is.`*type*`()` function.\n",
    "\n",
    "We can also attempt to coerce objects of one type to another using a `as.`*type*`()` function.\n",
    "\n",
    "** Automatic conversions **:\n",
    "\n",
    "- Logical values are converted to numbers by setting FALSE as 0 and TRUE as 1\n",
    "\n",
    "- Logical, numeric, factor and date types are converted to characters by converting each element/level individually\n",
    "\n",
    "** Some general rules for coercion **:\n",
    "\n",
    "- Numeric values are coerced to logical by treating all non-zero values as TRUE\n",
    "\n",
    "- Numeric characters can be coerced to numbers, but non-numeric characters cannot\n",
    "\n",
    "- Factor levels can be coerced to numeric and numbers can be coerced to factors with a level for each unique number\n",
    "\n",
    "- Vectors, matrices and arrays are coerced to lists by making each element a vector of length 1\n",
    "\n",
    "- Vectors, matrices, arrays can also be coerced from one form to another 43 of \n",
    "\n",
    "|Type | Testing | Coercing\n",
    "| :- | :- | :---------\n",
    "| Array | is.array() | as.array()\n",
    "| Character | is.character() | as.character()\n",
    "| Dataframe | is.data.frame() | as.data.frame()\n",
    "| Factor | is.factor() | as.factor()\n",
    "| List | is.list() | as.list()\n",
    "| Logical | is.logical() | as.logical()\n",
    "| Matrix | is.matrix() | as.matrix()\n",
    "| Numeric | is.numeric() | as.numeric()\n",
    "| Vector | is.vector() | as.vector()\n"
   ]
  },
  {
   "cell_type": "code",
   "execution_count": 79,
   "metadata": {
    "collapsed": true
   },
   "outputs": [],
   "source": [
    " x <- 1:10"
   ]
  },
  {
   "cell_type": "code",
   "execution_count": 80,
   "metadata": {
    "collapsed": false
   },
   "outputs": [
    {
     "data": {
      "text/html": [
       "'integer'"
      ],
      "text/latex": [
       "'integer'"
      ],
      "text/markdown": [
       "'integer'"
      ],
      "text/plain": [
       "[1] \"integer\""
      ]
     },
     "metadata": {},
     "output_type": "display_data"
    }
   ],
   "source": [
    "typeof(x)"
   ]
  },
  {
   "cell_type": "code",
   "execution_count": 81,
   "metadata": {
    "collapsed": false
   },
   "outputs": [
    {
     "data": {
      "text/html": [
       "<ol class=list-inline>\n",
       "\t<li>FALSE</li>\n",
       "\t<li>FALSE</li>\n",
       "\t<li>FALSE</li>\n",
       "\t<li>FALSE</li>\n",
       "\t<li>FALSE</li>\n",
       "\t<li>TRUE</li>\n",
       "\t<li>TRUE</li>\n",
       "\t<li>TRUE</li>\n",
       "\t<li>TRUE</li>\n",
       "\t<li>TRUE</li>\n",
       "</ol>\n"
      ],
      "text/latex": [
       "\\begin{enumerate*}\n",
       "\\item FALSE\n",
       "\\item FALSE\n",
       "\\item FALSE\n",
       "\\item FALSE\n",
       "\\item FALSE\n",
       "\\item TRUE\n",
       "\\item TRUE\n",
       "\\item TRUE\n",
       "\\item TRUE\n",
       "\\item TRUE\n",
       "\\end{enumerate*}\n"
      ],
      "text/markdown": [
       "1. FALSE\n",
       "2. FALSE\n",
       "3. FALSE\n",
       "4. FALSE\n",
       "5. FALSE\n",
       "6. TRUE\n",
       "7. TRUE\n",
       "8. TRUE\n",
       "9. TRUE\n",
       "10. TRUE\n",
       "\n",
       "\n"
      ],
      "text/plain": [
       " [1] FALSE FALSE FALSE FALSE FALSE  TRUE  TRUE  TRUE  TRUE  TRUE"
      ]
     },
     "metadata": {},
     "output_type": "display_data"
    }
   ],
   "source": [
    "x>5"
   ]
  },
  {
   "cell_type": "code",
   "execution_count": 82,
   "metadata": {
    "collapsed": false
   },
   "outputs": [
    {
     "data": {
      "text/html": [
       "5"
      ],
      "text/latex": [
       "5"
      ],
      "text/markdown": [
       "5"
      ],
      "text/plain": [
       "[1] 5"
      ]
     },
     "metadata": {},
     "output_type": "display_data"
    }
   ],
   "source": [
    "sum(x>5) # Automatic conversion to numeric vector"
   ]
  },
  {
   "cell_type": "code",
   "execution_count": 83,
   "metadata": {
    "collapsed": false
   },
   "outputs": [
    {
     "data": {
      "text/html": [
       "TRUE"
      ],
      "text/latex": [
       "TRUE"
      ],
      "text/markdown": [
       "TRUE"
      ],
      "text/plain": [
       "[1] TRUE"
      ]
     },
     "metadata": {},
     "output_type": "display_data"
    }
   ],
   "source": [
    "is.vector(x)"
   ]
  },
  {
   "cell_type": "code",
   "execution_count": 84,
   "metadata": {
    "collapsed": false
   },
   "outputs": [
    {
     "data": {
      "text/html": [
       "TRUE"
      ],
      "text/latex": [
       "TRUE"
      ],
      "text/markdown": [
       "TRUE"
      ],
      "text/plain": [
       "[1] TRUE"
      ]
     },
     "metadata": {},
     "output_type": "display_data"
    }
   ],
   "source": [
    "is.numeric(x)\n"
   ]
  },
  {
   "cell_type": "code",
   "execution_count": 85,
   "metadata": {
    "collapsed": false
   },
   "outputs": [
    {
     "data": {
      "text/html": [
       "<ol>\n",
       "\t<li>1</li>\n",
       "\t<li>2</li>\n",
       "\t<li>3</li>\n",
       "\t<li>4</li>\n",
       "\t<li>5</li>\n",
       "\t<li>6</li>\n",
       "\t<li>7</li>\n",
       "\t<li>8</li>\n",
       "\t<li>9</li>\n",
       "\t<li>10</li>\n",
       "</ol>\n"
      ],
      "text/latex": [
       "\\begin{enumerate}\n",
       "\\item 1\n",
       "\\item 2\n",
       "\\item 3\n",
       "\\item 4\n",
       "\\item 5\n",
       "\\item 6\n",
       "\\item 7\n",
       "\\item 8\n",
       "\\item 9\n",
       "\\item 10\n",
       "\\end{enumerate}\n"
      ],
      "text/markdown": [
       "1. 1\n",
       "2. 2\n",
       "3. 3\n",
       "4. 4\n",
       "5. 5\n",
       "6. 6\n",
       "7. 7\n",
       "8. 8\n",
       "9. 9\n",
       "10. 10\n",
       "\n",
       "\n"
      ],
      "text/plain": [
       "[[1]]\n",
       "[1] 1\n",
       "\n",
       "[[2]]\n",
       "[1] 2\n",
       "\n",
       "[[3]]\n",
       "[1] 3\n",
       "\n",
       "[[4]]\n",
       "[1] 4\n",
       "\n",
       "[[5]]\n",
       "[1] 5\n",
       "\n",
       "[[6]]\n",
       "[1] 6\n",
       "\n",
       "[[7]]\n",
       "[1] 7\n",
       "\n",
       "[[8]]\n",
       "[1] 8\n",
       "\n",
       "[[9]]\n",
       "[1] 9\n",
       "\n",
       "[[10]]\n",
       "[1] 10\n"
      ]
     },
     "metadata": {},
     "output_type": "display_data"
    }
   ],
   "source": [
    "as.list(x)"
   ]
  },
  {
   "cell_type": "code",
   "execution_count": 86,
   "metadata": {
    "collapsed": false,
    "scrolled": true
   },
   "outputs": [
    {
     "data": {
      "text/html": [
       "'character'"
      ],
      "text/latex": [
       "'character'"
      ],
      "text/markdown": [
       "'character'"
      ],
      "text/plain": [
       "[1] \"character\""
      ]
     },
     "metadata": {},
     "output_type": "display_data"
    }
   ],
   "source": [
    "mystring <- \"123\"\n",
    "typeof(mystring)"
   ]
  },
  {
   "cell_type": "code",
   "execution_count": 87,
   "metadata": {
    "collapsed": false
   },
   "outputs": [
    {
     "data": {
      "text/html": [
       "123"
      ],
      "text/latex": [
       "123"
      ],
      "text/markdown": [
       "123"
      ],
      "text/plain": [
       "[1] 123"
      ]
     },
     "metadata": {},
     "output_type": "display_data"
    }
   ],
   "source": [
    "as.numeric(mystring)"
   ]
  },
  {
   "cell_type": "code",
   "execution_count": 88,
   "metadata": {
    "collapsed": false
   },
   "outputs": [],
   "source": [
    "mybool <- TRUE"
   ]
  },
  {
   "cell_type": "code",
   "execution_count": 89,
   "metadata": {
    "collapsed": false
   },
   "outputs": [
    {
     "data": {
      "text/html": [
       "'logical'"
      ],
      "text/latex": [
       "'logical'"
      ],
      "text/markdown": [
       "'logical'"
      ],
      "text/plain": [
       "[1] \"logical\""
      ]
     },
     "metadata": {},
     "output_type": "display_data"
    }
   ],
   "source": [
    "typeof(mybool)"
   ]
  },
  {
   "cell_type": "code",
   "execution_count": 90,
   "metadata": {
    "collapsed": false
   },
   "outputs": [
    {
     "data": {
      "text/html": [
       "'double'"
      ],
      "text/latex": [
       "'double'"
      ],
      "text/markdown": [
       "'double'"
      ],
      "text/plain": [
       "[1] \"double\""
      ]
     },
     "metadata": {},
     "output_type": "display_data"
    }
   ],
   "source": [
    "mybool <- as.numeric(mybool)\n",
    "typeof(mybool)"
   ]
  },
  {
   "cell_type": "markdown",
   "metadata": {},
   "source": [
    "# Data Structures\n",
    "\n",
    "- Vectors\n",
    "- Lists\n",
    "- Arrays\n",
    "- Matrices\n",
    "- Dataframes\n",
    "\n",
    "## Vectors\n",
    "Vector is the basic data structure in R and it is an **ordered collection of objects of the same type**. It can be atomic vector (all elements are the same type) or list (element can have different type).\n"
   ]
  },
  {
   "cell_type": "code",
   "execution_count": 91,
   "metadata": {
    "collapsed": true
   },
   "outputs": [],
   "source": [
    "#combine objects into an atomic vector\n",
    "y <- c(1,2,3)"
   ]
  },
  {
   "cell_type": "code",
   "execution_count": 92,
   "metadata": {
    "collapsed": false,
    "scrolled": true
   },
   "outputs": [
    {
     "data": {
      "text/html": [
       "<ol class=list-inline>\n",
       "\t<li>1</li>\n",
       "\t<li>2</li>\n",
       "\t<li>3</li>\n",
       "</ol>\n"
      ],
      "text/latex": [
       "\\begin{enumerate*}\n",
       "\\item 1\n",
       "\\item 2\n",
       "\\item 3\n",
       "\\end{enumerate*}\n"
      ],
      "text/markdown": [
       "1. 1\n",
       "2. 2\n",
       "3. 3\n",
       "\n",
       "\n"
      ],
      "text/plain": [
       "[1] 1 2 3"
      ]
     },
     "metadata": {},
     "output_type": "display_data"
    }
   ],
   "source": [
    "y"
   ]
  },
  {
   "cell_type": "code",
   "execution_count": 93,
   "metadata": {
    "collapsed": true
   },
   "outputs": [],
   "source": [
    "string <- \"pippo\"\n",
    "strings <- c(string, \"pluto\")"
   ]
  },
  {
   "cell_type": "code",
   "execution_count": 94,
   "metadata": {
    "collapsed": false
   },
   "outputs": [
    {
     "data": {
      "text/html": [
       "<ol class=list-inline>\n",
       "\t<li>'pippo'</li>\n",
       "\t<li>'pluto'</li>\n",
       "</ol>\n"
      ],
      "text/latex": [
       "\\begin{enumerate*}\n",
       "\\item 'pippo'\n",
       "\\item 'pluto'\n",
       "\\end{enumerate*}\n"
      ],
      "text/markdown": [
       "1. 'pippo'\n",
       "2. 'pluto'\n",
       "\n",
       "\n"
      ],
      "text/plain": [
       "[1] \"pippo\" \"pluto\""
      ]
     },
     "metadata": {},
     "output_type": "display_data"
    }
   ],
   "source": [
    "strings"
   ]
  },
  {
   "cell_type": "markdown",
   "metadata": {},
   "source": [
    "Atomic vectors are always flat"
   ]
  },
  {
   "cell_type": "code",
   "execution_count": 95,
   "metadata": {
    "collapsed": false,
    "scrolled": true
   },
   "outputs": [
    {
     "data": {
      "text/html": [
       "<ol class=list-inline>\n",
       "\t<li>1</li>\n",
       "\t<li>2</li>\n",
       "\t<li>3</li>\n",
       "\t<li>4</li>\n",
       "</ol>\n"
      ],
      "text/latex": [
       "\\begin{enumerate*}\n",
       "\\item 1\n",
       "\\item 2\n",
       "\\item 3\n",
       "\\item 4\n",
       "\\end{enumerate*}\n"
      ],
      "text/markdown": [
       "1. 1\n",
       "2. 2\n",
       "3. 3\n",
       "4. 4\n",
       "\n",
       "\n"
      ],
      "text/plain": [
       "[1] 1 2 3 4"
      ]
     },
     "metadata": {},
     "output_type": "display_data"
    }
   ],
   "source": [
    "c(1,c(2, c(3,4)))"
   ]
  },
  {
   "cell_type": "code",
   "execution_count": 96,
   "metadata": {
    "collapsed": false
   },
   "outputs": [
    {
     "data": {
      "text/html": [
       "<ol class=list-inline>\n",
       "\t<li>0</li>\n",
       "\t<li>0</li>\n",
       "\t<li>0</li>\n",
       "\t<li>0</li>\n",
       "\t<li>0</li>\n",
       "\t<li>0</li>\n",
       "\t<li>0</li>\n",
       "\t<li>0</li>\n",
       "\t<li>0</li>\n",
       "\t<li>0</li>\n",
       "</ol>\n"
      ],
      "text/latex": [
       "\\begin{enumerate*}\n",
       "\\item 0\n",
       "\\item 0\n",
       "\\item 0\n",
       "\\item 0\n",
       "\\item 0\n",
       "\\item 0\n",
       "\\item 0\n",
       "\\item 0\n",
       "\\item 0\n",
       "\\item 0\n",
       "\\end{enumerate*}\n"
      ],
      "text/markdown": [
       "1. 0\n",
       "2. 0\n",
       "3. 0\n",
       "4. 0\n",
       "5. 0\n",
       "6. 0\n",
       "7. 0\n",
       "8. 0\n",
       "9. 0\n",
       "10. 0\n",
       "\n",
       "\n"
      ],
      "text/plain": [
       " [1] 0 0 0 0 0 0 0 0 0 0"
      ]
     },
     "metadata": {},
     "output_type": "display_data"
    }
   ],
   "source": [
    "v <- vector(10, mode=\"numeric\"); v #initializa a vector of numerics"
   ]
  },
  {
   "cell_type": "markdown",
   "metadata": {},
   "source": [
    "Vectors can be created via ad'hoc buil-in functions. A very useful function is seq()"
   ]
  },
  {
   "cell_type": "code",
   "execution_count": 97,
   "metadata": {
    "collapsed": false
   },
   "outputs": [
    {
     "data": {
      "text/html": [
       "<ol class=list-inline>\n",
       "\t<li>1</li>\n",
       "\t<li>4</li>\n",
       "\t<li>7</li>\n",
       "\t<li>10</li>\n",
       "</ol>\n"
      ],
      "text/latex": [
       "\\begin{enumerate*}\n",
       "\\item 1\n",
       "\\item 4\n",
       "\\item 7\n",
       "\\item 10\n",
       "\\end{enumerate*}\n"
      ],
      "text/markdown": [
       "1. 1\n",
       "2. 4\n",
       "3. 7\n",
       "4. 10\n",
       "\n",
       "\n"
      ],
      "text/plain": [
       "[1]  1  4  7 10"
      ]
     },
     "metadata": {},
     "output_type": "display_data"
    }
   ],
   "source": [
    "seq(from = 1, to = 10, by = 3)"
   ]
  },
  {
   "cell_type": "code",
   "execution_count": 16,
   "metadata": {
    "collapsed": false
   },
   "outputs": [
    {
     "data": {
      "text/html": [
       "<ol class=list-inline>\n",
       "\t<li>-1</li>\n",
       "\t<li>-0.99</li>\n",
       "\t<li>-0.98</li>\n",
       "\t<li>-0.97</li>\n",
       "\t<li>-0.96</li>\n",
       "\t<li>-0.95</li>\n",
       "\t<li>-0.94</li>\n",
       "\t<li>-0.93</li>\n",
       "\t<li>-0.92</li>\n",
       "\t<li>-0.91</li>\n",
       "\t<li>-0.9</li>\n",
       "\t<li>-0.89</li>\n",
       "\t<li>-0.88</li>\n",
       "\t<li>-0.87</li>\n",
       "\t<li>-0.86</li>\n",
       "\t<li>-0.85</li>\n",
       "\t<li>-0.84</li>\n",
       "\t<li>-0.83</li>\n",
       "\t<li>-0.82</li>\n",
       "\t<li>-0.81</li>\n",
       "\t<li>-0.8</li>\n",
       "\t<li>-0.79</li>\n",
       "\t<li>-0.78</li>\n",
       "\t<li>-0.77</li>\n",
       "\t<li>-0.76</li>\n",
       "\t<li>-0.75</li>\n",
       "\t<li>-0.74</li>\n",
       "\t<li>-0.73</li>\n",
       "\t<li>-0.72</li>\n",
       "\t<li>-0.71</li>\n",
       "\t<li>-0.7</li>\n",
       "\t<li>-0.69</li>\n",
       "\t<li>-0.68</li>\n",
       "\t<li>-0.67</li>\n",
       "\t<li>-0.66</li>\n",
       "\t<li>-0.65</li>\n",
       "\t<li>-0.64</li>\n",
       "\t<li>-0.63</li>\n",
       "\t<li>-0.62</li>\n",
       "\t<li>-0.61</li>\n",
       "\t<li>-0.6</li>\n",
       "\t<li>-0.59</li>\n",
       "\t<li>-0.58</li>\n",
       "\t<li>-0.57</li>\n",
       "\t<li>-0.56</li>\n",
       "\t<li>-0.55</li>\n",
       "\t<li>-0.54</li>\n",
       "\t<li>-0.53</li>\n",
       "\t<li>-0.52</li>\n",
       "\t<li>-0.51</li>\n",
       "\t<li>-0.5</li>\n",
       "\t<li>-0.49</li>\n",
       "\t<li>-0.48</li>\n",
       "\t<li>-0.47</li>\n",
       "\t<li>-0.46</li>\n",
       "\t<li>-0.45</li>\n",
       "\t<li>-0.44</li>\n",
       "\t<li>-0.43</li>\n",
       "\t<li>-0.42</li>\n",
       "\t<li>-0.41</li>\n",
       "\t<li>-0.4</li>\n",
       "\t<li>-0.39</li>\n",
       "\t<li>-0.38</li>\n",
       "\t<li>-0.37</li>\n",
       "\t<li>-0.36</li>\n",
       "\t<li>-0.35</li>\n",
       "\t<li>-0.34</li>\n",
       "\t<li>-0.33</li>\n",
       "\t<li>-0.32</li>\n",
       "\t<li>-0.31</li>\n",
       "\t<li>-0.3</li>\n",
       "\t<li>-0.29</li>\n",
       "\t<li>-0.28</li>\n",
       "\t<li>-0.27</li>\n",
       "\t<li>-0.26</li>\n",
       "\t<li>-0.25</li>\n",
       "\t<li>-0.24</li>\n",
       "\t<li>-0.23</li>\n",
       "\t<li>-0.22</li>\n",
       "\t<li>-0.21</li>\n",
       "\t<li>-0.2</li>\n",
       "\t<li>-0.19</li>\n",
       "\t<li>-0.18</li>\n",
       "\t<li>-0.17</li>\n",
       "\t<li>-0.16</li>\n",
       "\t<li>-0.15</li>\n",
       "\t<li>-0.14</li>\n",
       "\t<li>-0.13</li>\n",
       "\t<li>-0.12</li>\n",
       "\t<li>-0.11</li>\n",
       "\t<li>-0.1</li>\n",
       "\t<li>-0.09</li>\n",
       "\t<li>-0.08</li>\n",
       "\t<li>-0.07</li>\n",
       "\t<li>-0.0599999999999999</li>\n",
       "\t<li>-0.0499999999999999</li>\n",
       "\t<li>-0.04</li>\n",
       "\t<li>-0.03</li>\n",
       "\t<li>-0.02</li>\n",
       "\t<li>-0.01</li>\n",
       "\t<li>0</li>\n",
       "\t<li>0.01</li>\n",
       "\t<li>0.02</li>\n",
       "\t<li>0.03</li>\n",
       "\t<li>0.04</li>\n",
       "\t<li>0.05</li>\n",
       "\t<li>0.0600000000000001</li>\n",
       "\t<li>0.0700000000000001</li>\n",
       "\t<li>0.0800000000000001</li>\n",
       "\t<li>0.0900000000000001</li>\n",
       "\t<li>0.1</li>\n",
       "\t<li>0.11</li>\n",
       "\t<li>0.12</li>\n",
       "\t<li>0.13</li>\n",
       "\t<li>0.14</li>\n",
       "\t<li>0.15</li>\n",
       "\t<li>0.16</li>\n",
       "\t<li>0.17</li>\n",
       "\t<li>0.18</li>\n",
       "\t<li>0.19</li>\n",
       "\t<li>0.2</li>\n",
       "\t<li>0.21</li>\n",
       "\t<li>0.22</li>\n",
       "\t<li>0.23</li>\n",
       "\t<li>0.24</li>\n",
       "\t<li>0.25</li>\n",
       "\t<li>0.26</li>\n",
       "\t<li>0.27</li>\n",
       "\t<li>0.28</li>\n",
       "\t<li>0.29</li>\n",
       "\t<li>0.3</li>\n",
       "\t<li>0.31</li>\n",
       "\t<li>0.32</li>\n",
       "\t<li>0.33</li>\n",
       "\t<li>0.34</li>\n",
       "\t<li>0.35</li>\n",
       "\t<li>0.36</li>\n",
       "\t<li>0.37</li>\n",
       "\t<li>0.38</li>\n",
       "\t<li>0.39</li>\n",
       "\t<li>0.4</li>\n",
       "\t<li>0.41</li>\n",
       "\t<li>0.42</li>\n",
       "\t<li>0.43</li>\n",
       "\t<li>0.44</li>\n",
       "\t<li>0.45</li>\n",
       "\t<li>0.46</li>\n",
       "\t<li>0.47</li>\n",
       "\t<li>0.48</li>\n",
       "\t<li>0.49</li>\n",
       "\t<li>0.5</li>\n",
       "\t<li>0.51</li>\n",
       "\t<li>0.52</li>\n",
       "\t<li>0.53</li>\n",
       "\t<li>0.54</li>\n",
       "\t<li>0.55</li>\n",
       "\t<li>0.56</li>\n",
       "\t<li>0.57</li>\n",
       "\t<li>0.58</li>\n",
       "\t<li>0.59</li>\n",
       "\t<li>0.6</li>\n",
       "\t<li>0.61</li>\n",
       "\t<li>0.62</li>\n",
       "\t<li>0.63</li>\n",
       "\t<li>0.64</li>\n",
       "\t<li>0.65</li>\n",
       "\t<li>0.66</li>\n",
       "\t<li>0.67</li>\n",
       "\t<li>0.68</li>\n",
       "\t<li>0.69</li>\n",
       "\t<li>0.7</li>\n",
       "\t<li>0.71</li>\n",
       "\t<li>0.72</li>\n",
       "\t<li>0.73</li>\n",
       "\t<li>0.74</li>\n",
       "\t<li>0.75</li>\n",
       "\t<li>0.76</li>\n",
       "\t<li>0.77</li>\n",
       "\t<li>0.78</li>\n",
       "\t<li>0.79</li>\n",
       "\t<li>0.8</li>\n",
       "\t<li>0.81</li>\n",
       "\t<li>0.82</li>\n",
       "\t<li>0.83</li>\n",
       "\t<li>0.84</li>\n",
       "\t<li>0.85</li>\n",
       "\t<li>0.86</li>\n",
       "\t<li>0.87</li>\n",
       "\t<li>0.88</li>\n",
       "\t<li>0.89</li>\n",
       "\t<li>0.9</li>\n",
       "\t<li>0.91</li>\n",
       "\t<li>0.92</li>\n",
       "\t<li>0.93</li>\n",
       "\t<li>0.94</li>\n",
       "\t<li>0.95</li>\n",
       "\t<li>0.96</li>\n",
       "\t<li>0.97</li>\n",
       "\t<li>0.98</li>\n",
       "\t<li>0.99</li>\n",
       "\t<li>1</li>\n",
       "</ol>\n"
      ],
      "text/latex": [
       "\\begin{enumerate*}\n",
       "\\item -1\n",
       "\\item -0.99\n",
       "\\item -0.98\n",
       "\\item -0.97\n",
       "\\item -0.96\n",
       "\\item -0.95\n",
       "\\item -0.94\n",
       "\\item -0.93\n",
       "\\item -0.92\n",
       "\\item -0.91\n",
       "\\item -0.9\n",
       "\\item -0.89\n",
       "\\item -0.88\n",
       "\\item -0.87\n",
       "\\item -0.86\n",
       "\\item -0.85\n",
       "\\item -0.84\n",
       "\\item -0.83\n",
       "\\item -0.82\n",
       "\\item -0.81\n",
       "\\item -0.8\n",
       "\\item -0.79\n",
       "\\item -0.78\n",
       "\\item -0.77\n",
       "\\item -0.76\n",
       "\\item -0.75\n",
       "\\item -0.74\n",
       "\\item -0.73\n",
       "\\item -0.72\n",
       "\\item -0.71\n",
       "\\item -0.7\n",
       "\\item -0.69\n",
       "\\item -0.68\n",
       "\\item -0.67\n",
       "\\item -0.66\n",
       "\\item -0.65\n",
       "\\item -0.64\n",
       "\\item -0.63\n",
       "\\item -0.62\n",
       "\\item -0.61\n",
       "\\item -0.6\n",
       "\\item -0.59\n",
       "\\item -0.58\n",
       "\\item -0.57\n",
       "\\item -0.56\n",
       "\\item -0.55\n",
       "\\item -0.54\n",
       "\\item -0.53\n",
       "\\item -0.52\n",
       "\\item -0.51\n",
       "\\item -0.5\n",
       "\\item -0.49\n",
       "\\item -0.48\n",
       "\\item -0.47\n",
       "\\item -0.46\n",
       "\\item -0.45\n",
       "\\item -0.44\n",
       "\\item -0.43\n",
       "\\item -0.42\n",
       "\\item -0.41\n",
       "\\item -0.4\n",
       "\\item -0.39\n",
       "\\item -0.38\n",
       "\\item -0.37\n",
       "\\item -0.36\n",
       "\\item -0.35\n",
       "\\item -0.34\n",
       "\\item -0.33\n",
       "\\item -0.32\n",
       "\\item -0.31\n",
       "\\item -0.3\n",
       "\\item -0.29\n",
       "\\item -0.28\n",
       "\\item -0.27\n",
       "\\item -0.26\n",
       "\\item -0.25\n",
       "\\item -0.24\n",
       "\\item -0.23\n",
       "\\item -0.22\n",
       "\\item -0.21\n",
       "\\item -0.2\n",
       "\\item -0.19\n",
       "\\item -0.18\n",
       "\\item -0.17\n",
       "\\item -0.16\n",
       "\\item -0.15\n",
       "\\item -0.14\n",
       "\\item -0.13\n",
       "\\item -0.12\n",
       "\\item -0.11\n",
       "\\item -0.1\n",
       "\\item -0.09\n",
       "\\item -0.08\n",
       "\\item -0.07\n",
       "\\item -0.0599999999999999\n",
       "\\item -0.0499999999999999\n",
       "\\item -0.04\n",
       "\\item -0.03\n",
       "\\item -0.02\n",
       "\\item -0.01\n",
       "\\item 0\n",
       "\\item 0.01\n",
       "\\item 0.02\n",
       "\\item 0.03\n",
       "\\item 0.04\n",
       "\\item 0.05\n",
       "\\item 0.0600000000000001\n",
       "\\item 0.0700000000000001\n",
       "\\item 0.0800000000000001\n",
       "\\item 0.0900000000000001\n",
       "\\item 0.1\n",
       "\\item 0.11\n",
       "\\item 0.12\n",
       "\\item 0.13\n",
       "\\item 0.14\n",
       "\\item 0.15\n",
       "\\item 0.16\n",
       "\\item 0.17\n",
       "\\item 0.18\n",
       "\\item 0.19\n",
       "\\item 0.2\n",
       "\\item 0.21\n",
       "\\item 0.22\n",
       "\\item 0.23\n",
       "\\item 0.24\n",
       "\\item 0.25\n",
       "\\item 0.26\n",
       "\\item 0.27\n",
       "\\item 0.28\n",
       "\\item 0.29\n",
       "\\item 0.3\n",
       "\\item 0.31\n",
       "\\item 0.32\n",
       "\\item 0.33\n",
       "\\item 0.34\n",
       "\\item 0.35\n",
       "\\item 0.36\n",
       "\\item 0.37\n",
       "\\item 0.38\n",
       "\\item 0.39\n",
       "\\item 0.4\n",
       "\\item 0.41\n",
       "\\item 0.42\n",
       "\\item 0.43\n",
       "\\item 0.44\n",
       "\\item 0.45\n",
       "\\item 0.46\n",
       "\\item 0.47\n",
       "\\item 0.48\n",
       "\\item 0.49\n",
       "\\item 0.5\n",
       "\\item 0.51\n",
       "\\item 0.52\n",
       "\\item 0.53\n",
       "\\item 0.54\n",
       "\\item 0.55\n",
       "\\item 0.56\n",
       "\\item 0.57\n",
       "\\item 0.58\n",
       "\\item 0.59\n",
       "\\item 0.6\n",
       "\\item 0.61\n",
       "\\item 0.62\n",
       "\\item 0.63\n",
       "\\item 0.64\n",
       "\\item 0.65\n",
       "\\item 0.66\n",
       "\\item 0.67\n",
       "\\item 0.68\n",
       "\\item 0.69\n",
       "\\item 0.7\n",
       "\\item 0.71\n",
       "\\item 0.72\n",
       "\\item 0.73\n",
       "\\item 0.74\n",
       "\\item 0.75\n",
       "\\item 0.76\n",
       "\\item 0.77\n",
       "\\item 0.78\n",
       "\\item 0.79\n",
       "\\item 0.8\n",
       "\\item 0.81\n",
       "\\item 0.82\n",
       "\\item 0.83\n",
       "\\item 0.84\n",
       "\\item 0.85\n",
       "\\item 0.86\n",
       "\\item 0.87\n",
       "\\item 0.88\n",
       "\\item 0.89\n",
       "\\item 0.9\n",
       "\\item 0.91\n",
       "\\item 0.92\n",
       "\\item 0.93\n",
       "\\item 0.94\n",
       "\\item 0.95\n",
       "\\item 0.96\n",
       "\\item 0.97\n",
       "\\item 0.98\n",
       "\\item 0.99\n",
       "\\item 1\n",
       "\\end{enumerate*}\n"
      ],
      "text/markdown": [
       "1. -1\n",
       "2. -0.99\n",
       "3. -0.98\n",
       "4. -0.97\n",
       "5. -0.96\n",
       "6. -0.95\n",
       "7. -0.94\n",
       "8. -0.93\n",
       "9. -0.92\n",
       "10. -0.91\n",
       "11. -0.9\n",
       "12. -0.89\n",
       "13. -0.88\n",
       "14. -0.87\n",
       "15. -0.86\n",
       "16. -0.85\n",
       "17. -0.84\n",
       "18. -0.83\n",
       "19. -0.82\n",
       "20. -0.81\n",
       "21. -0.8\n",
       "22. -0.79\n",
       "23. -0.78\n",
       "24. -0.77\n",
       "25. -0.76\n",
       "26. -0.75\n",
       "27. -0.74\n",
       "28. -0.73\n",
       "29. -0.72\n",
       "30. -0.71\n",
       "31. -0.7\n",
       "32. -0.69\n",
       "33. -0.68\n",
       "34. -0.67\n",
       "35. -0.66\n",
       "36. -0.65\n",
       "37. -0.64\n",
       "38. -0.63\n",
       "39. -0.62\n",
       "40. -0.61\n",
       "41. -0.6\n",
       "42. -0.59\n",
       "43. -0.58\n",
       "44. -0.57\n",
       "45. -0.56\n",
       "46. -0.55\n",
       "47. -0.54\n",
       "48. -0.53\n",
       "49. -0.52\n",
       "50. -0.51\n",
       "51. -0.5\n",
       "52. -0.49\n",
       "53. -0.48\n",
       "54. -0.47\n",
       "55. -0.46\n",
       "56. -0.45\n",
       "57. -0.44\n",
       "58. -0.43\n",
       "59. -0.42\n",
       "60. -0.41\n",
       "61. -0.4\n",
       "62. -0.39\n",
       "63. -0.38\n",
       "64. -0.37\n",
       "65. -0.36\n",
       "66. -0.35\n",
       "67. -0.34\n",
       "68. -0.33\n",
       "69. -0.32\n",
       "70. -0.31\n",
       "71. -0.3\n",
       "72. -0.29\n",
       "73. -0.28\n",
       "74. -0.27\n",
       "75. -0.26\n",
       "76. -0.25\n",
       "77. -0.24\n",
       "78. -0.23\n",
       "79. -0.22\n",
       "80. -0.21\n",
       "81. -0.2\n",
       "82. -0.19\n",
       "83. -0.18\n",
       "84. -0.17\n",
       "85. -0.16\n",
       "86. -0.15\n",
       "87. -0.14\n",
       "88. -0.13\n",
       "89. -0.12\n",
       "90. -0.11\n",
       "91. -0.1\n",
       "92. -0.09\n",
       "93. -0.08\n",
       "94. -0.07\n",
       "95. -0.0599999999999999\n",
       "96. -0.0499999999999999\n",
       "97. -0.04\n",
       "98. -0.03\n",
       "99. -0.02\n",
       "100. -0.01\n",
       "101. 0\n",
       "102. 0.01\n",
       "103. 0.02\n",
       "104. 0.03\n",
       "105. 0.04\n",
       "106. 0.05\n",
       "107. 0.0600000000000001\n",
       "108. 0.0700000000000001\n",
       "109. 0.0800000000000001\n",
       "110. 0.0900000000000001\n",
       "111. 0.1\n",
       "112. 0.11\n",
       "113. 0.12\n",
       "114. 0.13\n",
       "115. 0.14\n",
       "116. 0.15\n",
       "117. 0.16\n",
       "118. 0.17\n",
       "119. 0.18\n",
       "120. 0.19\n",
       "121. 0.2\n",
       "122. 0.21\n",
       "123. 0.22\n",
       "124. 0.23\n",
       "125. 0.24\n",
       "126. 0.25\n",
       "127. 0.26\n",
       "128. 0.27\n",
       "129. 0.28\n",
       "130. 0.29\n",
       "131. 0.3\n",
       "132. 0.31\n",
       "133. 0.32\n",
       "134. 0.33\n",
       "135. 0.34\n",
       "136. 0.35\n",
       "137. 0.36\n",
       "138. 0.37\n",
       "139. 0.38\n",
       "140. 0.39\n",
       "141. 0.4\n",
       "142. 0.41\n",
       "143. 0.42\n",
       "144. 0.43\n",
       "145. 0.44\n",
       "146. 0.45\n",
       "147. 0.46\n",
       "148. 0.47\n",
       "149. 0.48\n",
       "150. 0.49\n",
       "151. 0.5\n",
       "152. 0.51\n",
       "153. 0.52\n",
       "154. 0.53\n",
       "155. 0.54\n",
       "156. 0.55\n",
       "157. 0.56\n",
       "158. 0.57\n",
       "159. 0.58\n",
       "160. 0.59\n",
       "161. 0.6\n",
       "162. 0.61\n",
       "163. 0.62\n",
       "164. 0.63\n",
       "165. 0.64\n",
       "166. 0.65\n",
       "167. 0.66\n",
       "168. 0.67\n",
       "169. 0.68\n",
       "170. 0.69\n",
       "171. 0.7\n",
       "172. 0.71\n",
       "173. 0.72\n",
       "174. 0.73\n",
       "175. 0.74\n",
       "176. 0.75\n",
       "177. 0.76\n",
       "178. 0.77\n",
       "179. 0.78\n",
       "180. 0.79\n",
       "181. 0.8\n",
       "182. 0.81\n",
       "183. 0.82\n",
       "184. 0.83\n",
       "185. 0.84\n",
       "186. 0.85\n",
       "187. 0.86\n",
       "188. 0.87\n",
       "189. 0.88\n",
       "190. 0.89\n",
       "191. 0.9\n",
       "192. 0.91\n",
       "193. 0.92\n",
       "194. 0.93\n",
       "195. 0.94\n",
       "196. 0.95\n",
       "197. 0.96\n",
       "198. 0.97\n",
       "199. 0.98\n",
       "200. 0.99\n",
       "201. 1\n",
       "\n",
       "\n"
      ],
      "text/plain": [
       "  [1] -1.00 -0.99 -0.98 -0.97 -0.96 -0.95 -0.94 -0.93 -0.92 -0.91 -0.90 -0.89\n",
       " [13] -0.88 -0.87 -0.86 -0.85 -0.84 -0.83 -0.82 -0.81 -0.80 -0.79 -0.78 -0.77\n",
       " [25] -0.76 -0.75 -0.74 -0.73 -0.72 -0.71 -0.70 -0.69 -0.68 -0.67 -0.66 -0.65\n",
       " [37] -0.64 -0.63 -0.62 -0.61 -0.60 -0.59 -0.58 -0.57 -0.56 -0.55 -0.54 -0.53\n",
       " [49] -0.52 -0.51 -0.50 -0.49 -0.48 -0.47 -0.46 -0.45 -0.44 -0.43 -0.42 -0.41\n",
       " [61] -0.40 -0.39 -0.38 -0.37 -0.36 -0.35 -0.34 -0.33 -0.32 -0.31 -0.30 -0.29\n",
       " [73] -0.28 -0.27 -0.26 -0.25 -0.24 -0.23 -0.22 -0.21 -0.20 -0.19 -0.18 -0.17\n",
       " [85] -0.16 -0.15 -0.14 -0.13 -0.12 -0.11 -0.10 -0.09 -0.08 -0.07 -0.06 -0.05\n",
       " [97] -0.04 -0.03 -0.02 -0.01  0.00  0.01  0.02  0.03  0.04  0.05  0.06  0.07\n",
       "[109]  0.08  0.09  0.10  0.11  0.12  0.13  0.14  0.15  0.16  0.17  0.18  0.19\n",
       "[121]  0.20  0.21  0.22  0.23  0.24  0.25  0.26  0.27  0.28  0.29  0.30  0.31\n",
       "[133]  0.32  0.33  0.34  0.35  0.36  0.37  0.38  0.39  0.40  0.41  0.42  0.43\n",
       "[145]  0.44  0.45  0.46  0.47  0.48  0.49  0.50  0.51  0.52  0.53  0.54  0.55\n",
       "[157]  0.56  0.57  0.58  0.59  0.60  0.61  0.62  0.63  0.64  0.65  0.66  0.67\n",
       "[169]  0.68  0.69  0.70  0.71  0.72  0.73  0.74  0.75  0.76  0.77  0.78  0.79\n",
       "[181]  0.80  0.81  0.82  0.83  0.84  0.85  0.86  0.87  0.88  0.89  0.90  0.91\n",
       "[193]  0.92  0.93  0.94  0.95  0.96  0.97  0.98  0.99  1.00"
      ]
     },
     "metadata": {},
     "output_type": "display_data"
    }
   ],
   "source": [
    "v <- seq(-1,1,0.01)\n",
    "v"
   ]
  },
  {
   "cell_type": "markdown",
   "metadata": {},
   "source": [
    "Vector elements can be accessed (or referenced) in several ways"
   ]
  },
  {
   "cell_type": "code",
   "execution_count": 17,
   "metadata": {
    "collapsed": false
   },
   "outputs": [
    {
     "data": {
      "text/html": [
       "-1"
      ],
      "text/latex": [
       "-1"
      ],
      "text/markdown": [
       "-1"
      ],
      "text/plain": [
       "[1] -1"
      ]
     },
     "metadata": {},
     "output_type": "display_data"
    }
   ],
   "source": [
    "v[1]"
   ]
  },
  {
   "cell_type": "code",
   "execution_count": 18,
   "metadata": {
    "collapsed": false
   },
   "outputs": [
    {
     "data": {
      "text/html": [
       "<ol class=list-inline>\n",
       "\t<li>-1</li>\n",
       "\t<li>-0.99</li>\n",
       "\t<li>-0.98</li>\n",
       "</ol>\n"
      ],
      "text/latex": [
       "\\begin{enumerate*}\n",
       "\\item -1\n",
       "\\item -0.99\n",
       "\\item -0.98\n",
       "\\end{enumerate*}\n"
      ],
      "text/markdown": [
       "1. -1\n",
       "2. -0.99\n",
       "3. -0.98\n",
       "\n",
       "\n"
      ],
      "text/plain": [
       "[1] -1.00 -0.99 -0.98"
      ]
     },
     "metadata": {},
     "output_type": "display_data"
    }
   ],
   "source": [
    "v[1:3]"
   ]
  },
  {
   "cell_type": "code",
   "execution_count": 19,
   "metadata": {
    "collapsed": false
   },
   "outputs": [
    {
     "data": {
      "text/html": [
       "<ol class=list-inline>\n",
       "\t<li>-0.91</li>\n",
       "\t<li>-0.9</li>\n",
       "\t<li>-0.89</li>\n",
       "\t<li>-0.73</li>\n",
       "\t<li>-0.72</li>\n",
       "\t<li>-0.69</li>\n",
       "</ol>\n"
      ],
      "text/latex": [
       "\\begin{enumerate*}\n",
       "\\item -0.91\n",
       "\\item -0.9\n",
       "\\item -0.89\n",
       "\\item -0.73\n",
       "\\item -0.72\n",
       "\\item -0.69\n",
       "\\end{enumerate*}\n"
      ],
      "text/markdown": [
       "1. -0.91\n",
       "2. -0.9\n",
       "3. -0.89\n",
       "4. -0.73\n",
       "5. -0.72\n",
       "6. -0.69\n",
       "\n",
       "\n"
      ],
      "text/plain": [
       "[1] -0.91 -0.90 -0.89 -0.73 -0.72 -0.69"
      ]
     },
     "metadata": {},
     "output_type": "display_data"
    }
   ],
   "source": [
    "v[c(10:12,28:29,32)]"
   ]
  },
  {
   "cell_type": "markdown",
   "metadata": {},
   "source": [
    "**Be aware R doesn't work like Python**... If you type v[-1] you get the vector without the first elemnt and not the last element of the vector"
   ]
  },
  {
   "cell_type": "code",
   "execution_count": 20,
   "metadata": {
    "collapsed": false
   },
   "outputs": [
    {
     "data": {
      "text/html": [
       "<ol class=list-inline>\n",
       "\t<li>-0.99</li>\n",
       "\t<li>-0.98</li>\n",
       "\t<li>-0.97</li>\n",
       "\t<li>-0.96</li>\n",
       "\t<li>-0.95</li>\n",
       "\t<li>-0.94</li>\n",
       "\t<li>-0.93</li>\n",
       "\t<li>-0.92</li>\n",
       "\t<li>-0.91</li>\n",
       "\t<li>-0.9</li>\n",
       "\t<li>-0.89</li>\n",
       "\t<li>-0.88</li>\n",
       "\t<li>-0.87</li>\n",
       "\t<li>-0.86</li>\n",
       "\t<li>-0.85</li>\n",
       "\t<li>-0.84</li>\n",
       "\t<li>-0.83</li>\n",
       "\t<li>-0.82</li>\n",
       "\t<li>-0.81</li>\n",
       "\t<li>-0.8</li>\n",
       "\t<li>-0.79</li>\n",
       "\t<li>-0.78</li>\n",
       "\t<li>-0.77</li>\n",
       "\t<li>-0.76</li>\n",
       "\t<li>-0.75</li>\n",
       "\t<li>-0.74</li>\n",
       "\t<li>-0.73</li>\n",
       "\t<li>-0.72</li>\n",
       "\t<li>-0.71</li>\n",
       "\t<li>-0.7</li>\n",
       "\t<li>-0.69</li>\n",
       "\t<li>-0.68</li>\n",
       "\t<li>-0.67</li>\n",
       "\t<li>-0.66</li>\n",
       "\t<li>-0.65</li>\n",
       "\t<li>-0.64</li>\n",
       "\t<li>-0.63</li>\n",
       "\t<li>-0.62</li>\n",
       "\t<li>-0.61</li>\n",
       "\t<li>-0.6</li>\n",
       "\t<li>-0.59</li>\n",
       "\t<li>-0.58</li>\n",
       "\t<li>-0.57</li>\n",
       "\t<li>-0.56</li>\n",
       "\t<li>-0.55</li>\n",
       "\t<li>-0.54</li>\n",
       "\t<li>-0.53</li>\n",
       "\t<li>-0.52</li>\n",
       "\t<li>-0.51</li>\n",
       "\t<li>-0.5</li>\n",
       "\t<li>-0.49</li>\n",
       "\t<li>-0.48</li>\n",
       "\t<li>-0.47</li>\n",
       "\t<li>-0.46</li>\n",
       "\t<li>-0.45</li>\n",
       "\t<li>-0.44</li>\n",
       "\t<li>-0.43</li>\n",
       "\t<li>-0.42</li>\n",
       "\t<li>-0.41</li>\n",
       "\t<li>-0.4</li>\n",
       "\t<li>-0.39</li>\n",
       "\t<li>-0.38</li>\n",
       "\t<li>-0.37</li>\n",
       "\t<li>-0.36</li>\n",
       "\t<li>-0.35</li>\n",
       "\t<li>-0.34</li>\n",
       "\t<li>-0.33</li>\n",
       "\t<li>-0.32</li>\n",
       "\t<li>-0.31</li>\n",
       "\t<li>-0.3</li>\n",
       "\t<li>-0.29</li>\n",
       "\t<li>-0.28</li>\n",
       "\t<li>-0.27</li>\n",
       "\t<li>-0.26</li>\n",
       "\t<li>-0.25</li>\n",
       "\t<li>-0.24</li>\n",
       "\t<li>-0.23</li>\n",
       "\t<li>-0.22</li>\n",
       "\t<li>-0.21</li>\n",
       "\t<li>-0.2</li>\n",
       "\t<li>-0.19</li>\n",
       "\t<li>-0.18</li>\n",
       "\t<li>-0.17</li>\n",
       "\t<li>-0.16</li>\n",
       "\t<li>-0.15</li>\n",
       "\t<li>-0.14</li>\n",
       "\t<li>-0.13</li>\n",
       "\t<li>-0.12</li>\n",
       "\t<li>-0.11</li>\n",
       "\t<li>-0.1</li>\n",
       "\t<li>-0.09</li>\n",
       "\t<li>-0.08</li>\n",
       "\t<li>-0.07</li>\n",
       "\t<li>-0.0599999999999999</li>\n",
       "\t<li>-0.0499999999999999</li>\n",
       "\t<li>-0.04</li>\n",
       "\t<li>-0.03</li>\n",
       "\t<li>-0.02</li>\n",
       "\t<li>-0.01</li>\n",
       "\t<li>0</li>\n",
       "\t<li>0.01</li>\n",
       "\t<li>0.02</li>\n",
       "\t<li>0.03</li>\n",
       "\t<li>0.04</li>\n",
       "\t<li>0.05</li>\n",
       "\t<li>0.0600000000000001</li>\n",
       "\t<li>0.0700000000000001</li>\n",
       "\t<li>0.0800000000000001</li>\n",
       "\t<li>0.0900000000000001</li>\n",
       "\t<li>0.1</li>\n",
       "\t<li>0.11</li>\n",
       "\t<li>0.12</li>\n",
       "\t<li>0.13</li>\n",
       "\t<li>0.14</li>\n",
       "\t<li>0.15</li>\n",
       "\t<li>0.16</li>\n",
       "\t<li>0.17</li>\n",
       "\t<li>0.18</li>\n",
       "\t<li>0.19</li>\n",
       "\t<li>0.2</li>\n",
       "\t<li>0.21</li>\n",
       "\t<li>0.22</li>\n",
       "\t<li>0.23</li>\n",
       "\t<li>0.24</li>\n",
       "\t<li>0.25</li>\n",
       "\t<li>0.26</li>\n",
       "\t<li>0.27</li>\n",
       "\t<li>0.28</li>\n",
       "\t<li>0.29</li>\n",
       "\t<li>0.3</li>\n",
       "\t<li>0.31</li>\n",
       "\t<li>0.32</li>\n",
       "\t<li>0.33</li>\n",
       "\t<li>0.34</li>\n",
       "\t<li>0.35</li>\n",
       "\t<li>0.36</li>\n",
       "\t<li>0.37</li>\n",
       "\t<li>0.38</li>\n",
       "\t<li>0.39</li>\n",
       "\t<li>0.4</li>\n",
       "\t<li>0.41</li>\n",
       "\t<li>0.42</li>\n",
       "\t<li>0.43</li>\n",
       "\t<li>0.44</li>\n",
       "\t<li>0.45</li>\n",
       "\t<li>0.46</li>\n",
       "\t<li>0.47</li>\n",
       "\t<li>0.48</li>\n",
       "\t<li>0.49</li>\n",
       "\t<li>0.5</li>\n",
       "\t<li>0.51</li>\n",
       "\t<li>0.52</li>\n",
       "\t<li>0.53</li>\n",
       "\t<li>0.54</li>\n",
       "\t<li>0.55</li>\n",
       "\t<li>0.56</li>\n",
       "\t<li>0.57</li>\n",
       "\t<li>0.58</li>\n",
       "\t<li>0.59</li>\n",
       "\t<li>0.6</li>\n",
       "\t<li>0.61</li>\n",
       "\t<li>0.62</li>\n",
       "\t<li>0.63</li>\n",
       "\t<li>0.64</li>\n",
       "\t<li>0.65</li>\n",
       "\t<li>0.66</li>\n",
       "\t<li>0.67</li>\n",
       "\t<li>0.68</li>\n",
       "\t<li>0.69</li>\n",
       "\t<li>0.7</li>\n",
       "\t<li>0.71</li>\n",
       "\t<li>0.72</li>\n",
       "\t<li>0.73</li>\n",
       "\t<li>0.74</li>\n",
       "\t<li>0.75</li>\n",
       "\t<li>0.76</li>\n",
       "\t<li>0.77</li>\n",
       "\t<li>0.78</li>\n",
       "\t<li>0.79</li>\n",
       "\t<li>0.8</li>\n",
       "\t<li>0.81</li>\n",
       "\t<li>0.82</li>\n",
       "\t<li>0.83</li>\n",
       "\t<li>0.84</li>\n",
       "\t<li>0.85</li>\n",
       "\t<li>0.86</li>\n",
       "\t<li>0.87</li>\n",
       "\t<li>0.88</li>\n",
       "\t<li>0.89</li>\n",
       "\t<li>0.9</li>\n",
       "\t<li>0.91</li>\n",
       "\t<li>0.92</li>\n",
       "\t<li>0.93</li>\n",
       "\t<li>0.94</li>\n",
       "\t<li>0.95</li>\n",
       "\t<li>0.96</li>\n",
       "\t<li>0.97</li>\n",
       "\t<li>0.98</li>\n",
       "\t<li>0.99</li>\n",
       "\t<li>1</li>\n",
       "</ol>\n"
      ],
      "text/latex": [
       "\\begin{enumerate*}\n",
       "\\item -0.99\n",
       "\\item -0.98\n",
       "\\item -0.97\n",
       "\\item -0.96\n",
       "\\item -0.95\n",
       "\\item -0.94\n",
       "\\item -0.93\n",
       "\\item -0.92\n",
       "\\item -0.91\n",
       "\\item -0.9\n",
       "\\item -0.89\n",
       "\\item -0.88\n",
       "\\item -0.87\n",
       "\\item -0.86\n",
       "\\item -0.85\n",
       "\\item -0.84\n",
       "\\item -0.83\n",
       "\\item -0.82\n",
       "\\item -0.81\n",
       "\\item -0.8\n",
       "\\item -0.79\n",
       "\\item -0.78\n",
       "\\item -0.77\n",
       "\\item -0.76\n",
       "\\item -0.75\n",
       "\\item -0.74\n",
       "\\item -0.73\n",
       "\\item -0.72\n",
       "\\item -0.71\n",
       "\\item -0.7\n",
       "\\item -0.69\n",
       "\\item -0.68\n",
       "\\item -0.67\n",
       "\\item -0.66\n",
       "\\item -0.65\n",
       "\\item -0.64\n",
       "\\item -0.63\n",
       "\\item -0.62\n",
       "\\item -0.61\n",
       "\\item -0.6\n",
       "\\item -0.59\n",
       "\\item -0.58\n",
       "\\item -0.57\n",
       "\\item -0.56\n",
       "\\item -0.55\n",
       "\\item -0.54\n",
       "\\item -0.53\n",
       "\\item -0.52\n",
       "\\item -0.51\n",
       "\\item -0.5\n",
       "\\item -0.49\n",
       "\\item -0.48\n",
       "\\item -0.47\n",
       "\\item -0.46\n",
       "\\item -0.45\n",
       "\\item -0.44\n",
       "\\item -0.43\n",
       "\\item -0.42\n",
       "\\item -0.41\n",
       "\\item -0.4\n",
       "\\item -0.39\n",
       "\\item -0.38\n",
       "\\item -0.37\n",
       "\\item -0.36\n",
       "\\item -0.35\n",
       "\\item -0.34\n",
       "\\item -0.33\n",
       "\\item -0.32\n",
       "\\item -0.31\n",
       "\\item -0.3\n",
       "\\item -0.29\n",
       "\\item -0.28\n",
       "\\item -0.27\n",
       "\\item -0.26\n",
       "\\item -0.25\n",
       "\\item -0.24\n",
       "\\item -0.23\n",
       "\\item -0.22\n",
       "\\item -0.21\n",
       "\\item -0.2\n",
       "\\item -0.19\n",
       "\\item -0.18\n",
       "\\item -0.17\n",
       "\\item -0.16\n",
       "\\item -0.15\n",
       "\\item -0.14\n",
       "\\item -0.13\n",
       "\\item -0.12\n",
       "\\item -0.11\n",
       "\\item -0.1\n",
       "\\item -0.09\n",
       "\\item -0.08\n",
       "\\item -0.07\n",
       "\\item -0.0599999999999999\n",
       "\\item -0.0499999999999999\n",
       "\\item -0.04\n",
       "\\item -0.03\n",
       "\\item -0.02\n",
       "\\item -0.01\n",
       "\\item 0\n",
       "\\item 0.01\n",
       "\\item 0.02\n",
       "\\item 0.03\n",
       "\\item 0.04\n",
       "\\item 0.05\n",
       "\\item 0.0600000000000001\n",
       "\\item 0.0700000000000001\n",
       "\\item 0.0800000000000001\n",
       "\\item 0.0900000000000001\n",
       "\\item 0.1\n",
       "\\item 0.11\n",
       "\\item 0.12\n",
       "\\item 0.13\n",
       "\\item 0.14\n",
       "\\item 0.15\n",
       "\\item 0.16\n",
       "\\item 0.17\n",
       "\\item 0.18\n",
       "\\item 0.19\n",
       "\\item 0.2\n",
       "\\item 0.21\n",
       "\\item 0.22\n",
       "\\item 0.23\n",
       "\\item 0.24\n",
       "\\item 0.25\n",
       "\\item 0.26\n",
       "\\item 0.27\n",
       "\\item 0.28\n",
       "\\item 0.29\n",
       "\\item 0.3\n",
       "\\item 0.31\n",
       "\\item 0.32\n",
       "\\item 0.33\n",
       "\\item 0.34\n",
       "\\item 0.35\n",
       "\\item 0.36\n",
       "\\item 0.37\n",
       "\\item 0.38\n",
       "\\item 0.39\n",
       "\\item 0.4\n",
       "\\item 0.41\n",
       "\\item 0.42\n",
       "\\item 0.43\n",
       "\\item 0.44\n",
       "\\item 0.45\n",
       "\\item 0.46\n",
       "\\item 0.47\n",
       "\\item 0.48\n",
       "\\item 0.49\n",
       "\\item 0.5\n",
       "\\item 0.51\n",
       "\\item 0.52\n",
       "\\item 0.53\n",
       "\\item 0.54\n",
       "\\item 0.55\n",
       "\\item 0.56\n",
       "\\item 0.57\n",
       "\\item 0.58\n",
       "\\item 0.59\n",
       "\\item 0.6\n",
       "\\item 0.61\n",
       "\\item 0.62\n",
       "\\item 0.63\n",
       "\\item 0.64\n",
       "\\item 0.65\n",
       "\\item 0.66\n",
       "\\item 0.67\n",
       "\\item 0.68\n",
       "\\item 0.69\n",
       "\\item 0.7\n",
       "\\item 0.71\n",
       "\\item 0.72\n",
       "\\item 0.73\n",
       "\\item 0.74\n",
       "\\item 0.75\n",
       "\\item 0.76\n",
       "\\item 0.77\n",
       "\\item 0.78\n",
       "\\item 0.79\n",
       "\\item 0.8\n",
       "\\item 0.81\n",
       "\\item 0.82\n",
       "\\item 0.83\n",
       "\\item 0.84\n",
       "\\item 0.85\n",
       "\\item 0.86\n",
       "\\item 0.87\n",
       "\\item 0.88\n",
       "\\item 0.89\n",
       "\\item 0.9\n",
       "\\item 0.91\n",
       "\\item 0.92\n",
       "\\item 0.93\n",
       "\\item 0.94\n",
       "\\item 0.95\n",
       "\\item 0.96\n",
       "\\item 0.97\n",
       "\\item 0.98\n",
       "\\item 0.99\n",
       "\\item 1\n",
       "\\end{enumerate*}\n"
      ],
      "text/markdown": [
       "1. -0.99\n",
       "2. -0.98\n",
       "3. -0.97\n",
       "4. -0.96\n",
       "5. -0.95\n",
       "6. -0.94\n",
       "7. -0.93\n",
       "8. -0.92\n",
       "9. -0.91\n",
       "10. -0.9\n",
       "11. -0.89\n",
       "12. -0.88\n",
       "13. -0.87\n",
       "14. -0.86\n",
       "15. -0.85\n",
       "16. -0.84\n",
       "17. -0.83\n",
       "18. -0.82\n",
       "19. -0.81\n",
       "20. -0.8\n",
       "21. -0.79\n",
       "22. -0.78\n",
       "23. -0.77\n",
       "24. -0.76\n",
       "25. -0.75\n",
       "26. -0.74\n",
       "27. -0.73\n",
       "28. -0.72\n",
       "29. -0.71\n",
       "30. -0.7\n",
       "31. -0.69\n",
       "32. -0.68\n",
       "33. -0.67\n",
       "34. -0.66\n",
       "35. -0.65\n",
       "36. -0.64\n",
       "37. -0.63\n",
       "38. -0.62\n",
       "39. -0.61\n",
       "40. -0.6\n",
       "41. -0.59\n",
       "42. -0.58\n",
       "43. -0.57\n",
       "44. -0.56\n",
       "45. -0.55\n",
       "46. -0.54\n",
       "47. -0.53\n",
       "48. -0.52\n",
       "49. -0.51\n",
       "50. -0.5\n",
       "51. -0.49\n",
       "52. -0.48\n",
       "53. -0.47\n",
       "54. -0.46\n",
       "55. -0.45\n",
       "56. -0.44\n",
       "57. -0.43\n",
       "58. -0.42\n",
       "59. -0.41\n",
       "60. -0.4\n",
       "61. -0.39\n",
       "62. -0.38\n",
       "63. -0.37\n",
       "64. -0.36\n",
       "65. -0.35\n",
       "66. -0.34\n",
       "67. -0.33\n",
       "68. -0.32\n",
       "69. -0.31\n",
       "70. -0.3\n",
       "71. -0.29\n",
       "72. -0.28\n",
       "73. -0.27\n",
       "74. -0.26\n",
       "75. -0.25\n",
       "76. -0.24\n",
       "77. -0.23\n",
       "78. -0.22\n",
       "79. -0.21\n",
       "80. -0.2\n",
       "81. -0.19\n",
       "82. -0.18\n",
       "83. -0.17\n",
       "84. -0.16\n",
       "85. -0.15\n",
       "86. -0.14\n",
       "87. -0.13\n",
       "88. -0.12\n",
       "89. -0.11\n",
       "90. -0.1\n",
       "91. -0.09\n",
       "92. -0.08\n",
       "93. -0.07\n",
       "94. -0.0599999999999999\n",
       "95. -0.0499999999999999\n",
       "96. -0.04\n",
       "97. -0.03\n",
       "98. -0.02\n",
       "99. -0.01\n",
       "100. 0\n",
       "101. 0.01\n",
       "102. 0.02\n",
       "103. 0.03\n",
       "104. 0.04\n",
       "105. 0.05\n",
       "106. 0.0600000000000001\n",
       "107. 0.0700000000000001\n",
       "108. 0.0800000000000001\n",
       "109. 0.0900000000000001\n",
       "110. 0.1\n",
       "111. 0.11\n",
       "112. 0.12\n",
       "113. 0.13\n",
       "114. 0.14\n",
       "115. 0.15\n",
       "116. 0.16\n",
       "117. 0.17\n",
       "118. 0.18\n",
       "119. 0.19\n",
       "120. 0.2\n",
       "121. 0.21\n",
       "122. 0.22\n",
       "123. 0.23\n",
       "124. 0.24\n",
       "125. 0.25\n",
       "126. 0.26\n",
       "127. 0.27\n",
       "128. 0.28\n",
       "129. 0.29\n",
       "130. 0.3\n",
       "131. 0.31\n",
       "132. 0.32\n",
       "133. 0.33\n",
       "134. 0.34\n",
       "135. 0.35\n",
       "136. 0.36\n",
       "137. 0.37\n",
       "138. 0.38\n",
       "139. 0.39\n",
       "140. 0.4\n",
       "141. 0.41\n",
       "142. 0.42\n",
       "143. 0.43\n",
       "144. 0.44\n",
       "145. 0.45\n",
       "146. 0.46\n",
       "147. 0.47\n",
       "148. 0.48\n",
       "149. 0.49\n",
       "150. 0.5\n",
       "151. 0.51\n",
       "152. 0.52\n",
       "153. 0.53\n",
       "154. 0.54\n",
       "155. 0.55\n",
       "156. 0.56\n",
       "157. 0.57\n",
       "158. 0.58\n",
       "159. 0.59\n",
       "160. 0.6\n",
       "161. 0.61\n",
       "162. 0.62\n",
       "163. 0.63\n",
       "164. 0.64\n",
       "165. 0.65\n",
       "166. 0.66\n",
       "167. 0.67\n",
       "168. 0.68\n",
       "169. 0.69\n",
       "170. 0.7\n",
       "171. 0.71\n",
       "172. 0.72\n",
       "173. 0.73\n",
       "174. 0.74\n",
       "175. 0.75\n",
       "176. 0.76\n",
       "177. 0.77\n",
       "178. 0.78\n",
       "179. 0.79\n",
       "180. 0.8\n",
       "181. 0.81\n",
       "182. 0.82\n",
       "183. 0.83\n",
       "184. 0.84\n",
       "185. 0.85\n",
       "186. 0.86\n",
       "187. 0.87\n",
       "188. 0.88\n",
       "189. 0.89\n",
       "190. 0.9\n",
       "191. 0.91\n",
       "192. 0.92\n",
       "193. 0.93\n",
       "194. 0.94\n",
       "195. 0.95\n",
       "196. 0.96\n",
       "197. 0.97\n",
       "198. 0.98\n",
       "199. 0.99\n",
       "200. 1\n",
       "\n",
       "\n"
      ],
      "text/plain": [
       "  [1] -0.99 -0.98 -0.97 -0.96 -0.95 -0.94 -0.93 -0.92 -0.91 -0.90 -0.89 -0.88\n",
       " [13] -0.87 -0.86 -0.85 -0.84 -0.83 -0.82 -0.81 -0.80 -0.79 -0.78 -0.77 -0.76\n",
       " [25] -0.75 -0.74 -0.73 -0.72 -0.71 -0.70 -0.69 -0.68 -0.67 -0.66 -0.65 -0.64\n",
       " [37] -0.63 -0.62 -0.61 -0.60 -0.59 -0.58 -0.57 -0.56 -0.55 -0.54 -0.53 -0.52\n",
       " [49] -0.51 -0.50 -0.49 -0.48 -0.47 -0.46 -0.45 -0.44 -0.43 -0.42 -0.41 -0.40\n",
       " [61] -0.39 -0.38 -0.37 -0.36 -0.35 -0.34 -0.33 -0.32 -0.31 -0.30 -0.29 -0.28\n",
       " [73] -0.27 -0.26 -0.25 -0.24 -0.23 -0.22 -0.21 -0.20 -0.19 -0.18 -0.17 -0.16\n",
       " [85] -0.15 -0.14 -0.13 -0.12 -0.11 -0.10 -0.09 -0.08 -0.07 -0.06 -0.05 -0.04\n",
       " [97] -0.03 -0.02 -0.01  0.00  0.01  0.02  0.03  0.04  0.05  0.06  0.07  0.08\n",
       "[109]  0.09  0.10  0.11  0.12  0.13  0.14  0.15  0.16  0.17  0.18  0.19  0.20\n",
       "[121]  0.21  0.22  0.23  0.24  0.25  0.26  0.27  0.28  0.29  0.30  0.31  0.32\n",
       "[133]  0.33  0.34  0.35  0.36  0.37  0.38  0.39  0.40  0.41  0.42  0.43  0.44\n",
       "[145]  0.45  0.46  0.47  0.48  0.49  0.50  0.51  0.52  0.53  0.54  0.55  0.56\n",
       "[157]  0.57  0.58  0.59  0.60  0.61  0.62  0.63  0.64  0.65  0.66  0.67  0.68\n",
       "[169]  0.69  0.70  0.71  0.72  0.73  0.74  0.75  0.76  0.77  0.78  0.79  0.80\n",
       "[181]  0.81  0.82  0.83  0.84  0.85  0.86  0.87  0.88  0.89  0.90  0.91  0.92\n",
       "[193]  0.93  0.94  0.95  0.96  0.97  0.98  0.99  1.00"
      ]
     },
     "metadata": {},
     "output_type": "display_data"
    }
   ],
   "source": [
    "v[-1]"
   ]
  },
  {
   "cell_type": "markdown",
   "metadata": {},
   "source": [
    "Here are some useful built-in functions you can apply to a vector"
   ]
  },
  {
   "cell_type": "code",
   "execution_count": 21,
   "metadata": {
    "collapsed": false
   },
   "outputs": [
    {
     "data": {
      "text/html": [
       "201"
      ],
      "text/latex": [
       "201"
      ],
      "text/markdown": [
       "201"
      ],
      "text/plain": [
       "[1] 201"
      ]
     },
     "metadata": {},
     "output_type": "display_data"
    },
    {
     "data": {
      "text/html": [
       "-1"
      ],
      "text/latex": [
       "-1"
      ],
      "text/markdown": [
       "-1"
      ],
      "text/plain": [
       "[1] -1"
      ]
     },
     "metadata": {},
     "output_type": "display_data"
    },
    {
     "data": {
      "text/html": [
       "1"
      ],
      "text/latex": [
       "1"
      ],
      "text/markdown": [
       "1"
      ],
      "text/plain": [
       "[1] 1"
      ]
     },
     "metadata": {},
     "output_type": "display_data"
    },
    {
     "data": {
      "text/html": [
       "4.10782519111308e-15"
      ],
      "text/latex": [
       "4.10782519111308e-15"
      ],
      "text/markdown": [
       "4.10782519111308e-15"
      ],
      "text/plain": [
       "[1] 4.107825e-15"
      ]
     },
     "metadata": {},
     "output_type": "display_data"
    },
    {
     "data": {
      "text/html": [
       "0"
      ],
      "text/latex": [
       "0"
      ],
      "text/markdown": [
       "0"
      ],
      "text/plain": [
       "[1] 0"
      ]
     },
     "metadata": {},
     "output_type": "display_data"
    },
    {
     "data": {
      "text/html": [
       "<ol class=list-inline>\n",
       "\t<li>-1</li>\n",
       "\t<li>-0.99</li>\n",
       "\t<li>-0.98</li>\n",
       "\t<li>-0.97</li>\n",
       "\t<li>-0.96</li>\n",
       "\t<li>-0.95</li>\n",
       "\t<li>-0.94</li>\n",
       "\t<li>-0.93</li>\n",
       "\t<li>-0.92</li>\n",
       "\t<li>-0.91</li>\n",
       "\t<li>-0.9</li>\n",
       "\t<li>-0.89</li>\n",
       "\t<li>-0.88</li>\n",
       "\t<li>-0.87</li>\n",
       "\t<li>-0.86</li>\n",
       "\t<li>-0.85</li>\n",
       "\t<li>-0.84</li>\n",
       "\t<li>-0.83</li>\n",
       "\t<li>-0.82</li>\n",
       "\t<li>-0.81</li>\n",
       "\t<li>-0.8</li>\n",
       "\t<li>-0.79</li>\n",
       "\t<li>-0.78</li>\n",
       "\t<li>-0.77</li>\n",
       "\t<li>-0.76</li>\n",
       "\t<li>-0.75</li>\n",
       "\t<li>-0.74</li>\n",
       "\t<li>-0.73</li>\n",
       "\t<li>-0.72</li>\n",
       "\t<li>-0.71</li>\n",
       "\t<li>-0.7</li>\n",
       "\t<li>-0.69</li>\n",
       "\t<li>-0.68</li>\n",
       "\t<li>-0.67</li>\n",
       "\t<li>-0.66</li>\n",
       "\t<li>-0.65</li>\n",
       "\t<li>-0.64</li>\n",
       "\t<li>-0.63</li>\n",
       "\t<li>-0.62</li>\n",
       "\t<li>-0.61</li>\n",
       "\t<li>-0.6</li>\n",
       "\t<li>-0.59</li>\n",
       "\t<li>-0.58</li>\n",
       "\t<li>-0.57</li>\n",
       "\t<li>-0.56</li>\n",
       "\t<li>-0.55</li>\n",
       "\t<li>-0.54</li>\n",
       "\t<li>-0.53</li>\n",
       "\t<li>-0.52</li>\n",
       "\t<li>-0.51</li>\n",
       "\t<li>-0.5</li>\n",
       "\t<li>-0.49</li>\n",
       "\t<li>-0.48</li>\n",
       "\t<li>-0.47</li>\n",
       "\t<li>-0.46</li>\n",
       "\t<li>-0.45</li>\n",
       "\t<li>-0.44</li>\n",
       "\t<li>-0.43</li>\n",
       "\t<li>-0.42</li>\n",
       "\t<li>-0.41</li>\n",
       "\t<li>-0.4</li>\n",
       "\t<li>-0.39</li>\n",
       "\t<li>-0.38</li>\n",
       "\t<li>-0.37</li>\n",
       "\t<li>-0.36</li>\n",
       "\t<li>-0.35</li>\n",
       "\t<li>-0.34</li>\n",
       "\t<li>-0.33</li>\n",
       "\t<li>-0.32</li>\n",
       "\t<li>-0.31</li>\n",
       "\t<li>-0.3</li>\n",
       "\t<li>-0.29</li>\n",
       "\t<li>-0.28</li>\n",
       "\t<li>-0.27</li>\n",
       "\t<li>-0.26</li>\n",
       "\t<li>-0.25</li>\n",
       "\t<li>-0.24</li>\n",
       "\t<li>-0.23</li>\n",
       "\t<li>-0.22</li>\n",
       "\t<li>-0.21</li>\n",
       "\t<li>-0.2</li>\n",
       "\t<li>-0.19</li>\n",
       "\t<li>-0.18</li>\n",
       "\t<li>-0.17</li>\n",
       "\t<li>-0.16</li>\n",
       "\t<li>-0.15</li>\n",
       "\t<li>-0.14</li>\n",
       "\t<li>-0.13</li>\n",
       "\t<li>-0.12</li>\n",
       "\t<li>-0.11</li>\n",
       "\t<li>-0.1</li>\n",
       "\t<li>-0.09</li>\n",
       "\t<li>-0.08</li>\n",
       "\t<li>-0.07</li>\n",
       "\t<li>-0.0599999999999999</li>\n",
       "\t<li>-0.0499999999999999</li>\n",
       "\t<li>-0.04</li>\n",
       "\t<li>-0.03</li>\n",
       "\t<li>-0.02</li>\n",
       "\t<li>-0.01</li>\n",
       "\t<li>0</li>\n",
       "\t<li>0.01</li>\n",
       "\t<li>0.02</li>\n",
       "\t<li>0.03</li>\n",
       "\t<li>0.04</li>\n",
       "\t<li>0.05</li>\n",
       "\t<li>0.0600000000000001</li>\n",
       "\t<li>0.0700000000000001</li>\n",
       "\t<li>0.0800000000000001</li>\n",
       "\t<li>0.0900000000000001</li>\n",
       "\t<li>0.1</li>\n",
       "\t<li>0.11</li>\n",
       "\t<li>0.12</li>\n",
       "\t<li>0.13</li>\n",
       "\t<li>0.14</li>\n",
       "\t<li>0.15</li>\n",
       "\t<li>0.16</li>\n",
       "\t<li>0.17</li>\n",
       "\t<li>0.18</li>\n",
       "\t<li>0.19</li>\n",
       "\t<li>0.2</li>\n",
       "\t<li>0.21</li>\n",
       "\t<li>0.22</li>\n",
       "\t<li>0.23</li>\n",
       "\t<li>0.24</li>\n",
       "\t<li>0.25</li>\n",
       "\t<li>0.26</li>\n",
       "\t<li>0.27</li>\n",
       "\t<li>0.28</li>\n",
       "\t<li>0.29</li>\n",
       "\t<li>0.3</li>\n",
       "\t<li>0.31</li>\n",
       "\t<li>0.32</li>\n",
       "\t<li>0.33</li>\n",
       "\t<li>0.34</li>\n",
       "\t<li>0.35</li>\n",
       "\t<li>0.36</li>\n",
       "\t<li>0.37</li>\n",
       "\t<li>0.38</li>\n",
       "\t<li>0.39</li>\n",
       "\t<li>0.4</li>\n",
       "\t<li>0.41</li>\n",
       "\t<li>0.42</li>\n",
       "\t<li>0.43</li>\n",
       "\t<li>0.44</li>\n",
       "\t<li>0.45</li>\n",
       "\t<li>0.46</li>\n",
       "\t<li>0.47</li>\n",
       "\t<li>0.48</li>\n",
       "\t<li>0.49</li>\n",
       "\t<li>0.5</li>\n",
       "\t<li>0.51</li>\n",
       "\t<li>0.52</li>\n",
       "\t<li>0.53</li>\n",
       "\t<li>0.54</li>\n",
       "\t<li>0.55</li>\n",
       "\t<li>0.56</li>\n",
       "\t<li>0.57</li>\n",
       "\t<li>0.58</li>\n",
       "\t<li>0.59</li>\n",
       "\t<li>0.6</li>\n",
       "\t<li>0.61</li>\n",
       "\t<li>0.62</li>\n",
       "\t<li>0.63</li>\n",
       "\t<li>0.64</li>\n",
       "\t<li>0.65</li>\n",
       "\t<li>0.66</li>\n",
       "\t<li>0.67</li>\n",
       "\t<li>0.68</li>\n",
       "\t<li>0.69</li>\n",
       "\t<li>0.7</li>\n",
       "\t<li>0.71</li>\n",
       "\t<li>0.72</li>\n",
       "\t<li>0.73</li>\n",
       "\t<li>0.74</li>\n",
       "\t<li>0.75</li>\n",
       "\t<li>0.76</li>\n",
       "\t<li>0.77</li>\n",
       "\t<li>0.78</li>\n",
       "\t<li>0.79</li>\n",
       "\t<li>0.8</li>\n",
       "\t<li>0.81</li>\n",
       "\t<li>0.82</li>\n",
       "\t<li>0.83</li>\n",
       "\t<li>0.84</li>\n",
       "\t<li>0.85</li>\n",
       "\t<li>0.86</li>\n",
       "\t<li>0.87</li>\n",
       "\t<li>0.88</li>\n",
       "\t<li>0.89</li>\n",
       "\t<li>0.9</li>\n",
       "\t<li>0.91</li>\n",
       "\t<li>0.92</li>\n",
       "\t<li>0.93</li>\n",
       "\t<li>0.94</li>\n",
       "\t<li>0.95</li>\n",
       "\t<li>0.96</li>\n",
       "\t<li>0.97</li>\n",
       "\t<li>0.98</li>\n",
       "\t<li>0.99</li>\n",
       "\t<li>1</li>\n",
       "</ol>\n"
      ],
      "text/latex": [
       "\\begin{enumerate*}\n",
       "\\item -1\n",
       "\\item -0.99\n",
       "\\item -0.98\n",
       "\\item -0.97\n",
       "\\item -0.96\n",
       "\\item -0.95\n",
       "\\item -0.94\n",
       "\\item -0.93\n",
       "\\item -0.92\n",
       "\\item -0.91\n",
       "\\item -0.9\n",
       "\\item -0.89\n",
       "\\item -0.88\n",
       "\\item -0.87\n",
       "\\item -0.86\n",
       "\\item -0.85\n",
       "\\item -0.84\n",
       "\\item -0.83\n",
       "\\item -0.82\n",
       "\\item -0.81\n",
       "\\item -0.8\n",
       "\\item -0.79\n",
       "\\item -0.78\n",
       "\\item -0.77\n",
       "\\item -0.76\n",
       "\\item -0.75\n",
       "\\item -0.74\n",
       "\\item -0.73\n",
       "\\item -0.72\n",
       "\\item -0.71\n",
       "\\item -0.7\n",
       "\\item -0.69\n",
       "\\item -0.68\n",
       "\\item -0.67\n",
       "\\item -0.66\n",
       "\\item -0.65\n",
       "\\item -0.64\n",
       "\\item -0.63\n",
       "\\item -0.62\n",
       "\\item -0.61\n",
       "\\item -0.6\n",
       "\\item -0.59\n",
       "\\item -0.58\n",
       "\\item -0.57\n",
       "\\item -0.56\n",
       "\\item -0.55\n",
       "\\item -0.54\n",
       "\\item -0.53\n",
       "\\item -0.52\n",
       "\\item -0.51\n",
       "\\item -0.5\n",
       "\\item -0.49\n",
       "\\item -0.48\n",
       "\\item -0.47\n",
       "\\item -0.46\n",
       "\\item -0.45\n",
       "\\item -0.44\n",
       "\\item -0.43\n",
       "\\item -0.42\n",
       "\\item -0.41\n",
       "\\item -0.4\n",
       "\\item -0.39\n",
       "\\item -0.38\n",
       "\\item -0.37\n",
       "\\item -0.36\n",
       "\\item -0.35\n",
       "\\item -0.34\n",
       "\\item -0.33\n",
       "\\item -0.32\n",
       "\\item -0.31\n",
       "\\item -0.3\n",
       "\\item -0.29\n",
       "\\item -0.28\n",
       "\\item -0.27\n",
       "\\item -0.26\n",
       "\\item -0.25\n",
       "\\item -0.24\n",
       "\\item -0.23\n",
       "\\item -0.22\n",
       "\\item -0.21\n",
       "\\item -0.2\n",
       "\\item -0.19\n",
       "\\item -0.18\n",
       "\\item -0.17\n",
       "\\item -0.16\n",
       "\\item -0.15\n",
       "\\item -0.14\n",
       "\\item -0.13\n",
       "\\item -0.12\n",
       "\\item -0.11\n",
       "\\item -0.1\n",
       "\\item -0.09\n",
       "\\item -0.08\n",
       "\\item -0.07\n",
       "\\item -0.0599999999999999\n",
       "\\item -0.0499999999999999\n",
       "\\item -0.04\n",
       "\\item -0.03\n",
       "\\item -0.02\n",
       "\\item -0.01\n",
       "\\item 0\n",
       "\\item 0.01\n",
       "\\item 0.02\n",
       "\\item 0.03\n",
       "\\item 0.04\n",
       "\\item 0.05\n",
       "\\item 0.0600000000000001\n",
       "\\item 0.0700000000000001\n",
       "\\item 0.0800000000000001\n",
       "\\item 0.0900000000000001\n",
       "\\item 0.1\n",
       "\\item 0.11\n",
       "\\item 0.12\n",
       "\\item 0.13\n",
       "\\item 0.14\n",
       "\\item 0.15\n",
       "\\item 0.16\n",
       "\\item 0.17\n",
       "\\item 0.18\n",
       "\\item 0.19\n",
       "\\item 0.2\n",
       "\\item 0.21\n",
       "\\item 0.22\n",
       "\\item 0.23\n",
       "\\item 0.24\n",
       "\\item 0.25\n",
       "\\item 0.26\n",
       "\\item 0.27\n",
       "\\item 0.28\n",
       "\\item 0.29\n",
       "\\item 0.3\n",
       "\\item 0.31\n",
       "\\item 0.32\n",
       "\\item 0.33\n",
       "\\item 0.34\n",
       "\\item 0.35\n",
       "\\item 0.36\n",
       "\\item 0.37\n",
       "\\item 0.38\n",
       "\\item 0.39\n",
       "\\item 0.4\n",
       "\\item 0.41\n",
       "\\item 0.42\n",
       "\\item 0.43\n",
       "\\item 0.44\n",
       "\\item 0.45\n",
       "\\item 0.46\n",
       "\\item 0.47\n",
       "\\item 0.48\n",
       "\\item 0.49\n",
       "\\item 0.5\n",
       "\\item 0.51\n",
       "\\item 0.52\n",
       "\\item 0.53\n",
       "\\item 0.54\n",
       "\\item 0.55\n",
       "\\item 0.56\n",
       "\\item 0.57\n",
       "\\item 0.58\n",
       "\\item 0.59\n",
       "\\item 0.6\n",
       "\\item 0.61\n",
       "\\item 0.62\n",
       "\\item 0.63\n",
       "\\item 0.64\n",
       "\\item 0.65\n",
       "\\item 0.66\n",
       "\\item 0.67\n",
       "\\item 0.68\n",
       "\\item 0.69\n",
       "\\item 0.7\n",
       "\\item 0.71\n",
       "\\item 0.72\n",
       "\\item 0.73\n",
       "\\item 0.74\n",
       "\\item 0.75\n",
       "\\item 0.76\n",
       "\\item 0.77\n",
       "\\item 0.78\n",
       "\\item 0.79\n",
       "\\item 0.8\n",
       "\\item 0.81\n",
       "\\item 0.82\n",
       "\\item 0.83\n",
       "\\item 0.84\n",
       "\\item 0.85\n",
       "\\item 0.86\n",
       "\\item 0.87\n",
       "\\item 0.88\n",
       "\\item 0.89\n",
       "\\item 0.9\n",
       "\\item 0.91\n",
       "\\item 0.92\n",
       "\\item 0.93\n",
       "\\item 0.94\n",
       "\\item 0.95\n",
       "\\item 0.96\n",
       "\\item 0.97\n",
       "\\item 0.98\n",
       "\\item 0.99\n",
       "\\item 1\n",
       "\\end{enumerate*}\n"
      ],
      "text/markdown": [
       "1. -1\n",
       "2. -0.99\n",
       "3. -0.98\n",
       "4. -0.97\n",
       "5. -0.96\n",
       "6. -0.95\n",
       "7. -0.94\n",
       "8. -0.93\n",
       "9. -0.92\n",
       "10. -0.91\n",
       "11. -0.9\n",
       "12. -0.89\n",
       "13. -0.88\n",
       "14. -0.87\n",
       "15. -0.86\n",
       "16. -0.85\n",
       "17. -0.84\n",
       "18. -0.83\n",
       "19. -0.82\n",
       "20. -0.81\n",
       "21. -0.8\n",
       "22. -0.79\n",
       "23. -0.78\n",
       "24. -0.77\n",
       "25. -0.76\n",
       "26. -0.75\n",
       "27. -0.74\n",
       "28. -0.73\n",
       "29. -0.72\n",
       "30. -0.71\n",
       "31. -0.7\n",
       "32. -0.69\n",
       "33. -0.68\n",
       "34. -0.67\n",
       "35. -0.66\n",
       "36. -0.65\n",
       "37. -0.64\n",
       "38. -0.63\n",
       "39. -0.62\n",
       "40. -0.61\n",
       "41. -0.6\n",
       "42. -0.59\n",
       "43. -0.58\n",
       "44. -0.57\n",
       "45. -0.56\n",
       "46. -0.55\n",
       "47. -0.54\n",
       "48. -0.53\n",
       "49. -0.52\n",
       "50. -0.51\n",
       "51. -0.5\n",
       "52. -0.49\n",
       "53. -0.48\n",
       "54. -0.47\n",
       "55. -0.46\n",
       "56. -0.45\n",
       "57. -0.44\n",
       "58. -0.43\n",
       "59. -0.42\n",
       "60. -0.41\n",
       "61. -0.4\n",
       "62. -0.39\n",
       "63. -0.38\n",
       "64. -0.37\n",
       "65. -0.36\n",
       "66. -0.35\n",
       "67. -0.34\n",
       "68. -0.33\n",
       "69. -0.32\n",
       "70. -0.31\n",
       "71. -0.3\n",
       "72. -0.29\n",
       "73. -0.28\n",
       "74. -0.27\n",
       "75. -0.26\n",
       "76. -0.25\n",
       "77. -0.24\n",
       "78. -0.23\n",
       "79. -0.22\n",
       "80. -0.21\n",
       "81. -0.2\n",
       "82. -0.19\n",
       "83. -0.18\n",
       "84. -0.17\n",
       "85. -0.16\n",
       "86. -0.15\n",
       "87. -0.14\n",
       "88. -0.13\n",
       "89. -0.12\n",
       "90. -0.11\n",
       "91. -0.1\n",
       "92. -0.09\n",
       "93. -0.08\n",
       "94. -0.07\n",
       "95. -0.0599999999999999\n",
       "96. -0.0499999999999999\n",
       "97. -0.04\n",
       "98. -0.03\n",
       "99. -0.02\n",
       "100. -0.01\n",
       "101. 0\n",
       "102. 0.01\n",
       "103. 0.02\n",
       "104. 0.03\n",
       "105. 0.04\n",
       "106. 0.05\n",
       "107. 0.0600000000000001\n",
       "108. 0.0700000000000001\n",
       "109. 0.0800000000000001\n",
       "110. 0.0900000000000001\n",
       "111. 0.1\n",
       "112. 0.11\n",
       "113. 0.12\n",
       "114. 0.13\n",
       "115. 0.14\n",
       "116. 0.15\n",
       "117. 0.16\n",
       "118. 0.17\n",
       "119. 0.18\n",
       "120. 0.19\n",
       "121. 0.2\n",
       "122. 0.21\n",
       "123. 0.22\n",
       "124. 0.23\n",
       "125. 0.24\n",
       "126. 0.25\n",
       "127. 0.26\n",
       "128. 0.27\n",
       "129. 0.28\n",
       "130. 0.29\n",
       "131. 0.3\n",
       "132. 0.31\n",
       "133. 0.32\n",
       "134. 0.33\n",
       "135. 0.34\n",
       "136. 0.35\n",
       "137. 0.36\n",
       "138. 0.37\n",
       "139. 0.38\n",
       "140. 0.39\n",
       "141. 0.4\n",
       "142. 0.41\n",
       "143. 0.42\n",
       "144. 0.43\n",
       "145. 0.44\n",
       "146. 0.45\n",
       "147. 0.46\n",
       "148. 0.47\n",
       "149. 0.48\n",
       "150. 0.49\n",
       "151. 0.5\n",
       "152. 0.51\n",
       "153. 0.52\n",
       "154. 0.53\n",
       "155. 0.54\n",
       "156. 0.55\n",
       "157. 0.56\n",
       "158. 0.57\n",
       "159. 0.58\n",
       "160. 0.59\n",
       "161. 0.6\n",
       "162. 0.61\n",
       "163. 0.62\n",
       "164. 0.63\n",
       "165. 0.64\n",
       "166. 0.65\n",
       "167. 0.66\n",
       "168. 0.67\n",
       "169. 0.68\n",
       "170. 0.69\n",
       "171. 0.7\n",
       "172. 0.71\n",
       "173. 0.72\n",
       "174. 0.73\n",
       "175. 0.74\n",
       "176. 0.75\n",
       "177. 0.76\n",
       "178. 0.77\n",
       "179. 0.78\n",
       "180. 0.79\n",
       "181. 0.8\n",
       "182. 0.81\n",
       "183. 0.82\n",
       "184. 0.83\n",
       "185. 0.84\n",
       "186. 0.85\n",
       "187. 0.86\n",
       "188. 0.87\n",
       "189. 0.88\n",
       "190. 0.89\n",
       "191. 0.9\n",
       "192. 0.91\n",
       "193. 0.92\n",
       "194. 0.93\n",
       "195. 0.94\n",
       "196. 0.95\n",
       "197. 0.96\n",
       "198. 0.97\n",
       "199. 0.98\n",
       "200. 0.99\n",
       "201. 1\n",
       "\n",
       "\n"
      ],
      "text/plain": [
       "  [1] -1.00 -0.99 -0.98 -0.97 -0.96 -0.95 -0.94 -0.93 -0.92 -0.91 -0.90 -0.89\n",
       " [13] -0.88 -0.87 -0.86 -0.85 -0.84 -0.83 -0.82 -0.81 -0.80 -0.79 -0.78 -0.77\n",
       " [25] -0.76 -0.75 -0.74 -0.73 -0.72 -0.71 -0.70 -0.69 -0.68 -0.67 -0.66 -0.65\n",
       " [37] -0.64 -0.63 -0.62 -0.61 -0.60 -0.59 -0.58 -0.57 -0.56 -0.55 -0.54 -0.53\n",
       " [49] -0.52 -0.51 -0.50 -0.49 -0.48 -0.47 -0.46 -0.45 -0.44 -0.43 -0.42 -0.41\n",
       " [61] -0.40 -0.39 -0.38 -0.37 -0.36 -0.35 -0.34 -0.33 -0.32 -0.31 -0.30 -0.29\n",
       " [73] -0.28 -0.27 -0.26 -0.25 -0.24 -0.23 -0.22 -0.21 -0.20 -0.19 -0.18 -0.17\n",
       " [85] -0.16 -0.15 -0.14 -0.13 -0.12 -0.11 -0.10 -0.09 -0.08 -0.07 -0.06 -0.05\n",
       " [97] -0.04 -0.03 -0.02 -0.01  0.00  0.01  0.02  0.03  0.04  0.05  0.06  0.07\n",
       "[109]  0.08  0.09  0.10  0.11  0.12  0.13  0.14  0.15  0.16  0.17  0.18  0.19\n",
       "[121]  0.20  0.21  0.22  0.23  0.24  0.25  0.26  0.27  0.28  0.29  0.30  0.31\n",
       "[133]  0.32  0.33  0.34  0.35  0.36  0.37  0.38  0.39  0.40  0.41  0.42  0.43\n",
       "[145]  0.44  0.45  0.46  0.47  0.48  0.49  0.50  0.51  0.52  0.53  0.54  0.55\n",
       "[157]  0.56  0.57  0.58  0.59  0.60  0.61  0.62  0.63  0.64  0.65  0.66  0.67\n",
       "[169]  0.68  0.69  0.70  0.71  0.72  0.73  0.74  0.75  0.76  0.77  0.78  0.79\n",
       "[181]  0.80  0.81  0.82  0.83  0.84  0.85  0.86  0.87  0.88  0.89  0.90  0.91\n",
       "[193]  0.92  0.93  0.94  0.95  0.96  0.97  0.98  0.99  1.00"
      ]
     },
     "metadata": {},
     "output_type": "display_data"
    },
    {
     "data": {
      "text/html": [
       "<ol class=list-inline>\n",
       "\t<li>-1</li>\n",
       "\t<li>-0.99</li>\n",
       "\t<li>-0.98</li>\n",
       "\t<li>-0.97</li>\n",
       "\t<li>-0.96</li>\n",
       "</ol>\n"
      ],
      "text/latex": [
       "\\begin{enumerate*}\n",
       "\\item -1\n",
       "\\item -0.99\n",
       "\\item -0.98\n",
       "\\item -0.97\n",
       "\\item -0.96\n",
       "\\end{enumerate*}\n"
      ],
      "text/markdown": [
       "1. -1\n",
       "2. -0.99\n",
       "3. -0.98\n",
       "4. -0.97\n",
       "5. -0.96\n",
       "\n",
       "\n"
      ],
      "text/plain": [
       "[1] -1.00 -0.99 -0.98 -0.97 -0.96"
      ]
     },
     "metadata": {},
     "output_type": "display_data"
    },
    {
     "data": {
      "text/html": [
       "<ol class=list-inline>\n",
       "\t<li>0.96</li>\n",
       "\t<li>0.97</li>\n",
       "\t<li>0.98</li>\n",
       "\t<li>0.99</li>\n",
       "\t<li>1</li>\n",
       "</ol>\n"
      ],
      "text/latex": [
       "\\begin{enumerate*}\n",
       "\\item 0.96\n",
       "\\item 0.97\n",
       "\\item 0.98\n",
       "\\item 0.99\n",
       "\\item 1\n",
       "\\end{enumerate*}\n"
      ],
      "text/markdown": [
       "1. 0.96\n",
       "2. 0.97\n",
       "3. 0.98\n",
       "4. 0.99\n",
       "5. 1\n",
       "\n",
       "\n"
      ],
      "text/plain": [
       "[1] 0.96 0.97 0.98 0.99 1.00"
      ]
     },
     "metadata": {},
     "output_type": "display_data"
    }
   ],
   "source": [
    "length(v) #lunghezza (numero elementi) del vettore v\n",
    "min(v) #minimo degli elementi in v\n",
    "max(v) #massimo degli elementi in v\n",
    "sum(v) #sommatoria degli elementi in v\n",
    "prod(v) #produttoria degli elementi in v\n",
    "sort(v) #ritorna vettore con elementi di v riordinati\n",
    "head(v,5)  #n valori di testa del vettore v\n",
    "tail(v,5) #n valori di coda del vettore v"
   ]
  },
  {
   "cell_type": "markdown",
   "metadata": {},
   "source": [
    "Additional functions that will return the indices of a vector are \n",
    "\n",
    "which() Indices of a logical vector where the condition is TRUE\n",
    "\n",
    "which.max() Location of the (first) maximum element of a numeric vector\n",
    "\n",
    "which.min() Location of the (first) minimum element of a numeric vector\n",
    "\n",
    "match() First position of an element in a vector"
   ]
  },
  {
   "cell_type": "code",
   "execution_count": 23,
   "metadata": {
    "collapsed": false
   },
   "outputs": [
    {
     "data": {
      "text/html": [
       "101"
      ],
      "text/latex": [
       "101"
      ],
      "text/markdown": [
       "101"
      ],
      "text/plain": [
       "[1] 101"
      ]
     },
     "metadata": {},
     "output_type": "display_data"
    }
   ],
   "source": [
    "which(v==0)"
   ]
  },
  {
   "cell_type": "code",
   "execution_count": 26,
   "metadata": {
    "collapsed": false
   },
   "outputs": [
    {
     "data": {
      "text/html": [
       "201"
      ],
      "text/latex": [
       "201"
      ],
      "text/markdown": [
       "201"
      ],
      "text/plain": [
       "[1] 201"
      ]
     },
     "metadata": {},
     "output_type": "display_data"
    },
    {
     "data": {
      "text/html": [
       "1"
      ],
      "text/latex": [
       "1"
      ],
      "text/markdown": [
       "1"
      ],
      "text/plain": [
       "[1] 1"
      ]
     },
     "metadata": {},
     "output_type": "display_data"
    }
   ],
   "source": [
    "which.max(v) ; which.min(v) "
   ]
  },
  {
   "cell_type": "code",
   "execution_count": 33,
   "metadata": {
    "collapsed": false
   },
   "outputs": [
    {
     "data": {
      "text/plain": [
       "[1] NA"
      ]
     },
     "metadata": {},
     "output_type": "display_data"
    }
   ],
   "source": [
    "match(0,v)"
   ]
  },
  {
   "cell_type": "markdown",
   "metadata": {},
   "source": [
    "## Lists\n",
    "\n",
    "Lists are another very useful data structure in R. They are different wrt Vectors because **a list can hold different data types and elements having different dimensions**."
   ]
  },
  {
   "cell_type": "code",
   "execution_count": 105,
   "metadata": {
    "collapsed": false,
    "scrolled": true
   },
   "outputs": [
    {
     "data": {
      "text/html": [
       "<ol>\n",
       "\t<li><ol class=list-inline>\n",
       "\t<li>1</li>\n",
       "\t<li>2</li>\n",
       "\t<li>3</li>\n",
       "</ol>\n",
       "</li>\n",
       "\t<li>'a'</li>\n",
       "\t<li><ol class=list-inline>\n",
       "\t<li>TRUE</li>\n",
       "\t<li>FALSE</li>\n",
       "\t<li>TRUE</li>\n",
       "</ol>\n",
       "</li>\n",
       "\t<li><ol class=list-inline>\n",
       "\t<li>2.3</li>\n",
       "\t<li>5.9</li>\n",
       "</ol>\n",
       "</li>\n",
       "</ol>\n"
      ],
      "text/latex": [
       "\\begin{enumerate}\n",
       "\\item \\begin{enumerate*}\n",
       "\\item 1\n",
       "\\item 2\n",
       "\\item 3\n",
       "\\end{enumerate*}\n",
       "\n",
       "\\item 'a'\n",
       "\\item \\begin{enumerate*}\n",
       "\\item TRUE\n",
       "\\item FALSE\n",
       "\\item TRUE\n",
       "\\end{enumerate*}\n",
       "\n",
       "\\item \\begin{enumerate*}\n",
       "\\item 2.3\n",
       "\\item 5.9\n",
       "\\end{enumerate*}\n",
       "\n",
       "\\end{enumerate}\n"
      ],
      "text/markdown": [
       "1. 1. 1\n",
       "2. 2\n",
       "3. 3\n",
       "\n",
       "\n",
       "\n",
       "2. 'a'\n",
       "3. 1. TRUE\n",
       "2. FALSE\n",
       "3. TRUE\n",
       "\n",
       "\n",
       "\n",
       "4. 1. 2.3\n",
       "2. 5.9\n",
       "\n",
       "\n",
       "\n",
       "\n",
       "\n"
      ],
      "text/plain": [
       "[[1]]\n",
       "[1] 1 2 3\n",
       "\n",
       "[[2]]\n",
       "[1] \"a\"\n",
       "\n",
       "[[3]]\n",
       "[1]  TRUE FALSE  TRUE\n",
       "\n",
       "[[4]]\n",
       "[1] 2.3 5.9\n"
      ]
     },
     "metadata": {},
     "output_type": "display_data"
    }
   ],
   "source": [
    "#list\n",
    "x <- list(1:3, \"a\", c(TRUE, FALSE, TRUE), c(2.3, 5.9))\n",
    "x"
   ]
  },
  {
   "cell_type": "code",
   "execution_count": 106,
   "metadata": {
    "collapsed": false,
    "scrolled": true
   },
   "outputs": [
    {
     "data": {
      "text/html": [
       "<ol class=list-inline>\n",
       "\t<li>2.3</li>\n",
       "\t<li>5.9</li>\n",
       "</ol>\n"
      ],
      "text/latex": [
       "\\begin{enumerate*}\n",
       "\\item 2.3\n",
       "\\item 5.9\n",
       "\\end{enumerate*}\n"
      ],
      "text/markdown": [
       "1. 2.3\n",
       "2. 5.9\n",
       "\n",
       "\n"
      ],
      "text/plain": [
       "[1] 2.3 5.9"
      ]
     },
     "metadata": {},
     "output_type": "display_data"
    },
    {
     "data": {
      "text/html": [
       "'double'"
      ],
      "text/latex": [
       "'double'"
      ],
      "text/markdown": [
       "'double'"
      ],
      "text/plain": [
       "[1] \"double\""
      ]
     },
     "metadata": {},
     "output_type": "display_data"
    }
   ],
   "source": [
    "x[[4]]\n",
    "typeof(x[[4]])"
   ]
  },
  {
   "cell_type": "code",
   "execution_count": 107,
   "metadata": {
    "collapsed": false
   },
   "outputs": [
    {
     "data": {
      "text/html": [
       "<ol>\n",
       "\t<li><ol class=list-inline>\n",
       "\t<li>2.3</li>\n",
       "\t<li>5.9</li>\n",
       "</ol>\n",
       "</li>\n",
       "</ol>\n"
      ],
      "text/latex": [
       "\\begin{enumerate}\n",
       "\\item \\begin{enumerate*}\n",
       "\\item 2.3\n",
       "\\item 5.9\n",
       "\\end{enumerate*}\n",
       "\n",
       "\\end{enumerate}\n"
      ],
      "text/markdown": [
       "1. 1. 2.3\n",
       "2. 5.9\n",
       "\n",
       "\n",
       "\n",
       "\n",
       "\n"
      ],
      "text/plain": [
       "[[1]]\n",
       "[1] 2.3 5.9\n"
      ]
     },
     "metadata": {},
     "output_type": "display_data"
    },
    {
     "data": {
      "text/html": [
       "'list'"
      ],
      "text/latex": [
       "'list'"
      ],
      "text/markdown": [
       "'list'"
      ],
      "text/plain": [
       "[1] \"list\""
      ]
     },
     "metadata": {},
     "output_type": "display_data"
    }
   ],
   "source": [
    "x[4]\n",
    "typeof(x[4])"
   ]
  },
  {
   "cell_type": "code",
   "execution_count": 108,
   "metadata": {
    "collapsed": false,
    "scrolled": true
   },
   "outputs": [
    {
     "data": {
      "text/html": [
       "5.9"
      ],
      "text/latex": [
       "5.9"
      ],
      "text/markdown": [
       "5.9"
      ],
      "text/plain": [
       "[1] 5.9"
      ]
     },
     "metadata": {},
     "output_type": "display_data"
    },
    {
     "data": {
      "text/html": [
       "'double'"
      ],
      "text/latex": [
       "'double'"
      ],
      "text/markdown": [
       "'double'"
      ],
      "text/plain": [
       "[1] \"double\""
      ]
     },
     "metadata": {},
     "output_type": "display_data"
    }
   ],
   "source": [
    "x[[4]][2]\n",
    "typeof(x[[4]][2])"
   ]
  },
  {
   "cell_type": "code",
   "execution_count": 109,
   "metadata": {
    "collapsed": false,
    "scrolled": true
   },
   "outputs": [
    {
     "data": {
      "text/html": [
       "<ol>\n",
       "\t<li>'a'</li>\n",
       "\t<li><ol class=list-inline>\n",
       "\t<li>TRUE</li>\n",
       "\t<li>FALSE</li>\n",
       "\t<li>TRUE</li>\n",
       "</ol>\n",
       "</li>\n",
       "\t<li><ol class=list-inline>\n",
       "\t<li>2.3</li>\n",
       "\t<li>5.9</li>\n",
       "</ol>\n",
       "</li>\n",
       "</ol>\n"
      ],
      "text/latex": [
       "\\begin{enumerate}\n",
       "\\item 'a'\n",
       "\\item \\begin{enumerate*}\n",
       "\\item TRUE\n",
       "\\item FALSE\n",
       "\\item TRUE\n",
       "\\end{enumerate*}\n",
       "\n",
       "\\item \\begin{enumerate*}\n",
       "\\item 2.3\n",
       "\\item 5.9\n",
       "\\end{enumerate*}\n",
       "\n",
       "\\end{enumerate}\n"
      ],
      "text/markdown": [
       "1. 'a'\n",
       "2. 1. TRUE\n",
       "2. FALSE\n",
       "3. TRUE\n",
       "\n",
       "\n",
       "\n",
       "3. 1. 2.3\n",
       "2. 5.9\n",
       "\n",
       "\n",
       "\n",
       "\n",
       "\n"
      ],
      "text/plain": [
       "[[1]]\n",
       "[1] \"a\"\n",
       "\n",
       "[[2]]\n",
       "[1]  TRUE FALSE  TRUE\n",
       "\n",
       "[[3]]\n",
       "[1] 2.3 5.9\n"
      ]
     },
     "metadata": {},
     "output_type": "display_data"
    }
   ],
   "source": [
    "x[2:4]"
   ]
  },
  {
   "cell_type": "code",
   "execution_count": 110,
   "metadata": {
    "collapsed": false
   },
   "outputs": [
    {
     "data": {
      "text/html": [
       "<ol class=list-inline>\n",
       "\t<li>'name'</li>\n",
       "\t<li>'height'</li>\n",
       "\t<li>'married'</li>\n",
       "\t<li>'number.children'</li>\n",
       "\t<li>'email'</li>\n",
       "</ol>\n"
      ],
      "text/latex": [
       "\\begin{enumerate*}\n",
       "\\item 'name'\n",
       "\\item 'height'\n",
       "\\item 'married'\n",
       "\\item 'number.children'\n",
       "\\item 'email'\n",
       "\\end{enumerate*}\n"
      ],
      "text/markdown": [
       "1. 'name'\n",
       "2. 'height'\n",
       "3. 'married'\n",
       "4. 'number.children'\n",
       "5. 'email'\n",
       "\n",
       "\n"
      ],
      "text/plain": [
       "[1] \"name\"            \"height\"          \"married\"         \"number.children\"\n",
       "[5] \"email\"          "
      ]
     },
     "metadata": {},
     "output_type": "display_data"
    }
   ],
   "source": [
    "L <- list(name = \"Andrea\", height = 190.0, married = TRUE, number.children = 0, email = \"andrgig@me.com\")\n",
    "names(L)"
   ]
  },
  {
   "cell_type": "code",
   "execution_count": 111,
   "metadata": {
    "collapsed": false
   },
   "outputs": [
    {
     "data": {
      "text/html": [
       "'Andrea'"
      ],
      "text/latex": [
       "'Andrea'"
      ],
      "text/markdown": [
       "'Andrea'"
      ],
      "text/plain": [
       "[1] \"Andrea\""
      ]
     },
     "metadata": {},
     "output_type": "display_data"
    },
    {
     "data": {
      "text/html": [
       "'andrgig@me.com'"
      ],
      "text/latex": [
       "'andrgig@me.com'"
      ],
      "text/markdown": [
       "'andrgig@me.com'"
      ],
      "text/plain": [
       "[1] \"andrgig@me.com\""
      ]
     },
     "metadata": {},
     "output_type": "display_data"
    },
    {
     "data": {
      "text/html": [
       "TRUE"
      ],
      "text/latex": [
       "TRUE"
      ],
      "text/markdown": [
       "TRUE"
      ],
      "text/plain": [
       "[1] TRUE"
      ]
     },
     "metadata": {},
     "output_type": "display_data"
    },
    {
     "data": {
      "text/html": [
       "0"
      ],
      "text/latex": [
       "0"
      ],
      "text/markdown": [
       "0"
      ],
      "text/plain": [
       "[1] 0"
      ]
     },
     "metadata": {},
     "output_type": "display_data"
    }
   ],
   "source": [
    "L[[1]] ; L[[5]]\n",
    "L$married\n",
    "L$number.children "
   ]
  },
  {
   "cell_type": "code",
   "execution_count": 112,
   "metadata": {
    "collapsed": false
   },
   "outputs": [
    {
     "data": {
      "text/html": [
       "<dl>\n",
       "\t<dt>$name</dt>\n",
       "\t\t<dd>'Andrea'</dd>\n",
       "\t<dt>$height</dt>\n",
       "\t\t<dd>190</dd>\n",
       "\t<dt>$married</dt>\n",
       "\t\t<dd>TRUE</dd>\n",
       "\t<dt>$number.children</dt>\n",
       "\t\t<dd>1</dd>\n",
       "\t<dt>$email</dt>\n",
       "\t\t<dd>'andrgig@me.com'</dd>\n",
       "</dl>\n"
      ],
      "text/latex": [
       "\\begin{description}\n",
       "\\item[\\$name] 'Andrea'\n",
       "\\item[\\$height] 190\n",
       "\\item[\\$married] TRUE\n",
       "\\item[\\$number.children] 1\n",
       "\\item[\\$email] 'andrgig@me.com'\n",
       "\\end{description}\n"
      ],
      "text/markdown": [
       "$name\n",
       ":   'Andrea'\n",
       "$height\n",
       ":   190\n",
       "$married\n",
       ":   TRUE\n",
       "$number.children\n",
       ":   1\n",
       "$email\n",
       ":   'andrgig@me.com'\n",
       "\n",
       "\n"
      ],
      "text/plain": [
       "$name\n",
       "[1] \"Andrea\"\n",
       "\n",
       "$height\n",
       "[1] 190\n",
       "\n",
       "$married\n",
       "[1] TRUE\n",
       "\n",
       "$number.children\n",
       "[1] 1\n",
       "\n",
       "$email\n",
       "[1] \"andrgig@me.com\"\n"
      ]
     },
     "metadata": {},
     "output_type": "display_data"
    }
   ],
   "source": [
    "L$number.children <- 1\n",
    "L\n"
   ]
  },
  {
   "cell_type": "code",
   "execution_count": 113,
   "metadata": {
    "collapsed": false
   },
   "outputs": [
    {
     "data": {
      "text/html": [
       "<dl>\n",
       "\t<dt>$name</dt>\n",
       "\t\t<dd>'Andrea'</dd>\n",
       "\t<dt>$height</dt>\n",
       "\t\t<dd>190</dd>\n",
       "\t<dt>$married</dt>\n",
       "\t\t<dd>TRUE</dd>\n",
       "\t<dt>$number.children</dt>\n",
       "\t\t<dd>1</dd>\n",
       "\t<dt>$email</dt>\n",
       "\t\t<dd>'andrgig@me.com'</dd>\n",
       "\t<dt>$children.name</dt>\n",
       "\t\t<dd>'Arianna'</dd>\n",
       "</dl>\n"
      ],
      "text/latex": [
       "\\begin{description}\n",
       "\\item[\\$name] 'Andrea'\n",
       "\\item[\\$height] 190\n",
       "\\item[\\$married] TRUE\n",
       "\\item[\\$number.children] 1\n",
       "\\item[\\$email] 'andrgig@me.com'\n",
       "\\item[\\$children.name] 'Arianna'\n",
       "\\end{description}\n"
      ],
      "text/markdown": [
       "$name\n",
       ":   'Andrea'\n",
       "$height\n",
       ":   190\n",
       "$married\n",
       ":   TRUE\n",
       "$number.children\n",
       ":   1\n",
       "$email\n",
       ":   'andrgig@me.com'\n",
       "$children.name\n",
       ":   'Arianna'\n",
       "\n",
       "\n"
      ],
      "text/plain": [
       "$name\n",
       "[1] \"Andrea\"\n",
       "\n",
       "$height\n",
       "[1] 190\n",
       "\n",
       "$married\n",
       "[1] TRUE\n",
       "\n",
       "$number.children\n",
       "[1] 1\n",
       "\n",
       "$email\n",
       "[1] \"andrgig@me.com\"\n",
       "\n",
       "$children.name\n",
       "[1] \"Arianna\"\n"
      ]
     },
     "metadata": {},
     "output_type": "display_data"
    }
   ],
   "source": [
    "L<-append(L,list(children.name=c(\"Arianna\")))\n",
    "L"
   ]
  },
  {
   "cell_type": "code",
   "execution_count": 114,
   "metadata": {
    "collapsed": false
   },
   "outputs": [
    {
     "data": {
      "text/html": [
       "<ol>\n",
       "\t<li>1</li>\n",
       "\t<li>NULL</li>\n",
       "\t<li>NULL</li>\n",
       "\t<li>NULL</li>\n",
       "\t<li>NULL</li>\n",
       "\t<li>NULL</li>\n",
       "\t<li>NULL</li>\n",
       "\t<li>NULL</li>\n",
       "\t<li>NULL</li>\n",
       "\t<li>'pippo'</li>\n",
       "\t<li>'pluto'</li>\n",
       "\t<li>1</li>\n",
       "\t<li>2</li>\n",
       "\t<li>3</li>\n",
       "</ol>\n"
      ],
      "text/latex": [
       "\\begin{enumerate}\n",
       "\\item 1\n",
       "\\item NULL\n",
       "\\item NULL\n",
       "\\item NULL\n",
       "\\item NULL\n",
       "\\item NULL\n",
       "\\item NULL\n",
       "\\item NULL\n",
       "\\item NULL\n",
       "\\item 'pippo'\n",
       "\\item 'pluto'\n",
       "\\item 1\n",
       "\\item 2\n",
       "\\item 3\n",
       "\\end{enumerate}\n"
      ],
      "text/markdown": [
       "1. 1\n",
       "2. NULL\n",
       "3. NULL\n",
       "4. NULL\n",
       "5. NULL\n",
       "6. NULL\n",
       "7. NULL\n",
       "8. NULL\n",
       "9. NULL\n",
       "10. 'pippo'\n",
       "11. 'pluto'\n",
       "12. 1\n",
       "13. 2\n",
       "14. 3\n",
       "\n",
       "\n"
      ],
      "text/plain": [
       "[[1]]\n",
       "[1] 1\n",
       "\n",
       "[[2]]\n",
       "NULL\n",
       "\n",
       "[[3]]\n",
       "NULL\n",
       "\n",
       "[[4]]\n",
       "NULL\n",
       "\n",
       "[[5]]\n",
       "NULL\n",
       "\n",
       "[[6]]\n",
       "NULL\n",
       "\n",
       "[[7]]\n",
       "NULL\n",
       "\n",
       "[[8]]\n",
       "NULL\n",
       "\n",
       "[[9]]\n",
       "NULL\n",
       "\n",
       "[[10]]\n",
       "[1] \"pippo\"\n",
       "\n",
       "[[11]]\n",
       "[1] \"pluto\"\n",
       "\n",
       "[[12]]\n",
       "[1] 1\n",
       "\n",
       "[[13]]\n",
       "[1] 2\n",
       "\n",
       "[[14]]\n",
       "[1] 3\n"
      ]
     },
     "metadata": {},
     "output_type": "display_data"
    }
   ],
   "source": [
    "#lists\n",
    "l <- list()\n",
    "l[10] <- \"pippo\"\n",
    "l[1] <- 1\n",
    "l <- append(l, \"pluto\")\n",
    "l <- c(l, c(1, 2, 3))\n",
    "l"
   ]
  },
  {
   "cell_type": "markdown",
   "metadata": {},
   "source": [
    "Here are some useful functions"
   ]
  },
  {
   "cell_type": "markdown",
   "metadata": {},
   "source": [
    "`lapply()` # Apply a function to each element of a list, returns a list\n",
    "\n",
    "`sapply()` # Same as lapply(), but returns a vector or matrix by default\n",
    "\n",
    "`vapply()` # Similiar to sapply(), but has a pre-specified type of return value\n",
    "\n",
    "`replicate()` # Repeated evaluation of an expression, useful for replicating lists\n",
    "\n",
    "`unlist(x)` # Produce a vector of all the components that occur in x\n",
    "\n",
    "`length(x)` # Number of objects in x\n",
    "\n",
    "`names(x)` # Names of the objects in x"
   ]
  },
  {
   "cell_type": "code",
   "execution_count": 115,
   "metadata": {
    "collapsed": false
   },
   "outputs": [
    {
     "data": {
      "text/html": [
       "<ol>\n",
       "\t<li><ol class=list-inline>\n",
       "\t<li>1</li>\n",
       "\t<li>2</li>\n",
       "\t<li>3</li>\n",
       "</ol>\n",
       "</li>\n",
       "\t<li><ol class=list-inline>\n",
       "\t<li>1</li>\n",
       "\t<li>2</li>\n",
       "\t<li>3</li>\n",
       "\t<li>4</li>\n",
       "</ol>\n",
       "</li>\n",
       "\t<li><ol class=list-inline>\n",
       "\t<li>1</li>\n",
       "\t<li>2</li>\n",
       "\t<li>3</li>\n",
       "\t<li>4</li>\n",
       "\t<li>5</li>\n",
       "</ol>\n",
       "</li>\n",
       "\t<li><ol class=list-inline>\n",
       "\t<li>1</li>\n",
       "\t<li>2</li>\n",
       "\t<li>3</li>\n",
       "\t<li>4</li>\n",
       "\t<li>5</li>\n",
       "\t<li>6</li>\n",
       "</ol>\n",
       "</li>\n",
       "\t<li><ol class=list-inline>\n",
       "\t<li>1</li>\n",
       "\t<li>2</li>\n",
       "\t<li>3</li>\n",
       "\t<li>4</li>\n",
       "\t<li>5</li>\n",
       "\t<li>6</li>\n",
       "\t<li>7</li>\n",
       "</ol>\n",
       "</li>\n",
       "\t<li><ol class=list-inline>\n",
       "\t<li>1</li>\n",
       "\t<li>2</li>\n",
       "\t<li>3</li>\n",
       "\t<li>4</li>\n",
       "\t<li>5</li>\n",
       "\t<li>6</li>\n",
       "\t<li>7</li>\n",
       "\t<li>8</li>\n",
       "</ol>\n",
       "</li>\n",
       "\t<li><ol class=list-inline>\n",
       "\t<li>1</li>\n",
       "\t<li>2</li>\n",
       "\t<li>3</li>\n",
       "\t<li>4</li>\n",
       "\t<li>5</li>\n",
       "\t<li>6</li>\n",
       "\t<li>7</li>\n",
       "\t<li>8</li>\n",
       "\t<li>9</li>\n",
       "</ol>\n",
       "</li>\n",
       "</ol>\n"
      ],
      "text/latex": [
       "\\begin{enumerate}\n",
       "\\item \\begin{enumerate*}\n",
       "\\item 1\n",
       "\\item 2\n",
       "\\item 3\n",
       "\\end{enumerate*}\n",
       "\n",
       "\\item \\begin{enumerate*}\n",
       "\\item 1\n",
       "\\item 2\n",
       "\\item 3\n",
       "\\item 4\n",
       "\\end{enumerate*}\n",
       "\n",
       "\\item \\begin{enumerate*}\n",
       "\\item 1\n",
       "\\item 2\n",
       "\\item 3\n",
       "\\item 4\n",
       "\\item 5\n",
       "\\end{enumerate*}\n",
       "\n",
       "\\item \\begin{enumerate*}\n",
       "\\item 1\n",
       "\\item 2\n",
       "\\item 3\n",
       "\\item 4\n",
       "\\item 5\n",
       "\\item 6\n",
       "\\end{enumerate*}\n",
       "\n",
       "\\item \\begin{enumerate*}\n",
       "\\item 1\n",
       "\\item 2\n",
       "\\item 3\n",
       "\\item 4\n",
       "\\item 5\n",
       "\\item 6\n",
       "\\item 7\n",
       "\\end{enumerate*}\n",
       "\n",
       "\\item \\begin{enumerate*}\n",
       "\\item 1\n",
       "\\item 2\n",
       "\\item 3\n",
       "\\item 4\n",
       "\\item 5\n",
       "\\item 6\n",
       "\\item 7\n",
       "\\item 8\n",
       "\\end{enumerate*}\n",
       "\n",
       "\\item \\begin{enumerate*}\n",
       "\\item 1\n",
       "\\item 2\n",
       "\\item 3\n",
       "\\item 4\n",
       "\\item 5\n",
       "\\item 6\n",
       "\\item 7\n",
       "\\item 8\n",
       "\\item 9\n",
       "\\end{enumerate*}\n",
       "\n",
       "\\end{enumerate}\n"
      ],
      "text/markdown": [
       "1. 1. 1\n",
       "2. 2\n",
       "3. 3\n",
       "\n",
       "\n",
       "\n",
       "2. 1. 1\n",
       "2. 2\n",
       "3. 3\n",
       "4. 4\n",
       "\n",
       "\n",
       "\n",
       "3. 1. 1\n",
       "2. 2\n",
       "3. 3\n",
       "4. 4\n",
       "5. 5\n",
       "\n",
       "\n",
       "\n",
       "4. 1. 1\n",
       "2. 2\n",
       "3. 3\n",
       "4. 4\n",
       "5. 5\n",
       "6. 6\n",
       "\n",
       "\n",
       "\n",
       "5. 1. 1\n",
       "2. 2\n",
       "3. 3\n",
       "4. 4\n",
       "5. 5\n",
       "6. 6\n",
       "7. 7\n",
       "\n",
       "\n",
       "\n",
       "6. 1. 1\n",
       "2. 2\n",
       "3. 3\n",
       "4. 4\n",
       "5. 5\n",
       "6. 6\n",
       "7. 7\n",
       "8. 8\n",
       "\n",
       "\n",
       "\n",
       "7. 1. 1\n",
       "2. 2\n",
       "3. 3\n",
       "4. 4\n",
       "5. 5\n",
       "6. 6\n",
       "7. 7\n",
       "8. 8\n",
       "9. 9\n",
       "\n",
       "\n",
       "\n",
       "\n",
       "\n"
      ],
      "text/plain": [
       "[[1]]\n",
       "[1] 1 2 3\n",
       "\n",
       "[[2]]\n",
       "[1] 1 2 3 4\n",
       "\n",
       "[[3]]\n",
       "[1] 1 2 3 4 5\n",
       "\n",
       "[[4]]\n",
       "[1] 1 2 3 4 5 6\n",
       "\n",
       "[[5]]\n",
       "[1] 1 2 3 4 5 6 7\n",
       "\n",
       "[[6]]\n",
       "[1] 1 2 3 4 5 6 7 8\n",
       "\n",
       "[[7]]\n",
       "[1] 1 2 3 4 5 6 7 8 9\n"
      ]
     },
     "metadata": {},
     "output_type": "display_data"
    }
   ],
   "source": [
    "#List of seven different vectors\n",
    "L <- lapply(3:9, seq)\n",
    "L"
   ]
  },
  {
   "cell_type": "code",
   "execution_count": 116,
   "metadata": {
    "collapsed": false
   },
   "outputs": [
    {
     "data": {
      "text/html": [
       "<ol>\n",
       "\t<li><ol class=list-inline>\n",
       "\t<li>1</li>\n",
       "\t<li>1.5</li>\n",
       "\t<li>2</li>\n",
       "\t<li>2.5</li>\n",
       "\t<li>3</li>\n",
       "</ol>\n",
       "</li>\n",
       "\t<li><ol class=list-inline>\n",
       "\t<li>1</li>\n",
       "\t<li>1.5</li>\n",
       "\t<li>2.5</li>\n",
       "\t<li>3.5</li>\n",
       "\t<li>4</li>\n",
       "</ol>\n",
       "</li>\n",
       "\t<li><ol class=list-inline>\n",
       "\t<li>1</li>\n",
       "\t<li>2</li>\n",
       "\t<li>3</li>\n",
       "\t<li>4</li>\n",
       "\t<li>5</li>\n",
       "</ol>\n",
       "</li>\n",
       "\t<li><ol class=list-inline>\n",
       "\t<li>1</li>\n",
       "\t<li>2</li>\n",
       "\t<li>3.5</li>\n",
       "\t<li>5</li>\n",
       "\t<li>6</li>\n",
       "</ol>\n",
       "</li>\n",
       "\t<li><ol class=list-inline>\n",
       "\t<li>1</li>\n",
       "\t<li>2.5</li>\n",
       "\t<li>4</li>\n",
       "\t<li>5.5</li>\n",
       "\t<li>7</li>\n",
       "</ol>\n",
       "</li>\n",
       "\t<li><ol class=list-inline>\n",
       "\t<li>1</li>\n",
       "\t<li>2.5</li>\n",
       "\t<li>4.5</li>\n",
       "\t<li>6.5</li>\n",
       "\t<li>8</li>\n",
       "</ol>\n",
       "</li>\n",
       "\t<li><ol class=list-inline>\n",
       "\t<li>1</li>\n",
       "\t<li>3</li>\n",
       "\t<li>5</li>\n",
       "\t<li>7</li>\n",
       "\t<li>9</li>\n",
       "</ol>\n",
       "</li>\n",
       "</ol>\n"
      ],
      "text/latex": [
       "\\begin{enumerate}\n",
       "\\item \\begin{enumerate*}\n",
       "\\item 1\n",
       "\\item 1.5\n",
       "\\item 2\n",
       "\\item 2.5\n",
       "\\item 3\n",
       "\\end{enumerate*}\n",
       "\n",
       "\\item \\begin{enumerate*}\n",
       "\\item 1\n",
       "\\item 1.5\n",
       "\\item 2.5\n",
       "\\item 3.5\n",
       "\\item 4\n",
       "\\end{enumerate*}\n",
       "\n",
       "\\item \\begin{enumerate*}\n",
       "\\item 1\n",
       "\\item 2\n",
       "\\item 3\n",
       "\\item 4\n",
       "\\item 5\n",
       "\\end{enumerate*}\n",
       "\n",
       "\\item \\begin{enumerate*}\n",
       "\\item 1\n",
       "\\item 2\n",
       "\\item 3.5\n",
       "\\item 5\n",
       "\\item 6\n",
       "\\end{enumerate*}\n",
       "\n",
       "\\item \\begin{enumerate*}\n",
       "\\item 1\n",
       "\\item 2.5\n",
       "\\item 4\n",
       "\\item 5.5\n",
       "\\item 7\n",
       "\\end{enumerate*}\n",
       "\n",
       "\\item \\begin{enumerate*}\n",
       "\\item 1\n",
       "\\item 2.5\n",
       "\\item 4.5\n",
       "\\item 6.5\n",
       "\\item 8\n",
       "\\end{enumerate*}\n",
       "\n",
       "\\item \\begin{enumerate*}\n",
       "\\item 1\n",
       "\\item 3\n",
       "\\item 5\n",
       "\\item 7\n",
       "\\item 9\n",
       "\\end{enumerate*}\n",
       "\n",
       "\\end{enumerate}\n"
      ],
      "text/markdown": [
       "1. 1. 1\n",
       "2. 1.5\n",
       "3. 2\n",
       "4. 2.5\n",
       "5. 3\n",
       "\n",
       "\n",
       "\n",
       "2. 1. 1\n",
       "2. 1.5\n",
       "3. 2.5\n",
       "4. 3.5\n",
       "5. 4\n",
       "\n",
       "\n",
       "\n",
       "3. 1. 1\n",
       "2. 2\n",
       "3. 3\n",
       "4. 4\n",
       "5. 5\n",
       "\n",
       "\n",
       "\n",
       "4. 1. 1\n",
       "2. 2\n",
       "3. 3.5\n",
       "4. 5\n",
       "5. 6\n",
       "\n",
       "\n",
       "\n",
       "5. 1. 1\n",
       "2. 2.5\n",
       "3. 4\n",
       "4. 5.5\n",
       "5. 7\n",
       "\n",
       "\n",
       "\n",
       "6. 1. 1\n",
       "2. 2.5\n",
       "3. 4.5\n",
       "4. 6.5\n",
       "5. 8\n",
       "\n",
       "\n",
       "\n",
       "7. 1. 1\n",
       "2. 3\n",
       "3. 5\n",
       "4. 7\n",
       "5. 9\n",
       "\n",
       "\n",
       "\n",
       "\n",
       "\n"
      ],
      "text/plain": [
       "[[1]]\n",
       "[1] 1.0 1.5 2.0 2.5 3.0\n",
       "\n",
       "[[2]]\n",
       "[1] 1.0 1.5 2.5 3.5 4.0\n",
       "\n",
       "[[3]]\n",
       "[1] 1 2 3 4 5\n",
       "\n",
       "[[4]]\n",
       "[1] 1.0 2.0 3.5 5.0 6.0\n",
       "\n",
       "[[5]]\n",
       "[1] 1.0 2.5 4.0 5.5 7.0\n",
       "\n",
       "[[6]]\n",
       "[1] 1.0 2.5 4.5 6.5 8.0\n",
       "\n",
       "[[7]]\n",
       "[1] 1 3 5 7 9\n"
      ]
     },
     "metadata": {},
     "output_type": "display_data"
    }
   ],
   "source": [
    "lapply(L, fivenum) # fivenum returns minimum, lower-hinge, median, upper-hinge, maximum for input data"
   ]
  },
  {
   "cell_type": "code",
   "execution_count": 117,
   "metadata": {
    "collapsed": false
   },
   "outputs": [
    {
     "data": {
      "text/html": [
       "<table>\n",
       "<tbody>\n",
       "\t<tr><td>1.0</td><td>1.0</td><td>1  </td><td>1.0</td><td>1.0</td><td>1.0</td><td>1  </td></tr>\n",
       "\t<tr><td>1.5</td><td>1.5</td><td>2  </td><td>2.0</td><td>2.5</td><td>2.5</td><td>3  </td></tr>\n",
       "\t<tr><td>2.0</td><td>2.5</td><td>3  </td><td>3.5</td><td>4.0</td><td>4.5</td><td>5  </td></tr>\n",
       "\t<tr><td>2.5</td><td>3.5</td><td>4  </td><td>5.0</td><td>5.5</td><td>6.5</td><td>7  </td></tr>\n",
       "\t<tr><td>3.0</td><td>4.0</td><td>5  </td><td>6.0</td><td>7.0</td><td>8.0</td><td>9  </td></tr>\n",
       "</tbody>\n",
       "</table>\n"
      ],
      "text/latex": [
       "\\begin{tabular}{lllllll}\n",
       "\t 1.0 & 1.0 & 1   & 1.0 & 1.0 & 1.0 & 1  \\\\\n",
       "\t 1.5 & 1.5 & 2   & 2.0 & 2.5 & 2.5 & 3  \\\\\n",
       "\t 2.0 & 2.5 & 3   & 3.5 & 4.0 & 4.5 & 5  \\\\\n",
       "\t 2.5 & 3.5 & 4   & 5.0 & 5.5 & 6.5 & 7  \\\\\n",
       "\t 3.0 & 4.0 & 5   & 6.0 & 7.0 & 8.0 & 9  \\\\\n",
       "\\end{tabular}\n"
      ],
      "text/markdown": [
       "\n",
       "| 1.0 | 1.0 | 1   | 1.0 | 1.0 | 1.0 | 1   | \n",
       "| 1.5 | 1.5 | 2   | 2.0 | 2.5 | 2.5 | 3   | \n",
       "| 2.0 | 2.5 | 3   | 3.5 | 4.0 | 4.5 | 5   | \n",
       "| 2.5 | 3.5 | 4   | 5.0 | 5.5 | 6.5 | 7   | \n",
       "| 3.0 | 4.0 | 5   | 6.0 | 7.0 | 8.0 | 9   | \n",
       "\n",
       "\n"
      ],
      "text/plain": [
       "     [,1] [,2] [,3] [,4] [,5] [,6] [,7]\n",
       "[1,] 1.0  1.0  1    1.0  1.0  1.0  1   \n",
       "[2,] 1.5  1.5  2    2.0  2.5  2.5  3   \n",
       "[3,] 2.0  2.5  3    3.5  4.0  4.5  5   \n",
       "[4,] 2.5  3.5  4    5.0  5.5  6.5  7   \n",
       "[5,] 3.0  4.0  5    6.0  7.0  8.0  9   "
      ]
     },
     "metadata": {},
     "output_type": "display_data"
    }
   ],
   "source": [
    "sapply(L, fivenum) #return a matrix"
   ]
  },
  {
   "cell_type": "code",
   "execution_count": 118,
   "metadata": {
    "collapsed": false
   },
   "outputs": [
    {
     "data": {
      "text/html": [
       "<table>\n",
       "<tbody>\n",
       "\t<tr><th scope=row>Min.</th><td>1.0</td><td>1.0</td><td>1  </td><td>1.0</td><td>1.0</td><td>1.0</td><td>1  </td></tr>\n",
       "\t<tr><th scope=row>1st Quart</th><td>1.5</td><td>1.5</td><td>2  </td><td>2.0</td><td>2.5</td><td>2.5</td><td>3  </td></tr>\n",
       "\t<tr><th scope=row>Median</th><td>2.0</td><td>2.5</td><td>3  </td><td>3.5</td><td>4.0</td><td>4.5</td><td>5  </td></tr>\n",
       "\t<tr><th scope=row>3rd Qu</th><td>2.5</td><td>3.5</td><td>4  </td><td>5.0</td><td>5.5</td><td>6.5</td><td>7  </td></tr>\n",
       "\t<tr><th scope=row>Max.</th><td>3.0</td><td>4.0</td><td>5  </td><td>6.0</td><td>7.0</td><td>8.0</td><td>9  </td></tr>\n",
       "</tbody>\n",
       "</table>\n"
      ],
      "text/latex": [
       "\\begin{tabular}{r|lllllll}\n",
       "\tMin. & 1.0 & 1.0 & 1   & 1.0 & 1.0 & 1.0 & 1  \\\\\n",
       "\t1st Quart & 1.5 & 1.5 & 2   & 2.0 & 2.5 & 2.5 & 3  \\\\\n",
       "\tMedian & 2.0 & 2.5 & 3   & 3.5 & 4.0 & 4.5 & 5  \\\\\n",
       "\t3rd Qu & 2.5 & 3.5 & 4   & 5.0 & 5.5 & 6.5 & 7  \\\\\n",
       "\tMax. & 3.0 & 4.0 & 5   & 6.0 & 7.0 & 8.0 & 9  \\\\\n",
       "\\end{tabular}\n"
      ],
      "text/markdown": [
       "\n",
       "| Min. | 1.0 | 1.0 | 1   | 1.0 | 1.0 | 1.0 | 1   | \n",
       "| 1st Quart | 1.5 | 1.5 | 2   | 2.0 | 2.5 | 2.5 | 3   | \n",
       "| Median | 2.0 | 2.5 | 3   | 3.5 | 4.0 | 4.5 | 5   | \n",
       "| 3rd Qu | 2.5 | 3.5 | 4   | 5.0 | 5.5 | 6.5 | 7   | \n",
       "| Max. | 3.0 | 4.0 | 5   | 6.0 | 7.0 | 8.0 | 9   | \n",
       "\n",
       "\n"
      ],
      "text/plain": [
       "          [,1] [,2] [,3] [,4] [,5] [,6] [,7]\n",
       "Min.      1.0  1.0  1    1.0  1.0  1.0  1   \n",
       "1st Quart 1.5  1.5  2    2.0  2.5  2.5  3   \n",
       "Median    2.0  2.5  3    3.5  4.0  4.5  5   \n",
       "3rd Qu    2.5  3.5  4    5.0  5.5  6.5  7   \n",
       "Max.      3.0  4.0  5    6.0  7.0  8.0  9   "
      ]
     },
     "metadata": {},
     "output_type": "display_data"
    }
   ],
   "source": [
    "vapply(L, fivenum, c(Min.=0, \"1st Quart\"=0, Median=0, \"3rd Qu\"=0, Max.=0))"
   ]
  },
  {
   "cell_type": "markdown",
   "metadata": {},
   "source": [
    "## Matrices \n",
    "\n",
    "A matrix is just a **two-dimensional generalization of a vector**\n",
    "\n",
    "To create a matrix,\n",
    "\n",
    "`matrix(data=NA, nrow=1, ncol=1, byrow = FALSE, dimnames = NULL)`\n",
    "\n",
    "data -> a vector that gives data to fill the matrix; if data does not have enough elements to fill the matrix, then the elements are recycled.\n",
    "\n",
    "nrow -> desired number of rows\n",
    "\n",
    "ncol -> desired number of columns\n",
    "\n",
    "byrow -> if FALSE (default) matrix is filled by columns, otherwise by rows\n",
    "\n",
    "dimnames (optional) ->list of length 2 giving the row and column names respectively, list names will be used as names for the dimensions"
   ]
  },
  {
   "cell_type": "code",
   "execution_count": 119,
   "metadata": {
    "collapsed": false
   },
   "outputs": [
    {
     "data": {
      "text/html": [
       "<table>\n",
       "<tbody>\n",
       "\t<tr><td>1</td><td>3</td><td>5</td></tr>\n",
       "\t<tr><td>2</td><td>4</td><td>6</td></tr>\n",
       "</tbody>\n",
       "</table>\n"
      ],
      "text/latex": [
       "\\begin{tabular}{lll}\n",
       "\t 1 & 3 & 5\\\\\n",
       "\t 2 & 4 & 6\\\\\n",
       "\\end{tabular}\n"
      ],
      "text/markdown": [
       "\n",
       "| 1 | 3 | 5 | \n",
       "| 2 | 4 | 6 | \n",
       "\n",
       "\n"
      ],
      "text/plain": [
       "     [,1] [,2] [,3]\n",
       "[1,] 1    3    5   \n",
       "[2,] 2    4    6   "
      ]
     },
     "metadata": {},
     "output_type": "display_data"
    }
   ],
   "source": [
    "# Matrix definition requires 2 scalar arguments to specify rows and columns\n",
    "a <- matrix(1:6, ncol = 3, nrow = 2)\n",
    "a"
   ]
  },
  {
   "cell_type": "code",
   "execution_count": 120,
   "metadata": {
    "collapsed": false,
    "scrolled": true
   },
   "outputs": [
    {
     "data": {
      "text/html": [
       "<table>\n",
       "<tbody>\n",
       "\t<tr><td>1 </td><td> 6</td></tr>\n",
       "\t<tr><td>2 </td><td> 7</td></tr>\n",
       "\t<tr><td>3 </td><td> 8</td></tr>\n",
       "\t<tr><td>4 </td><td> 9</td></tr>\n",
       "\t<tr><td>5 </td><td>10</td></tr>\n",
       "</tbody>\n",
       "</table>\n"
      ],
      "text/latex": [
       "\\begin{tabular}{ll}\n",
       "\t 1  &  6\\\\\n",
       "\t 2  &  7\\\\\n",
       "\t 3  &  8\\\\\n",
       "\t 4  &  9\\\\\n",
       "\t 5  & 10\\\\\n",
       "\\end{tabular}\n"
      ],
      "text/markdown": [
       "\n",
       "| 1  |  6 | \n",
       "| 2  |  7 | \n",
       "| 3  |  8 | \n",
       "| 4  |  9 | \n",
       "| 5  | 10 | \n",
       "\n",
       "\n"
      ],
      "text/plain": [
       "     [,1] [,2]\n",
       "[1,] 1     6  \n",
       "[2,] 2     7  \n",
       "[3,] 3     8  \n",
       "[4,] 4     9  \n",
       "[5,] 5    10  "
      ]
     },
     "metadata": {},
     "output_type": "display_data"
    }
   ],
   "source": [
    "#or just one of them\n",
    "m <- matrix(c(1,2,3,4,5,6,7,8,9,10), ncol = 2) # a matrix is a 2D array\n",
    "m"
   ]
  },
  {
   "cell_type": "code",
   "execution_count": 121,
   "metadata": {
    "collapsed": false,
    "scrolled": true
   },
   "outputs": [
    {
     "data": {
      "text/html": [
       "<ol class=list-inline>\n",
       "\t<li>5</li>\n",
       "\t<li>2</li>\n",
       "</ol>\n"
      ],
      "text/latex": [
       "\\begin{enumerate*}\n",
       "\\item 5\n",
       "\\item 2\n",
       "\\end{enumerate*}\n"
      ],
      "text/markdown": [
       "1. 5\n",
       "2. 2\n",
       "\n",
       "\n"
      ],
      "text/plain": [
       "[1] 5 2"
      ]
     },
     "metadata": {},
     "output_type": "display_data"
    }
   ],
   "source": [
    "dim(m)"
   ]
  },
  {
   "cell_type": "code",
   "execution_count": 122,
   "metadata": {
    "collapsed": false
   },
   "outputs": [
    {
     "data": {
      "text/html": [
       "<ol class=list-inline>\n",
       "\t<li>1</li>\n",
       "\t<li>2</li>\n",
       "\t<li>3</li>\n",
       "\t<li>4</li>\n",
       "\t<li>5</li>\n",
       "\t<li>6</li>\n",
       "\t<li>7</li>\n",
       "\t<li>8</li>\n",
       "\t<li>9</li>\n",
       "\t<li>10</li>\n",
       "\t<li>11</li>\n",
       "\t<li>12</li>\n",
       "\t<li>13</li>\n",
       "\t<li>14</li>\n",
       "\t<li>15</li>\n",
       "</ol>\n"
      ],
      "text/latex": [
       "\\begin{enumerate*}\n",
       "\\item 1\n",
       "\\item 2\n",
       "\\item 3\n",
       "\\item 4\n",
       "\\item 5\n",
       "\\item 6\n",
       "\\item 7\n",
       "\\item 8\n",
       "\\item 9\n",
       "\\item 10\n",
       "\\item 11\n",
       "\\item 12\n",
       "\\item 13\n",
       "\\item 14\n",
       "\\item 15\n",
       "\\end{enumerate*}\n"
      ],
      "text/markdown": [
       "1. 1\n",
       "2. 2\n",
       "3. 3\n",
       "4. 4\n",
       "5. 5\n",
       "6. 6\n",
       "7. 7\n",
       "8. 8\n",
       "9. 9\n",
       "10. 10\n",
       "11. 11\n",
       "12. 12\n",
       "13. 13\n",
       "14. 14\n",
       "15. 15\n",
       "\n",
       "\n"
      ],
      "text/plain": [
       " [1]  1  2  3  4  5  6  7  8  9 10 11 12 13 14 15"
      ]
     },
     "metadata": {},
     "output_type": "display_data"
    },
    {
     "data": {
      "text/html": [
       "<table>\n",
       "<tbody>\n",
       "\t<tr><td>1 </td><td>4 </td><td>7 </td><td>10</td><td>13</td></tr>\n",
       "\t<tr><td>2 </td><td>5 </td><td>8 </td><td>11</td><td>14</td></tr>\n",
       "\t<tr><td>3 </td><td>6 </td><td>9 </td><td>12</td><td>15</td></tr>\n",
       "</tbody>\n",
       "</table>\n"
      ],
      "text/latex": [
       "\\begin{tabular}{lllll}\n",
       "\t 1  & 4  & 7  & 10 & 13\\\\\n",
       "\t 2  & 5  & 8  & 11 & 14\\\\\n",
       "\t 3  & 6  & 9  & 12 & 15\\\\\n",
       "\\end{tabular}\n"
      ],
      "text/markdown": [
       "\n",
       "| 1  | 4  | 7  | 10 | 13 | \n",
       "| 2  | 5  | 8  | 11 | 14 | \n",
       "| 3  | 6  | 9  | 12 | 15 | \n",
       "\n",
       "\n"
      ],
      "text/plain": [
       "     [,1] [,2] [,3] [,4] [,5]\n",
       "[1,] 1    4    7    10   13  \n",
       "[2,] 2    5    8    11   14  \n",
       "[3,] 3    6    9    12   15  "
      ]
     },
     "metadata": {},
     "output_type": "display_data"
    },
    {
     "data": {
      "text/html": [
       "<table>\n",
       "<tbody>\n",
       "\t<tr><td>1 </td><td> 6</td><td>11</td></tr>\n",
       "\t<tr><td>2 </td><td> 7</td><td>12</td></tr>\n",
       "\t<tr><td>3 </td><td> 8</td><td>13</td></tr>\n",
       "\t<tr><td>4 </td><td> 9</td><td>14</td></tr>\n",
       "\t<tr><td>5 </td><td>10</td><td>15</td></tr>\n",
       "</tbody>\n",
       "</table>\n"
      ],
      "text/latex": [
       "\\begin{tabular}{lll}\n",
       "\t 1  &  6 & 11\\\\\n",
       "\t 2  &  7 & 12\\\\\n",
       "\t 3  &  8 & 13\\\\\n",
       "\t 4  &  9 & 14\\\\\n",
       "\t 5  & 10 & 15\\\\\n",
       "\\end{tabular}\n"
      ],
      "text/markdown": [
       "\n",
       "| 1  |  6 | 11 | \n",
       "| 2  |  7 | 12 | \n",
       "| 3  |  8 | 13 | \n",
       "| 4  |  9 | 14 | \n",
       "| 5  | 10 | 15 | \n",
       "\n",
       "\n"
      ],
      "text/plain": [
       "     [,1] [,2] [,3]\n",
       "[1,] 1     6   11  \n",
       "[2,] 2     7   12  \n",
       "[3,] 3     8   13  \n",
       "[4,] 4     9   14  \n",
       "[5,] 5    10   15  "
      ]
     },
     "metadata": {},
     "output_type": "display_data"
    }
   ],
   "source": [
    "x <- 1:15\n",
    "x\n",
    "dim(x) <- c(3,5) #converte x in matrice 3x5\n",
    "x\n",
    "dim(x) <- c(5,3)\n",
    "x"
   ]
  },
  {
   "cell_type": "code",
   "execution_count": 123,
   "metadata": {
    "collapsed": false,
    "scrolled": true
   },
   "outputs": [
    {
     "data": {
      "text/html": [
       "2"
      ],
      "text/latex": [
       "2"
      ],
      "text/markdown": [
       "2"
      ],
      "text/plain": [
       "[1] 2"
      ]
     },
     "metadata": {},
     "output_type": "display_data"
    },
    {
     "data": {
      "text/html": [
       "5"
      ],
      "text/latex": [
       "5"
      ],
      "text/markdown": [
       "5"
      ],
      "text/plain": [
       "[1] 5"
      ]
     },
     "metadata": {},
     "output_type": "display_data"
    }
   ],
   "source": [
    "#get dimensions\n",
    "ncol(m); nrow(m)"
   ]
  },
  {
   "cell_type": "markdown",
   "metadata": {},
   "source": [
    "We can also reference parts of a matrix by using the row or column names"
   ]
  },
  {
   "cell_type": "code",
   "execution_count": 124,
   "metadata": {
    "collapsed": false
   },
   "outputs": [
    {
     "data": {
      "text/html": [
       "<table>\n",
       "<thead><tr><th scope=col>c.1</th><th scope=col>c.2</th><th scope=col>c.3</th></tr></thead>\n",
       "<tbody>\n",
       "\t<tr><td>5</td><td>8</td><td>3</td></tr>\n",
       "\t<tr><td>0</td><td>4</td><td>1</td></tr>\n",
       "</tbody>\n",
       "</table>\n"
      ],
      "text/latex": [
       "\\begin{tabular}{lll}\n",
       " c.1 & c.2 & c.3\\\\\n",
       "\\hline\n",
       "\t 5 & 8 & 3\\\\\n",
       "\t 0 & 4 & 1\\\\\n",
       "\\end{tabular}\n"
      ],
      "text/markdown": [
       "\n",
       "c.1 | c.2 | c.3 | \n",
       "|---|---|\n",
       "| 5 | 8 | 3 | \n",
       "| 0 | 4 | 1 | \n",
       "\n",
       "\n"
      ],
      "text/plain": [
       "     c.1 c.2 c.3\n",
       "[1,] 5   8   3  \n",
       "[2,] 0   4   1  "
      ]
     },
     "metadata": {},
     "output_type": "display_data"
    }
   ],
   "source": [
    "N <- matrix(c(5,8,3,0,4,1), nrow=2, ncol=3, byrow=TRUE)\n",
    "colnames(N) <- c(\"c.1\", \"c.2\", \"c.3\")\n",
    "N"
   ]
  },
  {
   "cell_type": "markdown",
   "metadata": {},
   "source": [
    "Here are some matrix operations you can try"
   ]
  },
  {
   "cell_type": "code",
   "execution_count": 125,
   "metadata": {
    "collapsed": false,
    "scrolled": true
   },
   "outputs": [
    {
     "data": {
      "text/html": [
       "<table>\n",
       "<tbody>\n",
       "\t<tr><td>1 </td><td>2 </td><td>3 </td><td>4 </td><td> 5</td></tr>\n",
       "\t<tr><td>6 </td><td>7 </td><td>8 </td><td>9 </td><td>10</td></tr>\n",
       "</tbody>\n",
       "</table>\n"
      ],
      "text/latex": [
       "\\begin{tabular}{lllll}\n",
       "\t 1  & 2  & 3  & 4  &  5\\\\\n",
       "\t 6  & 7  & 8  & 9  & 10\\\\\n",
       "\\end{tabular}\n"
      ],
      "text/markdown": [
       "\n",
       "| 1  | 2  | 3  | 4  |  5 | \n",
       "| 6  | 7  | 8  | 9  | 10 | \n",
       "\n",
       "\n"
      ],
      "text/plain": [
       "     [,1] [,2] [,3] [,4] [,5]\n",
       "[1,] 1    2    3    4     5  \n",
       "[2,] 6    7    8    9    10  "
      ]
     },
     "metadata": {},
     "output_type": "display_data"
    },
    {
     "data": {
      "text/html": [
       "<table>\n",
       "<tbody>\n",
       "\t<tr><td>1.4 </td><td> 8.4</td></tr>\n",
       "\t<tr><td>2.8 </td><td> 9.8</td></tr>\n",
       "\t<tr><td>4.2 </td><td>11.2</td></tr>\n",
       "\t<tr><td>5.6 </td><td>12.6</td></tr>\n",
       "\t<tr><td>7.0 </td><td>14.0</td></tr>\n",
       "</tbody>\n",
       "</table>\n"
      ],
      "text/latex": [
       "\\begin{tabular}{ll}\n",
       "\t 1.4  &  8.4\\\\\n",
       "\t 2.8  &  9.8\\\\\n",
       "\t 4.2  & 11.2\\\\\n",
       "\t 5.6  & 12.6\\\\\n",
       "\t 7.0  & 14.0\\\\\n",
       "\\end{tabular}\n"
      ],
      "text/markdown": [
       "\n",
       "| 1.4  |  8.4 | \n",
       "| 2.8  |  9.8 | \n",
       "| 4.2  | 11.2 | \n",
       "| 5.6  | 12.6 | \n",
       "| 7.0  | 14.0 | \n",
       "\n",
       "\n"
      ],
      "text/plain": [
       "     [,1] [,2]\n",
       "[1,] 1.4   8.4\n",
       "[2,] 2.8   9.8\n",
       "[3,] 4.2  11.2\n",
       "[4,] 5.6  12.6\n",
       "[5,] 7.0  14.0"
      ]
     },
     "metadata": {},
     "output_type": "display_data"
    },
    {
     "data": {
      "text/html": [
       "<table>\n",
       "<tbody>\n",
       "\t<tr><td> 0.4</td><td>14.4</td></tr>\n",
       "\t<tr><td> 1.6</td><td>19.6</td></tr>\n",
       "\t<tr><td> 3.6</td><td>25.6</td></tr>\n",
       "\t<tr><td> 6.4</td><td>32.4</td></tr>\n",
       "\t<tr><td>10.0</td><td>40.0</td></tr>\n",
       "</tbody>\n",
       "</table>\n"
      ],
      "text/latex": [
       "\\begin{tabular}{ll}\n",
       "\t  0.4 & 14.4\\\\\n",
       "\t  1.6 & 19.6\\\\\n",
       "\t  3.6 & 25.6\\\\\n",
       "\t  6.4 & 32.4\\\\\n",
       "\t 10.0 & 40.0\\\\\n",
       "\\end{tabular}\n"
      ],
      "text/markdown": [
       "\n",
       "|  0.4 | 14.4 | \n",
       "|  1.6 | 19.6 | \n",
       "|  3.6 | 25.6 | \n",
       "|  6.4 | 32.4 | \n",
       "| 10.0 | 40.0 | \n",
       "\n",
       "\n"
      ],
      "text/plain": [
       "     [,1] [,2]\n",
       "[1,]  0.4 14.4\n",
       "[2,]  1.6 19.6\n",
       "[3,]  3.6 25.6\n",
       "[4,]  6.4 32.4\n",
       "[5,] 10.0 40.0"
      ]
     },
     "metadata": {},
     "output_type": "display_data"
    }
   ],
   "source": [
    "t(m) #matrice trasposta\n",
    "n <- m*2/5\n",
    "m + n #matrice somma (componente per componente)\n",
    "m * n #matrice prodotto componente per componente!!"
   ]
  },
  {
   "cell_type": "code",
   "execution_count": 126,
   "metadata": {
    "collapsed": false
   },
   "outputs": [
    {
     "data": {
      "text/html": [
       "<table>\n",
       "<tbody>\n",
       "\t<tr><td>14.8</td><td>17.6</td><td>20.4</td><td>23.2</td><td>26  </td></tr>\n",
       "\t<tr><td>17.6</td><td>21.2</td><td>24.8</td><td>28.4</td><td>32  </td></tr>\n",
       "\t<tr><td>20.4</td><td>24.8</td><td>29.2</td><td>33.6</td><td>38  </td></tr>\n",
       "\t<tr><td>23.2</td><td>28.4</td><td>33.6</td><td>38.8</td><td>44  </td></tr>\n",
       "\t<tr><td>26.0</td><td>32.0</td><td>38.0</td><td>44.0</td><td>50  </td></tr>\n",
       "</tbody>\n",
       "</table>\n"
      ],
      "text/latex": [
       "\\begin{tabular}{lllll}\n",
       "\t 14.8 & 17.6 & 20.4 & 23.2 & 26  \\\\\n",
       "\t 17.6 & 21.2 & 24.8 & 28.4 & 32  \\\\\n",
       "\t 20.4 & 24.8 & 29.2 & 33.6 & 38  \\\\\n",
       "\t 23.2 & 28.4 & 33.6 & 38.8 & 44  \\\\\n",
       "\t 26.0 & 32.0 & 38.0 & 44.0 & 50  \\\\\n",
       "\\end{tabular}\n"
      ],
      "text/markdown": [
       "\n",
       "| 14.8 | 17.6 | 20.4 | 23.2 | 26   | \n",
       "| 17.6 | 21.2 | 24.8 | 28.4 | 32   | \n",
       "| 20.4 | 24.8 | 29.2 | 33.6 | 38   | \n",
       "| 23.2 | 28.4 | 33.6 | 38.8 | 44   | \n",
       "| 26.0 | 32.0 | 38.0 | 44.0 | 50   | \n",
       "\n",
       "\n"
      ],
      "text/plain": [
       "     [,1] [,2] [,3] [,4] [,5]\n",
       "[1,] 14.8 17.6 20.4 23.2 26  \n",
       "[2,] 17.6 21.2 24.8 28.4 32  \n",
       "[3,] 20.4 24.8 29.2 33.6 38  \n",
       "[4,] 23.2 28.4 33.6 38.8 44  \n",
       "[5,] 26.0 32.0 38.0 44.0 50  "
      ]
     },
     "metadata": {},
     "output_type": "display_data"
    }
   ],
   "source": [
    "A <- m %*% t(n); A #prodotto matriciale riga per colonna!!"
   ]
  },
  {
   "cell_type": "code",
   "execution_count": 127,
   "metadata": {
    "collapsed": false
   },
   "outputs": [
    {
     "data": {
      "text/html": [
       "<table>\n",
       "<tbody>\n",
       "\t<tr><td>5</td><td>0</td><td>0</td></tr>\n",
       "\t<tr><td>0</td><td>6</td><td>0</td></tr>\n",
       "\t<tr><td>0</td><td>0</td><td>7</td></tr>\n",
       "</tbody>\n",
       "</table>\n"
      ],
      "text/latex": [
       "\\begin{tabular}{lll}\n",
       "\t 5 & 0 & 0\\\\\n",
       "\t 0 & 6 & 0\\\\\n",
       "\t 0 & 0 & 7\\\\\n",
       "\\end{tabular}\n"
      ],
      "text/markdown": [
       "\n",
       "| 5 | 0 | 0 | \n",
       "| 0 | 6 | 0 | \n",
       "| 0 | 0 | 7 | \n",
       "\n",
       "\n"
      ],
      "text/plain": [
       "     [,1] [,2] [,3]\n",
       "[1,] 5    0    0   \n",
       "[2,] 0    6    0   \n",
       "[3,] 0    0    7   "
      ]
     },
     "metadata": {},
     "output_type": "display_data"
    }
   ],
   "source": [
    "diag(5:7) #crea matrice 3x3 con 0 fuori dalla diagonale\n"
   ]
  },
  {
   "cell_type": "code",
   "execution_count": 128,
   "metadata": {
    "collapsed": false
   },
   "outputs": [
    {
     "data": {
      "text/html": [
       "<dl>\n",
       "\t<dt>$values</dt>\n",
       "\t\t<dd><ol class=list-inline>\n",
       "\t<li>152.690157880665</li>\n",
       "\t<li>1.30984211933496</li>\n",
       "\t<li>-1.03646332435444e-15</li>\n",
       "\t<li>-7.52613175306709e-15</li>\n",
       "\t<li>-1.08148937810218e-14</li>\n",
       "</ol>\n",
       "</dd>\n",
       "\t<dt>$vectors</dt>\n",
       "\t\t<dd><table>\n",
       "<tbody>\n",
       "\t<tr><td>-0.3042621   </td><td>-0.71233741  </td><td> 0.00000000  </td><td> 0.0000000   </td><td> 6.324555e-01</td></tr>\n",
       "\t<tr><td>-0.3707409   </td><td>-0.40317635  </td><td>-0.09517546  </td><td> 0.5393901   </td><td>-6.324555e-01</td></tr>\n",
       "\t<tr><td>-0.4372198   </td><td>-0.09401529  </td><td> 0.52893822  </td><td>-0.6482471   </td><td>-3.162278e-01</td></tr>\n",
       "\t<tr><td>-0.5036986   </td><td> 0.21514578  </td><td>-0.77235007  </td><td>-0.3216759   </td><td> 9.436896e-16</td></tr>\n",
       "\t<tr><td>-0.5701775   </td><td> 0.52430684  </td><td> 0.33858731  </td><td> 0.4305330   </td><td> 3.162278e-01</td></tr>\n",
       "</tbody>\n",
       "</table>\n",
       "</dd>\n",
       "</dl>\n"
      ],
      "text/latex": [
       "\\begin{description}\n",
       "\\item[\\$values] \\begin{enumerate*}\n",
       "\\item 152.690157880665\n",
       "\\item 1.30984211933496\n",
       "\\item -1.03646332435444e-15\n",
       "\\item -7.52613175306709e-15\n",
       "\\item -1.08148937810218e-14\n",
       "\\end{enumerate*}\n",
       "\n",
       "\\item[\\$vectors] \\begin{tabular}{lllll}\n",
       "\t -0.3042621    & -0.71233741   &  0.00000000   &  0.0000000    &  6.324555e-01\\\\\n",
       "\t -0.3707409    & -0.40317635   & -0.09517546   &  0.5393901    & -6.324555e-01\\\\\n",
       "\t -0.4372198    & -0.09401529   &  0.52893822   & -0.6482471    & -3.162278e-01\\\\\n",
       "\t -0.5036986    &  0.21514578   & -0.77235007   & -0.3216759    &  9.436896e-16\\\\\n",
       "\t -0.5701775    &  0.52430684   &  0.33858731   &  0.4305330    &  3.162278e-01\\\\\n",
       "\\end{tabular}\n",
       "\n",
       "\\end{description}\n"
      ],
      "text/markdown": [
       "$values\n",
       ":   1. 152.690157880665\n",
       "2. 1.30984211933496\n",
       "3. -1.03646332435444e-15\n",
       "4. -7.52613175306709e-15\n",
       "5. -1.08148937810218e-14\n",
       "\n",
       "\n",
       "\n",
       "$vectors\n",
       ":   \n",
       "| -0.3042621    | -0.71233741   |  0.00000000   |  0.0000000    |  6.324555e-01 | \n",
       "| -0.3707409    | -0.40317635   | -0.09517546   |  0.5393901    | -6.324555e-01 | \n",
       "| -0.4372198    | -0.09401529   |  0.52893822   | -0.6482471    | -3.162278e-01 | \n",
       "| -0.5036986    |  0.21514578   | -0.77235007   | -0.3216759    |  9.436896e-16 | \n",
       "| -0.5701775    |  0.52430684   |  0.33858731   |  0.4305330    |  3.162278e-01 | \n",
       "\n",
       "\n",
       "\n",
       "\n",
       "\n"
      ],
      "text/plain": [
       "$values\n",
       "[1]  1.526902e+02  1.309842e+00 -1.036463e-15 -7.526132e-15 -1.081489e-14\n",
       "\n",
       "$vectors\n",
       "           [,1]        [,2]        [,3]       [,4]          [,5]\n",
       "[1,] -0.3042621 -0.71233741  0.00000000  0.0000000  6.324555e-01\n",
       "[2,] -0.3707409 -0.40317635 -0.09517546  0.5393901 -6.324555e-01\n",
       "[3,] -0.4372198 -0.09401529  0.52893822 -0.6482471 -3.162278e-01\n",
       "[4,] -0.5036986  0.21514578 -0.77235007 -0.3216759  9.436896e-16\n",
       "[5,] -0.5701775  0.52430684  0.33858731  0.4305330  3.162278e-01\n"
      ]
     },
     "metadata": {},
     "output_type": "display_data"
    }
   ],
   "source": [
    "eigen(A) #calcola autovalori ed autovettori (A quadrata!)"
   ]
  },
  {
   "cell_type": "code",
   "execution_count": 129,
   "metadata": {
    "collapsed": false
   },
   "outputs": [
    {
     "data": {
      "text/plain": [
       "$qr\n",
       "            [,1]        [,2]          [,3]          [,4]          [,5]\n",
       "[1,] -46.4671927 -56.6076805 -6.674817e+01 -7.688866e+01 -8.702914e+01\n",
       "[2,]   0.3787619   0.6086934  1.217387e+00  1.826080e+00  2.434773e+00\n",
       "[3,]   0.4390194  -0.1498862 -1.388489e-14 -9.625592e-15 -2.393526e-14\n",
       "[4,]   0.4992770  -0.4925889  7.995907e-01 -1.558967e-15 -4.316620e-15\n",
       "[5,]   0.5595346  -0.8352916 -3.198363e-02  7.572430e-01 -3.974612e-15\n",
       "\n",
       "$rank\n",
       "[1] 2\n",
       "\n",
       "$qraux\n",
       "[1] 1.318504e+00 1.192816e+00 1.599693e+00 1.653133e+00 3.974612e-15\n",
       "\n",
       "$pivot\n",
       "[1] 1 2 3 4 5\n",
       "\n",
       "attr(,\"class\")\n",
       "[1] \"qr\""
      ]
     },
     "metadata": {},
     "output_type": "display_data"
    }
   ],
   "source": [
    "qr(A) #decomposizione QR"
   ]
  },
  {
   "cell_type": "code",
   "execution_count": 130,
   "metadata": {
    "collapsed": false
   },
   "outputs": [
    {
     "data": {
      "text/html": [
       "<dl>\n",
       "\t<dt>$d</dt>\n",
       "\t\t<dd><ol class=list-inline>\n",
       "\t<li>152.690157880665</li>\n",
       "\t<li>1.30984211933495</li>\n",
       "\t<li>6.35511869329744e-15</li>\n",
       "\t<li>2.37254966923248e-15</li>\n",
       "\t<li>1.31323366494074e-15</li>\n",
       "</ol>\n",
       "</dd>\n",
       "\t<dt>$u</dt>\n",
       "\t\t<dd><table>\n",
       "<tbody>\n",
       "\t<tr><td>-0.3042621 </td><td>-0.71233741</td><td> 0.61211795</td><td>-0.10250109</td><td> 0.1216764 </td></tr>\n",
       "\t<tr><td>-0.3707409 </td><td>-0.40317635</td><td>-0.74624939</td><td>-0.32576568</td><td> 0.1923241 </td></tr>\n",
       "\t<tr><td>-0.4372198 </td><td>-0.09401529</td><td>-0.15069837</td><td> 0.86802314</td><td>-0.1543562 </td></tr>\n",
       "\t<tr><td>-0.5036986 </td><td> 0.21514578</td><td> 0.09167311</td><td>-0.34874488</td><td>-0.7549656 </td></tr>\n",
       "\t<tr><td>-0.5701775 </td><td> 0.52430684</td><td> 0.19315670</td><td>-0.09101149</td><td> 0.5953213 </td></tr>\n",
       "</tbody>\n",
       "</table>\n",
       "</dd>\n",
       "\t<dt>$v</dt>\n",
       "\t\t<dd><table>\n",
       "<tbody>\n",
       "\t<tr><td>-0.3042621  </td><td>-0.71233741 </td><td> 0.33548899 </td><td> 0.334905904</td><td> 0.41867072 </td></tr>\n",
       "\t<tr><td>-0.3707409  </td><td>-0.40317635 </td><td>-0.01704823 </td><td>-0.770650749</td><td>-0.32527954 </td></tr>\n",
       "\t<tr><td>-0.4372198  </td><td>-0.09401529 </td><td>-0.34047150 </td><td> 0.533736673</td><td>-0.63182618 </td></tr>\n",
       "\t<tr><td>-0.5036986  </td><td> 0.21514578 </td><td>-0.60986826 </td><td>-0.095144714</td><td> 0.56480809 </td></tr>\n",
       "\t<tr><td>-0.5701775  </td><td> 0.52430684 </td><td> 0.63189901 </td><td>-0.002847113</td><td>-0.02637309 </td></tr>\n",
       "</tbody>\n",
       "</table>\n",
       "</dd>\n",
       "</dl>\n"
      ],
      "text/latex": [
       "\\begin{description}\n",
       "\\item[\\$d] \\begin{enumerate*}\n",
       "\\item 152.690157880665\n",
       "\\item 1.30984211933495\n",
       "\\item 6.35511869329744e-15\n",
       "\\item 2.37254966923248e-15\n",
       "\\item 1.31323366494074e-15\n",
       "\\end{enumerate*}\n",
       "\n",
       "\\item[\\$u] \\begin{tabular}{lllll}\n",
       "\t -0.3042621  & -0.71233741 &  0.61211795 & -0.10250109 &  0.1216764 \\\\\n",
       "\t -0.3707409  & -0.40317635 & -0.74624939 & -0.32576568 &  0.1923241 \\\\\n",
       "\t -0.4372198  & -0.09401529 & -0.15069837 &  0.86802314 & -0.1543562 \\\\\n",
       "\t -0.5036986  &  0.21514578 &  0.09167311 & -0.34874488 & -0.7549656 \\\\\n",
       "\t -0.5701775  &  0.52430684 &  0.19315670 & -0.09101149 &  0.5953213 \\\\\n",
       "\\end{tabular}\n",
       "\n",
       "\\item[\\$v] \\begin{tabular}{lllll}\n",
       "\t -0.3042621   & -0.71233741  &  0.33548899  &  0.334905904 &  0.41867072 \\\\\n",
       "\t -0.3707409   & -0.40317635  & -0.01704823  & -0.770650749 & -0.32527954 \\\\\n",
       "\t -0.4372198   & -0.09401529  & -0.34047150  &  0.533736673 & -0.63182618 \\\\\n",
       "\t -0.5036986   &  0.21514578  & -0.60986826  & -0.095144714 &  0.56480809 \\\\\n",
       "\t -0.5701775   &  0.52430684  &  0.63189901  & -0.002847113 & -0.02637309 \\\\\n",
       "\\end{tabular}\n",
       "\n",
       "\\end{description}\n"
      ],
      "text/markdown": [
       "$d\n",
       ":   1. 152.690157880665\n",
       "2. 1.30984211933495\n",
       "3. 6.35511869329744e-15\n",
       "4. 2.37254966923248e-15\n",
       "5. 1.31323366494074e-15\n",
       "\n",
       "\n",
       "\n",
       "$u\n",
       ":   \n",
       "| -0.3042621  | -0.71233741 |  0.61211795 | -0.10250109 |  0.1216764  | \n",
       "| -0.3707409  | -0.40317635 | -0.74624939 | -0.32576568 |  0.1923241  | \n",
       "| -0.4372198  | -0.09401529 | -0.15069837 |  0.86802314 | -0.1543562  | \n",
       "| -0.5036986  |  0.21514578 |  0.09167311 | -0.34874488 | -0.7549656  | \n",
       "| -0.5701775  |  0.52430684 |  0.19315670 | -0.09101149 |  0.5953213  | \n",
       "\n",
       "\n",
       "\n",
       "$v\n",
       ":   \n",
       "| -0.3042621   | -0.71233741  |  0.33548899  |  0.334905904 |  0.41867072  | \n",
       "| -0.3707409   | -0.40317635  | -0.01704823  | -0.770650749 | -0.32527954  | \n",
       "| -0.4372198   | -0.09401529  | -0.34047150  |  0.533736673 | -0.63182618  | \n",
       "| -0.5036986   |  0.21514578  | -0.60986826  | -0.095144714 |  0.56480809  | \n",
       "| -0.5701775   |  0.52430684  |  0.63189901  | -0.002847113 | -0.02637309  | \n",
       "\n",
       "\n",
       "\n",
       "\n",
       "\n"
      ],
      "text/plain": [
       "$d\n",
       "[1] 1.526902e+02 1.309842e+00 6.355119e-15 2.372550e-15 1.313234e-15\n",
       "\n",
       "$u\n",
       "           [,1]        [,2]        [,3]        [,4]       [,5]\n",
       "[1,] -0.3042621 -0.71233741  0.61211795 -0.10250109  0.1216764\n",
       "[2,] -0.3707409 -0.40317635 -0.74624939 -0.32576568  0.1923241\n",
       "[3,] -0.4372198 -0.09401529 -0.15069837  0.86802314 -0.1543562\n",
       "[4,] -0.5036986  0.21514578  0.09167311 -0.34874488 -0.7549656\n",
       "[5,] -0.5701775  0.52430684  0.19315670 -0.09101149  0.5953213\n",
       "\n",
       "$v\n",
       "           [,1]        [,2]        [,3]         [,4]        [,5]\n",
       "[1,] -0.3042621 -0.71233741  0.33548899  0.334905904  0.41867072\n",
       "[2,] -0.3707409 -0.40317635 -0.01704823 -0.770650749 -0.32527954\n",
       "[3,] -0.4372198 -0.09401529 -0.34047150  0.533736673 -0.63182618\n",
       "[4,] -0.5036986  0.21514578 -0.60986826 -0.095144714  0.56480809\n",
       "[5,] -0.5701775  0.52430684  0.63189901 -0.002847113 -0.02637309\n"
      ]
     },
     "metadata": {},
     "output_type": "display_data"
    }
   ],
   "source": [
    "svd(A) #Singular Value Decomposition"
   ]
  },
  {
   "cell_type": "markdown",
   "metadata": {},
   "source": [
    "Matrix elements can be accessed in different ways"
   ]
  },
  {
   "cell_type": "code",
   "execution_count": 131,
   "metadata": {
    "collapsed": false
   },
   "outputs": [
    {
     "data": {
      "text/html": [
       "<table>\n",
       "<tbody>\n",
       "\t<tr><td>14.8</td><td>17.6</td><td>20.4</td><td>23.2</td><td>26  </td></tr>\n",
       "\t<tr><td>17.6</td><td>21.2</td><td>24.8</td><td>28.4</td><td>32  </td></tr>\n",
       "\t<tr><td>20.4</td><td>24.8</td><td>29.2</td><td>33.6</td><td>38  </td></tr>\n",
       "\t<tr><td>23.2</td><td>28.4</td><td>33.6</td><td>38.8</td><td>44  </td></tr>\n",
       "\t<tr><td>26.0</td><td>32.0</td><td>38.0</td><td>44.0</td><td>50  </td></tr>\n",
       "</tbody>\n",
       "</table>\n"
      ],
      "text/latex": [
       "\\begin{tabular}{lllll}\n",
       "\t 14.8 & 17.6 & 20.4 & 23.2 & 26  \\\\\n",
       "\t 17.6 & 21.2 & 24.8 & 28.4 & 32  \\\\\n",
       "\t 20.4 & 24.8 & 29.2 & 33.6 & 38  \\\\\n",
       "\t 23.2 & 28.4 & 33.6 & 38.8 & 44  \\\\\n",
       "\t 26.0 & 32.0 & 38.0 & 44.0 & 50  \\\\\n",
       "\\end{tabular}\n"
      ],
      "text/markdown": [
       "\n",
       "| 14.8 | 17.6 | 20.4 | 23.2 | 26   | \n",
       "| 17.6 | 21.2 | 24.8 | 28.4 | 32   | \n",
       "| 20.4 | 24.8 | 29.2 | 33.6 | 38   | \n",
       "| 23.2 | 28.4 | 33.6 | 38.8 | 44   | \n",
       "| 26.0 | 32.0 | 38.0 | 44.0 | 50   | \n",
       "\n",
       "\n"
      ],
      "text/plain": [
       "     [,1] [,2] [,3] [,4] [,5]\n",
       "[1,] 14.8 17.6 20.4 23.2 26  \n",
       "[2,] 17.6 21.2 24.8 28.4 32  \n",
       "[3,] 20.4 24.8 29.2 33.6 38  \n",
       "[4,] 23.2 28.4 33.6 38.8 44  \n",
       "[5,] 26.0 32.0 38.0 44.0 50  "
      ]
     },
     "metadata": {},
     "output_type": "display_data"
    },
    {
     "data": {
      "text/html": [
       "14.8"
      ],
      "text/latex": [
       "14.8"
      ],
      "text/markdown": [
       "14.8"
      ],
      "text/plain": [
       "[1] 14.8"
      ]
     },
     "metadata": {},
     "output_type": "display_data"
    },
    {
     "data": {
      "text/html": [
       "<ol class=list-inline>\n",
       "\t<li>14.8</li>\n",
       "\t<li>20.4</li>\n",
       "</ol>\n"
      ],
      "text/latex": [
       "\\begin{enumerate*}\n",
       "\\item 14.8\n",
       "\\item 20.4\n",
       "\\end{enumerate*}\n"
      ],
      "text/markdown": [
       "1. 14.8\n",
       "2. 20.4\n",
       "\n",
       "\n"
      ],
      "text/plain": [
       "[1] 14.8 20.4"
      ]
     },
     "metadata": {},
     "output_type": "display_data"
    },
    {
     "data": {
      "text/html": [
       "17.6"
      ],
      "text/latex": [
       "17.6"
      ],
      "text/markdown": [
       "17.6"
      ],
      "text/plain": [
       "[1] 17.6"
      ]
     },
     "metadata": {},
     "output_type": "display_data"
    },
    {
     "data": {
      "text/html": [
       "<ol class=list-inline>\n",
       "\t<li>14.8</li>\n",
       "\t<li>17.6</li>\n",
       "\t<li>20.4</li>\n",
       "\t<li>23.2</li>\n",
       "\t<li>26</li>\n",
       "</ol>\n"
      ],
      "text/latex": [
       "\\begin{enumerate*}\n",
       "\\item 14.8\n",
       "\\item 17.6\n",
       "\\item 20.4\n",
       "\\item 23.2\n",
       "\\item 26\n",
       "\\end{enumerate*}\n"
      ],
      "text/markdown": [
       "1. 14.8\n",
       "2. 17.6\n",
       "3. 20.4\n",
       "4. 23.2\n",
       "5. 26\n",
       "\n",
       "\n"
      ],
      "text/plain": [
       "[1] 14.8 17.6 20.4 23.2 26.0"
      ]
     },
     "metadata": {},
     "output_type": "display_data"
    }
   ],
   "source": [
    "#indexing\n",
    "A\n",
    "A[1]\n",
    "A[c(1,3)]\n",
    "A[1, 2]\n",
    "A[1,]"
   ]
  },
  {
   "cell_type": "markdown",
   "metadata": {},
   "source": [
    "**The apply() function is used for applying functions to the margins of a matrix, array, or dataframes**.\n",
    "\n",
    "`apply(X, MARGIN, FUN, ...)`\n",
    "\n",
    "X -> A matrix, array or dataframe\n",
    "\n",
    "MARGIN -> Vector of subscripts indicating which margins to apply the function to 1=rows, 2=columns, c(1,2)=rows and columns\n",
    "\n",
    "FUN -> Function to be applied\n",
    "\n",
    "... -> Optional arguments for FUN"
   ]
  },
  {
   "cell_type": "code",
   "execution_count": 132,
   "metadata": {
    "collapsed": false
   },
   "outputs": [
    {
     "data": {
      "text/html": [
       "<table>\n",
       "<tbody>\n",
       "\t<tr><td>1 </td><td>4 </td><td>7 </td><td>10</td></tr>\n",
       "\t<tr><td>2 </td><td>5 </td><td>8 </td><td>11</td></tr>\n",
       "\t<tr><td>3 </td><td>6 </td><td>9 </td><td>12</td></tr>\n",
       "</tbody>\n",
       "</table>\n"
      ],
      "text/latex": [
       "\\begin{tabular}{llll}\n",
       "\t 1  & 4  & 7  & 10\\\\\n",
       "\t 2  & 5  & 8  & 11\\\\\n",
       "\t 3  & 6  & 9  & 12\\\\\n",
       "\\end{tabular}\n"
      ],
      "text/markdown": [
       "\n",
       "| 1  | 4  | 7  | 10 | \n",
       "| 2  | 5  | 8  | 11 | \n",
       "| 3  | 6  | 9  | 12 | \n",
       "\n",
       "\n"
      ],
      "text/plain": [
       "     [,1] [,2] [,3] [,4]\n",
       "[1,] 1    4    7    10  \n",
       "[2,] 2    5    8    11  \n",
       "[3,] 3    6    9    12  "
      ]
     },
     "metadata": {},
     "output_type": "display_data"
    }
   ],
   "source": [
    "(x <- matrix(1:12, nrow=3, ncol=4))"
   ]
  },
  {
   "cell_type": "code",
   "execution_count": 133,
   "metadata": {
    "collapsed": false
   },
   "outputs": [
    {
     "data": {
      "text/html": [
       "<ol class=list-inline>\n",
       "\t<li>22</li>\n",
       "\t<li>26</li>\n",
       "\t<li>30</li>\n",
       "</ol>\n"
      ],
      "text/latex": [
       "\\begin{enumerate*}\n",
       "\\item 22\n",
       "\\item 26\n",
       "\\item 30\n",
       "\\end{enumerate*}\n"
      ],
      "text/markdown": [
       "1. 22\n",
       "2. 26\n",
       "3. 30\n",
       "\n",
       "\n"
      ],
      "text/plain": [
       "[1] 22 26 30"
      ]
     },
     "metadata": {},
     "output_type": "display_data"
    }
   ],
   "source": [
    "apply(x, 1, sum) # Row totals"
   ]
  },
  {
   "cell_type": "code",
   "execution_count": 134,
   "metadata": {
    "collapsed": false
   },
   "outputs": [
    {
     "data": {
      "text/html": [
       "<ol class=list-inline>\n",
       "\t<li>2</li>\n",
       "\t<li>5</li>\n",
       "\t<li>8</li>\n",
       "\t<li>11</li>\n",
       "</ol>\n"
      ],
      "text/latex": [
       "\\begin{enumerate*}\n",
       "\\item 2\n",
       "\\item 5\n",
       "\\item 8\n",
       "\\item 11\n",
       "\\end{enumerate*}\n"
      ],
      "text/markdown": [
       "1. 2\n",
       "2. 5\n",
       "3. 8\n",
       "4. 11\n",
       "\n",
       "\n"
      ],
      "text/plain": [
       "[1]  2  5  8 11"
      ]
     },
     "metadata": {},
     "output_type": "display_data"
    }
   ],
   "source": [
    "apply(x, 2, mean) # Column means"
   ]
  },
  {
   "cell_type": "markdown",
   "metadata": {},
   "source": [
    "## Arrays\n",
    "An array is a multi-dimensional generalization of a vector. A special case of array structures are matrices, which are bi-dimensional arrays.\n",
    "\n",
    "To create an array,\n",
    "\n",
    "`array(data = NA, dim = length(data), dimnames = NULL)`\n",
    "\n",
    "data -> A vector that gives data to fill the array; if data does not have enough elements to fill the matrix, then the elements are recycled.\n",
    "\n",
    "dim -> Dimension of the array, a vector of length one or more giving the maximum indices in each dimension\n",
    "\n",
    "dimnames->s Name of the dimensions, list with one component for each dimension, either NULL or a character vector of the length given by dim for that dimension. The list can be named, and the list names will be used as names for the dimensions.\n",
    "\n",
    "The list can be named, and the list names will be used as names for the dimensions.\n",
    "- Values are entered by columns\n",
    "- Like with vectors and matrices, when arrays are used in math expressions the operations are performed element by element.\n",
    "- Also like vectors and matrices, the elements of an array must all be of the same type (numeric, character, logical, etc.)"
   ]
  },
  {
   "cell_type": "code",
   "execution_count": 135,
   "metadata": {
    "collapsed": true
   },
   "outputs": [],
   "source": [
    "#arrays\n",
    "a <- array(data = c(1,2,3,4,5,6,7,8,9,10), dim = c(2,5))"
   ]
  },
  {
   "cell_type": "code",
   "execution_count": 136,
   "metadata": {
    "collapsed": false,
    "scrolled": false
   },
   "outputs": [
    {
     "data": {
      "text/html": [
       "<table>\n",
       "<tbody>\n",
       "\t<tr><td>1 </td><td>3 </td><td>5 </td><td>7 </td><td> 9</td></tr>\n",
       "\t<tr><td>2 </td><td>4 </td><td>6 </td><td>8 </td><td>10</td></tr>\n",
       "</tbody>\n",
       "</table>\n"
      ],
      "text/latex": [
       "\\begin{tabular}{lllll}\n",
       "\t 1  & 3  & 5  & 7  &  9\\\\\n",
       "\t 2  & 4  & 6  & 8  & 10\\\\\n",
       "\\end{tabular}\n"
      ],
      "text/markdown": [
       "\n",
       "| 1  | 3  | 5  | 7  |  9 | \n",
       "| 2  | 4  | 6  | 8  | 10 | \n",
       "\n",
       "\n"
      ],
      "text/plain": [
       "     [,1] [,2] [,3] [,4] [,5]\n",
       "[1,] 1    3    5    7     9  \n",
       "[2,] 2    4    6    8    10  "
      ]
     },
     "metadata": {},
     "output_type": "display_data"
    }
   ],
   "source": [
    "a"
   ]
  },
  {
   "cell_type": "code",
   "execution_count": 137,
   "metadata": {
    "collapsed": false,
    "scrolled": true
   },
   "outputs": [
    {
     "data": {
      "text/html": [
       "2"
      ],
      "text/latex": [
       "2"
      ],
      "text/markdown": [
       "2"
      ],
      "text/plain": [
       "[1] 2"
      ]
     },
     "metadata": {},
     "output_type": "display_data"
    },
    {
     "data": {
      "text/html": [
       "5"
      ],
      "text/latex": [
       "5"
      ],
      "text/markdown": [
       "5"
      ],
      "text/plain": [
       "[1] 5"
      ]
     },
     "metadata": {},
     "output_type": "display_data"
    }
   ],
   "source": [
    "nrow(a)\n",
    "ncol(a)"
   ]
  },
  {
   "cell_type": "code",
   "execution_count": 138,
   "metadata": {
    "collapsed": false
   },
   "outputs": [
    {
     "data": {
      "text/html": [
       "<table>\n",
       "<thead><tr><th></th><th scope=col>a</th><th scope=col>b</th><th scope=col>c</th><th scope=col>d</th><th scope=col>e</th></tr></thead>\n",
       "<tbody>\n",
       "\t<tr><th scope=row>A</th><td>1 </td><td>3 </td><td>5 </td><td>7 </td><td> 9</td></tr>\n",
       "\t<tr><th scope=row>B</th><td>2 </td><td>4 </td><td>6 </td><td>8 </td><td>10</td></tr>\n",
       "</tbody>\n",
       "</table>\n"
      ],
      "text/latex": [
       "\\begin{tabular}{r|lllll}\n",
       "  & a & b & c & d & e\\\\\n",
       "\\hline\n",
       "\tA & 1  & 3  & 5  & 7  &  9\\\\\n",
       "\tB & 2  & 4  & 6  & 8  & 10\\\\\n",
       "\\end{tabular}\n"
      ],
      "text/markdown": [
       "\n",
       "| <!--/--> | a | b | c | d | e | \n",
       "|---|---|\n",
       "| A | 1  | 3  | 5  | 7  |  9 | \n",
       "| B | 2  | 4  | 6  | 8  | 10 | \n",
       "\n",
       "\n"
      ],
      "text/plain": [
       "  a b c d e \n",
       "A 1 3 5 7  9\n",
       "B 2 4 6 8 10"
      ]
     },
     "metadata": {},
     "output_type": "display_data"
    }
   ],
   "source": [
    "rownames(a) <- c(\"A\", \"B\")\n",
    "colnames(a) <- c(\"a\", \"b\", \"c\",\"d\",\"e\")\n",
    "a"
   ]
  },
  {
   "cell_type": "markdown",
   "metadata": {},
   "source": [
    "Accesso ad elementi dell'array tramite []:"
   ]
  },
  {
   "cell_type": "code",
   "execution_count": 139,
   "metadata": {
    "collapsed": false
   },
   "outputs": [
    {
     "data": {
      "text/html": [
       "1"
      ],
      "text/latex": [
       "1"
      ],
      "text/markdown": [
       "1"
      ],
      "text/plain": [
       "[1] 1"
      ]
     },
     "metadata": {},
     "output_type": "display_data"
    },
    {
     "data": {
      "text/html": [
       "1"
      ],
      "text/latex": [
       "1"
      ],
      "text/markdown": [
       "1"
      ],
      "text/plain": [
       "[1] 1"
      ]
     },
     "metadata": {},
     "output_type": "display_data"
    },
    {
     "data": {
      "text/html": [
       "3"
      ],
      "text/latex": [
       "3"
      ],
      "text/markdown": [
       "3"
      ],
      "text/plain": [
       "[1] 3"
      ]
     },
     "metadata": {},
     "output_type": "display_data"
    },
    {
     "data": {
      "text/html": [
       "3"
      ],
      "text/latex": [
       "3"
      ],
      "text/markdown": [
       "3"
      ],
      "text/plain": [
       "[1] 3"
      ]
     },
     "metadata": {},
     "output_type": "display_data"
    },
    {
     "data": {
      "text/html": [
       "<ol class=list-inline>\n",
       "\t<li>2</li>\n",
       "\t<li>3</li>\n",
       "\t<li>4</li>\n",
       "\t<li>5</li>\n",
       "\t<li>6</li>\n",
       "\t<li>7</li>\n",
       "\t<li>8</li>\n",
       "\t<li>9</li>\n",
       "\t<li>10</li>\n",
       "</ol>\n"
      ],
      "text/latex": [
       "\\begin{enumerate*}\n",
       "\\item 2\n",
       "\\item 3\n",
       "\\item 4\n",
       "\\item 5\n",
       "\\item 6\n",
       "\\item 7\n",
       "\\item 8\n",
       "\\item 9\n",
       "\\item 10\n",
       "\\end{enumerate*}\n"
      ],
      "text/markdown": [
       "1. 2\n",
       "2. 3\n",
       "3. 4\n",
       "4. 5\n",
       "5. 6\n",
       "6. 7\n",
       "7. 8\n",
       "8. 9\n",
       "9. 10\n",
       "\n",
       "\n"
      ],
      "text/plain": [
       "[1]  2  3  4  5  6  7  8  9 10"
      ]
     },
     "metadata": {},
     "output_type": "display_data"
    },
    {
     "data": {
      "text/html": [
       "<ol class=list-inline>\n",
       "\t<li>1</li>\n",
       "\t<li>3</li>\n",
       "\t<li>5</li>\n",
       "\t<li>6</li>\n",
       "\t<li>7</li>\n",
       "\t<li>8</li>\n",
       "\t<li>9</li>\n",
       "\t<li>10</li>\n",
       "</ol>\n"
      ],
      "text/latex": [
       "\\begin{enumerate*}\n",
       "\\item 1\n",
       "\\item 3\n",
       "\\item 5\n",
       "\\item 6\n",
       "\\item 7\n",
       "\\item 8\n",
       "\\item 9\n",
       "\\item 10\n",
       "\\end{enumerate*}\n"
      ],
      "text/markdown": [
       "1. 1\n",
       "2. 3\n",
       "3. 5\n",
       "4. 6\n",
       "5. 7\n",
       "6. 8\n",
       "7. 9\n",
       "8. 10\n",
       "\n",
       "\n"
      ],
      "text/plain": [
       "[1]  1  3  5  6  7  8  9 10"
      ]
     },
     "metadata": {},
     "output_type": "display_data"
    }
   ],
   "source": [
    "a[1]\n",
    "a[1,1]\n",
    "a[3]\n",
    "a[1,2]\n",
    "a[-1]\n",
    "a[-c(2,4)]"
   ]
  },
  {
   "cell_type": "code",
   "execution_count": 140,
   "metadata": {
    "collapsed": false,
    "scrolled": true
   },
   "outputs": [
    {
     "data": {
      "text/html": [
       "<ol class=list-inline>\n",
       "\t<li>1</li>\n",
       "\t<li>2</li>\n",
       "\t<li>3</li>\n",
       "\t<li>4</li>\n",
       "\t<li>5</li>\n",
       "\t<li>6</li>\n",
       "\t<li>7</li>\n",
       "\t<li>8</li>\n",
       "\t<li>9</li>\n",
       "\t<li>10</li>\n",
       "\t<li>11</li>\n",
       "\t<li>12</li>\n",
       "\t<li>13</li>\n",
       "\t<li>14</li>\n",
       "\t<li>15</li>\n",
       "\t<li>16</li>\n",
       "\t<li>17</li>\n",
       "\t<li>18</li>\n",
       "\t<li>19</li>\n",
       "\t<li>20</li>\n",
       "\t<li>21</li>\n",
       "\t<li>22</li>\n",
       "\t<li>23</li>\n",
       "\t<li>24</li>\n",
       "</ol>\n"
      ],
      "text/latex": [
       "\\begin{enumerate*}\n",
       "\\item 1\n",
       "\\item 2\n",
       "\\item 3\n",
       "\\item 4\n",
       "\\item 5\n",
       "\\item 6\n",
       "\\item 7\n",
       "\\item 8\n",
       "\\item 9\n",
       "\\item 10\n",
       "\\item 11\n",
       "\\item 12\n",
       "\\item 13\n",
       "\\item 14\n",
       "\\item 15\n",
       "\\item 16\n",
       "\\item 17\n",
       "\\item 18\n",
       "\\item 19\n",
       "\\item 20\n",
       "\\item 21\n",
       "\\item 22\n",
       "\\item 23\n",
       "\\item 24\n",
       "\\end{enumerate*}\n"
      ],
      "text/markdown": [
       "1. 1\n",
       "2. 2\n",
       "3. 3\n",
       "4. 4\n",
       "5. 5\n",
       "6. 6\n",
       "7. 7\n",
       "8. 8\n",
       "9. 9\n",
       "10. 10\n",
       "11. 11\n",
       "12. 12\n",
       "13. 13\n",
       "14. 14\n",
       "15. 15\n",
       "16. 16\n",
       "17. 17\n",
       "18. 18\n",
       "19. 19\n",
       "20. 20\n",
       "21. 21\n",
       "22. 22\n",
       "23. 23\n",
       "24. 24\n",
       "\n",
       "\n"
      ],
      "text/plain": [
       ", , 1\n",
       "\n",
       "     [,1] [,2] [,3] [,4]\n",
       "[1,]    1    3    5    7\n",
       "[2,]    2    4    6    8\n",
       "\n",
       ", , 2\n",
       "\n",
       "     [,1] [,2] [,3] [,4]\n",
       "[1,]    9   11   13   15\n",
       "[2,]   10   12   14   16\n",
       "\n",
       ", , 3\n",
       "\n",
       "     [,1] [,2] [,3] [,4]\n",
       "[1,]   17   19   21   23\n",
       "[2,]   18   20   22   24\n"
      ]
     },
     "metadata": {},
     "output_type": "display_data"
    },
    {
     "data": {
      "text/html": [
       "1"
      ],
      "text/latex": [
       "1"
      ],
      "text/markdown": [
       "1"
      ],
      "text/plain": [
       "[1] 1"
      ]
     },
     "metadata": {},
     "output_type": "display_data"
    },
    {
     "data": {
      "text/html": [
       "17"
      ],
      "text/latex": [
       "17"
      ],
      "text/markdown": [
       "17"
      ],
      "text/plain": [
       "[1] 17"
      ]
     },
     "metadata": {},
     "output_type": "display_data"
    },
    {
     "data": {
      "text/html": [
       "24"
      ],
      "text/latex": [
       "24"
      ],
      "text/markdown": [
       "24"
      ],
      "text/plain": [
       "[1] 24"
      ]
     },
     "metadata": {},
     "output_type": "display_data"
    }
   ],
   "source": [
    "a1 <- array(seq_len(24), c(2,4,3))\n",
    "a1\n",
    "a1[1,1,1]\n",
    "a1[1,1,3]\n",
    "a1[2,4,3]"
   ]
  },
  {
   "cell_type": "code",
   "execution_count": 141,
   "metadata": {
    "collapsed": false
   },
   "outputs": [
    {
     "data": {
      "text/html": [
       "24"
      ],
      "text/latex": [
       "24"
      ],
      "text/markdown": [
       "24"
      ],
      "text/plain": [
       "[1] 24"
      ]
     },
     "metadata": {},
     "output_type": "display_data"
    }
   ],
   "source": [
    "length(a1)"
   ]
  },
  {
   "cell_type": "code",
   "execution_count": 142,
   "metadata": {
    "collapsed": false,
    "scrolled": true
   },
   "outputs": [
    {
     "data": {
      "text/html": [
       "<strong>$dim</strong> = <ol class=list-inline>\n",
       "\t<li>2</li>\n",
       "\t<li>4</li>\n",
       "\t<li>3</li>\n",
       "</ol>\n"
      ],
      "text/latex": [
       "\\textbf{\\$dim} = \\begin{enumerate*}\n",
       "\\item 2\n",
       "\\item 4\n",
       "\\item 3\n",
       "\\end{enumerate*}\n"
      ],
      "text/markdown": [
       "**$dim** = 1. 2\n",
       "2. 4\n",
       "3. 3\n",
       "\n",
       "\n"
      ],
      "text/plain": [
       "$dim\n",
       "[1] 2 4 3\n"
      ]
     },
     "metadata": {},
     "output_type": "display_data"
    }
   ],
   "source": [
    "attributes(a1)"
   ]
  },
  {
   "cell_type": "code",
   "execution_count": 143,
   "metadata": {
    "collapsed": false
   },
   "outputs": [
    {
     "data": {
      "text/html": [
       "<ol class=list-inline>\n",
       "\t<li>1</li>\n",
       "\t<li>2</li>\n",
       "\t<li>3</li>\n",
       "\t<li>4</li>\n",
       "\t<li>5</li>\n",
       "\t<li>6</li>\n",
       "\t<li>7</li>\n",
       "\t<li>8</li>\n",
       "\t<li>9</li>\n",
       "\t<li>10</li>\n",
       "\t<li>11</li>\n",
       "\t<li>12</li>\n",
       "\t<li>13</li>\n",
       "\t<li>14</li>\n",
       "\t<li>15</li>\n",
       "\t<li>16</li>\n",
       "\t<li>17</li>\n",
       "\t<li>18</li>\n",
       "\t<li>19</li>\n",
       "\t<li>20</li>\n",
       "\t<li>21</li>\n",
       "\t<li>22</li>\n",
       "\t<li>23</li>\n",
       "\t<li>24</li>\n",
       "</ol>\n"
      ],
      "text/latex": [
       "\\begin{enumerate*}\n",
       "\\item 1\n",
       "\\item 2\n",
       "\\item 3\n",
       "\\item 4\n",
       "\\item 5\n",
       "\\item 6\n",
       "\\item 7\n",
       "\\item 8\n",
       "\\item 9\n",
       "\\item 10\n",
       "\\item 11\n",
       "\\item 12\n",
       "\\item 13\n",
       "\\item 14\n",
       "\\item 15\n",
       "\\item 16\n",
       "\\item 17\n",
       "\\item 18\n",
       "\\item 19\n",
       "\\item 20\n",
       "\\item 21\n",
       "\\item 22\n",
       "\\item 23\n",
       "\\item 24\n",
       "\\end{enumerate*}\n"
      ],
      "text/markdown": [
       "1. 1\n",
       "2. 2\n",
       "3. 3\n",
       "4. 4\n",
       "5. 5\n",
       "6. 6\n",
       "7. 7\n",
       "8. 8\n",
       "9. 9\n",
       "10. 10\n",
       "11. 11\n",
       "12. 12\n",
       "13. 13\n",
       "14. 14\n",
       "15. 15\n",
       "16. 16\n",
       "17. 17\n",
       "18. 18\n",
       "19. 19\n",
       "20. 20\n",
       "21. 21\n",
       "22. 22\n",
       "23. 23\n",
       "24. 24\n",
       "\n",
       "\n"
      ],
      "text/plain": [
       " [1]  1  2  3  4  5  6  7  8  9 10 11 12 13 14 15 16 17 18 19 20 21 22 23 24"
      ]
     },
     "metadata": {},
     "output_type": "display_data"
    }
   ],
   "source": [
    "#transform array into vectors\n",
    "dim(a1) <- NULL\n",
    "a1"
   ]
  },
  {
   "cell_type": "code",
   "execution_count": 144,
   "metadata": {
    "collapsed": false,
    "scrolled": true
   },
   "outputs": [
    {
     "data": {
      "text/plain": [
       "NULL"
      ]
     },
     "metadata": {},
     "output_type": "display_data"
    }
   ],
   "source": [
    "attributes(a1)"
   ]
  },
  {
   "cell_type": "code",
   "execution_count": 145,
   "metadata": {
    "collapsed": false
   },
   "outputs": [
    {
     "data": {
      "text/html": [
       "24"
      ],
      "text/latex": [
       "24"
      ],
      "text/markdown": [
       "24"
      ],
      "text/plain": [
       "[1] 24"
      ]
     },
     "metadata": {},
     "output_type": "display_data"
    }
   ],
   "source": [
    "length(a1)"
   ]
  },
  {
   "cell_type": "code",
   "execution_count": 146,
   "metadata": {
    "collapsed": false
   },
   "outputs": [
    {
     "data": {
      "text/html": [
       "6"
      ],
      "text/latex": [
       "6"
      ],
      "text/markdown": [
       "6"
      ],
      "text/plain": [
       "[1] 6"
      ]
     },
     "metadata": {},
     "output_type": "display_data"
    },
    {
     "data": {
      "text/html": [
       "<table>\n",
       "<thead><tr><th></th><th scope=col>N</th><th scope=col>M</th></tr></thead>\n",
       "<tbody>\n",
       "\t<tr><th scope=row>A</th><td>3 </td><td> 9</td></tr>\n",
       "\t<tr><th scope=row>B</th><td>4 </td><td>10</td></tr>\n",
       "</tbody>\n",
       "</table>\n"
      ],
      "text/latex": [
       "\\begin{tabular}{r|ll}\n",
       "  & N & M\\\\\n",
       "\\hline\n",
       "\tA & 3  &  9\\\\\n",
       "\tB & 4  & 10\\\\\n",
       "\\end{tabular}\n"
      ],
      "text/markdown": [
       "\n",
       "| <!--/--> | N | M | \n",
       "|---|---|\n",
       "| A | 3  |  9 | \n",
       "| B | 4  | 10 | \n",
       "\n",
       "\n"
      ],
      "text/plain": [
       "  N M \n",
       "A 3  9\n",
       "B 4 10"
      ]
     },
     "metadata": {},
     "output_type": "display_data"
    },
    {
     "data": {
      "text/html": [
       "<table>\n",
       "<thead><tr><th></th><th scope=col>N</th><th scope=col>M</th></tr></thead>\n",
       "<tbody>\n",
       "\t<tr><th scope=row>X</th><td>1 </td><td> 7</td></tr>\n",
       "\t<tr><th scope=row>Y</th><td>3 </td><td> 9</td></tr>\n",
       "\t<tr><th scope=row>Z</th><td>5 </td><td>11</td></tr>\n",
       "</tbody>\n",
       "</table>\n"
      ],
      "text/latex": [
       "\\begin{tabular}{r|ll}\n",
       "  & N & M\\\\\n",
       "\\hline\n",
       "\tX & 1  &  7\\\\\n",
       "\tY & 3  &  9\\\\\n",
       "\tZ & 5  & 11\\\\\n",
       "\\end{tabular}\n"
      ],
      "text/markdown": [
       "\n",
       "| <!--/--> | N | M | \n",
       "|---|---|---|\n",
       "| X | 1  |  7 | \n",
       "| Y | 3  |  9 | \n",
       "| Z | 5  | 11 | \n",
       "\n",
       "\n"
      ],
      "text/plain": [
       "  N M \n",
       "X 1  7\n",
       "Y 3  9\n",
       "Z 5 11"
      ]
     },
     "metadata": {},
     "output_type": "display_data"
    },
    {
     "data": {
      "text/html": [
       "<table>\n",
       "<thead><tr><th></th><th scope=col>X</th><th scope=col>Y</th><th scope=col>Z</th></tr></thead>\n",
       "<tbody>\n",
       "\t<tr><th scope=row>A</th><td>7 </td><td> 9</td><td>11</td></tr>\n",
       "\t<tr><th scope=row>B</th><td>8 </td><td>10</td><td>12</td></tr>\n",
       "</tbody>\n",
       "</table>\n"
      ],
      "text/latex": [
       "\\begin{tabular}{r|lll}\n",
       "  & X & Y & Z\\\\\n",
       "\\hline\n",
       "\tA & 7  &  9 & 11\\\\\n",
       "\tB & 8  & 10 & 12\\\\\n",
       "\\end{tabular}\n"
      ],
      "text/markdown": [
       "\n",
       "| <!--/--> | X | Y | Z | \n",
       "|---|---|\n",
       "| A | 7  |  9 | 11 | \n",
       "| B | 8  | 10 | 12 | \n",
       "\n",
       "\n"
      ],
      "text/plain": [
       "  X Y  Z \n",
       "A 7  9 11\n",
       "B 8 10 12"
      ]
     },
     "metadata": {},
     "output_type": "display_data"
    }
   ],
   "source": [
    "w <- array(1:12, dim=c(2,3,2),\n",
    "           dimnames=list(c(\"A\",\"B\"), c(\"X\",\"Y\",\"Z\"), c(\"N\",\"M\")))\n",
    "w[2,3,1] # Row 2, Column 3, Matrix 1\n",
    "w[,\"Y\",] # Column named \"Y\"\n",
    "w[1,,] # Row 1\n",
    "w[1:2,,\"M\"] # Rows 1 and 2, Matrix \"M\""
   ]
  },
  {
   "cell_type": "markdown",
   "metadata": {},
   "source": [
    "**We can use the apply() function for more then one dimension**. \n",
    "\n",
    "For a 3-dimensional array there are now three margins to apply the function to: 1=rows, 2=columns, and 3=matrices."
   ]
  },
  {
   "cell_type": "code",
   "execution_count": 147,
   "metadata": {
    "collapsed": false
   },
   "outputs": [
    {
     "data": {
      "text/html": [
       "<dl class=dl-horizontal>\n",
       "\t<dt>X</dt>\n",
       "\t\t<dd>18</dd>\n",
       "\t<dt>Y</dt>\n",
       "\t\t<dd>26</dd>\n",
       "\t<dt>Z</dt>\n",
       "\t\t<dd>34</dd>\n",
       "</dl>\n"
      ],
      "text/latex": [
       "\\begin{description*}\n",
       "\\item[X] 18\n",
       "\\item[Y] 26\n",
       "\\item[Z] 34\n",
       "\\end{description*}\n"
      ],
      "text/markdown": [
       "X\n",
       ":   18Y\n",
       ":   26Z\n",
       ":   34\n",
       "\n"
      ],
      "text/plain": [
       " X  Y  Z \n",
       "18 26 34 "
      ]
     },
     "metadata": {},
     "output_type": "display_data"
    }
   ],
   "source": [
    "apply(w, 2, sum) # Column sums"
   ]
  },
  {
   "cell_type": "code",
   "execution_count": 148,
   "metadata": {
    "collapsed": false
   },
   "outputs": [
    {
     "data": {
      "text/html": [
       "<table>\n",
       "<thead><tr><th></th><th scope=col>N</th><th scope=col>M</th></tr></thead>\n",
       "<tbody>\n",
       "\t<tr><th scope=row>A</th><td> 9</td><td>27</td></tr>\n",
       "\t<tr><th scope=row>B</th><td>12</td><td>30</td></tr>\n",
       "</tbody>\n",
       "</table>\n"
      ],
      "text/latex": [
       "\\begin{tabular}{r|ll}\n",
       "  & N & M\\\\\n",
       "\\hline\n",
       "\tA &  9 & 27\\\\\n",
       "\tB & 12 & 30\\\\\n",
       "\\end{tabular}\n"
      ],
      "text/markdown": [
       "\n",
       "| <!--/--> | N | M | \n",
       "|---|---|\n",
       "| A |  9 | 27 | \n",
       "| B | 12 | 30 | \n",
       "\n",
       "\n"
      ],
      "text/plain": [
       "  N  M \n",
       "A  9 27\n",
       "B 12 30"
      ]
     },
     "metadata": {},
     "output_type": "display_data"
    }
   ],
   "source": [
    "apply(w, c(1,3), sum) # Row and matrix sums"
   ]
  },
  {
   "cell_type": "markdown",
   "metadata": {},
   "source": [
    "# Dataframes\n",
    "Dataframes represets the most famous R data structures. They represents a table, with rows and columns, where\n",
    "\n",
    "1) One column holds data of the same type ( a vector)\n",
    "\n",
    "2) Different columns can have different data types. ( a list)\n",
    "\n",
    "3) Every row in a data frame has a row id.\n",
    "\n",
    "A dataframe is a matrix-like structure, where the columns can be of different types. You can also think of a dataframe as a list. Each column is an element of the list and each element has the same length.\n",
    "\n",
    "Rows and columns can be accessed through indexes, which can be numeric or associative\n",
    "- `df[ 1, 2 ]`\n",
    "- `df$example_column`\n",
    "- `df[ 1:3, 4:5 ]`\n"
   ]
  },
  {
   "cell_type": "code",
   "execution_count": 149,
   "metadata": {
    "collapsed": false
   },
   "outputs": [
    {
     "data": {
      "text/html": [
       "<ol class=list-inline>\n",
       "\t<li>1</li>\n",
       "\t<li>2</li>\n",
       "\t<li>3</li>\n",
       "\t<li>4</li>\n",
       "\t<li>5</li>\n",
       "\t<li>6</li>\n",
       "\t<li>7</li>\n",
       "\t<li>8</li>\n",
       "\t<li>9</li>\n",
       "\t<li>10</li>\n",
       "\t<li>11</li>\n",
       "\t<li>12</li>\n",
       "\t<li>13</li>\n",
       "\t<li>14</li>\n",
       "\t<li>15</li>\n",
       "\t<li>16</li>\n",
       "\t<li>17</li>\n",
       "\t<li>18</li>\n",
       "\t<li>19</li>\n",
       "\t<li>20</li>\n",
       "</ol>\n"
      ],
      "text/latex": [
       "\\begin{enumerate*}\n",
       "\\item 1\n",
       "\\item 2\n",
       "\\item 3\n",
       "\\item 4\n",
       "\\item 5\n",
       "\\item 6\n",
       "\\item 7\n",
       "\\item 8\n",
       "\\item 9\n",
       "\\item 10\n",
       "\\item 11\n",
       "\\item 12\n",
       "\\item 13\n",
       "\\item 14\n",
       "\\item 15\n",
       "\\item 16\n",
       "\\item 17\n",
       "\\item 18\n",
       "\\item 19\n",
       "\\item 20\n",
       "\\end{enumerate*}\n"
      ],
      "text/markdown": [
       "1. 1\n",
       "2. 2\n",
       "3. 3\n",
       "4. 4\n",
       "5. 5\n",
       "6. 6\n",
       "7. 7\n",
       "8. 8\n",
       "9. 9\n",
       "10. 10\n",
       "11. 11\n",
       "12. 12\n",
       "13. 13\n",
       "14. 14\n",
       "15. 15\n",
       "16. 16\n",
       "17. 17\n",
       "18. 18\n",
       "19. 19\n",
       "20. 20\n",
       "\n",
       "\n"
      ],
      "text/plain": [
       " [1]  1  2  3  4  5  6  7  8  9 10 11 12 13 14 15 16 17 18 19 20"
      ]
     },
     "metadata": {},
     "output_type": "display_data"
    }
   ],
   "source": [
    "#data frames\n",
    "df1 <- data.frame(x = seq_len(20), y =rnorm(20), z = 2*seq_len(20))\n",
    "\n",
    "df1$x"
   ]
  },
  {
   "cell_type": "markdown",
   "metadata": {},
   "source": [
    "Data Frames can be analyzed using the following commands\n",
    "\n",
    "- `nrow` and `ncol`\n",
    "- `summary`\n",
    "- `head` and `tail`\n",
    "- `str`\n",
    "\n",
    "The library `psych` has \n",
    "\n",
    "- `describe`"
   ]
  },
  {
   "cell_type": "code",
   "execution_count": 150,
   "metadata": {
    "collapsed": false
   },
   "outputs": [
    {
     "data": {
      "text/html": [
       "<table>\n",
       "<thead><tr><th scope=col>x</th><th scope=col>y</th><th scope=col>z</th></tr></thead>\n",
       "<tbody>\n",
       "\t<tr><td>1         </td><td> 1.7150650</td><td> 2        </td></tr>\n",
       "\t<tr><td>2         </td><td> 0.4609162</td><td> 4        </td></tr>\n",
       "\t<tr><td>3         </td><td>-1.2650612</td><td> 6        </td></tr>\n",
       "\t<tr><td>4         </td><td>-0.6868529</td><td> 8        </td></tr>\n",
       "\t<tr><td>5         </td><td>-0.4456620</td><td>10        </td></tr>\n",
       "\t<tr><td>6         </td><td> 1.2240818</td><td>12        </td></tr>\n",
       "</tbody>\n",
       "</table>\n"
      ],
      "text/latex": [
       "\\begin{tabular}{r|lll}\n",
       " x & y & z\\\\\n",
       "\\hline\n",
       "\t 1          &  1.7150650 &  2        \\\\\n",
       "\t 2          &  0.4609162 &  4        \\\\\n",
       "\t 3          & -1.2650612 &  6        \\\\\n",
       "\t 4          & -0.6868529 &  8        \\\\\n",
       "\t 5          & -0.4456620 & 10        \\\\\n",
       "\t 6          &  1.2240818 & 12        \\\\\n",
       "\\end{tabular}\n"
      ],
      "text/markdown": [
       "\n",
       "x | y | z | \n",
       "|---|---|---|---|---|---|\n",
       "| 1          |  1.7150650 |  2         | \n",
       "| 2          |  0.4609162 |  4         | \n",
       "| 3          | -1.2650612 |  6         | \n",
       "| 4          | -0.6868529 |  8         | \n",
       "| 5          | -0.4456620 | 10         | \n",
       "| 6          |  1.2240818 | 12         | \n",
       "\n",
       "\n"
      ],
      "text/plain": [
       "  x y          z \n",
       "1 1  1.7150650  2\n",
       "2 2  0.4609162  4\n",
       "3 3 -1.2650612  6\n",
       "4 4 -0.6868529  8\n",
       "5 5 -0.4456620 10\n",
       "6 6  1.2240818 12"
      ]
     },
     "metadata": {},
     "output_type": "display_data"
    }
   ],
   "source": [
    "head(df1)"
   ]
  },
  {
   "cell_type": "code",
   "execution_count": 151,
   "metadata": {
    "collapsed": false
   },
   "outputs": [
    {
     "data": {
      "text/plain": [
       "       x               y                  z       \n",
       " Min.   : 1.00   Min.   :-1.96662   Min.   : 2.0  \n",
       " 1st Qu.: 5.75   1st Qu.:-0.69736   1st Qu.:11.5  \n",
       " Median :10.50   Median :-0.33182   Median :21.0  \n",
       " Mean   :10.50   Mean   :-0.09006   Mean   :21.0  \n",
       " 3rd Qu.:15.25   3rd Qu.: 0.47015   3rd Qu.:30.5  \n",
       " Max.   :20.00   Max.   : 1.78691   Max.   :40.0  "
      ]
     },
     "metadata": {},
     "output_type": "display_data"
    }
   ],
   "source": [
    "summary(df1)"
   ]
  },
  {
   "cell_type": "code",
   "execution_count": 152,
   "metadata": {
    "collapsed": false
   },
   "outputs": [
    {
     "data": {
      "text/html": [
       "20"
      ],
      "text/latex": [
       "20"
      ],
      "text/markdown": [
       "20"
      ],
      "text/plain": [
       "[1] 20"
      ]
     },
     "metadata": {},
     "output_type": "display_data"
    },
    {
     "data": {
      "text/html": [
       "3"
      ],
      "text/latex": [
       "3"
      ],
      "text/markdown": [
       "3"
      ],
      "text/plain": [
       "[1] 3"
      ]
     },
     "metadata": {},
     "output_type": "display_data"
    }
   ],
   "source": [
    "nrow(df1); ncol(df1)"
   ]
  },
  {
   "cell_type": "code",
   "execution_count": 153,
   "metadata": {
    "collapsed": false
   },
   "outputs": [
    {
     "name": "stdout",
     "output_type": "stream",
     "text": [
      "'data.frame':\t20 obs. of  3 variables:\n",
      " $ x: int  1 2 3 4 5 6 7 8 9 10 ...\n",
      " $ y: num  1.715 0.461 -1.265 -0.687 -0.446 ...\n",
      " $ z: num  2 4 6 8 10 12 14 16 18 20 ...\n"
     ]
    }
   ],
   "source": [
    "str(df1)"
   ]
  },
  {
   "cell_type": "code",
   "execution_count": 154,
   "metadata": {
    "collapsed": false,
    "scrolled": false
   },
   "outputs": [
    {
     "data": {
      "text/html": [
       "<ol class=list-inline>\n",
       "\t<li>1</li>\n",
       "\t<li>2</li>\n",
       "\t<li>3</li>\n",
       "\t<li>4</li>\n",
       "\t<li>5</li>\n",
       "\t<li>6</li>\n",
       "\t<li>7</li>\n",
       "\t<li>8</li>\n",
       "\t<li>9</li>\n",
       "\t<li>10</li>\n",
       "\t<li>11</li>\n",
       "\t<li>12</li>\n",
       "\t<li>13</li>\n",
       "\t<li>14</li>\n",
       "\t<li>15</li>\n",
       "\t<li>16</li>\n",
       "\t<li>17</li>\n",
       "\t<li>18</li>\n",
       "\t<li>19</li>\n",
       "\t<li>20</li>\n",
       "</ol>\n"
      ],
      "text/latex": [
       "\\begin{enumerate*}\n",
       "\\item 1\n",
       "\\item 2\n",
       "\\item 3\n",
       "\\item 4\n",
       "\\item 5\n",
       "\\item 6\n",
       "\\item 7\n",
       "\\item 8\n",
       "\\item 9\n",
       "\\item 10\n",
       "\\item 11\n",
       "\\item 12\n",
       "\\item 13\n",
       "\\item 14\n",
       "\\item 15\n",
       "\\item 16\n",
       "\\item 17\n",
       "\\item 18\n",
       "\\item 19\n",
       "\\item 20\n",
       "\\end{enumerate*}\n"
      ],
      "text/markdown": [
       "1. 1\n",
       "2. 2\n",
       "3. 3\n",
       "4. 4\n",
       "5. 5\n",
       "6. 6\n",
       "7. 7\n",
       "8. 8\n",
       "9. 9\n",
       "10. 10\n",
       "11. 11\n",
       "12. 12\n",
       "13. 13\n",
       "14. 14\n",
       "15. 15\n",
       "16. 16\n",
       "17. 17\n",
       "18. 18\n",
       "19. 19\n",
       "20. 20\n",
       "\n",
       "\n"
      ],
      "text/plain": [
       " [1]  1  2  3  4  5  6  7  8  9 10 11 12 13 14 15 16 17 18 19 20"
      ]
     },
     "metadata": {},
     "output_type": "display_data"
    },
    {
     "data": {
      "text/plain": [
       "NULL"
      ]
     },
     "metadata": {},
     "output_type": "display_data"
    },
    {
     "data": {
      "text/html": [
       "<ol class=list-inline>\n",
       "\t<li>1.71506498688328</li>\n",
       "\t<li>0.460916205989202</li>\n",
       "\t<li>-1.26506123460653</li>\n",
       "\t<li>-0.686852851893526</li>\n",
       "\t<li>-0.445661970099958</li>\n",
       "\t<li>1.22408179743946</li>\n",
       "\t<li>0.359813827057364</li>\n",
       "\t<li>0.400771450594052</li>\n",
       "\t<li>0.11068271594512</li>\n",
       "\t<li>-0.555841134754075</li>\n",
       "\t<li>1.78691313680308</li>\n",
       "\t<li>0.497850478229239</li>\n",
       "\t<li>-1.96661715662964</li>\n",
       "\t<li>0.701355901563686</li>\n",
       "\t<li>-0.472791407727934</li>\n",
       "\t<li>-1.06782370598685</li>\n",
       "\t<li>-0.217974914658295</li>\n",
       "\t<li>-1.02600444830724</li>\n",
       "\t<li>-0.72889122929114</li>\n",
       "\t<li>-0.625039267849257</li>\n",
       "</ol>\n"
      ],
      "text/latex": [
       "\\begin{enumerate*}\n",
       "\\item 1.71506498688328\n",
       "\\item 0.460916205989202\n",
       "\\item -1.26506123460653\n",
       "\\item -0.686852851893526\n",
       "\\item -0.445661970099958\n",
       "\\item 1.22408179743946\n",
       "\\item 0.359813827057364\n",
       "\\item 0.400771450594052\n",
       "\\item 0.11068271594512\n",
       "\\item -0.555841134754075\n",
       "\\item 1.78691313680308\n",
       "\\item 0.497850478229239\n",
       "\\item -1.96661715662964\n",
       "\\item 0.701355901563686\n",
       "\\item -0.472791407727934\n",
       "\\item -1.06782370598685\n",
       "\\item -0.217974914658295\n",
       "\\item -1.02600444830724\n",
       "\\item -0.72889122929114\n",
       "\\item -0.625039267849257\n",
       "\\end{enumerate*}\n"
      ],
      "text/markdown": [
       "1. 1.71506498688328\n",
       "2. 0.460916205989202\n",
       "3. -1.26506123460653\n",
       "4. -0.686852851893526\n",
       "5. -0.445661970099958\n",
       "6. 1.22408179743946\n",
       "7. 0.359813827057364\n",
       "8. 0.400771450594052\n",
       "9. 0.11068271594512\n",
       "10. -0.555841134754075\n",
       "11. 1.78691313680308\n",
       "12. 0.497850478229239\n",
       "13. -1.96661715662964\n",
       "14. 0.701355901563686\n",
       "15. -0.472791407727934\n",
       "16. -1.06782370598685\n",
       "17. -0.217974914658295\n",
       "18. -1.02600444830724\n",
       "19. -0.72889122929114\n",
       "20. -0.625039267849257\n",
       "\n",
       "\n"
      ],
      "text/plain": [
       " [1]  1.7150650  0.4609162 -1.2650612 -0.6868529 -0.4456620  1.2240818\n",
       " [7]  0.3598138  0.4007715  0.1106827 -0.5558411  1.7869131  0.4978505\n",
       "[13] -1.9666172  0.7013559 -0.4727914 -1.0678237 -0.2179749 -1.0260044\n",
       "[19] -0.7288912 -0.6250393"
      ]
     },
     "metadata": {},
     "output_type": "display_data"
    }
   ],
   "source": [
    "names(df1)[1] <- \"column1\"\n",
    "df1$column1\n",
    "df1$x\n",
    "df1$y"
   ]
  },
  {
   "cell_type": "code",
   "execution_count": 155,
   "metadata": {
    "collapsed": false
   },
   "outputs": [
    {
     "name": "stderr",
     "output_type": "stream",
     "text": [
      "Loading required package: psych\n"
     ]
    },
    {
     "data": {
      "text/html": [
       "<table>\n",
       "<thead><tr><th></th><th scope=col>vars</th><th scope=col>n</th><th scope=col>mean</th><th scope=col>sd</th><th scope=col>median</th><th scope=col>trimmed</th><th scope=col>mad</th><th scope=col>min</th><th scope=col>max</th><th scope=col>range</th><th scope=col>skew</th><th scope=col>kurtosis</th><th scope=col>se</th></tr></thead>\n",
       "<tbody>\n",
       "\t<tr><th scope=row>column1</th><td>1          </td><td>20         </td><td>10.50000000</td><td> 5.9160798 </td><td>10.5000000 </td><td>10.500000  </td><td> 7.413000  </td><td> 1.000000  </td><td>20.000000  </td><td>19.00000   </td><td>0.0000000  </td><td>-1.3809286 </td><td>1.3228757  </td></tr>\n",
       "\t<tr><th scope=row>y</th><td>2          </td><td>20         </td><td>-0.09005544</td><td> 0.9883121 </td><td>-0.3318184 </td><td>-0.129463  </td><td> 1.057669  </td><td>-1.966617  </td><td> 1.786913  </td><td> 3.75353   </td><td>0.2606164  </td><td>-0.7378519 </td><td>0.2209933  </td></tr>\n",
       "\t<tr><th scope=row>z</th><td>3          </td><td>20         </td><td>21.00000000</td><td>11.8321596 </td><td>21.0000000 </td><td>21.000000  </td><td>14.826000  </td><td> 2.000000  </td><td>40.000000  </td><td>38.00000   </td><td>0.0000000  </td><td>-1.3809286 </td><td>2.6457513  </td></tr>\n",
       "</tbody>\n",
       "</table>\n"
      ],
      "text/latex": [
       "\\begin{tabular}{r|lllllllllllll}\n",
       "  & vars & n & mean & sd & median & trimmed & mad & min & max & range & skew & kurtosis & se\\\\\n",
       "\\hline\n",
       "\tcolumn1 & 1           & 20          & 10.50000000 &  5.9160798  & 10.5000000  & 10.500000   &  7.413000   &  1.000000   & 20.000000   & 19.00000    & 0.0000000   & -1.3809286  & 1.3228757  \\\\\n",
       "\ty & 2           & 20          & -0.09005544 &  0.9883121  & -0.3318184  & -0.129463   &  1.057669   & -1.966617   &  1.786913   &  3.75353    & 0.2606164   & -0.7378519  & 0.2209933  \\\\\n",
       "\tz & 3           & 20          & 21.00000000 & 11.8321596  & 21.0000000  & 21.000000   & 14.826000   &  2.000000   & 40.000000   & 38.00000    & 0.0000000   & -1.3809286  & 2.6457513  \\\\\n",
       "\\end{tabular}\n"
      ],
      "text/markdown": [
       "\n",
       "| <!--/--> | vars | n | mean | sd | median | trimmed | mad | min | max | range | skew | kurtosis | se | \n",
       "|---|---|---|\n",
       "| column1 | 1           | 20          | 10.50000000 |  5.9160798  | 10.5000000  | 10.500000   |  7.413000   |  1.000000   | 20.000000   | 19.00000    | 0.0000000   | -1.3809286  | 1.3228757   | \n",
       "| y | 2           | 20          | -0.09005544 |  0.9883121  | -0.3318184  | -0.129463   |  1.057669   | -1.966617   |  1.786913   |  3.75353    | 0.2606164   | -0.7378519  | 0.2209933   | \n",
       "| z | 3           | 20          | 21.00000000 | 11.8321596  | 21.0000000  | 21.000000   | 14.826000   |  2.000000   | 40.000000   | 38.00000    | 0.0000000   | -1.3809286  | 2.6457513   | \n",
       "\n",
       "\n"
      ],
      "text/plain": [
       "        vars n  mean        sd         median     trimmed   mad       min      \n",
       "column1 1    20 10.50000000  5.9160798 10.5000000 10.500000  7.413000  1.000000\n",
       "y       2    20 -0.09005544  0.9883121 -0.3318184 -0.129463  1.057669 -1.966617\n",
       "z       3    20 21.00000000 11.8321596 21.0000000 21.000000 14.826000  2.000000\n",
       "        max       range    skew      kurtosis   se       \n",
       "column1 20.000000 19.00000 0.0000000 -1.3809286 1.3228757\n",
       "y        1.786913  3.75353 0.2606164 -0.7378519 0.2209933\n",
       "z       40.000000 38.00000 0.0000000 -1.3809286 2.6457513"
      ]
     },
     "metadata": {},
     "output_type": "display_data"
    }
   ],
   "source": [
    "if(!require(\"psych\")) install.packages(\"psych\")\n",
    "describe(df1)\n",
    "?describe"
   ]
  },
  {
   "cell_type": "code",
   "execution_count": 156,
   "metadata": {
    "collapsed": false
   },
   "outputs": [
    {
     "ename": "ERROR",
     "evalue": "Error in my.airquality[2, ] <- data.frame(34, 197, 7.8, 67, 5, 0): oggetto \"my.airquality\" non trovato\n",
     "output_type": "error",
     "traceback": [
      "Error in my.airquality[2, ] <- data.frame(34, 197, 7.8, 67, 5, 0): oggetto \"my.airquality\" non trovato\nTraceback:\n"
     ]
    }
   ],
   "source": [
    "my.airquality[2,]<-data.frame(34,197,7.8,67,5,0)\n",
    "head(my.airquality)"
   ]
  },
  {
   "cell_type": "code",
   "execution_count": 157,
   "metadata": {
    "collapsed": false
   },
   "outputs": [
    {
     "ename": "ERROR",
     "evalue": "Error in eval(expr, envir, enclos): oggetto \"my.airquality\" non trovato\n",
     "output_type": "error",
     "traceback": [
      "Error in eval(expr, envir, enclos): oggetto \"my.airquality\" non trovato\nTraceback:\n"
     ]
    }
   ],
   "source": [
    "my.airquality <- my.airquality[-2,]\n",
    "#oppure\n",
    "#subset(my.airquality, Day != 0 )\n",
    "#oppure\n",
    "#my.airquality[ ,2] <- NULL\n",
    "head(my.airquality)"
   ]
  },
  {
   "cell_type": "code",
   "execution_count": 158,
   "metadata": {
    "collapsed": false
   },
   "outputs": [
    {
     "data": {
      "text/html": [
       "<table>\n",
       "<thead><tr><th></th><th scope=col>Ozone</th><th scope=col>Temp</th></tr></thead>\n",
       "<tbody>\n",
       "\t<tr><th scope=row>29</th><td>45</td><td>81</td></tr>\n",
       "\t<tr><th scope=row>35</th><td>NA</td><td>84</td></tr>\n",
       "\t<tr><th scope=row>36</th><td>NA</td><td>85</td></tr>\n",
       "\t<tr><th scope=row>38</th><td>29</td><td>82</td></tr>\n",
       "\t<tr><th scope=row>39</th><td>NA</td><td>87</td></tr>\n",
       "\t<tr><th scope=row>40</th><td>71</td><td>90</td></tr>\n",
       "</tbody>\n",
       "</table>\n"
      ],
      "text/latex": [
       "\\begin{tabular}{r|ll}\n",
       "  & Ozone & Temp\\\\\n",
       "\\hline\n",
       "\t29 & 45 & 81\\\\\n",
       "\t35 & NA & 84\\\\\n",
       "\t36 & NA & 85\\\\\n",
       "\t38 & 29 & 82\\\\\n",
       "\t39 & NA & 87\\\\\n",
       "\t40 & 71 & 90\\\\\n",
       "\\end{tabular}\n"
      ],
      "text/markdown": [
       "\n",
       "| <!--/--> | Ozone | Temp | \n",
       "|---|---|---|---|---|---|\n",
       "| 29 | 45 | 81 | \n",
       "| 35 | NA | 84 | \n",
       "| 36 | NA | 85 | \n",
       "| 38 | 29 | 82 | \n",
       "| 39 | NA | 87 | \n",
       "| 40 | 71 | 90 | \n",
       "\n",
       "\n"
      ],
      "text/plain": [
       "   Ozone Temp\n",
       "29 45    81  \n",
       "35 NA    84  \n",
       "36 NA    85  \n",
       "38 29    82  \n",
       "39 NA    87  \n",
       "40 71    90  "
      ]
     },
     "metadata": {},
     "output_type": "display_data"
    }
   ],
   "source": [
    "#what's happening here?\n",
    "subset(airquality[1:40,], Temp > 80, select = c(Ozone, Temp))"
   ]
  },
  {
   "cell_type": "code",
   "execution_count": 159,
   "metadata": {
    "collapsed": false
   },
   "outputs": [
    {
     "data": {
      "text/html": [
       "<table>\n",
       "<thead><tr><th></th><th scope=col>Ozone</th><th scope=col>Solar.R</th><th scope=col>Wind</th><th scope=col>Temp</th><th scope=col>Month</th><th scope=col>Day</th></tr></thead>\n",
       "<tbody>\n",
       "\t<tr><th scope=row>3</th><td>12  </td><td>149 </td><td>12.6</td><td>74  </td><td>5   </td><td>3   </td></tr>\n",
       "</tbody>\n",
       "</table>\n"
      ],
      "text/latex": [
       "\\begin{tabular}{r|llllll}\n",
       "  & Ozone & Solar.R & Wind & Temp & Month & Day\\\\\n",
       "\\hline\n",
       "\t3 & 12   & 149  & 12.6 & 74   & 5    & 3   \\\\\n",
       "\\end{tabular}\n"
      ],
      "text/markdown": [
       "\n",
       "| <!--/--> | Ozone | Solar.R | Wind | Temp | Month | Day | \n",
       "|---|\n",
       "| 3 | 12   | 149  | 12.6 | 74   | 5    | 3    | \n",
       "\n",
       "\n"
      ],
      "text/plain": [
       "  Ozone Solar.R Wind Temp Month Day\n",
       "3 12    149     12.6 74   5     3  "
      ]
     },
     "metadata": {},
     "output_type": "display_data"
    }
   ],
   "source": [
    "airquality[3,]"
   ]
  },
  {
   "cell_type": "code",
   "execution_count": 160,
   "metadata": {
    "collapsed": false
   },
   "outputs": [
    {
     "data": {
      "text/html": [
       "<table>\n",
       "<thead><tr><th scope=col>Ozone</th><th scope=col>Solar.R</th><th scope=col>Wind</th><th scope=col>Temp</th><th scope=col>Month</th><th scope=col>Day</th></tr></thead>\n",
       "<tbody>\n",
       "\t<tr><td>41  </td><td>190 </td><td> 7.4</td><td>67  </td><td>5   </td><td>1   </td></tr>\n",
       "\t<tr><td>36  </td><td>118 </td><td> 8.0</td><td>72  </td><td>5   </td><td>2   </td></tr>\n",
       "\t<tr><td>12  </td><td>149 </td><td>12.6</td><td>74  </td><td>5   </td><td>3   </td></tr>\n",
       "\t<tr><td>18  </td><td>313 </td><td>11.5</td><td>62  </td><td>5   </td><td>4   </td></tr>\n",
       "\t<tr><td>NA  </td><td> NA </td><td>14.3</td><td>56  </td><td>5   </td><td>5   </td></tr>\n",
       "\t<tr><td>28  </td><td> NA </td><td>14.9</td><td>66  </td><td>5   </td><td>6   </td></tr>\n",
       "</tbody>\n",
       "</table>\n"
      ],
      "text/latex": [
       "\\begin{tabular}{r|llllll}\n",
       " Ozone & Solar.R & Wind & Temp & Month & Day\\\\\n",
       "\\hline\n",
       "\t 41   & 190  &  7.4 & 67   & 5    & 1   \\\\\n",
       "\t 36   & 118  &  8.0 & 72   & 5    & 2   \\\\\n",
       "\t 12   & 149  & 12.6 & 74   & 5    & 3   \\\\\n",
       "\t 18   & 313  & 11.5 & 62   & 5    & 4   \\\\\n",
       "\t NA   &  NA  & 14.3 & 56   & 5    & 5   \\\\\n",
       "\t 28   &  NA  & 14.9 & 66   & 5    & 6   \\\\\n",
       "\\end{tabular}\n"
      ],
      "text/markdown": [
       "\n",
       "Ozone | Solar.R | Wind | Temp | Month | Day | \n",
       "|---|---|---|---|---|---|\n",
       "| 41   | 190  |  7.4 | 67   | 5    | 1    | \n",
       "| 36   | 118  |  8.0 | 72   | 5    | 2    | \n",
       "| 12   | 149  | 12.6 | 74   | 5    | 3    | \n",
       "| 18   | 313  | 11.5 | 62   | 5    | 4    | \n",
       "| NA   |  NA  | 14.3 | 56   | 5    | 5    | \n",
       "| 28   |  NA  | 14.9 | 66   | 5    | 6    | \n",
       "\n",
       "\n"
      ],
      "text/plain": [
       "  Ozone Solar.R Wind Temp Month Day\n",
       "1 41    190      7.4 67   5     1  \n",
       "2 36    118      8.0 72   5     2  \n",
       "3 12    149     12.6 74   5     3  \n",
       "4 18    313     11.5 62   5     4  \n",
       "5 NA     NA     14.3 56   5     5  \n",
       "6 28     NA     14.9 66   5     6  "
      ]
     },
     "metadata": {},
     "output_type": "display_data"
    }
   ],
   "source": [
    "#Upload an R dataframe\n",
    "my.airquality <- airquality\n",
    "head(my.airquality)"
   ]
  },
  {
   "cell_type": "code",
   "execution_count": 161,
   "metadata": {
    "collapsed": false
   },
   "outputs": [
    {
     "data": {
      "text/html": [
       "<ol class=list-inline>\n",
       "\t<li>41</li>\n",
       "\t<li>36</li>\n",
       "\t<li>12</li>\n",
       "\t<li>18</li>\n",
       "\t<li>NA</li>\n",
       "\t<li>28</li>\n",
       "\t<li>23</li>\n",
       "\t<li>19</li>\n",
       "\t<li>8</li>\n",
       "\t<li>NA</li>\n",
       "\t<li>7</li>\n",
       "\t<li>16</li>\n",
       "\t<li>11</li>\n",
       "\t<li>14</li>\n",
       "\t<li>18</li>\n",
       "\t<li>14</li>\n",
       "\t<li>34</li>\n",
       "\t<li>6</li>\n",
       "\t<li>30</li>\n",
       "\t<li>11</li>\n",
       "\t<li>1</li>\n",
       "\t<li>11</li>\n",
       "\t<li>4</li>\n",
       "\t<li>32</li>\n",
       "\t<li>NA</li>\n",
       "\t<li>NA</li>\n",
       "\t<li>NA</li>\n",
       "\t<li>23</li>\n",
       "\t<li>45</li>\n",
       "\t<li>115</li>\n",
       "\t<li>37</li>\n",
       "\t<li>NA</li>\n",
       "\t<li>NA</li>\n",
       "\t<li>NA</li>\n",
       "\t<li>NA</li>\n",
       "\t<li>NA</li>\n",
       "\t<li>NA</li>\n",
       "\t<li>29</li>\n",
       "\t<li>NA</li>\n",
       "\t<li>71</li>\n",
       "\t<li>39</li>\n",
       "\t<li>NA</li>\n",
       "\t<li>NA</li>\n",
       "\t<li>23</li>\n",
       "\t<li>NA</li>\n",
       "\t<li>NA</li>\n",
       "\t<li>21</li>\n",
       "\t<li>37</li>\n",
       "\t<li>20</li>\n",
       "\t<li>12</li>\n",
       "\t<li>13</li>\n",
       "\t<li>NA</li>\n",
       "\t<li>NA</li>\n",
       "\t<li>NA</li>\n",
       "\t<li>NA</li>\n",
       "\t<li>NA</li>\n",
       "\t<li>NA</li>\n",
       "\t<li>NA</li>\n",
       "\t<li>NA</li>\n",
       "\t<li>NA</li>\n",
       "\t<li>NA</li>\n",
       "\t<li>135</li>\n",
       "\t<li>49</li>\n",
       "\t<li>32</li>\n",
       "\t<li>NA</li>\n",
       "\t<li>64</li>\n",
       "\t<li>40</li>\n",
       "\t<li>77</li>\n",
       "\t<li>97</li>\n",
       "\t<li>97</li>\n",
       "\t<li>85</li>\n",
       "\t<li>NA</li>\n",
       "\t<li>10</li>\n",
       "\t<li>27</li>\n",
       "\t<li>NA</li>\n",
       "\t<li>7</li>\n",
       "\t<li>48</li>\n",
       "\t<li>35</li>\n",
       "\t<li>61</li>\n",
       "\t<li>79</li>\n",
       "\t<li>63</li>\n",
       "\t<li>16</li>\n",
       "\t<li>NA</li>\n",
       "\t<li>NA</li>\n",
       "\t<li>80</li>\n",
       "\t<li>108</li>\n",
       "\t<li>20</li>\n",
       "\t<li>52</li>\n",
       "\t<li>82</li>\n",
       "\t<li>50</li>\n",
       "\t<li>64</li>\n",
       "\t<li>59</li>\n",
       "\t<li>39</li>\n",
       "\t<li>9</li>\n",
       "\t<li>16</li>\n",
       "\t<li>78</li>\n",
       "\t<li>35</li>\n",
       "\t<li>66</li>\n",
       "\t<li>122</li>\n",
       "\t<li>89</li>\n",
       "\t<li>110</li>\n",
       "\t<li>NA</li>\n",
       "\t<li>NA</li>\n",
       "\t<li>44</li>\n",
       "\t<li>28</li>\n",
       "\t<li>65</li>\n",
       "\t<li>NA</li>\n",
       "\t<li>22</li>\n",
       "\t<li>59</li>\n",
       "\t<li>23</li>\n",
       "\t<li>31</li>\n",
       "\t<li>44</li>\n",
       "\t<li>21</li>\n",
       "\t<li>9</li>\n",
       "\t<li>NA</li>\n",
       "\t<li>45</li>\n",
       "\t<li>168</li>\n",
       "\t<li>73</li>\n",
       "\t<li>NA</li>\n",
       "\t<li>76</li>\n",
       "\t<li>118</li>\n",
       "\t<li>84</li>\n",
       "\t<li>85</li>\n",
       "\t<li>96</li>\n",
       "\t<li>78</li>\n",
       "\t<li>73</li>\n",
       "\t<li>91</li>\n",
       "\t<li>47</li>\n",
       "\t<li>32</li>\n",
       "\t<li>20</li>\n",
       "\t<li>23</li>\n",
       "\t<li>21</li>\n",
       "\t<li>24</li>\n",
       "\t<li>44</li>\n",
       "\t<li>21</li>\n",
       "\t<li>28</li>\n",
       "\t<li>9</li>\n",
       "\t<li>13</li>\n",
       "\t<li>46</li>\n",
       "\t<li>18</li>\n",
       "\t<li>13</li>\n",
       "\t<li>24</li>\n",
       "\t<li>16</li>\n",
       "\t<li>13</li>\n",
       "\t<li>23</li>\n",
       "\t<li>36</li>\n",
       "\t<li>7</li>\n",
       "\t<li>14</li>\n",
       "\t<li>30</li>\n",
       "\t<li>NA</li>\n",
       "\t<li>14</li>\n",
       "\t<li>18</li>\n",
       "\t<li>20</li>\n",
       "</ol>\n"
      ],
      "text/latex": [
       "\\begin{enumerate*}\n",
       "\\item 41\n",
       "\\item 36\n",
       "\\item 12\n",
       "\\item 18\n",
       "\\item NA\n",
       "\\item 28\n",
       "\\item 23\n",
       "\\item 19\n",
       "\\item 8\n",
       "\\item NA\n",
       "\\item 7\n",
       "\\item 16\n",
       "\\item 11\n",
       "\\item 14\n",
       "\\item 18\n",
       "\\item 14\n",
       "\\item 34\n",
       "\\item 6\n",
       "\\item 30\n",
       "\\item 11\n",
       "\\item 1\n",
       "\\item 11\n",
       "\\item 4\n",
       "\\item 32\n",
       "\\item NA\n",
       "\\item NA\n",
       "\\item NA\n",
       "\\item 23\n",
       "\\item 45\n",
       "\\item 115\n",
       "\\item 37\n",
       "\\item NA\n",
       "\\item NA\n",
       "\\item NA\n",
       "\\item NA\n",
       "\\item NA\n",
       "\\item NA\n",
       "\\item 29\n",
       "\\item NA\n",
       "\\item 71\n",
       "\\item 39\n",
       "\\item NA\n",
       "\\item NA\n",
       "\\item 23\n",
       "\\item NA\n",
       "\\item NA\n",
       "\\item 21\n",
       "\\item 37\n",
       "\\item 20\n",
       "\\item 12\n",
       "\\item 13\n",
       "\\item NA\n",
       "\\item NA\n",
       "\\item NA\n",
       "\\item NA\n",
       "\\item NA\n",
       "\\item NA\n",
       "\\item NA\n",
       "\\item NA\n",
       "\\item NA\n",
       "\\item NA\n",
       "\\item 135\n",
       "\\item 49\n",
       "\\item 32\n",
       "\\item NA\n",
       "\\item 64\n",
       "\\item 40\n",
       "\\item 77\n",
       "\\item 97\n",
       "\\item 97\n",
       "\\item 85\n",
       "\\item NA\n",
       "\\item 10\n",
       "\\item 27\n",
       "\\item NA\n",
       "\\item 7\n",
       "\\item 48\n",
       "\\item 35\n",
       "\\item 61\n",
       "\\item 79\n",
       "\\item 63\n",
       "\\item 16\n",
       "\\item NA\n",
       "\\item NA\n",
       "\\item 80\n",
       "\\item 108\n",
       "\\item 20\n",
       "\\item 52\n",
       "\\item 82\n",
       "\\item 50\n",
       "\\item 64\n",
       "\\item 59\n",
       "\\item 39\n",
       "\\item 9\n",
       "\\item 16\n",
       "\\item 78\n",
       "\\item 35\n",
       "\\item 66\n",
       "\\item 122\n",
       "\\item 89\n",
       "\\item 110\n",
       "\\item NA\n",
       "\\item NA\n",
       "\\item 44\n",
       "\\item 28\n",
       "\\item 65\n",
       "\\item NA\n",
       "\\item 22\n",
       "\\item 59\n",
       "\\item 23\n",
       "\\item 31\n",
       "\\item 44\n",
       "\\item 21\n",
       "\\item 9\n",
       "\\item NA\n",
       "\\item 45\n",
       "\\item 168\n",
       "\\item 73\n",
       "\\item NA\n",
       "\\item 76\n",
       "\\item 118\n",
       "\\item 84\n",
       "\\item 85\n",
       "\\item 96\n",
       "\\item 78\n",
       "\\item 73\n",
       "\\item 91\n",
       "\\item 47\n",
       "\\item 32\n",
       "\\item 20\n",
       "\\item 23\n",
       "\\item 21\n",
       "\\item 24\n",
       "\\item 44\n",
       "\\item 21\n",
       "\\item 28\n",
       "\\item 9\n",
       "\\item 13\n",
       "\\item 46\n",
       "\\item 18\n",
       "\\item 13\n",
       "\\item 24\n",
       "\\item 16\n",
       "\\item 13\n",
       "\\item 23\n",
       "\\item 36\n",
       "\\item 7\n",
       "\\item 14\n",
       "\\item 30\n",
       "\\item NA\n",
       "\\item 14\n",
       "\\item 18\n",
       "\\item 20\n",
       "\\end{enumerate*}\n"
      ],
      "text/markdown": [
       "1. 41\n",
       "2. 36\n",
       "3. 12\n",
       "4. 18\n",
       "5. NA\n",
       "6. 28\n",
       "7. 23\n",
       "8. 19\n",
       "9. 8\n",
       "10. NA\n",
       "11. 7\n",
       "12. 16\n",
       "13. 11\n",
       "14. 14\n",
       "15. 18\n",
       "16. 14\n",
       "17. 34\n",
       "18. 6\n",
       "19. 30\n",
       "20. 11\n",
       "21. 1\n",
       "22. 11\n",
       "23. 4\n",
       "24. 32\n",
       "25. NA\n",
       "26. NA\n",
       "27. NA\n",
       "28. 23\n",
       "29. 45\n",
       "30. 115\n",
       "31. 37\n",
       "32. NA\n",
       "33. NA\n",
       "34. NA\n",
       "35. NA\n",
       "36. NA\n",
       "37. NA\n",
       "38. 29\n",
       "39. NA\n",
       "40. 71\n",
       "41. 39\n",
       "42. NA\n",
       "43. NA\n",
       "44. 23\n",
       "45. NA\n",
       "46. NA\n",
       "47. 21\n",
       "48. 37\n",
       "49. 20\n",
       "50. 12\n",
       "51. 13\n",
       "52. NA\n",
       "53. NA\n",
       "54. NA\n",
       "55. NA\n",
       "56. NA\n",
       "57. NA\n",
       "58. NA\n",
       "59. NA\n",
       "60. NA\n",
       "61. NA\n",
       "62. 135\n",
       "63. 49\n",
       "64. 32\n",
       "65. NA\n",
       "66. 64\n",
       "67. 40\n",
       "68. 77\n",
       "69. 97\n",
       "70. 97\n",
       "71. 85\n",
       "72. NA\n",
       "73. 10\n",
       "74. 27\n",
       "75. NA\n",
       "76. 7\n",
       "77. 48\n",
       "78. 35\n",
       "79. 61\n",
       "80. 79\n",
       "81. 63\n",
       "82. 16\n",
       "83. NA\n",
       "84. NA\n",
       "85. 80\n",
       "86. 108\n",
       "87. 20\n",
       "88. 52\n",
       "89. 82\n",
       "90. 50\n",
       "91. 64\n",
       "92. 59\n",
       "93. 39\n",
       "94. 9\n",
       "95. 16\n",
       "96. 78\n",
       "97. 35\n",
       "98. 66\n",
       "99. 122\n",
       "100. 89\n",
       "101. 110\n",
       "102. NA\n",
       "103. NA\n",
       "104. 44\n",
       "105. 28\n",
       "106. 65\n",
       "107. NA\n",
       "108. 22\n",
       "109. 59\n",
       "110. 23\n",
       "111. 31\n",
       "112. 44\n",
       "113. 21\n",
       "114. 9\n",
       "115. NA\n",
       "116. 45\n",
       "117. 168\n",
       "118. 73\n",
       "119. NA\n",
       "120. 76\n",
       "121. 118\n",
       "122. 84\n",
       "123. 85\n",
       "124. 96\n",
       "125. 78\n",
       "126. 73\n",
       "127. 91\n",
       "128. 47\n",
       "129. 32\n",
       "130. 20\n",
       "131. 23\n",
       "132. 21\n",
       "133. 24\n",
       "134. 44\n",
       "135. 21\n",
       "136. 28\n",
       "137. 9\n",
       "138. 13\n",
       "139. 46\n",
       "140. 18\n",
       "141. 13\n",
       "142. 24\n",
       "143. 16\n",
       "144. 13\n",
       "145. 23\n",
       "146. 36\n",
       "147. 7\n",
       "148. 14\n",
       "149. 30\n",
       "150. NA\n",
       "151. 14\n",
       "152. 18\n",
       "153. 20\n",
       "\n",
       "\n"
      ],
      "text/plain": [
       "  [1]  41  36  12  18  NA  28  23  19   8  NA   7  16  11  14  18  14  34   6\n",
       " [19]  30  11   1  11   4  32  NA  NA  NA  23  45 115  37  NA  NA  NA  NA  NA\n",
       " [37]  NA  29  NA  71  39  NA  NA  23  NA  NA  21  37  20  12  13  NA  NA  NA\n",
       " [55]  NA  NA  NA  NA  NA  NA  NA 135  49  32  NA  64  40  77  97  97  85  NA\n",
       " [73]  10  27  NA   7  48  35  61  79  63  16  NA  NA  80 108  20  52  82  50\n",
       " [91]  64  59  39   9  16  78  35  66 122  89 110  NA  NA  44  28  65  NA  22\n",
       "[109]  59  23  31  44  21   9  NA  45 168  73  NA  76 118  84  85  96  78  73\n",
       "[127]  91  47  32  20  23  21  24  44  21  28   9  13  46  18  13  24  16  13\n",
       "[145]  23  36   7  14  30  NA  14  18  20"
      ]
     },
     "metadata": {},
     "output_type": "display_data"
    }
   ],
   "source": [
    "airquality[,1]"
   ]
  },
  {
   "cell_type": "code",
   "execution_count": 162,
   "metadata": {
    "collapsed": false
   },
   "outputs": [
    {
     "data": {
      "text/plain": [
       "     Ozone           Solar.R           Wind             Temp      \n",
       " Min.   :  1.00   Min.   :  7.0   Min.   : 1.700   Min.   :56.00  \n",
       " 1st Qu.: 18.00   1st Qu.:115.8   1st Qu.: 7.400   1st Qu.:72.00  \n",
       " Median : 31.50   Median :205.0   Median : 9.700   Median :79.00  \n",
       " Mean   : 42.13   Mean   :185.9   Mean   : 9.958   Mean   :77.88  \n",
       " 3rd Qu.: 63.25   3rd Qu.:258.8   3rd Qu.:11.500   3rd Qu.:85.00  \n",
       " Max.   :168.00   Max.   :334.0   Max.   :20.700   Max.   :97.00  \n",
       " NA's   :37       NA's   :7                                       \n",
       "     Month            Day      \n",
       " Min.   :5.000   Min.   : 1.0  \n",
       " 1st Qu.:6.000   1st Qu.: 8.0  \n",
       " Median :7.000   Median :16.0  \n",
       " Mean   :6.993   Mean   :15.8  \n",
       " 3rd Qu.:8.000   3rd Qu.:23.0  \n",
       " Max.   :9.000   Max.   :31.0  \n",
       "                               "
      ]
     },
     "metadata": {},
     "output_type": "display_data"
    }
   ],
   "source": [
    "summary(airquality)"
   ]
  },
  {
   "cell_type": "code",
   "execution_count": 163,
   "metadata": {
    "collapsed": false,
    "scrolled": true
   },
   "outputs": [
    {
     "data": {
      "text/html": [
       "<table>\n",
       "<thead><tr><th></th><th scope=col>Ozone</th><th scope=col>Solar.R</th><th scope=col>Wind</th><th scope=col>Temp</th><th scope=col>Month</th><th scope=col>Day</th></tr></thead>\n",
       "<tbody>\n",
       "\t<tr><th scope=row>1</th><td> 41 </td><td>190 </td><td> 7.4</td><td>67  </td><td> 5  </td><td> 1  </td></tr>\n",
       "\t<tr><th scope=row>2</th><td> 36 </td><td>118 </td><td> 8.0</td><td>72  </td><td> 5  </td><td> 2  </td></tr>\n",
       "\t<tr><th scope=row>3</th><td> 12 </td><td>149 </td><td>12.6</td><td>74  </td><td> 5  </td><td> 3  </td></tr>\n",
       "\t<tr><th scope=row>4</th><td> 18 </td><td>313 </td><td>11.5</td><td>62  </td><td> 5  </td><td> 4  </td></tr>\n",
       "\t<tr><th scope=row>NA</th><td> NA </td><td> NA </td><td>  NA</td><td>NA  </td><td>NA  </td><td>NA  </td></tr>\n",
       "\t<tr><th scope=row>6</th><td> 28 </td><td> NA </td><td>14.9</td><td>66  </td><td> 5  </td><td> 6  </td></tr>\n",
       "\t<tr><th scope=row>7</th><td> 23 </td><td>299 </td><td> 8.6</td><td>65  </td><td> 5  </td><td> 7  </td></tr>\n",
       "\t<tr><th scope=row>8</th><td> 19 </td><td> 99 </td><td>13.8</td><td>59  </td><td> 5  </td><td> 8  </td></tr>\n",
       "\t<tr><th scope=row>9</th><td>  8 </td><td> 19 </td><td>20.1</td><td>61  </td><td> 5  </td><td> 9  </td></tr>\n",
       "\t<tr><th scope=row>NA.1</th><td> NA </td><td> NA </td><td>  NA</td><td>NA  </td><td>NA  </td><td>NA  </td></tr>\n",
       "\t<tr><th scope=row>11</th><td>  7 </td><td> NA </td><td> 6.9</td><td>74  </td><td> 5  </td><td>11  </td></tr>\n",
       "\t<tr><th scope=row>12</th><td> 16 </td><td>256 </td><td> 9.7</td><td>69  </td><td> 5  </td><td>12  </td></tr>\n",
       "\t<tr><th scope=row>13</th><td> 11 </td><td>290 </td><td> 9.2</td><td>66  </td><td> 5  </td><td>13  </td></tr>\n",
       "\t<tr><th scope=row>14</th><td> 14 </td><td>274 </td><td>10.9</td><td>68  </td><td> 5  </td><td>14  </td></tr>\n",
       "\t<tr><th scope=row>15</th><td> 18 </td><td> 65 </td><td>13.2</td><td>58  </td><td> 5  </td><td>15  </td></tr>\n",
       "\t<tr><th scope=row>16</th><td> 14 </td><td>334 </td><td>11.5</td><td>64  </td><td> 5  </td><td>16  </td></tr>\n",
       "\t<tr><th scope=row>17</th><td> 34 </td><td>307 </td><td>12.0</td><td>66  </td><td> 5  </td><td>17  </td></tr>\n",
       "\t<tr><th scope=row>18</th><td>  6 </td><td> 78 </td><td>18.4</td><td>57  </td><td> 5  </td><td>18  </td></tr>\n",
       "\t<tr><th scope=row>19</th><td> 30 </td><td>322 </td><td>11.5</td><td>68  </td><td> 5  </td><td>19  </td></tr>\n",
       "\t<tr><th scope=row>20</th><td> 11 </td><td> 44 </td><td> 9.7</td><td>62  </td><td> 5  </td><td>20  </td></tr>\n",
       "\t<tr><th scope=row>21</th><td>  1 </td><td>  8 </td><td> 9.7</td><td>59  </td><td> 5  </td><td>21  </td></tr>\n",
       "\t<tr><th scope=row>22</th><td> 11 </td><td>320 </td><td>16.6</td><td>73  </td><td> 5  </td><td>22  </td></tr>\n",
       "\t<tr><th scope=row>23</th><td>  4 </td><td> 25 </td><td> 9.7</td><td>61  </td><td> 5  </td><td>23  </td></tr>\n",
       "\t<tr><th scope=row>24</th><td> 32 </td><td> 92 </td><td>12.0</td><td>61  </td><td> 5  </td><td>24  </td></tr>\n",
       "\t<tr><th scope=row>NA.2</th><td> NA </td><td> NA </td><td>  NA</td><td>NA  </td><td>NA  </td><td>NA  </td></tr>\n",
       "\t<tr><th scope=row>NA.3</th><td> NA </td><td> NA </td><td>  NA</td><td>NA  </td><td>NA  </td><td>NA  </td></tr>\n",
       "\t<tr><th scope=row>NA.4</th><td> NA </td><td> NA </td><td>  NA</td><td>NA  </td><td>NA  </td><td>NA  </td></tr>\n",
       "\t<tr><th scope=row>28</th><td> 23 </td><td> 13 </td><td>12.0</td><td>67  </td><td> 5  </td><td>28  </td></tr>\n",
       "\t<tr><th scope=row>29</th><td> 45 </td><td>252 </td><td>14.9</td><td>81  </td><td> 5  </td><td>29  </td></tr>\n",
       "\t<tr><th scope=row>30</th><td>115 </td><td>223 </td><td> 5.7</td><td>79  </td><td> 5  </td><td>30  </td></tr>\n",
       "\t<tr><th scope=row>⋮</th><td>⋮</td><td>⋮</td><td>⋮</td><td>⋮</td><td>⋮</td><td>⋮</td></tr>\n",
       "\t<tr><th scope=row>124</th><td>96  </td><td>167 </td><td> 6.9</td><td>91  </td><td> 9  </td><td> 1  </td></tr>\n",
       "\t<tr><th scope=row>125</th><td>78  </td><td>197 </td><td> 5.1</td><td>92  </td><td> 9  </td><td> 2  </td></tr>\n",
       "\t<tr><th scope=row>126</th><td>73  </td><td>183 </td><td> 2.8</td><td>93  </td><td> 9  </td><td> 3  </td></tr>\n",
       "\t<tr><th scope=row>127</th><td>91  </td><td>189 </td><td> 4.6</td><td>93  </td><td> 9  </td><td> 4  </td></tr>\n",
       "\t<tr><th scope=row>128</th><td>47  </td><td> 95 </td><td> 7.4</td><td>87  </td><td> 9  </td><td> 5  </td></tr>\n",
       "\t<tr><th scope=row>129</th><td>32  </td><td> 92 </td><td>15.5</td><td>84  </td><td> 9  </td><td> 6  </td></tr>\n",
       "\t<tr><th scope=row>130</th><td>20  </td><td>252 </td><td>10.9</td><td>80  </td><td> 9  </td><td> 7  </td></tr>\n",
       "\t<tr><th scope=row>131</th><td>23  </td><td>220 </td><td>10.3</td><td>78  </td><td> 9  </td><td> 8  </td></tr>\n",
       "\t<tr><th scope=row>132</th><td>21  </td><td>230 </td><td>10.9</td><td>75  </td><td> 9  </td><td> 9  </td></tr>\n",
       "\t<tr><th scope=row>133</th><td>24  </td><td>259 </td><td> 9.7</td><td>73  </td><td> 9  </td><td>10  </td></tr>\n",
       "\t<tr><th scope=row>134</th><td>44  </td><td>236 </td><td>14.9</td><td>81  </td><td> 9  </td><td>11  </td></tr>\n",
       "\t<tr><th scope=row>135</th><td>21  </td><td>259 </td><td>15.5</td><td>76  </td><td> 9  </td><td>12  </td></tr>\n",
       "\t<tr><th scope=row>136</th><td>28  </td><td>238 </td><td> 6.3</td><td>77  </td><td> 9  </td><td>13  </td></tr>\n",
       "\t<tr><th scope=row>137</th><td> 9  </td><td> 24 </td><td>10.9</td><td>71  </td><td> 9  </td><td>14  </td></tr>\n",
       "\t<tr><th scope=row>138</th><td>13  </td><td>112 </td><td>11.5</td><td>71  </td><td> 9  </td><td>15  </td></tr>\n",
       "\t<tr><th scope=row>139</th><td>46  </td><td>237 </td><td> 6.9</td><td>78  </td><td> 9  </td><td>16  </td></tr>\n",
       "\t<tr><th scope=row>140</th><td>18  </td><td>224 </td><td>13.8</td><td>67  </td><td> 9  </td><td>17  </td></tr>\n",
       "\t<tr><th scope=row>141</th><td>13  </td><td> 27 </td><td>10.3</td><td>76  </td><td> 9  </td><td>18  </td></tr>\n",
       "\t<tr><th scope=row>142</th><td>24  </td><td>238 </td><td>10.3</td><td>68  </td><td> 9  </td><td>19  </td></tr>\n",
       "\t<tr><th scope=row>143</th><td>16  </td><td>201 </td><td> 8.0</td><td>82  </td><td> 9  </td><td>20  </td></tr>\n",
       "\t<tr><th scope=row>144</th><td>13  </td><td>238 </td><td>12.6</td><td>64  </td><td> 9  </td><td>21  </td></tr>\n",
       "\t<tr><th scope=row>145</th><td>23  </td><td> 14 </td><td> 9.2</td><td>71  </td><td> 9  </td><td>22  </td></tr>\n",
       "\t<tr><th scope=row>146</th><td>36  </td><td>139 </td><td>10.3</td><td>81  </td><td> 9  </td><td>23  </td></tr>\n",
       "\t<tr><th scope=row>147</th><td> 7  </td><td> 49 </td><td>10.3</td><td>69  </td><td> 9  </td><td>24  </td></tr>\n",
       "\t<tr><th scope=row>148</th><td>14  </td><td> 20 </td><td>16.6</td><td>63  </td><td> 9  </td><td>25  </td></tr>\n",
       "\t<tr><th scope=row>149</th><td>30  </td><td>193 </td><td> 6.9</td><td>70  </td><td> 9  </td><td>26  </td></tr>\n",
       "\t<tr><th scope=row>NA.36</th><td>NA  </td><td> NA </td><td>  NA</td><td>NA  </td><td>NA  </td><td>NA  </td></tr>\n",
       "\t<tr><th scope=row>151</th><td>14  </td><td>191 </td><td>14.3</td><td>75  </td><td> 9  </td><td>28  </td></tr>\n",
       "\t<tr><th scope=row>152</th><td>18  </td><td>131 </td><td> 8.0</td><td>76  </td><td> 9  </td><td>29  </td></tr>\n",
       "\t<tr><th scope=row>153</th><td>20  </td><td>223 </td><td>11.5</td><td>68  </td><td> 9  </td><td>30  </td></tr>\n",
       "</tbody>\n",
       "</table>\n"
      ],
      "text/latex": [
       "\\begin{tabular}{r|llllll}\n",
       "  & Ozone & Solar.R & Wind & Temp & Month & Day\\\\\n",
       "\\hline\n",
       "\t1 &  41  & 190  &  7.4 & 67   &  5   &  1  \\\\\n",
       "\t2 &  36  & 118  &  8.0 & 72   &  5   &  2  \\\\\n",
       "\t3 &  12  & 149  & 12.6 & 74   &  5   &  3  \\\\\n",
       "\t4 &  18  & 313  & 11.5 & 62   &  5   &  4  \\\\\n",
       "\tNA &  NA  &  NA  &   NA & NA   & NA   & NA  \\\\\n",
       "\t6 &  28  &  NA  & 14.9 & 66   &  5   &  6  \\\\\n",
       "\t7 &  23  & 299  &  8.6 & 65   &  5   &  7  \\\\\n",
       "\t8 &  19  &  99  & 13.8 & 59   &  5   &  8  \\\\\n",
       "\t9 &   8  &  19  & 20.1 & 61   &  5   &  9  \\\\\n",
       "\tNA.1 &  NA  &  NA  &   NA & NA   & NA   & NA  \\\\\n",
       "\t11 &   7  &  NA  &  6.9 & 74   &  5   & 11  \\\\\n",
       "\t12 &  16  & 256  &  9.7 & 69   &  5   & 12  \\\\\n",
       "\t13 &  11  & 290  &  9.2 & 66   &  5   & 13  \\\\\n",
       "\t14 &  14  & 274  & 10.9 & 68   &  5   & 14  \\\\\n",
       "\t15 &  18  &  65  & 13.2 & 58   &  5   & 15  \\\\\n",
       "\t16 &  14  & 334  & 11.5 & 64   &  5   & 16  \\\\\n",
       "\t17 &  34  & 307  & 12.0 & 66   &  5   & 17  \\\\\n",
       "\t18 &   6  &  78  & 18.4 & 57   &  5   & 18  \\\\\n",
       "\t19 &  30  & 322  & 11.5 & 68   &  5   & 19  \\\\\n",
       "\t20 &  11  &  44  &  9.7 & 62   &  5   & 20  \\\\\n",
       "\t21 &   1  &   8  &  9.7 & 59   &  5   & 21  \\\\\n",
       "\t22 &  11  & 320  & 16.6 & 73   &  5   & 22  \\\\\n",
       "\t23 &   4  &  25  &  9.7 & 61   &  5   & 23  \\\\\n",
       "\t24 &  32  &  92  & 12.0 & 61   &  5   & 24  \\\\\n",
       "\tNA.2 &  NA  &  NA  &   NA & NA   & NA   & NA  \\\\\n",
       "\tNA.3 &  NA  &  NA  &   NA & NA   & NA   & NA  \\\\\n",
       "\tNA.4 &  NA  &  NA  &   NA & NA   & NA   & NA  \\\\\n",
       "\t28 &  23  &  13  & 12.0 & 67   &  5   & 28  \\\\\n",
       "\t29 &  45  & 252  & 14.9 & 81   &  5   & 29  \\\\\n",
       "\t30 & 115  & 223  &  5.7 & 79   &  5   & 30  \\\\\n",
       "\t⋮ & ⋮ & ⋮ & ⋮ & ⋮ & ⋮ & ⋮\\\\\n",
       "\t124 & 96   & 167  &  6.9 & 91   &  9   &  1  \\\\\n",
       "\t125 & 78   & 197  &  5.1 & 92   &  9   &  2  \\\\\n",
       "\t126 & 73   & 183  &  2.8 & 93   &  9   &  3  \\\\\n",
       "\t127 & 91   & 189  &  4.6 & 93   &  9   &  4  \\\\\n",
       "\t128 & 47   &  95  &  7.4 & 87   &  9   &  5  \\\\\n",
       "\t129 & 32   &  92  & 15.5 & 84   &  9   &  6  \\\\\n",
       "\t130 & 20   & 252  & 10.9 & 80   &  9   &  7  \\\\\n",
       "\t131 & 23   & 220  & 10.3 & 78   &  9   &  8  \\\\\n",
       "\t132 & 21   & 230  & 10.9 & 75   &  9   &  9  \\\\\n",
       "\t133 & 24   & 259  &  9.7 & 73   &  9   & 10  \\\\\n",
       "\t134 & 44   & 236  & 14.9 & 81   &  9   & 11  \\\\\n",
       "\t135 & 21   & 259  & 15.5 & 76   &  9   & 12  \\\\\n",
       "\t136 & 28   & 238  &  6.3 & 77   &  9   & 13  \\\\\n",
       "\t137 &  9   &  24  & 10.9 & 71   &  9   & 14  \\\\\n",
       "\t138 & 13   & 112  & 11.5 & 71   &  9   & 15  \\\\\n",
       "\t139 & 46   & 237  &  6.9 & 78   &  9   & 16  \\\\\n",
       "\t140 & 18   & 224  & 13.8 & 67   &  9   & 17  \\\\\n",
       "\t141 & 13   &  27  & 10.3 & 76   &  9   & 18  \\\\\n",
       "\t142 & 24   & 238  & 10.3 & 68   &  9   & 19  \\\\\n",
       "\t143 & 16   & 201  &  8.0 & 82   &  9   & 20  \\\\\n",
       "\t144 & 13   & 238  & 12.6 & 64   &  9   & 21  \\\\\n",
       "\t145 & 23   &  14  &  9.2 & 71   &  9   & 22  \\\\\n",
       "\t146 & 36   & 139  & 10.3 & 81   &  9   & 23  \\\\\n",
       "\t147 &  7   &  49  & 10.3 & 69   &  9   & 24  \\\\\n",
       "\t148 & 14   &  20  & 16.6 & 63   &  9   & 25  \\\\\n",
       "\t149 & 30   & 193  &  6.9 & 70   &  9   & 26  \\\\\n",
       "\tNA.36 & NA   &  NA  &   NA & NA   & NA   & NA  \\\\\n",
       "\t151 & 14   & 191  & 14.3 & 75   &  9   & 28  \\\\\n",
       "\t152 & 18   & 131  &  8.0 & 76   &  9   & 29  \\\\\n",
       "\t153 & 20   & 223  & 11.5 & 68   &  9   & 30  \\\\\n",
       "\\end{tabular}\n"
      ],
      "text/markdown": [
       "\n",
       "| <!--/--> | Ozone | Solar.R | Wind | Temp | Month | Day | \n",
       "|---|---|---|---|---|---|---|---|---|---|---|---|---|---|---|---|---|---|---|---|---|---|---|---|---|---|---|---|---|---|---|---|---|---|---|---|---|---|---|---|---|---|---|---|---|---|---|---|---|---|---|---|---|---|---|---|---|---|---|---|---|\n",
       "| 1 |  41  | 190  |  7.4 | 67   |  5   |  1   | \n",
       "| 2 |  36  | 118  |  8.0 | 72   |  5   |  2   | \n",
       "| 3 |  12  | 149  | 12.6 | 74   |  5   |  3   | \n",
       "| 4 |  18  | 313  | 11.5 | 62   |  5   |  4   | \n",
       "| NA |  NA  |  NA  |   NA | NA   | NA   | NA   | \n",
       "| 6 |  28  |  NA  | 14.9 | 66   |  5   |  6   | \n",
       "| 7 |  23  | 299  |  8.6 | 65   |  5   |  7   | \n",
       "| 8 |  19  |  99  | 13.8 | 59   |  5   |  8   | \n",
       "| 9 |   8  |  19  | 20.1 | 61   |  5   |  9   | \n",
       "| NA.1 |  NA  |  NA  |   NA | NA   | NA   | NA   | \n",
       "| 11 |   7  |  NA  |  6.9 | 74   |  5   | 11   | \n",
       "| 12 |  16  | 256  |  9.7 | 69   |  5   | 12   | \n",
       "| 13 |  11  | 290  |  9.2 | 66   |  5   | 13   | \n",
       "| 14 |  14  | 274  | 10.9 | 68   |  5   | 14   | \n",
       "| 15 |  18  |  65  | 13.2 | 58   |  5   | 15   | \n",
       "| 16 |  14  | 334  | 11.5 | 64   |  5   | 16   | \n",
       "| 17 |  34  | 307  | 12.0 | 66   |  5   | 17   | \n",
       "| 18 |   6  |  78  | 18.4 | 57   |  5   | 18   | \n",
       "| 19 |  30  | 322  | 11.5 | 68   |  5   | 19   | \n",
       "| 20 |  11  |  44  |  9.7 | 62   |  5   | 20   | \n",
       "| 21 |   1  |   8  |  9.7 | 59   |  5   | 21   | \n",
       "| 22 |  11  | 320  | 16.6 | 73   |  5   | 22   | \n",
       "| 23 |   4  |  25  |  9.7 | 61   |  5   | 23   | \n",
       "| 24 |  32  |  92  | 12.0 | 61   |  5   | 24   | \n",
       "| NA.2 |  NA  |  NA  |   NA | NA   | NA   | NA   | \n",
       "| NA.3 |  NA  |  NA  |   NA | NA   | NA   | NA   | \n",
       "| NA.4 |  NA  |  NA  |   NA | NA   | NA   | NA   | \n",
       "| 28 |  23  |  13  | 12.0 | 67   |  5   | 28   | \n",
       "| 29 |  45  | 252  | 14.9 | 81   |  5   | 29   | \n",
       "| 30 | 115  | 223  |  5.7 | 79   |  5   | 30   | \n",
       "| ⋮ | ⋮ | ⋮ | ⋮ | ⋮ | ⋮ | ⋮ | \n",
       "| 124 | 96   | 167  |  6.9 | 91   |  9   |  1   | \n",
       "| 125 | 78   | 197  |  5.1 | 92   |  9   |  2   | \n",
       "| 126 | 73   | 183  |  2.8 | 93   |  9   |  3   | \n",
       "| 127 | 91   | 189  |  4.6 | 93   |  9   |  4   | \n",
       "| 128 | 47   |  95  |  7.4 | 87   |  9   |  5   | \n",
       "| 129 | 32   |  92  | 15.5 | 84   |  9   |  6   | \n",
       "| 130 | 20   | 252  | 10.9 | 80   |  9   |  7   | \n",
       "| 131 | 23   | 220  | 10.3 | 78   |  9   |  8   | \n",
       "| 132 | 21   | 230  | 10.9 | 75   |  9   |  9   | \n",
       "| 133 | 24   | 259  |  9.7 | 73   |  9   | 10   | \n",
       "| 134 | 44   | 236  | 14.9 | 81   |  9   | 11   | \n",
       "| 135 | 21   | 259  | 15.5 | 76   |  9   | 12   | \n",
       "| 136 | 28   | 238  |  6.3 | 77   |  9   | 13   | \n",
       "| 137 |  9   |  24  | 10.9 | 71   |  9   | 14   | \n",
       "| 138 | 13   | 112  | 11.5 | 71   |  9   | 15   | \n",
       "| 139 | 46   | 237  |  6.9 | 78   |  9   | 16   | \n",
       "| 140 | 18   | 224  | 13.8 | 67   |  9   | 17   | \n",
       "| 141 | 13   |  27  | 10.3 | 76   |  9   | 18   | \n",
       "| 142 | 24   | 238  | 10.3 | 68   |  9   | 19   | \n",
       "| 143 | 16   | 201  |  8.0 | 82   |  9   | 20   | \n",
       "| 144 | 13   | 238  | 12.6 | 64   |  9   | 21   | \n",
       "| 145 | 23   |  14  |  9.2 | 71   |  9   | 22   | \n",
       "| 146 | 36   | 139  | 10.3 | 81   |  9   | 23   | \n",
       "| 147 |  7   |  49  | 10.3 | 69   |  9   | 24   | \n",
       "| 148 | 14   |  20  | 16.6 | 63   |  9   | 25   | \n",
       "| 149 | 30   | 193  |  6.9 | 70   |  9   | 26   | \n",
       "| NA.36 | NA   |  NA  |   NA | NA   | NA   | NA   | \n",
       "| 151 | 14   | 191  | 14.3 | 75   |  9   | 28   | \n",
       "| 152 | 18   | 131  |  8.0 | 76   |  9   | 29   | \n",
       "| 153 | 20   | 223  | 11.5 | 68   |  9   | 30   | \n",
       "\n",
       "\n"
      ],
      "text/plain": [
       "      Ozone Solar.R Wind Temp Month Day\n",
       "1      41   190      7.4 67    5     1 \n",
       "2      36   118      8.0 72    5     2 \n",
       "3      12   149     12.6 74    5     3 \n",
       "4      18   313     11.5 62    5     4 \n",
       "NA     NA    NA       NA NA   NA    NA \n",
       "6      28    NA     14.9 66    5     6 \n",
       "7      23   299      8.6 65    5     7 \n",
       "8      19    99     13.8 59    5     8 \n",
       "9       8    19     20.1 61    5     9 \n",
       "NA.1   NA    NA       NA NA   NA    NA \n",
       "11      7    NA      6.9 74    5    11 \n",
       "12     16   256      9.7 69    5    12 \n",
       "13     11   290      9.2 66    5    13 \n",
       "14     14   274     10.9 68    5    14 \n",
       "15     18    65     13.2 58    5    15 \n",
       "16     14   334     11.5 64    5    16 \n",
       "17     34   307     12.0 66    5    17 \n",
       "18      6    78     18.4 57    5    18 \n",
       "19     30   322     11.5 68    5    19 \n",
       "20     11    44      9.7 62    5    20 \n",
       "21      1     8      9.7 59    5    21 \n",
       "22     11   320     16.6 73    5    22 \n",
       "23      4    25      9.7 61    5    23 \n",
       "24     32    92     12.0 61    5    24 \n",
       "NA.2   NA    NA       NA NA   NA    NA \n",
       "NA.3   NA    NA       NA NA   NA    NA \n",
       "NA.4   NA    NA       NA NA   NA    NA \n",
       "28     23    13     12.0 67    5    28 \n",
       "29     45   252     14.9 81    5    29 \n",
       "30    115   223      5.7 79    5    30 \n",
       "⋮     ⋮     ⋮       ⋮    ⋮    ⋮     ⋮  \n",
       "124   96    167      6.9 91    9     1 \n",
       "125   78    197      5.1 92    9     2 \n",
       "126   73    183      2.8 93    9     3 \n",
       "127   91    189      4.6 93    9     4 \n",
       "128   47     95      7.4 87    9     5 \n",
       "129   32     92     15.5 84    9     6 \n",
       "130   20    252     10.9 80    9     7 \n",
       "131   23    220     10.3 78    9     8 \n",
       "132   21    230     10.9 75    9     9 \n",
       "133   24    259      9.7 73    9    10 \n",
       "134   44    236     14.9 81    9    11 \n",
       "135   21    259     15.5 76    9    12 \n",
       "136   28    238      6.3 77    9    13 \n",
       "137    9     24     10.9 71    9    14 \n",
       "138   13    112     11.5 71    9    15 \n",
       "139   46    237      6.9 78    9    16 \n",
       "140   18    224     13.8 67    9    17 \n",
       "141   13     27     10.3 76    9    18 \n",
       "142   24    238     10.3 68    9    19 \n",
       "143   16    201      8.0 82    9    20 \n",
       "144   13    238     12.6 64    9    21 \n",
       "145   23     14      9.2 71    9    22 \n",
       "146   36    139     10.3 81    9    23 \n",
       "147    7     49     10.3 69    9    24 \n",
       "148   14     20     16.6 63    9    25 \n",
       "149   30    193      6.9 70    9    26 \n",
       "NA.36 NA     NA       NA NA   NA    NA \n",
       "151   14    191     14.3 75    9    28 \n",
       "152   18    131      8.0 76    9    29 \n",
       "153   20    223     11.5 68    9    30 "
      ]
     },
     "metadata": {},
     "output_type": "display_data"
    }
   ],
   "source": [
    "airquality[airquality$Ozone>0,]"
   ]
  },
  {
   "cell_type": "code",
   "execution_count": 164,
   "metadata": {
    "collapsed": false
   },
   "outputs": [
    {
     "data": {
      "text/html": [
       "<ol class=list-inline>\n",
       "\t<li>TRUE</li>\n",
       "\t<li>TRUE</li>\n",
       "\t<li>TRUE</li>\n",
       "\t<li>TRUE</li>\n",
       "\t<li>FALSE</li>\n",
       "\t<li>FALSE</li>\n",
       "\t<li>TRUE</li>\n",
       "\t<li>TRUE</li>\n",
       "\t<li>TRUE</li>\n",
       "\t<li>FALSE</li>\n",
       "\t<li>FALSE</li>\n",
       "\t<li>TRUE</li>\n",
       "\t<li>TRUE</li>\n",
       "\t<li>TRUE</li>\n",
       "\t<li>TRUE</li>\n",
       "\t<li>TRUE</li>\n",
       "\t<li>TRUE</li>\n",
       "\t<li>TRUE</li>\n",
       "\t<li>TRUE</li>\n",
       "\t<li>TRUE</li>\n",
       "\t<li>TRUE</li>\n",
       "\t<li>TRUE</li>\n",
       "\t<li>TRUE</li>\n",
       "\t<li>TRUE</li>\n",
       "\t<li>FALSE</li>\n",
       "\t<li>FALSE</li>\n",
       "\t<li>FALSE</li>\n",
       "\t<li>TRUE</li>\n",
       "\t<li>TRUE</li>\n",
       "\t<li>TRUE</li>\n",
       "\t<li>TRUE</li>\n",
       "\t<li>FALSE</li>\n",
       "\t<li>FALSE</li>\n",
       "\t<li>FALSE</li>\n",
       "\t<li>FALSE</li>\n",
       "\t<li>FALSE</li>\n",
       "\t<li>FALSE</li>\n",
       "\t<li>TRUE</li>\n",
       "\t<li>FALSE</li>\n",
       "\t<li>TRUE</li>\n",
       "\t<li>TRUE</li>\n",
       "\t<li>FALSE</li>\n",
       "\t<li>FALSE</li>\n",
       "\t<li>TRUE</li>\n",
       "\t<li>FALSE</li>\n",
       "\t<li>FALSE</li>\n",
       "\t<li>TRUE</li>\n",
       "\t<li>TRUE</li>\n",
       "\t<li>TRUE</li>\n",
       "\t<li>TRUE</li>\n",
       "\t<li>TRUE</li>\n",
       "\t<li>FALSE</li>\n",
       "\t<li>FALSE</li>\n",
       "\t<li>FALSE</li>\n",
       "\t<li>FALSE</li>\n",
       "\t<li>FALSE</li>\n",
       "\t<li>FALSE</li>\n",
       "\t<li>FALSE</li>\n",
       "\t<li>FALSE</li>\n",
       "\t<li>FALSE</li>\n",
       "\t<li>FALSE</li>\n",
       "\t<li>TRUE</li>\n",
       "\t<li>TRUE</li>\n",
       "\t<li>TRUE</li>\n",
       "\t<li>FALSE</li>\n",
       "\t<li>TRUE</li>\n",
       "\t<li>TRUE</li>\n",
       "\t<li>TRUE</li>\n",
       "\t<li>TRUE</li>\n",
       "\t<li>TRUE</li>\n",
       "\t<li>TRUE</li>\n",
       "\t<li>FALSE</li>\n",
       "\t<li>TRUE</li>\n",
       "\t<li>TRUE</li>\n",
       "\t<li>FALSE</li>\n",
       "\t<li>TRUE</li>\n",
       "\t<li>TRUE</li>\n",
       "\t<li>TRUE</li>\n",
       "\t<li>TRUE</li>\n",
       "\t<li>TRUE</li>\n",
       "\t<li>TRUE</li>\n",
       "\t<li>TRUE</li>\n",
       "\t<li>FALSE</li>\n",
       "\t<li>FALSE</li>\n",
       "\t<li>TRUE</li>\n",
       "\t<li>TRUE</li>\n",
       "\t<li>TRUE</li>\n",
       "\t<li>TRUE</li>\n",
       "\t<li>TRUE</li>\n",
       "\t<li>TRUE</li>\n",
       "\t<li>TRUE</li>\n",
       "\t<li>TRUE</li>\n",
       "\t<li>TRUE</li>\n",
       "\t<li>TRUE</li>\n",
       "\t<li>TRUE</li>\n",
       "\t<li>FALSE</li>\n",
       "\t<li>FALSE</li>\n",
       "\t<li>FALSE</li>\n",
       "\t<li>TRUE</li>\n",
       "\t<li>TRUE</li>\n",
       "\t<li>TRUE</li>\n",
       "\t<li>FALSE</li>\n",
       "\t<li>FALSE</li>\n",
       "\t<li>TRUE</li>\n",
       "\t<li>TRUE</li>\n",
       "\t<li>TRUE</li>\n",
       "\t<li>FALSE</li>\n",
       "\t<li>TRUE</li>\n",
       "\t<li>TRUE</li>\n",
       "\t<li>TRUE</li>\n",
       "\t<li>TRUE</li>\n",
       "\t<li>TRUE</li>\n",
       "\t<li>TRUE</li>\n",
       "\t<li>TRUE</li>\n",
       "\t<li>FALSE</li>\n",
       "\t<li>TRUE</li>\n",
       "\t<li>TRUE</li>\n",
       "\t<li>TRUE</li>\n",
       "\t<li>FALSE</li>\n",
       "\t<li>TRUE</li>\n",
       "\t<li>TRUE</li>\n",
       "\t<li>TRUE</li>\n",
       "\t<li>TRUE</li>\n",
       "\t<li>TRUE</li>\n",
       "\t<li>TRUE</li>\n",
       "\t<li>TRUE</li>\n",
       "\t<li>TRUE</li>\n",
       "\t<li>TRUE</li>\n",
       "\t<li>TRUE</li>\n",
       "\t<li>TRUE</li>\n",
       "\t<li>TRUE</li>\n",
       "\t<li>TRUE</li>\n",
       "\t<li>TRUE</li>\n",
       "\t<li>TRUE</li>\n",
       "\t<li>TRUE</li>\n",
       "\t<li>TRUE</li>\n",
       "\t<li>TRUE</li>\n",
       "\t<li>TRUE</li>\n",
       "\t<li>TRUE</li>\n",
       "\t<li>TRUE</li>\n",
       "\t<li>TRUE</li>\n",
       "\t<li>TRUE</li>\n",
       "\t<li>TRUE</li>\n",
       "\t<li>TRUE</li>\n",
       "\t<li>TRUE</li>\n",
       "\t<li>TRUE</li>\n",
       "\t<li>TRUE</li>\n",
       "\t<li>TRUE</li>\n",
       "\t<li>TRUE</li>\n",
       "\t<li>FALSE</li>\n",
       "\t<li>TRUE</li>\n",
       "\t<li>TRUE</li>\n",
       "\t<li>TRUE</li>\n",
       "</ol>\n"
      ],
      "text/latex": [
       "\\begin{enumerate*}\n",
       "\\item TRUE\n",
       "\\item TRUE\n",
       "\\item TRUE\n",
       "\\item TRUE\n",
       "\\item FALSE\n",
       "\\item FALSE\n",
       "\\item TRUE\n",
       "\\item TRUE\n",
       "\\item TRUE\n",
       "\\item FALSE\n",
       "\\item FALSE\n",
       "\\item TRUE\n",
       "\\item TRUE\n",
       "\\item TRUE\n",
       "\\item TRUE\n",
       "\\item TRUE\n",
       "\\item TRUE\n",
       "\\item TRUE\n",
       "\\item TRUE\n",
       "\\item TRUE\n",
       "\\item TRUE\n",
       "\\item TRUE\n",
       "\\item TRUE\n",
       "\\item TRUE\n",
       "\\item FALSE\n",
       "\\item FALSE\n",
       "\\item FALSE\n",
       "\\item TRUE\n",
       "\\item TRUE\n",
       "\\item TRUE\n",
       "\\item TRUE\n",
       "\\item FALSE\n",
       "\\item FALSE\n",
       "\\item FALSE\n",
       "\\item FALSE\n",
       "\\item FALSE\n",
       "\\item FALSE\n",
       "\\item TRUE\n",
       "\\item FALSE\n",
       "\\item TRUE\n",
       "\\item TRUE\n",
       "\\item FALSE\n",
       "\\item FALSE\n",
       "\\item TRUE\n",
       "\\item FALSE\n",
       "\\item FALSE\n",
       "\\item TRUE\n",
       "\\item TRUE\n",
       "\\item TRUE\n",
       "\\item TRUE\n",
       "\\item TRUE\n",
       "\\item FALSE\n",
       "\\item FALSE\n",
       "\\item FALSE\n",
       "\\item FALSE\n",
       "\\item FALSE\n",
       "\\item FALSE\n",
       "\\item FALSE\n",
       "\\item FALSE\n",
       "\\item FALSE\n",
       "\\item FALSE\n",
       "\\item TRUE\n",
       "\\item TRUE\n",
       "\\item TRUE\n",
       "\\item FALSE\n",
       "\\item TRUE\n",
       "\\item TRUE\n",
       "\\item TRUE\n",
       "\\item TRUE\n",
       "\\item TRUE\n",
       "\\item TRUE\n",
       "\\item FALSE\n",
       "\\item TRUE\n",
       "\\item TRUE\n",
       "\\item FALSE\n",
       "\\item TRUE\n",
       "\\item TRUE\n",
       "\\item TRUE\n",
       "\\item TRUE\n",
       "\\item TRUE\n",
       "\\item TRUE\n",
       "\\item TRUE\n",
       "\\item FALSE\n",
       "\\item FALSE\n",
       "\\item TRUE\n",
       "\\item TRUE\n",
       "\\item TRUE\n",
       "\\item TRUE\n",
       "\\item TRUE\n",
       "\\item TRUE\n",
       "\\item TRUE\n",
       "\\item TRUE\n",
       "\\item TRUE\n",
       "\\item TRUE\n",
       "\\item TRUE\n",
       "\\item FALSE\n",
       "\\item FALSE\n",
       "\\item FALSE\n",
       "\\item TRUE\n",
       "\\item TRUE\n",
       "\\item TRUE\n",
       "\\item FALSE\n",
       "\\item FALSE\n",
       "\\item TRUE\n",
       "\\item TRUE\n",
       "\\item TRUE\n",
       "\\item FALSE\n",
       "\\item TRUE\n",
       "\\item TRUE\n",
       "\\item TRUE\n",
       "\\item TRUE\n",
       "\\item TRUE\n",
       "\\item TRUE\n",
       "\\item TRUE\n",
       "\\item FALSE\n",
       "\\item TRUE\n",
       "\\item TRUE\n",
       "\\item TRUE\n",
       "\\item FALSE\n",
       "\\item TRUE\n",
       "\\item TRUE\n",
       "\\item TRUE\n",
       "\\item TRUE\n",
       "\\item TRUE\n",
       "\\item TRUE\n",
       "\\item TRUE\n",
       "\\item TRUE\n",
       "\\item TRUE\n",
       "\\item TRUE\n",
       "\\item TRUE\n",
       "\\item TRUE\n",
       "\\item TRUE\n",
       "\\item TRUE\n",
       "\\item TRUE\n",
       "\\item TRUE\n",
       "\\item TRUE\n",
       "\\item TRUE\n",
       "\\item TRUE\n",
       "\\item TRUE\n",
       "\\item TRUE\n",
       "\\item TRUE\n",
       "\\item TRUE\n",
       "\\item TRUE\n",
       "\\item TRUE\n",
       "\\item TRUE\n",
       "\\item TRUE\n",
       "\\item TRUE\n",
       "\\item TRUE\n",
       "\\item TRUE\n",
       "\\item FALSE\n",
       "\\item TRUE\n",
       "\\item TRUE\n",
       "\\item TRUE\n",
       "\\end{enumerate*}\n"
      ],
      "text/markdown": [
       "1. TRUE\n",
       "2. TRUE\n",
       "3. TRUE\n",
       "4. TRUE\n",
       "5. FALSE\n",
       "6. FALSE\n",
       "7. TRUE\n",
       "8. TRUE\n",
       "9. TRUE\n",
       "10. FALSE\n",
       "11. FALSE\n",
       "12. TRUE\n",
       "13. TRUE\n",
       "14. TRUE\n",
       "15. TRUE\n",
       "16. TRUE\n",
       "17. TRUE\n",
       "18. TRUE\n",
       "19. TRUE\n",
       "20. TRUE\n",
       "21. TRUE\n",
       "22. TRUE\n",
       "23. TRUE\n",
       "24. TRUE\n",
       "25. FALSE\n",
       "26. FALSE\n",
       "27. FALSE\n",
       "28. TRUE\n",
       "29. TRUE\n",
       "30. TRUE\n",
       "31. TRUE\n",
       "32. FALSE\n",
       "33. FALSE\n",
       "34. FALSE\n",
       "35. FALSE\n",
       "36. FALSE\n",
       "37. FALSE\n",
       "38. TRUE\n",
       "39. FALSE\n",
       "40. TRUE\n",
       "41. TRUE\n",
       "42. FALSE\n",
       "43. FALSE\n",
       "44. TRUE\n",
       "45. FALSE\n",
       "46. FALSE\n",
       "47. TRUE\n",
       "48. TRUE\n",
       "49. TRUE\n",
       "50. TRUE\n",
       "51. TRUE\n",
       "52. FALSE\n",
       "53. FALSE\n",
       "54. FALSE\n",
       "55. FALSE\n",
       "56. FALSE\n",
       "57. FALSE\n",
       "58. FALSE\n",
       "59. FALSE\n",
       "60. FALSE\n",
       "61. FALSE\n",
       "62. TRUE\n",
       "63. TRUE\n",
       "64. TRUE\n",
       "65. FALSE\n",
       "66. TRUE\n",
       "67. TRUE\n",
       "68. TRUE\n",
       "69. TRUE\n",
       "70. TRUE\n",
       "71. TRUE\n",
       "72. FALSE\n",
       "73. TRUE\n",
       "74. TRUE\n",
       "75. FALSE\n",
       "76. TRUE\n",
       "77. TRUE\n",
       "78. TRUE\n",
       "79. TRUE\n",
       "80. TRUE\n",
       "81. TRUE\n",
       "82. TRUE\n",
       "83. FALSE\n",
       "84. FALSE\n",
       "85. TRUE\n",
       "86. TRUE\n",
       "87. TRUE\n",
       "88. TRUE\n",
       "89. TRUE\n",
       "90. TRUE\n",
       "91. TRUE\n",
       "92. TRUE\n",
       "93. TRUE\n",
       "94. TRUE\n",
       "95. TRUE\n",
       "96. FALSE\n",
       "97. FALSE\n",
       "98. FALSE\n",
       "99. TRUE\n",
       "100. TRUE\n",
       "101. TRUE\n",
       "102. FALSE\n",
       "103. FALSE\n",
       "104. TRUE\n",
       "105. TRUE\n",
       "106. TRUE\n",
       "107. FALSE\n",
       "108. TRUE\n",
       "109. TRUE\n",
       "110. TRUE\n",
       "111. TRUE\n",
       "112. TRUE\n",
       "113. TRUE\n",
       "114. TRUE\n",
       "115. FALSE\n",
       "116. TRUE\n",
       "117. TRUE\n",
       "118. TRUE\n",
       "119. FALSE\n",
       "120. TRUE\n",
       "121. TRUE\n",
       "122. TRUE\n",
       "123. TRUE\n",
       "124. TRUE\n",
       "125. TRUE\n",
       "126. TRUE\n",
       "127. TRUE\n",
       "128. TRUE\n",
       "129. TRUE\n",
       "130. TRUE\n",
       "131. TRUE\n",
       "132. TRUE\n",
       "133. TRUE\n",
       "134. TRUE\n",
       "135. TRUE\n",
       "136. TRUE\n",
       "137. TRUE\n",
       "138. TRUE\n",
       "139. TRUE\n",
       "140. TRUE\n",
       "141. TRUE\n",
       "142. TRUE\n",
       "143. TRUE\n",
       "144. TRUE\n",
       "145. TRUE\n",
       "146. TRUE\n",
       "147. TRUE\n",
       "148. TRUE\n",
       "149. TRUE\n",
       "150. FALSE\n",
       "151. TRUE\n",
       "152. TRUE\n",
       "153. TRUE\n",
       "\n",
       "\n"
      ],
      "text/plain": [
       "  [1]  TRUE  TRUE  TRUE  TRUE FALSE FALSE  TRUE  TRUE  TRUE FALSE FALSE  TRUE\n",
       " [13]  TRUE  TRUE  TRUE  TRUE  TRUE  TRUE  TRUE  TRUE  TRUE  TRUE  TRUE  TRUE\n",
       " [25] FALSE FALSE FALSE  TRUE  TRUE  TRUE  TRUE FALSE FALSE FALSE FALSE FALSE\n",
       " [37] FALSE  TRUE FALSE  TRUE  TRUE FALSE FALSE  TRUE FALSE FALSE  TRUE  TRUE\n",
       " [49]  TRUE  TRUE  TRUE FALSE FALSE FALSE FALSE FALSE FALSE FALSE FALSE FALSE\n",
       " [61] FALSE  TRUE  TRUE  TRUE FALSE  TRUE  TRUE  TRUE  TRUE  TRUE  TRUE FALSE\n",
       " [73]  TRUE  TRUE FALSE  TRUE  TRUE  TRUE  TRUE  TRUE  TRUE  TRUE FALSE FALSE\n",
       " [85]  TRUE  TRUE  TRUE  TRUE  TRUE  TRUE  TRUE  TRUE  TRUE  TRUE  TRUE FALSE\n",
       " [97] FALSE FALSE  TRUE  TRUE  TRUE FALSE FALSE  TRUE  TRUE  TRUE FALSE  TRUE\n",
       "[109]  TRUE  TRUE  TRUE  TRUE  TRUE  TRUE FALSE  TRUE  TRUE  TRUE FALSE  TRUE\n",
       "[121]  TRUE  TRUE  TRUE  TRUE  TRUE  TRUE  TRUE  TRUE  TRUE  TRUE  TRUE  TRUE\n",
       "[133]  TRUE  TRUE  TRUE  TRUE  TRUE  TRUE  TRUE  TRUE  TRUE  TRUE  TRUE  TRUE\n",
       "[145]  TRUE  TRUE  TRUE  TRUE  TRUE FALSE  TRUE  TRUE  TRUE"
      ]
     },
     "metadata": {},
     "output_type": "display_data"
    }
   ],
   "source": [
    "#Let's try to understand how many records are complete\n",
    "complete.cases(airquality)"
   ]
  },
  {
   "cell_type": "code",
   "execution_count": 165,
   "metadata": {
    "collapsed": false
   },
   "outputs": [
    {
     "data": {
      "text/html": [
       "<table>\n",
       "<thead><tr><th></th><th scope=col>Ozone</th><th scope=col>Solar.R</th><th scope=col>Wind</th><th scope=col>Temp</th><th scope=col>Month</th><th scope=col>Day</th></tr></thead>\n",
       "<tbody>\n",
       "\t<tr><th scope=row>30</th><td>115 </td><td>223 </td><td> 5.7</td><td>79  </td><td>5   </td><td>30  </td></tr>\n",
       "\t<tr><th scope=row>62</th><td>135 </td><td>269 </td><td> 4.1</td><td>84  </td><td>7   </td><td> 1  </td></tr>\n",
       "\t<tr><th scope=row>69</th><td> 97 </td><td>267 </td><td> 6.3</td><td>92  </td><td>7   </td><td> 8  </td></tr>\n",
       "\t<tr><th scope=row>70</th><td> 97 </td><td>272 </td><td> 5.7</td><td>92  </td><td>7   </td><td> 9  </td></tr>\n",
       "\t<tr><th scope=row>71</th><td> 85 </td><td>175 </td><td> 7.4</td><td>89  </td><td>7   </td><td>10  </td></tr>\n",
       "\t<tr><th scope=row>86</th><td>108 </td><td>223 </td><td> 8.0</td><td>85  </td><td>7   </td><td>25  </td></tr>\n",
       "\t<tr><th scope=row>89</th><td> 82 </td><td>213 </td><td> 7.4</td><td>88  </td><td>7   </td><td>28  </td></tr>\n",
       "\t<tr><th scope=row>99</th><td>122 </td><td>255 </td><td> 4.0</td><td>89  </td><td>8   </td><td> 7  </td></tr>\n",
       "\t<tr><th scope=row>100</th><td> 89 </td><td>229 </td><td>10.3</td><td>90  </td><td>8   </td><td> 8  </td></tr>\n",
       "\t<tr><th scope=row>101</th><td>110 </td><td>207 </td><td> 8.0</td><td>90  </td><td>8   </td><td> 9  </td></tr>\n",
       "\t<tr><th scope=row>117</th><td>168 </td><td>238 </td><td> 3.4</td><td>81  </td><td>8   </td><td>25  </td></tr>\n",
       "\t<tr><th scope=row>121</th><td>118 </td><td>225 </td><td> 2.3</td><td>94  </td><td>8   </td><td>29  </td></tr>\n",
       "\t<tr><th scope=row>122</th><td> 84 </td><td>237 </td><td> 6.3</td><td>96  </td><td>8   </td><td>30  </td></tr>\n",
       "\t<tr><th scope=row>123</th><td> 85 </td><td>188 </td><td> 6.3</td><td>94  </td><td>8   </td><td>31  </td></tr>\n",
       "\t<tr><th scope=row>124</th><td> 96 </td><td>167 </td><td> 6.9</td><td>91  </td><td>9   </td><td> 1  </td></tr>\n",
       "\t<tr><th scope=row>127</th><td> 91 </td><td>189 </td><td> 4.6</td><td>93  </td><td>9   </td><td> 4  </td></tr>\n",
       "</tbody>\n",
       "</table>\n"
      ],
      "text/latex": [
       "\\begin{tabular}{r|llllll}\n",
       "  & Ozone & Solar.R & Wind & Temp & Month & Day\\\\\n",
       "\\hline\n",
       "\t30 & 115  & 223  &  5.7 & 79   & 5    & 30  \\\\\n",
       "\t62 & 135  & 269  &  4.1 & 84   & 7    &  1  \\\\\n",
       "\t69 &  97  & 267  &  6.3 & 92   & 7    &  8  \\\\\n",
       "\t70 &  97  & 272  &  5.7 & 92   & 7    &  9  \\\\\n",
       "\t71 &  85  & 175  &  7.4 & 89   & 7    & 10  \\\\\n",
       "\t86 & 108  & 223  &  8.0 & 85   & 7    & 25  \\\\\n",
       "\t89 &  82  & 213  &  7.4 & 88   & 7    & 28  \\\\\n",
       "\t99 & 122  & 255  &  4.0 & 89   & 8    &  7  \\\\\n",
       "\t100 &  89  & 229  & 10.3 & 90   & 8    &  8  \\\\\n",
       "\t101 & 110  & 207  &  8.0 & 90   & 8    &  9  \\\\\n",
       "\t117 & 168  & 238  &  3.4 & 81   & 8    & 25  \\\\\n",
       "\t121 & 118  & 225  &  2.3 & 94   & 8    & 29  \\\\\n",
       "\t122 &  84  & 237  &  6.3 & 96   & 8    & 30  \\\\\n",
       "\t123 &  85  & 188  &  6.3 & 94   & 8    & 31  \\\\\n",
       "\t124 &  96  & 167  &  6.9 & 91   & 9    &  1  \\\\\n",
       "\t127 &  91  & 189  &  4.6 & 93   & 9    &  4  \\\\\n",
       "\\end{tabular}\n"
      ],
      "text/markdown": [
       "\n",
       "| <!--/--> | Ozone | Solar.R | Wind | Temp | Month | Day | \n",
       "|---|---|---|---|---|---|---|---|---|---|---|---|---|---|---|---|\n",
       "| 30 | 115  | 223  |  5.7 | 79   | 5    | 30   | \n",
       "| 62 | 135  | 269  |  4.1 | 84   | 7    |  1   | \n",
       "| 69 |  97  | 267  |  6.3 | 92   | 7    |  8   | \n",
       "| 70 |  97  | 272  |  5.7 | 92   | 7    |  9   | \n",
       "| 71 |  85  | 175  |  7.4 | 89   | 7    | 10   | \n",
       "| 86 | 108  | 223  |  8.0 | 85   | 7    | 25   | \n",
       "| 89 |  82  | 213  |  7.4 | 88   | 7    | 28   | \n",
       "| 99 | 122  | 255  |  4.0 | 89   | 8    |  7   | \n",
       "| 100 |  89  | 229  | 10.3 | 90   | 8    |  8   | \n",
       "| 101 | 110  | 207  |  8.0 | 90   | 8    |  9   | \n",
       "| 117 | 168  | 238  |  3.4 | 81   | 8    | 25   | \n",
       "| 121 | 118  | 225  |  2.3 | 94   | 8    | 29   | \n",
       "| 122 |  84  | 237  |  6.3 | 96   | 8    | 30   | \n",
       "| 123 |  85  | 188  |  6.3 | 94   | 8    | 31   | \n",
       "| 124 |  96  | 167  |  6.9 | 91   | 9    |  1   | \n",
       "| 127 |  91  | 189  |  4.6 | 93   | 9    |  4   | \n",
       "\n",
       "\n"
      ],
      "text/plain": [
       "    Ozone Solar.R Wind Temp Month Day\n",
       "30  115   223      5.7 79   5     30 \n",
       "62  135   269      4.1 84   7      1 \n",
       "69   97   267      6.3 92   7      8 \n",
       "70   97   272      5.7 92   7      9 \n",
       "71   85   175      7.4 89   7     10 \n",
       "86  108   223      8.0 85   7     25 \n",
       "89   82   213      7.4 88   7     28 \n",
       "99  122   255      4.0 89   8      7 \n",
       "100  89   229     10.3 90   8      8 \n",
       "101 110   207      8.0 90   8      9 \n",
       "117 168   238      3.4 81   8     25 \n",
       "121 118   225      2.3 94   8     29 \n",
       "122  84   237      6.3 96   8     30 \n",
       "123  85   188      6.3 94   8     31 \n",
       "124  96   167      6.9 91   9      1 \n",
       "127  91   189      4.6 93   9      4 "
      ]
     },
     "metadata": {},
     "output_type": "display_data"
    }
   ],
   "source": [
    "#and select them only\n",
    "my.airquality <- airquality[complete.cases(airquality),]\n",
    "my.airquality[my.airquality$Ozone>80,]"
   ]
  },
  {
   "cell_type": "code",
   "execution_count": 166,
   "metadata": {
    "collapsed": false
   },
   "outputs": [
    {
     "data": {
      "text/html": [
       "<table>\n",
       "<thead><tr><th></th><th scope=col>Ozone</th><th scope=col>Solar.R</th><th scope=col>Wind</th><th scope=col>Temp</th><th scope=col>Month</th><th scope=col>Day</th></tr></thead>\n",
       "<tbody>\n",
       "\t<tr><th scope=row>16</th><td> 14 </td><td>334 </td><td>11.5</td><td>64  </td><td>5   </td><td>16  </td></tr>\n",
       "\t<tr><th scope=row>17</th><td> 34 </td><td>307 </td><td>12.0</td><td>66  </td><td>5   </td><td>17  </td></tr>\n",
       "\t<tr><th scope=row>18</th><td>  6 </td><td> 78 </td><td>18.4</td><td>57  </td><td>5   </td><td>18  </td></tr>\n",
       "\t<tr><th scope=row>19</th><td> 30 </td><td>322 </td><td>11.5</td><td>68  </td><td>5   </td><td>19  </td></tr>\n",
       "\t<tr><th scope=row>20</th><td> 11 </td><td> 44 </td><td> 9.7</td><td>62  </td><td>5   </td><td>20  </td></tr>\n",
       "\t<tr><th scope=row>21</th><td>  1 </td><td>  8 </td><td> 9.7</td><td>59  </td><td>5   </td><td>21  </td></tr>\n",
       "\t<tr><th scope=row>22</th><td> 11 </td><td>320 </td><td>16.6</td><td>73  </td><td>5   </td><td>22  </td></tr>\n",
       "\t<tr><th scope=row>23</th><td>  4 </td><td> 25 </td><td> 9.7</td><td>61  </td><td>5   </td><td>23  </td></tr>\n",
       "\t<tr><th scope=row>24</th><td> 32 </td><td> 92 </td><td>12.0</td><td>61  </td><td>5   </td><td>24  </td></tr>\n",
       "\t<tr><th scope=row>28</th><td> 23 </td><td> 13 </td><td>12.0</td><td>67  </td><td>5   </td><td>28  </td></tr>\n",
       "\t<tr><th scope=row>29</th><td> 45 </td><td>252 </td><td>14.9</td><td>81  </td><td>5   </td><td>29  </td></tr>\n",
       "\t<tr><th scope=row>30</th><td>115 </td><td>223 </td><td> 5.7</td><td>79  </td><td>5   </td><td>30  </td></tr>\n",
       "\t<tr><th scope=row>31</th><td> 37 </td><td>279 </td><td> 7.4</td><td>76  </td><td>5   </td><td>31  </td></tr>\n",
       "</tbody>\n",
       "</table>\n"
      ],
      "text/latex": [
       "\\begin{tabular}{r|llllll}\n",
       "  & Ozone & Solar.R & Wind & Temp & Month & Day\\\\\n",
       "\\hline\n",
       "\t16 &  14  & 334  & 11.5 & 64   & 5    & 16  \\\\\n",
       "\t17 &  34  & 307  & 12.0 & 66   & 5    & 17  \\\\\n",
       "\t18 &   6  &  78  & 18.4 & 57   & 5    & 18  \\\\\n",
       "\t19 &  30  & 322  & 11.5 & 68   & 5    & 19  \\\\\n",
       "\t20 &  11  &  44  &  9.7 & 62   & 5    & 20  \\\\\n",
       "\t21 &   1  &   8  &  9.7 & 59   & 5    & 21  \\\\\n",
       "\t22 &  11  & 320  & 16.6 & 73   & 5    & 22  \\\\\n",
       "\t23 &   4  &  25  &  9.7 & 61   & 5    & 23  \\\\\n",
       "\t24 &  32  &  92  & 12.0 & 61   & 5    & 24  \\\\\n",
       "\t28 &  23  &  13  & 12.0 & 67   & 5    & 28  \\\\\n",
       "\t29 &  45  & 252  & 14.9 & 81   & 5    & 29  \\\\\n",
       "\t30 & 115  & 223  &  5.7 & 79   & 5    & 30  \\\\\n",
       "\t31 &  37  & 279  &  7.4 & 76   & 5    & 31  \\\\\n",
       "\\end{tabular}\n"
      ],
      "text/markdown": [
       "\n",
       "| <!--/--> | Ozone | Solar.R | Wind | Temp | Month | Day | \n",
       "|---|---|---|---|---|---|---|---|---|---|---|---|---|\n",
       "| 16 |  14  | 334  | 11.5 | 64   | 5    | 16   | \n",
       "| 17 |  34  | 307  | 12.0 | 66   | 5    | 17   | \n",
       "| 18 |   6  |  78  | 18.4 | 57   | 5    | 18   | \n",
       "| 19 |  30  | 322  | 11.5 | 68   | 5    | 19   | \n",
       "| 20 |  11  |  44  |  9.7 | 62   | 5    | 20   | \n",
       "| 21 |   1  |   8  |  9.7 | 59   | 5    | 21   | \n",
       "| 22 |  11  | 320  | 16.6 | 73   | 5    | 22   | \n",
       "| 23 |   4  |  25  |  9.7 | 61   | 5    | 23   | \n",
       "| 24 |  32  |  92  | 12.0 | 61   | 5    | 24   | \n",
       "| 28 |  23  |  13  | 12.0 | 67   | 5    | 28   | \n",
       "| 29 |  45  | 252  | 14.9 | 81   | 5    | 29   | \n",
       "| 30 | 115  | 223  |  5.7 | 79   | 5    | 30   | \n",
       "| 31 |  37  | 279  |  7.4 | 76   | 5    | 31   | \n",
       "\n",
       "\n"
      ],
      "text/plain": [
       "   Ozone Solar.R Wind Temp Month Day\n",
       "16  14   334     11.5 64   5     16 \n",
       "17  34   307     12.0 66   5     17 \n",
       "18   6    78     18.4 57   5     18 \n",
       "19  30   322     11.5 68   5     19 \n",
       "20  11    44      9.7 62   5     20 \n",
       "21   1     8      9.7 59   5     21 \n",
       "22  11   320     16.6 73   5     22 \n",
       "23   4    25      9.7 61   5     23 \n",
       "24  32    92     12.0 61   5     24 \n",
       "28  23    13     12.0 67   5     28 \n",
       "29  45   252     14.9 81   5     29 \n",
       "30 115   223      5.7 79   5     30 \n",
       "31  37   279      7.4 76   5     31 "
      ]
     },
     "metadata": {},
     "output_type": "display_data"
    }
   ],
   "source": [
    "subset(my.airquality, Month == 5 & Day > 15)"
   ]
  },
  {
   "cell_type": "markdown",
   "metadata": {},
   "source": [
    "# Dataframe creation"
   ]
  },
  {
   "cell_type": "markdown",
   "metadata": {},
   "source": [
    "We've seen that a number of built-in data frame examples are available in R. \n",
    "\n",
    "In real life, dataframe can be created by combining individual vectors, other data frames or reading from exterlas cources (files or databases).\n",
    "\n",
    "- `read.table()` function reads any file into a data frame and it can control file format like newline, separator, header etc... (`write.table()` is the equivalent write operation)\n",
    "- `read.csv()` function reads a csv file into a data frame and it is dedicated to the csv pre-defined format (`write.csv()` is the equivalent write operation)\n",
    "- Files can be downloaded directly from the web using `download.file()`\n",
    "- Raw web pages can be scraped using `getURL()`\n",
    "\n",
    "\n",
    "**inserire DB COnnection modulo 2 Renato**"
   ]
  },
  {
   "cell_type": "code",
   "execution_count": 167,
   "metadata": {
    "collapsed": false
   },
   "outputs": [
    {
     "data": {
      "text/html": [
       "'/home/asus/workspace/Management Data Science/Repository/Data-Science-for-Management/tmpLavoro'"
      ],
      "text/latex": [
       "'/home/asus/workspace/Management Data Science/Repository/Data-Science-for-Management/tmpLavoro'"
      ],
      "text/markdown": [
       "'/home/asus/workspace/Management Data Science/Repository/Data-Science-for-Management/tmpLavoro'"
      ],
      "text/plain": [
       "[1] \"/home/asus/workspace/Management Data Science/Repository/Data-Science-for-Management/tmpLavoro\""
      ]
     },
     "metadata": {},
     "output_type": "display_data"
    },
    {
     "name": "stderr",
     "output_type": "stream",
     "text": [
      "Warning message in file(file, \"rt\"):\n",
      "“cannot open file 'foods.csv': File o directory non esistente”"
     ]
    },
    {
     "ename": "ERROR",
     "evalue": "Error in file(file, \"rt\"): non posso aprire questa connessione\n",
     "output_type": "error",
     "traceback": [
      "Error in file(file, \"rt\"): non posso aprire questa connessione\nTraceback:\n",
      "1. read.table(\"foods.csv\")",
      "2. file(file, \"rt\")"
     ]
    }
   ],
   "source": [
    "##### working with data frames #####\n",
    "getwd()\n",
    "ds <- read.table(\"foods.csv\")\n",
    "#average length of review text\n",
    "review.length <- unlist(lapply(as.character(knime.in$\"ReviewText\"), nchar))"
   ]
  },
  {
   "cell_type": "markdown",
   "metadata": {},
   "source": [
    "Dataframe can be manipulated in different ways, for example\n",
    "\n",
    "- Data Frames can be combined with `rbind()` and `cbind()`"
   ]
  },
  {
   "cell_type": "code",
   "execution_count": 168,
   "metadata": {
    "collapsed": false
   },
   "outputs": [
    {
     "data": {
      "text/html": [
       "<table>\n",
       "<thead><tr><th scope=col>x</th><th scope=col>y</th><th scope=col>z</th></tr></thead>\n",
       "<tbody>\n",
       "\t<tr><td> 1        </td><td>-0.1453936</td><td> 2        </td></tr>\n",
       "\t<tr><td> 2        </td><td>-1.1655448</td><td> 4        </td></tr>\n",
       "\t<tr><td> 3        </td><td>-0.8185157</td><td> 6        </td></tr>\n",
       "\t<tr><td> 4        </td><td> 0.6849361</td><td> 8        </td></tr>\n",
       "\t<tr><td> 5        </td><td>-0.3200564</td><td>10        </td></tr>\n",
       "\t<tr><td> 6        </td><td>-1.3115224</td><td>12        </td></tr>\n",
       "\t<tr><td> 7        </td><td>-0.5996083</td><td>14        </td></tr>\n",
       "\t<tr><td> 8        </td><td>-0.1294107</td><td>16        </td></tr>\n",
       "\t<tr><td> 9        </td><td> 0.8867361</td><td>18        </td></tr>\n",
       "\t<tr><td>10        </td><td>-0.1513960</td><td>20        </td></tr>\n",
       "</tbody>\n",
       "</table>\n"
      ],
      "text/latex": [
       "\\begin{tabular}{r|lll}\n",
       " x & y & z\\\\\n",
       "\\hline\n",
       "\t  1         & -0.1453936 &  2        \\\\\n",
       "\t  2         & -1.1655448 &  4        \\\\\n",
       "\t  3         & -0.8185157 &  6        \\\\\n",
       "\t  4         &  0.6849361 &  8        \\\\\n",
       "\t  5         & -0.3200564 & 10        \\\\\n",
       "\t  6         & -1.3115224 & 12        \\\\\n",
       "\t  7         & -0.5996083 & 14        \\\\\n",
       "\t  8         & -0.1294107 & 16        \\\\\n",
       "\t  9         &  0.8867361 & 18        \\\\\n",
       "\t 10         & -0.1513960 & 20        \\\\\n",
       "\\end{tabular}\n"
      ],
      "text/markdown": [
       "\n",
       "x | y | z | \n",
       "|---|---|---|---|---|---|---|---|---|---|\n",
       "|  1         | -0.1453936 |  2         | \n",
       "|  2         | -1.1655448 |  4         | \n",
       "|  3         | -0.8185157 |  6         | \n",
       "|  4         |  0.6849361 |  8         | \n",
       "|  5         | -0.3200564 | 10         | \n",
       "|  6         | -1.3115224 | 12         | \n",
       "|  7         | -0.5996083 | 14         | \n",
       "|  8         | -0.1294107 | 16         | \n",
       "|  9         |  0.8867361 | 18         | \n",
       "| 10         | -0.1513960 | 20         | \n",
       "\n",
       "\n"
      ],
      "text/plain": [
       "   x  y          z \n",
       "1   1 -0.1453936  2\n",
       "2   2 -1.1655448  4\n",
       "3   3 -0.8185157  6\n",
       "4   4  0.6849361  8\n",
       "5   5 -0.3200564 10\n",
       "6   6 -1.3115224 12\n",
       "7   7 -0.5996083 14\n",
       "8   8 -0.1294107 16\n",
       "9   9  0.8867361 18\n",
       "10 10 -0.1513960 20"
      ]
     },
     "metadata": {},
     "output_type": "display_data"
    },
    {
     "data": {
      "text/html": [
       "<table>\n",
       "<thead><tr><th scope=col>xx</th><th scope=col>yy</th><th scope=col>zz</th></tr></thead>\n",
       "<tbody>\n",
       "\t<tr><td>11        </td><td> 0.3297912</td><td>22        </td></tr>\n",
       "\t<tr><td>12        </td><td>-3.2273228</td><td>24        </td></tr>\n",
       "\t<tr><td>13        </td><td>-0.7717918</td><td>26        </td></tr>\n",
       "\t<tr><td>14        </td><td> 0.2865486</td><td>28        </td></tr>\n",
       "\t<tr><td>15        </td><td>-1.2205120</td><td>30        </td></tr>\n",
       "\t<tr><td>16        </td><td> 0.4345504</td><td>32        </td></tr>\n",
       "\t<tr><td>17        </td><td> 0.8001769</td><td>34        </td></tr>\n",
       "\t<tr><td>18        </td><td>-0.1639310</td><td>36        </td></tr>\n",
       "\t<tr><td>19        </td><td> 1.2429188</td><td>38        </td></tr>\n",
       "\t<tr><td>20        </td><td>-0.9343851</td><td>40        </td></tr>\n",
       "</tbody>\n",
       "</table>\n"
      ],
      "text/latex": [
       "\\begin{tabular}{r|lll}\n",
       " xx & yy & zz\\\\\n",
       "\\hline\n",
       "\t 11         &  0.3297912 & 22        \\\\\n",
       "\t 12         & -3.2273228 & 24        \\\\\n",
       "\t 13         & -0.7717918 & 26        \\\\\n",
       "\t 14         &  0.2865486 & 28        \\\\\n",
       "\t 15         & -1.2205120 & 30        \\\\\n",
       "\t 16         &  0.4345504 & 32        \\\\\n",
       "\t 17         &  0.8001769 & 34        \\\\\n",
       "\t 18         & -0.1639310 & 36        \\\\\n",
       "\t 19         &  1.2429188 & 38        \\\\\n",
       "\t 20         & -0.9343851 & 40        \\\\\n",
       "\\end{tabular}\n"
      ],
      "text/markdown": [
       "\n",
       "xx | yy | zz | \n",
       "|---|---|---|---|---|---|---|---|---|---|\n",
       "| 11         |  0.3297912 | 22         | \n",
       "| 12         | -3.2273228 | 24         | \n",
       "| 13         | -0.7717918 | 26         | \n",
       "| 14         |  0.2865486 | 28         | \n",
       "| 15         | -1.2205120 | 30         | \n",
       "| 16         |  0.4345504 | 32         | \n",
       "| 17         |  0.8001769 | 34         | \n",
       "| 18         | -0.1639310 | 36         | \n",
       "| 19         |  1.2429188 | 38         | \n",
       "| 20         | -0.9343851 | 40         | \n",
       "\n",
       "\n"
      ],
      "text/plain": [
       "   xx yy         zz\n",
       "1  11  0.3297912 22\n",
       "2  12 -3.2273228 24\n",
       "3  13 -0.7717918 26\n",
       "4  14  0.2865486 28\n",
       "5  15 -1.2205120 30\n",
       "6  16  0.4345504 32\n",
       "7  17  0.8001769 34\n",
       "8  18 -0.1639310 36\n",
       "9  19  1.2429188 38\n",
       "10 20 -0.9343851 40"
      ]
     },
     "metadata": {},
     "output_type": "display_data"
    }
   ],
   "source": [
    "df1 <- data.frame(x = seq_len(10), y =rnorm(10), z = 2*seq_len(10))\n",
    "df2 <- data.frame(xx = 10 + seq_len(10), yy =rnorm(10), zz = 2*(10+seq_len(10)))\n",
    "df1; df2"
   ]
  },
  {
   "cell_type": "code",
   "execution_count": 169,
   "metadata": {
    "collapsed": false
   },
   "outputs": [
    {
     "data": {
      "text/html": [
       "<table>\n",
       "<thead><tr><th scope=col>x</th><th scope=col>y</th><th scope=col>z</th><th scope=col>xx</th><th scope=col>yy</th><th scope=col>zz</th></tr></thead>\n",
       "<tbody>\n",
       "\t<tr><td> 1        </td><td>-0.1453936</td><td> 2        </td><td>11        </td><td> 0.3297912</td><td>22        </td></tr>\n",
       "\t<tr><td> 2        </td><td>-1.1655448</td><td> 4        </td><td>12        </td><td>-3.2273228</td><td>24        </td></tr>\n",
       "\t<tr><td> 3        </td><td>-0.8185157</td><td> 6        </td><td>13        </td><td>-0.7717918</td><td>26        </td></tr>\n",
       "\t<tr><td> 4        </td><td> 0.6849361</td><td> 8        </td><td>14        </td><td> 0.2865486</td><td>28        </td></tr>\n",
       "\t<tr><td> 5        </td><td>-0.3200564</td><td>10        </td><td>15        </td><td>-1.2205120</td><td>30        </td></tr>\n",
       "\t<tr><td> 6        </td><td>-1.3115224</td><td>12        </td><td>16        </td><td> 0.4345504</td><td>32        </td></tr>\n",
       "\t<tr><td> 7        </td><td>-0.5996083</td><td>14        </td><td>17        </td><td> 0.8001769</td><td>34        </td></tr>\n",
       "\t<tr><td> 8        </td><td>-0.1294107</td><td>16        </td><td>18        </td><td>-0.1639310</td><td>36        </td></tr>\n",
       "\t<tr><td> 9        </td><td> 0.8867361</td><td>18        </td><td>19        </td><td> 1.2429188</td><td>38        </td></tr>\n",
       "\t<tr><td>10        </td><td>-0.1513960</td><td>20        </td><td>20        </td><td>-0.9343851</td><td>40        </td></tr>\n",
       "</tbody>\n",
       "</table>\n"
      ],
      "text/latex": [
       "\\begin{tabular}{r|llllll}\n",
       " x & y & z & xx & yy & zz\\\\\n",
       "\\hline\n",
       "\t  1         & -0.1453936 &  2         & 11         &  0.3297912 & 22        \\\\\n",
       "\t  2         & -1.1655448 &  4         & 12         & -3.2273228 & 24        \\\\\n",
       "\t  3         & -0.8185157 &  6         & 13         & -0.7717918 & 26        \\\\\n",
       "\t  4         &  0.6849361 &  8         & 14         &  0.2865486 & 28        \\\\\n",
       "\t  5         & -0.3200564 & 10         & 15         & -1.2205120 & 30        \\\\\n",
       "\t  6         & -1.3115224 & 12         & 16         &  0.4345504 & 32        \\\\\n",
       "\t  7         & -0.5996083 & 14         & 17         &  0.8001769 & 34        \\\\\n",
       "\t  8         & -0.1294107 & 16         & 18         & -0.1639310 & 36        \\\\\n",
       "\t  9         &  0.8867361 & 18         & 19         &  1.2429188 & 38        \\\\\n",
       "\t 10         & -0.1513960 & 20         & 20         & -0.9343851 & 40        \\\\\n",
       "\\end{tabular}\n"
      ],
      "text/markdown": [
       "\n",
       "x | y | z | xx | yy | zz | \n",
       "|---|---|---|---|---|---|---|---|---|---|\n",
       "|  1         | -0.1453936 |  2         | 11         |  0.3297912 | 22         | \n",
       "|  2         | -1.1655448 |  4         | 12         | -3.2273228 | 24         | \n",
       "|  3         | -0.8185157 |  6         | 13         | -0.7717918 | 26         | \n",
       "|  4         |  0.6849361 |  8         | 14         |  0.2865486 | 28         | \n",
       "|  5         | -0.3200564 | 10         | 15         | -1.2205120 | 30         | \n",
       "|  6         | -1.3115224 | 12         | 16         |  0.4345504 | 32         | \n",
       "|  7         | -0.5996083 | 14         | 17         |  0.8001769 | 34         | \n",
       "|  8         | -0.1294107 | 16         | 18         | -0.1639310 | 36         | \n",
       "|  9         |  0.8867361 | 18         | 19         |  1.2429188 | 38         | \n",
       "| 10         | -0.1513960 | 20         | 20         | -0.9343851 | 40         | \n",
       "\n",
       "\n"
      ],
      "text/plain": [
       "   x  y          z  xx yy         zz\n",
       "1   1 -0.1453936  2 11  0.3297912 22\n",
       "2   2 -1.1655448  4 12 -3.2273228 24\n",
       "3   3 -0.8185157  6 13 -0.7717918 26\n",
       "4   4  0.6849361  8 14  0.2865486 28\n",
       "5   5 -0.3200564 10 15 -1.2205120 30\n",
       "6   6 -1.3115224 12 16  0.4345504 32\n",
       "7   7 -0.5996083 14 17  0.8001769 34\n",
       "8   8 -0.1294107 16 18 -0.1639310 36\n",
       "9   9  0.8867361 18 19  1.2429188 38\n",
       "10 10 -0.1513960 20 20 -0.9343851 40"
      ]
     },
     "metadata": {},
     "output_type": "display_data"
    }
   ],
   "source": [
    "cbind(df1,df2)"
   ]
  },
  {
   "cell_type": "code",
   "execution_count": 170,
   "metadata": {
    "collapsed": false
   },
   "outputs": [
    {
     "data": {
      "text/html": [
       "<table>\n",
       "<thead><tr><th scope=col>x</th><th scope=col>y</th><th scope=col>z</th></tr></thead>\n",
       "<tbody>\n",
       "\t<tr><td>101        </td><td> 0.39370865</td><td>202        </td></tr>\n",
       "\t<tr><td>102        </td><td> 0.40363146</td><td>204        </td></tr>\n",
       "\t<tr><td>103        </td><td>-0.88643672</td><td>206        </td></tr>\n",
       "\t<tr><td>104        </td><td>-1.31893760</td><td>208        </td></tr>\n",
       "\t<tr><td>105        </td><td> 0.02884391</td><td>210        </td></tr>\n",
       "</tbody>\n",
       "</table>\n"
      ],
      "text/latex": [
       "\\begin{tabular}{r|lll}\n",
       " x & y & z\\\\\n",
       "\\hline\n",
       "\t 101         &  0.39370865 & 202        \\\\\n",
       "\t 102         &  0.40363146 & 204        \\\\\n",
       "\t 103         & -0.88643672 & 206        \\\\\n",
       "\t 104         & -1.31893760 & 208        \\\\\n",
       "\t 105         &  0.02884391 & 210        \\\\\n",
       "\\end{tabular}\n"
      ],
      "text/markdown": [
       "\n",
       "x | y | z | \n",
       "|---|---|---|---|---|\n",
       "| 101         |  0.39370865 | 202         | \n",
       "| 102         |  0.40363146 | 204         | \n",
       "| 103         | -0.88643672 | 206         | \n",
       "| 104         | -1.31893760 | 208         | \n",
       "| 105         |  0.02884391 | 210         | \n",
       "\n",
       "\n"
      ],
      "text/plain": [
       "  x   y           z  \n",
       "1 101  0.39370865 202\n",
       "2 102  0.40363146 204\n",
       "3 103 -0.88643672 206\n",
       "4 104 -1.31893760 208\n",
       "5 105  0.02884391 210"
      ]
     },
     "metadata": {},
     "output_type": "display_data"
    }
   ],
   "source": [
    "df3 <- data.frame(x = 100 + seq_len(5), y =rnorm(5), z = 2*(100 + seq_len(5)))\n",
    "df3"
   ]
  },
  {
   "cell_type": "code",
   "execution_count": 171,
   "metadata": {
    "collapsed": false
   },
   "outputs": [
    {
     "data": {
      "text/html": [
       "<table>\n",
       "<thead><tr><th scope=col>x</th><th scope=col>y</th><th scope=col>z</th></tr></thead>\n",
       "<tbody>\n",
       "\t<tr><td>  1        </td><td>-0.14539355</td><td>  2        </td></tr>\n",
       "\t<tr><td>  2        </td><td>-1.16554485</td><td>  4        </td></tr>\n",
       "\t<tr><td>  3        </td><td>-0.81851572</td><td>  6        </td></tr>\n",
       "\t<tr><td>  4        </td><td> 0.68493608</td><td>  8        </td></tr>\n",
       "\t<tr><td>  5        </td><td>-0.32005642</td><td> 10        </td></tr>\n",
       "\t<tr><td>  6        </td><td>-1.31152241</td><td> 12        </td></tr>\n",
       "\t<tr><td>  7        </td><td>-0.59960833</td><td> 14        </td></tr>\n",
       "\t<tr><td>  8        </td><td>-0.12941069</td><td> 16        </td></tr>\n",
       "\t<tr><td>  9        </td><td> 0.88673615</td><td> 18        </td></tr>\n",
       "\t<tr><td> 10        </td><td>-0.15139596</td><td> 20        </td></tr>\n",
       "\t<tr><td>101        </td><td> 0.39370865</td><td>202        </td></tr>\n",
       "\t<tr><td>102        </td><td> 0.40363146</td><td>204        </td></tr>\n",
       "\t<tr><td>103        </td><td>-0.88643672</td><td>206        </td></tr>\n",
       "\t<tr><td>104        </td><td>-1.31893760</td><td>208        </td></tr>\n",
       "\t<tr><td>105        </td><td> 0.02884391</td><td>210        </td></tr>\n",
       "</tbody>\n",
       "</table>\n"
      ],
      "text/latex": [
       "\\begin{tabular}{r|lll}\n",
       " x & y & z\\\\\n",
       "\\hline\n",
       "\t   1         & -0.14539355 &   2        \\\\\n",
       "\t   2         & -1.16554485 &   4        \\\\\n",
       "\t   3         & -0.81851572 &   6        \\\\\n",
       "\t   4         &  0.68493608 &   8        \\\\\n",
       "\t   5         & -0.32005642 &  10        \\\\\n",
       "\t   6         & -1.31152241 &  12        \\\\\n",
       "\t   7         & -0.59960833 &  14        \\\\\n",
       "\t   8         & -0.12941069 &  16        \\\\\n",
       "\t   9         &  0.88673615 &  18        \\\\\n",
       "\t  10         & -0.15139596 &  20        \\\\\n",
       "\t 101         &  0.39370865 & 202        \\\\\n",
       "\t 102         &  0.40363146 & 204        \\\\\n",
       "\t 103         & -0.88643672 & 206        \\\\\n",
       "\t 104         & -1.31893760 & 208        \\\\\n",
       "\t 105         &  0.02884391 & 210        \\\\\n",
       "\\end{tabular}\n"
      ],
      "text/markdown": [
       "\n",
       "x | y | z | \n",
       "|---|---|---|---|---|---|---|---|---|---|---|---|---|---|---|\n",
       "|   1         | -0.14539355 |   2         | \n",
       "|   2         | -1.16554485 |   4         | \n",
       "|   3         | -0.81851572 |   6         | \n",
       "|   4         |  0.68493608 |   8         | \n",
       "|   5         | -0.32005642 |  10         | \n",
       "|   6         | -1.31152241 |  12         | \n",
       "|   7         | -0.59960833 |  14         | \n",
       "|   8         | -0.12941069 |  16         | \n",
       "|   9         |  0.88673615 |  18         | \n",
       "|  10         | -0.15139596 |  20         | \n",
       "| 101         |  0.39370865 | 202         | \n",
       "| 102         |  0.40363146 | 204         | \n",
       "| 103         | -0.88643672 | 206         | \n",
       "| 104         | -1.31893760 | 208         | \n",
       "| 105         |  0.02884391 | 210         | \n",
       "\n",
       "\n"
      ],
      "text/plain": [
       "   x   y           z  \n",
       "1    1 -0.14539355   2\n",
       "2    2 -1.16554485   4\n",
       "3    3 -0.81851572   6\n",
       "4    4  0.68493608   8\n",
       "5    5 -0.32005642  10\n",
       "6    6 -1.31152241  12\n",
       "7    7 -0.59960833  14\n",
       "8    8 -0.12941069  16\n",
       "9    9  0.88673615  18\n",
       "10  10 -0.15139596  20\n",
       "11 101  0.39370865 202\n",
       "12 102  0.40363146 204\n",
       "13 103 -0.88643672 206\n",
       "14 104 -1.31893760 208\n",
       "15 105  0.02884391 210"
      ]
     },
     "metadata": {},
     "output_type": "display_data"
    }
   ],
   "source": [
    "rbind(df1,df3)"
   ]
  },
  {
   "cell_type": "markdown",
   "metadata": {},
   "source": [
    "- Columns can be added by using an associative name and contents"
   ]
  },
  {
   "cell_type": "code",
   "execution_count": 172,
   "metadata": {
    "collapsed": false
   },
   "outputs": [
    {
     "data": {
      "text/html": [
       "<table>\n",
       "<thead><tr><th scope=col>x</th><th scope=col>y</th><th scope=col>z</th><th scope=col>example_col</th></tr></thead>\n",
       "<tbody>\n",
       "\t<tr><td>101        </td><td> 0.39370865</td><td>202        </td><td>1          </td></tr>\n",
       "\t<tr><td>102        </td><td> 0.40363146</td><td>204        </td><td>2          </td></tr>\n",
       "\t<tr><td>103        </td><td>-0.88643672</td><td>206        </td><td>3          </td></tr>\n",
       "\t<tr><td>104        </td><td>-1.31893760</td><td>208        </td><td>4          </td></tr>\n",
       "\t<tr><td>105        </td><td> 0.02884391</td><td>210        </td><td>5          </td></tr>\n",
       "</tbody>\n",
       "</table>\n"
      ],
      "text/latex": [
       "\\begin{tabular}{r|llll}\n",
       " x & y & z & example\\_col\\\\\n",
       "\\hline\n",
       "\t 101         &  0.39370865 & 202         & 1          \\\\\n",
       "\t 102         &  0.40363146 & 204         & 2          \\\\\n",
       "\t 103         & -0.88643672 & 206         & 3          \\\\\n",
       "\t 104         & -1.31893760 & 208         & 4          \\\\\n",
       "\t 105         &  0.02884391 & 210         & 5          \\\\\n",
       "\\end{tabular}\n"
      ],
      "text/markdown": [
       "\n",
       "x | y | z | example_col | \n",
       "|---|---|---|---|---|\n",
       "| 101         |  0.39370865 | 202         | 1           | \n",
       "| 102         |  0.40363146 | 204         | 2           | \n",
       "| 103         | -0.88643672 | 206         | 3           | \n",
       "| 104         | -1.31893760 | 208         | 4           | \n",
       "| 105         |  0.02884391 | 210         | 5           | \n",
       "\n",
       "\n"
      ],
      "text/plain": [
       "  x   y           z   example_col\n",
       "1 101  0.39370865 202 1          \n",
       "2 102  0.40363146 204 2          \n",
       "3 103 -0.88643672 206 3          \n",
       "4 104 -1.31893760 208 4          \n",
       "5 105  0.02884391 210 5          "
      ]
     },
     "metadata": {},
     "output_type": "display_data"
    }
   ],
   "source": [
    "df3$example_col <- c(1,2,3,4,5)\n",
    "df3"
   ]
  },
  {
   "cell_type": "markdown",
   "metadata": {},
   "source": [
    "- Most operations on vectors can be done on individual rows or columns of a data frame, for example any vector can be sorted using `sort()`, so we can sort the column `y` of dataframe `df1` in the same way"
   ]
  },
  {
   "cell_type": "code",
   "execution_count": 173,
   "metadata": {
    "collapsed": false
   },
   "outputs": [
    {
     "data": {
      "text/html": [
       "<ol class=list-inline>\n",
       "\t<li>-1.31152241139676</li>\n",
       "\t<li>-1.16554484788995</li>\n",
       "\t<li>-0.818515722513129</li>\n",
       "\t<li>-0.599608327943981</li>\n",
       "\t<li>-0.320056419276819</li>\n",
       "\t<li>-0.151395962335781</li>\n",
       "\t<li>-0.145393550992709</li>\n",
       "\t<li>-0.129410689007174</li>\n",
       "\t<li>0.684936077925063</li>\n",
       "\t<li>0.886736147003819</li>\n",
       "</ol>\n"
      ],
      "text/latex": [
       "\\begin{enumerate*}\n",
       "\\item -1.31152241139676\n",
       "\\item -1.16554484788995\n",
       "\\item -0.818515722513129\n",
       "\\item -0.599608327943981\n",
       "\\item -0.320056419276819\n",
       "\\item -0.151395962335781\n",
       "\\item -0.145393550992709\n",
       "\\item -0.129410689007174\n",
       "\\item 0.684936077925063\n",
       "\\item 0.886736147003819\n",
       "\\end{enumerate*}\n"
      ],
      "text/markdown": [
       "1. -1.31152241139676\n",
       "2. -1.16554484788995\n",
       "3. -0.818515722513129\n",
       "4. -0.599608327943981\n",
       "5. -0.320056419276819\n",
       "6. -0.151395962335781\n",
       "7. -0.145393550992709\n",
       "8. -0.129410689007174\n",
       "9. 0.684936077925063\n",
       "10. 0.886736147003819\n",
       "\n",
       "\n"
      ],
      "text/plain": [
       " [1] -1.3115224 -1.1655448 -0.8185157 -0.5996083 -0.3200564 -0.1513960\n",
       " [7] -0.1453936 -0.1294107  0.6849361  0.8867361"
      ]
     },
     "metadata": {},
     "output_type": "display_data"
    }
   ],
   "source": [
    "sort(df1$y)"
   ]
  },
  {
   "cell_type": "markdown",
   "metadata": {},
   "source": [
    "## Dataframe transformations: Sorting, Merging, Binning\n",
    "Any vector can be sorted using the `sort()` function. A Data Frame can be sorted according to one or more of its columns using the `order()` function."
   ]
  },
  {
   "cell_type": "code",
   "execution_count": 174,
   "metadata": {
    "collapsed": false
   },
   "outputs": [
    {
     "data": {
      "text/html": [
       "<table>\n",
       "<thead><tr><th></th><th scope=col>x</th><th scope=col>y</th><th scope=col>z</th></tr></thead>\n",
       "<tbody>\n",
       "\t<tr><th scope=row>6</th><td> 6        </td><td>-1.3115224</td><td>12        </td></tr>\n",
       "\t<tr><th scope=row>2</th><td> 2        </td><td>-1.1655448</td><td> 4        </td></tr>\n",
       "\t<tr><th scope=row>3</th><td> 3        </td><td>-0.8185157</td><td> 6        </td></tr>\n",
       "\t<tr><th scope=row>7</th><td> 7        </td><td>-0.5996083</td><td>14        </td></tr>\n",
       "\t<tr><th scope=row>5</th><td> 5        </td><td>-0.3200564</td><td>10        </td></tr>\n",
       "\t<tr><th scope=row>10</th><td>10        </td><td>-0.1513960</td><td>20        </td></tr>\n",
       "\t<tr><th scope=row>1</th><td> 1        </td><td>-0.1453936</td><td> 2        </td></tr>\n",
       "\t<tr><th scope=row>8</th><td> 8        </td><td>-0.1294107</td><td>16        </td></tr>\n",
       "\t<tr><th scope=row>4</th><td> 4        </td><td> 0.6849361</td><td> 8        </td></tr>\n",
       "\t<tr><th scope=row>9</th><td> 9        </td><td> 0.8867361</td><td>18        </td></tr>\n",
       "</tbody>\n",
       "</table>\n"
      ],
      "text/latex": [
       "\\begin{tabular}{r|lll}\n",
       "  & x & y & z\\\\\n",
       "\\hline\n",
       "\t6 &  6         & -1.3115224 & 12        \\\\\n",
       "\t2 &  2         & -1.1655448 &  4        \\\\\n",
       "\t3 &  3         & -0.8185157 &  6        \\\\\n",
       "\t7 &  7         & -0.5996083 & 14        \\\\\n",
       "\t5 &  5         & -0.3200564 & 10        \\\\\n",
       "\t10 & 10         & -0.1513960 & 20        \\\\\n",
       "\t1 &  1         & -0.1453936 &  2        \\\\\n",
       "\t8 &  8         & -0.1294107 & 16        \\\\\n",
       "\t4 &  4         &  0.6849361 &  8        \\\\\n",
       "\t9 &  9         &  0.8867361 & 18        \\\\\n",
       "\\end{tabular}\n"
      ],
      "text/markdown": [
       "\n",
       "| <!--/--> | x | y | z | \n",
       "|---|---|---|---|---|---|---|---|---|---|\n",
       "| 6 |  6         | -1.3115224 | 12         | \n",
       "| 2 |  2         | -1.1655448 |  4         | \n",
       "| 3 |  3         | -0.8185157 |  6         | \n",
       "| 7 |  7         | -0.5996083 | 14         | \n",
       "| 5 |  5         | -0.3200564 | 10         | \n",
       "| 10 | 10         | -0.1513960 | 20         | \n",
       "| 1 |  1         | -0.1453936 |  2         | \n",
       "| 8 |  8         | -0.1294107 | 16         | \n",
       "| 4 |  4         |  0.6849361 |  8         | \n",
       "| 9 |  9         |  0.8867361 | 18         | \n",
       "\n",
       "\n"
      ],
      "text/plain": [
       "   x  y          z \n",
       "6   6 -1.3115224 12\n",
       "2   2 -1.1655448  4\n",
       "3   3 -0.8185157  6\n",
       "7   7 -0.5996083 14\n",
       "5   5 -0.3200564 10\n",
       "10 10 -0.1513960 20\n",
       "1   1 -0.1453936  2\n",
       "8   8 -0.1294107 16\n",
       "4   4  0.6849361  8\n",
       "9   9  0.8867361 18"
      ]
     },
     "metadata": {},
     "output_type": "display_data"
    }
   ],
   "source": [
    "df1[order(df1$y) , ]"
   ]
  },
  {
   "cell_type": "code",
   "execution_count": 175,
   "metadata": {
    "collapsed": false
   },
   "outputs": [
    {
     "data": {
      "text/html": [
       "<table>\n",
       "<thead><tr><th></th><th scope=col>x</th><th scope=col>y</th><th scope=col>z</th></tr></thead>\n",
       "<tbody>\n",
       "\t<tr><th scope=row>10</th><td>10        </td><td>-0.1513960</td><td>20        </td></tr>\n",
       "\t<tr><th scope=row>9</th><td> 9        </td><td> 0.8867361</td><td>18        </td></tr>\n",
       "\t<tr><th scope=row>8</th><td> 8        </td><td>-0.1294107</td><td>16        </td></tr>\n",
       "\t<tr><th scope=row>7</th><td> 7        </td><td>-0.5996083</td><td>14        </td></tr>\n",
       "\t<tr><th scope=row>6</th><td> 6        </td><td>-1.3115224</td><td>12        </td></tr>\n",
       "\t<tr><th scope=row>5</th><td> 5        </td><td>-0.3200564</td><td>10        </td></tr>\n",
       "\t<tr><th scope=row>4</th><td> 4        </td><td> 0.6849361</td><td> 8        </td></tr>\n",
       "\t<tr><th scope=row>3</th><td> 3        </td><td>-0.8185157</td><td> 6        </td></tr>\n",
       "\t<tr><th scope=row>2</th><td> 2        </td><td>-1.1655448</td><td> 4        </td></tr>\n",
       "\t<tr><th scope=row>1</th><td> 1        </td><td>-0.1453936</td><td> 2        </td></tr>\n",
       "</tbody>\n",
       "</table>\n"
      ],
      "text/latex": [
       "\\begin{tabular}{r|lll}\n",
       "  & x & y & z\\\\\n",
       "\\hline\n",
       "\t10 & 10         & -0.1513960 & 20        \\\\\n",
       "\t9 &  9         &  0.8867361 & 18        \\\\\n",
       "\t8 &  8         & -0.1294107 & 16        \\\\\n",
       "\t7 &  7         & -0.5996083 & 14        \\\\\n",
       "\t6 &  6         & -1.3115224 & 12        \\\\\n",
       "\t5 &  5         & -0.3200564 & 10        \\\\\n",
       "\t4 &  4         &  0.6849361 &  8        \\\\\n",
       "\t3 &  3         & -0.8185157 &  6        \\\\\n",
       "\t2 &  2         & -1.1655448 &  4        \\\\\n",
       "\t1 &  1         & -0.1453936 &  2        \\\\\n",
       "\\end{tabular}\n"
      ],
      "text/markdown": [
       "\n",
       "| <!--/--> | x | y | z | \n",
       "|---|---|---|---|---|---|---|---|---|---|\n",
       "| 10 | 10         | -0.1513960 | 20         | \n",
       "| 9 |  9         |  0.8867361 | 18         | \n",
       "| 8 |  8         | -0.1294107 | 16         | \n",
       "| 7 |  7         | -0.5996083 | 14         | \n",
       "| 6 |  6         | -1.3115224 | 12         | \n",
       "| 5 |  5         | -0.3200564 | 10         | \n",
       "| 4 |  4         |  0.6849361 |  8         | \n",
       "| 3 |  3         | -0.8185157 |  6         | \n",
       "| 2 |  2         | -1.1655448 |  4         | \n",
       "| 1 |  1         | -0.1453936 |  2         | \n",
       "\n",
       "\n"
      ],
      "text/plain": [
       "   x  y          z \n",
       "10 10 -0.1513960 20\n",
       "9   9  0.8867361 18\n",
       "8   8 -0.1294107 16\n",
       "7   7 -0.5996083 14\n",
       "6   6 -1.3115224 12\n",
       "5   5 -0.3200564 10\n",
       "4   4  0.6849361  8\n",
       "3   3 -0.8185157  6\n",
       "2   2 -1.1655448  4\n",
       "1   1 -0.1453936  2"
      ]
     },
     "metadata": {},
     "output_type": "display_data"
    }
   ],
   "source": [
    "df1[order(-df1$z, df1$y),]"
   ]
  },
  {
   "cell_type": "markdown",
   "metadata": {},
   "source": [
    "Two Data Frames can be merged using `merge()`. \n",
    "- if two dataframes have a column with the same name `merge()` will use that column for the join operation\n",
    "- otherwise you have to specify the column on the left dataframe and the column on the riht dataframe to join"
   ]
  },
  {
   "cell_type": "code",
   "execution_count": 176,
   "metadata": {
    "collapsed": false
   },
   "outputs": [
    {
     "data": {
      "text/html": [
       "<table>\n",
       "<thead><tr><th scope=col>k</th><th scope=col>l</th></tr></thead>\n",
       "<tbody>\n",
       "\t<tr><td>7        </td><td>0.3328235</td></tr>\n",
       "\t<tr><td>6        </td><td>0.4886130</td></tr>\n",
       "\t<tr><td>5        </td><td>0.9544738</td></tr>\n",
       "\t<tr><td>4        </td><td>0.4829024</td></tr>\n",
       "\t<tr><td>3        </td><td>0.8903502</td></tr>\n",
       "\t<tr><td>2        </td><td>0.9144382</td></tr>\n",
       "\t<tr><td>1        </td><td>0.6087350</td></tr>\n",
       "</tbody>\n",
       "</table>\n"
      ],
      "text/latex": [
       "\\begin{tabular}{r|ll}\n",
       " k & l\\\\\n",
       "\\hline\n",
       "\t 7         & 0.3328235\\\\\n",
       "\t 6         & 0.4886130\\\\\n",
       "\t 5         & 0.9544738\\\\\n",
       "\t 4         & 0.4829024\\\\\n",
       "\t 3         & 0.8903502\\\\\n",
       "\t 2         & 0.9144382\\\\\n",
       "\t 1         & 0.6087350\\\\\n",
       "\\end{tabular}\n"
      ],
      "text/markdown": [
       "\n",
       "k | l | \n",
       "|---|---|---|---|---|---|---|\n",
       "| 7         | 0.3328235 | \n",
       "| 6         | 0.4886130 | \n",
       "| 5         | 0.9544738 | \n",
       "| 4         | 0.4829024 | \n",
       "| 3         | 0.8903502 | \n",
       "| 2         | 0.9144382 | \n",
       "| 1         | 0.6087350 | \n",
       "\n",
       "\n"
      ],
      "text/plain": [
       "  k l        \n",
       "1 7 0.3328235\n",
       "2 6 0.4886130\n",
       "3 5 0.9544738\n",
       "4 4 0.4829024\n",
       "5 3 0.8903502\n",
       "6 2 0.9144382\n",
       "7 1 0.6087350"
      ]
     },
     "metadata": {},
     "output_type": "display_data"
    },
    {
     "data": {
      "text/html": [
       "<table>\n",
       "<thead><tr><th scope=col>x</th><th scope=col>y</th><th scope=col>z</th></tr></thead>\n",
       "<tbody>\n",
       "\t<tr><td> 1        </td><td>-0.1453936</td><td> 2        </td></tr>\n",
       "\t<tr><td> 2        </td><td>-1.1655448</td><td> 4        </td></tr>\n",
       "\t<tr><td> 3        </td><td>-0.8185157</td><td> 6        </td></tr>\n",
       "\t<tr><td> 4        </td><td> 0.6849361</td><td> 8        </td></tr>\n",
       "\t<tr><td> 5        </td><td>-0.3200564</td><td>10        </td></tr>\n",
       "\t<tr><td> 6        </td><td>-1.3115224</td><td>12        </td></tr>\n",
       "\t<tr><td> 7        </td><td>-0.5996083</td><td>14        </td></tr>\n",
       "\t<tr><td> 8        </td><td>-0.1294107</td><td>16        </td></tr>\n",
       "\t<tr><td> 9        </td><td> 0.8867361</td><td>18        </td></tr>\n",
       "\t<tr><td>10        </td><td>-0.1513960</td><td>20        </td></tr>\n",
       "</tbody>\n",
       "</table>\n"
      ],
      "text/latex": [
       "\\begin{tabular}{r|lll}\n",
       " x & y & z\\\\\n",
       "\\hline\n",
       "\t  1         & -0.1453936 &  2        \\\\\n",
       "\t  2         & -1.1655448 &  4        \\\\\n",
       "\t  3         & -0.8185157 &  6        \\\\\n",
       "\t  4         &  0.6849361 &  8        \\\\\n",
       "\t  5         & -0.3200564 & 10        \\\\\n",
       "\t  6         & -1.3115224 & 12        \\\\\n",
       "\t  7         & -0.5996083 & 14        \\\\\n",
       "\t  8         & -0.1294107 & 16        \\\\\n",
       "\t  9         &  0.8867361 & 18        \\\\\n",
       "\t 10         & -0.1513960 & 20        \\\\\n",
       "\\end{tabular}\n"
      ],
      "text/markdown": [
       "\n",
       "x | y | z | \n",
       "|---|---|---|---|---|---|---|---|---|---|\n",
       "|  1         | -0.1453936 |  2         | \n",
       "|  2         | -1.1655448 |  4         | \n",
       "|  3         | -0.8185157 |  6         | \n",
       "|  4         |  0.6849361 |  8         | \n",
       "|  5         | -0.3200564 | 10         | \n",
       "|  6         | -1.3115224 | 12         | \n",
       "|  7         | -0.5996083 | 14         | \n",
       "|  8         | -0.1294107 | 16         | \n",
       "|  9         |  0.8867361 | 18         | \n",
       "| 10         | -0.1513960 | 20         | \n",
       "\n",
       "\n"
      ],
      "text/plain": [
       "   x  y          z \n",
       "1   1 -0.1453936  2\n",
       "2   2 -1.1655448  4\n",
       "3   3 -0.8185157  6\n",
       "4   4  0.6849361  8\n",
       "5   5 -0.3200564 10\n",
       "6   6 -1.3115224 12\n",
       "7   7 -0.5996083 14\n",
       "8   8 -0.1294107 16\n",
       "9   9  0.8867361 18\n",
       "10 10 -0.1513960 20"
      ]
     },
     "metadata": {},
     "output_type": "display_data"
    }
   ],
   "source": [
    "df4 <- data.frame(k = seq(from = 7, to = 1, by = -1), l = runif(7))\n",
    "df4; df1"
   ]
  },
  {
   "cell_type": "code",
   "execution_count": 177,
   "metadata": {
    "collapsed": false
   },
   "outputs": [
    {
     "data": {
      "text/html": [
       "<table>\n",
       "<thead><tr><th scope=col>x</th><th scope=col>y</th><th scope=col>z</th><th scope=col>l</th></tr></thead>\n",
       "<tbody>\n",
       "\t<tr><td>1         </td><td>-0.1453936</td><td> 2        </td><td>0.6087350 </td></tr>\n",
       "\t<tr><td>2         </td><td>-1.1655448</td><td> 4        </td><td>0.9144382 </td></tr>\n",
       "\t<tr><td>3         </td><td>-0.8185157</td><td> 6        </td><td>0.8903502 </td></tr>\n",
       "\t<tr><td>4         </td><td> 0.6849361</td><td> 8        </td><td>0.4829024 </td></tr>\n",
       "\t<tr><td>5         </td><td>-0.3200564</td><td>10        </td><td>0.9544738 </td></tr>\n",
       "\t<tr><td>6         </td><td>-1.3115224</td><td>12        </td><td>0.4886130 </td></tr>\n",
       "\t<tr><td>7         </td><td>-0.5996083</td><td>14        </td><td>0.3328235 </td></tr>\n",
       "</tbody>\n",
       "</table>\n"
      ],
      "text/latex": [
       "\\begin{tabular}{r|llll}\n",
       " x & y & z & l\\\\\n",
       "\\hline\n",
       "\t 1          & -0.1453936 &  2         & 0.6087350 \\\\\n",
       "\t 2          & -1.1655448 &  4         & 0.9144382 \\\\\n",
       "\t 3          & -0.8185157 &  6         & 0.8903502 \\\\\n",
       "\t 4          &  0.6849361 &  8         & 0.4829024 \\\\\n",
       "\t 5          & -0.3200564 & 10         & 0.9544738 \\\\\n",
       "\t 6          & -1.3115224 & 12         & 0.4886130 \\\\\n",
       "\t 7          & -0.5996083 & 14         & 0.3328235 \\\\\n",
       "\\end{tabular}\n"
      ],
      "text/markdown": [
       "\n",
       "x | y | z | l | \n",
       "|---|---|---|---|---|---|---|\n",
       "| 1          | -0.1453936 |  2         | 0.6087350  | \n",
       "| 2          | -1.1655448 |  4         | 0.9144382  | \n",
       "| 3          | -0.8185157 |  6         | 0.8903502  | \n",
       "| 4          |  0.6849361 |  8         | 0.4829024  | \n",
       "| 5          | -0.3200564 | 10         | 0.9544738  | \n",
       "| 6          | -1.3115224 | 12         | 0.4886130  | \n",
       "| 7          | -0.5996083 | 14         | 0.3328235  | \n",
       "\n",
       "\n"
      ],
      "text/plain": [
       "  x y          z  l        \n",
       "1 1 -0.1453936  2 0.6087350\n",
       "2 2 -1.1655448  4 0.9144382\n",
       "3 3 -0.8185157  6 0.8903502\n",
       "4 4  0.6849361  8 0.4829024\n",
       "5 5 -0.3200564 10 0.9544738\n",
       "6 6 -1.3115224 12 0.4886130\n",
       "7 7 -0.5996083 14 0.3328235"
      ]
     },
     "metadata": {},
     "output_type": "display_data"
    }
   ],
   "source": [
    "merge(df1,df4, by.x = \"x\", by.y = \"k\" )"
   ]
  },
  {
   "cell_type": "markdown",
   "metadata": {},
   "source": [
    "Continuous data can be converted to categorical data by binning (conversion into pre-defined ranges or bins) using the cut() function"
   ]
  },
  {
   "cell_type": "code",
   "execution_count": 178,
   "metadata": {
    "collapsed": false
   },
   "outputs": [
    {
     "ename": "ERROR",
     "evalue": "Error in df$y: object of type 'closure' is not subsettable\n",
     "output_type": "error",
     "traceback": [
      "Error in df$y: object of type 'closure' is not subsettable\nTraceback:\n",
      "1. cut(df$y, c(-Inf, seq(0.5, 1, 0.1), Inf))"
     ]
    }
   ],
   "source": [
    "cut(df$y, c(-Inf,seq(0.5, 1, 0.1), Inf))"
   ]
  },
  {
   "cell_type": "markdown",
   "metadata": {},
   "source": [
    "### Apply function\n",
    "A number of R programs require looping through a data frame and performing an operation on each record. The “apply” class of functions provide a short-cut through which that entire operation can be performed in one function call.\n",
    "\n",
    "The function to apply for each row can be a user defined function too.\n",
    "\n",
    "Variants of the “apply” functions include `apply`, `eapply`, `lapply`, `mapply`, `rapply`, `tapply`"
   ]
  },
  {
   "cell_type": "code",
   "execution_count": 179,
   "metadata": {
    "collapsed": false,
    "scrolled": true
   },
   "outputs": [
    {
     "data": {
      "text/html": [
       "<ol class=list-inline>\n",
       "\t<li>6</li>\n",
       "\t<li>7</li>\n",
       "\t<li>8</li>\n",
       "\t<li>9</li>\n",
       "\t<li>10</li>\n",
       "\t<li>11</li>\n",
       "\t<li>12</li>\n",
       "\t<li>13</li>\n",
       "\t<li>14</li>\n",
       "\t<li>15</li>\n",
       "</ol>\n"
      ],
      "text/latex": [
       "\\begin{enumerate*}\n",
       "\\item 6\n",
       "\\item 7\n",
       "\\item 8\n",
       "\\item 9\n",
       "\\item 10\n",
       "\\item 11\n",
       "\\item 12\n",
       "\\item 13\n",
       "\\item 14\n",
       "\\item 15\n",
       "\\end{enumerate*}\n"
      ],
      "text/markdown": [
       "1. 6\n",
       "2. 7\n",
       "3. 8\n",
       "4. 9\n",
       "5. 10\n",
       "6. 11\n",
       "7. 12\n",
       "8. 13\n",
       "9. 14\n",
       "10. 15\n",
       "\n",
       "\n"
      ],
      "text/plain": [
       " [1]  6  7  8  9 10 11 12 13 14 15"
      ]
     },
     "metadata": {},
     "output_type": "display_data"
    },
    {
     "data": {
      "text/html": [
       "<ol class=list-inline>\n",
       "\t<li>5.5</li>\n",
       "\t<li>15.5</li>\n",
       "</ol>\n"
      ],
      "text/latex": [
       "\\begin{enumerate*}\n",
       "\\item 5.5\n",
       "\\item 15.5\n",
       "\\end{enumerate*}\n"
      ],
      "text/markdown": [
       "1. 5.5\n",
       "2. 15.5\n",
       "\n",
       "\n"
      ],
      "text/plain": [
       "[1]  5.5 15.5"
      ]
     },
     "metadata": {},
     "output_type": "display_data"
    }
   ],
   "source": [
    "mat <- matrix(c(1:20), nrow= 10, ncol= 2)\n",
    "apply(mat, 1, mean)\n",
    "apply(mat, 2, mean)"
   ]
  },
  {
   "cell_type": "markdown",
   "metadata": {},
   "source": [
    "`apply(matrice, indice, funzione)`\n",
    "- con indice=1 applica funzione() alle righe di matrice, e\n",
    "- ritorna un vettore lungo come il numero di colonne."
   ]
  },
  {
   "cell_type": "code",
   "execution_count": 180,
   "metadata": {
    "collapsed": true
   },
   "outputs": [],
   "source": [
    "nrighe <- 100000; ncolonne <- 10\n",
    "m <- matrix(rnorm(nrighe*ncolonne),\n",
    "nrow=nrighe, ncol=ncolonne)\n",
    "mediacolonne <- apply(m,2,mean)"
   ]
  },
  {
   "cell_type": "markdown",
   "metadata": {},
   "source": [
    "`lapply(lista, funzione)`\n",
    "- Applica funzione() a ciascun elemento di lista;\n",
    "- ritorna una list con la stessa lunghezza di lista."
   ]
  },
  {
   "cell_type": "code",
   "execution_count": 181,
   "metadata": {
    "collapsed": false
   },
   "outputs": [
    {
     "data": {
      "text/html": [
       "<ol>\n",
       "\t<li>0.707106781186548</li>\n",
       "\t<li>1.58113883008419</li>\n",
       "\t<li>3.60555127546399</li>\n",
       "</ol>\n"
      ],
      "text/latex": [
       "\\begin{enumerate}\n",
       "\\item 0.707106781186548\n",
       "\\item 1.58113883008419\n",
       "\\item 3.60555127546399\n",
       "\\end{enumerate}\n"
      ],
      "text/markdown": [
       "1. 0.707106781186548\n",
       "2. 1.58113883008419\n",
       "3. 3.60555127546399\n",
       "\n",
       "\n"
      ],
      "text/plain": [
       "[[1]]\n",
       "[1] 0.7071068\n",
       "\n",
       "[[2]]\n",
       "[1] 1.581139\n",
       "\n",
       "[[3]]\n",
       "[1] 3.605551\n"
      ]
     },
     "metadata": {},
     "output_type": "display_data"
    }
   ],
   "source": [
    "L <- list(1:2, 3:7, -1:10)\n",
    "lapply(L, sd)"
   ]
  },
  {
   "cell_type": "markdown",
   "metadata": {},
   "source": [
    "`sapply(dataframe, funzione)`\n",
    "- a ciascuna colonna di dataframe viene applicata funzione();\n",
    "- ritorna vettore lungo quanto il numero di colonne di dataframe."
   ]
  },
  {
   "cell_type": "code",
   "execution_count": 182,
   "metadata": {
    "collapsed": false
   },
   "outputs": [
    {
     "name": "stderr",
     "output_type": "stream",
     "text": [
      "Warning message in mean.default(X[[i]], ...):\n",
      "“argument is not numeric or logical: returning NA”"
     ]
    },
    {
     "data": {
      "text/html": [
       "<dl class=dl-horizontal>\n",
       "\t<dt>genere</dt>\n",
       "\t\t<dd>NA</dd>\n",
       "\t<dt>altezza</dt>\n",
       "\t\t<dd>175.875</dd>\n",
       "\t<dt>peso</dt>\n",
       "\t\t<dd>81.25</dd>\n",
       "</dl>\n"
      ],
      "text/latex": [
       "\\begin{description*}\n",
       "\\item[genere] NA\n",
       "\\item[altezza] 175.875\n",
       "\\item[peso] 81.25\n",
       "\\end{description*}\n"
      ],
      "text/markdown": [
       "genere\n",
       ":   NAaltezza\n",
       ":   175.875peso\n",
       ":   81.25\n",
       "\n"
      ],
      "text/plain": [
       " genere altezza    peso \n",
       "     NA 175.875  81.250 "
      ]
     },
     "metadata": {},
     "output_type": "display_data"
    },
    {
     "data": {
      "text/html": [
       "<dl class=dl-horizontal>\n",
       "\t<dt>altezza.95%</dt>\n",
       "\t\t<dd>185.525</dd>\n",
       "\t<dt>peso.95%</dt>\n",
       "\t\t<dd>90.1</dd>\n",
       "</dl>\n"
      ],
      "text/latex": [
       "\\begin{description*}\n",
       "\\item[altezza.95\\textbackslash{}\\%] 185.525\n",
       "\\item[peso.95\\textbackslash{}\\%] 90.1\n",
       "\\end{description*}\n"
      ],
      "text/markdown": [
       "altezza.95%\n",
       ":   185.525peso.95%\n",
       ":   90.1\n",
       "\n"
      ],
      "text/plain": [
       "altezza.95%    peso.95% \n",
       "    185.525      90.100 "
      ]
     },
     "metadata": {},
     "output_type": "display_data"
    }
   ],
   "source": [
    "clienti <- data.frame(genere = c(\"M\",\"F\",\"F\",NA),\n",
    "altezza=c(172,186.5,165,180),\n",
    "peso = c(91, 75, 74, 85))\n",
    "sapply(clienti, mean)\n",
    "sapply(clienti[ ,c(2,3)], quantile, prob=0.95)"
   ]
  },
  {
   "cell_type": "markdown",
   "metadata": {},
   "source": [
    "`tapply(vettore, fattore, funzione)`\n",
    "- vettore viene suddiviso in sotto-vettori corrispondenti alle fattore;\n",
    "- a ciascun sottovettore viene applicata funzione();\n",
    "- ritorna vettore lungo quanto il numero livelli di fattore."
   ]
  },
  {
   "cell_type": "code",
   "execution_count": 183,
   "metadata": {
    "collapsed": false
   },
   "outputs": [
    {
     "data": {
      "text/html": [
       "<dl class=dl-horizontal>\n",
       "\t<dt>F</dt>\n",
       "\t\t<dd>175.75</dd>\n",
       "\t<dt>M</dt>\n",
       "\t\t<dd>172</dd>\n",
       "</dl>\n"
      ],
      "text/plain": [
       "     F      M \n",
       "175.75 172.00 "
      ]
     },
     "metadata": {},
     "output_type": "display_data"
    }
   ],
   "source": [
    "clienti <- data.frame(genere = c(\"M\",\"F\",\"F\",NA),\n",
    "altezza=c(172,186.5,165,180),\n",
    "peso = c(91, 75, 74, 85))\n",
    "tapply(clienti$altezza, clienti$genere,\n",
    "mean, na.rm=TRUE)"
   ]
  },
  {
   "cell_type": "markdown",
   "metadata": {},
   "source": [
    "# Control Structures"
   ]
  },
  {
   "cell_type": "markdown",
   "metadata": {},
   "source": [
    "**if-else**:\n",
    "\n",
    "`if (cond) expr`\n",
    "`if (cond) expr1 else expr2`\n"
   ]
  },
  {
   "cell_type": "code",
   "execution_count": 184,
   "metadata": {
    "collapsed": false
   },
   "outputs": [
    {
     "name": "stdout",
     "output_type": "stream",
     "text": [
      "[1] \"x is greater than 1\"\n"
     ]
    }
   ],
   "source": [
    "x <- 10\n",
    "if(x>1){\n",
    " print(\"x is greater than 1\")\n",
    " }else{\n",
    "  print(\"x is less than 1\")\n",
    "  } "
   ]
  },
  {
   "cell_type": "markdown",
   "metadata": {},
   "source": [
    "**for**:\n",
    "\n",
    "`for (varinseq) expr`"
   ]
  },
  {
   "cell_type": "code",
   "execution_count": 185,
   "metadata": {
    "collapsed": false
   },
   "outputs": [
    {
     "name": "stdout",
     "output_type": "stream",
     "text": [
      "[1] 1\n",
      "[1] 2\n",
      "[1] 3\n",
      "[1] 4\n",
      "[1] 5\n"
     ]
    }
   ],
   "source": [
    "x <- c(1,2,3,4,5)\n",
    " for(i in 1:5){\n",
    "     print(x[i])\n",
    " }"
   ]
  },
  {
   "cell_type": "markdown",
   "metadata": {},
   "source": [
    "**next** #can you guess what's going here?"
   ]
  },
  {
   "cell_type": "code",
   "execution_count": 186,
   "metadata": {
    "collapsed": false
   },
   "outputs": [
    {
     "name": "stdout",
     "output_type": "stream",
     "text": [
      "[1] 1\n",
      "[1] 3\n",
      "[1] 4\n"
     ]
    }
   ],
   "source": [
    "x = 1: 4 \n",
    " for (i in x) { \n",
    "     if (i == 2){ \n",
    "         next}\n",
    "     print(i)\n",
    " }"
   ]
  },
  {
   "cell_type": "markdown",
   "metadata": {},
   "source": [
    "**while**:\n",
    "\n",
    "`while (cond) expr`\n"
   ]
  },
  {
   "cell_type": "code",
   "execution_count": 187,
   "metadata": {
    "collapsed": false
   },
   "outputs": [
    {
     "name": "stdout",
     "output_type": "stream",
     "text": [
      "[1] 3.974 1.974 2.974\n",
      "[1] 4.961 2.961 3.961\n",
      "[1] 5.948 3.948 4.948\n"
     ]
    }
   ],
   "source": [
    "x = 2.987\n",
    "while(x <= 4.987) { \n",
    "     x = x + 0.987\n",
    "     print(c(x,x-2,x-1)) \n",
    " }\n"
   ]
  },
  {
   "cell_type": "markdown",
   "metadata": {},
   "source": [
    "**repeat**:\n",
    "\n",
    "`repeat {expr (break condition) {break} }`\n"
   ]
  },
  {
   "cell_type": "code",
   "execution_count": 188,
   "metadata": {
    "collapsed": false
   },
   "outputs": [
    {
     "name": "stdout",
     "output_type": "stream",
     "text": [
      "[1] 1\n",
      "[1] 2\n",
      "[1] 3\n",
      "[1] 4\n",
      "[1] 5\n"
     ]
    }
   ],
   "source": [
    "x = 1\n",
    "repeat {\n",
    "   print(x)\n",
    "   x = x+1\n",
    "   if (x == 6){\n",
    "       break\n",
    "   }\n",
    "}"
   ]
  },
  {
   "cell_type": "markdown",
   "metadata": {},
   "source": [
    "ifelse\n",
    "\n",
    "`ifelse(test,yes,no)`"
   ]
  },
  {
   "cell_type": "code",
   "execution_count": 189,
   "metadata": {
    "collapsed": false
   },
   "outputs": [
    {
     "data": {
      "text/html": [
       "<ol class=list-inline>\n",
       "\t<li>'True'</li>\n",
       "\t<li>'False'</li>\n",
       "\t<li>'False'</li>\n",
       "\t<li>'False'</li>\n",
       "\t<li>'True'</li>\n",
       "\t<li>'False'</li>\n",
       "\t<li>'False'</li>\n",
       "\t<li>'False'</li>\n",
       "</ol>\n"
      ],
      "text/latex": [
       "\\begin{enumerate*}\n",
       "\\item 'True'\n",
       "\\item 'False'\n",
       "\\item 'False'\n",
       "\\item 'False'\n",
       "\\item 'True'\n",
       "\\item 'False'\n",
       "\\item 'False'\n",
       "\\item 'False'\n",
       "\\end{enumerate*}\n"
      ],
      "text/markdown": [
       "1. 'True'\n",
       "2. 'False'\n",
       "3. 'False'\n",
       "4. 'False'\n",
       "5. 'True'\n",
       "6. 'False'\n",
       "7. 'False'\n",
       "8. 'False'\n",
       "\n",
       "\n"
      ],
      "text/plain": [
       "[1] \"True\"  \"False\" \"False\" \"False\" \"True\"  \"False\" \"False\" \"False\""
      ]
     },
     "metadata": {},
     "output_type": "display_data"
    }
   ],
   "source": [
    "a <- c(1,0,0,0,1,0,0,0)\n",
    "b <- ifelse(a==1,\"True\", \"False\")\n",
    "b"
   ]
  },
  {
   "cell_type": "markdown",
   "metadata": {},
   "source": [
    "# User Defined Functions"
   ]
  },
  {
   "cell_type": "markdown",
   "metadata": {},
   "source": [
    "R functions are objects that evaluate multiple expressions using arguments that are passed to them. Typically an object is returned.\n",
    "\n",
    "Functions can be built and saved as function definitions in memory. They take input parameters and write output\n",
    "\n",
    "To declare a function\n",
    "\n",
    "`function name <- function(argument list) {\n",
    "                    body\n",
    "                    }`\n",
    "\n",
    "The `argument list` is a comma-separated list of formal argument names, some of them are mandatory, others are not. Those which are not mandatory usually are assumed to take a default value, which can be modified.\n",
    "\n",
    "Generally, the `body` is a group of R expressions contained in curly brackets {}. If the body is only one expression the curly brackets are optional.\n",
    "\n",
    "Functions are usually assigned names, but the names are optional. **Be careful with naming functions, could overwrite existing R functions!** \n",
    "\n",
    "Since a function is an object we can pass it as an argument to other functions just like any other object. "
   ]
  },
  {
   "cell_type": "code",
   "execution_count": 190,
   "metadata": {
    "collapsed": false
   },
   "outputs": [
    {
     "data": {
      "text/html": [
       "8"
      ],
      "text/latex": [
       "8"
      ],
      "text/markdown": [
       "8"
      ],
      "text/plain": [
       "[1] 8"
      ]
     },
     "metadata": {},
     "output_type": "display_data"
    }
   ],
   "source": [
    "computeSum <- function(x,y) {\n",
    "    x+y\n",
    "}\n",
    "\n",
    "computeSum(3,5)"
   ]
  },
  {
   "cell_type": "code",
   "execution_count": 191,
   "metadata": {
    "collapsed": false
   },
   "outputs": [
    {
     "name": "stdout",
     "output_type": "stream",
     "text": [
      "[1] \"non negativo\"\n"
     ]
    }
   ],
   "source": [
    "segno <- function(x){ \n",
    "    \n",
    "    if(x<0){ \n",
    "        print(\"negativo\") \n",
    "    }\n",
    "    \n",
    "    else { \n",
    "        print(\"non negativo\") \n",
    "    }\n",
    "    \n",
    "} \n",
    "\n",
    "segno(0) # chiamata di funzione"
   ]
  },
  {
   "cell_type": "code",
   "execution_count": 205,
   "metadata": {
    "collapsed": false
   },
   "outputs": [
    {
     "name": "stdout",
     "output_type": "stream",
     "text": [
      "Odds Ratio = 1.832054\n",
      "95% Confidence Interval = (1.440042, 2.33078)\n"
     ]
    }
   ],
   "source": [
    "# Calculate the odds ratio of a 2x2 table and the\n",
    "# asymptotic confidence interval for the odds ratio\n",
    "# Arguments: X = 2x2 matrix\n",
    "# conf.level = confidence level\n",
    "#----------------------------------------------------\n",
    "\n",
    "odds.ratio <- function(X, conf.level=.95) {\n",
    "    OR <- (X[1,1]*X[2,2])/(X[1,2]*X[2,1])\n",
    "    logOR.SE <- sqrt(sum(1/X))\n",
    "    alpha <- 1-conf.level\n",
    "    CI.lower <- exp(log(OR) - qnorm(1-alpha/2)*logOR.SE)\n",
    "    CI.upper <- exp(log(OR) + qnorm(1-alpha/2)*logOR.SE)\n",
    "    cat(\"Odds Ratio = \", OR, \"\\n\", conf.level*100, \"% Confidence Interval = (\", CI.lower, \", \", CI.upper, \")\\n\", sep=\"\")\n",
    "}\n",
    "\n",
    "X <- matrix(c(189, 104, 10845, 10933), \n",
    "            nrow=2, \n",
    "            dimnames=list(\"Treatment\"=c(\"Placebo\", \"Aspirin\"),\"Myocardial Infarction\"=c(\"Yes\", \"No\")))\n",
    "\n",
    "odds.ratio(X)"
   ]
  },
  {
   "cell_type": "code",
   "execution_count": 206,
   "metadata": {
    "collapsed": false
   },
   "outputs": [
    {
     "name": "stdout",
     "output_type": "stream",
     "text": [
      "Odds Ratio = 1.832054\n",
      "99% Confidence Interval = (1.335117, 2.513954)\n"
     ]
    }
   ],
   "source": [
    " odds.ratio(X, conf.level=0.99)"
   ]
  },
  {
   "cell_type": "code",
   "execution_count": null,
   "metadata": {
    "collapsed": true
   },
   "outputs": [],
   "source": [
    "#costruire alcune funzioni in R"
   ]
  },
  {
   "cell_type": "markdown",
   "metadata": {},
   "source": [
    "Often we will want a function to return an object that can be assigned.\n",
    "\n",
    "Two functions for returning objects are `return()` and `invisible()`. The `return()` function prints and returns its arguments. `invisible()` is similar to `return()`. This function is useful when we want a function to return values which can be assigned, but which do not print when they are not assigned.\n",
    "\n",
    "**Bear in mind a list is often a good tool for returning multiple objects**.\n",
    "\n",
    "You may find useful using `cat()` or `print()` to output text."
   ]
  },
  {
   "cell_type": "code",
   "execution_count": 207,
   "metadata": {
    "collapsed": false
   },
   "outputs": [
    {
     "data": {
      "text/html": [
       "10"
      ],
      "text/latex": [
       "10"
      ],
      "text/markdown": [
       "10"
      ],
      "text/plain": [
       "[1] 10"
      ]
     },
     "metadata": {},
     "output_type": "display_data"
    }
   ],
   "source": [
    "funz <- function ( x, y = 2, z = 3 ) {\n",
    "    return(x+y+z) \n",
    "}\n",
    "\n",
    "funz(5)"
   ]
  },
  {
   "cell_type": "code",
   "execution_count": 210,
   "metadata": {
    "collapsed": false
   },
   "outputs": [
    {
     "data": {
      "text/html": [
       "<ol class=list-inline>\n",
       "\t<li>'a'</li>\n",
       "\t<li>'A'</li>\n",
       "\t<li>'a1'</li>\n",
       "\t<li>'b'</li>\n",
       "\t<li>'bdays'</li>\n",
       "\t<li>'boolean'</li>\n",
       "\t<li>'clienti'</li>\n",
       "\t<li>'computeSum'</li>\n",
       "\t<li>'df1'</li>\n",
       "\t<li>'df2'</li>\n",
       "\t<li>'df3'</li>\n",
       "\t<li>'df4'</li>\n",
       "\t<li>'f'</li>\n",
       "\t<li>'f2'</li>\n",
       "\t<li>'funz'</li>\n",
       "\t<li>'i'</li>\n",
       "\t<li>'l'</li>\n",
       "\t<li>'L'</li>\n",
       "\t<li>'m'</li>\n",
       "\t<li>'mat'</li>\n",
       "\t<li>'mediacolonne'</li>\n",
       "\t<li>'my.airquality'</li>\n",
       "\t<li>'mybool'</li>\n",
       "\t<li>'mystring'</li>\n",
       "\t<li>'n'</li>\n",
       "\t<li>'N'</li>\n",
       "\t<li>'ncolonne'</li>\n",
       "\t<li>'nrighe'</li>\n",
       "\t<li>'nwbuilding'</li>\n",
       "\t<li>'odds.ratio'</li>\n",
       "\t<li>'segno'</li>\n",
       "\t<li>'string'</li>\n",
       "\t<li>'strings'</li>\n",
       "\t<li>'tm1'</li>\n",
       "\t<li>'tm1.c'</li>\n",
       "\t<li>'tm1.lt'</li>\n",
       "\t<li>'tm2'</li>\n",
       "\t<li>'tm2.c'</li>\n",
       "\t<li>'tm3'</li>\n",
       "\t<li>'v'</li>\n",
       "\t<li>'w'</li>\n",
       "\t<li>'x'</li>\n",
       "\t<li>'X'</li>\n",
       "\t<li>'y'</li>\n",
       "\t<li>'z'</li>\n",
       "</ol>\n"
      ],
      "text/latex": [
       "\\begin{enumerate*}\n",
       "\\item 'a'\n",
       "\\item 'A'\n",
       "\\item 'a1'\n",
       "\\item 'b'\n",
       "\\item 'bdays'\n",
       "\\item 'boolean'\n",
       "\\item 'clienti'\n",
       "\\item 'computeSum'\n",
       "\\item 'df1'\n",
       "\\item 'df2'\n",
       "\\item 'df3'\n",
       "\\item 'df4'\n",
       "\\item 'f'\n",
       "\\item 'f2'\n",
       "\\item 'funz'\n",
       "\\item 'i'\n",
       "\\item 'l'\n",
       "\\item 'L'\n",
       "\\item 'm'\n",
       "\\item 'mat'\n",
       "\\item 'mediacolonne'\n",
       "\\item 'my.airquality'\n",
       "\\item 'mybool'\n",
       "\\item 'mystring'\n",
       "\\item 'n'\n",
       "\\item 'N'\n",
       "\\item 'ncolonne'\n",
       "\\item 'nrighe'\n",
       "\\item 'nwbuilding'\n",
       "\\item 'odds.ratio'\n",
       "\\item 'segno'\n",
       "\\item 'string'\n",
       "\\item 'strings'\n",
       "\\item 'tm1'\n",
       "\\item 'tm1.c'\n",
       "\\item 'tm1.lt'\n",
       "\\item 'tm2'\n",
       "\\item 'tm2.c'\n",
       "\\item 'tm3'\n",
       "\\item 'v'\n",
       "\\item 'w'\n",
       "\\item 'x'\n",
       "\\item 'X'\n",
       "\\item 'y'\n",
       "\\item 'z'\n",
       "\\end{enumerate*}\n"
      ],
      "text/markdown": [
       "1. 'a'\n",
       "2. 'A'\n",
       "3. 'a1'\n",
       "4. 'b'\n",
       "5. 'bdays'\n",
       "6. 'boolean'\n",
       "7. 'clienti'\n",
       "8. 'computeSum'\n",
       "9. 'df1'\n",
       "10. 'df2'\n",
       "11. 'df3'\n",
       "12. 'df4'\n",
       "13. 'f'\n",
       "14. 'f2'\n",
       "15. 'funz'\n",
       "16. 'i'\n",
       "17. 'l'\n",
       "18. 'L'\n",
       "19. 'm'\n",
       "20. 'mat'\n",
       "21. 'mediacolonne'\n",
       "22. 'my.airquality'\n",
       "23. 'mybool'\n",
       "24. 'mystring'\n",
       "25. 'n'\n",
       "26. 'N'\n",
       "27. 'ncolonne'\n",
       "28. 'nrighe'\n",
       "29. 'nwbuilding'\n",
       "30. 'odds.ratio'\n",
       "31. 'segno'\n",
       "32. 'string'\n",
       "33. 'strings'\n",
       "34. 'tm1'\n",
       "35. 'tm1.c'\n",
       "36. 'tm1.lt'\n",
       "37. 'tm2'\n",
       "38. 'tm2.c'\n",
       "39. 'tm3'\n",
       "40. 'v'\n",
       "41. 'w'\n",
       "42. 'x'\n",
       "43. 'X'\n",
       "44. 'y'\n",
       "45. 'z'\n",
       "\n",
       "\n"
      ],
      "text/plain": [
       " [1] \"a\"             \"A\"             \"a1\"            \"b\"            \n",
       " [5] \"bdays\"         \"boolean\"       \"clienti\"       \"computeSum\"   \n",
       " [9] \"df1\"           \"df2\"           \"df3\"           \"df4\"          \n",
       "[13] \"f\"             \"f2\"            \"funz\"          \"i\"            \n",
       "[17] \"l\"             \"L\"             \"m\"             \"mat\"          \n",
       "[21] \"mediacolonne\"  \"my.airquality\" \"mybool\"        \"mystring\"     \n",
       "[25] \"n\"             \"N\"             \"ncolonne\"      \"nrighe\"       \n",
       "[29] \"nwbuilding\"    \"odds.ratio\"    \"segno\"         \"string\"       \n",
       "[33] \"strings\"       \"tm1\"           \"tm1.c\"         \"tm1.lt\"       \n",
       "[37] \"tm2\"           \"tm2.c\"         \"tm3\"           \"v\"            \n",
       "[41] \"w\"             \"x\"             \"X\"             \"y\"            \n",
       "[45] \"z\"            "
      ]
     },
     "metadata": {},
     "output_type": "display_data"
    }
   ],
   "source": [
    "funz <- function ( x, y = 2, z = 3 ) {\n",
    "    invisible(x+y+z) \n",
    "}\n",
    "\n",
    "funz(5)\n",
    "ls()\n"
   ]
  },
  {
   "cell_type": "code",
   "execution_count": 217,
   "metadata": {
    "collapsed": false
   },
   "outputs": [
    {
     "name": "stdout",
     "output_type": "stream",
     "text": [
      "Odds Ratio = 1.832054\n",
      "95% Confidence Interval = (1.440042, 2.33078)\n"
     ]
    },
    {
     "data": {
      "text/html": [
       "<dl>\n",
       "\t<dt>$OR</dt>\n",
       "\t\t<dd>1.83205394190871</dd>\n",
       "\t<dt>$CI</dt>\n",
       "\t\t<dd><ol class=list-inline>\n",
       "\t<li>1.44004239184862</li>\n",
       "\t<li>2.33077975000064</li>\n",
       "</ol>\n",
       "</dd>\n",
       "\t<dt>$conf.level</dt>\n",
       "\t\t<dd>0.95</dd>\n",
       "</dl>\n"
      ],
      "text/latex": [
       "\\begin{description}\n",
       "\\item[\\$OR] 1.83205394190871\n",
       "\\item[\\$CI] \\begin{enumerate*}\n",
       "\\item 1.44004239184862\n",
       "\\item 2.33077975000064\n",
       "\\end{enumerate*}\n",
       "\n",
       "\\item[\\$conf.level] 0.95\n",
       "\\end{description}\n"
      ],
      "text/markdown": [
       "$OR\n",
       ":   1.83205394190871\n",
       "$CI\n",
       ":   1. 1.44004239184862\n",
       "2. 2.33077975000064\n",
       "\n",
       "\n",
       "\n",
       "$conf.level\n",
       ":   0.95\n",
       "\n",
       "\n"
      ],
      "text/plain": [
       "$OR\n",
       "[1] 1.832054\n",
       "\n",
       "$CI\n",
       "[1] 1.440042 2.330780\n",
       "\n",
       "$conf.level\n",
       "[1] 0.95\n"
      ]
     },
     "metadata": {},
     "output_type": "display_data"
    },
    {
     "name": "stdout",
     "output_type": "stream",
     "text": [
      "Odds Ratio = 1.832054\n",
      "95% Confidence Interval = (1.440042, 2.33078)\n"
     ]
    }
   ],
   "source": [
    "odds.ratio <- function(X, conf.level=.95) {\n",
    "    OR <- (X[1,1]*X[2,2])/(X[1,2]*X[2,1])\n",
    "    logOR.SE <- sqrt(sum(1/X))\n",
    "    alpha <- 1-conf.level\n",
    "    CI.lower <- exp(log(OR) - qnorm(1-alpha/2)*logOR.SE)\n",
    "    CI.upper <- exp(log(OR) + qnorm(1-alpha/2)*logOR.SE)\n",
    "    \n",
    "    cat(\"Odds Ratio = \", OR, \"\\n\",\n",
    "        conf.level*100, \"% Confidence Interval = (\",\n",
    "        CI.lower, \", \", CI.upper, \")\\n\", sep=\"\")\n",
    "\n",
    "    # Different approaches for returning results...try all of them\n",
    "    #OR\n",
    "    #return(OR)\n",
    "    #invisible(OR)\n",
    "    out <- list(OR=OR, CI=c(CI.lower, CI.upper), conf.level=conf.level)\n",
    "    return(out)\n",
    "}\n",
    "\n",
    "# Unassigned and assigned function results\n",
    "odds.ratio(X)\n",
    "myOR <- odds.ratio(X)"
   ]
  },
  {
   "cell_type": "markdown",
   "metadata": {},
   "source": [
    "**Scope od a variable**. When objects are created, they are assigned to an environment. \n",
    "\n",
    "Environments are hierarchical, the top-level is called the global environment. Objects assigned by the user during an R session are placed in the global environment.\n",
    "\n",
    "Assignments within the body of a function use a different environment that is created just for that function.\n",
    "\n",
    "When an object is evaluated within a function, R first looks locally within the function and its arguments for the object. If R cannot find the name of the object locally it looks in the parent environment, this will almost always\n",
    "be the global environment.\n",
    "\n",
    "Therefore an object within a function can have the same name as an object in the global environment; because R will choose to use the object defined in the local environment.\n",
    "\n",
    "The bottom line is that objects defined in the global environment are also accessible by a function. However, objects defined within a function are not accessible from the global environment."
   ]
  },
  {
   "cell_type": "markdown",
   "metadata": {},
   "source": [
    "**Input errors management**. If you are writing a function for others to use it is often a good idea to include code that verifies that the appropriate arguments were entered.\n",
    "\n",
    "If an argument value is not valid we want to stop executing the expression and return an error message.\n",
    "- `missing()` Can be used to test whether a value was specified as an argument to a function; returns TRUE if a value is not specified and FALSE if a value is specified.\n",
    "- `stop()` Stop execution of the current expression and prints an error message\n",
    "- `warning()` Generate a warning message\n",
    "- `message()` Generate a diagnostic message\n",
    "- `stopifnot()` If any of the arguments are not all TRUE then `stop()` is called and an error message is produced that indicates the first element of the argument list that is not TRUE.\n",
    "- `stop()` allows us to provide an informative error message, while `stopifnot()` requires less code."
   ]
  },
  {
   "cell_type": "code",
   "execution_count": 218,
   "metadata": {
    "collapsed": false
   },
   "outputs": [
    {
     "name": "stdout",
     "output_type": "stream",
     "text": [
      "Odds Ratio = 1.832054\n",
      "95% Confidence Interval = (1.440042, 2.33078)\n"
     ]
    }
   ],
   "source": [
    "# Calculate the odds ratio (OR) of a 2x2 table and the asymptotic\n",
    "# confidence interval (CI) for the OR.\n",
    "# Arguments: X = 2x2 matrix; conf.level = confidence level\n",
    "# Output: Prints OR and CI to console and returns a list, invisibly\n",
    "#------------------------------------------------------------------\n",
    "odds.ratio <- function(X, conf.level=.95) {\n",
    "    # Verify Arguments\n",
    "    stopifnot(!missing(X), is.matrix(X), dim(X)==c(2,2), X>0) \n",
    "    # Print warning message if any expected cell count < 5 \n",
    "    exp.count <- (apply(X, 1, sum) %o% apply(X, 2, sum))/sum(X) \n",
    "    if(any(exp.count < 5)) warning(\"Expected cell count < 5\") \n",
    "        # Calculate odds ratio and asymptotic confidence interval \n",
    "        OR <- (X[1,1]*X[2,2])/(X[1,2]*X[2,1]) \n",
    "        logOR.SE <- sqrt(sum(1/X)) \n",
    "        alpha <- 1-conf.level \n",
    "        CI.lower <- exp(log(OR) - qnorm(1-alpha/2)*logOR.SE) \n",
    "        CI.upper <- exp(log(OR) + qnorm(1-alpha/2)*logOR.SE) \n",
    "        # Format and return results \n",
    "        cat(\"Odds Ratio = \", OR, \"\\n\",\n",
    "            conf.level*100, \"% Confidence Interval = (\",\n",
    "            CI.lower, \", \", CI.upper, \")\\n\", sep=\"\")\n",
    "        out <- list(OR=OR, CI=c(CI.lower, CI.upper), conf.level=conf.level)\n",
    "        invisible(out)\n",
    "}\n",
    "\n",
    "odds.ratio(X)"
   ]
  },
  {
   "cell_type": "code",
   "execution_count": 220,
   "metadata": {
    "collapsed": false
   },
   "outputs": [
    {
     "ename": "ERROR",
     "evalue": "Error: dim(X) == c(2, 2) are not all TRUE\n",
     "output_type": "error",
     "traceback": [
      "Error: dim(X) == c(2, 2) are not all TRUE\nTraceback:\n",
      "1. odds.ratio(Z)",
      "2. stopifnot(!missing(X), is.matrix(X), dim(X) == c(2, 2), X > 0)   # at line 8 of file <text>",
      "3. stop(sprintf(ngettext(length(r), \"%s is not TRUE\", \"%s are not all TRUE\"), \n .     ch), call. = FALSE, domain = NA)"
     ]
    }
   ],
   "source": [
    "Z <- matrix(c(189, 104, 10845, 10933, 500, 800, 900, 900, 900), \n",
    "            nrow=3)\n",
    "odds.ratio(Z)"
   ]
  },
  {
   "cell_type": "markdown",
   "metadata": {},
   "source": [
    "# Statistical Functions\n",
    "R has several built-in statistical distributions. For each distribution four\n",
    "functions are available,\n",
    "r Random number generator\n",
    "d Density function\n",
    "p Cumulative distribution function\n",
    "q Quantile function\n",
    "\u0004 Each letter can be added as a prefix to any of the R distribution names.\n",
    "R Distribution R Distribution\n",
    "beta Beta logis Logistic\n",
    "binom Binomial nbinom Negative binomial\n",
    "cauchy Cauchy norm Normal\n",
    "exp Exponential pois Poisson\n",
    "chisq Chi-Square signrank Wilcoxon signed rank statistic\n",
    "f Fisher’s F t Student’s t\n",
    "gamma Gamma unif Uniform\n",
    "geom Geometric weibull Weibull\n",
    "hyper Hypergeometric wilcox Wilcoxon rank sum\n",
    "lnorm Lognormal"
   ]
  },
  {
   "cell_type": "code",
   "execution_count": 203,
   "metadata": {
    "collapsed": false
   },
   "outputs": [
    {
     "data": {
      "text/html": [
       "0.0584409443334515"
      ],
      "text/latex": [
       "0.0584409443334515"
      ],
      "text/markdown": [
       "0.0584409443334515"
      ],
      "text/plain": [
       "[1] 0.05844094"
      ]
     },
     "metadata": {},
     "output_type": "display_data"
    },
    {
     "data": {
      "text/html": [
       "0.97500210485178"
      ],
      "text/latex": [
       "0.97500210485178"
      ],
      "text/markdown": [
       "0.97500210485178"
      ],
      "text/plain": [
       "[1] 0.9750021"
      ]
     },
     "metadata": {},
     "output_type": "display_data"
    },
    {
     "data": {
      "text/html": [
       "0.0249978951482204"
      ],
      "text/latex": [
       "0.0249978951482204"
      ],
      "text/markdown": [
       "0.0249978951482204"
      ],
      "text/plain": [
       "[1] 0.0249979"
      ]
     },
     "metadata": {},
     "output_type": "display_data"
    },
    {
     "data": {
      "text/html": [
       "1.95996398454005"
      ],
      "text/latex": [
       "1.95996398454005"
      ],
      "text/markdown": [
       "1.95996398454005"
      ],
      "text/plain": [
       "[1] 1.959964"
      ]
     },
     "metadata": {},
     "output_type": "display_data"
    },
    {
     "data": {
      "text/html": [
       "<ol class=list-inline>\n",
       "\t<li>-0.669861678787154</li>\n",
       "\t<li>1.20519161289059</li>\n",
       "\t<li>1.47949263847889</li>\n",
       "\t<li>0.627885604474749</li>\n",
       "\t<li>-0.351665382557649</li>\n",
       "</ol>\n"
      ],
      "text/latex": [
       "\\begin{enumerate*}\n",
       "\\item -0.669861678787154\n",
       "\\item 1.20519161289059\n",
       "\\item 1.47949263847889\n",
       "\\item 0.627885604474749\n",
       "\\item -0.351665382557649\n",
       "\\end{enumerate*}\n"
      ],
      "text/markdown": [
       "1. -0.669861678787154\n",
       "2. 1.20519161289059\n",
       "3. 1.47949263847889\n",
       "4. 0.627885604474749\n",
       "5. -0.351665382557649\n",
       "\n",
       "\n"
      ],
      "text/plain": [
       "[1] -0.6698617  1.2051916  1.4794926  0.6278856 -0.3516654"
      ]
     },
     "metadata": {},
     "output_type": "display_data"
    }
   ],
   "source": [
    "dnorm(1.96, mean=0, sd=1) # Density\n",
    "\n",
    "pnorm(1.96, mean=0, sd=1) # Distribution (lower tail)\n",
    "\n",
    "pnorm(1.96, mean=0, sd=1, lower.tail=FALSE) # Distribution (upper tail)\n",
    "\n",
    "qnorm(0.975, mean=0, sd=1) # Quantile\n",
    "\n",
    "rnorm(5, mean=0, sd=1) # Random Number\n"
   ]
  },
  {
   "cell_type": "markdown",
   "metadata": {},
   "source": [
    "# Georeferenced Data"
   ]
  },
  {
   "cell_type": "markdown",
   "metadata": {
    "collapsed": true
   },
   "source": []
  },
  {
   "cell_type": "code",
   "execution_count": 38,
   "metadata": {
    "collapsed": false
   },
   "outputs": [
    {
     "name": "stderr",
     "output_type": "stream",
     "text": [
      "Loading required package: ggmap\n",
      "Warning message in library(package, lib.loc = lib.loc, character.only = TRUE, logical.return = TRUE, :\n",
      "\"there is no package called 'ggmap'\"also installing the dependencies 'maps', 'sp', 'proto', 'RgoogleMaps', 'png', 'rjson', 'mapproj', 'jpeg', 'geosphere'\n",
      "\n"
     ]
    },
    {
     "name": "stdout",
     "output_type": "stream",
     "text": [
      "package 'maps' successfully unpacked and MD5 sums checked\n",
      "package 'sp' successfully unpacked and MD5 sums checked\n",
      "package 'proto' successfully unpacked and MD5 sums checked\n",
      "package 'RgoogleMaps' successfully unpacked and MD5 sums checked\n",
      "package 'png' successfully unpacked and MD5 sums checked\n",
      "package 'rjson' successfully unpacked and MD5 sums checked\n",
      "package 'mapproj' successfully unpacked and MD5 sums checked\n",
      "package 'jpeg' successfully unpacked and MD5 sums checked\n",
      "package 'geosphere' successfully unpacked and MD5 sums checked\n",
      "package 'ggmap' successfully unpacked and MD5 sums checked\n",
      "\n",
      "The downloaded binary packages are in\n",
      "\tC:\\Users\\t000524\\AppData\\Local\\Temp\\RtmpucOHJe\\downloaded_packages\n"
     ]
    }
   ],
   "source": [
    "if(!require(ggmap)) install.packages(\"ggmap\", repos = \"http://cran.r-project.org\")"
   ]
  },
  {
   "cell_type": "code",
   "execution_count": 39,
   "metadata": {
    "collapsed": false
   },
   "outputs": [
    {
     "name": "stderr",
     "output_type": "stream",
     "text": [
      "Warning message:\n",
      "\"package 'ggmap' was built under R version 3.3.3\"Loading required package: ggplot2\n"
     ]
    }
   ],
   "source": [
    "library(ggmap)"
   ]
  },
  {
   "cell_type": "code",
   "execution_count": 42,
   "metadata": {
    "collapsed": false
   },
   "outputs": [
    {
     "name": "stderr",
     "output_type": "stream",
     "text": [
      "Information from URL : http://maps.googleapis.com/maps/api/geocode/json?address=Via%20Laura%2048,%2050124%20Firenze&sensor=false\n"
     ]
    }
   ],
   "source": [
    "nwbuilding <- geocode(\"Via Laura 48, 50124 Firenze\", source = \"google\")"
   ]
  },
  {
   "cell_type": "code",
   "execution_count": 43,
   "metadata": {
    "collapsed": false
   },
   "outputs": [
    {
     "name": "stderr",
     "output_type": "stream",
     "text": [
      "Map from URL : http://maps.googleapis.com/maps/api/staticmap?center=Firenze,+IT&zoom=15&size=640x640&scale=2&maptype=terrain&language=en-EN&sensor=false\n",
      "Information from URL : http://maps.googleapis.com/maps/api/geocode/json?address=Firenze,%20IT&sensor=false\n"
     ]
    },
    {
     "ename": "ERROR",
     "evalue": "Error in as.vector(y): attempt to apply non-function\n",
     "output_type": "error",
     "traceback": [
      "Error in as.vector(y): attempt to apply non-function\nTraceback:\n",
      "1. ggmap(get_map(\"Firenze, IT\", zoom = 15))",
      "2. inset_raster(ggmap, xmin, xmax, ymin, ymax)",
      "3. layer(data = NULL, mapping = NULL, stat = ggplot2::StatIdentity, \n .     position = ggplot2::PositionIdentity, geom = GeomRasterAnn, \n .     inherit.aes = TRUE, params = list(raster = raster, xmin = xmin, \n .         xmax = xmax, ymin = ymin, ymax = ymax, interpolate = interpolate))",
      "4. intersect(names(params), geom$aesthetics())",
      "5. as.vector(y)"
     ]
    }
   ],
   "source": [
    "ggmap(get_map(\"Firenze, IT\", zoom = 15)) +\n",
    "  geom_point(data=nwbuilding, size = 7, shape = 13, color = \"red\")"
   ]
  },
  {
   "cell_type": "code",
   "execution_count": 44,
   "metadata": {
    "collapsed": false
   },
   "outputs": [
    {
     "name": "stderr",
     "output_type": "stream",
     "text": [
      "Map from URL : http://maps.googleapis.com/maps/api/staticmap?center=boston+university&zoom=10&size=640x640&scale=2&maptype=terrain&language=en-EN&sensor=false\n",
      "Information from URL : http://maps.googleapis.com/maps/api/geocode/json?address=boston%20university&sensor=false\n"
     ]
    },
    {
     "ename": "ERROR",
     "evalue": "Error in as.vector(y): attempt to apply non-function\n",
     "output_type": "error",
     "traceback": [
      "Error in as.vector(y): attempt to apply non-function\nTraceback:\n",
      "1. qmap(location = \"boston university\")",
      "2. ggmap(get_map(location = location, zoom = zoom, scale = scale, \n .     source = source, color = color, maptype = maptype, language = language, \n .     api_key = api_key, force = force), maprange = maprange, extent = extent, \n .     base_layer = base_layer, legend = legend, padding = padding, \n .     darken = darken)",
      "3. inset_raster(ggmap, xmin, xmax, ymin, ymax)",
      "4. layer(data = NULL, mapping = NULL, stat = ggplot2::StatIdentity, \n .     position = ggplot2::PositionIdentity, geom = GeomRasterAnn, \n .     inherit.aes = TRUE, params = list(raster = raster, xmin = xmin, \n .         xmax = xmax, ymin = ymin, ymax = ymax, interpolate = interpolate))",
      "5. intersect(names(params), geom$aesthetics())",
      "6. as.vector(y)"
     ]
    }
   ],
   "source": [
    "qmap(location = \"boston university\") "
   ]
  },
  {
   "cell_type": "code",
   "execution_count": 45,
   "metadata": {
    "collapsed": false
   },
   "outputs": [
    {
     "name": "stderr",
     "output_type": "stream",
     "text": [
      "Map from URL : http://maps.googleapis.com/maps/api/staticmap?center=Firenze,+IT&zoom=15&size=640x640&scale=2&maptype=terrain&language=en-EN&sensor=false\n",
      "Information from URL : http://maps.googleapis.com/maps/api/geocode/json?address=Firenze,%20IT&sensor=false\n"
     ]
    },
    {
     "ename": "ERROR",
     "evalue": "Error in as.vector(y): attempt to apply non-function\n",
     "output_type": "error",
     "traceback": [
      "Error in as.vector(y): attempt to apply non-function\nTraceback:\n",
      "1. ggmap(get_map(\"Firenze, IT\", zoom = 15))",
      "2. inset_raster(ggmap, xmin, xmax, ymin, ymax)",
      "3. layer(data = NULL, mapping = NULL, stat = ggplot2::StatIdentity, \n .     position = ggplot2::PositionIdentity, geom = GeomRasterAnn, \n .     inherit.aes = TRUE, params = list(raster = raster, xmin = xmin, \n .         xmax = xmax, ymin = ymin, ymax = ymax, interpolate = interpolate))",
      "4. intersect(names(params), geom$aesthetics())",
      "5. as.vector(y)"
     ]
    }
   ],
   "source": [
    "ggmap(get_map(\"Firenze, IT\", zoom = 15))"
   ]
  },
  {
   "cell_type": "code",
   "execution_count": null,
   "metadata": {
    "collapsed": true
   },
   "outputs": [],
   "source": []
  },
  {
   "cell_type": "code",
   "execution_count": null,
   "metadata": {
    "collapsed": true
   },
   "outputs": [],
   "source": []
  }
 ],
 "metadata": {
  "kernelspec": {
   "display_name": "R",
   "language": "R",
   "name": "ir"
  },
  "language_info": {
   "codemirror_mode": "r",
   "file_extension": ".r",
   "mimetype": "text/x-r-source",
   "name": "R",
   "pygments_lexer": "r",
   "version": "3.3.1"
  }
 },
 "nbformat": 4,
 "nbformat_minor": 0
}
